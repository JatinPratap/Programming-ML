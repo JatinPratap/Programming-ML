{
 "cells": [
  {
   "attachments": {},
   "cell_type": "markdown",
   "metadata": {},
   "source": [
    "We use Spacy for large text, it is very light weight. It supports lot of languages "
   ]
  },
  {
   "cell_type": "code",
   "execution_count": 17,
   "metadata": {},
   "outputs": [
    {
     "name": "stdout",
     "output_type": "stream",
     "text": [
      "Collecting en-core-web-sm==3.5.0\n",
      "  Downloading https://github.com/explosion/spacy-models/releases/download/en_core_web_sm-3.5.0/en_core_web_sm-3.5.0-py3-none-any.whl (12.8 MB)\n",
      "     ---------------------------------------- 0.0/12.8 MB ? eta -:--:--\n",
      "     ---------------------------------------- 0.0/12.8 MB 1.3 MB/s eta 0:00:10\n",
      "     ---------------------------------------- 0.1/12.8 MB 1.6 MB/s eta 0:00:09\n",
      "      --------------------------------------- 0.2/12.8 MB 1.8 MB/s eta 0:00:07\n",
      "     - -------------------------------------- 0.6/12.8 MB 3.3 MB/s eta 0:00:04\n",
      "     -- ------------------------------------- 0.7/12.8 MB 3.2 MB/s eta 0:00:04\n",
      "     --- ------------------------------------ 1.0/12.8 MB 3.7 MB/s eta 0:00:04\n",
      "     --- ------------------------------------ 1.2/12.8 MB 3.9 MB/s eta 0:00:03\n",
      "     ---- ----------------------------------- 1.4/12.8 MB 3.8 MB/s eta 0:00:03\n",
      "     ---- ----------------------------------- 1.6/12.8 MB 3.9 MB/s eta 0:00:03\n",
      "     ----- ---------------------------------- 1.8/12.8 MB 4.0 MB/s eta 0:00:03\n",
      "     ----- ---------------------------------- 1.9/12.8 MB 3.9 MB/s eta 0:00:03\n",
      "     ------ --------------------------------- 2.0/12.8 MB 3.7 MB/s eta 0:00:03\n",
      "     ------- -------------------------------- 2.3/12.8 MB 3.8 MB/s eta 0:00:03\n",
      "     ------- -------------------------------- 2.4/12.8 MB 3.7 MB/s eta 0:00:03\n",
      "     -------- ------------------------------- 2.7/12.8 MB 3.9 MB/s eta 0:00:03\n",
      "     -------- ------------------------------- 2.8/12.8 MB 3.8 MB/s eta 0:00:03\n",
      "     --------- ------------------------------ 3.0/12.8 MB 3.8 MB/s eta 0:00:03\n",
      "     --------- ------------------------------ 3.1/12.8 MB 3.8 MB/s eta 0:00:03\n",
      "     ---------- ----------------------------- 3.3/12.8 MB 3.8 MB/s eta 0:00:03\n",
      "     ----------- ---------------------------- 3.6/12.8 MB 3.8 MB/s eta 0:00:03\n",
      "     ----------- ---------------------------- 3.6/12.8 MB 3.8 MB/s eta 0:00:03\n",
      "     ----------- ---------------------------- 3.8/12.8 MB 3.8 MB/s eta 0:00:03\n",
      "     ------------ --------------------------- 4.0/12.8 MB 3.8 MB/s eta 0:00:03\n",
      "     ------------ --------------------------- 4.1/12.8 MB 3.7 MB/s eta 0:00:03\n",
      "     ------------- -------------------------- 4.3/12.8 MB 3.7 MB/s eta 0:00:03\n",
      "     -------------- ------------------------- 4.5/12.8 MB 3.8 MB/s eta 0:00:03\n",
      "     -------------- ------------------------- 4.7/12.8 MB 3.8 MB/s eta 0:00:03\n",
      "     --------------- ------------------------ 5.0/12.8 MB 3.8 MB/s eta 0:00:03\n",
      "     --------------- ------------------------ 5.1/12.8 MB 3.8 MB/s eta 0:00:03\n",
      "     ---------------- ----------------------- 5.3/12.8 MB 3.8 MB/s eta 0:00:02\n",
      "     ---------------- ----------------------- 5.4/12.8 MB 3.7 MB/s eta 0:00:02\n",
      "     ----------------- ---------------------- 5.6/12.8 MB 3.8 MB/s eta 0:00:02\n",
      "     ----------------- ---------------------- 5.7/12.8 MB 3.8 MB/s eta 0:00:02\n",
      "     ------------------ --------------------- 6.0/12.8 MB 3.8 MB/s eta 0:00:02\n",
      "     ------------------- -------------------- 6.2/12.8 MB 3.9 MB/s eta 0:00:02\n",
      "     -------------------- ------------------- 6.4/12.8 MB 3.9 MB/s eta 0:00:02\n",
      "     -------------------- ------------------- 6.6/12.8 MB 3.9 MB/s eta 0:00:02\n",
      "     --------------------- ------------------ 6.8/12.8 MB 3.9 MB/s eta 0:00:02\n",
      "     --------------------- ------------------ 6.9/12.8 MB 3.9 MB/s eta 0:00:02\n",
      "     ---------------------- ----------------- 7.1/12.8 MB 3.9 MB/s eta 0:00:02\n",
      "     ----------------------- ---------------- 7.4/12.8 MB 3.9 MB/s eta 0:00:02\n",
      "     ----------------------- ---------------- 7.5/12.8 MB 3.9 MB/s eta 0:00:02\n",
      "     ----------------------- ---------------- 7.7/12.8 MB 3.9 MB/s eta 0:00:02\n",
      "     ------------------------ --------------- 7.8/12.8 MB 3.9 MB/s eta 0:00:02\n",
      "     ------------------------- -------------- 8.3/12.8 MB 4.0 MB/s eta 0:00:02\n",
      "     -------------------------- ------------- 8.4/12.8 MB 3.9 MB/s eta 0:00:02\n",
      "     -------------------------- ------------- 8.6/12.8 MB 3.9 MB/s eta 0:00:02\n",
      "     --------------------------- ------------ 8.7/12.8 MB 3.9 MB/s eta 0:00:02\n",
      "     --------------------------- ------------ 8.9/12.8 MB 3.9 MB/s eta 0:00:01\n",
      "     ---------------------------- ----------- 9.1/12.8 MB 3.9 MB/s eta 0:00:01\n",
      "     ----------------------------- ---------- 9.4/12.8 MB 4.0 MB/s eta 0:00:01\n",
      "     ------------------------------ --------- 9.6/12.8 MB 4.0 MB/s eta 0:00:01\n",
      "     ------------------------------ --------- 9.8/12.8 MB 4.0 MB/s eta 0:00:01\n",
      "     ------------------------------- -------- 9.9/12.8 MB 4.0 MB/s eta 0:00:01\n",
      "     ------------------------------- -------- 10.1/12.8 MB 4.0 MB/s eta 0:00:01\n",
      "     ------------------------------- -------- 10.2/12.8 MB 3.9 MB/s eta 0:00:01\n",
      "     -------------------------------- ------- 10.4/12.8 MB 4.1 MB/s eta 0:00:01\n",
      "     -------------------------------- ------- 10.5/12.8 MB 4.0 MB/s eta 0:00:01\n",
      "     --------------------------------- ------ 10.8/12.8 MB 4.0 MB/s eta 0:00:01\n",
      "     ---------------------------------- ----- 11.0/12.8 MB 4.0 MB/s eta 0:00:01\n",
      "     ----------------------------------- ---- 11.3/12.8 MB 4.0 MB/s eta 0:00:01\n",
      "     ------------------------------------ --- 11.6/12.8 MB 4.1 MB/s eta 0:00:01\n",
      "     ------------------------------------ --- 11.8/12.8 MB 4.1 MB/s eta 0:00:01\n",
      "     ------------------------------------- -- 12.2/12.8 MB 4.2 MB/s eta 0:00:01\n",
      "     -------------------------------------- - 12.3/12.8 MB 4.2 MB/s eta 0:00:01\n",
      "     ---------------------------------------  12.6/12.8 MB 4.3 MB/s eta 0:00:01\n",
      "     ---------------------------------------  12.8/12.8 MB 4.2 MB/s eta 0:00:01\n",
      "     ---------------------------------------  12.8/12.8 MB 4.2 MB/s eta 0:00:01\n",
      "     ---------------------------------------- 12.8/12.8 MB 4.1 MB/s eta 0:00:00\n",
      "Requirement already satisfied: spacy<3.6.0,>=3.5.0 in c:\\users\\jatin\\appdata\\local\\programs\\python\\python310\\lib\\site-packages (from en-core-web-sm==3.5.0) (3.5.3)\n",
      "Requirement already satisfied: preshed<3.1.0,>=3.0.2 in c:\\users\\jatin\\appdata\\local\\programs\\python\\python310\\lib\\site-packages (from spacy<3.6.0,>=3.5.0->en-core-web-sm==3.5.0) (3.0.8)\n",
      "Requirement already satisfied: pydantic!=1.8,!=1.8.1,<1.11.0,>=1.7.4 in c:\\users\\jatin\\appdata\\local\\programs\\python\\python310\\lib\\site-packages (from spacy<3.6.0,>=3.5.0->en-core-web-sm==3.5.0) (1.10.9)\n",
      "Requirement already satisfied: spacy-loggers<2.0.0,>=1.0.0 in c:\\users\\jatin\\appdata\\local\\programs\\python\\python310\\lib\\site-packages (from spacy<3.6.0,>=3.5.0->en-core-web-sm==3.5.0) (1.0.4)\n",
      "Requirement already satisfied: pathy>=0.10.0 in c:\\users\\jatin\\appdata\\local\\programs\\python\\python310\\lib\\site-packages (from spacy<3.6.0,>=3.5.0->en-core-web-sm==3.5.0) (0.10.1)\n",
      "Requirement already satisfied: smart-open<7.0.0,>=5.2.1 in c:\\users\\jatin\\appdata\\local\\programs\\python\\python310\\lib\\site-packages (from spacy<3.6.0,>=3.5.0->en-core-web-sm==3.5.0) (6.3.0)\n",
      "Requirement already satisfied: wasabi<1.2.0,>=0.9.1 in c:\\users\\jatin\\appdata\\local\\programs\\python\\python310\\lib\\site-packages (from spacy<3.6.0,>=3.5.0->en-core-web-sm==3.5.0) (1.1.2)\n",
      "Requirement already satisfied: packaging>=20.0 in c:\\users\\jatin\\appdata\\roaming\\python\\python310\\site-packages (from spacy<3.6.0,>=3.5.0->en-core-web-sm==3.5.0) (23.0)\n",
      "Requirement already satisfied: langcodes<4.0.0,>=3.2.0 in c:\\users\\jatin\\appdata\\local\\programs\\python\\python310\\lib\\site-packages (from spacy<3.6.0,>=3.5.0->en-core-web-sm==3.5.0) (3.3.0)\n",
      "Requirement already satisfied: srsly<3.0.0,>=2.4.3 in c:\\users\\jatin\\appdata\\local\\programs\\python\\python310\\lib\\site-packages (from spacy<3.6.0,>=3.5.0->en-core-web-sm==3.5.0) (2.4.6)\n",
      "Requirement already satisfied: tqdm<5.0.0,>=4.38.0 in c:\\users\\jatin\\appdata\\local\\programs\\python\\python310\\lib\\site-packages (from spacy<3.6.0,>=3.5.0->en-core-web-sm==3.5.0) (4.65.0)\n",
      "Requirement already satisfied: cymem<2.1.0,>=2.0.2 in c:\\users\\jatin\\appdata\\local\\programs\\python\\python310\\lib\\site-packages (from spacy<3.6.0,>=3.5.0->en-core-web-sm==3.5.0) (2.0.7)\n",
      "Requirement already satisfied: setuptools in c:\\users\\jatin\\appdata\\local\\programs\\python\\python310\\lib\\site-packages (from spacy<3.6.0,>=3.5.0->en-core-web-sm==3.5.0) (58.1.0)\n",
      "Requirement already satisfied: spacy-legacy<3.1.0,>=3.0.11 in c:\\users\\jatin\\appdata\\local\\programs\\python\\python310\\lib\\site-packages (from spacy<3.6.0,>=3.5.0->en-core-web-sm==3.5.0) (3.0.12)\n",
      "Requirement already satisfied: numpy>=1.15.0 in c:\\users\\jatin\\appdata\\local\\programs\\python\\python310\\lib\\site-packages (from spacy<3.6.0,>=3.5.0->en-core-web-sm==3.5.0) (1.24.2)\n",
      "Requirement already satisfied: murmurhash<1.1.0,>=0.28.0 in c:\\users\\jatin\\appdata\\local\\programs\\python\\python310\\lib\\site-packages (from spacy<3.6.0,>=3.5.0->en-core-web-sm==3.5.0) (1.0.9)\n",
      "Requirement already satisfied: catalogue<2.1.0,>=2.0.6 in c:\\users\\jatin\\appdata\\local\\programs\\python\\python310\\lib\\site-packages (from spacy<3.6.0,>=3.5.0->en-core-web-sm==3.5.0) (2.0.8)\n",
      "Requirement already satisfied: typer<0.8.0,>=0.3.0 in c:\\users\\jatin\\appdata\\local\\programs\\python\\python310\\lib\\site-packages (from spacy<3.6.0,>=3.5.0->en-core-web-sm==3.5.0) (0.7.0)\n",
      "Requirement already satisfied: requests<3.0.0,>=2.13.0 in c:\\users\\jatin\\appdata\\local\\programs\\python\\python310\\lib\\site-packages (from spacy<3.6.0,>=3.5.0->en-core-web-sm==3.5.0) (2.31.0)\n",
      "Requirement already satisfied: thinc<8.2.0,>=8.1.8 in c:\\users\\jatin\\appdata\\local\\programs\\python\\python310\\lib\\site-packages (from spacy<3.6.0,>=3.5.0->en-core-web-sm==3.5.0) (8.1.10)\n",
      "Requirement already satisfied: jinja2 in c:\\users\\jatin\\appdata\\local\\programs\\python\\python310\\lib\\site-packages (from spacy<3.6.0,>=3.5.0->en-core-web-sm==3.5.0) (3.1.2)\n",
      "Requirement already satisfied: typing-extensions>=4.2.0 in c:\\users\\jatin\\appdata\\local\\programs\\python\\python310\\lib\\site-packages (from pydantic!=1.8,!=1.8.1,<1.11.0,>=1.7.4->spacy<3.6.0,>=3.5.0->en-core-web-sm==3.5.0) (4.6.3)\n",
      "Requirement already satisfied: urllib3<3,>=1.21.1 in c:\\users\\jatin\\appdata\\local\\programs\\python\\python310\\lib\\site-packages (from requests<3.0.0,>=2.13.0->spacy<3.6.0,>=3.5.0->en-core-web-sm==3.5.0) (2.0.3)\n",
      "Requirement already satisfied: idna<4,>=2.5 in c:\\users\\jatin\\appdata\\local\\programs\\python\\python310\\lib\\site-packages (from requests<3.0.0,>=2.13.0->spacy<3.6.0,>=3.5.0->en-core-web-sm==3.5.0) (3.4)\n",
      "Requirement already satisfied: charset-normalizer<4,>=2 in c:\\users\\jatin\\appdata\\local\\programs\\python\\python310\\lib\\site-packages (from requests<3.0.0,>=2.13.0->spacy<3.6.0,>=3.5.0->en-core-web-sm==3.5.0) (3.1.0)\n",
      "Requirement already satisfied: certifi>=2017.4.17 in c:\\users\\jatin\\appdata\\local\\programs\\python\\python310\\lib\\site-packages (from requests<3.0.0,>=2.13.0->spacy<3.6.0,>=3.5.0->en-core-web-sm==3.5.0) (2023.5.7)\n",
      "Requirement already satisfied: blis<0.8.0,>=0.7.8 in c:\\users\\jatin\\appdata\\local\\programs\\python\\python310\\lib\\site-packages (from thinc<8.2.0,>=8.1.8->spacy<3.6.0,>=3.5.0->en-core-web-sm==3.5.0) (0.7.9)\n",
      "Requirement already satisfied: confection<1.0.0,>=0.0.1 in c:\\users\\jatin\\appdata\\local\\programs\\python\\python310\\lib\\site-packages (from thinc<8.2.0,>=8.1.8->spacy<3.6.0,>=3.5.0->en-core-web-sm==3.5.0) (0.0.4)\n",
      "Requirement already satisfied: colorama in c:\\users\\jatin\\appdata\\roaming\\python\\python310\\site-packages (from tqdm<5.0.0,>=4.38.0->spacy<3.6.0,>=3.5.0->en-core-web-sm==3.5.0) (0.4.6)\n",
      "Requirement already satisfied: click<9.0.0,>=7.1.1 in c:\\users\\jatin\\appdata\\local\\programs\\python\\python310\\lib\\site-packages (from typer<0.8.0,>=0.3.0->spacy<3.6.0,>=3.5.0->en-core-web-sm==3.5.0) (8.1.3)\n",
      "Requirement already satisfied: MarkupSafe>=2.0 in c:\\users\\jatin\\appdata\\local\\programs\\python\\python310\\lib\\site-packages (from jinja2->spacy<3.6.0,>=3.5.0->en-core-web-sm==3.5.0) (2.1.3)\n",
      "\u001b[38;5;2m✔ Download and installation successful\u001b[0m\n",
      "You can now load the package via spacy.load('en_core_web_sm')\n"
     ]
    },
    {
     "name": "stderr",
     "output_type": "stream",
     "text": [
      "\n",
      "[notice] A new release of pip is available: 23.0.1 -> 23.1.2\n",
      "[notice] To update, run: python.exe -m pip install --upgrade pip\n"
     ]
    }
   ],
   "source": [
    "!python -m spacy download en_core_web_sm\n"
   ]
  },
  {
   "cell_type": "code",
   "execution_count": 18,
   "metadata": {},
   "outputs": [],
   "source": [
    "# import libraries\n",
    "import pandas as pd\n",
    "import matplotlib.pyplot as plt\n",
    "import gensim\n",
    "import spacy\n",
    "nlp=spacy.load('en_core_web_sm')\n",
    "%matplotlib inline"
   ]
  },
  {
   "cell_type": "code",
   "execution_count": 19,
   "metadata": {},
   "outputs": [],
   "source": [
    "# create nlp object\n",
    "doc=nlp('He went to play basketball.')"
   ]
  },
  {
   "cell_type": "code",
   "execution_count": 20,
   "metadata": {},
   "outputs": [
    {
     "data": {
      "text/plain": [
       "He went to play basketball."
      ]
     },
     "execution_count": 20,
     "metadata": {},
     "output_type": "execute_result"
    }
   ],
   "source": [
    "doc"
   ]
  },
  {
   "cell_type": "code",
   "execution_count": 21,
   "metadata": {},
   "outputs": [
    {
     "name": "stdout",
     "output_type": "stream",
     "text": [
      "He\n",
      "went\n",
      "to\n",
      "play\n",
      "basketball\n",
      ".\n"
     ]
    }
   ],
   "source": [
    "#tokenization\n",
    "\n",
    "for token in doc :\n",
    "    print((token))"
   ]
  },
  {
   "cell_type": "code",
   "execution_count": 22,
   "metadata": {},
   "outputs": [
    {
     "name": "stdout",
     "output_type": "stream",
     "text": [
      "He --> PRON\n",
      "went --> VERB\n",
      "to --> PART\n",
      "play --> VERB\n",
      "basketball --> NOUN\n",
      ". --> PUNCT\n"
     ]
    }
   ],
   "source": [
    "# pos tagging\n",
    "for token in doc:\n",
    "    print(token.text,\"-->\",token.pos_)"
   ]
  },
  {
   "cell_type": "code",
   "execution_count": 23,
   "metadata": {},
   "outputs": [
    {
     "name": "stdout",
     "output_type": "stream",
     "text": [
      "He --> nsubj\n",
      "went --> ROOT\n",
      "to --> aux\n",
      "play --> advcl\n",
      "basketball --> dobj\n",
      ". --> punct\n"
     ]
    }
   ],
   "source": [
    "# dependency Parsing\n",
    "for token in doc:\n",
    "    print(token.text,\"-->\",token.dep_)"
   ]
  },
  {
   "cell_type": "code",
   "execution_count": 24,
   "metadata": {},
   "outputs": [
    {
     "name": "stdout",
     "output_type": "stream",
     "text": [
      "He ---> nsubj ---> nominal subject\n",
      "went ---> ROOT ---> root\n",
      "to ---> aux ---> auxiliary\n",
      "play ---> advcl ---> adverbial clause modifier\n",
      "basketball ---> dobj ---> direct object\n",
      ". ---> punct ---> punctuation\n"
     ]
    }
   ],
   "source": [
    "# Depemdency parsing\n",
    "for token in doc:\n",
    "    print(token.text, \"--->\" , token.dep_, \"--->\", spacy.explain(token.dep_))"
   ]
  },
  {
   "cell_type": "code",
   "execution_count": 25,
   "metadata": {},
   "outputs": [],
   "source": [
    "# Named Entity Reco\n",
    "# Assigning labels\n",
    "doc=nlp('Over the last quarter Apple sold nearby 20 thousand iPods for a profit of $6 million in USA')"
   ]
  },
  {
   "cell_type": "code",
   "execution_count": 26,
   "metadata": {},
   "outputs": [
    {
     "name": "stdout",
     "output_type": "stream",
     "text": [
      "the last quarter ---> DATE ---> Absolute or relative dates or periods\n",
      "Apple ---> ORG ---> Companies, agencies, institutions, etc.\n",
      "20 thousand ---> CARDINAL ---> Numerals that do not fall under another type\n",
      "iPods ---> PRODUCT ---> Objects, vehicles, foods, etc. (not services)\n",
      "$6 million ---> MONEY ---> Monetary values, including unit\n",
      "USA ---> GPE ---> Countries, cities, states\n"
     ]
    }
   ],
   "source": [
    "for ent in doc.ents:\n",
    "    print(ent.text,'--->',ent.label_, \"--->\",spacy.explain(ent.label_))"
   ]
  },
  {
   "cell_type": "code",
   "execution_count": 27,
   "metadata": {},
   "outputs": [
    {
     "data": {
      "text/html": [
       "<span class=\"tex2jax_ignore\"><div class=\"entities\" style=\"line-height: 2.5; direction: ltr\">Over \n",
       "<mark class=\"entity\" style=\"background: #bfe1d9; padding: 0.45em 0.6em; margin: 0 0.25em; line-height: 1; border-radius: 0.35em;\">\n",
       "    the last quarter\n",
       "    <span style=\"font-size: 0.8em; font-weight: bold; line-height: 1; border-radius: 0.35em; vertical-align: middle; margin-left: 0.5rem\">DATE</span>\n",
       "</mark>\n",
       " \n",
       "<mark class=\"entity\" style=\"background: #7aecec; padding: 0.45em 0.6em; margin: 0 0.25em; line-height: 1; border-radius: 0.35em;\">\n",
       "    Apple\n",
       "    <span style=\"font-size: 0.8em; font-weight: bold; line-height: 1; border-radius: 0.35em; vertical-align: middle; margin-left: 0.5rem\">ORG</span>\n",
       "</mark>\n",
       " sold nearby \n",
       "<mark class=\"entity\" style=\"background: #e4e7d2; padding: 0.45em 0.6em; margin: 0 0.25em; line-height: 1; border-radius: 0.35em;\">\n",
       "    20 thousand\n",
       "    <span style=\"font-size: 0.8em; font-weight: bold; line-height: 1; border-radius: 0.35em; vertical-align: middle; margin-left: 0.5rem\">CARDINAL</span>\n",
       "</mark>\n",
       " \n",
       "<mark class=\"entity\" style=\"background: #bfeeb7; padding: 0.45em 0.6em; margin: 0 0.25em; line-height: 1; border-radius: 0.35em;\">\n",
       "    iPods\n",
       "    <span style=\"font-size: 0.8em; font-weight: bold; line-height: 1; border-radius: 0.35em; vertical-align: middle; margin-left: 0.5rem\">PRODUCT</span>\n",
       "</mark>\n",
       " for a profit of \n",
       "<mark class=\"entity\" style=\"background: #e4e7d2; padding: 0.45em 0.6em; margin: 0 0.25em; line-height: 1; border-radius: 0.35em;\">\n",
       "    $6 million\n",
       "    <span style=\"font-size: 0.8em; font-weight: bold; line-height: 1; border-radius: 0.35em; vertical-align: middle; margin-left: 0.5rem\">MONEY</span>\n",
       "</mark>\n",
       " in \n",
       "<mark class=\"entity\" style=\"background: #feca74; padding: 0.45em 0.6em; margin: 0 0.25em; line-height: 1; border-radius: 0.35em;\">\n",
       "    USA\n",
       "    <span style=\"font-size: 0.8em; font-weight: bold; line-height: 1; border-radius: 0.35em; vertical-align: middle; margin-left: 0.5rem\">GPE</span>\n",
       "</mark>\n",
       "</div></span>"
      ],
      "text/plain": [
       "<IPython.core.display.HTML object>"
      ]
     },
     "metadata": {},
     "output_type": "display_data"
    }
   ],
   "source": [
    "from spacy import displacy\n",
    "displacy.render(doc,style='ent',jupyter=True)\n"
   ]
  },
  {
   "cell_type": "code",
   "execution_count": 34,
   "metadata": {},
   "outputs": [],
   "source": [
    "# create nlp object\n",
    "doc=nlp('He went to play 2 basketball.')"
   ]
  },
  {
   "cell_type": "code",
   "execution_count": 35,
   "metadata": {},
   "outputs": [
    {
     "name": "stdout",
     "output_type": "stream",
     "text": [
      "He True\n",
      "went False\n",
      "to True\n",
      "play False\n",
      "2 False\n",
      "basketball False\n",
      ". False\n"
     ]
    }
   ],
   "source": [
    "for token in doc:\n",
    "    print(token.text,token.is_stop)\n",
    "\n"
   ]
  },
  {
   "cell_type": "code",
   "execution_count": 36,
   "metadata": {},
   "outputs": [],
   "source": [
    "# Assigning labels\n",
    "doc=nlp('Over the last quarter Apple sold nearby 20 thousand iPods for a profit of $6 million in USA')"
   ]
  },
  {
   "cell_type": "code",
   "execution_count": 38,
   "metadata": {},
   "outputs": [],
   "source": [
    "filter_sent = []"
   ]
  },
  {
   "cell_type": "code",
   "execution_count": 39,
   "metadata": {},
   "outputs": [],
   "source": [
    "for word in doc:\n",
    "    if word.is_stop==False:\n",
    "        filter_sent.append(word)"
   ]
  },
  {
   "cell_type": "code",
   "execution_count": 40,
   "metadata": {},
   "outputs": [
    {
     "name": "stdout",
     "output_type": "stream",
     "text": [
      "Filtered sentence [quarter, Apple, sold, nearby, 20, thousand, iPods, profit, $, 6, million, USA]\n"
     ]
    }
   ],
   "source": [
    "print('Filtered sentence',filter_sent)\n"
   ]
  },
  {
   "cell_type": "code",
   "execution_count": null,
   "metadata": {},
   "outputs": [],
   "source": []
  }
 ],
 "metadata": {
  "kernelspec": {
   "display_name": "Python 3",
   "language": "python",
   "name": "python3"
  },
  "language_info": {
   "codemirror_mode": {
    "name": "ipython",
    "version": 3
   },
   "file_extension": ".py",
   "mimetype": "text/x-python",
   "name": "python",
   "nbconvert_exporter": "python",
   "pygments_lexer": "ipython3",
   "version": "3.10.5"
  },
  "orig_nbformat": 4
 },
 "nbformat": 4,
 "nbformat_minor": 2
}
