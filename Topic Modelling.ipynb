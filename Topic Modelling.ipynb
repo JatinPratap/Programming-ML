{
 "cells": [
  {
   "cell_type": "code",
   "execution_count": 9,
   "metadata": {
    "ExecuteTime": {
     "end_time": "2021-08-15T14:53:41.409647Z",
     "start_time": "2021-08-15T14:53:40.960042Z"
    }
   },
   "outputs": [],
   "source": [
    "import pandas as pd\n",
    "import numpy as np\n",
    "\n",
    "import gensim\n",
    "\n",
    "from nltk.stem import WordNetLemmatizer # import nltk  --> nltk.download('wordnet')\n",
    "\n",
    "import warnings\n",
    "warnings.filterwarnings('ignore')\n",
    "\n",
    "from IPython.core.interactiveshell import InteractiveShell\n",
    "InteractiveShell.ast_node_interactivity = 'all'\n",
    "\n",
    "from sklearn.datasets import fetch_20newsgroups\n",
    "\n",
    "newsgroups_train = fetch_20newsgroups(subset = 'train' , shuffle = True)\n",
    "newsgroups_test = fetch_20newsgroups(subset = 'test', shuffle = True)"
   ]
  },
  {
   "cell_type": "code",
   "execution_count": 10,
   "metadata": {
    "ExecuteTime": {
     "end_time": "2021-08-15T14:53:41.425644Z",
     "start_time": "2021-08-15T14:53:41.410671Z"
    },
    "colab": {
     "base_uri": "https://localhost:8080/"
    },
    "executionInfo": {
     "elapsed": 2259,
     "status": "ok",
     "timestamp": 1605865923426,
     "user": {
      "displayName": "Raghav Nyapati",
      "photoUrl": "",
      "userId": "13728981372697321629"
     },
     "user_tz": -330
    },
    "id": "Rw7lzOzPYC3l",
    "outputId": "62fe8738-af6b-4d11-a861-223d6d67ab88"
   },
   "outputs": [
    {
     "data": {
      "text/plain": [
       "[(0, 'alt.atheism'),\n",
       " (1, 'comp.graphics'),\n",
       " (2, 'comp.os.ms-windows.misc'),\n",
       " (3, 'comp.sys.ibm.pc.hardware'),\n",
       " (4, 'comp.sys.mac.hardware'),\n",
       " (5, 'comp.windows.x'),\n",
       " (6, 'misc.forsale'),\n",
       " (7, 'rec.autos'),\n",
       " (8, 'rec.motorcycles'),\n",
       " (9, 'rec.sport.baseball'),\n",
       " (10, 'rec.sport.hockey'),\n",
       " (11, 'sci.crypt'),\n",
       " (12, 'sci.electronics'),\n",
       " (13, 'sci.med'),\n",
       " (14, 'sci.space'),\n",
       " (15, 'soc.religion.christian'),\n",
       " (16, 'talk.politics.guns'),\n",
       " (17, 'talk.politics.mideast'),\n",
       " (18, 'talk.politics.misc'),\n",
       " (19, 'talk.religion.misc')]"
      ]
     },
     "execution_count": 10,
     "metadata": {},
     "output_type": "execute_result"
    }
   ],
   "source": [
    "list(zip(range(len(newsgroups_train.target_names)),[i for i in newsgroups_train.target_names]))"
   ]
  },
  {
   "cell_type": "code",
   "execution_count": 11,
   "metadata": {
    "ExecuteTime": {
     "end_time": "2021-08-15T14:53:41.566630Z",
     "start_time": "2021-08-15T14:53:41.561630Z"
    },
    "colab": {
     "base_uri": "https://localhost:8080/"
    },
    "executionInfo": {
     "elapsed": 2959,
     "status": "ok",
     "timestamp": 1605865935439,
     "user": {
      "displayName": "Raghav Nyapati",
      "photoUrl": "",
      "userId": "13728981372697321629"
     },
     "user_tz": -330
    },
    "id": "nYrWCuiaYC3o",
    "outputId": "1c791bd4-f841-487d-a28b-6d77139855d0"
   },
   "outputs": [
    {
     "name": "stdout",
     "output_type": "stream",
     "text": [
      "From: lerxst@wam.umd.edu (where's my thing)\n",
      "Subject: WHAT car is this!?\n",
      "Nntp-Posting-Host: rac3.wam.umd.edu\n",
      "Organization: University of Maryland, College Park\n",
      "Lines: 15\n",
      "\n",
      " I was wondering if anyone out there could enlighten me on this car I saw\n",
      "the other day. It was a 2-door sports car, looked to be from the late 60s/\n",
      "early 70s. It was called a Bricklin. The doors were really small. In addition,\n",
      "the front bumper was separate from the rest of the body. This is \n",
      "all I know. If anyone can tellme a model name, engine specs, years\n",
      "of production, where this car is made, history, or whatever info you\n",
      "have on this funky looking car, please e-mail.\n",
      "\n",
      "Thanks,\n",
      "- IL\n",
      "   ---- brought to you by your neighborhood Lerxst ----\n",
      "\n",
      "\n",
      "\n",
      "\n",
      "\n"
     ]
    }
   ],
   "source": [
    "print(newsgroups_train.data[0])"
   ]
  },
  {
   "cell_type": "code",
   "execution_count": 12,
   "metadata": {
    "ExecuteTime": {
     "end_time": "2021-08-15T14:53:42.150370Z",
     "start_time": "2021-08-15T14:53:42.142369Z"
    },
    "executionInfo": {
     "elapsed": 1240,
     "status": "ok",
     "timestamp": 1605866187506,
     "user": {
      "displayName": "Raghav Nyapati",
      "photoUrl": "",
      "userId": "13728981372697321629"
     },
     "user_tz": -330
    },
    "id": "9rN-mNHrYC32"
   },
   "outputs": [],
   "source": [
    "def lemmatize(word):\n",
    "    return WordNetLemmatizer().lemmatize(word, pos='v')\n",
    "\n",
    "# Tokenize and lemmatize\n",
    "def preprocess(text):\n",
    "    result = []\n",
    "    \n",
    "    for token in gensim.utils.simple_preprocess(text , min_len = 3): \n",
    "        if token not in gensim.parsing.preprocessing.STOPWORDS:\n",
    "            result.append(lemmatize(token))\n",
    "            \n",
    "    return result"
   ]
  },
  {
   "cell_type": "code",
   "execution_count": 13,
   "metadata": {
    "ExecuteTime": {
     "end_time": "2021-08-15T14:53:44.290427Z",
     "start_time": "2021-08-15T14:53:42.978461Z"
    },
    "colab": {
     "base_uri": "https://localhost:8080/"
    },
    "executionInfo": {
     "elapsed": 1424,
     "status": "ok",
     "timestamp": 1605866194756,
     "user": {
      "displayName": "Raghav Nyapati",
      "photoUrl": "",
      "userId": "13728981372697321629"
     },
     "user_tz": -330
    },
    "id": "RwE9AHFuYC35",
    "outputId": "acefebb8-a383-477e-e649-e3789563aac8"
   },
   "outputs": [
    {
     "name": "stdout",
     "output_type": "stream",
     "text": [
      "Original document: \n"
     ]
    },
    {
     "data": {
      "text/plain": [
       "['This',\n",
       " 'disk',\n",
       " 'has',\n",
       " 'failed',\n",
       " 'many',\n",
       " 'times.',\n",
       " 'I',\n",
       " 'would',\n",
       " 'like',\n",
       " 'to',\n",
       " 'get',\n",
       " 'it',\n",
       " 'replaced.']"
      ]
     },
     "execution_count": 13,
     "metadata": {},
     "output_type": "execute_result"
    },
    {
     "name": "stdout",
     "output_type": "stream",
     "text": [
      "\n",
      "\n",
      "Tokenized and lemmatized document: \n",
      "['disk', 'fail', 'time', 'like', 'replace']\n"
     ]
    }
   ],
   "source": [
    "doc_sample = 'This disk has failed many times. I would like to get it replaced.'\n",
    "\n",
    "print(\"Original document: \")\n",
    "doc_sample.split(' ')\n",
    "\n",
    "print(\"\\n\\nTokenized and lemmatized document: \")\n",
    "print(preprocess(doc_sample))"
   ]
  },
  {
   "cell_type": "code",
   "execution_count": 15,
   "metadata": {
    "ExecuteTime": {
     "end_time": "2021-08-15T14:55:14.595227Z",
     "start_time": "2021-08-15T14:55:14.577230Z"
    }
   },
   "outputs": [
    {
     "data": {
      "text/plain": [
       "11314"
      ]
     },
     "execution_count": 15,
     "metadata": {},
     "output_type": "execute_result"
    }
   ],
   "source": [
    "len(newsgroups_train.data)"
   ]
  },
  {
   "cell_type": "code",
   "execution_count": 19,
   "metadata": {
    "ExecuteTime": {
     "end_time": "2021-08-15T14:59:10.523997Z",
     "start_time": "2021-08-15T14:59:10.511992Z"
    }
   },
   "outputs": [
    {
     "data": {
      "text/plain": [
       "\"From: lerxst@wam.umd.edu (where's my thing)\\nSubject: WHAT car is this!?\\nNntp-Posting-Host: rac3.wam.umd.edu\\nOrganization: University of Maryland, College Park\\nLines: 15\\n\\n I was wondering if anyone out there could enlighten me on this car I saw\\nthe other day. It was a 2-door sports car, looked to be from the late 60s/\\nearly 70s. It was called a Bricklin. The doors were really small. In addition,\\nthe front bumper was separate from the rest of the body. This is \\nall I know. If anyone can tellme a model name, engine specs, years\\nof production, where this car is made, history, or whatever info you\\nhave on this funky looking car, please e-mail.\\n\\nThanks,\\n- IL\\n   ---- brought to you by your neighborhood Lerxst ----\\n\\n\\n\\n\\n\""
      ]
     },
     "execution_count": 19,
     "metadata": {},
     "output_type": "execute_result"
    }
   ],
   "source": [
    "newsgroups_train.data[0]"
   ]
  },
  {
   "cell_type": "code",
   "execution_count": 20,
   "metadata": {
    "ExecuteTime": {
     "end_time": "2021-08-15T14:59:20.887920Z",
     "start_time": "2021-08-15T14:59:11.454131Z"
    },
    "colab": {
     "base_uri": "https://localhost:8080/"
    },
    "executionInfo": {
     "elapsed": 31993,
     "status": "ok",
     "timestamp": 1605866228552,
     "user": {
      "displayName": "Raghav Nyapati",
      "photoUrl": "",
      "userId": "13728981372697321629"
     },
     "user_tz": -330
    },
    "id": "zVHHAzSDYC38",
    "outputId": "fd925010-e4df-48cc-abe9-f9a3154f51f0"
   },
   "outputs": [
    {
     "name": "stdout",
     "output_type": "stream",
     "text": [
      "['lerxst', 'wam', 'umd', 'edu', 'thing', 'subject', 'car', 'nntp', 'post', 'host', 'rac', 'wam', 'umd', 'edu', 'organization', 'university', 'maryland', 'college', 'park', 'line', 'wonder', 'enlighten', 'car', 'saw', 'day', 'door', 'sport', 'car', 'look', 'late', 'early', 'call', 'bricklin', 'doors', 'small', 'addition', 'bumper', 'separate', 'rest', 'body', 'know', 'tellme', 'model', 'engine', 'specs', 'years', 'production', 'car', 'history', 'info', 'funky', 'look', 'car', 'mail', 'thank', 'bring', 'neighborhood', 'lerxst']\n"
     ]
    }
   ],
   "source": [
    "processed_docs = []\n",
    "\n",
    "for doc in newsgroups_train.data:\n",
    "    processed_docs.append(preprocess(doc))\n",
    "\n",
    "print(processed_docs[0])"
   ]
  },
  {
   "cell_type": "code",
   "execution_count": 22,
   "metadata": {
    "ExecuteTime": {
     "end_time": "2021-08-15T15:07:14.662921Z",
     "start_time": "2021-08-15T15:07:13.236425Z"
    },
    "executionInfo": {
     "elapsed": 2768,
     "status": "ok",
     "timestamp": 1605866378593,
     "user": {
      "displayName": "Raghav Nyapati",
      "photoUrl": "",
      "userId": "13728981372697321629"
     },
     "user_tz": -330
    },
    "id": "-cO1NfYqYC4A"
   },
   "outputs": [],
   "source": [
    "dictionary = gensim.corpora.Dictionary(processed_docs)"
   ]
  },
  {
   "cell_type": "code",
   "execution_count": 23,
   "metadata": {
    "ExecuteTime": {
     "end_time": "2021-08-15T15:07:14.694890Z",
     "start_time": "2021-08-15T15:07:14.664923Z"
    },
    "colab": {
     "base_uri": "https://localhost:8080/"
    },
    "executionInfo": {
     "elapsed": 1648,
     "status": "ok",
     "timestamp": 1605866380108,
     "user": {
      "displayName": "Raghav Nyapati",
      "photoUrl": "",
      "userId": "13728981372697321629"
     },
     "user_tz": -330
    },
    "id": "pNKeMcGtYC4E",
    "outputId": "fff42c3e-f8b2-47e5-edd0-235166bb3bda"
   },
   "outputs": [
    {
     "name": "stdout",
     "output_type": "stream",
     "text": [
      "0 addition\n",
      "1 body\n",
      "2 bricklin\n",
      "3 bring\n",
      "4 bumper\n",
      "5 call\n",
      "6 car\n",
      "7 college\n",
      "8 day\n",
      "9 door\n",
      "10 doors\n"
     ]
    }
   ],
   "source": [
    "count = 0\n",
    "for index , word in dictionary.iteritems():\n",
    "    print(index, word)\n",
    "    \n",
    "    count += 1\n",
    "    if count > 10:\n",
    "        break"
   ]
  },
  {
   "cell_type": "code",
   "execution_count": 9,
   "metadata": {
    "ExecuteTime": {
     "end_time": "2021-08-14T13:04:04.387317Z",
     "start_time": "2021-08-14T13:04:04.293447Z"
    },
    "executionInfo": {
     "elapsed": 1303,
     "status": "ok",
     "timestamp": 1605866390587,
     "user": {
      "displayName": "Raghav Nyapati",
      "photoUrl": "",
      "userId": "13728981372697321629"
     },
     "user_tz": -330
    },
    "id": "IsqKOm7MYC4H"
   },
   "outputs": [],
   "source": [
    "dictionary.filter_extremes(no_below = 15, no_above = 0.1, keep_n = 100000)"
   ]
  },
  {
   "cell_type": "code",
   "execution_count": 24,
   "metadata": {
    "ExecuteTime": {
     "end_time": "2021-08-15T15:13:41.796591Z",
     "start_time": "2021-08-15T15:13:40.901567Z"
    },
    "colab": {
     "base_uri": "https://localhost:8080/"
    },
    "executionInfo": {
     "elapsed": 2036,
     "status": "ok",
     "timestamp": 1605866396186,
     "user": {
      "displayName": "Raghav Nyapati",
      "photoUrl": "",
      "userId": "13728981372697321629"
     },
     "user_tz": -330
    },
    "id": "joaWgaxfYC4J",
    "outputId": "0893e9df-8140-4130-a4f0-88d39313dce7"
   },
   "outputs": [
    {
     "data": {
      "text/plain": [
       "[(0, 1),\n",
       " (1, 1),\n",
       " (2, 1),\n",
       " (3, 1),\n",
       " (4, 1),\n",
       " (5, 1),\n",
       " (6, 5),\n",
       " (7, 1),\n",
       " (8, 1),\n",
       " (9, 1),\n",
       " (10, 1),\n",
       " (11, 1),\n",
       " (12, 2),\n",
       " (13, 1),\n",
       " (14, 1),\n",
       " (15, 1),\n",
       " (16, 1),\n",
       " (17, 1),\n",
       " (18, 1),\n",
       " (19, 1),\n",
       " (20, 1),\n",
       " (21, 2),\n",
       " (22, 1),\n",
       " (23, 2),\n",
       " (24, 1),\n",
       " (25, 1),\n",
       " (26, 1),\n",
       " (27, 1),\n",
       " (28, 1),\n",
       " (29, 1),\n",
       " (30, 1),\n",
       " (31, 1),\n",
       " (32, 1),\n",
       " (33, 1),\n",
       " (34, 1),\n",
       " (35, 1),\n",
       " (36, 1),\n",
       " (37, 1),\n",
       " (38, 1),\n",
       " (39, 1),\n",
       " (40, 1),\n",
       " (41, 1),\n",
       " (42, 1),\n",
       " (43, 1),\n",
       " (44, 2),\n",
       " (45, 1),\n",
       " (46, 2),\n",
       " (47, 1),\n",
       " (48, 1)]"
      ]
     },
     "execution_count": 24,
     "metadata": {},
     "output_type": "execute_result"
    },
    {
     "name": "stdout",
     "output_type": "stream",
     "text": [
      "Word 0 (\"addition\") appears 1 time.\n",
      "Word 1 (\"body\") appears 1 time.\n",
      "Word 2 (\"bricklin\") appears 1 time.\n",
      "Word 3 (\"bring\") appears 1 time.\n",
      "Word 4 (\"bumper\") appears 1 time.\n",
      "Word 5 (\"call\") appears 1 time.\n",
      "Word 6 (\"car\") appears 5 time.\n",
      "Word 7 (\"college\") appears 1 time.\n",
      "Word 8 (\"day\") appears 1 time.\n",
      "Word 9 (\"door\") appears 1 time.\n",
      "Word 10 (\"doors\") appears 1 time.\n",
      "Word 11 (\"early\") appears 1 time.\n",
      "Word 12 (\"edu\") appears 2 time.\n",
      "Word 13 (\"engine\") appears 1 time.\n",
      "Word 14 (\"enlighten\") appears 1 time.\n",
      "Word 15 (\"funky\") appears 1 time.\n",
      "Word 16 (\"history\") appears 1 time.\n",
      "Word 17 (\"host\") appears 1 time.\n",
      "Word 18 (\"info\") appears 1 time.\n",
      "Word 19 (\"know\") appears 1 time.\n",
      "Word 20 (\"late\") appears 1 time.\n",
      "Word 21 (\"lerxst\") appears 2 time.\n",
      "Word 22 (\"line\") appears 1 time.\n",
      "Word 23 (\"look\") appears 2 time.\n",
      "Word 24 (\"mail\") appears 1 time.\n",
      "Word 25 (\"maryland\") appears 1 time.\n",
      "Word 26 (\"model\") appears 1 time.\n",
      "Word 27 (\"neighborhood\") appears 1 time.\n",
      "Word 28 (\"nntp\") appears 1 time.\n",
      "Word 29 (\"organization\") appears 1 time.\n",
      "Word 30 (\"park\") appears 1 time.\n",
      "Word 31 (\"post\") appears 1 time.\n",
      "Word 32 (\"production\") appears 1 time.\n",
      "Word 33 (\"rac\") appears 1 time.\n",
      "Word 34 (\"rest\") appears 1 time.\n",
      "Word 35 (\"saw\") appears 1 time.\n",
      "Word 36 (\"separate\") appears 1 time.\n",
      "Word 37 (\"small\") appears 1 time.\n",
      "Word 38 (\"specs\") appears 1 time.\n",
      "Word 39 (\"sport\") appears 1 time.\n",
      "Word 40 (\"subject\") appears 1 time.\n",
      "Word 41 (\"tellme\") appears 1 time.\n",
      "Word 42 (\"thank\") appears 1 time.\n",
      "Word 43 (\"thing\") appears 1 time.\n",
      "Word 44 (\"umd\") appears 2 time.\n",
      "Word 45 (\"university\") appears 1 time.\n",
      "Word 46 (\"wam\") appears 2 time.\n",
      "Word 47 (\"wonder\") appears 1 time.\n",
      "Word 48 (\"years\") appears 1 time.\n"
     ]
    }
   ],
   "source": [
    "bow_corpus = [dictionary.doc2bow(doc) for doc in processed_docs]\n",
    "\n",
    "dictionary.doc2bow(processed_docs[0])\n",
    "\n",
    "document_num = 0\n",
    "bow_doc_x = bow_corpus[document_num]\n",
    "\n",
    "for i in range(len(bow_doc_x)):\n",
    "    print(\"Word {} (\\\"{}\\\") appears {} time.\".format(bow_doc_x[i][0], \n",
    "                                                     dictionary[bow_doc_x[i][0]], \n",
    "                                                     bow_doc_x[i][1]))"
   ]
  },
  {
   "cell_type": "markdown",
   "metadata": {
    "id": "mDokH1GzoH9F"
   },
   "source": [
    "8 topics in the document corpus\n",
    "\n",
    "num_topics is the number of requested latent topics to be extracted from the training corpus.\n",
    "id2word is a mapping from word ids (integers) to words (strings). It is used to determine the vocabulary size, as well as for debugging and topic printing.\n",
    "workers is the number of extra processes to use for parallelization. Uses all available cores by default.\n",
    "alpha and eta are hyperparameters that affect sparsity of the document-topic (theta) and topic-word (lambda) distributions"
   ]
  },
  {
   "cell_type": "code",
   "execution_count": 28,
   "metadata": {
    "ExecuteTime": {
     "end_time": "2021-08-15T15:19:02.293853Z",
     "start_time": "2021-08-15T15:17:42.776474Z"
    },
    "executionInfo": {
     "elapsed": 104264,
     "status": "ok",
     "timestamp": 1605866509753,
     "user": {
      "displayName": "Raghav Nyapati",
      "photoUrl": "",
      "userId": "13728981372697321629"
     },
     "user_tz": -330
    },
    "id": "g2mkrxK8YC4M"
   },
   "outputs": [],
   "source": [
    "lda_model =  gensim.models.LdaMulticore(bow_corpus, num_topics = 8,  id2word = dictionary,  \n",
    "                                        passes = 10, workers = 2)"
   ]
  },
  {
   "cell_type": "code",
   "execution_count": 32,
   "metadata": {
    "ExecuteTime": {
     "end_time": "2021-08-15T15:22:05.917299Z",
     "start_time": "2021-08-15T15:22:05.894301Z"
    },
    "colab": {
     "base_uri": "https://localhost:8080/",
     "height": 554
    },
    "executionInfo": {
     "elapsed": 1008,
     "status": "ok",
     "timestamp": 1599931991327,
     "user": {
      "displayName": "Raghav Nyapati",
      "photoUrl": "",
      "userId": "13728981372697321629"
     },
     "user_tz": -330
    },
    "id": "pSYD5_p6YC4O",
    "outputId": "61060729-5a2e-4d2b-d558-eb7bdb39e8c0"
   },
   "outputs": [
    {
     "name": "stdout",
     "output_type": "stream",
     "text": [
      "Topic: 0 \n",
      "Words: 0.064*\"max\" + 0.009*\"gun\" + 0.006*\"bhj\" + 0.006*\"giz\" + 0.004*\"new\" + 0.003*\"qax\" + 0.003*\"period\" + 0.003*\"pts\" + 0.003*\"bxn\" + 0.002*\"gld\"\n",
      "\n",
      "\n",
      "Topic: 1 \n",
      "Words: 0.009*\"com\" + 0.006*\"say\" + 0.004*\"line\" + 0.004*\"people\" + 0.004*\"subject\" + 0.004*\"organization\" + 0.004*\"go\" + 0.004*\"know\" + 0.003*\"write\" + 0.003*\"edu\"\n",
      "\n",
      "\n",
      "Topic: 2 \n",
      "Words: 0.009*\"com\" + 0.007*\"edu\" + 0.007*\"write\" + 0.006*\"article\" + 0.006*\"line\" + 0.006*\"subject\" + 0.005*\"like\" + 0.005*\"organization\" + 0.004*\"car\" + 0.004*\"turkish\"\n",
      "\n",
      "\n",
      "Topic: 3 \n",
      "Words: 0.023*\"edu\" + 0.012*\"line\" + 0.011*\"subject\" + 0.010*\"organization\" + 0.009*\"write\" + 0.008*\"com\" + 0.008*\"post\" + 0.008*\"article\" + 0.006*\"university\" + 0.005*\"host\"\n",
      "\n",
      "\n",
      "Topic: 4 \n",
      "Words: 0.009*\"key\" + 0.006*\"drive\" + 0.006*\"line\" + 0.006*\"use\" + 0.006*\"com\" + 0.005*\"chip\" + 0.005*\"edu\" + 0.005*\"subject\" + 0.004*\"organization\" + 0.004*\"know\"\n",
      "\n",
      "\n",
      "Topic: 5 \n",
      "Words: 0.016*\"edu\" + 0.012*\"com\" + 0.012*\"line\" + 0.010*\"subject\" + 0.009*\"organization\" + 0.007*\"file\" + 0.007*\"windows\" + 0.006*\"post\" + 0.006*\"write\" + 0.006*\"use\"\n",
      "\n",
      "\n",
      "Topic: 6 \n",
      "Words: 0.017*\"edu\" + 0.008*\"line\" + 0.008*\"subject\" + 0.008*\"organization\" + 0.007*\"game\" + 0.006*\"team\" + 0.006*\"write\" + 0.005*\"article\" + 0.005*\"year\" + 0.005*\"university\"\n",
      "\n",
      "\n",
      "Topic: 7 \n",
      "Words: 0.010*\"edu\" + 0.010*\"god\" + 0.009*\"people\" + 0.007*\"think\" + 0.007*\"write\" + 0.006*\"know\" + 0.006*\"subject\" + 0.006*\"say\" + 0.005*\"line\" + 0.005*\"believe\"\n",
      "\n",
      "\n"
     ]
    }
   ],
   "source": [
    "for idx, topic in lda_model.print_topics():\n",
    "    print(\"Topic: {} \\nWords: {}\".format(idx, topic ))\n",
    "    print(\"\\n\")"
   ]
  },
  {
   "cell_type": "markdown",
   "metadata": {
    "id": "ybuMN9JjVVS1"
   },
   "source": [
    "Testing the data with unseen data"
   ]
  },
  {
   "cell_type": "code",
   "execution_count": 33,
   "metadata": {
    "ExecuteTime": {
     "end_time": "2021-08-15T15:22:22.611764Z",
     "start_time": "2021-08-15T15:22:22.602763Z"
    },
    "colab": {
     "base_uri": "https://localhost:8080/",
     "height": 319
    },
    "executionInfo": {
     "elapsed": 1052,
     "status": "ok",
     "timestamp": 1599932035968,
     "user": {
      "displayName": "Raghav Nyapati",
      "photoUrl": "",
      "userId": "13728981372697321629"
     },
     "user_tz": -330
    },
    "id": "WmigujuNVU0i",
    "outputId": "c4ff1d89-78ba-4ba8-d44c-37a846add2b3"
   },
   "outputs": [
    {
     "name": "stdout",
     "output_type": "stream",
     "text": [
      "Subject: help\n",
      "From: C..Doelle@p26.f3333.n106.z1.fidonet.org (C. Doelle)\n",
      "Lines: 13\n",
      "\n",
      "Hello All!\n",
      "\n",
      "    It is my understanding that all True-Type fonts in Windows are loaded in\n",
      "prior to starting Windows - this makes getting into Windows quite slow if you\n",
      "have hundreds of them as I do.  First off, am I correct in this thinking -\n",
      "secondly, if that is the case - can you get Windows to ignore them on boot and\n",
      "maybe make something like a PIF file to load them only when you enter the\n",
      "applications that need fonts?  Any ideas?\n",
      "\n",
      "\n",
      "Chris\n",
      "\n",
      " * Origin: chris.doelle.@f3333.n106.z1.fidonet.org (1:106/3333.26)\n",
      "\n"
     ]
    }
   ],
   "source": [
    "unseen_document = newsgroups_test.data[100]\n",
    "print(unseen_document)"
   ]
  },
  {
   "cell_type": "code",
   "execution_count": 34,
   "metadata": {
    "ExecuteTime": {
     "end_time": "2021-08-15T15:23:10.480781Z",
     "start_time": "2021-08-15T15:23:10.457780Z"
    },
    "colab": {
     "base_uri": "https://localhost:8080/",
     "height": 34
    },
    "executionInfo": {
     "elapsed": 988,
     "status": "ok",
     "timestamp": 1599932095732,
     "user": {
      "displayName": "Raghav Nyapati",
      "photoUrl": "",
      "userId": "13728981372697321629"
     },
     "user_tz": -330
    },
    "id": "6HDWbIijYkrT",
    "outputId": "9b546b58-e2c5-4600-91a6-f47001702bf7"
   },
   "outputs": [
    {
     "name": "stdout",
     "output_type": "stream",
     "text": [
      "Score: 0.1862390786409378\t Topic: 0.023*\"edu\" + 0.012*\"line\" + 0.011*\"subject\" + 0.010*\"organization\" + 0.009*\"write\"\n",
      "Score: 0.7974031567573547\t Topic: 0.016*\"edu\" + 0.012*\"com\" + 0.012*\"line\" + 0.010*\"subject\" + 0.009*\"organization\"\n"
     ]
    }
   ],
   "source": [
    "bow_vector = dictionary.doc2bow(preprocess(unseen_document))\n",
    "\n",
    "for index, score in sorted(lda_model[bow_vector], key = lambda tup: tup[1]):\n",
    "    print(\"Score: {}\\t Topic: {}\".format(score, lda_model.print_topic(index, 5)))"
   ]
  },
  {
   "cell_type": "code",
   "execution_count": 35,
   "metadata": {
    "ExecuteTime": {
     "end_time": "2021-08-15T15:24:51.642426Z",
     "start_time": "2021-08-15T15:24:51.636427Z"
    },
    "colab": {
     "base_uri": "https://localhost:8080/",
     "height": 34
    },
    "executionInfo": {
     "elapsed": 902,
     "status": "ok",
     "timestamp": 1599932139945,
     "user": {
      "displayName": "Raghav Nyapati",
      "photoUrl": "",
      "userId": "13728981372697321629"
     },
     "user_tz": -330
    },
    "id": "Bp9wT085YvCf",
    "outputId": "a911bb0b-5b5b-4d86-cc35-2f7f8fe952fb"
   },
   "outputs": [
    {
     "name": "stdout",
     "output_type": "stream",
     "text": [
      "2\n"
     ]
    }
   ],
   "source": [
    "print(newsgroups_test.target[100])"
   ]
  },
  {
   "cell_type": "code",
   "execution_count": 16,
   "metadata": {
    "ExecuteTime": {
     "end_time": "2021-08-14T13:04:59.415814Z",
     "start_time": "2021-08-14T13:04:59.400935Z"
    }
   },
   "outputs": [
    {
     "data": {
      "text/plain": [
       "[(0, 'alt.atheism'),\n",
       " (1, 'comp.graphics'),\n",
       " (2, 'comp.os.ms-windows.misc'),\n",
       " (3, 'comp.sys.ibm.pc.hardware'),\n",
       " (4, 'comp.sys.mac.hardware'),\n",
       " (5, 'comp.windows.x'),\n",
       " (6, 'misc.forsale'),\n",
       " (7, 'rec.autos'),\n",
       " (8, 'rec.motorcycles'),\n",
       " (9, 'rec.sport.baseball'),\n",
       " (10, 'rec.sport.hockey'),\n",
       " (11, 'sci.crypt'),\n",
       " (12, 'sci.electronics'),\n",
       " (13, 'sci.med'),\n",
       " (14, 'sci.space'),\n",
       " (15, 'soc.religion.christian'),\n",
       " (16, 'talk.politics.guns'),\n",
       " (17, 'talk.politics.mideast'),\n",
       " (18, 'talk.politics.misc'),\n",
       " (19, 'talk.religion.misc')]"
      ]
     },
     "execution_count": 16,
     "metadata": {},
     "output_type": "execute_result"
    }
   ],
   "source": [
    "list(zip(range(len(newsgroups_train.target_names)),[i for i in newsgroups_train.target_names]))"
   ]
  },
  {
   "cell_type": "markdown",
   "metadata": {},
   "source": [
    "## Coherence is used for evaluating the topics obtained\n",
    "\n",
    "Coherence measures the relative distance between words within a topic. \n",
    "It's rare to see a coherence of 1 or +.9 unless the words being measured are either identical words or bigrams. Like United and States would likely return a coherence score of ~.94 or hero and hero would return a coherence of 1. The overall coherence score of a topic is the average of the distances between words. \n",
    "\n",
    "- .3 is bad\n",
    "\n",
    "- .4 is low\n",
    "\n",
    "- .55 is okay\n",
    "\n",
    "- .65 might be as good as it is going to get\n",
    "\n",
    "- .7 is nice\n",
    "\n",
    "- .8 is unlikely and\n",
    "\n",
    "- .9 is probably wrong"
   ]
  },
  {
   "cell_type": "code",
   "execution_count": 19,
   "metadata": {
    "ExecuteTime": {
     "end_time": "2021-08-14T13:10:03.773609Z",
     "start_time": "2021-08-14T13:09:55.908572Z"
    }
   },
   "outputs": [
    {
     "data": {
      "text/plain": [
       "0.5612157832614577"
      ]
     },
     "execution_count": 19,
     "metadata": {},
     "output_type": "execute_result"
    }
   ],
   "source": [
    "from gensim.models.coherencemodel import CoherenceModel\n",
    "\n",
    "coherence_model = CoherenceModel(model = lda_model, texts = processed_docs, dictionary = dictionary)\n",
    "coherence_model.get_coherence()"
   ]
  },
  {
   "cell_type": "code",
   "execution_count": null,
   "metadata": {},
   "outputs": [],
   "source": []
  }
 ],
 "metadata": {
  "colab": {
   "collapsed_sections": [],
   "name": "Identify topics from news items_Lesson2.ipynb",
   "provenance": []
  },
  "kernelspec": {
   "display_name": "Python 3",
   "language": "python",
   "name": "python3"
  },
  "language_info": {
   "codemirror_mode": {
    "name": "ipython",
    "version": 3
   },
   "file_extension": ".py",
   "mimetype": "text/x-python",
   "name": "python",
   "nbconvert_exporter": "python",
   "pygments_lexer": "ipython3",
   "version": "3.8.3"
  },
  "varInspector": {
   "cols": {
    "lenName": 16,
    "lenType": 16,
    "lenVar": 40
   },
   "kernels_config": {
    "python": {
     "delete_cmd_postfix": "",
     "delete_cmd_prefix": "del ",
     "library": "var_list.py",
     "varRefreshCmd": "print(var_dic_list())"
    },
    "r": {
     "delete_cmd_postfix": ") ",
     "delete_cmd_prefix": "rm(",
     "library": "var_list.r",
     "varRefreshCmd": "cat(var_dic_list()) "
    }
   },
   "types_to_exclude": [
    "module",
    "function",
    "builtin_function_or_method",
    "instance",
    "_Feature"
   ],
   "window_display": false
  }
 },
 "nbformat": 4,
 "nbformat_minor": 1
}
