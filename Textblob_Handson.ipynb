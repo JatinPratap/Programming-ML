{
 "cells": [
  {
   "cell_type": "markdown",
   "metadata": {
    "id": "_bdRYNetbMzp"
   },
   "source": [
    "# Textblob"
   ]
  },
  {
   "cell_type": "code",
   "execution_count": 1,
   "metadata": {
    "ExecuteTime": {
     "end_time": "2021-07-24T10:07:46.462192Z",
     "start_time": "2021-07-24T10:07:46.443219Z"
    },
    "id": "640pWVY8bMz3"
   },
   "outputs": [],
   "source": [
    "# !pip install textblob\n",
    "# !python -m textblob.download_corpora"
   ]
  },
  {
   "cell_type": "code",
   "execution_count": 2,
   "metadata": {
    "ExecuteTime": {
     "end_time": "2021-07-24T10:07:48.184072Z",
     "start_time": "2021-07-24T10:07:46.770294Z"
    },
    "executionInfo": {
     "elapsed": 1118,
     "status": "ok",
     "timestamp": 1608473579234,
     "user": {
      "displayName": "sujata drall",
      "photoUrl": "",
      "userId": "07858160099359690614"
     },
     "user_tz": -330
    },
    "id": "awxZ_M_IbMz5"
   },
   "outputs": [],
   "source": [
    "# First, the import.\n",
    "from textblob import TextBlob\n",
    "from textblob import Word\n",
    "\n",
    "# from textblob.wordnet import VERB\n",
    "\n",
    "from textblob.classifiers import NaiveBayesClassifier "
   ]
  },
  {
   "cell_type": "code",
   "execution_count": 3,
   "metadata": {
    "ExecuteTime": {
     "end_time": "2021-07-24T10:07:48.231912Z",
     "start_time": "2021-07-24T10:07:48.217953Z"
    },
    "executionInfo": {
     "elapsed": 1088,
     "status": "ok",
     "timestamp": 1608473723992,
     "user": {
      "displayName": "sujata drall",
      "photoUrl": "",
      "userId": "07858160099359690614"
     },
     "user_tz": -330
    },
    "id": "PLy-QWCsbMz5"
   },
   "outputs": [],
   "source": [
    "# Let’s create our first TextBlob object.\n",
    "wiki = TextBlob(\"Python is a high-level, general-purpose programming language.\")"
   ]
  },
  {
   "cell_type": "code",
   "execution_count": 4,
   "metadata": {
    "ExecuteTime": {
     "end_time": "2021-07-24T10:07:49.267473Z",
     "start_time": "2021-07-24T10:07:49.246501Z"
    },
    "id": "195KYUE3bMz6",
    "outputId": "4bd75c1c-ca42-4bba-8666-d11b46fe6a35"
   },
   "outputs": [
    {
     "data": {
      "text/plain": [
       "TextBlob(\"Python is a high-level, general-purpose programming language.\")"
      ]
     },
     "execution_count": 4,
     "metadata": {},
     "output_type": "execute_result"
    }
   ],
   "source": [
    "wiki"
   ]
  },
  {
   "cell_type": "code",
   "execution_count": 5,
   "metadata": {
    "ExecuteTime": {
     "end_time": "2021-07-24T10:07:59.754517Z",
     "start_time": "2021-07-24T10:07:59.731593Z"
    },
    "colab": {
     "base_uri": "https://localhost:8080/"
    },
    "executionInfo": {
     "elapsed": 1176,
     "status": "ok",
     "timestamp": 1608473755628,
     "user": {
      "displayName": "sujata drall",
      "photoUrl": "",
      "userId": "07858160099359690614"
     },
     "user_tz": -330
    },
    "id": "lJ_1igFkbMz8",
    "outputId": "fa1307c6-f897-4483-d138-133a1cee5c3d"
   },
   "outputs": [
    {
     "data": {
      "text/plain": [
       "WordList(['Python', 'is', 'a', 'high-level', 'general-purpose', 'programming', 'language'])"
      ]
     },
     "execution_count": 5,
     "metadata": {},
     "output_type": "execute_result"
    }
   ],
   "source": [
    "wiki.words"
   ]
  },
  {
   "cell_type": "markdown",
   "metadata": {
    "id": "nu2GRoaKbMz9"
   },
   "source": [
    "## Tokenization"
   ]
  },
  {
   "cell_type": "code",
   "execution_count": 6,
   "metadata": {
    "ExecuteTime": {
     "end_time": "2021-07-24T10:08:37.265387Z",
     "start_time": "2021-07-24T10:08:37.247535Z"
    },
    "executionInfo": {
     "elapsed": 1099,
     "status": "ok",
     "timestamp": 1608473797779,
     "user": {
      "displayName": "sujata drall",
      "photoUrl": "",
      "userId": "07858160099359690614"
     },
     "user_tz": -330
    },
    "id": "sQ1oRFT3bMz9"
   },
   "outputs": [],
   "source": [
    "zen = TextBlob(\"Beautiful is better, than ugly. \"\n",
    "               \"Explicit is better than implicit. \"\n",
    "               \"Simple is better than complex.\")"
   ]
  },
  {
   "cell_type": "code",
   "execution_count": 7,
   "metadata": {
    "ExecuteTime": {
     "end_time": "2021-07-24T10:08:39.017078Z",
     "start_time": "2021-07-24T10:08:39.009111Z"
    },
    "colab": {
     "base_uri": "https://localhost:8080/"
    },
    "executionInfo": {
     "elapsed": 1052,
     "status": "ok",
     "timestamp": 1608473803888,
     "user": {
      "displayName": "sujata drall",
      "photoUrl": "",
      "userId": "07858160099359690614"
     },
     "user_tz": -330
    },
    "id": "k_mdwmzEbMz-",
    "outputId": "b8d98ad9-b1aa-487a-d28b-a20de87dd7ec"
   },
   "outputs": [
    {
     "data": {
      "text/plain": [
       "WordList(['Beautiful', 'is', 'better', 'than', 'ugly', 'Explicit', 'is', 'better', 'than', 'implicit', 'Simple', 'is', 'better', 'than', 'complex'])"
      ]
     },
     "execution_count": 7,
     "metadata": {},
     "output_type": "execute_result"
    }
   ],
   "source": [
    "zen.words # tokenization"
   ]
  },
  {
   "cell_type": "code",
   "execution_count": 8,
   "metadata": {
    "ExecuteTime": {
     "end_time": "2021-07-24T10:08:45.835908Z",
     "start_time": "2021-07-24T10:08:45.817972Z"
    },
    "colab": {
     "base_uri": "https://localhost:8080/"
    },
    "executionInfo": {
     "elapsed": 1026,
     "status": "ok",
     "timestamp": 1608474253975,
     "user": {
      "displayName": "sujata drall",
      "photoUrl": "",
      "userId": "07858160099359690614"
     },
     "user_tz": -330
    },
    "id": "CETuS475bM0B",
    "outputId": "e4fded91-4971-4cff-9808-e443f419884a"
   },
   "outputs": [
    {
     "data": {
      "text/plain": [
       "3"
      ]
     },
     "execution_count": 8,
     "metadata": {},
     "output_type": "execute_result"
    }
   ],
   "source": [
    "zen.words.count('Better') # lowwer case is done"
   ]
  },
  {
   "cell_type": "code",
   "execution_count": 9,
   "metadata": {
    "ExecuteTime": {
     "end_time": "2021-07-24T10:09:04.088236Z",
     "start_time": "2021-07-24T10:09:04.084249Z"
    },
    "id": "IVu6tS-ebM0C",
    "outputId": "13181a61-9178-4e9c-8f42-1dffda38146f"
   },
   "outputs": [
    {
     "data": {
      "text/plain": [
       "[Sentence(\"Beautiful is better, than ugly.\"),\n",
       " Sentence(\"Explicit is better than implicit.\"),\n",
       " Sentence(\"Simple is better than complex.\")]"
      ]
     },
     "execution_count": 9,
     "metadata": {},
     "output_type": "execute_result"
    }
   ],
   "source": [
    "zen.sentences"
   ]
  },
  {
   "cell_type": "markdown",
   "metadata": {
    "id": "RDNzQ3IObM0D"
   },
   "source": [
    "## Words and noun phrase counts\n",
    "\n",
    "### Using word_counts dictionary."
   ]
  },
  {
   "cell_type": "code",
   "execution_count": 10,
   "metadata": {
    "ExecuteTime": {
     "end_time": "2021-07-24T10:09:38.077711Z",
     "start_time": "2021-07-24T10:09:38.066748Z"
    },
    "executionInfo": {
     "elapsed": 1054,
     "status": "ok",
     "timestamp": 1608473920267,
     "user": {
      "displayName": "sujata drall",
      "photoUrl": "",
      "userId": "07858160099359690614"
     },
     "user_tz": -330
    },
    "id": "Cvf14dvvbM0D"
   },
   "outputs": [],
   "source": [
    "monty = TextBlob(\"We are no longer the Knights who say Delhi India. \"\n",
    "                 \"We are now the Knights who say Ekki ekki ekki PTANG.\")"
   ]
  },
  {
   "cell_type": "code",
   "execution_count": 11,
   "metadata": {
    "ExecuteTime": {
     "end_time": "2021-07-24T10:09:38.814960Z",
     "start_time": "2021-07-24T10:09:38.801969Z"
    },
    "id": "7zJ-sQ96bM0D"
   },
   "outputs": [],
   "source": [
    "# Import data\n",
    "# tokenize the data\n",
    "# remove stopwords + punctuations\n",
    "# normalization\n",
    "# Hello, hello, HEllo, HeLLO, HeLlO\n",
    "# lemmatization/ Stemming / Custom stopwprd removal"
   ]
  },
  {
   "cell_type": "code",
   "execution_count": 12,
   "metadata": {
    "ExecuteTime": {
     "end_time": "2021-07-24T10:09:41.058119Z",
     "start_time": "2021-07-24T10:09:41.045211Z"
    },
    "colab": {
     "base_uri": "https://localhost:8080/"
    },
    "executionInfo": {
     "elapsed": 1154,
     "status": "ok",
     "timestamp": 1608473925417,
     "user": {
      "displayName": "sujata drall",
      "photoUrl": "",
      "userId": "07858160099359690614"
     },
     "user_tz": -330
    },
    "id": "c0w6ObJUbM0E",
    "outputId": "2609d732-da14-4f7a-8e41-278625213dc7"
   },
   "outputs": [
    {
     "data": {
      "text/plain": [
       "defaultdict(int,\n",
       "            {'we': 2,\n",
       "             'are': 2,\n",
       "             'no': 1,\n",
       "             'longer': 1,\n",
       "             'the': 2,\n",
       "             'knights': 2,\n",
       "             'who': 2,\n",
       "             'say': 2,\n",
       "             'delhi': 1,\n",
       "             'india': 1,\n",
       "             'now': 1,\n",
       "             'ekki': 3,\n",
       "             'ptang': 1})"
      ]
     },
     "execution_count": 12,
     "metadata": {},
     "output_type": "execute_result"
    }
   ],
   "source": [
    "monty.word_counts # gives us the number of times the word has appeared , everything converted to Lower case"
   ]
  },
  {
   "cell_type": "code",
   "execution_count": 13,
   "metadata": {
    "ExecuteTime": {
     "end_time": "2021-07-24T10:09:47.524116Z",
     "start_time": "2021-07-24T10:09:47.515145Z"
    },
    "colab": {
     "base_uri": "https://localhost:8080/"
    },
    "executionInfo": {
     "elapsed": 1074,
     "status": "ok",
     "timestamp": 1608474048528,
     "user": {
      "displayName": "sujata drall",
      "photoUrl": "",
      "userId": "07858160099359690614"
     },
     "user_tz": -330
    },
    "id": "QrPR2nqabM0F",
    "outputId": "11dfdaf7-bf1b-4ae2-998f-fa1c62f25904"
   },
   "outputs": [
    {
     "data": {
      "text/plain": [
       "3"
      ]
     },
     "execution_count": 13,
     "metadata": {},
     "output_type": "execute_result"
    }
   ],
   "source": [
    "monty.word_counts['ekki']"
   ]
  },
  {
   "cell_type": "code",
   "execution_count": 14,
   "metadata": {
    "ExecuteTime": {
     "end_time": "2021-07-24T10:09:48.058528Z",
     "start_time": "2021-07-24T10:09:48.051510Z"
    },
    "colab": {
     "base_uri": "https://localhost:8080/"
    },
    "executionInfo": {
     "elapsed": 1040,
     "status": "ok",
     "timestamp": 1608474051063,
     "user": {
      "displayName": "sujata drall",
      "photoUrl": "",
      "userId": "07858160099359690614"
     },
     "user_tz": -330
    },
    "id": "huLhT4BlbM0F",
    "outputId": "d2b152a9-a63e-4a2f-da8f-93fc0c2986e9"
   },
   "outputs": [
    {
     "data": {
      "text/plain": [
       "0"
      ]
     },
     "execution_count": 14,
     "metadata": {},
     "output_type": "execute_result"
    }
   ],
   "source": [
    "monty.word_counts['Ekki']"
   ]
  },
  {
   "cell_type": "code",
   "execution_count": 15,
   "metadata": {
    "ExecuteTime": {
     "end_time": "2021-07-24T10:09:49.607740Z",
     "start_time": "2021-07-24T10:09:49.596778Z"
    },
    "id": "eRnUqqNHbM0G",
    "outputId": "3bcd981d-5030-4444-d17e-823fc3ad1442"
   },
   "outputs": [
    {
     "data": {
      "text/plain": [
       "0"
      ]
     },
     "execution_count": 15,
     "metadata": {},
     "output_type": "execute_result"
    }
   ],
   "source": [
    "monty.word_counts['PTANG']"
   ]
  },
  {
   "cell_type": "code",
   "execution_count": 16,
   "metadata": {
    "ExecuteTime": {
     "end_time": "2021-07-24T10:09:50.124008Z",
     "start_time": "2021-07-24T10:09:50.119028Z"
    },
    "id": "KaCFcFpsbM0G",
    "outputId": "26b217e4-b6d2-4e61-fe17-0fc60131fd63"
   },
   "outputs": [
    {
     "data": {
      "text/plain": [
       "1"
      ]
     },
     "execution_count": 16,
     "metadata": {},
     "output_type": "execute_result"
    }
   ],
   "source": [
    "monty.word_counts['ptang']"
   ]
  },
  {
   "cell_type": "markdown",
   "metadata": {
    "id": "vT_NflZWbM0H"
   },
   "source": [
    "If you access the frequencies this way, the search will not be case sensitive, and words that are not found will have a frequency of 0.\n",
    "\n",
    "The second way is to use the count() method."
   ]
  },
  {
   "cell_type": "code",
   "execution_count": 23,
   "metadata": {
    "colab": {
     "base_uri": "https://localhost:8080/"
    },
    "executionInfo": {
     "elapsed": 1039,
     "status": "ok",
     "timestamp": 1608474325517,
     "user": {
      "displayName": "sujata drall",
      "photoUrl": "",
      "userId": "07858160099359690614"
     },
     "user_tz": -330
    },
    "id": "yW4sPT3TbM0H",
    "outputId": "a8c86f18-44b5-48bf-e648-4c827a526497"
   },
   "outputs": [
    {
     "data": {
      "text/plain": [
       "1"
      ]
     },
     "execution_count": 23,
     "metadata": {
      "tags": []
     },
     "output_type": "execute_result"
    }
   ],
   "source": [
    "monty.words.count('Ekki', case_sensitive=True)"
   ]
  },
  {
   "cell_type": "markdown",
   "metadata": {
    "id": "ff7UlKJhbM0I"
   },
   "source": [
    "## Words Inflection and Lemmatization\n",
    "\n",
    "Each word in TextBlob.words or Sentence.words is a Word object (a subclass of unicode) with useful methods, e.g. for word inflection."
   ]
  },
  {
   "cell_type": "code",
   "execution_count": 17,
   "metadata": {
    "ExecuteTime": {
     "end_time": "2021-07-24T10:10:40.865754Z",
     "start_time": "2021-07-24T10:10:40.859770Z"
    },
    "executionInfo": {
     "elapsed": 1099,
     "status": "ok",
     "timestamp": 1608474337869,
     "user": {
      "displayName": "sujata drall",
      "photoUrl": "",
      "userId": "07858160099359690614"
     },
     "user_tz": -330
    },
    "id": "QtLrgP77bM0I"
   },
   "outputs": [],
   "source": [
    "sentence = TextBlob('Uses 4 spaces per indentation levels. We are no longer the Knights who says Delhi India Germany Bharat.')"
   ]
  },
  {
   "cell_type": "code",
   "execution_count": 18,
   "metadata": {
    "ExecuteTime": {
     "end_time": "2021-07-24T10:10:43.727297Z",
     "start_time": "2021-07-24T10:10:43.708325Z"
    },
    "colab": {
     "base_uri": "https://localhost:8080/"
    },
    "executionInfo": {
     "elapsed": 1049,
     "status": "ok",
     "timestamp": 1608477112982,
     "user": {
      "displayName": "sujata drall",
      "photoUrl": "",
      "userId": "07858160099359690614"
     },
     "user_tz": -330
    },
    "id": "bZlcgrYLbM0J",
    "outputId": "28178694-39fd-4583-a9c9-f0f14fe7611c"
   },
   "outputs": [
    {
     "data": {
      "text/plain": [
       "WordList(['Uses', '4', 'spaces', 'per', 'indentation', 'levels', 'We', 'are', 'no', 'longer', 'the', 'Knights', 'who', 'says', 'Delhi', 'India', 'Germany', 'Bharat'])"
      ]
     },
     "execution_count": 18,
     "metadata": {},
     "output_type": "execute_result"
    }
   ],
   "source": [
    "sentence.words"
   ]
  },
  {
   "cell_type": "code",
   "execution_count": 19,
   "metadata": {
    "ExecuteTime": {
     "end_time": "2021-07-24T10:10:46.199618Z",
     "start_time": "2021-07-24T10:10:46.194632Z"
    },
    "colab": {
     "base_uri": "https://localhost:8080/"
    },
    "executionInfo": {
     "elapsed": 1147,
     "status": "ok",
     "timestamp": 1608474363080,
     "user": {
      "displayName": "sujata drall",
      "photoUrl": "",
      "userId": "07858160099359690614"
     },
     "user_tz": -330
    },
    "id": "4HR71G6YbM0J",
    "outputId": "9098fb71-44d5-40fe-a2b4-05c0206f6735"
   },
   "outputs": [
    {
     "data": {
      "text/plain": [
       "WordList(['Use', '4', 'space', 'per', 'indentation', 'level', 'We', 'are', 'no', 'longer', 'the', 'Knight', 'who', 'say', 'Delhi', 'Indium', 'Germany', 'Bharat'])"
      ]
     },
     "execution_count": 19,
     "metadata": {},
     "output_type": "execute_result"
    }
   ],
   "source": [
    "sentence.words.singularize()"
   ]
  },
  {
   "cell_type": "code",
   "execution_count": null,
   "metadata": {
    "id": "ufm8MvcjbM0K",
    "outputId": "140d8464-0c39-4cda-8933-ebef1db95208"
   },
   "outputs": [
    {
     "data": {
      "text/plain": [
       "'space'"
      ]
     },
     "execution_count": 34,
     "metadata": {
      "tags": []
     },
     "output_type": "execute_result"
    }
   ],
   "source": [
    "sentence.words[2].singularize()"
   ]
  },
  {
   "cell_type": "code",
   "execution_count": 27,
   "metadata": {
    "colab": {
     "base_uri": "https://localhost:8080/"
    },
    "executionInfo": {
     "elapsed": 1073,
     "status": "ok",
     "timestamp": 1608474557919,
     "user": {
      "displayName": "sujata drall",
      "photoUrl": "",
      "userId": "07858160099359690614"
     },
     "user_tz": -330
    },
    "id": "9ZpEMho1bM0K",
    "outputId": "dc6632d6-875e-4e16-ab12-efbcaba904a1"
   },
   "outputs": [
    {
     "data": {
      "text/plain": [
       "WordList(['Usess', '4s', 'spacess', 'pers', 'indentations', 'levelss', 'Wes', 'ares', 'noes', 'longers', 'thes', 'Knightss', 'whoes', 'sayss', 'Delhis', 'Indias', 'Germanys', 'Bharats'])"
      ]
     },
     "execution_count": 27,
     "metadata": {
      "tags": []
     },
     "output_type": "execute_result"
    }
   ],
   "source": [
    "sentence.words.pluralize()"
   ]
  },
  {
   "cell_type": "code",
   "execution_count": 26,
   "metadata": {
    "colab": {
     "base_uri": "https://localhost:8080/"
    },
    "executionInfo": {
     "elapsed": 1076,
     "status": "ok",
     "timestamp": 1608474531817,
     "user": {
      "displayName": "sujata drall",
      "photoUrl": "",
      "userId": "07858160099359690614"
     },
     "user_tz": -330
    },
    "id": "BgmUO6OIbM0L",
    "outputId": "042378db-8935-44c5-baab-13a2f0191d00"
   },
   "outputs": [
    {
     "data": {
      "text/plain": [
       "WordList(['Delhis', 'Indias', 'Germanys'])"
      ]
     },
     "execution_count": 26,
     "metadata": {
      "tags": []
     },
     "output_type": "execute_result"
    }
   ],
   "source": [
    "sentence.words[-4:-1].pluralize()"
   ]
  },
  {
   "cell_type": "code",
   "execution_count": null,
   "metadata": {
    "id": "rJN0ygCibM0L"
   },
   "outputs": [],
   "source": [
    "# Lemmatizers -- will always give the root word, will retain the meaning ---> keeping the Dictionary rules/words into consideration\n",
    "\n",
    "# Stemming ---> will Trim the tokens from the end ---- es, ses, ed --> might happen that resultant word do not have any meaning"
   ]
  },
  {
   "cell_type": "code",
   "execution_count": null,
   "metadata": {
    "id": "7_Wll9URbM0M"
   },
   "outputs": [],
   "source": [
    "# lemmatization -- taked POS Tags  --- by default - NOUN,  it can be changed --- w.r.t tags , go lemmatization"
   ]
  },
  {
   "cell_type": "markdown",
   "metadata": {
    "id": "AzS1H7XBbM0M"
   },
   "source": [
    "Words can be lemmatized by calling the lemmatize method."
   ]
  },
  {
   "cell_type": "code",
   "execution_count": null,
   "metadata": {
    "id": "Dl3mpakcbM0N"
   },
   "outputs": [],
   "source": [
    "w = Word(\"stripes\", pos_tag = 'n')"
   ]
  },
  {
   "cell_type": "code",
   "execution_count": null,
   "metadata": {
    "id": "nIcu3Oq2bM0N",
    "outputId": "cddaef79-5e1f-4f82-a3c1-678b94f01b07"
   },
   "outputs": [
    {
     "data": {
      "text/plain": [
       "'stripe'"
      ]
     },
     "execution_count": 74,
     "metadata": {
      "tags": []
     },
     "output_type": "execute_result"
    }
   ],
   "source": [
    "w.lemmatize()"
   ]
  },
  {
   "cell_type": "code",
   "execution_count": null,
   "metadata": {
    "id": "Q5OhUXn3bM0O"
   },
   "outputs": [],
   "source": [
    "w = Word(\"went\")"
   ]
  },
  {
   "cell_type": "code",
   "execution_count": null,
   "metadata": {
    "id": "d3UnqBRQbM0O",
    "outputId": "dc5c4083-ffc0-4eb7-ffde-96b3ed9bb4f5"
   },
   "outputs": [
    {
     "data": {
      "text/plain": [
       "'go'"
      ]
     },
     "execution_count": 76,
     "metadata": {
      "tags": []
     },
     "output_type": "execute_result"
    }
   ],
   "source": [
    "w.lemmatize('v') "
   ]
  },
  {
   "cell_type": "markdown",
   "metadata": {
    "id": "AGEe2zkVbM0P"
   },
   "source": [
    "## POS tagging\n",
    "\n",
    "Part-of-speech tags can be accessed through the tags property."
   ]
  },
  {
   "cell_type": "code",
   "execution_count": 28,
   "metadata": {
    "executionInfo": {
     "elapsed": 1131,
     "status": "ok",
     "timestamp": 1608474990879,
     "user": {
      "displayName": "sujata drall",
      "photoUrl": "",
      "userId": "07858160099359690614"
     },
     "user_tz": -330
    },
    "id": "wKGui3m_bM0Q"
   },
   "outputs": [],
   "source": [
    "zen = TextBlob(\"Beautiful is better than ugly. \"\n",
    "               \"Explicit is better than implicit. \"\n",
    "               \"Simple is better than complex.\")"
   ]
  },
  {
   "cell_type": "code",
   "execution_count": 29,
   "metadata": {
    "colab": {
     "base_uri": "https://localhost:8080/"
    },
    "executionInfo": {
     "elapsed": 1308,
     "status": "ok",
     "timestamp": 1608474992004,
     "user": {
      "displayName": "sujata drall",
      "photoUrl": "",
      "userId": "07858160099359690614"
     },
     "user_tz": -330
    },
    "id": "qVsz4SCbbM0R",
    "outputId": "f6bd749c-016b-4ac7-c78e-e4709dc634b4"
   },
   "outputs": [
    {
     "data": {
      "text/plain": [
       "[('Beautiful', 'NNP'),\n",
       " ('is', 'VBZ'),\n",
       " ('better', 'JJR'),\n",
       " ('than', 'IN'),\n",
       " ('ugly', 'RB'),\n",
       " ('Explicit', 'NNP'),\n",
       " ('is', 'VBZ'),\n",
       " ('better', 'JJR'),\n",
       " ('than', 'IN'),\n",
       " ('implicit', 'NN'),\n",
       " ('Simple', 'NN'),\n",
       " ('is', 'VBZ'),\n",
       " ('better', 'JJR'),\n",
       " ('than', 'IN'),\n",
       " ('complex', 'JJ')]"
      ]
     },
     "execution_count": 29,
     "metadata": {
      "tags": []
     },
     "output_type": "execute_result"
    }
   ],
   "source": [
    "zen.tags"
   ]
  },
  {
   "cell_type": "code",
   "execution_count": null,
   "metadata": {
    "id": "3uKpOJ9ebM0U",
    "outputId": "0b121482-df61-4f31-bc93-a541fb935600"
   },
   "outputs": [
    {
     "name": "stdout",
     "output_type": "stream",
     "text": [
      "beautiful => NNP\n",
      "is => VBZ\n",
      "better => JJR\n",
      "than => IN\n",
      "ugly => RB\n",
      "explicit => NNP\n",
      "is => VBZ\n",
      "better => JJR\n",
      "than => IN\n",
      "implicit => NN\n",
      "simple => NN\n",
      "is => VBZ\n",
      "better => JJR\n",
      "than => IN\n",
      "complex => JJ\n"
     ]
    }
   ],
   "source": [
    "for word, pos in zen.tags:\n",
    "    print(word.lower() + \" => \" + pos)"
   ]
  },
  {
   "cell_type": "markdown",
   "metadata": {
    "id": "ezE42DucbM0W"
   },
   "source": [
    "## Noun Phrase Extraction\n",
    "\n",
    "noun phrases are accessed through the noun_phrases property."
   ]
  },
  {
   "cell_type": "code",
   "execution_count": 30,
   "metadata": {
    "executionInfo": {
     "elapsed": 1032,
     "status": "ok",
     "timestamp": 1608475063079,
     "user": {
      "displayName": "sujata drall",
      "photoUrl": "",
      "userId": "07858160099359690614"
     },
     "user_tz": -330
    },
    "id": "gtrUxCsBbM0W"
   },
   "outputs": [],
   "source": [
    "document = (\"In computer science, artificial intelligence (AI), \\\n",
    "            sometimes called machine intelligence, is intelligence \\\n",
    "            demonstrated by machines, in contrast to the natural intelligence \\\n",
    "            displayed by humans and animals. Computer science defines AI \\\n",
    "            research as the study of \\\"intelligent agents\\\": any device that \\\n",
    "            perceives its environment and takes actions that maximize its\\\n",
    "            chance of successfully achieving its goals.[1] Colloquially,\\\n",
    "            the term \\\"artificial intelligence\\\" is used to describe machines\\\n",
    "            that mimic \\\"cognitive\\\" functions that humans associate with other\\\n",
    "            human minds, such as \\\"learning\\\" and \\\"problem solving\\\".[2]\")"
   ]
  },
  {
   "cell_type": "code",
   "execution_count": 31,
   "metadata": {
    "colab": {
     "base_uri": "https://localhost:8080/"
    },
    "executionInfo": {
     "elapsed": 3895,
     "status": "ok",
     "timestamp": 1608475080280,
     "user": {
      "displayName": "sujata drall",
      "photoUrl": "",
      "userId": "07858160099359690614"
     },
     "user_tz": -330
    },
    "id": "ykySIYYzbM0X",
    "outputId": "6accce09-d2c5-4645-975a-d3af9a292c39"
   },
   "outputs": [
    {
     "name": "stdout",
     "output_type": "stream",
     "text": [
      "computer science\n",
      "artificial intelligence\n",
      "ai\n",
      "machine intelligence\n",
      "natural intelligence\n",
      "computer\n",
      "science defines\n",
      "ai\n",
      "intelligent agents\n",
      "colloquially\n",
      "artificial intelligence\n",
      "describe machines\n",
      "human minds\n"
     ]
    }
   ],
   "source": [
    "text_blob_object = TextBlob(document)\n",
    "\n",
    "for noun_phrase in text_blob_object.noun_phrases:\n",
    "    \n",
    "    print(noun_phrase)"
   ]
  },
  {
   "cell_type": "markdown",
   "metadata": {
    "id": "zpSzLto5bM0X"
   },
   "source": [
    "## Spelling Correction\n",
    "Use the correct() method to attempt spelling correction.\n",
    "\n",
    "Spelling correction is based on Peter Norvig’s “How to Write a Spelling Corrector” as implemented in the pattern library. It is about 70% accurate"
   ]
  },
  {
   "cell_type": "code",
   "execution_count": 33,
   "metadata": {
    "colab": {
     "base_uri": "https://localhost:8080/"
    },
    "executionInfo": {
     "elapsed": 1017,
     "status": "ok",
     "timestamp": 1608475217761,
     "user": {
      "displayName": "sujata drall",
      "photoUrl": "",
      "userId": "07858160099359690614"
     },
     "user_tz": -330
    },
    "id": "8FzOXqeWbM0Y",
    "outputId": "9598743a-30a9-470b-82c9-0b781fcf9de4"
   },
   "outputs": [
    {
     "name": "stdout",
     "output_type": "stream",
     "text": [
      "I have written good spelling!.\n",
      "spelling correction is based.\n",
      "how took write a spelling correct\n"
     ]
    }
   ],
   "source": [
    "b = TextBlob(\"I havv written goood speling!. speling corection is based. howw tooo writt a speling corect \")\n",
    "\n",
    "for i in b.sentences:\n",
    "    \n",
    "    print(i.correct())\n"
   ]
  },
  {
   "cell_type": "markdown",
   "metadata": {
    "id": "JSnp5JCtbM0Y"
   },
   "source": [
    "Word objects have a spellcheck() Word.spellcheck() method that returns a list of (word, confidence) tuples with spelling suggestions."
   ]
  },
  {
   "cell_type": "code",
   "execution_count": null,
   "metadata": {
    "id": "NUXS5yJKbM0Y",
    "outputId": "6a86b989-2c03-4277-91f8-b077b007845b"
   },
   "outputs": [
    {
     "data": {
      "text/plain": [
       "[('fallibility', 1.0)]"
      ]
     },
     "execution_count": 92,
     "metadata": {
      "tags": []
     },
     "output_type": "execute_result"
    }
   ],
   "source": [
    "from textblob import Word\n",
    "w = Word('falibility')\n",
    "\n",
    "w.spellcheck() # 1 is the confidnece"
   ]
  },
  {
   "cell_type": "code",
   "execution_count": null,
   "metadata": {
    "id": "eZgek-u-bM0Z",
    "outputId": "a80b253d-96f4-4088-b4ea-57ef8dc93cf7"
   },
   "outputs": [
    {
     "name": "stdout",
     "output_type": "stream",
     "text": [
      "[('I', 1.0)]\n",
      "[('have', 1.0)]\n",
      "[('good', 1.0)]\n",
      "[('spelling', 1.0)]\n",
      "[('spelling', 1.0)]\n",
      "[('correction', 1.0)]\n",
      "[('is', 1.0)]\n",
      "[('based', 1.0)]\n",
      "[('how', 0.9924528301886792), ('howe', 0.004528301886792453), ('howl', 0.0030188679245283017)]\n",
      "[('took', 0.5079787234042553), ('too', 0.4858156028368794), ('tool', 0.0062056737588652485)]\n",
      "[('write', 0.4777777777777778), ('wrist', 0.37777777777777777), ('writ', 0.08333333333333333), ('writs', 0.06111111111111111)]\n",
      "[('a', 1.0)]\n",
      "[('spelling', 1.0)]\n",
      "[('correct', 1.0)]\n"
     ]
    }
   ],
   "source": [
    "b = TextBlob(\"I havv goood speling!. speling corection is based. howw tooo writt a speling corect \")\n",
    "\n",
    "for i in b.words:    \n",
    "    print(i.spellcheck())"
   ]
  },
  {
   "cell_type": "markdown",
   "metadata": {
    "id": "oPt-VkoybM0Z"
   },
   "source": [
    "## Translation and Language Detection\n",
    "\n",
    "One of the most powerful capabilities of the TextBlob library is to translate from one language to another. On the backend, the TextBlob language translator uses the __Google Translate API__\n",
    "\n",
    "\n",
    "\n",
    "https://cloud.google.com/translate/docs/languages"
   ]
  },
  {
   "cell_type": "code",
   "execution_count": 20,
   "metadata": {
    "ExecuteTime": {
     "end_time": "2021-07-24T10:16:52.607232Z",
     "start_time": "2021-07-24T10:16:52.595272Z"
    },
    "executionInfo": {
     "elapsed": 1062,
     "status": "ok",
     "timestamp": 1608475502656,
     "user": {
      "displayName": "sujata drall",
      "photoUrl": "",
      "userId": "07858160099359690614"
     },
     "user_tz": -330
    },
    "id": "CYK7nqqNbM0a"
   },
   "outputs": [],
   "source": [
    "en_blob = TextBlob(u'Simple is better than complex.')"
   ]
  },
  {
   "cell_type": "code",
   "execution_count": 22,
   "metadata": {
    "ExecuteTime": {
     "end_time": "2021-07-24T10:17:09.902836Z",
     "start_time": "2021-07-24T10:17:09.712433Z"
    },
    "colab": {
     "base_uri": "https://localhost:8080/"
    },
    "executionInfo": {
     "elapsed": 1772,
     "status": "ok",
     "timestamp": 1608475506248,
     "user": {
      "displayName": "sujata drall",
      "photoUrl": "",
      "userId": "07858160099359690614"
     },
     "user_tz": -330
    },
    "id": "X16b9Aw-bM0a",
    "outputId": "925d0a66-f357-477d-c520-6956f9098284"
   },
   "outputs": [
    {
     "data": {
      "text/plain": [
       "TextBlob(\"Lo simple es mejor que lo complejo.\")"
      ]
     },
     "execution_count": 22,
     "metadata": {},
     "output_type": "execute_result"
    }
   ],
   "source": [
    "en_blob.translate(to = 'es') # "
   ]
  },
  {
   "cell_type": "code",
   "execution_count": 23,
   "metadata": {
    "ExecuteTime": {
     "end_time": "2021-07-24T10:17:10.264639Z",
     "start_time": "2021-07-24T10:17:10.101133Z"
    },
    "colab": {
     "base_uri": "https://localhost:8080/"
    },
    "executionInfo": {
     "elapsed": 1130,
     "status": "ok",
     "timestamp": 1608475540625,
     "user": {
      "displayName": "sujata drall",
      "photoUrl": "",
      "userId": "07858160099359690614"
     },
     "user_tz": -330
    },
    "id": "NbRt0wYLbM0a",
    "outputId": "0b66d80d-fec2-4b1d-a0f7-12971f43fafb"
   },
   "outputs": [
    {
     "data": {
      "text/plain": [
       "TextBlob(\"Beauty is better than ugly\")"
      ]
     },
     "execution_count": 23,
     "metadata": {},
     "output_type": "execute_result"
    }
   ],
   "source": [
    "chinese_blob = TextBlob(\"美丽优于丑陋\")\n",
    "\n",
    "chinese_blob.translate(from_lang=\"zh-CN\", to='en') # en == english"
   ]
  },
  {
   "cell_type": "markdown",
   "metadata": {
    "id": "gp_ZszcNbM0b"
   },
   "source": [
    "You can also attempt to detect a TextBlob’s language using TextBlob.detect_language()."
   ]
  },
  {
   "cell_type": "code",
   "execution_count": 25,
   "metadata": {
    "ExecuteTime": {
     "end_time": "2021-07-24T10:25:33.914789Z",
     "start_time": "2021-07-24T10:25:33.774211Z"
    },
    "colab": {
     "base_uri": "https://localhost:8080/",
     "height": 35
    },
    "executionInfo": {
     "elapsed": 1061,
     "status": "ok",
     "timestamp": 1608475671786,
     "user": {
      "displayName": "sujata drall",
      "photoUrl": "",
      "userId": "07858160099359690614"
     },
     "user_tz": -330
    },
    "id": "EHCSYvd0bM0b",
    "outputId": "b3ef5182-6787-4ec0-de7b-d30736b1c6d5"
   },
   "outputs": [
    {
     "data": {
      "text/plain": [
       "'ar'"
      ]
     },
     "execution_count": 25,
     "metadata": {},
     "output_type": "execute_result"
    }
   ],
   "source": [
    "b = TextBlob(\"بسيط هو أفضل من مجمع\")\n",
    "b.detect_language()"
   ]
  },
  {
   "cell_type": "code",
   "execution_count": 28,
   "metadata": {
    "ExecuteTime": {
     "end_time": "2021-07-24T10:26:40.005428Z",
     "start_time": "2021-07-24T10:26:39.827737Z"
    },
    "colab": {
     "base_uri": "https://localhost:8080/",
     "height": 35
    },
    "executionInfo": {
     "elapsed": 1257,
     "status": "ok",
     "timestamp": 1608475679662,
     "user": {
      "displayName": "sujata drall",
      "photoUrl": "",
      "userId": "07858160099359690614"
     },
     "user_tz": -330
    },
    "id": "VaNydow3bM0b",
    "outputId": "f68070f9-5222-4150-c600-50728acd92b5"
   },
   "outputs": [
    {
     "data": {
      "text/plain": [
       "'bn'"
      ]
     },
     "execution_count": 28,
     "metadata": {},
     "output_type": "execute_result"
    }
   ],
   "source": [
    "b = TextBlob(\"tumi kemon aachon\")\n",
    "b.detect_language()"
   ]
  },
  {
   "cell_type": "code",
   "execution_count": 41,
   "metadata": {
    "colab": {
     "base_uri": "https://localhost:8080/",
     "height": 35
    },
    "executionInfo": {
     "elapsed": 1113,
     "status": "ok",
     "timestamp": 1608475743631,
     "user": {
      "displayName": "sujata drall",
      "photoUrl": "",
      "userId": "07858160099359690614"
     },
     "user_tz": -330
    },
    "id": "6vGBMtXNbM0c",
    "outputId": "27a154db-2020-4c1c-d7cc-bf3f1eeae4d3"
   },
   "outputs": [
    {
     "data": {
      "application/vnd.google.colaboratory.intrinsic+json": {
       "type": "string"
      },
      "text/plain": [
       "'hi'"
      ]
     },
     "execution_count": 41,
     "metadata": {
      "tags": []
     },
     "output_type": "execute_result"
    }
   ],
   "source": [
    "b = TextBlob(\"क्या हाल है\")\n",
    "b.detect_language()"
   ]
  },
  {
   "cell_type": "code",
   "execution_count": 42,
   "metadata": {
    "colab": {
     "base_uri": "https://localhost:8080/"
    },
    "executionInfo": {
     "elapsed": 1168,
     "status": "ok",
     "timestamp": 1608475745767,
     "user": {
      "displayName": "sujata drall",
      "photoUrl": "",
      "userId": "07858160099359690614"
     },
     "user_tz": -330
    },
    "id": "FLteT6-ibM0c",
    "outputId": "295dd657-608f-49bd-f5e6-16964f3aa77e"
   },
   "outputs": [
    {
     "data": {
      "text/plain": [
       "TextBlob(\"How are you\")"
      ]
     },
     "execution_count": 42,
     "metadata": {
      "tags": []
     },
     "output_type": "execute_result"
    }
   ],
   "source": [
    "b.translate(from_lang=\"hi\", to='en')"
   ]
  },
  {
   "cell_type": "code",
   "execution_count": 29,
   "metadata": {
    "ExecuteTime": {
     "end_time": "2021-07-24T10:27:28.919384Z",
     "start_time": "2021-07-24T10:27:28.906421Z"
    },
    "executionInfo": {
     "elapsed": 1086,
     "status": "ok",
     "timestamp": 1608475731576,
     "user": {
      "displayName": "sujata drall",
      "photoUrl": "",
      "userId": "07858160099359690614"
     },
     "user_tz": -330
    },
    "id": "39iARZMCbM0c"
   },
   "outputs": [],
   "source": [
    "st =  [\"क्या हाल है\" ,\"توهان ڪيئن آهيو\" ,\"আপনি কেমন আছেন\" ,\"நீங்கள் எப்படி\" ,\"இருக்கிறீர்கள்\" ,\"तिमीलाई कस्तो छ\" ,\"તમે કેમ છો\" ,\"तू कसा आहेस \",\"ന്തൊക്കെയുണ്ട്\"]"
   ]
  },
  {
   "cell_type": "code",
   "execution_count": 30,
   "metadata": {
    "ExecuteTime": {
     "end_time": "2021-07-24T10:27:32.083137Z",
     "start_time": "2021-07-24T10:27:29.738747Z"
    },
    "colab": {
     "base_uri": "https://localhost:8080/"
    },
    "executionInfo": {
     "elapsed": 1050,
     "status": "ok",
     "timestamp": 1608475805470,
     "user": {
      "displayName": "sujata drall",
      "photoUrl": "",
      "userId": "07858160099359690614"
     },
     "user_tz": -330
    },
    "id": "doXx8W8MbM0c",
    "outputId": "a719e66f-0391-4e21-add5-5f78ae3b0256"
   },
   "outputs": [
    {
     "name": "stdout",
     "output_type": "stream",
     "text": [
      "hi\n",
      "How are you\n",
      "sd\n",
      "how are you\n",
      "bn\n",
      "How are you\n",
      "ta\n",
      "How are you\n",
      "ta\n",
      "You are\n",
      "ne\n",
      "How are you\n",
      "gu\n",
      "how are you\n",
      "mr\n",
      "How are you\n",
      "ml\n",
      "And so on\n"
     ]
    }
   ],
   "source": [
    "for i in st:\n",
    "    a = TextBlob(i)\n",
    "    t = a.detect_language()\n",
    "    print(t)\n",
    "    print(a.translate(from_lang=t, to='en'))"
   ]
  },
  {
   "cell_type": "markdown",
   "metadata": {
    "id": "QHqD2lSDbM0d"
   },
   "source": [
    "## n-grams\n",
    "\n",
    "N-Grams refer to n combination of words in a sentence. For instance, for a sentence \"I love watching football\", some 2-grams would be (I love), (love watching) and (watching football). \n",
    "\n",
    "N-Grams can play a crucial role in text classification.\n",
    "\n",
    "The TextBlob.ngrams() method returns a list of tuples of n successive words."
   ]
  },
  {
   "cell_type": "code",
   "execution_count": 46,
   "metadata": {
    "executionInfo": {
     "elapsed": 1086,
     "status": "ok",
     "timestamp": 1608475939998,
     "user": {
      "displayName": "sujata drall",
      "photoUrl": "",
      "userId": "07858160099359690614"
     },
     "user_tz": -330
    },
    "id": "8TRKdkxUbM0d"
   },
   "outputs": [],
   "source": [
    "blob = TextBlob(\"Now is better than never.\")"
   ]
  },
  {
   "cell_type": "code",
   "execution_count": 47,
   "metadata": {
    "colab": {
     "base_uri": "https://localhost:8080/"
    },
    "executionInfo": {
     "elapsed": 945,
     "status": "ok",
     "timestamp": 1608475941209,
     "user": {
      "displayName": "sujata drall",
      "photoUrl": "",
      "userId": "07858160099359690614"
     },
     "user_tz": -330
    },
    "id": "8_GguFoibM0f",
    "outputId": "663a9a40-86ba-493c-cbb5-74b84be1d7e5"
   },
   "outputs": [
    {
     "data": {
      "text/plain": [
       "[WordList(['Now', 'is', 'better']),\n",
       " WordList(['is', 'better', 'than']),\n",
       " WordList(['better', 'than', 'never'])]"
      ]
     },
     "execution_count": 47,
     "metadata": {
      "tags": []
     },
     "output_type": "execute_result"
    }
   ],
   "source": [
    "blob.ngrams(n=3)"
   ]
  },
  {
   "cell_type": "markdown",
   "metadata": {
    "id": "AdKgu24hbM0f"
   },
   "source": [
    "## WordNet Integration\n",
    "\n",
    "WordNet is a database of English words that are linked together by their semantic relationships. It is like a supercharged dictionary/thesaurus with a graph structure.\n",
    "\n",
    "TextBlob 0.7 now integrates __NLTK's WordNet__ interface, making it very simple to interact with WordNet.\n",
    "\n",
    "### Synsets\n",
    "As you know, synonyms are words that have similar meanings. A synonym set, or synset, is a group of synonyms. A synset, therefore, corresponds to an abstract concept.\n",
    "\n",
    "In TextBlob, you can access the synsets that a word belongs to by accessing the synsets property of a Word object."
   ]
  },
  {
   "cell_type": "code",
   "execution_count": 48,
   "metadata": {
    "colab": {
     "base_uri": "https://localhost:8080/"
    },
    "executionInfo": {
     "elapsed": 1043,
     "status": "ok",
     "timestamp": 1608476002208,
     "user": {
      "displayName": "sujata drall",
      "photoUrl": "",
      "userId": "07858160099359690614"
     },
     "user_tz": -330
    },
    "id": "IILjKteJbM0h",
    "outputId": "04f21793-c6a0-42a8-b492-8cd843d47bd5"
   },
   "outputs": [
    {
     "data": {
      "text/plain": [
       "[Synset('base_on_balls.n.01'),\n",
       " Synset('pass.n.02'),\n",
       " Synset('pass.n.03'),\n",
       " Synset('pass.n.04'),\n",
       " Synset('pass.n.05'),\n",
       " Synset('pass.n.06'),\n",
       " Synset('pass.n.07'),\n",
       " Synset('pass.n.08'),\n",
       " Synset('pass.n.09'),\n",
       " Synset('pass.n.10'),\n",
       " Synset('bye.n.01'),\n",
       " Synset('pass.n.12'),\n",
       " Synset('pass.n.13'),\n",
       " Synset('crack.n.09'),\n",
       " Synset('pass.n.15'),\n",
       " Synset('passing.n.07'),\n",
       " Synset('pas.n.01'),\n",
       " Synset('pass.v.01'),\n",
       " Synset('travel_by.v.01'),\n",
       " Synset('legislate.v.01'),\n",
       " Synset('elapse.v.01'),\n",
       " Synset('pass.v.05'),\n",
       " Synset('run.v.03'),\n",
       " Synset('pass.v.07'),\n",
       " Synset('happen.v.01'),\n",
       " Synset('pass.v.09'),\n",
       " Synset('spend.v.01'),\n",
       " Synset('guide.v.05'),\n",
       " Synset('communicate.v.01'),\n",
       " Synset('evanesce.v.01'),\n",
       " Synset('pass.v.14'),\n",
       " Synset('exceed.v.02'),\n",
       " Synset('pass.v.16'),\n",
       " Synset('pass.v.17'),\n",
       " Synset('pass.v.18'),\n",
       " Synset('sink.v.03'),\n",
       " Synset('pass.v.20'),\n",
       " Synset('fall.v.21'),\n",
       " Synset('pass.v.22'),\n",
       " Synset('authorize.v.01'),\n",
       " Synset('die.v.01'),\n",
       " Synset('excrete.v.01'),\n",
       " Synset('passing.a.02')]"
      ]
     },
     "execution_count": 48,
     "metadata": {
      "tags": []
     },
     "output_type": "execute_result"
    }
   ],
   "source": [
    "# from textblob import Word\n",
    "word = Word(\"pass\")\n",
    "word.synsets"
   ]
  },
  {
   "cell_type": "code",
   "execution_count": 49,
   "metadata": {
    "colab": {
     "base_uri": "https://localhost:8080/"
    },
    "executionInfo": {
     "elapsed": 1088,
     "status": "ok",
     "timestamp": 1608476057479,
     "user": {
      "displayName": "sujata drall",
      "photoUrl": "",
      "userId": "07858160099359690614"
     },
     "user_tz": -330
    },
    "id": "nui86vIdbM0i",
    "outputId": "dd6c69f3-b9f9-4cb9-dd8c-a01d966fd0f2"
   },
   "outputs": [
    {
     "data": {
      "text/plain": [
       "['(baseball) an advance to first base by a batter who receives four balls',\n",
       " '(military) a written leave of absence',\n",
       " '(American football) a play that involves one player throwing the ball to a teammate',\n",
       " 'the location in a range of mountains of a geological formation that is lower than the surrounding peaks',\n",
       " 'any authorization to pass or go somewhere',\n",
       " 'a document indicating permission to do something without restrictions',\n",
       " 'a flight or run by an aircraft over a target',\n",
       " 'a bad or difficult situation or state of affairs',\n",
       " 'a difficult juncture',\n",
       " 'one complete cycle of operations (as by a computer)',\n",
       " 'you advance to the next round in a tournament without playing an opponent',\n",
       " 'a permit to enter or leave a military installation',\n",
       " 'a complimentary ticket',\n",
       " 'a usually brief attempt',\n",
       " '(sports) the act of throwing the ball to another member of your team',\n",
       " 'success in satisfying a test or requirement',\n",
       " '(ballet) a step in dancing (especially in classical ballet)',\n",
       " 'go across or through',\n",
       " 'move past',\n",
       " 'make laws, bills, etc. or bring into effect by legislation',\n",
       " 'pass by',\n",
       " 'place into the hands or custody of',\n",
       " 'stretch out over a distance, space, time, or scope; run or extend between two points or beyond a certain point',\n",
       " 'travel past',\n",
       " 'come to pass',\n",
       " 'go unchallenged; be approved',\n",
       " 'pass time in a specific way',\n",
       " 'pass over, across, or through',\n",
       " 'transmit information',\n",
       " 'disappear gradually',\n",
       " 'go successfully through a test or a selection process',\n",
       " 'be superior or better than some standard',\n",
       " 'accept or judge as acceptable',\n",
       " 'allow to go without comment or censure',\n",
       " 'transfer to another; of rights or property',\n",
       " 'pass into a specified state or condition',\n",
       " 'throw (a ball) to another player',\n",
       " 'be inherited by',\n",
       " 'cause to pass',\n",
       " 'grant authorization or clearance for',\n",
       " 'pass from physical life and lose all bodily attributes and functions necessary to sustain life',\n",
       " 'eliminate from the body',\n",
       " 'of advancing the ball by throwing it']"
      ]
     },
     "execution_count": 49,
     "metadata": {
      "tags": []
     },
     "output_type": "execute_result"
    }
   ],
   "source": [
    "word.definitions"
   ]
  },
  {
   "cell_type": "markdown",
   "metadata": {
    "id": "XGxKaubybM0j"
   },
   "source": [
    "The synonyms contained within a synset are called lemmas. You can access the string versions of these synonyms via a Synset's lemma_names property."
   ]
  },
  {
   "cell_type": "markdown",
   "metadata": {
    "id": "jcUZWTsUbM0j"
   },
   "source": [
    "## Converting to Upper and Lowercase\n",
    "TextBlob objects are very similar to strings. You can convert them to upper case or lower case, change their values, and concatenate them together as well. In the following script, we convert the text from the TextBlob object to upper case:"
   ]
  },
  {
   "cell_type": "code",
   "execution_count": null,
   "metadata": {
    "id": "2pDAi9QgbM0k",
    "outputId": "79be49d5-45d7-4d2e-f478-79b6fda8b3fd"
   },
   "outputs": [
    {
     "name": "stdout",
     "output_type": "stream",
     "text": [
      "I LOVE TO WATCH FOOTBALL, BUT I HAVE NEVER PLAYED IT\n"
     ]
    }
   ],
   "source": [
    "text = \"I love to watch football, but I have never played it\"\n",
    "text_blob_object = TextBlob(text)\n",
    "\n",
    "print(text_blob_object.upper())"
   ]
  },
  {
   "cell_type": "code",
   "execution_count": null,
   "metadata": {
    "id": "oA5CVIeubM0k",
    "outputId": "816cb9eb-9623-4ae2-b893-a926b10e45a0"
   },
   "outputs": [
    {
     "name": "stdout",
     "output_type": "stream",
     "text": [
      "i love to watch football, but i have never played it\n"
     ]
    }
   ],
   "source": [
    "text = \"I LOVE TO WATCH FOOTBALL, BUT I HAVE NEVER PLAYED IT\"\n",
    "text_blob_object = TextBlob(text)\n",
    "\n",
    "print(text_blob_object.lower())"
   ]
  },
  {
   "cell_type": "markdown",
   "metadata": {
    "id": "1GuhYLcQbM0l"
   },
   "source": [
    "## Sentiment Analysis\n",
    "\n",
    "The sentiment property returns a named tuple of the form Sentiment(polarity, subjectivity). \n",
    "\n",
    "Polarity is a float value within the range [-1.0 to 1.0] where \n",
    "\n",
    "    0 indicates neutral, \n",
    "    +1 indicates a very positive sentiment and \n",
    "    -1 represents a very negative sentiment.\n",
    "\n",
    "Subjectivity is a float value within the range [0.0 to 1.0] where \n",
    "\n",
    "    0.0 is very objective and \n",
    "    1.0 is very subjective. \n"
   ]
  },
  {
   "cell_type": "markdown",
   "metadata": {
    "id": "lrYPwZIzyDqp"
   },
   "source": [
    "**Polarity score  [- 1, 1 ]** \n",
    "\n",
    "1.   closer to -1 -- negative sentiment\n",
    "2.   closer to +1 - positive sentiment\n",
    "\n",
    "\n",
    "\n",
    "**Subjectivity Score  [0,1 ]** \n",
    " \n",
    "\n",
    "1.   close to 1 mean more of personal opinion\n",
    "2.   closer to 0 mean more of factual information"
   ]
  },
  {
   "cell_type": "code",
   "execution_count": 126,
   "metadata": {
    "colab": {
     "base_uri": "https://localhost:8080/"
    },
    "executionInfo": {
     "elapsed": 1129,
     "status": "ok",
     "timestamp": 1608486634505,
     "user": {
      "displayName": "sujata drall",
      "photoUrl": "",
      "userId": "07858160099359690614"
     },
     "user_tz": -330
    },
    "id": "UmWaZZl1yA_w",
    "outputId": "fb2e72bc-3a0b-4a9d-8eae-791bf9164839"
   },
   "outputs": [
    {
     "data": {
      "text/plain": [
       "Sentiment(polarity=0.0, subjectivity=0.0)"
      ]
     },
     "execution_count": 126,
     "metadata": {
      "tags": []
     },
     "output_type": "execute_result"
    }
   ],
   "source": [
    "TextBlob(\"so the two together did the job\").sentiment"
   ]
  },
  {
   "cell_type": "code",
   "execution_count": 35,
   "metadata": {
    "ExecuteTime": {
     "end_time": "2021-07-24T10:31:19.611553Z",
     "start_time": "2021-07-24T10:31:19.604569Z"
    },
    "executionInfo": {
     "elapsed": 1360,
     "status": "ok",
     "timestamp": 1608478882699,
     "user": {
      "displayName": "sujata drall",
      "photoUrl": "",
      "userId": "07858160099359690614"
     },
     "user_tz": -330
    },
    "id": "1_jxlzZkbM0l"
   },
   "outputs": [],
   "source": [
    "testimonial1 = TextBlob(\"so the two together did the job\")\n",
    "# testimonial2 = TextBlob(\"wood is dark brown in color \")\n",
    "testimonial4 = TextBlob(\"today is a good day\")"
   ]
  },
  {
   "cell_type": "code",
   "execution_count": 36,
   "metadata": {
    "ExecuteTime": {
     "end_time": "2021-07-24T10:31:19.930479Z",
     "start_time": "2021-07-24T10:31:19.913534Z"
    },
    "colab": {
     "base_uri": "https://localhost:8080/"
    },
    "executionInfo": {
     "elapsed": 1327,
     "status": "ok",
     "timestamp": 1608478891201,
     "user": {
      "displayName": "sujata drall",
      "photoUrl": "",
      "userId": "07858160099359690614"
     },
     "user_tz": -330
    },
    "id": "j9Lu3nFZbM0m",
    "outputId": "6ca93ef4-b772-4792-83bf-4b9997c55ca2"
   },
   "outputs": [
    {
     "name": "stdout",
     "output_type": "stream",
     "text": [
      "Sentiment 1:  Sentiment(polarity=0.0, subjectivity=0.0)\n",
      "Sentiment 2:  Sentiment(polarity=0.7, subjectivity=0.6000000000000001)\n"
     ]
    }
   ],
   "source": [
    "print('Sentiment 1: ', testimonial1.sentiment)\n",
    "print('Sentiment 2: ', testimonial4.sentiment)\n",
    "\n",
    "#print('Polarity: ', testimonial1.sentiment.polarity)"
   ]
  },
  {
   "cell_type": "code",
   "execution_count": 37,
   "metadata": {
    "ExecuteTime": {
     "end_time": "2021-07-24T10:31:33.556567Z",
     "start_time": "2021-07-24T10:31:33.549554Z"
    },
    "colab": {
     "base_uri": "https://localhost:8080/"
    },
    "executionInfo": {
     "elapsed": 1108,
     "status": "ok",
     "timestamp": 1608477956914,
     "user": {
      "displayName": "sujata drall",
      "photoUrl": "",
      "userId": "07858160099359690614"
     },
     "user_tz": -330
    },
    "id": "I9gJJbaabM0m",
    "outputId": "7288b8ad-991d-4843-9e50-7984cc36d11f"
   },
   "outputs": [
    {
     "name": "stdout",
     "output_type": "stream",
     "text": [
      "Polarity:  0.0\n"
     ]
    }
   ],
   "source": [
    "print('Polarity: ', testimonial1.sentiment.polarity)"
   ]
  },
  {
   "cell_type": "code",
   "execution_count": 38,
   "metadata": {
    "ExecuteTime": {
     "end_time": "2021-07-24T10:31:38.160207Z",
     "start_time": "2021-07-24T10:31:38.150269Z"
    },
    "colab": {
     "base_uri": "https://localhost:8080/"
    },
    "executionInfo": {
     "elapsed": 1112,
     "status": "ok",
     "timestamp": 1608477958379,
     "user": {
      "displayName": "sujata drall",
      "photoUrl": "",
      "userId": "07858160099359690614"
     },
     "user_tz": -330
    },
    "id": "n-aGnCTGbM0n",
    "outputId": "803fe6f7-9ed1-4056-99a6-596f3043b73c"
   },
   "outputs": [
    {
     "name": "stdout",
     "output_type": "stream",
     "text": [
      "Polarity:  0.0\n"
     ]
    }
   ],
   "source": [
    "print('subjectivity: ', testimonial1.sentiment.subjectivity)"
   ]
  },
  {
   "cell_type": "code",
   "execution_count": 39,
   "metadata": {
    "ExecuteTime": {
     "end_time": "2021-07-24T10:32:11.650189Z",
     "start_time": "2021-07-24T10:32:11.644202Z"
    },
    "id": "_PasZgH3bM0n"
   },
   "outputs": [],
   "source": [
    "from textblob.classifiers import NaiveBayesClassifier"
   ]
  },
  {
   "cell_type": "code",
   "execution_count": 41,
   "metadata": {
    "ExecuteTime": {
     "end_time": "2021-07-24T10:32:33.272896Z",
     "start_time": "2021-07-24T10:32:33.261958Z"
    },
    "id": "DUPwCmjSbM0n"
   },
   "outputs": [],
   "source": [
    "# create some training and test data.\n",
    "\n",
    "# List of Tuples , first being the data , 2nd is the tag\n",
    "\n",
    "train = [\n",
    "     ('I love this sandwich.', 'pos'),  \n",
    "     ('this is an amazing place!', 'pos'),\n",
    "     ('I feel very good about these beers.', 'pos'),\n",
    "     ('this is my best work.', 'pos'),\n",
    "     (\"what an awesome view\", 'pos'),\n",
    "     ('I do not like this restaurant', 'neg'),\n",
    "     ('I am tired of this stuff.', 'neg'),\n",
    "     (\"I can't deal with this\", 'neg'),\n",
    "     ('he is my sworn enemy!', 'neg'),\n",
    "     ('my boss is horrible.', 'neg')\n",
    " ]"
   ]
  },
  {
   "cell_type": "code",
   "execution_count": 42,
   "metadata": {
    "ExecuteTime": {
     "end_time": "2021-07-24T10:32:34.203190Z",
     "start_time": "2021-07-24T10:32:34.189201Z"
    },
    "id": "wjg_yUnGbM0o"
   },
   "outputs": [],
   "source": [
    "test = [\n",
    "     ('the beer was good.', 'pos'),\n",
    "     ('I do not enjoy my job', 'neg'),\n",
    "     (\"I ain't feeling dandy today.\", 'neg'),\n",
    "     (\"I feel amazing!\", 'pos'),\n",
    "     ('Gary is a friend of mine.', 'pos'),\n",
    "     (\"I can't believe I'm doing this.\", 'neg')\n",
    " ]"
   ]
  },
  {
   "cell_type": "code",
   "execution_count": 43,
   "metadata": {
    "ExecuteTime": {
     "end_time": "2021-07-24T10:32:42.951645Z",
     "start_time": "2021-07-24T10:32:42.946657Z"
    },
    "id": "byB7llJWbM0p"
   },
   "outputs": [],
   "source": [
    "cl = NaiveBayesClassifier(train) # Trained my classifier on Train data"
   ]
  },
  {
   "cell_type": "code",
   "execution_count": 5,
   "metadata": {
    "ExecuteTime": {
     "end_time": "2021-03-19T15:55:31.112952Z",
     "start_time": "2021-03-19T15:55:31.108962Z"
    },
    "id": "H3J7toIxbM0p"
   },
   "outputs": [],
   "source": [
    "# Loading Data from Files\n",
    "# You can also load data from common file formats including CSV, JSON, and TSV.\n",
    "\n",
    "# CSV files should be formatted like so:\n",
    "\n",
    "# I love this sandwich.,pos\n",
    "# This is an amazing place!,pos\n",
    "# I do not like this restaurant,neg"
   ]
  },
  {
   "cell_type": "code",
   "execution_count": 47,
   "metadata": {
    "ExecuteTime": {
     "end_time": "2021-07-24T10:33:28.197844Z",
     "start_time": "2021-07-24T10:33:28.190868Z"
    },
    "id": "MBcddwhFbM0p",
    "outputId": "dfd3c203-1103-4e54-8257-71ce5081e3ac"
   },
   "outputs": [
    {
     "data": {
      "text/plain": [
       "'pos'"
      ]
     },
     "execution_count": 47,
     "metadata": {},
     "output_type": "execute_result"
    }
   ],
   "source": [
    "# Classifying Text\n",
    "# Call the classify(text) method to use the classifier.\n",
    "\n",
    "cl.classify(\"This is best library!\")"
   ]
  },
  {
   "cell_type": "code",
   "execution_count": 48,
   "metadata": {
    "ExecuteTime": {
     "end_time": "2021-07-24T10:33:29.700015Z",
     "start_time": "2021-07-24T10:33:29.696028Z"
    },
    "id": "--9qKHypbM0q"
   },
   "outputs": [],
   "source": [
    "# You can get the label probability distribution with the prob_classify(text) method."
   ]
  },
  {
   "cell_type": "code",
   "execution_count": 49,
   "metadata": {
    "ExecuteTime": {
     "end_time": "2021-07-24T10:33:33.856286Z",
     "start_time": "2021-07-24T10:33:33.839300Z"
    },
    "id": "D927pjhfbM0q"
   },
   "outputs": [],
   "source": [
    "prob_dist = cl.prob_classify(\"This one's a doozy.\")"
   ]
  },
  {
   "cell_type": "code",
   "execution_count": 10,
   "metadata": {
    "ExecuteTime": {
     "end_time": "2021-03-19T15:55:35.118968Z",
     "start_time": "2021-03-19T15:55:35.110989Z"
    },
    "id": "6II0XlQ8bM0s",
    "outputId": "b5681c4f-75b2-4e2a-ee44-f1c96cf96a5a"
   },
   "outputs": [
    {
     "data": {
      "text/plain": [
       "0.63"
      ]
     },
     "execution_count": 10,
     "metadata": {},
     "output_type": "execute_result"
    }
   ],
   "source": [
    "round(prob_dist.prob(\"pos\"), 2)"
   ]
  },
  {
   "cell_type": "code",
   "execution_count": 51,
   "metadata": {
    "ExecuteTime": {
     "end_time": "2021-07-24T10:33:40.928014Z",
     "start_time": "2021-07-24T10:33:40.910075Z"
    },
    "id": "sjBTRtplbM0s",
    "outputId": "e50eb7c2-9386-4c23-d9af-f93b097d7ab3"
   },
   "outputs": [
    {
     "data": {
      "text/plain": [
       "0.37"
      ]
     },
     "execution_count": 51,
     "metadata": {},
     "output_type": "execute_result"
    }
   ],
   "source": [
    "round(prob_dist.prob(\"neg\"), 2)"
   ]
  },
  {
   "cell_type": "code",
   "execution_count": 52,
   "metadata": {
    "ExecuteTime": {
     "end_time": "2021-07-24T10:33:48.674358Z",
     "start_time": "2021-07-24T10:33:48.661435Z"
    },
    "id": "vuEye-O2bM0s",
    "outputId": "d14e9232-edb4-4b15-d7e8-1815d299c1dc"
   },
   "outputs": [
    {
     "data": {
      "text/plain": [
       "0.8333333333333334"
      ]
     },
     "execution_count": 52,
     "metadata": {},
     "output_type": "execute_result"
    }
   ],
   "source": [
    "# Evaluating Classifiers\n",
    "# To compute the accuracy on our test set, use the accuracy(test_data) method.\n",
    "\n",
    "cl.accuracy(test)"
   ]
  },
  {
   "cell_type": "markdown",
   "metadata": {
    "id": "F6hOFNEAbM0t"
   },
   "source": [
    "### Updating Classifiers with New Data"
   ]
  },
  {
   "cell_type": "code",
   "execution_count": 58,
   "metadata": {
    "ExecuteTime": {
     "end_time": "2021-07-24T10:34:24.163939Z",
     "start_time": "2021-07-24T10:34:24.156011Z"
    },
    "id": "JWwhhHh3bM0t"
   },
   "outputs": [],
   "source": [
    "new_data = [('She is my best friend.', 'pos'),\n",
    "             (\"I'm happy to have a new friend.\", 'pos'),\n",
    "             (\"Stay thirsty, my friend.\", 'pos'),\n",
    "             (\"He ain't from around here.\", 'neg')]"
   ]
  },
  {
   "cell_type": "code",
   "execution_count": 59,
   "metadata": {
    "ExecuteTime": {
     "end_time": "2021-07-24T10:34:24.527901Z",
     "start_time": "2021-07-24T10:34:24.516939Z"
    },
    "id": "Ux_AspzUbM0u",
    "outputId": "3a342421-0048-4273-e671-b7580bbe89f7"
   },
   "outputs": [
    {
     "data": {
      "text/plain": [
       "True"
      ]
     },
     "execution_count": 59,
     "metadata": {},
     "output_type": "execute_result"
    }
   ],
   "source": [
    "cl.update(new_data)"
   ]
  },
  {
   "cell_type": "code",
   "execution_count": 60,
   "metadata": {
    "ExecuteTime": {
     "end_time": "2021-07-24T10:34:24.795008Z",
     "start_time": "2021-07-24T10:34:24.788032Z"
    },
    "id": "XzWZZOV7bM0u",
    "outputId": "eff1a06d-3f05-424a-81d1-b3189cdc8e33"
   },
   "outputs": [
    {
     "data": {
      "text/plain": [
       "1.0"
      ]
     },
     "execution_count": 60,
     "metadata": {},
     "output_type": "execute_result"
    }
   ],
   "source": [
    "cl.accuracy(test)"
   ]
  },
  {
   "cell_type": "code",
   "execution_count": 61,
   "metadata": {
    "ExecuteTime": {
     "end_time": "2021-07-24T10:34:25.138314Z",
     "start_time": "2021-07-24T10:34:25.118347Z"
    },
    "id": "S66b7cc8bM0v",
    "outputId": "8c7ce97b-c0bf-44fd-de92-559246551869"
   },
   "outputs": [
    {
     "data": {
      "text/plain": [
       "'pos'"
      ]
     },
     "execution_count": 61,
     "metadata": {},
     "output_type": "execute_result"
    }
   ],
   "source": [
    "cl.classify(\"This is an worst library!\")"
   ]
  },
  {
   "cell_type": "code",
   "execution_count": null,
   "metadata": {},
   "outputs": [],
   "source": []
  }
 ],
 "metadata": {
  "colab": {
   "collapsed_sections": [],
   "name": "Textblob_Handson.ipynb",
   "provenance": []
  },
  "kernelspec": {
   "display_name": "Python 3",
   "language": "python",
   "name": "python3"
  },
  "language_info": {
   "codemirror_mode": {
    "name": "ipython",
    "version": 3
   },
   "file_extension": ".py",
   "mimetype": "text/x-python",
   "name": "python",
   "nbconvert_exporter": "python",
   "pygments_lexer": "ipython3",
   "version": "3.8.3"
  },
  "varInspector": {
   "cols": {
    "lenName": 16,
    "lenType": 16,
    "lenVar": 40
   },
   "kernels_config": {
    "python": {
     "delete_cmd_postfix": "",
     "delete_cmd_prefix": "del ",
     "library": "var_list.py",
     "varRefreshCmd": "print(var_dic_list())"
    },
    "r": {
     "delete_cmd_postfix": ") ",
     "delete_cmd_prefix": "rm(",
     "library": "var_list.r",
     "varRefreshCmd": "cat(var_dic_list()) "
    }
   },
   "types_to_exclude": [
    "module",
    "function",
    "builtin_function_or_method",
    "instance",
    "_Feature"
   ],
   "window_display": false
  }
 },
 "nbformat": 4,
 "nbformat_minor": 1
}
