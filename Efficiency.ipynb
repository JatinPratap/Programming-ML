{
 "cells": [
  {
   "cell_type": "code",
   "execution_count": null,
   "metadata": {},
   "outputs": [],
   "source": [
    "# Import necessary libraries\n",
    "import pandas as pd\n",
    "import numpy as np\n",
    "from sklearn.model_selection import train_test_split\n",
    "from sklearn.preprocessing import StandardScaler\n",
    "from sklearn.preprocessing import LabelEncoder\n",
    "from sklearn.tree import DecisionTreeRegressor\n",
    "from sklearn.linear_model import LinearRegression\n",
    "from sklearn.ensemble import RandomForestRegressor\n",
    "from sklearn.metrics import mean_squared_error\n",
    "from xgboost import XGBRegressor\n",
    "import matplotlib.pyplot as plt\n",
    "import seaborn as sns\n",
    "import warnings\n",
    "warnings.filterwarnings('ignore')"
   ]
  },
  {
   "cell_type": "code",
   "execution_count": null,
   "metadata": {},
   "outputs": [],
   "source": [
    "import os\n",
    "os.chdir(\"C:\\\\Users\\\\jatin\\\\Desktop\")"
   ]
  },
  {
   "cell_type": "code",
   "execution_count": null,
   "metadata": {},
   "outputs": [],
   "source": [
    "df = pd.read_excel('Efficiency.xlsx')\n",
    "df.head()"
   ]
  },
  {
   "cell_type": "code",
   "execution_count": null,
   "metadata": {},
   "outputs": [],
   "source": [
    "df.hist(figsize=(15,30),layout=(9,3))\n",
    "plt.show()"
   ]
  },
  {
   "cell_type": "code",
   "execution_count": null,
   "metadata": {},
   "outputs": [],
   "source": [
    "df.info()"
   ]
  },
  {
   "cell_type": "code",
   "execution_count": null,
   "metadata": {},
   "outputs": [],
   "source": [
    "df.isnull().sum()"
   ]
  },
  {
   "cell_type": "code",
   "execution_count": null,
   "metadata": {},
   "outputs": [],
   "source": [
    "sns.heatmap(df.corr())\n"
   ]
  },
  {
   "cell_type": "code",
   "execution_count": null,
   "metadata": {},
   "outputs": [],
   "source": [
    "le = LabelEncoder()\n",
    "df['Type_of_order'] = le.fit_transform(df['Type_of_order'])"
   ]
  },
  {
   "cell_type": "code",
   "execution_count": null,
   "metadata": {},
   "outputs": [],
   "source": [
    "# Split the data\n",
    "X = df.drop(['Efficiency', 'Unique Identifier'], axis=1) \n",
    "y = df['Efficiency']\n",
    "X_train, X_test, y_train, y_test = train_test_split(X, y, test_size=0.2, random_state=42)\n"
   ]
  },
  {
   "cell_type": "code",
   "execution_count": null,
   "metadata": {},
   "outputs": [],
   "source": [
    "# Models\n",
    "models = {\n",
    "    \"Linear Regression\": LinearRegression(),\n",
    "    \"Decision Tree\": DecisionTreeRegressor(),\n",
    "    \"Random Forest\": RandomForestRegressor(),\n",
    "    \"XG Boost Boosting\": XGBRegressor(),\n",
    "}"
   ]
  },
  {
   "cell_type": "code",
   "execution_count": null,
   "metadata": {},
   "outputs": [],
   "source": [
    "from sklearn.metrics import r2_score\n",
    "import matplotlib.pyplot as plt\n",
    "\n",
    "# Training, Evaluation and Visualization\n",
    "rmse_scores = []\n",
    "r2_scores = []\n",
    "\n",
    "for name, model in models.items():\n",
    "    model.fit(X_train, y_train)\n",
    "    y_pred = model.predict(X_test)\n",
    "    rmse = np.sqrt(mean_squared_error(y_test, y_pred))\n",
    "    r2 = r2_score(y_test, y_pred)\n",
    "    rmse_scores.append(rmse)\n",
    "    r2_scores.append(r2)\n",
    "    print(f\"{name} Model RMSE: {rmse}\")\n",
    "    print(f\"{name} Model R2 Score: {r2}\")\n",
    "\n",
    "# Bar chart for RMSE\n",
    "plt.figure(figsize=(10, 5))\n",
    "plt.bar(models.keys(), rmse_scores)\n",
    "plt.title('Model RMSE Comparison')\n",
    "plt.ylabel('RMSE')\n",
    "plt.show()\n",
    "\n",
    "# Bar chart for R2 Score\n",
    "plt.figure(figsize=(10, 5))\n",
    "plt.bar(models.keys(), r2_scores)\n",
    "plt.title('Model R2 Score Comparison')\n",
    "plt.ylabel('R2 Score')\n",
    "plt.show()"
   ]
  },
  {
   "cell_type": "code",
   "execution_count": null,
   "metadata": {},
   "outputs": [],
   "source": [
    "\n",
    "# Import necessary libraries\n",
    "import ipywidgets as widgets\n",
    "from IPython.display import display\n",
    "\n",
    "# Create widgets for each feature\n",
    "age_widget = widgets.IntSlider(min=18, max=70, value=25, description='Age:')\n",
    "ratings_widget = widgets.FloatSlider(min=0, max=5, step=0.1, value=3, description='Ratings:')\n",
    "distance_widget = widgets.FloatSlider(min=0, max=50, step=0.1, value=10, description='Distance:')\n",
    "Total_hours_clocked = widgets.IntSlider(min=1, max=12, value=25, description='Total hours clocked:')\n",
    "order_widget = widgets.Dropdown(options=le.classes_, description='Order Type:')\n",
    "vibration_widget = widgets.IntSlider(min=0, max=10, value=5, description='Vibration Alerts:')\n",
    "time_widget = widgets.IntSlider(min=0, max=120, value=30, description='Time Taken:')\n",
    "acceleration_widget = widgets.IntSlider(min=0, max=10, value=5, description='Acceleration Events:')\n",
    "braking_widget = widgets.IntSlider(min=0, max=10, value=5, description='Braking Events:')\n",
    "\n",
    "# Create a button to trigger prediction\n",
    "predict_button = widgets.Button(description='Predict Efficiency')\n",
    "\n",
    "# Display the widgets\n",
    "display(age_widget, ratings_widget, distance_widget, order_widget, Total_hours_clocked, vibration_widget, time_widget, acceleration_widget, braking_widget, predict_button)\n",
    "\n",
    "xgb_model = XGBRegressor()\n",
    "xgb_model.fit(X_train, y_train)\n",
    "\n",
    "# Define the function to be triggered on button click\n",
    "def predict(button):\n",
    "    # Create a DataFrame from the widget values\n",
    "    data1 = pd.DataFrame({\n",
    "        'Delivery_person_Age': [age_widget.value],\n",
    "        'Delivery_person_Ratings': [ratings_widget.value],\n",
    "        'Distance': [distance_widget.value],\n",
    "        'Time_taken': [time_widget.value],\n",
    "        'Total Clocked Hours': [Total_hours_clocked.value],\n",
    "        'Type_of_order': [le.transform([order_widget.value])[0]],  # ensure it's numeric\n",
    "        'Vibration alert': [vibration_widget.value],\n",
    "        'Acceleration Events': [acceleration_widget.value],\n",
    "        'Braking Events': [braking_widget.value]\n",
    "    })  # ensure the order of columns matches the training data\n",
    "    \n",
    "    # Make a prediction\n",
    "    prediction = xgb_model.predict(data1)  # use the best model to predict\n",
    "    \n",
    "    print(f\"\\nThe estimated efficiency is: {prediction[0]}\")\n",
    "\n",
    "# Set the function to be triggered on button click\n",
    "predict_button.on_click(predict)\n"
   ]
  },
  {
   "cell_type": "code",
   "execution_count": null,
   "metadata": {},
   "outputs": [],
   "source": []
  }
 ],
 "metadata": {
  "kernelspec": {
   "display_name": "Python 3",
   "language": "python",
   "name": "python3"
  },
  "language_info": {
   "codemirror_mode": {
    "name": "ipython",
    "version": 3
   },
   "file_extension": ".py",
   "mimetype": "text/x-python",
   "name": "python",
   "nbconvert_exporter": "python",
   "pygments_lexer": "ipython3",
   "version": "3.10.5"
  },
  "orig_nbformat": 4
 },
 "nbformat": 4,
 "nbformat_minor": 2
}
