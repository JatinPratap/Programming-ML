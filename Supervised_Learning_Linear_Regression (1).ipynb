{
  "nbformat": 4,
  "nbformat_minor": 0,
  "metadata": {
    "kernelspec": {
      "display_name": "Python 3",
      "language": "python",
      "name": "python3"
    },
    "language_info": {
      "codemirror_mode": {
        "name": "ipython",
        "version": 3
      },
      "file_extension": ".py",
      "mimetype": "text/x-python",
      "name": "python",
      "nbconvert_exporter": "python",
      "pygments_lexer": "ipython3",
      "version": "3.8.8"
    },
    "colab": {
      "name": "Supervised Learning - Linear Regression.ipynb",
      "provenance": []
    }
  },
  "cells": [
    {
      "cell_type": "code",
      "metadata": {
        "id": "7wPDRd6k8tk-"
      },
      "source": [
        "from sklearn.datasets import load_boston\n",
        "import pandas as pd\n",
        "import numpy as np\n",
        "import seaborn as sns\n",
        "import matplotlib.pyplot as plt"
      ],
      "execution_count": 1,
      "outputs": []
    },
    {
      "cell_type": "code",
      "metadata": {
        "id": "hGNgI11v8tk-"
      },
      "source": [
        "bs = load_boston()"
      ],
      "execution_count": 2,
      "outputs": []
    },
    {
      "cell_type": "code",
      "metadata": {
        "colab": {
          "base_uri": "https://localhost:8080/"
        },
        "id": "0JxyGREu8tk_",
        "outputId": "f925d2d6-aa42-49bc-d276-532dc70d4069"
      },
      "source": [
        "bs.keys()"
      ],
      "execution_count": 3,
      "outputs": [
        {
          "output_type": "execute_result",
          "data": {
            "text/plain": [
              "dict_keys(['data', 'target', 'feature_names', 'DESCR', 'filename'])"
            ]
          },
          "metadata": {
            "tags": []
          },
          "execution_count": 3
        }
      ]
    },
    {
      "cell_type": "code",
      "metadata": {
        "colab": {
          "base_uri": "https://localhost:8080/"
        },
        "id": "pcLG_Ws08tk_",
        "outputId": "41bc1071-c4e5-424a-c867-eaf8e466581c"
      },
      "source": [
        "print(bs.DESCR)"
      ],
      "execution_count": 4,
      "outputs": [
        {
          "output_type": "stream",
          "text": [
            ".. _boston_dataset:\n",
            "\n",
            "Boston house prices dataset\n",
            "---------------------------\n",
            "\n",
            "**Data Set Characteristics:**  \n",
            "\n",
            "    :Number of Instances: 506 \n",
            "\n",
            "    :Number of Attributes: 13 numeric/categorical predictive. Median Value (attribute 14) is usually the target.\n",
            "\n",
            "    :Attribute Information (in order):\n",
            "        - CRIM     per capita crime rate by town\n",
            "        - ZN       proportion of residential land zoned for lots over 25,000 sq.ft.\n",
            "        - INDUS    proportion of non-retail business acres per town\n",
            "        - CHAS     Charles River dummy variable (= 1 if tract bounds river; 0 otherwise)\n",
            "        - NOX      nitric oxides concentration (parts per 10 million)\n",
            "        - RM       average number of rooms per dwelling\n",
            "        - AGE      proportion of owner-occupied units built prior to 1940\n",
            "        - DIS      weighted distances to five Boston employment centres\n",
            "        - RAD      index of accessibility to radial highways\n",
            "        - TAX      full-value property-tax rate per $10,000\n",
            "        - PTRATIO  pupil-teacher ratio by town\n",
            "        - B        1000(Bk - 0.63)^2 where Bk is the proportion of blacks by town\n",
            "        - LSTAT    % lower status of the population\n",
            "        - MEDV     Median value of owner-occupied homes in $1000's\n",
            "\n",
            "    :Missing Attribute Values: None\n",
            "\n",
            "    :Creator: Harrison, D. and Rubinfeld, D.L.\n",
            "\n",
            "This is a copy of UCI ML housing dataset.\n",
            "https://archive.ics.uci.edu/ml/machine-learning-databases/housing/\n",
            "\n",
            "\n",
            "This dataset was taken from the StatLib library which is maintained at Carnegie Mellon University.\n",
            "\n",
            "The Boston house-price data of Harrison, D. and Rubinfeld, D.L. 'Hedonic\n",
            "prices and the demand for clean air', J. Environ. Economics & Management,\n",
            "vol.5, 81-102, 1978.   Used in Belsley, Kuh & Welsch, 'Regression diagnostics\n",
            "...', Wiley, 1980.   N.B. Various transformations are used in the table on\n",
            "pages 244-261 of the latter.\n",
            "\n",
            "The Boston house-price data has been used in many machine learning papers that address regression\n",
            "problems.   \n",
            "     \n",
            ".. topic:: References\n",
            "\n",
            "   - Belsley, Kuh & Welsch, 'Regression diagnostics: Identifying Influential Data and Sources of Collinearity', Wiley, 1980. 244-261.\n",
            "   - Quinlan,R. (1993). Combining Instance-Based and Model-Based Learning. In Proceedings on the Tenth International Conference of Machine Learning, 236-243, University of Massachusetts, Amherst. Morgan Kaufmann.\n",
            "\n"
          ],
          "name": "stdout"
        }
      ]
    },
    {
      "cell_type": "code",
      "metadata": {
        "colab": {
          "base_uri": "https://localhost:8080/"
        },
        "id": "NRvnXFxN8tk_",
        "outputId": "300accc5-166f-419f-b7a8-c8e0b3aa2f04"
      },
      "source": [
        "bs.data.shape"
      ],
      "execution_count": 5,
      "outputs": [
        {
          "output_type": "execute_result",
          "data": {
            "text/plain": [
              "(506, 13)"
            ]
          },
          "metadata": {
            "tags": []
          },
          "execution_count": 5
        }
      ]
    },
    {
      "cell_type": "code",
      "metadata": {
        "colab": {
          "base_uri": "https://localhost:8080/"
        },
        "id": "Z4_BuRSb8tlA",
        "outputId": "5dd835fd-2c5c-455c-82e9-87327f82747b"
      },
      "source": [
        "type(bs)"
      ],
      "execution_count": 6,
      "outputs": [
        {
          "output_type": "execute_result",
          "data": {
            "text/plain": [
              "sklearn.utils.Bunch"
            ]
          },
          "metadata": {
            "tags": []
          },
          "execution_count": 6
        }
      ]
    },
    {
      "cell_type": "code",
      "metadata": {
        "colab": {
          "base_uri": "https://localhost:8080/"
        },
        "id": "jPydF60w8tlA",
        "outputId": "1345f03c-fa38-47c0-f500-8cbc0555426a"
      },
      "source": [
        "bs.data"
      ],
      "execution_count": 7,
      "outputs": [
        {
          "output_type": "execute_result",
          "data": {
            "text/plain": [
              "array([[6.3200e-03, 1.8000e+01, 2.3100e+00, ..., 1.5300e+01, 3.9690e+02,\n",
              "        4.9800e+00],\n",
              "       [2.7310e-02, 0.0000e+00, 7.0700e+00, ..., 1.7800e+01, 3.9690e+02,\n",
              "        9.1400e+00],\n",
              "       [2.7290e-02, 0.0000e+00, 7.0700e+00, ..., 1.7800e+01, 3.9283e+02,\n",
              "        4.0300e+00],\n",
              "       ...,\n",
              "       [6.0760e-02, 0.0000e+00, 1.1930e+01, ..., 2.1000e+01, 3.9690e+02,\n",
              "        5.6400e+00],\n",
              "       [1.0959e-01, 0.0000e+00, 1.1930e+01, ..., 2.1000e+01, 3.9345e+02,\n",
              "        6.4800e+00],\n",
              "       [4.7410e-02, 0.0000e+00, 1.1930e+01, ..., 2.1000e+01, 3.9690e+02,\n",
              "        7.8800e+00]])"
            ]
          },
          "metadata": {
            "tags": []
          },
          "execution_count": 7
        }
      ]
    },
    {
      "cell_type": "code",
      "metadata": {
        "id": "gIiN_mma8tlA"
      },
      "source": [
        "boston = pd.DataFrame(bs.data, columns = bs.feature_names)\n",
        "boston['MEDV'] = bs.target"
      ],
      "execution_count": 8,
      "outputs": []
    },
    {
      "cell_type": "code",
      "metadata": {
        "colab": {
          "base_uri": "https://localhost:8080/",
          "height": 417
        },
        "id": "6LGD6ZfN8tlB",
        "outputId": "c8c832c6-6279-430a-8451-c7c5a9a7f7f3"
      },
      "source": [
        "boston"
      ],
      "execution_count": 9,
      "outputs": [
        {
          "output_type": "execute_result",
          "data": {
            "text/html": [
              "<div>\n",
              "<style scoped>\n",
              "    .dataframe tbody tr th:only-of-type {\n",
              "        vertical-align: middle;\n",
              "    }\n",
              "\n",
              "    .dataframe tbody tr th {\n",
              "        vertical-align: top;\n",
              "    }\n",
              "\n",
              "    .dataframe thead th {\n",
              "        text-align: right;\n",
              "    }\n",
              "</style>\n",
              "<table border=\"1\" class=\"dataframe\">\n",
              "  <thead>\n",
              "    <tr style=\"text-align: right;\">\n",
              "      <th></th>\n",
              "      <th>CRIM</th>\n",
              "      <th>ZN</th>\n",
              "      <th>INDUS</th>\n",
              "      <th>CHAS</th>\n",
              "      <th>NOX</th>\n",
              "      <th>RM</th>\n",
              "      <th>AGE</th>\n",
              "      <th>DIS</th>\n",
              "      <th>RAD</th>\n",
              "      <th>TAX</th>\n",
              "      <th>PTRATIO</th>\n",
              "      <th>B</th>\n",
              "      <th>LSTAT</th>\n",
              "      <th>MEDV</th>\n",
              "    </tr>\n",
              "  </thead>\n",
              "  <tbody>\n",
              "    <tr>\n",
              "      <th>0</th>\n",
              "      <td>0.00632</td>\n",
              "      <td>18.0</td>\n",
              "      <td>2.31</td>\n",
              "      <td>0.0</td>\n",
              "      <td>0.538</td>\n",
              "      <td>6.575</td>\n",
              "      <td>65.2</td>\n",
              "      <td>4.0900</td>\n",
              "      <td>1.0</td>\n",
              "      <td>296.0</td>\n",
              "      <td>15.3</td>\n",
              "      <td>396.90</td>\n",
              "      <td>4.98</td>\n",
              "      <td>24.0</td>\n",
              "    </tr>\n",
              "    <tr>\n",
              "      <th>1</th>\n",
              "      <td>0.02731</td>\n",
              "      <td>0.0</td>\n",
              "      <td>7.07</td>\n",
              "      <td>0.0</td>\n",
              "      <td>0.469</td>\n",
              "      <td>6.421</td>\n",
              "      <td>78.9</td>\n",
              "      <td>4.9671</td>\n",
              "      <td>2.0</td>\n",
              "      <td>242.0</td>\n",
              "      <td>17.8</td>\n",
              "      <td>396.90</td>\n",
              "      <td>9.14</td>\n",
              "      <td>21.6</td>\n",
              "    </tr>\n",
              "    <tr>\n",
              "      <th>2</th>\n",
              "      <td>0.02729</td>\n",
              "      <td>0.0</td>\n",
              "      <td>7.07</td>\n",
              "      <td>0.0</td>\n",
              "      <td>0.469</td>\n",
              "      <td>7.185</td>\n",
              "      <td>61.1</td>\n",
              "      <td>4.9671</td>\n",
              "      <td>2.0</td>\n",
              "      <td>242.0</td>\n",
              "      <td>17.8</td>\n",
              "      <td>392.83</td>\n",
              "      <td>4.03</td>\n",
              "      <td>34.7</td>\n",
              "    </tr>\n",
              "    <tr>\n",
              "      <th>3</th>\n",
              "      <td>0.03237</td>\n",
              "      <td>0.0</td>\n",
              "      <td>2.18</td>\n",
              "      <td>0.0</td>\n",
              "      <td>0.458</td>\n",
              "      <td>6.998</td>\n",
              "      <td>45.8</td>\n",
              "      <td>6.0622</td>\n",
              "      <td>3.0</td>\n",
              "      <td>222.0</td>\n",
              "      <td>18.7</td>\n",
              "      <td>394.63</td>\n",
              "      <td>2.94</td>\n",
              "      <td>33.4</td>\n",
              "    </tr>\n",
              "    <tr>\n",
              "      <th>4</th>\n",
              "      <td>0.06905</td>\n",
              "      <td>0.0</td>\n",
              "      <td>2.18</td>\n",
              "      <td>0.0</td>\n",
              "      <td>0.458</td>\n",
              "      <td>7.147</td>\n",
              "      <td>54.2</td>\n",
              "      <td>6.0622</td>\n",
              "      <td>3.0</td>\n",
              "      <td>222.0</td>\n",
              "      <td>18.7</td>\n",
              "      <td>396.90</td>\n",
              "      <td>5.33</td>\n",
              "      <td>36.2</td>\n",
              "    </tr>\n",
              "    <tr>\n",
              "      <th>...</th>\n",
              "      <td>...</td>\n",
              "      <td>...</td>\n",
              "      <td>...</td>\n",
              "      <td>...</td>\n",
              "      <td>...</td>\n",
              "      <td>...</td>\n",
              "      <td>...</td>\n",
              "      <td>...</td>\n",
              "      <td>...</td>\n",
              "      <td>...</td>\n",
              "      <td>...</td>\n",
              "      <td>...</td>\n",
              "      <td>...</td>\n",
              "      <td>...</td>\n",
              "    </tr>\n",
              "    <tr>\n",
              "      <th>501</th>\n",
              "      <td>0.06263</td>\n",
              "      <td>0.0</td>\n",
              "      <td>11.93</td>\n",
              "      <td>0.0</td>\n",
              "      <td>0.573</td>\n",
              "      <td>6.593</td>\n",
              "      <td>69.1</td>\n",
              "      <td>2.4786</td>\n",
              "      <td>1.0</td>\n",
              "      <td>273.0</td>\n",
              "      <td>21.0</td>\n",
              "      <td>391.99</td>\n",
              "      <td>9.67</td>\n",
              "      <td>22.4</td>\n",
              "    </tr>\n",
              "    <tr>\n",
              "      <th>502</th>\n",
              "      <td>0.04527</td>\n",
              "      <td>0.0</td>\n",
              "      <td>11.93</td>\n",
              "      <td>0.0</td>\n",
              "      <td>0.573</td>\n",
              "      <td>6.120</td>\n",
              "      <td>76.7</td>\n",
              "      <td>2.2875</td>\n",
              "      <td>1.0</td>\n",
              "      <td>273.0</td>\n",
              "      <td>21.0</td>\n",
              "      <td>396.90</td>\n",
              "      <td>9.08</td>\n",
              "      <td>20.6</td>\n",
              "    </tr>\n",
              "    <tr>\n",
              "      <th>503</th>\n",
              "      <td>0.06076</td>\n",
              "      <td>0.0</td>\n",
              "      <td>11.93</td>\n",
              "      <td>0.0</td>\n",
              "      <td>0.573</td>\n",
              "      <td>6.976</td>\n",
              "      <td>91.0</td>\n",
              "      <td>2.1675</td>\n",
              "      <td>1.0</td>\n",
              "      <td>273.0</td>\n",
              "      <td>21.0</td>\n",
              "      <td>396.90</td>\n",
              "      <td>5.64</td>\n",
              "      <td>23.9</td>\n",
              "    </tr>\n",
              "    <tr>\n",
              "      <th>504</th>\n",
              "      <td>0.10959</td>\n",
              "      <td>0.0</td>\n",
              "      <td>11.93</td>\n",
              "      <td>0.0</td>\n",
              "      <td>0.573</td>\n",
              "      <td>6.794</td>\n",
              "      <td>89.3</td>\n",
              "      <td>2.3889</td>\n",
              "      <td>1.0</td>\n",
              "      <td>273.0</td>\n",
              "      <td>21.0</td>\n",
              "      <td>393.45</td>\n",
              "      <td>6.48</td>\n",
              "      <td>22.0</td>\n",
              "    </tr>\n",
              "    <tr>\n",
              "      <th>505</th>\n",
              "      <td>0.04741</td>\n",
              "      <td>0.0</td>\n",
              "      <td>11.93</td>\n",
              "      <td>0.0</td>\n",
              "      <td>0.573</td>\n",
              "      <td>6.030</td>\n",
              "      <td>80.8</td>\n",
              "      <td>2.5050</td>\n",
              "      <td>1.0</td>\n",
              "      <td>273.0</td>\n",
              "      <td>21.0</td>\n",
              "      <td>396.90</td>\n",
              "      <td>7.88</td>\n",
              "      <td>11.9</td>\n",
              "    </tr>\n",
              "  </tbody>\n",
              "</table>\n",
              "<p>506 rows × 14 columns</p>\n",
              "</div>"
            ],
            "text/plain": [
              "        CRIM    ZN  INDUS  CHAS    NOX  ...    TAX  PTRATIO       B  LSTAT  MEDV\n",
              "0    0.00632  18.0   2.31   0.0  0.538  ...  296.0     15.3  396.90   4.98  24.0\n",
              "1    0.02731   0.0   7.07   0.0  0.469  ...  242.0     17.8  396.90   9.14  21.6\n",
              "2    0.02729   0.0   7.07   0.0  0.469  ...  242.0     17.8  392.83   4.03  34.7\n",
              "3    0.03237   0.0   2.18   0.0  0.458  ...  222.0     18.7  394.63   2.94  33.4\n",
              "4    0.06905   0.0   2.18   0.0  0.458  ...  222.0     18.7  396.90   5.33  36.2\n",
              "..       ...   ...    ...   ...    ...  ...    ...      ...     ...    ...   ...\n",
              "501  0.06263   0.0  11.93   0.0  0.573  ...  273.0     21.0  391.99   9.67  22.4\n",
              "502  0.04527   0.0  11.93   0.0  0.573  ...  273.0     21.0  396.90   9.08  20.6\n",
              "503  0.06076   0.0  11.93   0.0  0.573  ...  273.0     21.0  396.90   5.64  23.9\n",
              "504  0.10959   0.0  11.93   0.0  0.573  ...  273.0     21.0  393.45   6.48  22.0\n",
              "505  0.04741   0.0  11.93   0.0  0.573  ...  273.0     21.0  396.90   7.88  11.9\n",
              "\n",
              "[506 rows x 14 columns]"
            ]
          },
          "metadata": {
            "tags": []
          },
          "execution_count": 9
        }
      ]
    },
    {
      "cell_type": "markdown",
      "metadata": {
        "id": "lZFRo-cB8tlB"
      },
      "source": [
        "# Data Exploration : Correlation"
      ]
    },
    {
      "cell_type": "code",
      "metadata": {
        "scrolled": false,
        "colab": {
          "base_uri": "https://localhost:8080/",
          "height": 356
        },
        "id": "z-3cthXE8tlB",
        "outputId": "33a26d66-5f57-4ecb-a7bd-8a450a58065a"
      },
      "source": [
        "f, ax = plt.subplots(1,3, figsize = (20,5))\n",
        "ax[0].scatter(boston.RM , boston.MEDV)\n",
        "ax[0].set_xlabel('RM')\n",
        "ax[0].set_ylabel('MEDV')\n",
        "ax[0].set_title('RM', size = 22)\n",
        "ax[1].scatter(boston.AGE , boston.MEDV)\n",
        "ax[1].set_xlabel('AGE')\n",
        "ax[1].set_ylabel('MEDV')\n",
        "ax[1].set_title('AGE', size = 22)\n",
        "ax[2].scatter(boston.LSTAT , boston.MEDV)\n",
        "ax[2].set_xlabel('LSTAT')\n",
        "ax[2].set_ylabel('MEDV')\n",
        "ax[2].set_title('LSTAT', size = 22)\n",
        "plt.show()"
      ],
      "execution_count": 10,
      "outputs": [
        {
          "output_type": "display_data",
          "data": {
            "image/png": "[encoded data removed]",
            "text/plain": [
              "<Figure size 1440x360 with 3 Axes>"
            ]
          },
          "metadata": {
            "tags": [],
            "needs_background": "light"
          }
        }
      ]
    },
    {
      "cell_type": "code",
      "metadata": {
        "colab": {
          "base_uri": "https://localhost:8080/",
          "height": 450
        },
        "id": "hRqhRHDz8tlC",
        "outputId": "01070738-3a32-4c70-b1ed-f43a41e05600"
      },
      "source": [
        "boston.drop(columns= 'CHAS').corr()"
      ],
      "execution_count": 11,
      "outputs": [
        {
          "output_type": "execute_result",
          "data": {
            "text/html": [
              "<div>\n",
              "<style scoped>\n",
              "    .dataframe tbody tr th:only-of-type {\n",
              "        vertical-align: middle;\n",
              "    }\n",
              "\n",
              "    .dataframe tbody tr th {\n",
              "        vertical-align: top;\n",
              "    }\n",
              "\n",
              "    .dataframe thead th {\n",
              "        text-align: right;\n",
              "    }\n",
              "</style>\n",
              "<table border=\"1\" class=\"dataframe\">\n",
              "  <thead>\n",
              "    <tr style=\"text-align: right;\">\n",
              "      <th></th>\n",
              "      <th>CRIM</th>\n",
              "      <th>ZN</th>\n",
              "      <th>INDUS</th>\n",
              "      <th>NOX</th>\n",
              "      <th>RM</th>\n",
              "      <th>AGE</th>\n",
              "      <th>DIS</th>\n",
              "      <th>RAD</th>\n",
              "      <th>TAX</th>\n",
              "      <th>PTRATIO</th>\n",
              "      <th>B</th>\n",
              "      <th>LSTAT</th>\n",
              "      <th>MEDV</th>\n",
              "    </tr>\n",
              "  </thead>\n",
              "  <tbody>\n",
              "    <tr>\n",
              "      <th>CRIM</th>\n",
              "      <td>1.000000</td>\n",
              "      <td>-0.200469</td>\n",
              "      <td>0.406583</td>\n",
              "      <td>0.420972</td>\n",
              "      <td>-0.219247</td>\n",
              "      <td>0.352734</td>\n",
              "      <td>-0.379670</td>\n",
              "      <td>0.625505</td>\n",
              "      <td>0.582764</td>\n",
              "      <td>0.289946</td>\n",
              "      <td>-0.385064</td>\n",
              "      <td>0.455621</td>\n",
              "      <td>-0.388305</td>\n",
              "    </tr>\n",
              "    <tr>\n",
              "      <th>ZN</th>\n",
              "      <td>-0.200469</td>\n",
              "      <td>1.000000</td>\n",
              "      <td>-0.533828</td>\n",
              "      <td>-0.516604</td>\n",
              "      <td>0.311991</td>\n",
              "      <td>-0.569537</td>\n",
              "      <td>0.664408</td>\n",
              "      <td>-0.311948</td>\n",
              "      <td>-0.314563</td>\n",
              "      <td>-0.391679</td>\n",
              "      <td>0.175520</td>\n",
              "      <td>-0.412995</td>\n",
              "      <td>0.360445</td>\n",
              "    </tr>\n",
              "    <tr>\n",
              "      <th>INDUS</th>\n",
              "      <td>0.406583</td>\n",
              "      <td>-0.533828</td>\n",
              "      <td>1.000000</td>\n",
              "      <td>0.763651</td>\n",
              "      <td>-0.391676</td>\n",
              "      <td>0.644779</td>\n",
              "      <td>-0.708027</td>\n",
              "      <td>0.595129</td>\n",
              "      <td>0.720760</td>\n",
              "      <td>0.383248</td>\n",
              "      <td>-0.356977</td>\n",
              "      <td>0.603800</td>\n",
              "      <td>-0.483725</td>\n",
              "    </tr>\n",
              "    <tr>\n",
              "      <th>NOX</th>\n",
              "      <td>0.420972</td>\n",
              "      <td>-0.516604</td>\n",
              "      <td>0.763651</td>\n",
              "      <td>1.000000</td>\n",
              "      <td>-0.302188</td>\n",
              "      <td>0.731470</td>\n",
              "      <td>-0.769230</td>\n",
              "      <td>0.611441</td>\n",
              "      <td>0.668023</td>\n",
              "      <td>0.188933</td>\n",
              "      <td>-0.380051</td>\n",
              "      <td>0.590879</td>\n",
              "      <td>-0.427321</td>\n",
              "    </tr>\n",
              "    <tr>\n",
              "      <th>RM</th>\n",
              "      <td>-0.219247</td>\n",
              "      <td>0.311991</td>\n",
              "      <td>-0.391676</td>\n",
              "      <td>-0.302188</td>\n",
              "      <td>1.000000</td>\n",
              "      <td>-0.240265</td>\n",
              "      <td>0.205246</td>\n",
              "      <td>-0.209847</td>\n",
              "      <td>-0.292048</td>\n",
              "      <td>-0.355501</td>\n",
              "      <td>0.128069</td>\n",
              "      <td>-0.613808</td>\n",
              "      <td>0.695360</td>\n",
              "    </tr>\n",
              "    <tr>\n",
              "      <th>AGE</th>\n",
              "      <td>0.352734</td>\n",
              "      <td>-0.569537</td>\n",
              "      <td>0.644779</td>\n",
              "      <td>0.731470</td>\n",
              "      <td>-0.240265</td>\n",
              "      <td>1.000000</td>\n",
              "      <td>-0.747881</td>\n",
              "      <td>0.456022</td>\n",
              "      <td>0.506456</td>\n",
              "      <td>0.261515</td>\n",
              "      <td>-0.273534</td>\n",
              "      <td>0.602339</td>\n",
              "      <td>-0.376955</td>\n",
              "    </tr>\n",
              "    <tr>\n",
              "      <th>DIS</th>\n",
              "      <td>-0.379670</td>\n",
              "      <td>0.664408</td>\n",
              "      <td>-0.708027</td>\n",
              "      <td>-0.769230</td>\n",
              "      <td>0.205246</td>\n",
              "      <td>-0.747881</td>\n",
              "      <td>1.000000</td>\n",
              "      <td>-0.494588</td>\n",
              "      <td>-0.534432</td>\n",
              "      <td>-0.232471</td>\n",
              "      <td>0.291512</td>\n",
              "      <td>-0.496996</td>\n",
              "      <td>0.249929</td>\n",
              "    </tr>\n",
              "    <tr>\n",
              "      <th>RAD</th>\n",
              "      <td>0.625505</td>\n",
              "      <td>-0.311948</td>\n",
              "      <td>0.595129</td>\n",
              "      <td>0.611441</td>\n",
              "      <td>-0.209847</td>\n",
              "      <td>0.456022</td>\n",
              "      <td>-0.494588</td>\n",
              "      <td>1.000000</td>\n",
              "      <td>0.910228</td>\n",
              "      <td>0.464741</td>\n",
              "      <td>-0.444413</td>\n",
              "      <td>0.488676</td>\n",
              "      <td>-0.381626</td>\n",
              "    </tr>\n",
              "    <tr>\n",
              "      <th>TAX</th>\n",
              "      <td>0.582764</td>\n",
              "      <td>-0.314563</td>\n",
              "      <td>0.720760</td>\n",
              "      <td>0.668023</td>\n",
              "      <td>-0.292048</td>\n",
              "      <td>0.506456</td>\n",
              "      <td>-0.534432</td>\n",
              "      <td>0.910228</td>\n",
              "      <td>1.000000</td>\n",
              "      <td>0.460853</td>\n",
              "      <td>-0.441808</td>\n",
              "      <td>0.543993</td>\n",
              "      <td>-0.468536</td>\n",
              "    </tr>\n",
              "    <tr>\n",
              "      <th>PTRATIO</th>\n",
              "      <td>0.289946</td>\n",
              "      <td>-0.391679</td>\n",
              "      <td>0.383248</td>\n",
              "      <td>0.188933</td>\n",
              "      <td>-0.355501</td>\n",
              "      <td>0.261515</td>\n",
              "      <td>-0.232471</td>\n",
              "      <td>0.464741</td>\n",
              "      <td>0.460853</td>\n",
              "      <td>1.000000</td>\n",
              "      <td>-0.177383</td>\n",
              "      <td>0.374044</td>\n",
              "      <td>-0.507787</td>\n",
              "    </tr>\n",
              "    <tr>\n",
              "      <th>B</th>\n",
              "      <td>-0.385064</td>\n",
              "      <td>0.175520</td>\n",
              "      <td>-0.356977</td>\n",
              "      <td>-0.380051</td>\n",
              "      <td>0.128069</td>\n",
              "      <td>-0.273534</td>\n",
              "      <td>0.291512</td>\n",
              "      <td>-0.444413</td>\n",
              "      <td>-0.441808</td>\n",
              "      <td>-0.177383</td>\n",
              "      <td>1.000000</td>\n",
              "      <td>-0.366087</td>\n",
              "      <td>0.333461</td>\n",
              "    </tr>\n",
              "    <tr>\n",
              "      <th>LSTAT</th>\n",
              "      <td>0.455621</td>\n",
              "      <td>-0.412995</td>\n",
              "      <td>0.603800</td>\n",
              "      <td>0.590879</td>\n",
              "      <td>-0.613808</td>\n",
              "      <td>0.602339</td>\n",
              "      <td>-0.496996</td>\n",
              "      <td>0.488676</td>\n",
              "      <td>0.543993</td>\n",
              "      <td>0.374044</td>\n",
              "      <td>-0.366087</td>\n",
              "      <td>1.000000</td>\n",
              "      <td>-0.737663</td>\n",
              "    </tr>\n",
              "    <tr>\n",
              "      <th>MEDV</th>\n",
              "      <td>-0.388305</td>\n",
              "      <td>0.360445</td>\n",
              "      <td>-0.483725</td>\n",
              "      <td>-0.427321</td>\n",
              "      <td>0.695360</td>\n",
              "      <td>-0.376955</td>\n",
              "      <td>0.249929</td>\n",
              "      <td>-0.381626</td>\n",
              "      <td>-0.468536</td>\n",
              "      <td>-0.507787</td>\n",
              "      <td>0.333461</td>\n",
              "      <td>-0.737663</td>\n",
              "      <td>1.000000</td>\n",
              "    </tr>\n",
              "  </tbody>\n",
              "</table>\n",
              "</div>"
            ],
            "text/plain": [
              "             CRIM        ZN     INDUS  ...         B     LSTAT      MEDV\n",
              "CRIM     1.000000 -0.200469  0.406583  ... -0.385064  0.455621 -0.388305\n",
              "ZN      -0.200469  1.000000 -0.533828  ...  0.175520 -0.412995  0.360445\n",
              "INDUS    0.406583 -0.533828  1.000000  ... -0.356977  0.603800 -0.483725\n",
              "NOX      0.420972 -0.516604  0.763651  ... -0.380051  0.590879 -0.427321\n",
              "RM      -0.219247  0.311991 -0.391676  ...  0.128069 -0.613808  0.695360\n",
              "AGE      0.352734 -0.569537  0.644779  ... -0.273534  0.602339 -0.376955\n",
              "DIS     -0.379670  0.664408 -0.708027  ...  0.291512 -0.496996  0.249929\n",
              "RAD      0.625505 -0.311948  0.595129  ... -0.444413  0.488676 -0.381626\n",
              "TAX      0.582764 -0.314563  0.720760  ... -0.441808  0.543993 -0.468536\n",
              "PTRATIO  0.289946 -0.391679  0.383248  ... -0.177383  0.374044 -0.507787\n",
              "B       -0.385064  0.175520 -0.356977  ...  1.000000 -0.366087  0.333461\n",
              "LSTAT    0.455621 -0.412995  0.603800  ... -0.366087  1.000000 -0.737663\n",
              "MEDV    -0.388305  0.360445 -0.483725  ...  0.333461 -0.737663  1.000000\n",
              "\n",
              "[13 rows x 13 columns]"
            ]
          },
          "metadata": {
            "tags": []
          },
          "execution_count": 11
        }
      ]
    },
    {
      "cell_type": "markdown",
      "metadata": {
        "id": "FJT7jhts8tlC"
      },
      "source": [
        "## Heat Map : Correlation Matrix"
      ]
    },
    {
      "cell_type": "code",
      "metadata": {
        "id": "BFnlnwdb8tlC"
      },
      "source": [
        "m = np.ones_like(boston.drop(columns = 'CHAS').corr())\n",
        "m[np.tril_indices_from(m)]=0"
      ],
      "execution_count": 12,
      "outputs": []
    },
    {
      "cell_type": "code",
      "metadata": {
        "colab": {
          "base_uri": "https://localhost:8080/",
          "height": 596
        },
        "id": "VcVYXKRB8tlD",
        "outputId": "5a4a27bc-8935-41b0-88ac-51aed522a039"
      },
      "source": [
        "plt.figure(figsize = (15,10))\n",
        "sns.heatmap(boston.drop(columns = 'CHAS').corr(), annot= True, annot_kws= {'size' : 12},\n",
        "           cmap = 'Blues', fmt = '.2f', linewidths= 2, linecolor='white', mask = m,vmin=-1)\n",
        "plt.show();"
      ],
      "execution_count": 13,
      "outputs": [
        {
          "output_type": "display_data",
          "data": {
            "image/png": "[encoded data removed]",
            "text/plain": [
              "<Figure size 1080x720 with 2 Axes>"
            ]
          },
          "metadata": {
            "tags": [],
            "needs_background": "light"
          }
        }
      ]
    },
    {
      "cell_type": "markdown",
      "metadata": {
        "id": "EEx383wh8tlD"
      },
      "source": [
        "# 2. Simple Linear Regression"
      ]
    },
    {
      "cell_type": "code",
      "metadata": {
        "id": "oqb2uRAH8tlD"
      },
      "source": [
        "from sklearn.model_selection import train_test_split as split\n",
        "train, test = split(boston, test_size = 0.20, random_state = 12)"
      ],
      "execution_count": 14,
      "outputs": []
    },
    {
      "cell_type": "code",
      "metadata": {
        "colab": {
          "base_uri": "https://localhost:8080/"
        },
        "id": "zCJWfguf8tlD",
        "outputId": "0a132cea-bf56-4df5-d084-068858fc70b3"
      },
      "source": [
        "train.shape"
      ],
      "execution_count": 15,
      "outputs": [
        {
          "output_type": "execute_result",
          "data": {
            "text/plain": [
              "(404, 14)"
            ]
          },
          "metadata": {
            "tags": []
          },
          "execution_count": 15
        }
      ]
    },
    {
      "cell_type": "code",
      "metadata": {
        "colab": {
          "base_uri": "https://localhost:8080/"
        },
        "id": "XcuT3bp48tlD",
        "outputId": "a93fd437-7c49-47cc-c8ff-1444fffa90e1"
      },
      "source": [
        "test.shape"
      ],
      "execution_count": 16,
      "outputs": [
        {
          "output_type": "execute_result",
          "data": {
            "text/plain": [
              "(102, 14)"
            ]
          },
          "metadata": {
            "tags": []
          },
          "execution_count": 16
        }
      ]
    },
    {
      "cell_type": "code",
      "metadata": {
        "colab": {
          "base_uri": "https://localhost:8080/",
          "height": 417
        },
        "id": "UHt5-yhH8tlE",
        "outputId": "4d70dc99-0640-488a-a19e-e82171403f95"
      },
      "source": [
        "train"
      ],
      "execution_count": 17,
      "outputs": [
        {
          "output_type": "execute_result",
          "data": {
            "text/html": [
              "<div>\n",
              "<style scoped>\n",
              "    .dataframe tbody tr th:only-of-type {\n",
              "        vertical-align: middle;\n",
              "    }\n",
              "\n",
              "    .dataframe tbody tr th {\n",
              "        vertical-align: top;\n",
              "    }\n",
              "\n",
              "    .dataframe thead th {\n",
              "        text-align: right;\n",
              "    }\n",
              "</style>\n",
              "<table border=\"1\" class=\"dataframe\">\n",
              "  <thead>\n",
              "    <tr style=\"text-align: right;\">\n",
              "      <th></th>\n",
              "      <th>CRIM</th>\n",
              "      <th>ZN</th>\n",
              "      <th>INDUS</th>\n",
              "      <th>CHAS</th>\n",
              "      <th>NOX</th>\n",
              "      <th>RM</th>\n",
              "      <th>AGE</th>\n",
              "      <th>DIS</th>\n",
              "      <th>RAD</th>\n",
              "      <th>TAX</th>\n",
              "      <th>PTRATIO</th>\n",
              "      <th>B</th>\n",
              "      <th>LSTAT</th>\n",
              "      <th>MEDV</th>\n",
              "    </tr>\n",
              "  </thead>\n",
              "  <tbody>\n",
              "    <tr>\n",
              "      <th>266</th>\n",
              "      <td>0.78570</td>\n",
              "      <td>20.0</td>\n",
              "      <td>3.97</td>\n",
              "      <td>0.0</td>\n",
              "      <td>0.6470</td>\n",
              "      <td>7.014</td>\n",
              "      <td>84.6</td>\n",
              "      <td>2.1329</td>\n",
              "      <td>5.0</td>\n",
              "      <td>264.0</td>\n",
              "      <td>13.0</td>\n",
              "      <td>384.07</td>\n",
              "      <td>14.79</td>\n",
              "      <td>30.7</td>\n",
              "    </tr>\n",
              "    <tr>\n",
              "      <th>501</th>\n",
              "      <td>0.06263</td>\n",
              "      <td>0.0</td>\n",
              "      <td>11.93</td>\n",
              "      <td>0.0</td>\n",
              "      <td>0.5730</td>\n",
              "      <td>6.593</td>\n",
              "      <td>69.1</td>\n",
              "      <td>2.4786</td>\n",
              "      <td>1.0</td>\n",
              "      <td>273.0</td>\n",
              "      <td>21.0</td>\n",
              "      <td>391.99</td>\n",
              "      <td>9.67</td>\n",
              "      <td>22.4</td>\n",
              "    </tr>\n",
              "    <tr>\n",
              "      <th>297</th>\n",
              "      <td>0.14103</td>\n",
              "      <td>0.0</td>\n",
              "      <td>13.92</td>\n",
              "      <td>0.0</td>\n",
              "      <td>0.4370</td>\n",
              "      <td>5.790</td>\n",
              "      <td>58.0</td>\n",
              "      <td>6.3200</td>\n",
              "      <td>4.0</td>\n",
              "      <td>289.0</td>\n",
              "      <td>16.0</td>\n",
              "      <td>396.90</td>\n",
              "      <td>15.84</td>\n",
              "      <td>20.3</td>\n",
              "    </tr>\n",
              "    <tr>\n",
              "      <th>388</th>\n",
              "      <td>14.33370</td>\n",
              "      <td>0.0</td>\n",
              "      <td>18.10</td>\n",
              "      <td>0.0</td>\n",
              "      <td>0.7000</td>\n",
              "      <td>4.880</td>\n",
              "      <td>100.0</td>\n",
              "      <td>1.5895</td>\n",
              "      <td>24.0</td>\n",
              "      <td>666.0</td>\n",
              "      <td>20.2</td>\n",
              "      <td>372.92</td>\n",
              "      <td>30.62</td>\n",
              "      <td>10.2</td>\n",
              "    </tr>\n",
              "    <tr>\n",
              "      <th>477</th>\n",
              "      <td>15.02340</td>\n",
              "      <td>0.0</td>\n",
              "      <td>18.10</td>\n",
              "      <td>0.0</td>\n",
              "      <td>0.6140</td>\n",
              "      <td>5.304</td>\n",
              "      <td>97.3</td>\n",
              "      <td>2.1007</td>\n",
              "      <td>24.0</td>\n",
              "      <td>666.0</td>\n",
              "      <td>20.2</td>\n",
              "      <td>349.48</td>\n",
              "      <td>24.91</td>\n",
              "      <td>12.0</td>\n",
              "    </tr>\n",
              "    <tr>\n",
              "      <th>...</th>\n",
              "      <td>...</td>\n",
              "      <td>...</td>\n",
              "      <td>...</td>\n",
              "      <td>...</td>\n",
              "      <td>...</td>\n",
              "      <td>...</td>\n",
              "      <td>...</td>\n",
              "      <td>...</td>\n",
              "      <td>...</td>\n",
              "      <td>...</td>\n",
              "      <td>...</td>\n",
              "      <td>...</td>\n",
              "      <td>...</td>\n",
              "      <td>...</td>\n",
              "    </tr>\n",
              "    <tr>\n",
              "      <th>241</th>\n",
              "      <td>0.10612</td>\n",
              "      <td>30.0</td>\n",
              "      <td>4.93</td>\n",
              "      <td>0.0</td>\n",
              "      <td>0.4280</td>\n",
              "      <td>6.095</td>\n",
              "      <td>65.1</td>\n",
              "      <td>6.3361</td>\n",
              "      <td>6.0</td>\n",
              "      <td>300.0</td>\n",
              "      <td>16.6</td>\n",
              "      <td>394.62</td>\n",
              "      <td>12.40</td>\n",
              "      <td>20.1</td>\n",
              "    </tr>\n",
              "    <tr>\n",
              "      <th>253</th>\n",
              "      <td>0.36894</td>\n",
              "      <td>22.0</td>\n",
              "      <td>5.86</td>\n",
              "      <td>0.0</td>\n",
              "      <td>0.4310</td>\n",
              "      <td>8.259</td>\n",
              "      <td>8.4</td>\n",
              "      <td>8.9067</td>\n",
              "      <td>7.0</td>\n",
              "      <td>330.0</td>\n",
              "      <td>19.1</td>\n",
              "      <td>396.90</td>\n",
              "      <td>3.54</td>\n",
              "      <td>42.8</td>\n",
              "    </tr>\n",
              "    <tr>\n",
              "      <th>390</th>\n",
              "      <td>6.96215</td>\n",
              "      <td>0.0</td>\n",
              "      <td>18.10</td>\n",
              "      <td>0.0</td>\n",
              "      <td>0.7000</td>\n",
              "      <td>5.713</td>\n",
              "      <td>97.0</td>\n",
              "      <td>1.9265</td>\n",
              "      <td>24.0</td>\n",
              "      <td>666.0</td>\n",
              "      <td>20.2</td>\n",
              "      <td>394.43</td>\n",
              "      <td>17.11</td>\n",
              "      <td>15.1</td>\n",
              "    </tr>\n",
              "    <tr>\n",
              "      <th>155</th>\n",
              "      <td>3.53501</td>\n",
              "      <td>0.0</td>\n",
              "      <td>19.58</td>\n",
              "      <td>1.0</td>\n",
              "      <td>0.8710</td>\n",
              "      <td>6.152</td>\n",
              "      <td>82.6</td>\n",
              "      <td>1.7455</td>\n",
              "      <td>5.0</td>\n",
              "      <td>403.0</td>\n",
              "      <td>14.7</td>\n",
              "      <td>88.01</td>\n",
              "      <td>15.02</td>\n",
              "      <td>15.6</td>\n",
              "    </tr>\n",
              "    <tr>\n",
              "      <th>331</th>\n",
              "      <td>0.05023</td>\n",
              "      <td>35.0</td>\n",
              "      <td>6.06</td>\n",
              "      <td>0.0</td>\n",
              "      <td>0.4379</td>\n",
              "      <td>5.706</td>\n",
              "      <td>28.4</td>\n",
              "      <td>6.6407</td>\n",
              "      <td>1.0</td>\n",
              "      <td>304.0</td>\n",
              "      <td>16.9</td>\n",
              "      <td>394.02</td>\n",
              "      <td>12.43</td>\n",
              "      <td>17.1</td>\n",
              "    </tr>\n",
              "  </tbody>\n",
              "</table>\n",
              "<p>404 rows × 14 columns</p>\n",
              "</div>"
            ],
            "text/plain": [
              "         CRIM    ZN  INDUS  CHAS     NOX  ...    TAX  PTRATIO       B  LSTAT  MEDV\n",
              "266   0.78570  20.0   3.97   0.0  0.6470  ...  264.0     13.0  384.07  14.79  30.7\n",
              "501   0.06263   0.0  11.93   0.0  0.5730  ...  273.0     21.0  391.99   9.67  22.4\n",
              "297   0.14103   0.0  13.92   0.0  0.4370  ...  289.0     16.0  396.90  15.84  20.3\n",
              "388  14.33370   0.0  18.10   0.0  0.7000  ...  666.0     20.2  372.92  30.62  10.2\n",
              "477  15.02340   0.0  18.10   0.0  0.6140  ...  666.0     20.2  349.48  24.91  12.0\n",
              "..        ...   ...    ...   ...     ...  ...    ...      ...     ...    ...   ...\n",
              "241   0.10612  30.0   4.93   0.0  0.4280  ...  300.0     16.6  394.62  12.40  20.1\n",
              "253   0.36894  22.0   5.86   0.0  0.4310  ...  330.0     19.1  396.90   3.54  42.8\n",
              "390   6.96215   0.0  18.10   0.0  0.7000  ...  666.0     20.2  394.43  17.11  15.1\n",
              "155   3.53501   0.0  19.58   1.0  0.8710  ...  403.0     14.7   88.01  15.02  15.6\n",
              "331   0.05023  35.0   6.06   0.0  0.4379  ...  304.0     16.9  394.02  12.43  17.1\n",
              "\n",
              "[404 rows x 14 columns]"
            ]
          },
          "metadata": {
            "tags": []
          },
          "execution_count": 17
        }
      ]
    },
    {
      "cell_type": "code",
      "metadata": {
        "colab": {
          "base_uri": "https://localhost:8080/",
          "height": 417
        },
        "id": "jN68sz4F8tlE",
        "outputId": "6c7d1363-2e18-474c-f548-8fe8d2b532d1"
      },
      "source": [
        "test"
      ],
      "execution_count": 18,
      "outputs": [
        {
          "output_type": "execute_result",
          "data": {
            "text/html": [
              "<div>\n",
              "<style scoped>\n",
              "    .dataframe tbody tr th:only-of-type {\n",
              "        vertical-align: middle;\n",
              "    }\n",
              "\n",
              "    .dataframe tbody tr th {\n",
              "        vertical-align: top;\n",
              "    }\n",
              "\n",
              "    .dataframe thead th {\n",
              "        text-align: right;\n",
              "    }\n",
              "</style>\n",
              "<table border=\"1\" class=\"dataframe\">\n",
              "  <thead>\n",
              "    <tr style=\"text-align: right;\">\n",
              "      <th></th>\n",
              "      <th>CRIM</th>\n",
              "      <th>ZN</th>\n",
              "      <th>INDUS</th>\n",
              "      <th>CHAS</th>\n",
              "      <th>NOX</th>\n",
              "      <th>RM</th>\n",
              "      <th>AGE</th>\n",
              "      <th>DIS</th>\n",
              "      <th>RAD</th>\n",
              "      <th>TAX</th>\n",
              "      <th>PTRATIO</th>\n",
              "      <th>B</th>\n",
              "      <th>LSTAT</th>\n",
              "      <th>MEDV</th>\n",
              "    </tr>\n",
              "  </thead>\n",
              "  <tbody>\n",
              "    <tr>\n",
              "      <th>334</th>\n",
              "      <td>0.03738</td>\n",
              "      <td>0.0</td>\n",
              "      <td>5.19</td>\n",
              "      <td>0.0</td>\n",
              "      <td>0.515</td>\n",
              "      <td>6.310</td>\n",
              "      <td>38.5</td>\n",
              "      <td>6.4584</td>\n",
              "      <td>5.0</td>\n",
              "      <td>224.0</td>\n",
              "      <td>20.2</td>\n",
              "      <td>389.40</td>\n",
              "      <td>6.75</td>\n",
              "      <td>20.7</td>\n",
              "    </tr>\n",
              "    <tr>\n",
              "      <th>394</th>\n",
              "      <td>13.35980</td>\n",
              "      <td>0.0</td>\n",
              "      <td>18.10</td>\n",
              "      <td>0.0</td>\n",
              "      <td>0.693</td>\n",
              "      <td>5.887</td>\n",
              "      <td>94.7</td>\n",
              "      <td>1.7821</td>\n",
              "      <td>24.0</td>\n",
              "      <td>666.0</td>\n",
              "      <td>20.2</td>\n",
              "      <td>396.90</td>\n",
              "      <td>16.35</td>\n",
              "      <td>12.7</td>\n",
              "    </tr>\n",
              "    <tr>\n",
              "      <th>404</th>\n",
              "      <td>41.52920</td>\n",
              "      <td>0.0</td>\n",
              "      <td>18.10</td>\n",
              "      <td>0.0</td>\n",
              "      <td>0.693</td>\n",
              "      <td>5.531</td>\n",
              "      <td>85.4</td>\n",
              "      <td>1.6074</td>\n",
              "      <td>24.0</td>\n",
              "      <td>666.0</td>\n",
              "      <td>20.2</td>\n",
              "      <td>329.46</td>\n",
              "      <td>27.38</td>\n",
              "      <td>8.5</td>\n",
              "    </tr>\n",
              "    <tr>\n",
              "      <th>236</th>\n",
              "      <td>0.52058</td>\n",
              "      <td>0.0</td>\n",
              "      <td>6.20</td>\n",
              "      <td>1.0</td>\n",
              "      <td>0.507</td>\n",
              "      <td>6.631</td>\n",
              "      <td>76.5</td>\n",
              "      <td>4.1480</td>\n",
              "      <td>8.0</td>\n",
              "      <td>307.0</td>\n",
              "      <td>17.4</td>\n",
              "      <td>388.45</td>\n",
              "      <td>9.54</td>\n",
              "      <td>25.1</td>\n",
              "    </tr>\n",
              "    <tr>\n",
              "      <th>307</th>\n",
              "      <td>0.04932</td>\n",
              "      <td>33.0</td>\n",
              "      <td>2.18</td>\n",
              "      <td>0.0</td>\n",
              "      <td>0.472</td>\n",
              "      <td>6.849</td>\n",
              "      <td>70.3</td>\n",
              "      <td>3.1827</td>\n",
              "      <td>7.0</td>\n",
              "      <td>222.0</td>\n",
              "      <td>18.4</td>\n",
              "      <td>396.90</td>\n",
              "      <td>7.53</td>\n",
              "      <td>28.2</td>\n",
              "    </tr>\n",
              "    <tr>\n",
              "      <th>...</th>\n",
              "      <td>...</td>\n",
              "      <td>...</td>\n",
              "      <td>...</td>\n",
              "      <td>...</td>\n",
              "      <td>...</td>\n",
              "      <td>...</td>\n",
              "      <td>...</td>\n",
              "      <td>...</td>\n",
              "      <td>...</td>\n",
              "      <td>...</td>\n",
              "      <td>...</td>\n",
              "      <td>...</td>\n",
              "      <td>...</td>\n",
              "      <td>...</td>\n",
              "    </tr>\n",
              "    <tr>\n",
              "      <th>458</th>\n",
              "      <td>7.75223</td>\n",
              "      <td>0.0</td>\n",
              "      <td>18.10</td>\n",
              "      <td>0.0</td>\n",
              "      <td>0.713</td>\n",
              "      <td>6.301</td>\n",
              "      <td>83.7</td>\n",
              "      <td>2.7831</td>\n",
              "      <td>24.0</td>\n",
              "      <td>666.0</td>\n",
              "      <td>20.2</td>\n",
              "      <td>272.21</td>\n",
              "      <td>16.23</td>\n",
              "      <td>14.9</td>\n",
              "    </tr>\n",
              "    <tr>\n",
              "      <th>263</th>\n",
              "      <td>0.82526</td>\n",
              "      <td>20.0</td>\n",
              "      <td>3.97</td>\n",
              "      <td>0.0</td>\n",
              "      <td>0.647</td>\n",
              "      <td>7.327</td>\n",
              "      <td>94.5</td>\n",
              "      <td>2.0788</td>\n",
              "      <td>5.0</td>\n",
              "      <td>264.0</td>\n",
              "      <td>13.0</td>\n",
              "      <td>393.42</td>\n",
              "      <td>11.25</td>\n",
              "      <td>31.0</td>\n",
              "    </tr>\n",
              "    <tr>\n",
              "      <th>433</th>\n",
              "      <td>5.58107</td>\n",
              "      <td>0.0</td>\n",
              "      <td>18.10</td>\n",
              "      <td>0.0</td>\n",
              "      <td>0.713</td>\n",
              "      <td>6.436</td>\n",
              "      <td>87.9</td>\n",
              "      <td>2.3158</td>\n",
              "      <td>24.0</td>\n",
              "      <td>666.0</td>\n",
              "      <td>20.2</td>\n",
              "      <td>100.19</td>\n",
              "      <td>16.22</td>\n",
              "      <td>14.3</td>\n",
              "    </tr>\n",
              "    <tr>\n",
              "      <th>275</th>\n",
              "      <td>0.09604</td>\n",
              "      <td>40.0</td>\n",
              "      <td>6.41</td>\n",
              "      <td>0.0</td>\n",
              "      <td>0.447</td>\n",
              "      <td>6.854</td>\n",
              "      <td>42.8</td>\n",
              "      <td>4.2673</td>\n",
              "      <td>4.0</td>\n",
              "      <td>254.0</td>\n",
              "      <td>17.6</td>\n",
              "      <td>396.90</td>\n",
              "      <td>2.98</td>\n",
              "      <td>32.0</td>\n",
              "    </tr>\n",
              "    <tr>\n",
              "      <th>483</th>\n",
              "      <td>2.81838</td>\n",
              "      <td>0.0</td>\n",
              "      <td>18.10</td>\n",
              "      <td>0.0</td>\n",
              "      <td>0.532</td>\n",
              "      <td>5.762</td>\n",
              "      <td>40.3</td>\n",
              "      <td>4.0983</td>\n",
              "      <td>24.0</td>\n",
              "      <td>666.0</td>\n",
              "      <td>20.2</td>\n",
              "      <td>392.92</td>\n",
              "      <td>10.42</td>\n",
              "      <td>21.8</td>\n",
              "    </tr>\n",
              "  </tbody>\n",
              "</table>\n",
              "<p>102 rows × 14 columns</p>\n",
              "</div>"
            ],
            "text/plain": [
              "         CRIM    ZN  INDUS  CHAS    NOX  ...    TAX  PTRATIO       B  LSTAT  MEDV\n",
              "334   0.03738   0.0   5.19   0.0  0.515  ...  224.0     20.2  389.40   6.75  20.7\n",
              "394  13.35980   0.0  18.10   0.0  0.693  ...  666.0     20.2  396.90  16.35  12.7\n",
              "404  41.52920   0.0  18.10   0.0  0.693  ...  666.0     20.2  329.46  27.38   8.5\n",
              "236   0.52058   0.0   6.20   1.0  0.507  ...  307.0     17.4  388.45   9.54  25.1\n",
              "307   0.04932  33.0   2.18   0.0  0.472  ...  222.0     18.4  396.90   7.53  28.2\n",
              "..        ...   ...    ...   ...    ...  ...    ...      ...     ...    ...   ...\n",
              "458   7.75223   0.0  18.10   0.0  0.713  ...  666.0     20.2  272.21  16.23  14.9\n",
              "263   0.82526  20.0   3.97   0.0  0.647  ...  264.0     13.0  393.42  11.25  31.0\n",
              "433   5.58107   0.0  18.10   0.0  0.713  ...  666.0     20.2  100.19  16.22  14.3\n",
              "275   0.09604  40.0   6.41   0.0  0.447  ...  254.0     17.6  396.90   2.98  32.0\n",
              "483   2.81838   0.0  18.10   0.0  0.532  ...  666.0     20.2  392.92  10.42  21.8\n",
              "\n",
              "[102 rows x 14 columns]"
            ]
          },
          "metadata": {
            "tags": []
          },
          "execution_count": 18
        }
      ]
    },
    {
      "cell_type": "markdown",
      "metadata": {
        "id": "HfSOZaT-8tlE"
      },
      "source": [
        "### Model Development"
      ]
    },
    {
      "cell_type": "code",
      "metadata": {
        "id": "C8I2flMp8tlE"
      },
      "source": [
        "from sklearn.linear_model import LinearRegression"
      ],
      "execution_count": 19,
      "outputs": []
    },
    {
      "cell_type": "code",
      "metadata": {
        "id": "CdyEsgTj8tlF"
      },
      "source": [
        "??LinearRegression"
      ],
      "execution_count": 20,
      "outputs": []
    },
    {
      "cell_type": "code",
      "metadata": {
        "id": "bM_x1WEU8tlF"
      },
      "source": [
        "# create a model object\n",
        "lm = LinearRegression()"
      ],
      "execution_count": 21,
      "outputs": []
    },
    {
      "cell_type": "code",
      "metadata": {
        "id": "WqamgWuX8tlF"
      },
      "source": [
        "# fit the model \n",
        "X = train[['RM']] # always needs to be dataframe\n",
        "y= train.MEDV # always a Series"
      ],
      "execution_count": 22,
      "outputs": []
    },
    {
      "cell_type": "code",
      "metadata": {
        "colab": {
          "base_uri": "https://localhost:8080/",
          "height": 320
        },
        "id": "wXQ1OvuT8tlF",
        "outputId": "9634e289-475c-43d7-e25f-24aa9d180251"
      },
      "source": [
        "plt.figure(figsize = (10,5))\n",
        "plt.scatter(train.RM, train.MEDV)\n",
        "plt.show();"
      ],
      "execution_count": 23,
      "outputs": [
        {
          "output_type": "display_data",
          "data": {
            "image/png": "[encoded data removed]",
            "text/plain": [
              "<Figure size 720x360 with 1 Axes>"
            ]
          },
          "metadata": {
            "tags": [],
            "needs_background": "light"
          }
        }
      ]
    },
    {
      "cell_type": "code",
      "metadata": {
        "colab": {
          "base_uri": "https://localhost:8080/"
        },
        "id": "PGG7mQ4d8tlF",
        "outputId": "e8c81a14-7198-4ca3-fb18-14fa91333e32"
      },
      "source": [
        "lm.fit(X, y)"
      ],
      "execution_count": 24,
      "outputs": [
        {
          "output_type": "execute_result",
          "data": {
            "text/plain": [
              "LinearRegression(copy_X=True, fit_intercept=True, n_jobs=None, normalize=False)"
            ]
          },
          "metadata": {
            "tags": []
          },
          "execution_count": 24
        }
      ]
    },
    {
      "cell_type": "code",
      "metadata": {
        "colab": {
          "base_uri": "https://localhost:8080/"
        },
        "id": "spcgzXSf8tlG",
        "outputId": "4d6526ba-796a-4acf-8ed8-068b37f63e12"
      },
      "source": [
        "# Parameters\n",
        "lm.coef_ # beta value(s)"
      ],
      "execution_count": 25,
      "outputs": [
        {
          "output_type": "execute_result",
          "data": {
            "text/plain": [
              "array([9.21256478])"
            ]
          },
          "metadata": {
            "tags": []
          },
          "execution_count": 25
        }
      ]
    },
    {
      "cell_type": "code",
      "metadata": {
        "colab": {
          "base_uri": "https://localhost:8080/"
        },
        "id": "4RssBaWv8tlG",
        "outputId": "5b77f19d-c516-49f9-e550-3cb85b68ab07"
      },
      "source": [
        "lm.intercept_ # intercept"
      ],
      "execution_count": 26,
      "outputs": [
        {
          "output_type": "execute_result",
          "data": {
            "text/plain": [
              "-35.42353739827173"
            ]
          },
          "metadata": {
            "tags": []
          },
          "execution_count": 26
        }
      ]
    },
    {
      "cell_type": "code",
      "metadata": {
        "colab": {
          "base_uri": "https://localhost:8080/",
          "height": 320
        },
        "id": "9mgkKZCy8tlG",
        "outputId": "5d65c011-f09d-4c37-b4e5-97dd9dcd7047"
      },
      "source": [
        "y_cap = lm.predict(train[['RM']])\n",
        "plt.figure(figsize = (10,5))\n",
        "plt.scatter(x=train.RM, y=train.MEDV)\n",
        "plt.plot(train.RM, y_cap,color = 'red')\n",
        "plt.show();"
      ],
      "execution_count": 27,
      "outputs": [
        {
          "output_type": "display_data",
          "data": {
            "image/png": "[encoded data removed]",
            "text/plain": [
              "<Figure size 720x360 with 1 Axes>"
            ]
          },
          "metadata": {
            "tags": [],
            "needs_background": "light"
          }
        }
      ]
    },
    {
      "cell_type": "code",
      "metadata": {
        "colab": {
          "base_uri": "https://localhost:8080/"
        },
        "id": "KFw2FdST8tlG",
        "outputId": "03d32b5c-5e2a-4d17-d58d-46118fa9502c"
      },
      "source": [
        "lm.score(X, y) # R squared value"
      ],
      "execution_count": 28,
      "outputs": [
        {
          "output_type": "execute_result",
          "data": {
            "text/plain": [
              "0.4864694500140984"
            ]
          },
          "metadata": {
            "tags": []
          },
          "execution_count": 28
        }
      ]
    },
    {
      "cell_type": "code",
      "metadata": {
        "colab": {
          "base_uri": "https://localhost:8080/"
        },
        "id": "OcHCMYd28tlG",
        "outputId": "f4999f68-e71a-4971-d023-28b96d9854e9"
      },
      "source": [
        "from statsmodels.formula.api import ols # ordinary least square "
      ],
      "execution_count": 29,
      "outputs": [
        {
          "output_type": "stream",
          "text": [
            "/usr/local/lib/python3.7/dist-packages/statsmodels/tools/_testing.py:19: FutureWarning: pandas.util.testing is deprecated. Use the functions in the public API at pandas.testing instead.\n",
            "  import pandas.util.testing as tm\n"
          ],
          "name": "stderr"
        }
      ]
    },
    {
      "cell_type": "code",
      "metadata": {
        "id": "Vp8SGfan8tlH"
      },
      "source": [
        "mod = ols(formula='MEDV ~ RM', data = train)"
      ],
      "execution_count": 30,
      "outputs": []
    },
    {
      "cell_type": "code",
      "metadata": {
        "id": "dFyLUk8a8tlH"
      },
      "source": [
        "lm_fit = mod.fit()"
      ],
      "execution_count": 31,
      "outputs": []
    },
    {
      "cell_type": "code",
      "metadata": {
        "colab": {
          "base_uri": "https://localhost:8080/",
          "height": 432
        },
        "id": "fv9BxIzy8tlH",
        "outputId": "e75cf57f-5adb-4fe0-a476-47a3814048d0"
      },
      "source": [
        "lm_fit.summary()"
      ],
      "execution_count": 32,
      "outputs": [
        {
          "output_type": "execute_result",
          "data": {
            "text/html": [
              "<table class=\"simpletable\">\n",
              "<caption>OLS Regression Results</caption>\n",
              "<tr>\n",
              "  <th>Dep. Variable:</th>          <td>MEDV</td>       <th>  R-squared:         </th> <td>   0.486</td>\n",
              "</tr>\n",
              "<tr>\n",
              "  <th>Model:</th>                   <td>OLS</td>       <th>  Adj. R-squared:    </th> <td>   0.485</td>\n",
              "</tr>\n",
              "<tr>\n",
              "  <th>Method:</th>             <td>Least Squares</td>  <th>  F-statistic:       </th> <td>   380.8</td>\n",
              "</tr>\n",
              "<tr>\n",
              "  <th>Date:</th>             <td>Sun, 27 Jun 2021</td> <th>  Prob (F-statistic):</th> <td>3.79e-60</td>\n",
              "</tr>\n",
              "<tr>\n",
              "  <th>Time:</th>                 <td>05:36:23</td>     <th>  Log-Likelihood:    </th> <td> -1336.1</td>\n",
              "</tr>\n",
              "<tr>\n",
              "  <th>No. Observations:</th>      <td>   404</td>      <th>  AIC:               </th> <td>   2676.</td>\n",
              "</tr>\n",
              "<tr>\n",
              "  <th>Df Residuals:</th>          <td>   402</td>      <th>  BIC:               </th> <td>   2684.</td>\n",
              "</tr>\n",
              "<tr>\n",
              "  <th>Df Model:</th>              <td>     1</td>      <th>                     </th>     <td> </td>   \n",
              "</tr>\n",
              "<tr>\n",
              "  <th>Covariance Type:</th>      <td>nonrobust</td>    <th>                     </th>     <td> </td>   \n",
              "</tr>\n",
              "</table>\n",
              "<table class=\"simpletable\">\n",
              "<tr>\n",
              "      <td></td>         <th>coef</th>     <th>std err</th>      <th>t</th>      <th>P>|t|</th>  <th>[0.025</th>    <th>0.975]</th>  \n",
              "</tr>\n",
              "<tr>\n",
              "  <th>Intercept</th> <td>  -35.4235</td> <td>    2.981</td> <td>  -11.883</td> <td> 0.000</td> <td>  -41.284</td> <td>  -29.563</td>\n",
              "</tr>\n",
              "<tr>\n",
              "  <th>RM</th>        <td>    9.2126</td> <td>    0.472</td> <td>   19.515</td> <td> 0.000</td> <td>    8.284</td> <td>   10.141</td>\n",
              "</tr>\n",
              "</table>\n",
              "<table class=\"simpletable\">\n",
              "<tr>\n",
              "  <th>Omnibus:</th>       <td>93.942</td> <th>  Durbin-Watson:     </th> <td>   2.092</td> \n",
              "</tr>\n",
              "<tr>\n",
              "  <th>Prob(Omnibus):</th> <td> 0.000</td> <th>  Jarque-Bera (JB):  </th> <td> 581.360</td> \n",
              "</tr>\n",
              "<tr>\n",
              "  <th>Skew:</th>          <td> 0.820</td> <th>  Prob(JB):          </th> <td>5.75e-127</td>\n",
              "</tr>\n",
              "<tr>\n",
              "  <th>Kurtosis:</th>      <td> 8.643</td> <th>  Cond. No.          </th> <td>    58.5</td> \n",
              "</tr>\n",
              "</table><br/><br/>Warnings:<br/>[1] Standard Errors assume that the covariance matrix of the errors is correctly specified."
            ],
            "text/plain": [
              "<class 'statsmodels.iolib.summary.Summary'>\n",
              "\"\"\"\n",
              "                            OLS Regression Results                            \n",
              "==============================================================================\n",
              "Dep. Variable:                   MEDV   R-squared:                       0.486\n",
              "Model:                            OLS   Adj. R-squared:                  0.485\n",
              "Method:                 Least Squares   F-statistic:                     380.8\n",
              "Date:                Sun, 27 Jun 2021   Prob (F-statistic):           3.79e-60\n",
              "Time:                        05:36:23   Log-Likelihood:                -1336.1\n",
              "No. Observations:                 404   AIC:                             2676.\n",
              "Df Residuals:                     402   BIC:                             2684.\n",
              "Df Model:                           1                                         \n",
              "Covariance Type:            nonrobust                                         \n",
              "==============================================================================\n",
              "                 coef    std err          t      P>|t|      [0.025      0.975]\n",
              "------------------------------------------------------------------------------\n",
              "Intercept    -35.4235      2.981    -11.883      0.000     -41.284     -29.563\n",
              "RM             9.2126      0.472     19.515      0.000       8.284      10.141\n",
              "==============================================================================\n",
              "Omnibus:                       93.942   Durbin-Watson:                   2.092\n",
              "Prob(Omnibus):                  0.000   Jarque-Bera (JB):              581.360\n",
              "Skew:                           0.820   Prob(JB):                    5.75e-127\n",
              "Kurtosis:                       8.643   Cond. No.                         58.5\n",
              "==============================================================================\n",
              "\n",
              "Warnings:\n",
              "[1] Standard Errors assume that the covariance matrix of the errors is correctly specified.\n",
              "\"\"\""
            ]
          },
          "metadata": {
            "tags": []
          },
          "execution_count": 32
        }
      ]
    },
    {
      "cell_type": "markdown",
      "metadata": {
        "id": "JZx9a3g68tlH"
      },
      "source": [
        "## 3. Multiple Linear Regression"
      ]
    },
    {
      "cell_type": "code",
      "metadata": {
        "colab": {
          "base_uri": "https://localhost:8080/",
          "height": 35
        },
        "id": "BgxS0Cyj8tlH",
        "outputId": "37801276-465b-48a3-c106-b873750af689"
      },
      "source": [
        "ft = ' + '.join(train.drop(columns = 'MEDV'))\n",
        "formula = 'MEDV ~ ' + ft\n",
        "formula"
      ],
      "execution_count": 33,
      "outputs": [
        {
          "output_type": "execute_result",
          "data": {
            "application/vnd.google.colaboratory.intrinsic+json": {
              "type": "string"
            },
            "text/plain": [
              "'MEDV ~ CRIM + ZN + INDUS + CHAS + NOX + RM + AGE + DIS + RAD + TAX + PTRATIO + B + LSTAT'"
            ]
          },
          "metadata": {
            "tags": []
          },
          "execution_count": 33
        }
      ]
    },
    {
      "cell_type": "code",
      "metadata": {
        "id": "Btt9Z8hm8tlI"
      },
      "source": [
        "lm_fit_multi = ols(formula, data = train).fit()"
      ],
      "execution_count": 34,
      "outputs": []
    },
    {
      "cell_type": "code",
      "metadata": {
        "scrolled": false,
        "colab": {
          "base_uri": "https://localhost:8080/",
          "height": 710
        },
        "id": "81lb52WC8tlI",
        "outputId": "dab5eec3-8b5f-479f-aee7-7ab9f69e0576"
      },
      "source": [
        "lm_fit_multi.summary()"
      ],
      "execution_count": 35,
      "outputs": [
        {
          "output_type": "execute_result",
          "data": {
            "text/html": [
              "<table class=\"simpletable\">\n",
              "<caption>OLS Regression Results</caption>\n",
              "<tr>\n",
              "  <th>Dep. Variable:</th>          <td>MEDV</td>       <th>  R-squared:         </th> <td>   0.736</td> \n",
              "</tr>\n",
              "<tr>\n",
              "  <th>Model:</th>                   <td>OLS</td>       <th>  Adj. R-squared:    </th> <td>   0.727</td> \n",
              "</tr>\n",
              "<tr>\n",
              "  <th>Method:</th>             <td>Least Squares</td>  <th>  F-statistic:       </th> <td>   83.70</td> \n",
              "</tr>\n",
              "<tr>\n",
              "  <th>Date:</th>             <td>Sun, 27 Jun 2021</td> <th>  Prob (F-statistic):</th> <td>4.07e-104</td>\n",
              "</tr>\n",
              "<tr>\n",
              "  <th>Time:</th>                 <td>05:36:23</td>     <th>  Log-Likelihood:    </th> <td> -1201.5</td> \n",
              "</tr>\n",
              "<tr>\n",
              "  <th>No. Observations:</th>      <td>   404</td>      <th>  AIC:               </th> <td>   2431.</td> \n",
              "</tr>\n",
              "<tr>\n",
              "  <th>Df Residuals:</th>          <td>   390</td>      <th>  BIC:               </th> <td>   2487.</td> \n",
              "</tr>\n",
              "<tr>\n",
              "  <th>Df Model:</th>              <td>    13</td>      <th>                     </th>     <td> </td>    \n",
              "</tr>\n",
              "<tr>\n",
              "  <th>Covariance Type:</th>      <td>nonrobust</td>    <th>                     </th>     <td> </td>    \n",
              "</tr>\n",
              "</table>\n",
              "<table class=\"simpletable\">\n",
              "<tr>\n",
              "      <td></td>         <th>coef</th>     <th>std err</th>      <th>t</th>      <th>P>|t|</th>  <th>[0.025</th>    <th>0.975]</th>  \n",
              "</tr>\n",
              "<tr>\n",
              "  <th>Intercept</th> <td>   34.0896</td> <td>    5.824</td> <td>    5.854</td> <td> 0.000</td> <td>   22.640</td> <td>   45.539</td>\n",
              "</tr>\n",
              "<tr>\n",
              "  <th>CRIM</th>      <td>   -0.0987</td> <td>    0.035</td> <td>   -2.834</td> <td> 0.005</td> <td>   -0.167</td> <td>   -0.030</td>\n",
              "</tr>\n",
              "<tr>\n",
              "  <th>ZN</th>        <td>    0.0467</td> <td>    0.016</td> <td>    2.997</td> <td> 0.003</td> <td>    0.016</td> <td>    0.077</td>\n",
              "</tr>\n",
              "<tr>\n",
              "  <th>INDUS</th>     <td>    0.0304</td> <td>    0.068</td> <td>    0.444</td> <td> 0.658</td> <td>   -0.104</td> <td>    0.165</td>\n",
              "</tr>\n",
              "<tr>\n",
              "  <th>CHAS</th>      <td>    3.0161</td> <td>    0.957</td> <td>    3.152</td> <td> 0.002</td> <td>    1.135</td> <td>    4.898</td>\n",
              "</tr>\n",
              "<tr>\n",
              "  <th>NOX</th>       <td>  -18.1186</td> <td>    4.390</td> <td>   -4.127</td> <td> 0.000</td> <td>  -26.750</td> <td>   -9.487</td>\n",
              "</tr>\n",
              "<tr>\n",
              "  <th>RM</th>        <td>    3.7333</td> <td>    0.487</td> <td>    7.659</td> <td> 0.000</td> <td>    2.775</td> <td>    4.692</td>\n",
              "</tr>\n",
              "<tr>\n",
              "  <th>AGE</th>       <td>    0.0147</td> <td>    0.015</td> <td>    0.969</td> <td> 0.333</td> <td>   -0.015</td> <td>    0.045</td>\n",
              "</tr>\n",
              "<tr>\n",
              "  <th>DIS</th>       <td>   -1.3776</td> <td>    0.220</td> <td>   -6.270</td> <td> 0.000</td> <td>   -1.810</td> <td>   -0.946</td>\n",
              "</tr>\n",
              "<tr>\n",
              "  <th>RAD</th>       <td>    0.3244</td> <td>    0.073</td> <td>    4.465</td> <td> 0.000</td> <td>    0.182</td> <td>    0.467</td>\n",
              "</tr>\n",
              "<tr>\n",
              "  <th>TAX</th>       <td>   -0.0136</td> <td>    0.004</td> <td>   -3.299</td> <td> 0.001</td> <td>   -0.022</td> <td>   -0.005</td>\n",
              "</tr>\n",
              "<tr>\n",
              "  <th>PTRATIO</th>   <td>   -0.8201</td> <td>    0.149</td> <td>   -5.516</td> <td> 0.000</td> <td>   -1.112</td> <td>   -0.528</td>\n",
              "</tr>\n",
              "<tr>\n",
              "  <th>B</th>         <td>    0.0091</td> <td>    0.003</td> <td>    3.014</td> <td> 0.003</td> <td>    0.003</td> <td>    0.015</td>\n",
              "</tr>\n",
              "<tr>\n",
              "  <th>LSTAT</th>     <td>   -0.5611</td> <td>    0.059</td> <td>   -9.557</td> <td> 0.000</td> <td>   -0.676</td> <td>   -0.446</td>\n",
              "</tr>\n",
              "</table>\n",
              "<table class=\"simpletable\">\n",
              "<tr>\n",
              "  <th>Omnibus:</th>       <td>151.414</td> <th>  Durbin-Watson:     </th> <td>   2.036</td> \n",
              "</tr>\n",
              "<tr>\n",
              "  <th>Prob(Omnibus):</th> <td> 0.000</td>  <th>  Jarque-Bera (JB):  </th> <td> 652.851</td> \n",
              "</tr>\n",
              "<tr>\n",
              "  <th>Skew:</th>          <td> 1.602</td>  <th>  Prob(JB):          </th> <td>1.72e-142</td>\n",
              "</tr>\n",
              "<tr>\n",
              "  <th>Kurtosis:</th>      <td> 8.341</td>  <th>  Cond. No.          </th> <td>1.52e+04</td> \n",
              "</tr>\n",
              "</table><br/><br/>Warnings:<br/>[1] Standard Errors assume that the covariance matrix of the errors is correctly specified.<br/>[2] The condition number is large, 1.52e+04. This might indicate that there are<br/>strong multicollinearity or other numerical problems."
            ],
            "text/plain": [
              "<class 'statsmodels.iolib.summary.Summary'>\n",
              "\"\"\"\n",
              "                            OLS Regression Results                            \n",
              "==============================================================================\n",
              "Dep. Variable:                   MEDV   R-squared:                       0.736\n",
              "Model:                            OLS   Adj. R-squared:                  0.727\n",
              "Method:                 Least Squares   F-statistic:                     83.70\n",
              "Date:                Sun, 27 Jun 2021   Prob (F-statistic):          4.07e-104\n",
              "Time:                        05:36:23   Log-Likelihood:                -1201.5\n",
              "No. Observations:                 404   AIC:                             2431.\n",
              "Df Residuals:                     390   BIC:                             2487.\n",
              "Df Model:                          13                                         \n",
              "Covariance Type:            nonrobust                                         \n",
              "==============================================================================\n",
              "                 coef    std err          t      P>|t|      [0.025      0.975]\n",
              "------------------------------------------------------------------------------\n",
              "Intercept     34.0896      5.824      5.854      0.000      22.640      45.539\n",
              "CRIM          -0.0987      0.035     -2.834      0.005      -0.167      -0.030\n",
              "ZN             0.0467      0.016      2.997      0.003       0.016       0.077\n",
              "INDUS          0.0304      0.068      0.444      0.658      -0.104       0.165\n",
              "CHAS           3.0161      0.957      3.152      0.002       1.135       4.898\n",
              "NOX          -18.1186      4.390     -4.127      0.000     -26.750      -9.487\n",
              "RM             3.7333      0.487      7.659      0.000       2.775       4.692\n",
              "AGE            0.0147      0.015      0.969      0.333      -0.015       0.045\n",
              "DIS           -1.3776      0.220     -6.270      0.000      -1.810      -0.946\n",
              "RAD            0.3244      0.073      4.465      0.000       0.182       0.467\n",
              "TAX           -0.0136      0.004     -3.299      0.001      -0.022      -0.005\n",
              "PTRATIO       -0.8201      0.149     -5.516      0.000      -1.112      -0.528\n",
              "B              0.0091      0.003      3.014      0.003       0.003       0.015\n",
              "LSTAT         -0.5611      0.059     -9.557      0.000      -0.676      -0.446\n",
              "==============================================================================\n",
              "Omnibus:                      151.414   Durbin-Watson:                   2.036\n",
              "Prob(Omnibus):                  0.000   Jarque-Bera (JB):              652.851\n",
              "Skew:                           1.602   Prob(JB):                    1.72e-142\n",
              "Kurtosis:                       8.341   Cond. No.                     1.52e+04\n",
              "==============================================================================\n",
              "\n",
              "Warnings:\n",
              "[1] Standard Errors assume that the covariance matrix of the errors is correctly specified.\n",
              "[2] The condition number is large, 1.52e+04. This might indicate that there are\n",
              "strong multicollinearity or other numerical problems.\n",
              "\"\"\""
            ]
          },
          "metadata": {
            "tags": []
          },
          "execution_count": 35
        }
      ]
    },
    {
      "cell_type": "markdown",
      "metadata": {
        "id": "LrRoXOOu8tlI"
      },
      "source": [
        "### Plotting the coefficients"
      ]
    },
    {
      "cell_type": "code",
      "metadata": {
        "scrolled": false,
        "colab": {
          "base_uri": "https://localhost:8080/",
          "height": 482
        },
        "id": "Rqq90oi48tlI",
        "outputId": "66775038-6041-44f0-e862-edc63c794dc2"
      },
      "source": [
        "plt.figure(figsize=(10, 4), dpi=120, facecolor='w', edgecolor='b')\n",
        "x = lm_fit_multi.params.index\n",
        "y = lm_fit_multi.params\n",
        "plt.bar( x, y )\n",
        "plt.xlabel( \"Variables\")\n",
        "plt.ylabel('Coefficients')\n",
        "plt.title('Coefficient plot');"
      ],
      "execution_count": 36,
      "outputs": [
        {
          "output_type": "display_data",
          "data": {
            "image/png": "[encoded data removed]",
            "text/plain": [
              "<Figure size 1200x480 with 1 Axes>"
            ]
          },
          "metadata": {
            "tags": []
          }
        }
      ]
    },
    {
      "cell_type": "markdown",
      "metadata": {
        "id": "uTbZau498tlI"
      },
      "source": [
        "### RMSE [Root Mean Squared Error]"
      ]
    },
    {
      "cell_type": "code",
      "metadata": {
        "id": "pKaGCQRC8tlJ"
      },
      "source": [
        "from sklearn.metrics import mean_squared_error as mse\n",
        "fitted = lm_fit_multi.fittedvalues\n",
        "resid = lm_fit_multi.resid"
      ],
      "execution_count": 37,
      "outputs": []
    },
    {
      "cell_type": "code",
      "metadata": {
        "colab": {
          "base_uri": "https://localhost:8080/"
        },
        "id": "nQU9Z9GN8tlJ",
        "outputId": "6070a141-45d9-405b-ed07-90dfa076220d"
      },
      "source": [
        "fitted=lm_fit_multi.predict(train)\n",
        "fitted[:5]"
      ],
      "execution_count": 38,
      "outputs": [
        {
          "output_type": "execute_result",
          "data": {
            "text/plain": [
              "266    30.412606\n",
              "501    23.820013\n",
              "297    19.323831\n",
              "388     6.444659\n",
              "477    11.764242\n",
              "dtype: float64"
            ]
          },
          "metadata": {
            "tags": []
          },
          "execution_count": 38
        }
      ]
    },
    {
      "cell_type": "code",
      "metadata": {
        "colab": {
          "base_uri": "https://localhost:8080/"
        },
        "id": "PhKnCUeX8tlJ",
        "outputId": "bd23d7dd-84fe-45ae-9e17-589362f3c879"
      },
      "source": [
        "np.mean((train.MEDV-fitted)**2)"
      ],
      "execution_count": 39,
      "outputs": [
        {
          "output_type": "execute_result",
          "data": {
            "text/plain": [
              "22.42787187609148"
            ]
          },
          "metadata": {
            "tags": []
          },
          "execution_count": 39
        }
      ]
    },
    {
      "cell_type": "code",
      "metadata": {
        "colab": {
          "base_uri": "https://localhost:8080/"
        },
        "id": "VkJmlM9q8tlJ",
        "outputId": "cad19b6d-f490-48e6-b5c9-5a3ba98ef3be"
      },
      "source": [
        "np.mean((train.MEDV-fitted)**2)**.5"
      ],
      "execution_count": 40,
      "outputs": [
        {
          "output_type": "execute_result",
          "data": {
            "text/plain": [
              "4.735807415435247"
            ]
          },
          "metadata": {
            "tags": []
          },
          "execution_count": 40
        }
      ]
    },
    {
      "cell_type": "code",
      "metadata": {
        "colab": {
          "base_uri": "https://localhost:8080/"
        },
        "id": "HnEBV3nU8tlK",
        "outputId": "287bf0e9-90dc-48f3-ae29-d5aba85991e8"
      },
      "source": [
        "### Training Data\n",
        "## 1. MSE\n",
        "print(\"MSE  - \",mse(y_true = train.MEDV, y_pred = fitted, squared = True).round(1))\n",
        "## 2. RMSE\n",
        "print(\"RSME - \" ,mse(y_true = train.MEDV, y_pred = fitted, squared = False).round(1))"
      ],
      "execution_count": 41,
      "outputs": [
        {
          "output_type": "stream",
          "text": [
            "MSE  -  22.4\n",
            "RSME -  4.7\n"
          ],
          "name": "stdout"
        }
      ]
    },
    {
      "cell_type": "code",
      "metadata": {
        "colab": {
          "base_uri": "https://localhost:8080/"
        },
        "id": "aD6jXF6g8tlK",
        "outputId": "04235d4f-286c-448b-8fbd-8f0b1c07e258"
      },
      "source": [
        "# predictions & validation on Test Data set\n",
        "test_predicted=lm_fit_multi.predict(test)\n",
        "\n",
        "## 1. MSE\n",
        "print(\"MSE  - \",mse(y_true = test.MEDV, y_pred = test_predicted, squared = True).round(1))\n",
        "## 2. RMSE\n",
        "print(\"RSME - \" ,mse(y_true = test.MEDV, y_pred = test_predicted, squared = False).round(1))"
      ],
      "execution_count": 42,
      "outputs": [
        {
          "output_type": "stream",
          "text": [
            "MSE  -  20.6\n",
            "RSME -  4.5\n"
          ],
          "name": "stdout"
        }
      ]
    },
    {
      "cell_type": "markdown",
      "metadata": {
        "id": "M6xqMrPe8tlK"
      },
      "source": [
        "# ANOVA : Overall Feasibilty of Regression Model\n",
        "      - H0 : all the beta values are non significant\n",
        "      -    : none of varaibles are significant\n",
        "      -    : all the regression terms are non significant \n",
        "      -    : hence regression is not at all possible"
      ]
    },
    {
      "cell_type": "markdown",
      "metadata": {
        "id": "8DcWuMU88tlL"
      },
      "source": [
        "# T - Test : Variable Significance \n",
        "\n",
        "* P - Value is uded to reject the H0\n",
        "* H0 : the corresponding beta value is non significant hence the corresponding variable is not significant\n",
        "* for whichever variable P- Value is high [>0.5] - We fail to reject the null, hence varaiable is not significcant "
      ]
    },
    {
      "cell_type": "markdown",
      "metadata": {
        "id": "-NVfhzx38tlL"
      },
      "source": [
        "# AIC - Akeike information Criterion = 2p - 2 ln L\n",
        "# BIC - Baysean Information Criterion = pln n - 2ln L\n",
        "    - based on Information theory : information loss\n",
        "    - lower value of AIC & BIC\n",
        "    - Relative \n",
        "    - p in the equation : no. of factors / x variables "
      ]
    },
    {
      "cell_type": "markdown",
      "metadata": {
        "id": "UDQ4WgF98tlL"
      },
      "source": [
        "# <center> Linear Regression - Deep Dive "
      ]
    },
    {
      "cell_type": "markdown",
      "metadata": {
        "id": "_U_tPndu8tlL"
      },
      "source": [
        "## Assumptions of Linear Regression\n",
        "\n",
        "* Linear Relation : The relationship b/w Dependent & Independent is supposed to be linear. Dependent varaibale is a linear function of independent variable & error term\n",
        "* Errors [Residuals] are Normally Distributed i.e. Regression Model is Robust\n",
        "* Homoscedasticity : Equal variance in the errors across dataset\n",
        "* Multicollinearity : Independence of the independent varaibles "
      ]
    },
    {
      "cell_type": "code",
      "metadata": {
        "colab": {
          "base_uri": "https://localhost:8080/",
          "height": 203
        },
        "id": "i9UG-EMG8tlM",
        "outputId": "140aa4b5-1788-403b-d050-ed6b1a3ff818"
      },
      "source": [
        "# Arranging and calculating the Residuals\n",
        "residuals = pd.DataFrame({\n",
        "    'fitted values' : train.MEDV,\n",
        "    'predicted values' : fitted,\n",
        "})\n",
        "\n",
        "residuals['residuals'] = residuals['fitted values'] - residuals['predicted values']\n",
        "residuals.head()"
      ],
      "execution_count": 43,
      "outputs": [
        {
          "output_type": "execute_result",
          "data": {
            "text/html": [
              "<div>\n",
              "<style scoped>\n",
              "    .dataframe tbody tr th:only-of-type {\n",
              "        vertical-align: middle;\n",
              "    }\n",
              "\n",
              "    .dataframe tbody tr th {\n",
              "        vertical-align: top;\n",
              "    }\n",
              "\n",
              "    .dataframe thead th {\n",
              "        text-align: right;\n",
              "    }\n",
              "</style>\n",
              "<table border=\"1\" class=\"dataframe\">\n",
              "  <thead>\n",
              "    <tr style=\"text-align: right;\">\n",
              "      <th></th>\n",
              "      <th>fitted values</th>\n",
              "      <th>predicted values</th>\n",
              "      <th>residuals</th>\n",
              "    </tr>\n",
              "  </thead>\n",
              "  <tbody>\n",
              "    <tr>\n",
              "      <th>266</th>\n",
              "      <td>30.7</td>\n",
              "      <td>30.412606</td>\n",
              "      <td>0.287394</td>\n",
              "    </tr>\n",
              "    <tr>\n",
              "      <th>501</th>\n",
              "      <td>22.4</td>\n",
              "      <td>23.820013</td>\n",
              "      <td>-1.420013</td>\n",
              "    </tr>\n",
              "    <tr>\n",
              "      <th>297</th>\n",
              "      <td>20.3</td>\n",
              "      <td>19.323831</td>\n",
              "      <td>0.976169</td>\n",
              "    </tr>\n",
              "    <tr>\n",
              "      <th>388</th>\n",
              "      <td>10.2</td>\n",
              "      <td>6.444659</td>\n",
              "      <td>3.755341</td>\n",
              "    </tr>\n",
              "    <tr>\n",
              "      <th>477</th>\n",
              "      <td>12.0</td>\n",
              "      <td>11.764242</td>\n",
              "      <td>0.235758</td>\n",
              "    </tr>\n",
              "  </tbody>\n",
              "</table>\n",
              "</div>"
            ],
            "text/plain": [
              "     fitted values  predicted values  residuals\n",
              "266           30.7         30.412606   0.287394\n",
              "501           22.4         23.820013  -1.420013\n",
              "297           20.3         19.323831   0.976169\n",
              "388           10.2          6.444659   3.755341\n",
              "477           12.0         11.764242   0.235758"
            ]
          },
          "metadata": {
            "tags": []
          },
          "execution_count": 43
        }
      ]
    },
    {
      "cell_type": "markdown",
      "metadata": {
        "id": "kJv4B_898tlM"
      },
      "source": [
        "### A. Linearity Assumption"
      ]
    },
    {
      "cell_type": "code",
      "metadata": {
        "colab": {
          "base_uri": "https://localhost:8080/",
          "height": 320
        },
        "id": "KGyGSAz48tlM",
        "outputId": "a0210251-3131-4e79-c017-ce44a8e4ad76"
      },
      "source": [
        "# ------------ Already validated Before Model Building --------\n",
        "y_cap = lm.predict(train[['RM']])\n",
        "plt.figure(figsize = (10,5))\n",
        "plt.scatter(train.RM, train.MEDV)\n",
        "plt.plot(train.RM, y_cap,color = 'red')\n",
        "plt.show();"
      ],
      "execution_count": 44,
      "outputs": [
        {
          "output_type": "display_data",
          "data": {
            "image/png": "[encoded data removed]",
            "text/plain": [
              "<Figure size 720x360 with 1 Axes>"
            ]
          },
          "metadata": {
            "tags": [],
            "needs_background": "light"
          }
        }
      ]
    },
    {
      "cell_type": "markdown",
      "metadata": {
        "id": "e4jnkd3V8tlN"
      },
      "source": [
        "### B. Normality of Errors"
      ]
    },
    {
      "cell_type": "markdown",
      "metadata": {
        "id": "RGPWSMyl8tlN"
      },
      "source": [
        "**Residual Analysis  :**\n",
        "* Predicted / estimated = y_cap\n",
        "* Residuals = y - y_cap "
      ]
    },
    {
      "cell_type": "code",
      "metadata": {
        "id": "K-ScY-yT8tlN"
      },
      "source": [
        "import scipy.stats as stats"
      ],
      "execution_count": 45,
      "outputs": []
    },
    {
      "cell_type": "code",
      "metadata": {
        "scrolled": false,
        "colab": {
          "base_uri": "https://localhost:8080/",
          "height": 482
        },
        "id": "yxETvrkh8tlN",
        "outputId": "2162ad3d-5a8a-4d46-a967-93172969df9a"
      },
      "source": [
        "# Histogram for distribution\n",
        "plt.figure(figsize=(8, 4), dpi=120, facecolor='w', edgecolor='b')\n",
        "plt.hist(residuals.residuals, bins = 150)\n",
        "plt.xlabel('Error')\n",
        "plt.ylabel('Frequency')\n",
        "plt.title('Distribution of Error Terms')\n",
        "plt.show()"
      ],
      "execution_count": 46,
      "outputs": [
        {
          "output_type": "display_data",
          "data": {
            "image/png": "[encoded data removed]",
            "text/plain": [
              "<Figure size 960x480 with 1 Axes>"
            ]
          },
          "metadata": {
            "tags": []
          }
        }
      ]
    },
    {
      "cell_type": "markdown",
      "metadata": {
        "id": "zN74JGHN8tlN"
      },
      "source": [
        "According to the Histogram, the distribution of error is not perfectly normal and there are some outliers on the Higher end of the errors."
      ]
    },
    {
      "cell_type": "markdown",
      "metadata": {
        "id": "t3nKtQx98tlO"
      },
      "source": [
        "### QQ-Plot (Is the data Normally Distributed?)"
      ]
    },
    {
      "cell_type": "code",
      "metadata": {
        "scrolled": false,
        "colab": {
          "base_uri": "https://localhost:8080/",
          "height": 573
        },
        "id": "FVOUtPY-8tlO",
        "outputId": "0c3e5edb-798a-495f-84ca-958d26ed6a7c"
      },
      "source": [
        "# importing the QQ-plot from the from the statsmodels\n",
        "from statsmodels.graphics.gofplots import qqplot\n",
        "\n",
        "## Plotting the QQ plot\n",
        "fig, ax = plt.subplots(figsize=(5,5) , dpi = 120)\n",
        "qqplot(residuals.residuals, line = 's' , ax = ax)\n",
        "plt.ylabel('Residual Quantiles')\n",
        "plt.xlabel('Ideal Scaled Quantiles')\n",
        "plt.title('Checking distribution of Residual Errors')\n",
        "plt.show()"
      ],
      "execution_count": 47,
      "outputs": [
        {
          "output_type": "display_data",
          "data": {
            "image/png": "[encoded data removed]",
            "text/plain": [
              "<Figure size 600x600 with 1 Axes>"
            ]
          },
          "metadata": {
            "tags": [],
            "needs_background": "light"
          }
        }
      ]
    },
    {
      "cell_type": "markdown",
      "metadata": {
        "id": "3fwP2i4V8tlO"
      },
      "source": [
        "The QQ-plot clearly verifies our findings from the the histogram of the residuals, the data is not exactly normal in nature, and there are some outliers on the higher end of the Residues."
      ]
    },
    {
      "cell_type": "markdown",
      "metadata": {
        "id": "HAcXwAgQ8tlO"
      },
      "source": [
        "### C. Homoscedasticity \n",
        "* Scale - Location plot \n",
        "* Sqrt of standardised residuals against fitted values"
      ]
    },
    {
      "cell_type": "code",
      "metadata": {
        "colab": {
          "base_uri": "https://localhost:8080/",
          "height": 482
        },
        "id": "QLmOz_Dn8tlO",
        "outputId": "2d4c10ab-f9c3-4fa3-a0e7-162057f5c201"
      },
      "source": [
        "plt.figure(figsize=(8, 4), dpi=120, facecolor='w', edgecolor='b')\n",
        "f = range(0,len(train))\n",
        "k = [0 for i in range(0,len(train))]\n",
        "plt.scatter( f, residuals.residuals[:], label = 'Residuals')\n",
        "plt.plot( f, k , color = 'red', label = 'Mean' )\n",
        "plt.xlabel('fitted points ')\n",
        "plt.ylabel('residuals')\n",
        "plt.title('Residual plot')\n",
        "#plt.ylim(-4000, 4000)\n",
        "plt.legend();"
      ],
      "execution_count": 48,
      "outputs": [
        {
          "output_type": "display_data",
          "data": {
            "image/png": "[encoded data removed]",
            "text/plain": [
              "<Figure size 960x480 with 1 Axes>"
            ]
          },
          "metadata": {
            "tags": []
          }
        }
      ]
    },
    {
      "cell_type": "markdown",
      "metadata": {
        "id": "xzDODQq_8tlP"
      },
      "source": [
        "\n",
        "### D. Multicollinearity"
      ]
    },
    {
      "cell_type": "markdown",
      "metadata": {
        "id": "RW0I-bE58tlP"
      },
      "source": [
        "* VIF - Variance Inflation Factor\n",
        "* VIF(x) = 1 / (1 - R-Squared(X))\n",
        "* R-Squared(X) is the R-Squared value coming from regression model for x i.e. taking X as dependent and all other variables as the independent variables"
      ]
    },
    {
      "cell_type": "code",
      "metadata": {
        "id": "hAocqYVT8tlP"
      },
      "source": [
        "from statsmodels.stats.outliers_influence import variance_inflation_factor as vif"
      ],
      "execution_count": 49,
      "outputs": []
    },
    {
      "cell_type": "code",
      "metadata": {
        "scrolled": false,
        "colab": {
          "base_uri": "https://localhost:8080/",
          "height": 417
        },
        "id": "Rs8PSeYG8tlP",
        "outputId": "788da746-3280-4c07-8c98-3acf5d658172"
      },
      "source": [
        "# vif requires a data with intercept column\n",
        "x_data = train.drop(columns= 'MEDV')\n",
        "x_data['Intercept'] = 1\n",
        "x_data"
      ],
      "execution_count": 50,
      "outputs": [
        {
          "output_type": "execute_result",
          "data": {
            "text/html": [
              "<div>\n",
              "<style scoped>\n",
              "    .dataframe tbody tr th:only-of-type {\n",
              "        vertical-align: middle;\n",
              "    }\n",
              "\n",
              "    .dataframe tbody tr th {\n",
              "        vertical-align: top;\n",
              "    }\n",
              "\n",
              "    .dataframe thead th {\n",
              "        text-align: right;\n",
              "    }\n",
              "</style>\n",
              "<table border=\"1\" class=\"dataframe\">\n",
              "  <thead>\n",
              "    <tr style=\"text-align: right;\">\n",
              "      <th></th>\n",
              "      <th>CRIM</th>\n",
              "      <th>ZN</th>\n",
              "      <th>INDUS</th>\n",
              "      <th>CHAS</th>\n",
              "      <th>NOX</th>\n",
              "      <th>RM</th>\n",
              "      <th>AGE</th>\n",
              "      <th>DIS</th>\n",
              "      <th>RAD</th>\n",
              "      <th>TAX</th>\n",
              "      <th>PTRATIO</th>\n",
              "      <th>B</th>\n",
              "      <th>LSTAT</th>\n",
              "      <th>Intercept</th>\n",
              "    </tr>\n",
              "  </thead>\n",
              "  <tbody>\n",
              "    <tr>\n",
              "      <th>266</th>\n",
              "      <td>0.78570</td>\n",
              "      <td>20.0</td>\n",
              "      <td>3.97</td>\n",
              "      <td>0.0</td>\n",
              "      <td>0.6470</td>\n",
              "      <td>7.014</td>\n",
              "      <td>84.6</td>\n",
              "      <td>2.1329</td>\n",
              "      <td>5.0</td>\n",
              "      <td>264.0</td>\n",
              "      <td>13.0</td>\n",
              "      <td>384.07</td>\n",
              "      <td>14.79</td>\n",
              "      <td>1</td>\n",
              "    </tr>\n",
              "    <tr>\n",
              "      <th>501</th>\n",
              "      <td>0.06263</td>\n",
              "      <td>0.0</td>\n",
              "      <td>11.93</td>\n",
              "      <td>0.0</td>\n",
              "      <td>0.5730</td>\n",
              "      <td>6.593</td>\n",
              "      <td>69.1</td>\n",
              "      <td>2.4786</td>\n",
              "      <td>1.0</td>\n",
              "      <td>273.0</td>\n",
              "      <td>21.0</td>\n",
              "      <td>391.99</td>\n",
              "      <td>9.67</td>\n",
              "      <td>1</td>\n",
              "    </tr>\n",
              "    <tr>\n",
              "      <th>297</th>\n",
              "      <td>0.14103</td>\n",
              "      <td>0.0</td>\n",
              "      <td>13.92</td>\n",
              "      <td>0.0</td>\n",
              "      <td>0.4370</td>\n",
              "      <td>5.790</td>\n",
              "      <td>58.0</td>\n",
              "      <td>6.3200</td>\n",
              "      <td>4.0</td>\n",
              "      <td>289.0</td>\n",
              "      <td>16.0</td>\n",
              "      <td>396.90</td>\n",
              "      <td>15.84</td>\n",
              "      <td>1</td>\n",
              "    </tr>\n",
              "    <tr>\n",
              "      <th>388</th>\n",
              "      <td>14.33370</td>\n",
              "      <td>0.0</td>\n",
              "      <td>18.10</td>\n",
              "      <td>0.0</td>\n",
              "      <td>0.7000</td>\n",
              "      <td>4.880</td>\n",
              "      <td>100.0</td>\n",
              "      <td>1.5895</td>\n",
              "      <td>24.0</td>\n",
              "      <td>666.0</td>\n",
              "      <td>20.2</td>\n",
              "      <td>372.92</td>\n",
              "      <td>30.62</td>\n",
              "      <td>1</td>\n",
              "    </tr>\n",
              "    <tr>\n",
              "      <th>477</th>\n",
              "      <td>15.02340</td>\n",
              "      <td>0.0</td>\n",
              "      <td>18.10</td>\n",
              "      <td>0.0</td>\n",
              "      <td>0.6140</td>\n",
              "      <td>5.304</td>\n",
              "      <td>97.3</td>\n",
              "      <td>2.1007</td>\n",
              "      <td>24.0</td>\n",
              "      <td>666.0</td>\n",
              "      <td>20.2</td>\n",
              "      <td>349.48</td>\n",
              "      <td>24.91</td>\n",
              "      <td>1</td>\n",
              "    </tr>\n",
              "    <tr>\n",
              "      <th>...</th>\n",
              "      <td>...</td>\n",
              "      <td>...</td>\n",
              "      <td>...</td>\n",
              "      <td>...</td>\n",
              "      <td>...</td>\n",
              "      <td>...</td>\n",
              "      <td>...</td>\n",
              "      <td>...</td>\n",
              "      <td>...</td>\n",
              "      <td>...</td>\n",
              "      <td>...</td>\n",
              "      <td>...</td>\n",
              "      <td>...</td>\n",
              "      <td>...</td>\n",
              "    </tr>\n",
              "    <tr>\n",
              "      <th>241</th>\n",
              "      <td>0.10612</td>\n",
              "      <td>30.0</td>\n",
              "      <td>4.93</td>\n",
              "      <td>0.0</td>\n",
              "      <td>0.4280</td>\n",
              "      <td>6.095</td>\n",
              "      <td>65.1</td>\n",
              "      <td>6.3361</td>\n",
              "      <td>6.0</td>\n",
              "      <td>300.0</td>\n",
              "      <td>16.6</td>\n",
              "      <td>394.62</td>\n",
              "      <td>12.40</td>\n",
              "      <td>1</td>\n",
              "    </tr>\n",
              "    <tr>\n",
              "      <th>253</th>\n",
              "      <td>0.36894</td>\n",
              "      <td>22.0</td>\n",
              "      <td>5.86</td>\n",
              "      <td>0.0</td>\n",
              "      <td>0.4310</td>\n",
              "      <td>8.259</td>\n",
              "      <td>8.4</td>\n",
              "      <td>8.9067</td>\n",
              "      <td>7.0</td>\n",
              "      <td>330.0</td>\n",
              "      <td>19.1</td>\n",
              "      <td>396.90</td>\n",
              "      <td>3.54</td>\n",
              "      <td>1</td>\n",
              "    </tr>\n",
              "    <tr>\n",
              "      <th>390</th>\n",
              "      <td>6.96215</td>\n",
              "      <td>0.0</td>\n",
              "      <td>18.10</td>\n",
              "      <td>0.0</td>\n",
              "      <td>0.7000</td>\n",
              "      <td>5.713</td>\n",
              "      <td>97.0</td>\n",
              "      <td>1.9265</td>\n",
              "      <td>24.0</td>\n",
              "      <td>666.0</td>\n",
              "      <td>20.2</td>\n",
              "      <td>394.43</td>\n",
              "      <td>17.11</td>\n",
              "      <td>1</td>\n",
              "    </tr>\n",
              "    <tr>\n",
              "      <th>155</th>\n",
              "      <td>3.53501</td>\n",
              "      <td>0.0</td>\n",
              "      <td>19.58</td>\n",
              "      <td>1.0</td>\n",
              "      <td>0.8710</td>\n",
              "      <td>6.152</td>\n",
              "      <td>82.6</td>\n",
              "      <td>1.7455</td>\n",
              "      <td>5.0</td>\n",
              "      <td>403.0</td>\n",
              "      <td>14.7</td>\n",
              "      <td>88.01</td>\n",
              "      <td>15.02</td>\n",
              "      <td>1</td>\n",
              "    </tr>\n",
              "    <tr>\n",
              "      <th>331</th>\n",
              "      <td>0.05023</td>\n",
              "      <td>35.0</td>\n",
              "      <td>6.06</td>\n",
              "      <td>0.0</td>\n",
              "      <td>0.4379</td>\n",
              "      <td>5.706</td>\n",
              "      <td>28.4</td>\n",
              "      <td>6.6407</td>\n",
              "      <td>1.0</td>\n",
              "      <td>304.0</td>\n",
              "      <td>16.9</td>\n",
              "      <td>394.02</td>\n",
              "      <td>12.43</td>\n",
              "      <td>1</td>\n",
              "    </tr>\n",
              "  </tbody>\n",
              "</table>\n",
              "<p>404 rows × 14 columns</p>\n",
              "</div>"
            ],
            "text/plain": [
              "         CRIM    ZN  INDUS  CHAS  ...  PTRATIO       B  LSTAT  Intercept\n",
              "266   0.78570  20.0   3.97   0.0  ...     13.0  384.07  14.79          1\n",
              "501   0.06263   0.0  11.93   0.0  ...     21.0  391.99   9.67          1\n",
              "297   0.14103   0.0  13.92   0.0  ...     16.0  396.90  15.84          1\n",
              "388  14.33370   0.0  18.10   0.0  ...     20.2  372.92  30.62          1\n",
              "477  15.02340   0.0  18.10   0.0  ...     20.2  349.48  24.91          1\n",
              "..        ...   ...    ...   ...  ...      ...     ...    ...        ...\n",
              "241   0.10612  30.0   4.93   0.0  ...     16.6  394.62  12.40          1\n",
              "253   0.36894  22.0   5.86   0.0  ...     19.1  396.90   3.54          1\n",
              "390   6.96215   0.0  18.10   0.0  ...     20.2  394.43  17.11          1\n",
              "155   3.53501   0.0  19.58   1.0  ...     14.7   88.01  15.02          1\n",
              "331   0.05023  35.0   6.06   0.0  ...     16.9  394.02  12.43          1\n",
              "\n",
              "[404 rows x 14 columns]"
            ]
          },
          "metadata": {
            "tags": []
          },
          "execution_count": 50
        }
      ]
    },
    {
      "cell_type": "code",
      "metadata": {
        "id": "k5zGRph18tlP"
      },
      "source": [
        "?vif"
      ],
      "execution_count": 51,
      "outputs": []
    },
    {
      "cell_type": "code",
      "metadata": {
        "colab": {
          "base_uri": "https://localhost:8080/"
        },
        "id": "tpG2mq6z8tlQ",
        "outputId": "b8ca9c23-b7ee-404a-ce49-92f5e6716e64"
      },
      "source": [
        "vif(x_data.values, 1)"
      ],
      "execution_count": 52,
      "outputs": [
        {
          "output_type": "execute_result",
          "data": {
            "text/plain": [
              "2.342267804563203"
            ]
          },
          "metadata": {
            "tags": []
          },
          "execution_count": 52
        }
      ]
    },
    {
      "cell_type": "code",
      "metadata": {
        "id": "qggKBzAR8tlQ"
      },
      "source": [
        "VIF = pd.DataFrame()\n",
        "VIF['Independent_Variables'] = x_data.columns\n",
        "VIF['VIF'] = [vif(x_data.values, i) for i in range(x_data.shape[1])]\n",
        "VIF = VIF.set_index('Independent_Variables').drop(index = 'Intercept').T"
      ],
      "execution_count": 53,
      "outputs": []
    },
    {
      "cell_type": "code",
      "metadata": {
        "scrolled": false,
        "colab": {
          "base_uri": "https://localhost:8080/",
          "height": 80
        },
        "id": "ov4-30u-8tlQ",
        "outputId": "098bc5d9-7269-4f35-8932-e3f8abdd3093"
      },
      "source": [
        "VIF"
      ],
      "execution_count": 54,
      "outputs": [
        {
          "output_type": "execute_result",
          "data": {
            "text/html": [
              "<div>\n",
              "<style scoped>\n",
              "    .dataframe tbody tr th:only-of-type {\n",
              "        vertical-align: middle;\n",
              "    }\n",
              "\n",
              "    .dataframe tbody tr th {\n",
              "        vertical-align: top;\n",
              "    }\n",
              "\n",
              "    .dataframe thead th {\n",
              "        text-align: right;\n",
              "    }\n",
              "</style>\n",
              "<table border=\"1\" class=\"dataframe\">\n",
              "  <thead>\n",
              "    <tr style=\"text-align: right;\">\n",
              "      <th>Independent_Variables</th>\n",
              "      <th>CRIM</th>\n",
              "      <th>ZN</th>\n",
              "      <th>INDUS</th>\n",
              "      <th>CHAS</th>\n",
              "      <th>NOX</th>\n",
              "      <th>RM</th>\n",
              "      <th>AGE</th>\n",
              "      <th>DIS</th>\n",
              "      <th>RAD</th>\n",
              "      <th>TAX</th>\n",
              "      <th>PTRATIO</th>\n",
              "      <th>B</th>\n",
              "      <th>LSTAT</th>\n",
              "    </tr>\n",
              "  </thead>\n",
              "  <tbody>\n",
              "    <tr>\n",
              "      <th>VIF</th>\n",
              "      <td>1.748964</td>\n",
              "      <td>2.342268</td>\n",
              "      <td>3.915342</td>\n",
              "      <td>1.09482</td>\n",
              "      <td>4.448331</td>\n",
              "      <td>2.013223</td>\n",
              "      <td>3.170925</td>\n",
              "      <td>4.01732</td>\n",
              "      <td>6.931512</td>\n",
              "      <td>8.322901</td>\n",
              "      <td>1.747863</td>\n",
              "      <td>1.35027</td>\n",
              "      <td>3.232655</td>\n",
              "    </tr>\n",
              "  </tbody>\n",
              "</table>\n",
              "</div>"
            ],
            "text/plain": [
              "Independent_Variables      CRIM        ZN  ...        B     LSTAT\n",
              "VIF                    1.748964  2.342268  ...  1.35027  3.232655\n",
              "\n",
              "[1 rows x 13 columns]"
            ]
          },
          "metadata": {
            "tags": []
          },
          "execution_count": 54
        }
      ]
    },
    {
      "cell_type": "code",
      "metadata": {
        "id": "505cxhm98tlQ"
      },
      "source": [
        "x_data=x_data.drop('Intercept',axis=1)"
      ],
      "execution_count": 55,
      "outputs": []
    },
    {
      "cell_type": "code",
      "metadata": {
        "colab": {
          "base_uri": "https://localhost:8080/",
          "height": 417
        },
        "id": "mH-rUGBf8tlQ",
        "outputId": "0c69ff3c-14bc-4db5-9d46-4d264dadd156"
      },
      "source": [
        "x_data"
      ],
      "execution_count": 56,
      "outputs": [
        {
          "output_type": "execute_result",
          "data": {
            "text/html": [
              "<div>\n",
              "<style scoped>\n",
              "    .dataframe tbody tr th:only-of-type {\n",
              "        vertical-align: middle;\n",
              "    }\n",
              "\n",
              "    .dataframe tbody tr th {\n",
              "        vertical-align: top;\n",
              "    }\n",
              "\n",
              "    .dataframe thead th {\n",
              "        text-align: right;\n",
              "    }\n",
              "</style>\n",
              "<table border=\"1\" class=\"dataframe\">\n",
              "  <thead>\n",
              "    <tr style=\"text-align: right;\">\n",
              "      <th></th>\n",
              "      <th>CRIM</th>\n",
              "      <th>ZN</th>\n",
              "      <th>INDUS</th>\n",
              "      <th>CHAS</th>\n",
              "      <th>NOX</th>\n",
              "      <th>RM</th>\n",
              "      <th>AGE</th>\n",
              "      <th>DIS</th>\n",
              "      <th>RAD</th>\n",
              "      <th>TAX</th>\n",
              "      <th>PTRATIO</th>\n",
              "      <th>B</th>\n",
              "      <th>LSTAT</th>\n",
              "    </tr>\n",
              "  </thead>\n",
              "  <tbody>\n",
              "    <tr>\n",
              "      <th>266</th>\n",
              "      <td>0.78570</td>\n",
              "      <td>20.0</td>\n",
              "      <td>3.97</td>\n",
              "      <td>0.0</td>\n",
              "      <td>0.6470</td>\n",
              "      <td>7.014</td>\n",
              "      <td>84.6</td>\n",
              "      <td>2.1329</td>\n",
              "      <td>5.0</td>\n",
              "      <td>264.0</td>\n",
              "      <td>13.0</td>\n",
              "      <td>384.07</td>\n",
              "      <td>14.79</td>\n",
              "    </tr>\n",
              "    <tr>\n",
              "      <th>501</th>\n",
              "      <td>0.06263</td>\n",
              "      <td>0.0</td>\n",
              "      <td>11.93</td>\n",
              "      <td>0.0</td>\n",
              "      <td>0.5730</td>\n",
              "      <td>6.593</td>\n",
              "      <td>69.1</td>\n",
              "      <td>2.4786</td>\n",
              "      <td>1.0</td>\n",
              "      <td>273.0</td>\n",
              "      <td>21.0</td>\n",
              "      <td>391.99</td>\n",
              "      <td>9.67</td>\n",
              "    </tr>\n",
              "    <tr>\n",
              "      <th>297</th>\n",
              "      <td>0.14103</td>\n",
              "      <td>0.0</td>\n",
              "      <td>13.92</td>\n",
              "      <td>0.0</td>\n",
              "      <td>0.4370</td>\n",
              "      <td>5.790</td>\n",
              "      <td>58.0</td>\n",
              "      <td>6.3200</td>\n",
              "      <td>4.0</td>\n",
              "      <td>289.0</td>\n",
              "      <td>16.0</td>\n",
              "      <td>396.90</td>\n",
              "      <td>15.84</td>\n",
              "    </tr>\n",
              "    <tr>\n",
              "      <th>388</th>\n",
              "      <td>14.33370</td>\n",
              "      <td>0.0</td>\n",
              "      <td>18.10</td>\n",
              "      <td>0.0</td>\n",
              "      <td>0.7000</td>\n",
              "      <td>4.880</td>\n",
              "      <td>100.0</td>\n",
              "      <td>1.5895</td>\n",
              "      <td>24.0</td>\n",
              "      <td>666.0</td>\n",
              "      <td>20.2</td>\n",
              "      <td>372.92</td>\n",
              "      <td>30.62</td>\n",
              "    </tr>\n",
              "    <tr>\n",
              "      <th>477</th>\n",
              "      <td>15.02340</td>\n",
              "      <td>0.0</td>\n",
              "      <td>18.10</td>\n",
              "      <td>0.0</td>\n",
              "      <td>0.6140</td>\n",
              "      <td>5.304</td>\n",
              "      <td>97.3</td>\n",
              "      <td>2.1007</td>\n",
              "      <td>24.0</td>\n",
              "      <td>666.0</td>\n",
              "      <td>20.2</td>\n",
              "      <td>349.48</td>\n",
              "      <td>24.91</td>\n",
              "    </tr>\n",
              "    <tr>\n",
              "      <th>...</th>\n",
              "      <td>...</td>\n",
              "      <td>...</td>\n",
              "      <td>...</td>\n",
              "      <td>...</td>\n",
              "      <td>...</td>\n",
              "      <td>...</td>\n",
              "      <td>...</td>\n",
              "      <td>...</td>\n",
              "      <td>...</td>\n",
              "      <td>...</td>\n",
              "      <td>...</td>\n",
              "      <td>...</td>\n",
              "      <td>...</td>\n",
              "    </tr>\n",
              "    <tr>\n",
              "      <th>241</th>\n",
              "      <td>0.10612</td>\n",
              "      <td>30.0</td>\n",
              "      <td>4.93</td>\n",
              "      <td>0.0</td>\n",
              "      <td>0.4280</td>\n",
              "      <td>6.095</td>\n",
              "      <td>65.1</td>\n",
              "      <td>6.3361</td>\n",
              "      <td>6.0</td>\n",
              "      <td>300.0</td>\n",
              "      <td>16.6</td>\n",
              "      <td>394.62</td>\n",
              "      <td>12.40</td>\n",
              "    </tr>\n",
              "    <tr>\n",
              "      <th>253</th>\n",
              "      <td>0.36894</td>\n",
              "      <td>22.0</td>\n",
              "      <td>5.86</td>\n",
              "      <td>0.0</td>\n",
              "      <td>0.4310</td>\n",
              "      <td>8.259</td>\n",
              "      <td>8.4</td>\n",
              "      <td>8.9067</td>\n",
              "      <td>7.0</td>\n",
              "      <td>330.0</td>\n",
              "      <td>19.1</td>\n",
              "      <td>396.90</td>\n",
              "      <td>3.54</td>\n",
              "    </tr>\n",
              "    <tr>\n",
              "      <th>390</th>\n",
              "      <td>6.96215</td>\n",
              "      <td>0.0</td>\n",
              "      <td>18.10</td>\n",
              "      <td>0.0</td>\n",
              "      <td>0.7000</td>\n",
              "      <td>5.713</td>\n",
              "      <td>97.0</td>\n",
              "      <td>1.9265</td>\n",
              "      <td>24.0</td>\n",
              "      <td>666.0</td>\n",
              "      <td>20.2</td>\n",
              "      <td>394.43</td>\n",
              "      <td>17.11</td>\n",
              "    </tr>\n",
              "    <tr>\n",
              "      <th>155</th>\n",
              "      <td>3.53501</td>\n",
              "      <td>0.0</td>\n",
              "      <td>19.58</td>\n",
              "      <td>1.0</td>\n",
              "      <td>0.8710</td>\n",
              "      <td>6.152</td>\n",
              "      <td>82.6</td>\n",
              "      <td>1.7455</td>\n",
              "      <td>5.0</td>\n",
              "      <td>403.0</td>\n",
              "      <td>14.7</td>\n",
              "      <td>88.01</td>\n",
              "      <td>15.02</td>\n",
              "    </tr>\n",
              "    <tr>\n",
              "      <th>331</th>\n",
              "      <td>0.05023</td>\n",
              "      <td>35.0</td>\n",
              "      <td>6.06</td>\n",
              "      <td>0.0</td>\n",
              "      <td>0.4379</td>\n",
              "      <td>5.706</td>\n",
              "      <td>28.4</td>\n",
              "      <td>6.6407</td>\n",
              "      <td>1.0</td>\n",
              "      <td>304.0</td>\n",
              "      <td>16.9</td>\n",
              "      <td>394.02</td>\n",
              "      <td>12.43</td>\n",
              "    </tr>\n",
              "  </tbody>\n",
              "</table>\n",
              "<p>404 rows × 13 columns</p>\n",
              "</div>"
            ],
            "text/plain": [
              "         CRIM    ZN  INDUS  CHAS     NOX  ...   RAD    TAX  PTRATIO       B  LSTAT\n",
              "266   0.78570  20.0   3.97   0.0  0.6470  ...   5.0  264.0     13.0  384.07  14.79\n",
              "501   0.06263   0.0  11.93   0.0  0.5730  ...   1.0  273.0     21.0  391.99   9.67\n",
              "297   0.14103   0.0  13.92   0.0  0.4370  ...   4.0  289.0     16.0  396.90  15.84\n",
              "388  14.33370   0.0  18.10   0.0  0.7000  ...  24.0  666.0     20.2  372.92  30.62\n",
              "477  15.02340   0.0  18.10   0.0  0.6140  ...  24.0  666.0     20.2  349.48  24.91\n",
              "..        ...   ...    ...   ...     ...  ...   ...    ...      ...     ...    ...\n",
              "241   0.10612  30.0   4.93   0.0  0.4280  ...   6.0  300.0     16.6  394.62  12.40\n",
              "253   0.36894  22.0   5.86   0.0  0.4310  ...   7.0  330.0     19.1  396.90   3.54\n",
              "390   6.96215   0.0  18.10   0.0  0.7000  ...  24.0  666.0     20.2  394.43  17.11\n",
              "155   3.53501   0.0  19.58   1.0  0.8710  ...   5.0  403.0     14.7   88.01  15.02\n",
              "331   0.05023  35.0   6.06   0.0  0.4379  ...   1.0  304.0     16.9  394.02  12.43\n",
              "\n",
              "[404 rows x 13 columns]"
            ]
          },
          "metadata": {
            "tags": []
          },
          "execution_count": 56
        }
      ]
    },
    {
      "cell_type": "code",
      "metadata": {
        "scrolled": true,
        "colab": {
          "base_uri": "https://localhost:8080/"
        },
        "id": "K6r2GDZC8tlR",
        "outputId": "2bc8254c-4605-41da-fab7-b3162e294397"
      },
      "source": [
        "x_data.columns"
      ],
      "execution_count": 57,
      "outputs": [
        {
          "output_type": "execute_result",
          "data": {
            "text/plain": [
              "Index(['CRIM', 'ZN', 'INDUS', 'CHAS', 'NOX', 'RM', 'AGE', 'DIS', 'RAD', 'TAX',\n",
              "       'PTRATIO', 'B', 'LSTAT'],\n",
              "      dtype='object')"
            ]
          },
          "metadata": {
            "tags": []
          },
          "execution_count": 57
        }
      ]
    },
    {
      "cell_type": "code",
      "metadata": {
        "colab": {
          "base_uri": "https://localhost:8080/"
        },
        "id": "riYTcjyD8tlR",
        "outputId": "07a4182f-2a8c-40e7-8d76-ce5aaa45b985"
      },
      "source": [
        "vif_d = {}\n",
        "for var in x_data.columns:\n",
        "    form =  var + '~ '+ ' + '.join(x_data.drop(columns = [var])) \n",
        "    print(form)\n",
        "    mod = ols(form, data = x_data).fit()\n",
        "    vif_d[var] = 1/ (1-mod.rsquared)"
      ],
      "execution_count": 58,
      "outputs": [
        {
          "output_type": "stream",
          "text": [
            "CRIM~ ZN + INDUS + CHAS + NOX + RM + AGE + DIS + RAD + TAX + PTRATIO + B + LSTAT\n",
            "ZN~ CRIM + INDUS + CHAS + NOX + RM + AGE + DIS + RAD + TAX + PTRATIO + B + LSTAT\n",
            "INDUS~ CRIM + ZN + CHAS + NOX + RM + AGE + DIS + RAD + TAX + PTRATIO + B + LSTAT\n",
            "CHAS~ CRIM + ZN + INDUS + NOX + RM + AGE + DIS + RAD + TAX + PTRATIO + B + LSTAT\n",
            "NOX~ CRIM + ZN + INDUS + CHAS + RM + AGE + DIS + RAD + TAX + PTRATIO + B + LSTAT\n",
            "RM~ CRIM + ZN + INDUS + CHAS + NOX + AGE + DIS + RAD + TAX + PTRATIO + B + LSTAT\n",
            "AGE~ CRIM + ZN + INDUS + CHAS + NOX + RM + DIS + RAD + TAX + PTRATIO + B + LSTAT\n",
            "DIS~ CRIM + ZN + INDUS + CHAS + NOX + RM + AGE + RAD + TAX + PTRATIO + B + LSTAT\n",
            "RAD~ CRIM + ZN + INDUS + CHAS + NOX + RM + AGE + DIS + TAX + PTRATIO + B + LSTAT\n",
            "TAX~ CRIM + ZN + INDUS + CHAS + NOX + RM + AGE + DIS + RAD + PTRATIO + B + LSTAT\n",
            "PTRATIO~ CRIM + ZN + INDUS + CHAS + NOX + RM + AGE + DIS + RAD + TAX + B + LSTAT\n",
            "B~ CRIM + ZN + INDUS + CHAS + NOX + RM + AGE + DIS + RAD + TAX + PTRATIO + LSTAT\n",
            "LSTAT~ CRIM + ZN + INDUS + CHAS + NOX + RM + AGE + DIS + RAD + TAX + PTRATIO + B\n"
          ],
          "name": "stdout"
        }
      ]
    },
    {
      "cell_type": "code",
      "metadata": {
        "colab": {
          "base_uri": "https://localhost:8080/",
          "height": 80
        },
        "id": "jqXlhdBv8tlR",
        "outputId": "5ab6b68f-3a4e-4a27-8196-7cc0267e08ad"
      },
      "source": [
        "pd.DataFrame(vif_d, index = ['VIF'])"
      ],
      "execution_count": 59,
      "outputs": [
        {
          "output_type": "execute_result",
          "data": {
            "text/html": [
              "<div>\n",
              "<style scoped>\n",
              "    .dataframe tbody tr th:only-of-type {\n",
              "        vertical-align: middle;\n",
              "    }\n",
              "\n",
              "    .dataframe tbody tr th {\n",
              "        vertical-align: top;\n",
              "    }\n",
              "\n",
              "    .dataframe thead th {\n",
              "        text-align: right;\n",
              "    }\n",
              "</style>\n",
              "<table border=\"1\" class=\"dataframe\">\n",
              "  <thead>\n",
              "    <tr style=\"text-align: right;\">\n",
              "      <th></th>\n",
              "      <th>CRIM</th>\n",
              "      <th>ZN</th>\n",
              "      <th>INDUS</th>\n",
              "      <th>CHAS</th>\n",
              "      <th>NOX</th>\n",
              "      <th>RM</th>\n",
              "      <th>AGE</th>\n",
              "      <th>DIS</th>\n",
              "      <th>RAD</th>\n",
              "      <th>TAX</th>\n",
              "      <th>PTRATIO</th>\n",
              "      <th>B</th>\n",
              "      <th>LSTAT</th>\n",
              "    </tr>\n",
              "  </thead>\n",
              "  <tbody>\n",
              "    <tr>\n",
              "      <th>VIF</th>\n",
              "      <td>1.748964</td>\n",
              "      <td>2.342268</td>\n",
              "      <td>3.915342</td>\n",
              "      <td>1.09482</td>\n",
              "      <td>4.448331</td>\n",
              "      <td>2.013223</td>\n",
              "      <td>3.170925</td>\n",
              "      <td>4.01732</td>\n",
              "      <td>6.931512</td>\n",
              "      <td>8.322901</td>\n",
              "      <td>1.747863</td>\n",
              "      <td>1.35027</td>\n",
              "      <td>3.232655</td>\n",
              "    </tr>\n",
              "  </tbody>\n",
              "</table>\n",
              "</div>"
            ],
            "text/plain": [
              "         CRIM        ZN     INDUS  ...   PTRATIO        B     LSTAT\n",
              "VIF  1.748964  2.342268  3.915342  ...  1.747863  1.35027  3.232655\n",
              "\n",
              "[1 rows x 13 columns]"
            ]
          },
          "metadata": {
            "tags": []
          },
          "execution_count": 59
        }
      ]
    },
    {
      "cell_type": "code",
      "metadata": {
        "colab": {
          "base_uri": "https://localhost:8080/",
          "height": 80
        },
        "id": "svI21Vk18tlR",
        "outputId": "018de27b-bde0-4eea-b27c-42f057186779"
      },
      "source": [
        "# identify the variables Using VIF \n",
        "drop_cols = ['MEDV', 'TAX']\n",
        "x_data = train.drop(columns= drop_cols)\n",
        "x_data['intercept'] = 1\n",
        "VIF = pd.DataFrame()\n",
        "VIF['variables'] = x_data.columns\n",
        "VIF['VIF'] = [vif(x_data.values, i) for i in range(x_data.shape[1])]\n",
        "VIF = VIF.set_index('variables').drop(index = 'intercept').T\n",
        "VIF"
      ],
      "execution_count": 60,
      "outputs": [
        {
          "output_type": "execute_result",
          "data": {
            "text/html": [
              "<div>\n",
              "<style scoped>\n",
              "    .dataframe tbody tr th:only-of-type {\n",
              "        vertical-align: middle;\n",
              "    }\n",
              "\n",
              "    .dataframe tbody tr th {\n",
              "        vertical-align: top;\n",
              "    }\n",
              "\n",
              "    .dataframe thead th {\n",
              "        text-align: right;\n",
              "    }\n",
              "</style>\n",
              "<table border=\"1\" class=\"dataframe\">\n",
              "  <thead>\n",
              "    <tr style=\"text-align: right;\">\n",
              "      <th>variables</th>\n",
              "      <th>CRIM</th>\n",
              "      <th>ZN</th>\n",
              "      <th>INDUS</th>\n",
              "      <th>CHAS</th>\n",
              "      <th>NOX</th>\n",
              "      <th>RM</th>\n",
              "      <th>AGE</th>\n",
              "      <th>DIS</th>\n",
              "      <th>RAD</th>\n",
              "      <th>PTRATIO</th>\n",
              "      <th>B</th>\n",
              "      <th>LSTAT</th>\n",
              "    </tr>\n",
              "  </thead>\n",
              "  <tbody>\n",
              "    <tr>\n",
              "      <th>VIF</th>\n",
              "      <td>1.748427</td>\n",
              "      <td>2.238495</td>\n",
              "      <td>3.162108</td>\n",
              "      <td>1.074714</td>\n",
              "      <td>4.432924</td>\n",
              "      <td>2.000647</td>\n",
              "      <td>3.165262</td>\n",
              "      <td>4.017096</td>\n",
              "      <td>2.763598</td>\n",
              "      <td>1.738594</td>\n",
              "      <td>1.349464</td>\n",
              "      <td>3.230972</td>\n",
              "    </tr>\n",
              "  </tbody>\n",
              "</table>\n",
              "</div>"
            ],
            "text/plain": [
              "variables      CRIM        ZN     INDUS  ...   PTRATIO         B     LSTAT\n",
              "VIF        1.748427  2.238495  3.162108  ...  1.738594  1.349464  3.230972\n",
              "\n",
              "[1 rows x 12 columns]"
            ]
          },
          "metadata": {
            "tags": []
          },
          "execution_count": 60
        }
      ]
    },
    {
      "cell_type": "code",
      "metadata": {
        "colab": {
          "base_uri": "https://localhost:8080/",
          "height": 80
        },
        "id": "Ej5Hkcuk8tlS",
        "outputId": "a7c37948-ec85-4f20-fbf7-f4d6bbbfe517"
      },
      "source": [
        "# identify the variables Using VIF \n",
        "drop_cols = ['MEDV', 'TAX','NOX']\n",
        "x_data = train.drop(columns= drop_cols)\n",
        "x_data['intercept'] = 1\n",
        "VIF = pd.DataFrame()\n",
        "VIF['variables'] = x_data.columns\n",
        "VIF['VIF'] = [vif(x_data.values, i) for i in range(x_data.shape[1])]\n",
        "VIF = VIF.set_index('variables').drop(index = 'intercept').T\n",
        "VIF"
      ],
      "execution_count": 61,
      "outputs": [
        {
          "output_type": "execute_result",
          "data": {
            "text/html": [
              "<div>\n",
              "<style scoped>\n",
              "    .dataframe tbody tr th:only-of-type {\n",
              "        vertical-align: middle;\n",
              "    }\n",
              "\n",
              "    .dataframe tbody tr th {\n",
              "        vertical-align: top;\n",
              "    }\n",
              "\n",
              "    .dataframe thead th {\n",
              "        text-align: right;\n",
              "    }\n",
              "</style>\n",
              "<table border=\"1\" class=\"dataframe\">\n",
              "  <thead>\n",
              "    <tr style=\"text-align: right;\">\n",
              "      <th>variables</th>\n",
              "      <th>CRIM</th>\n",
              "      <th>ZN</th>\n",
              "      <th>INDUS</th>\n",
              "      <th>CHAS</th>\n",
              "      <th>RM</th>\n",
              "      <th>AGE</th>\n",
              "      <th>DIS</th>\n",
              "      <th>RAD</th>\n",
              "      <th>PTRATIO</th>\n",
              "      <th>B</th>\n",
              "      <th>LSTAT</th>\n",
              "    </tr>\n",
              "  </thead>\n",
              "  <tbody>\n",
              "    <tr>\n",
              "      <th>VIF</th>\n",
              "      <td>1.739685</td>\n",
              "      <td>2.235761</td>\n",
              "      <td>2.798537</td>\n",
              "      <td>1.073543</td>\n",
              "      <td>1.989234</td>\n",
              "      <td>2.991957</td>\n",
              "      <td>3.722833</td>\n",
              "      <td>2.45291</td>\n",
              "      <td>1.567407</td>\n",
              "      <td>1.334234</td>\n",
              "      <td>3.197849</td>\n",
              "    </tr>\n",
              "  </tbody>\n",
              "</table>\n",
              "</div>"
            ],
            "text/plain": [
              "variables      CRIM        ZN     INDUS  ...   PTRATIO         B     LSTAT\n",
              "VIF        1.739685  2.235761  2.798537  ...  1.567407  1.334234  3.197849\n",
              "\n",
              "[1 rows x 11 columns]"
            ]
          },
          "metadata": {
            "tags": []
          },
          "execution_count": 61
        }
      ]
    },
    {
      "cell_type": "code",
      "metadata": {
        "colab": {
          "base_uri": "https://localhost:8080/",
          "height": 686
        },
        "id": "hKt_UG988tlS",
        "outputId": "43b72c04-d453-4fcf-9432-7dd43501bd24"
      },
      "source": [
        "# Model Dev - Post MultiCollinearity Treatment\n",
        "drop_cols = ['MEDV', 'TAX','NOX']\n",
        "form =   'MEDV ~ '+ ' + '.join(train.drop(columns = drop_cols))\n",
        "print(form)\n",
        "mod_lm =ols(form, data = train).fit()\n",
        "mod_lm.summary()"
      ],
      "execution_count": 62,
      "outputs": [
        {
          "output_type": "stream",
          "text": [
            "MEDV ~ CRIM + ZN + INDUS + CHAS + RM + AGE + DIS + RAD + PTRATIO + B + LSTAT\n"
          ],
          "name": "stdout"
        },
        {
          "output_type": "execute_result",
          "data": {
            "text/html": [
              "<table class=\"simpletable\">\n",
              "<caption>OLS Regression Results</caption>\n",
              "<tr>\n",
              "  <th>Dep. Variable:</th>          <td>MEDV</td>       <th>  R-squared:         </th> <td>   0.716</td> \n",
              "</tr>\n",
              "<tr>\n",
              "  <th>Model:</th>                   <td>OLS</td>       <th>  Adj. R-squared:    </th> <td>   0.708</td> \n",
              "</tr>\n",
              "<tr>\n",
              "  <th>Method:</th>             <td>Least Squares</td>  <th>  F-statistic:       </th> <td>   89.90</td> \n",
              "</tr>\n",
              "<tr>\n",
              "  <th>Date:</th>             <td>Sun, 27 Jun 2021</td> <th>  Prob (F-statistic):</th> <td>6.15e-100</td>\n",
              "</tr>\n",
              "<tr>\n",
              "  <th>Time:</th>                 <td>05:36:26</td>     <th>  Log-Likelihood:    </th> <td> -1216.3</td> \n",
              "</tr>\n",
              "<tr>\n",
              "  <th>No. Observations:</th>      <td>   404</td>      <th>  AIC:               </th> <td>   2457.</td> \n",
              "</tr>\n",
              "<tr>\n",
              "  <th>Df Residuals:</th>          <td>   392</td>      <th>  BIC:               </th> <td>   2505.</td> \n",
              "</tr>\n",
              "<tr>\n",
              "  <th>Df Model:</th>              <td>    11</td>      <th>                     </th>     <td> </td>    \n",
              "</tr>\n",
              "<tr>\n",
              "  <th>Covariance Type:</th>      <td>nonrobust</td>    <th>                     </th>     <td> </td>    \n",
              "</tr>\n",
              "</table>\n",
              "<table class=\"simpletable\">\n",
              "<tr>\n",
              "      <td></td>         <th>coef</th>     <th>std err</th>      <th>t</th>      <th>P>|t|</th>  <th>[0.025</th>    <th>0.975]</th>  \n",
              "</tr>\n",
              "<tr>\n",
              "  <th>Intercept</th> <td>   18.1301</td> <td>    5.005</td> <td>    3.622</td> <td> 0.000</td> <td>    8.289</td> <td>   27.971</td>\n",
              "</tr>\n",
              "<tr>\n",
              "  <th>CRIM</th>      <td>   -0.0860</td> <td>    0.036</td> <td>   -2.394</td> <td> 0.017</td> <td>   -0.157</td> <td>   -0.015</td>\n",
              "</tr>\n",
              "<tr>\n",
              "  <th>ZN</th>        <td>    0.0382</td> <td>    0.016</td> <td>    2.424</td> <td> 0.016</td> <td>    0.007</td> <td>    0.069</td>\n",
              "</tr>\n",
              "<tr>\n",
              "  <th>INDUS</th>     <td>   -0.1589</td> <td>    0.060</td> <td>   -2.655</td> <td> 0.008</td> <td>   -0.277</td> <td>   -0.041</td>\n",
              "</tr>\n",
              "<tr>\n",
              "  <th>CHAS</th>      <td>    3.3085</td> <td>    0.980</td> <td>    3.374</td> <td> 0.001</td> <td>    1.381</td> <td>    5.236</td>\n",
              "</tr>\n",
              "<tr>\n",
              "  <th>RM</th>        <td>    4.0192</td> <td>    0.501</td> <td>    8.017</td> <td> 0.000</td> <td>    3.034</td> <td>    5.005</td>\n",
              "</tr>\n",
              "<tr>\n",
              "  <th>AGE</th>       <td>   -0.0028</td> <td>    0.015</td> <td>   -0.181</td> <td> 0.856</td> <td>   -0.033</td> <td>    0.027</td>\n",
              "</tr>\n",
              "<tr>\n",
              "  <th>DIS</th>       <td>   -1.1256</td> <td>    0.219</td> <td>   -5.144</td> <td> 0.000</td> <td>   -1.556</td> <td>   -0.695</td>\n",
              "</tr>\n",
              "<tr>\n",
              "  <th>RAD</th>       <td>    0.0720</td> <td>    0.045</td> <td>    1.609</td> <td> 0.108</td> <td>   -0.016</td> <td>    0.160</td>\n",
              "</tr>\n",
              "<tr>\n",
              "  <th>PTRATIO</th>   <td>   -0.6544</td> <td>    0.146</td> <td>   -4.492</td> <td> 0.000</td> <td>   -0.941</td> <td>   -0.368</td>\n",
              "</tr>\n",
              "<tr>\n",
              "  <th>B</th>         <td>    0.0107</td> <td>    0.003</td> <td>    3.456</td> <td> 0.001</td> <td>    0.005</td> <td>    0.017</td>\n",
              "</tr>\n",
              "<tr>\n",
              "  <th>LSTAT</th>     <td>   -0.5824</td> <td>    0.060</td> <td>   -9.640</td> <td> 0.000</td> <td>   -0.701</td> <td>   -0.464</td>\n",
              "</tr>\n",
              "</table>\n",
              "<table class=\"simpletable\">\n",
              "<tr>\n",
              "  <th>Omnibus:</th>       <td>146.503</td> <th>  Durbin-Watson:     </th> <td>   2.058</td> \n",
              "</tr>\n",
              "<tr>\n",
              "  <th>Prob(Omnibus):</th> <td> 0.000</td>  <th>  Jarque-Bera (JB):  </th> <td> 654.115</td> \n",
              "</tr>\n",
              "<tr>\n",
              "  <th>Skew:</th>          <td> 1.528</td>  <th>  Prob(JB):          </th> <td>9.14e-143</td>\n",
              "</tr>\n",
              "<tr>\n",
              "  <th>Kurtosis:</th>      <td> 8.433</td>  <th>  Cond. No.          </th> <td>7.58e+03</td> \n",
              "</tr>\n",
              "</table><br/><br/>Warnings:<br/>[1] Standard Errors assume that the covariance matrix of the errors is correctly specified.<br/>[2] The condition number is large, 7.58e+03. This might indicate that there are<br/>strong multicollinearity or other numerical problems."
            ],
            "text/plain": [
              "<class 'statsmodels.iolib.summary.Summary'>\n",
              "\"\"\"\n",
              "                            OLS Regression Results                            \n",
              "==============================================================================\n",
              "Dep. Variable:                   MEDV   R-squared:                       0.716\n",
              "Model:                            OLS   Adj. R-squared:                  0.708\n",
              "Method:                 Least Squares   F-statistic:                     89.90\n",
              "Date:                Sun, 27 Jun 2021   Prob (F-statistic):          6.15e-100\n",
              "Time:                        05:36:26   Log-Likelihood:                -1216.3\n",
              "No. Observations:                 404   AIC:                             2457.\n",
              "Df Residuals:                     392   BIC:                             2505.\n",
              "Df Model:                          11                                         \n",
              "Covariance Type:            nonrobust                                         \n",
              "==============================================================================\n",
              "                 coef    std err          t      P>|t|      [0.025      0.975]\n",
              "------------------------------------------------------------------------------\n",
              "Intercept     18.1301      5.005      3.622      0.000       8.289      27.971\n",
              "CRIM          -0.0860      0.036     -2.394      0.017      -0.157      -0.015\n",
              "ZN             0.0382      0.016      2.424      0.016       0.007       0.069\n",
              "INDUS         -0.1589      0.060     -2.655      0.008      -0.277      -0.041\n",
              "CHAS           3.3085      0.980      3.374      0.001       1.381       5.236\n",
              "RM             4.0192      0.501      8.017      0.000       3.034       5.005\n",
              "AGE           -0.0028      0.015     -0.181      0.856      -0.033       0.027\n",
              "DIS           -1.1256      0.219     -5.144      0.000      -1.556      -0.695\n",
              "RAD            0.0720      0.045      1.609      0.108      -0.016       0.160\n",
              "PTRATIO       -0.6544      0.146     -4.492      0.000      -0.941      -0.368\n",
              "B              0.0107      0.003      3.456      0.001       0.005       0.017\n",
              "LSTAT         -0.5824      0.060     -9.640      0.000      -0.701      -0.464\n",
              "==============================================================================\n",
              "Omnibus:                      146.503   Durbin-Watson:                   2.058\n",
              "Prob(Omnibus):                  0.000   Jarque-Bera (JB):              654.115\n",
              "Skew:                           1.528   Prob(JB):                    9.14e-143\n",
              "Kurtosis:                       8.433   Cond. No.                     7.58e+03\n",
              "==============================================================================\n",
              "\n",
              "Warnings:\n",
              "[1] Standard Errors assume that the covariance matrix of the errors is correctly specified.\n",
              "[2] The condition number is large, 7.58e+03. This might indicate that there are\n",
              "strong multicollinearity or other numerical problems.\n",
              "\"\"\""
            ]
          },
          "metadata": {
            "tags": []
          },
          "execution_count": 62
        }
      ]
    },
    {
      "cell_type": "code",
      "metadata": {
        "scrolled": true,
        "colab": {
          "base_uri": "https://localhost:8080/",
          "height": 666
        },
        "id": "7zZUfFUb8tlS",
        "outputId": "42721896-fc1f-4829-972b-da68d6e7cf5a"
      },
      "source": [
        "# Model Dev - Iterations\n",
        "drop_cols = ['MEDV', 'TAX','NOX','AGE']\n",
        "form =   'MEDV ~ '+ ' + '.join(train.drop(columns = drop_cols))\n",
        "print(form)\n",
        "mod_lm =ols(form, data = train).fit()\n",
        "mod_lm.summary()"
      ],
      "execution_count": 63,
      "outputs": [
        {
          "output_type": "stream",
          "text": [
            "MEDV ~ CRIM + ZN + INDUS + CHAS + RM + DIS + RAD + PTRATIO + B + LSTAT\n"
          ],
          "name": "stdout"
        },
        {
          "output_type": "execute_result",
          "data": {
            "text/html": [
              "<table class=\"simpletable\">\n",
              "<caption>OLS Regression Results</caption>\n",
              "<tr>\n",
              "  <th>Dep. Variable:</th>          <td>MEDV</td>       <th>  R-squared:         </th> <td>   0.716</td> \n",
              "</tr>\n",
              "<tr>\n",
              "  <th>Model:</th>                   <td>OLS</td>       <th>  Adj. R-squared:    </th> <td>   0.709</td> \n",
              "</tr>\n",
              "<tr>\n",
              "  <th>Method:</th>             <td>Least Squares</td>  <th>  F-statistic:       </th> <td>   99.13</td> \n",
              "</tr>\n",
              "<tr>\n",
              "  <th>Date:</th>             <td>Sun, 27 Jun 2021</td> <th>  Prob (F-statistic):</th> <td>6.12e-101</td>\n",
              "</tr>\n",
              "<tr>\n",
              "  <th>Time:</th>                 <td>05:36:26</td>     <th>  Log-Likelihood:    </th> <td> -1216.3</td> \n",
              "</tr>\n",
              "<tr>\n",
              "  <th>No. Observations:</th>      <td>   404</td>      <th>  AIC:               </th> <td>   2455.</td> \n",
              "</tr>\n",
              "<tr>\n",
              "  <th>Df Residuals:</th>          <td>   393</td>      <th>  BIC:               </th> <td>   2499.</td> \n",
              "</tr>\n",
              "<tr>\n",
              "  <th>Df Model:</th>              <td>    10</td>      <th>                     </th>     <td> </td>    \n",
              "</tr>\n",
              "<tr>\n",
              "  <th>Covariance Type:</th>      <td>nonrobust</td>    <th>                     </th>     <td> </td>    \n",
              "</tr>\n",
              "</table>\n",
              "<table class=\"simpletable\">\n",
              "<tr>\n",
              "      <td></td>         <th>coef</th>     <th>std err</th>      <th>t</th>      <th>P>|t|</th>  <th>[0.025</th>    <th>0.975]</th>  \n",
              "</tr>\n",
              "<tr>\n",
              "  <th>Intercept</th> <td>   18.0424</td> <td>    4.976</td> <td>    3.626</td> <td> 0.000</td> <td>    8.260</td> <td>   27.825</td>\n",
              "</tr>\n",
              "<tr>\n",
              "  <th>CRIM</th>      <td>   -0.0859</td> <td>    0.036</td> <td>   -2.394</td> <td> 0.017</td> <td>   -0.156</td> <td>   -0.015</td>\n",
              "</tr>\n",
              "<tr>\n",
              "  <th>ZN</th>        <td>    0.0386</td> <td>    0.016</td> <td>    2.475</td> <td> 0.014</td> <td>    0.008</td> <td>    0.069</td>\n",
              "</tr>\n",
              "<tr>\n",
              "  <th>INDUS</th>     <td>   -0.1598</td> <td>    0.060</td> <td>   -2.683</td> <td> 0.008</td> <td>   -0.277</td> <td>   -0.043</td>\n",
              "</tr>\n",
              "<tr>\n",
              "  <th>CHAS</th>      <td>    3.2994</td> <td>    0.978</td> <td>    3.374</td> <td> 0.001</td> <td>    1.377</td> <td>    5.222</td>\n",
              "</tr>\n",
              "<tr>\n",
              "  <th>RM</th>        <td>    4.0035</td> <td>    0.493</td> <td>    8.118</td> <td> 0.000</td> <td>    3.034</td> <td>    4.973</td>\n",
              "</tr>\n",
              "<tr>\n",
              "  <th>DIS</th>       <td>   -1.1097</td> <td>    0.200</td> <td>   -5.540</td> <td> 0.000</td> <td>   -1.504</td> <td>   -0.716</td>\n",
              "</tr>\n",
              "<tr>\n",
              "  <th>RAD</th>       <td>    0.0719</td> <td>    0.045</td> <td>    1.610</td> <td> 0.108</td> <td>   -0.016</td> <td>    0.160</td>\n",
              "</tr>\n",
              "<tr>\n",
              "  <th>PTRATIO</th>   <td>   -0.6543</td> <td>    0.146</td> <td>   -4.497</td> <td> 0.000</td> <td>   -0.940</td> <td>   -0.368</td>\n",
              "</tr>\n",
              "<tr>\n",
              "  <th>B</th>         <td>    0.0107</td> <td>    0.003</td> <td>    3.456</td> <td> 0.001</td> <td>    0.005</td> <td>    0.017</td>\n",
              "</tr>\n",
              "<tr>\n",
              "  <th>LSTAT</th>     <td>   -0.5866</td> <td>    0.056</td> <td>  -10.565</td> <td> 0.000</td> <td>   -0.696</td> <td>   -0.477</td>\n",
              "</tr>\n",
              "</table>\n",
              "<table class=\"simpletable\">\n",
              "<tr>\n",
              "  <th>Omnibus:</th>       <td>145.526</td> <th>  Durbin-Watson:     </th> <td>   2.058</td> \n",
              "</tr>\n",
              "<tr>\n",
              "  <th>Prob(Omnibus):</th> <td> 0.000</td>  <th>  Jarque-Bera (JB):  </th> <td> 643.913</td> \n",
              "</tr>\n",
              "<tr>\n",
              "  <th>Skew:</th>          <td> 1.520</td>  <th>  Prob(JB):          </th> <td>1.50e-140</td>\n",
              "</tr>\n",
              "<tr>\n",
              "  <th>Kurtosis:</th>      <td> 8.386</td>  <th>  Cond. No.          </th> <td>7.43e+03</td> \n",
              "</tr>\n",
              "</table><br/><br/>Warnings:<br/>[1] Standard Errors assume that the covariance matrix of the errors is correctly specified.<br/>[2] The condition number is large, 7.43e+03. This might indicate that there are<br/>strong multicollinearity or other numerical problems."
            ],
            "text/plain": [
              "<class 'statsmodels.iolib.summary.Summary'>\n",
              "\"\"\"\n",
              "                            OLS Regression Results                            \n",
              "==============================================================================\n",
              "Dep. Variable:                   MEDV   R-squared:                       0.716\n",
              "Model:                            OLS   Adj. R-squared:                  0.709\n",
              "Method:                 Least Squares   F-statistic:                     99.13\n",
              "Date:                Sun, 27 Jun 2021   Prob (F-statistic):          6.12e-101\n",
              "Time:                        05:36:26   Log-Likelihood:                -1216.3\n",
              "No. Observations:                 404   AIC:                             2455.\n",
              "Df Residuals:                     393   BIC:                             2499.\n",
              "Df Model:                          10                                         \n",
              "Covariance Type:            nonrobust                                         \n",
              "==============================================================================\n",
              "                 coef    std err          t      P>|t|      [0.025      0.975]\n",
              "------------------------------------------------------------------------------\n",
              "Intercept     18.0424      4.976      3.626      0.000       8.260      27.825\n",
              "CRIM          -0.0859      0.036     -2.394      0.017      -0.156      -0.015\n",
              "ZN             0.0386      0.016      2.475      0.014       0.008       0.069\n",
              "INDUS         -0.1598      0.060     -2.683      0.008      -0.277      -0.043\n",
              "CHAS           3.2994      0.978      3.374      0.001       1.377       5.222\n",
              "RM             4.0035      0.493      8.118      0.000       3.034       4.973\n",
              "DIS           -1.1097      0.200     -5.540      0.000      -1.504      -0.716\n",
              "RAD            0.0719      0.045      1.610      0.108      -0.016       0.160\n",
              "PTRATIO       -0.6543      0.146     -4.497      0.000      -0.940      -0.368\n",
              "B              0.0107      0.003      3.456      0.001       0.005       0.017\n",
              "LSTAT         -0.5866      0.056    -10.565      0.000      -0.696      -0.477\n",
              "==============================================================================\n",
              "Omnibus:                      145.526   Durbin-Watson:                   2.058\n",
              "Prob(Omnibus):                  0.000   Jarque-Bera (JB):              643.913\n",
              "Skew:                           1.520   Prob(JB):                    1.50e-140\n",
              "Kurtosis:                       8.386   Cond. No.                     7.43e+03\n",
              "==============================================================================\n",
              "\n",
              "Warnings:\n",
              "[1] Standard Errors assume that the covariance matrix of the errors is correctly specified.\n",
              "[2] The condition number is large, 7.43e+03. This might indicate that there are\n",
              "strong multicollinearity or other numerical problems.\n",
              "\"\"\""
            ]
          },
          "metadata": {
            "tags": []
          },
          "execution_count": 63
        }
      ]
    },
    {
      "cell_type": "code",
      "metadata": {
        "scrolled": false,
        "colab": {
          "base_uri": "https://localhost:8080/",
          "height": 646
        },
        "id": "AvodQTL78tlS",
        "outputId": "8b844f4f-f691-4c6b-9a1b-aa464a5b7ac3"
      },
      "source": [
        "# Model Dev - Iterations\n",
        "drop_cols = ['MEDV', 'TAX','NOX','AGE','RAD']\n",
        "form =   'MEDV ~ '+ ' + '.join(train.drop(columns = drop_cols))\n",
        "print(form)\n",
        "mod_lm =ols(form, data = train).fit()\n",
        "mod_lm.summary()"
      ],
      "execution_count": 64,
      "outputs": [
        {
          "output_type": "stream",
          "text": [
            "MEDV ~ CRIM + ZN + INDUS + CHAS + RM + DIS + PTRATIO + B + LSTAT\n"
          ],
          "name": "stdout"
        },
        {
          "output_type": "execute_result",
          "data": {
            "text/html": [
              "<table class=\"simpletable\">\n",
              "<caption>OLS Regression Results</caption>\n",
              "<tr>\n",
              "  <th>Dep. Variable:</th>          <td>MEDV</td>       <th>  R-squared:         </th> <td>   0.714</td> \n",
              "</tr>\n",
              "<tr>\n",
              "  <th>Model:</th>                   <td>OLS</td>       <th>  Adj. R-squared:    </th> <td>   0.708</td> \n",
              "</tr>\n",
              "<tr>\n",
              "  <th>Method:</th>             <td>Least Squares</td>  <th>  F-statistic:       </th> <td>   109.4</td> \n",
              "</tr>\n",
              "<tr>\n",
              "  <th>Date:</th>             <td>Sun, 27 Jun 2021</td> <th>  Prob (F-statistic):</th> <td>2.05e-101</td>\n",
              "</tr>\n",
              "<tr>\n",
              "  <th>Time:</th>                 <td>05:36:26</td>     <th>  Log-Likelihood:    </th> <td> -1217.7</td> \n",
              "</tr>\n",
              "<tr>\n",
              "  <th>No. Observations:</th>      <td>   404</td>      <th>  AIC:               </th> <td>   2455.</td> \n",
              "</tr>\n",
              "<tr>\n",
              "  <th>Df Residuals:</th>          <td>   394</td>      <th>  BIC:               </th> <td>   2495.</td> \n",
              "</tr>\n",
              "<tr>\n",
              "  <th>Df Model:</th>              <td>     9</td>      <th>                     </th>     <td> </td>    \n",
              "</tr>\n",
              "<tr>\n",
              "  <th>Covariance Type:</th>      <td>nonrobust</td>    <th>                     </th>     <td> </td>    \n",
              "</tr>\n",
              "</table>\n",
              "<table class=\"simpletable\">\n",
              "<tr>\n",
              "      <td></td>         <th>coef</th>     <th>std err</th>      <th>t</th>      <th>P>|t|</th>  <th>[0.025</th>    <th>0.975]</th>  \n",
              "</tr>\n",
              "<tr>\n",
              "  <th>Intercept</th> <td>   16.3762</td> <td>    4.877</td> <td>    3.358</td> <td> 0.001</td> <td>    6.788</td> <td>   25.964</td>\n",
              "</tr>\n",
              "<tr>\n",
              "  <th>CRIM</th>      <td>   -0.0620</td> <td>    0.033</td> <td>   -1.895</td> <td> 0.059</td> <td>   -0.126</td> <td>    0.002</td>\n",
              "</tr>\n",
              "<tr>\n",
              "  <th>ZN</th>        <td>    0.0414</td> <td>    0.016</td> <td>    2.664</td> <td> 0.008</td> <td>    0.011</td> <td>    0.072</td>\n",
              "</tr>\n",
              "<tr>\n",
              "  <th>INDUS</th>     <td>   -0.1349</td> <td>    0.058</td> <td>   -2.340</td> <td> 0.020</td> <td>   -0.248</td> <td>   -0.022</td>\n",
              "</tr>\n",
              "<tr>\n",
              "  <th>CHAS</th>      <td>    3.3023</td> <td>    0.980</td> <td>    3.370</td> <td> 0.001</td> <td>    1.376</td> <td>    5.229</td>\n",
              "</tr>\n",
              "<tr>\n",
              "  <th>RM</th>        <td>    4.1393</td> <td>    0.487</td> <td>    8.502</td> <td> 0.000</td> <td>    3.182</td> <td>    5.096</td>\n",
              "</tr>\n",
              "<tr>\n",
              "  <th>DIS</th>       <td>   -1.1430</td> <td>    0.200</td> <td>   -5.725</td> <td> 0.000</td> <td>   -1.536</td> <td>   -0.751</td>\n",
              "</tr>\n",
              "<tr>\n",
              "  <th>PTRATIO</th>   <td>   -0.5791</td> <td>    0.138</td> <td>   -4.194</td> <td> 0.000</td> <td>   -0.851</td> <td>   -0.308</td>\n",
              "</tr>\n",
              "<tr>\n",
              "  <th>B</th>         <td>    0.0099</td> <td>    0.003</td> <td>    3.232</td> <td> 0.001</td> <td>    0.004</td> <td>    0.016</td>\n",
              "</tr>\n",
              "<tr>\n",
              "  <th>LSTAT</th>     <td>   -0.5770</td> <td>    0.055</td> <td>  -10.431</td> <td> 0.000</td> <td>   -0.686</td> <td>   -0.468</td>\n",
              "</tr>\n",
              "</table>\n",
              "<table class=\"simpletable\">\n",
              "<tr>\n",
              "  <th>Omnibus:</th>       <td>157.706</td> <th>  Durbin-Watson:     </th> <td>   2.071</td> \n",
              "</tr>\n",
              "<tr>\n",
              "  <th>Prob(Omnibus):</th> <td> 0.000</td>  <th>  Jarque-Bera (JB):  </th> <td> 768.823</td> \n",
              "</tr>\n",
              "<tr>\n",
              "  <th>Skew:</th>          <td> 1.627</td>  <th>  Prob(JB):          </th> <td>1.13e-167</td>\n",
              "</tr>\n",
              "<tr>\n",
              "  <th>Kurtosis:</th>      <td> 8.923</td>  <th>  Cond. No.          </th> <td>7.27e+03</td> \n",
              "</tr>\n",
              "</table><br/><br/>Warnings:<br/>[1] Standard Errors assume that the covariance matrix of the errors is correctly specified.<br/>[2] The condition number is large, 7.27e+03. This might indicate that there are<br/>strong multicollinearity or other numerical problems."
            ],
            "text/plain": [
              "<class 'statsmodels.iolib.summary.Summary'>\n",
              "\"\"\"\n",
              "                            OLS Regression Results                            \n",
              "==============================================================================\n",
              "Dep. Variable:                   MEDV   R-squared:                       0.714\n",
              "Model:                            OLS   Adj. R-squared:                  0.708\n",
              "Method:                 Least Squares   F-statistic:                     109.4\n",
              "Date:                Sun, 27 Jun 2021   Prob (F-statistic):          2.05e-101\n",
              "Time:                        05:36:26   Log-Likelihood:                -1217.7\n",
              "No. Observations:                 404   AIC:                             2455.\n",
              "Df Residuals:                     394   BIC:                             2495.\n",
              "Df Model:                           9                                         \n",
              "Covariance Type:            nonrobust                                         \n",
              "==============================================================================\n",
              "                 coef    std err          t      P>|t|      [0.025      0.975]\n",
              "------------------------------------------------------------------------------\n",
              "Intercept     16.3762      4.877      3.358      0.001       6.788      25.964\n",
              "CRIM          -0.0620      0.033     -1.895      0.059      -0.126       0.002\n",
              "ZN             0.0414      0.016      2.664      0.008       0.011       0.072\n",
              "INDUS         -0.1349      0.058     -2.340      0.020      -0.248      -0.022\n",
              "CHAS           3.3023      0.980      3.370      0.001       1.376       5.229\n",
              "RM             4.1393      0.487      8.502      0.000       3.182       5.096\n",
              "DIS           -1.1430      0.200     -5.725      0.000      -1.536      -0.751\n",
              "PTRATIO       -0.5791      0.138     -4.194      0.000      -0.851      -0.308\n",
              "B              0.0099      0.003      3.232      0.001       0.004       0.016\n",
              "LSTAT         -0.5770      0.055    -10.431      0.000      -0.686      -0.468\n",
              "==============================================================================\n",
              "Omnibus:                      157.706   Durbin-Watson:                   2.071\n",
              "Prob(Omnibus):                  0.000   Jarque-Bera (JB):              768.823\n",
              "Skew:                           1.627   Prob(JB):                    1.13e-167\n",
              "Kurtosis:                       8.923   Cond. No.                     7.27e+03\n",
              "==============================================================================\n",
              "\n",
              "Warnings:\n",
              "[1] Standard Errors assume that the covariance matrix of the errors is correctly specified.\n",
              "[2] The condition number is large, 7.27e+03. This might indicate that there are\n",
              "strong multicollinearity or other numerical problems.\n",
              "\"\"\""
            ]
          },
          "metadata": {
            "tags": []
          },
          "execution_count": 64
        }
      ]
    },
    {
      "cell_type": "markdown",
      "metadata": {
        "id": "F-2_jcWT8tlT"
      },
      "source": [
        "### Final Model"
      ]
    },
    {
      "cell_type": "code",
      "metadata": {
        "colab": {
          "base_uri": "https://localhost:8080/",
          "height": 35
        },
        "id": "X78On3SR8tlT",
        "outputId": "1f6e3eb9-75e1-4d3a-bf5c-fcbe62589226"
      },
      "source": [
        "form"
      ],
      "execution_count": 65,
      "outputs": [
        {
          "output_type": "execute_result",
          "data": {
            "application/vnd.google.colaboratory.intrinsic+json": {
              "type": "string"
            },
            "text/plain": [
              "'MEDV ~ CRIM + ZN + INDUS + CHAS + RM + DIS + PTRATIO + B + LSTAT'"
            ]
          },
          "metadata": {
            "tags": []
          },
          "execution_count": 65
        }
      ]
    },
    {
      "cell_type": "code",
      "metadata": {
        "scrolled": false,
        "colab": {
          "base_uri": "https://localhost:8080/",
          "height": 629
        },
        "id": "K_PifiQW8tlT",
        "outputId": "8c477bde-26c6-4154-9ee0-e6a165313f32"
      },
      "source": [
        "# final model\n",
        "mod_lm = ols('MEDV ~ CRIM + ZN + INDUS + CHAS + RM + DIS + PTRATIO + B + LSTAT', data = train).fit()\n",
        "mod_lm.summary()"
      ],
      "execution_count": 66,
      "outputs": [
        {
          "output_type": "execute_result",
          "data": {
            "text/html": [
              "<table class=\"simpletable\">\n",
              "<caption>OLS Regression Results</caption>\n",
              "<tr>\n",
              "  <th>Dep. Variable:</th>          <td>MEDV</td>       <th>  R-squared:         </th> <td>   0.714</td> \n",
              "</tr>\n",
              "<tr>\n",
              "  <th>Model:</th>                   <td>OLS</td>       <th>  Adj. R-squared:    </th> <td>   0.708</td> \n",
              "</tr>\n",
              "<tr>\n",
              "  <th>Method:</th>             <td>Least Squares</td>  <th>  F-statistic:       </th> <td>   109.4</td> \n",
              "</tr>\n",
              "<tr>\n",
              "  <th>Date:</th>             <td>Sun, 27 Jun 2021</td> <th>  Prob (F-statistic):</th> <td>2.05e-101</td>\n",
              "</tr>\n",
              "<tr>\n",
              "  <th>Time:</th>                 <td>05:36:26</td>     <th>  Log-Likelihood:    </th> <td> -1217.7</td> \n",
              "</tr>\n",
              "<tr>\n",
              "  <th>No. Observations:</th>      <td>   404</td>      <th>  AIC:               </th> <td>   2455.</td> \n",
              "</tr>\n",
              "<tr>\n",
              "  <th>Df Residuals:</th>          <td>   394</td>      <th>  BIC:               </th> <td>   2495.</td> \n",
              "</tr>\n",
              "<tr>\n",
              "  <th>Df Model:</th>              <td>     9</td>      <th>                     </th>     <td> </td>    \n",
              "</tr>\n",
              "<tr>\n",
              "  <th>Covariance Type:</th>      <td>nonrobust</td>    <th>                     </th>     <td> </td>    \n",
              "</tr>\n",
              "</table>\n",
              "<table class=\"simpletable\">\n",
              "<tr>\n",
              "      <td></td>         <th>coef</th>     <th>std err</th>      <th>t</th>      <th>P>|t|</th>  <th>[0.025</th>    <th>0.975]</th>  \n",
              "</tr>\n",
              "<tr>\n",
              "  <th>Intercept</th> <td>   16.3762</td> <td>    4.877</td> <td>    3.358</td> <td> 0.001</td> <td>    6.788</td> <td>   25.964</td>\n",
              "</tr>\n",
              "<tr>\n",
              "  <th>CRIM</th>      <td>   -0.0620</td> <td>    0.033</td> <td>   -1.895</td> <td> 0.059</td> <td>   -0.126</td> <td>    0.002</td>\n",
              "</tr>\n",
              "<tr>\n",
              "  <th>ZN</th>        <td>    0.0414</td> <td>    0.016</td> <td>    2.664</td> <td> 0.008</td> <td>    0.011</td> <td>    0.072</td>\n",
              "</tr>\n",
              "<tr>\n",
              "  <th>INDUS</th>     <td>   -0.1349</td> <td>    0.058</td> <td>   -2.340</td> <td> 0.020</td> <td>   -0.248</td> <td>   -0.022</td>\n",
              "</tr>\n",
              "<tr>\n",
              "  <th>CHAS</th>      <td>    3.3023</td> <td>    0.980</td> <td>    3.370</td> <td> 0.001</td> <td>    1.376</td> <td>    5.229</td>\n",
              "</tr>\n",
              "<tr>\n",
              "  <th>RM</th>        <td>    4.1393</td> <td>    0.487</td> <td>    8.502</td> <td> 0.000</td> <td>    3.182</td> <td>    5.096</td>\n",
              "</tr>\n",
              "<tr>\n",
              "  <th>DIS</th>       <td>   -1.1430</td> <td>    0.200</td> <td>   -5.725</td> <td> 0.000</td> <td>   -1.536</td> <td>   -0.751</td>\n",
              "</tr>\n",
              "<tr>\n",
              "  <th>PTRATIO</th>   <td>   -0.5791</td> <td>    0.138</td> <td>   -4.194</td> <td> 0.000</td> <td>   -0.851</td> <td>   -0.308</td>\n",
              "</tr>\n",
              "<tr>\n",
              "  <th>B</th>         <td>    0.0099</td> <td>    0.003</td> <td>    3.232</td> <td> 0.001</td> <td>    0.004</td> <td>    0.016</td>\n",
              "</tr>\n",
              "<tr>\n",
              "  <th>LSTAT</th>     <td>   -0.5770</td> <td>    0.055</td> <td>  -10.431</td> <td> 0.000</td> <td>   -0.686</td> <td>   -0.468</td>\n",
              "</tr>\n",
              "</table>\n",
              "<table class=\"simpletable\">\n",
              "<tr>\n",
              "  <th>Omnibus:</th>       <td>157.706</td> <th>  Durbin-Watson:     </th> <td>   2.071</td> \n",
              "</tr>\n",
              "<tr>\n",
              "  <th>Prob(Omnibus):</th> <td> 0.000</td>  <th>  Jarque-Bera (JB):  </th> <td> 768.823</td> \n",
              "</tr>\n",
              "<tr>\n",
              "  <th>Skew:</th>          <td> 1.627</td>  <th>  Prob(JB):          </th> <td>1.13e-167</td>\n",
              "</tr>\n",
              "<tr>\n",
              "  <th>Kurtosis:</th>      <td> 8.923</td>  <th>  Cond. No.          </th> <td>7.27e+03</td> \n",
              "</tr>\n",
              "</table><br/><br/>Warnings:<br/>[1] Standard Errors assume that the covariance matrix of the errors is correctly specified.<br/>[2] The condition number is large, 7.27e+03. This might indicate that there are<br/>strong multicollinearity or other numerical problems."
            ],
            "text/plain": [
              "<class 'statsmodels.iolib.summary.Summary'>\n",
              "\"\"\"\n",
              "                            OLS Regression Results                            \n",
              "==============================================================================\n",
              "Dep. Variable:                   MEDV   R-squared:                       0.714\n",
              "Model:                            OLS   Adj. R-squared:                  0.708\n",
              "Method:                 Least Squares   F-statistic:                     109.4\n",
              "Date:                Sun, 27 Jun 2021   Prob (F-statistic):          2.05e-101\n",
              "Time:                        05:36:26   Log-Likelihood:                -1217.7\n",
              "No. Observations:                 404   AIC:                             2455.\n",
              "Df Residuals:                     394   BIC:                             2495.\n",
              "Df Model:                           9                                         \n",
              "Covariance Type:            nonrobust                                         \n",
              "==============================================================================\n",
              "                 coef    std err          t      P>|t|      [0.025      0.975]\n",
              "------------------------------------------------------------------------------\n",
              "Intercept     16.3762      4.877      3.358      0.001       6.788      25.964\n",
              "CRIM          -0.0620      0.033     -1.895      0.059      -0.126       0.002\n",
              "ZN             0.0414      0.016      2.664      0.008       0.011       0.072\n",
              "INDUS         -0.1349      0.058     -2.340      0.020      -0.248      -0.022\n",
              "CHAS           3.3023      0.980      3.370      0.001       1.376       5.229\n",
              "RM             4.1393      0.487      8.502      0.000       3.182       5.096\n",
              "DIS           -1.1430      0.200     -5.725      0.000      -1.536      -0.751\n",
              "PTRATIO       -0.5791      0.138     -4.194      0.000      -0.851      -0.308\n",
              "B              0.0099      0.003      3.232      0.001       0.004       0.016\n",
              "LSTAT         -0.5770      0.055    -10.431      0.000      -0.686      -0.468\n",
              "==============================================================================\n",
              "Omnibus:                      157.706   Durbin-Watson:                   2.071\n",
              "Prob(Omnibus):                  0.000   Jarque-Bera (JB):              768.823\n",
              "Skew:                           1.627   Prob(JB):                    1.13e-167\n",
              "Kurtosis:                       8.923   Cond. No.                     7.27e+03\n",
              "==============================================================================\n",
              "\n",
              "Warnings:\n",
              "[1] Standard Errors assume that the covariance matrix of the errors is correctly specified.\n",
              "[2] The condition number is large, 7.27e+03. This might indicate that there are\n",
              "strong multicollinearity or other numerical problems.\n",
              "\"\"\""
            ]
          },
          "metadata": {
            "tags": []
          },
          "execution_count": 66
        }
      ]
    },
    {
      "cell_type": "code",
      "metadata": {
        "colab": {
          "base_uri": "https://localhost:8080/",
          "height": 417
        },
        "id": "m3flr1a98tlT",
        "outputId": "d7943ffa-1f9a-4594-d5ca-d7713942fb69"
      },
      "source": [
        "train"
      ],
      "execution_count": 67,
      "outputs": [
        {
          "output_type": "execute_result",
          "data": {
            "text/html": [
              "<div>\n",
              "<style scoped>\n",
              "    .dataframe tbody tr th:only-of-type {\n",
              "        vertical-align: middle;\n",
              "    }\n",
              "\n",
              "    .dataframe tbody tr th {\n",
              "        vertical-align: top;\n",
              "    }\n",
              "\n",
              "    .dataframe thead th {\n",
              "        text-align: right;\n",
              "    }\n",
              "</style>\n",
              "<table border=\"1\" class=\"dataframe\">\n",
              "  <thead>\n",
              "    <tr style=\"text-align: right;\">\n",
              "      <th></th>\n",
              "      <th>CRIM</th>\n",
              "      <th>ZN</th>\n",
              "      <th>INDUS</th>\n",
              "      <th>CHAS</th>\n",
              "      <th>NOX</th>\n",
              "      <th>RM</th>\n",
              "      <th>AGE</th>\n",
              "      <th>DIS</th>\n",
              "      <th>RAD</th>\n",
              "      <th>TAX</th>\n",
              "      <th>PTRATIO</th>\n",
              "      <th>B</th>\n",
              "      <th>LSTAT</th>\n",
              "      <th>MEDV</th>\n",
              "    </tr>\n",
              "  </thead>\n",
              "  <tbody>\n",
              "    <tr>\n",
              "      <th>266</th>\n",
              "      <td>0.78570</td>\n",
              "      <td>20.0</td>\n",
              "      <td>3.97</td>\n",
              "      <td>0.0</td>\n",
              "      <td>0.6470</td>\n",
              "      <td>7.014</td>\n",
              "      <td>84.6</td>\n",
              "      <td>2.1329</td>\n",
              "      <td>5.0</td>\n",
              "      <td>264.0</td>\n",
              "      <td>13.0</td>\n",
              "      <td>384.07</td>\n",
              "      <td>14.79</td>\n",
              "      <td>30.7</td>\n",
              "    </tr>\n",
              "    <tr>\n",
              "      <th>501</th>\n",
              "      <td>0.06263</td>\n",
              "      <td>0.0</td>\n",
              "      <td>11.93</td>\n",
              "      <td>0.0</td>\n",
              "      <td>0.5730</td>\n",
              "      <td>6.593</td>\n",
              "      <td>69.1</td>\n",
              "      <td>2.4786</td>\n",
              "      <td>1.0</td>\n",
              "      <td>273.0</td>\n",
              "      <td>21.0</td>\n",
              "      <td>391.99</td>\n",
              "      <td>9.67</td>\n",
              "      <td>22.4</td>\n",
              "    </tr>\n",
              "    <tr>\n",
              "      <th>297</th>\n",
              "      <td>0.14103</td>\n",
              "      <td>0.0</td>\n",
              "      <td>13.92</td>\n",
              "      <td>0.0</td>\n",
              "      <td>0.4370</td>\n",
              "      <td>5.790</td>\n",
              "      <td>58.0</td>\n",
              "      <td>6.3200</td>\n",
              "      <td>4.0</td>\n",
              "      <td>289.0</td>\n",
              "      <td>16.0</td>\n",
              "      <td>396.90</td>\n",
              "      <td>15.84</td>\n",
              "      <td>20.3</td>\n",
              "    </tr>\n",
              "    <tr>\n",
              "      <th>388</th>\n",
              "      <td>14.33370</td>\n",
              "      <td>0.0</td>\n",
              "      <td>18.10</td>\n",
              "      <td>0.0</td>\n",
              "      <td>0.7000</td>\n",
              "      <td>4.880</td>\n",
              "      <td>100.0</td>\n",
              "      <td>1.5895</td>\n",
              "      <td>24.0</td>\n",
              "      <td>666.0</td>\n",
              "      <td>20.2</td>\n",
              "      <td>372.92</td>\n",
              "      <td>30.62</td>\n",
              "      <td>10.2</td>\n",
              "    </tr>\n",
              "    <tr>\n",
              "      <th>477</th>\n",
              "      <td>15.02340</td>\n",
              "      <td>0.0</td>\n",
              "      <td>18.10</td>\n",
              "      <td>0.0</td>\n",
              "      <td>0.6140</td>\n",
              "      <td>5.304</td>\n",
              "      <td>97.3</td>\n",
              "      <td>2.1007</td>\n",
              "      <td>24.0</td>\n",
              "      <td>666.0</td>\n",
              "      <td>20.2</td>\n",
              "      <td>349.48</td>\n",
              "      <td>24.91</td>\n",
              "      <td>12.0</td>\n",
              "    </tr>\n",
              "    <tr>\n",
              "      <th>...</th>\n",
              "      <td>...</td>\n",
              "      <td>...</td>\n",
              "      <td>...</td>\n",
              "      <td>...</td>\n",
              "      <td>...</td>\n",
              "      <td>...</td>\n",
              "      <td>...</td>\n",
              "      <td>...</td>\n",
              "      <td>...</td>\n",
              "      <td>...</td>\n",
              "      <td>...</td>\n",
              "      <td>...</td>\n",
              "      <td>...</td>\n",
              "      <td>...</td>\n",
              "    </tr>\n",
              "    <tr>\n",
              "      <th>241</th>\n",
              "      <td>0.10612</td>\n",
              "      <td>30.0</td>\n",
              "      <td>4.93</td>\n",
              "      <td>0.0</td>\n",
              "      <td>0.4280</td>\n",
              "      <td>6.095</td>\n",
              "      <td>65.1</td>\n",
              "      <td>6.3361</td>\n",
              "      <td>6.0</td>\n",
              "      <td>300.0</td>\n",
              "      <td>16.6</td>\n",
              "      <td>394.62</td>\n",
              "      <td>12.40</td>\n",
              "      <td>20.1</td>\n",
              "    </tr>\n",
              "    <tr>\n",
              "      <th>253</th>\n",
              "      <td>0.36894</td>\n",
              "      <td>22.0</td>\n",
              "      <td>5.86</td>\n",
              "      <td>0.0</td>\n",
              "      <td>0.4310</td>\n",
              "      <td>8.259</td>\n",
              "      <td>8.4</td>\n",
              "      <td>8.9067</td>\n",
              "      <td>7.0</td>\n",
              "      <td>330.0</td>\n",
              "      <td>19.1</td>\n",
              "      <td>396.90</td>\n",
              "      <td>3.54</td>\n",
              "      <td>42.8</td>\n",
              "    </tr>\n",
              "    <tr>\n",
              "      <th>390</th>\n",
              "      <td>6.96215</td>\n",
              "      <td>0.0</td>\n",
              "      <td>18.10</td>\n",
              "      <td>0.0</td>\n",
              "      <td>0.7000</td>\n",
              "      <td>5.713</td>\n",
              "      <td>97.0</td>\n",
              "      <td>1.9265</td>\n",
              "      <td>24.0</td>\n",
              "      <td>666.0</td>\n",
              "      <td>20.2</td>\n",
              "      <td>394.43</td>\n",
              "      <td>17.11</td>\n",
              "      <td>15.1</td>\n",
              "    </tr>\n",
              "    <tr>\n",
              "      <th>155</th>\n",
              "      <td>3.53501</td>\n",
              "      <td>0.0</td>\n",
              "      <td>19.58</td>\n",
              "      <td>1.0</td>\n",
              "      <td>0.8710</td>\n",
              "      <td>6.152</td>\n",
              "      <td>82.6</td>\n",
              "      <td>1.7455</td>\n",
              "      <td>5.0</td>\n",
              "      <td>403.0</td>\n",
              "      <td>14.7</td>\n",
              "      <td>88.01</td>\n",
              "      <td>15.02</td>\n",
              "      <td>15.6</td>\n",
              "    </tr>\n",
              "    <tr>\n",
              "      <th>331</th>\n",
              "      <td>0.05023</td>\n",
              "      <td>35.0</td>\n",
              "      <td>6.06</td>\n",
              "      <td>0.0</td>\n",
              "      <td>0.4379</td>\n",
              "      <td>5.706</td>\n",
              "      <td>28.4</td>\n",
              "      <td>6.6407</td>\n",
              "      <td>1.0</td>\n",
              "      <td>304.0</td>\n",
              "      <td>16.9</td>\n",
              "      <td>394.02</td>\n",
              "      <td>12.43</td>\n",
              "      <td>17.1</td>\n",
              "    </tr>\n",
              "  </tbody>\n",
              "</table>\n",
              "<p>404 rows × 14 columns</p>\n",
              "</div>"
            ],
            "text/plain": [
              "         CRIM    ZN  INDUS  CHAS     NOX  ...    TAX  PTRATIO       B  LSTAT  MEDV\n",
              "266   0.78570  20.0   3.97   0.0  0.6470  ...  264.0     13.0  384.07  14.79  30.7\n",
              "501   0.06263   0.0  11.93   0.0  0.5730  ...  273.0     21.0  391.99   9.67  22.4\n",
              "297   0.14103   0.0  13.92   0.0  0.4370  ...  289.0     16.0  396.90  15.84  20.3\n",
              "388  14.33370   0.0  18.10   0.0  0.7000  ...  666.0     20.2  372.92  30.62  10.2\n",
              "477  15.02340   0.0  18.10   0.0  0.6140  ...  666.0     20.2  349.48  24.91  12.0\n",
              "..        ...   ...    ...   ...     ...  ...    ...      ...     ...    ...   ...\n",
              "241   0.10612  30.0   4.93   0.0  0.4280  ...  300.0     16.6  394.62  12.40  20.1\n",
              "253   0.36894  22.0   5.86   0.0  0.4310  ...  330.0     19.1  396.90   3.54  42.8\n",
              "390   6.96215   0.0  18.10   0.0  0.7000  ...  666.0     20.2  394.43  17.11  15.1\n",
              "155   3.53501   0.0  19.58   1.0  0.8710  ...  403.0     14.7   88.01  15.02  15.6\n",
              "331   0.05023  35.0   6.06   0.0  0.4379  ...  304.0     16.9  394.02  12.43  17.1\n",
              "\n",
              "[404 rows x 14 columns]"
            ]
          },
          "metadata": {
            "tags": []
          },
          "execution_count": 67
        }
      ]
    },
    {
      "cell_type": "markdown",
      "metadata": {
        "id": "pTm1_ds_8tlU"
      },
      "source": [
        "## Model Interpretability [Bonus]\n",
        "\n",
        "So far we have simply been predicting the values using the linear regression, But in order to Interpret the model, the normalising of the data is essential."
      ]
    },
    {
      "cell_type": "code",
      "metadata": {
        "colab": {
          "base_uri": "https://localhost:8080/"
        },
        "id": "QHFzGYlO8tlU",
        "outputId": "f6c78c07-2f0d-46cc-cf54-70a35de12225"
      },
      "source": [
        "from sklearn.linear_model import LinearRegression\n",
        "\n",
        "# create a model object [instance of Linear Regresssion]\n",
        "lm = LinearRegression(normalize = True)\n",
        "\n",
        "# Fitting the model\n",
        "lm.fit(train.drop(['MEDV', 'TAX','NOX','AGE','RAD'],axis=1), train[\"MEDV\"])"
      ],
      "execution_count": 68,
      "outputs": [
        {
          "output_type": "execute_result",
          "data": {
            "text/plain": [
              "LinearRegression(copy_X=True, fit_intercept=True, n_jobs=None, normalize=True)"
            ]
          },
          "metadata": {
            "tags": []
          },
          "execution_count": 68
        }
      ]
    },
    {
      "cell_type": "code",
      "metadata": {
        "colab": {
          "base_uri": "https://localhost:8080/"
        },
        "id": "Td6B0AG98tlU",
        "outputId": "6aabd4ba-8a8e-4207-fcd0-accffffa3e5c"
      },
      "source": [
        "lm.score(train.drop(['MEDV', 'TAX','NOX','AGE','RAD'],axis=1), train[\"MEDV\"])"
      ],
      "execution_count": 69,
      "outputs": [
        {
          "output_type": "execute_result",
          "data": {
            "text/plain": [
              "0.7142241086597492"
            ]
          },
          "metadata": {
            "tags": []
          },
          "execution_count": 69
        }
      ]
    },
    {
      "cell_type": "code",
      "metadata": {
        "id": "Py3lMPXa8tlU"
      },
      "source": [
        "fitted = lm.predict(train.drop(['MEDV', 'TAX','NOX','AGE','RAD'],axis=1))\n",
        "#resid = lm.predict(X)"
      ],
      "execution_count": 70,
      "outputs": []
    },
    {
      "cell_type": "code",
      "metadata": {
        "scrolled": true,
        "colab": {
          "base_uri": "https://localhost:8080/"
        },
        "id": "bG5dp4Zp8tlU",
        "outputId": "9c6a838b-2b6c-4015-c146-2b6db4ce1205"
      },
      "source": [
        "### Training Data\n",
        "## 1. MSE\n",
        "print(\"MSE  - \",mse(y_true = train.MEDV, y_pred = fitted, squared = True).round(1))\n",
        "## 2. RMSE\n",
        "print(\"RSME - \" ,mse(y_true = train.MEDV, y_pred = fitted, squared = False).round(1))"
      ],
      "execution_count": 71,
      "outputs": [
        {
          "output_type": "stream",
          "text": [
            "MSE  -  24.3\n",
            "RSME -  4.9\n"
          ],
          "name": "stdout"
        }
      ]
    },
    {
      "cell_type": "code",
      "metadata": {
        "colab": {
          "base_uri": "https://localhost:8080/",
          "height": 663
        },
        "id": "r8iulQPD8tlV",
        "outputId": "c016464f-556f-4307-d733-e8dd771a2e77"
      },
      "source": [
        "plt.figure(figsize=(8, 6), dpi=120, facecolor='w', edgecolor='b')\n",
        "x = train.drop(['MEDV', 'TAX','NOX','AGE','RAD'],axis=1).columns\n",
        "y = lm.coef_\n",
        "plt.bar( x, y )\n",
        "plt.xlabel( \"Variables\")\n",
        "plt.ylabel('Coefficients')\n",
        "plt.title('Normalized Coefficient plot');"
      ],
      "execution_count": 72,
      "outputs": [
        {
          "output_type": "display_data",
          "data": {
            "image/png": "[encoded data removed]",
            "text/plain": [
              "<Figure size 960x720 with 1 Axes>"
            ]
          },
          "metadata": {
            "tags": []
          }
        }
      ]
    },
    {
      "cell_type": "code",
      "metadata": {
        "id": "WLILIjd89xRM"
      },
      "source": [
        ""
      ],
      "execution_count": 72,
      "outputs": []
    }
  ]
}