{
 "cells": [
  {
   "cell_type": "markdown",
   "metadata": {
    "id": "VGPJm4VcYuo5"
   },
   "source": [
    "# Text Summarization with Gensim\n"
   ]
  },
  {
   "cell_type": "code",
   "execution_count": 1,
   "metadata": {
    "ExecuteTime": {
     "end_time": "2021-08-14T15:00:51.889502Z",
     "start_time": "2021-08-14T15:00:51.872557Z"
    }
   },
   "outputs": [],
   "source": [
    "# Gensim 3.8.3 version is required for it\n",
    "# pip install gensim==3.8.3"
   ]
  },
  {
   "cell_type": "code",
   "execution_count": 2,
   "metadata": {
    "ExecuteTime": {
     "end_time": "2021-08-14T15:00:53.088147Z",
     "start_time": "2021-08-14T15:00:52.500593Z"
    },
    "id": "V5mScLVGYupH"
   },
   "outputs": [],
   "source": [
    "from gensim.summarization.summarizer import summarize"
   ]
  },
  {
   "cell_type": "markdown",
   "metadata": {
    "id": "dN7lmbyaYupI"
   },
   "source": [
    "gensim.summarization.summarizer.summarize(text, ratio=0.2, word_count=None, split=False)\n",
    "\n",
    "__Parameters__\n",
    "- text (str) – Given text.\n",
    "\n",
    "- ratio (float, optional) – Number between 0 and 1 that determines the proportion of the number of sentences of the original text to be chosen for the summary.\n",
    "\n",
    "- word_count (int or None, optional) – Determines how many words will the output contain. If both parameters are provided, the ratio will be ignored.\n",
    "\n",
    "- split (bool, optional) – If True, list of sentences will be returned. Otherwise joined strings will bwe returned."
   ]
  },
  {
   "cell_type": "markdown",
   "metadata": {
    "id": "SAzGkhNbYupJ"
   },
   "source": [
    "### Example 1 by string"
   ]
  },
  {
   "cell_type": "code",
   "execution_count": 3,
   "metadata": {
    "ExecuteTime": {
     "end_time": "2021-08-14T15:00:53.400722Z",
     "start_time": "2021-08-14T15:00:53.396730Z"
    },
    "id": "LxTCzHa6YupJ"
   },
   "outputs": [],
   "source": [
    "text = '''Rice Pudding - Poem by Alan Alexander Milne\n",
    "        What is the matter with Mary Jane?\n",
    "        She's crying with all her might and main,\n",
    "        And she won't eat her dinner - rice pudding again -\n",
    "        What is the matter with Mary Jane?\n",
    "        What is the matter with Mary Jane?\n",
    "        I've promised her dolls and a daisy-chain,\n",
    "        And a book about animals - all in vain -\n",
    "        What is the matter with Mary Jane?\n",
    "        What is the matter with Mary Jane?\n",
    "        She's perfectly well, and she hasn't a pain;\n",
    "        But, look at her, now she's beginning again! -\n",
    "        What is the matter with Mary Jane?\n",
    "        What is the matter with Mary Jane?\n",
    "        I've promised her sweets and a ride in the train,\n",
    "        And I've begged her to stop for a bit and explain -\n",
    "        What is the matter with Mary Jane?\n",
    "        What is the matter with Mary Jane?\n",
    "        She's perfectly well and she hasn't a pain,\n",
    "        And it's lovely rice pudding for dinner again!\n",
    "        What is the matter with Mary Jane?'''"
   ]
  },
  {
   "cell_type": "code",
   "execution_count": 4,
   "metadata": {
    "ExecuteTime": {
     "end_time": "2021-08-14T15:00:53.713051Z",
     "start_time": "2021-08-14T15:00:53.688092Z"
    },
    "id": "DU3CdYdBYupK",
    "outputId": "88711a5f-0bfe-4b6f-f21b-90d736d17a2d"
   },
   "outputs": [
    {
     "data": {
      "text/plain": [
       "[\"And she won't eat her dinner - rice pudding again -\",\n",
       " \"I've promised her dolls and a daisy-chain,\",\n",
       " \"I've promised her sweets and a ride in the train,\",\n",
       " \"And it's lovely rice pudding for dinner again!\"]"
      ]
     },
     "execution_count": 4,
     "metadata": {},
     "output_type": "execute_result"
    }
   ],
   "source": [
    "summarize(text, split=True)"
   ]
  },
  {
   "cell_type": "markdown",
   "metadata": {
    "id": "kifY6Vs8YupL"
   },
   "source": [
    "### Example 2 by using a file"
   ]
  },
  {
   "cell_type": "code",
   "execution_count": 5,
   "metadata": {
    "ExecuteTime": {
     "end_time": "2021-08-14T15:00:54.554247Z",
     "start_time": "2021-08-14T15:00:54.547271Z"
    }
   },
   "outputs": [
    {
     "data": {
      "text/plain": [
       "\"India, officially the Republic of India (Hindi: BhÄ\\x81rat Gaá¹\\x87arÄ\\x81jya),[23] is a country in South Asia. It is the second-most populous country, the seventh-largest country by area, and the most populous democracy in the world. Bounded by the Indian Ocean on the south, the Arabian Sea on the southwest, and the Bay of Bengal on the southeast, it shares land borders with Pakistan to the west;[f] China, Nepal, and Bhutan to the north; and Bangladesh and Myanmar to the east. In the Indian Ocean, India is in the vicinity of Sri Lanka and the Maldives; its Andaman and Nicobar Islands share a maritime border with Thailand and Indonesia. Modern humans arrived on the Indian subcontinent from Africa no later than 55,000 years ago.[24] Their long occupation, initially in varying forms of isolation as hunter-gatherers, has made the region highly diverse, second only to Africa in human genetic diversity.[25] Settled life emerged on the subcontinent in the western margins of the Indus river basin 9,000 years ago, evolving gradually into the Indus Valley Civilisation of the third millennium BCE.[26] By 1200 BCE, an archaic form of Sanskrit, an Indo-European language, had diffused into India from the northwest, unfolding as the language of the Rigveda, and recording the dawning of Hinduism in India.[27] The Dravidian languages of India were supplanted in the northern regions.[28] By 400 BCE, stratification and exclusion by caste had emerged within Hinduism,[29] and Buddhism and Jainism had arisen, proclaiming social orders unlinked to heredity.[30] Early political consolidations gave rise to the loose-knit Maurya and Gupta Empires based in the Ganges Basin.[31] Their collective era was suffused with wide-ranging creativity,[32] but also marked by the declining status of women,[33] and the incorporation of untouchability into an organised system of belief.[g][34] In South India, the Middle kingdoms exported Dravidian-languages scripts and religious cultures to the kingdoms of Southeast Asia. In the early medieval era, Christianity, Islam, Judaism, and Zoroastrianism put down roots on India's southern and western coasts. Muslim armies from Central Asia intermittently overran India's northern plains,[37] eventually establishing the Delhi Sultanate, and drawing northern India into the cosmopolitan networks of medieval Islam.[38] In the 15th century, the Vijayanagara Empire created a long-lasting composite Hindu culture in south India.[39] In the Punjab, Sikhism emerged, rejecting institutionalised religion.[40] The Mughal Empire, in 1526, ushered in two centuries of relative peace,[41] leaving a legacy of luminous architecture.[h][42] Gradually expanding rule of the British East India Company followed, turning India into a colonial economy, but also consolidating its sovereignty.[43] British Crown rule began in 1858. The rights promised to Indians were granted slowly,[44] but technological changes were introduced, and ideas of education, modernity and the public life took root.[45] A pioneering and influential nationalist movement emerged,[46] which was noted for nonviolent resistance and led India to its independence in 1947.\""
      ]
     },
     "execution_count": 5,
     "metadata": {},
     "output_type": "execute_result"
    }
   ],
   "source": [
    "# Input text - to summarize  \n",
    "text = open(\"India.txt\",'r',encoding='Latin-1')\n",
    "text=text.read()\n",
    "text"
   ]
  },
  {
   "cell_type": "code",
   "execution_count": 6,
   "metadata": {
    "ExecuteTime": {
     "end_time": "2021-08-14T15:00:55.256329Z",
     "start_time": "2021-08-14T15:00:55.241378Z"
    }
   },
   "outputs": [
    {
     "data": {
      "text/plain": [
       "\"Modern humans arrived on the Indian subcontinent from Africa no later than 55,000 years ago.[24] Their long occupation, initially in varying forms of isolation as hunter-gatherers, has made the region highly diverse, second only to Africa in human genetic diversity.[25] Settled life emerged on the subcontinent in the western margins of the Indus river basin 9,000 years ago, evolving gradually into the Indus Valley Civilisation of the third millennium BCE.[26] By 1200 BCE, an archaic form of Sanskrit, an Indo-European language, had diffused into India from the northwest, unfolding as the language of the Rigveda, and recording the dawning of Hinduism in India.[27] The Dravidian languages of India were supplanted in the northern regions.[28] By 400 BCE, stratification and exclusion by caste had emerged within Hinduism,[29] and Buddhism and Jainism had arisen, proclaiming social orders unlinked to heredity.[30] Early political consolidations gave rise to the loose-knit Maurya and Gupta Empires based in the Ganges Basin.[31] Their collective era was suffused with wide-ranging creativity,[32] but also marked by the declining status of women,[33] and the incorporation of untouchability into an organised system of belief.[g][34] In South India, the Middle kingdoms exported Dravidian-languages scripts and religious cultures to the kingdoms of Southeast Asia.\\nIn the early medieval era, Christianity, Islam, Judaism, and Zoroastrianism put down roots on India's southern and western coasts.\""
      ]
     },
     "execution_count": 6,
     "metadata": {},
     "output_type": "execute_result"
    }
   ],
   "source": [
    "summarize(text , ratio = 0.3)"
   ]
  },
  {
   "cell_type": "markdown",
   "metadata": {},
   "source": [
    "### Example 3 -  On Wikipedia pages live"
   ]
  },
  {
   "cell_type": "markdown",
   "metadata": {
    "id": "316wZ_4aYupG"
   },
   "source": [
    "Wikipedia is a Python library that makes it easy to access and parse data from Wikipedia. \n",
    "\n",
    "\n",
    "\n",
    "link for documentation\n",
    "https://pypi.org/project/wikipedia/"
   ]
  },
  {
   "cell_type": "code",
   "execution_count": 7,
   "metadata": {
    "ExecuteTime": {
     "end_time": "2021-08-14T15:01:00.739539Z",
     "start_time": "2021-08-14T15:00:56.338705Z"
    },
    "id": "sIGMwCkzYupL"
   },
   "outputs": [],
   "source": [
    "# !pip install wikipedia\n",
    "\n",
    "# Get wiki content. \n",
    "import wikipedia\n",
    "wikisearch  = wikipedia.page(\"Narender Modi\")\n",
    "wikicontent = wikisearch.content "
   ]
  },
  {
   "cell_type": "code",
   "execution_count": 8,
   "metadata": {
    "ExecuteTime": {
     "end_time": "2021-08-14T15:01:00.755401Z",
     "start_time": "2021-08-14T15:01:00.740452Z"
    },
    "id": "mMvZOHENYupL"
   },
   "outputs": [],
   "source": [
    "# Save the wiki content to a file \n",
    "# (for reference). \n",
    "# f = open(r\"wikicontent.txt\", \"w\") \n",
    "# f.write(wikicontent) \n",
    "# f.close() "
   ]
  },
  {
   "cell_type": "code",
   "execution_count": 9,
   "metadata": {
    "ExecuteTime": {
     "end_time": "2021-08-14T15:01:01.277226Z",
     "start_time": "2021-08-14T15:01:00.756402Z"
    },
    "id": "LvUX9HDuYupM",
    "outputId": "3719d8e2-0c00-4ac1-aa4b-153aa54060fa"
   },
   "outputs": [
    {
     "name": "stdout",
     "output_type": "stream",
     "text": [
      "Percent summary\n",
      "He is the first prime minister born after India's independence in 1947, the second non-Congress one to win two consecutive terms after Atal Bihari Vajpayee and the first from outside the Congress to win both terms with a majority in the Lok Sabha.Born and raised in Vadnagar, a small town in northeastern Gujarat, Modi completed his secondary education there, and is said to have helped his father sell tea at the local railway station.\n",
      "The RSS assigned him to the BJP in 1985 and he held several positions within the party hierarchy until 2001, rising to the rank of general secretary.Modi was appointed Chief Minister of Gujarat in 2001 due to Keshubhai Patel's failing health and poor public image following the earthquake in Bhuj.\n",
      "His administration has been criticised for failing to significantly improve health, poverty and education indices in the state.Modi led the BJP in the 2014 general election which gave the party a majority in the Indian lower house of parliament, the Lok Sabha, the first time for any single party since 1984.\n",
      "K. Advani became president of the BJP in 1986, the RSS decided to place its members in important positions within the BJP; Modi's work during the Ahmedabad election led to his selection for this role, and Modi was elected organising secretary of the BJP's Gujarat unit later in 1987.\n",
      "The following year, Shankersinh Vaghela, a prominent BJP leader from Gujarat, defected to the Indian National Congress (Congress, INC) after losing his parliamentary seat in the Lok Sabha elections.\n",
      "Modi was sworn in as Chief Minister on 7 October 2001, and entered the Gujarat state legislature on 24 February 2002 by winning a by-election to the Rajkot – II constituency, defeating Ashwin Mehta of the INC by 14,728 votes.\n",
      "In the aftermath of the violence there were widespread calls for Modi to resign as chief minister from within and outside the state, including from leaders of the Dravida Munnetra Kazhagam and the Telugu Desam Party (allies in the BJP-led National Democratic Alliance coalition), and opposition parties stalled Parliament over the issue.\n",
      "Prime Minister Atal Bihari Vajpayee (who asked Modi for tolerance in the aftermath of the 2002 Gujarat violence and supported his resignation as chief minister) distanced himself, reaching out to North Indian Muslims before the 2004 Lok Sabha elections.\n",
      "After the elections Vajpayee called the violence in Gujarat a reason for the BJP's electoral defeat and said it had been a mistake to leave Modi in office after the riots.Questions about Modi's relationship with Muslims were also raised by many Western nations during his tenure as chief minister.\n",
      "As Modi rose to prominence in India, the UK and the EU lifted their bans in October 2012 and March 2013, respectively, and after his election as prime minister he was invited to Washington.During the run-up to the 2007 Gujarat Legislative Assembly election and the 2009 Indian general election, the BJP intensified its rhetoric on terrorism.\n",
      "In July 2006, Modi criticised Prime Minister Manmohan Singh \" for his reluctance to revive anti-terror legislation\" such as the 2002 Prevention of Terrorism Act. He asked the national government to allow states to invoke tougher laws in the wake of the 2006 Mumbai train bombings.\n",
      "In July 2007 Modi completed 2,063 consecutive days as chief minister of Gujarat, making him the longest-serving holder of that post, and the BJP won 122 of 182 state-assembly seats in that year's election.\n",
      "In 2013, Gujarat was ranked first among Indian states for \"economic freedom\" by a report measuring governance, growth, citizens' rights and labour and business regulation among the country's 20 largest states.\n",
      "In September 2013 Modi was named the BJP's candidate for prime minister ahead of the 2014 Lok Sabha election.\n",
      "During the campaign, Modi focused on the corruption scandals under the previous INC government, and played on his image as a politician who had created a high rate of GDP growth in Gujarat.\n",
      "Modi, who was unanimously elected leader of the BJP, was appointed prime minister by India's president.\n",
      "Modi was unanimously appointed the prime minister for a second time by the National Democratic Alliance, after the alliance won the election for the second time by securing 353 seats in the Lok Sabha with the BJP alone won 303 seats.\n",
      "After the Bharatiya Janata Party led National Democratic Alliance won a landslide in the 2014 Lok Sabha election, Narendra Modi was sworn in as the Prime Minister of India on 26 May 2014.\n",
      "During the 2014 election campaign, the BJP sought to identify itself with political leaders known to have opposed Hindu nationalism, including B.\n",
      "A proposal for the controversial Uniform Civil Code was a part of the BJP's election manifesto.The activities of a number of Hindu nationalist organisations increased in scope after Modi's election as Prime Minister, sometimes with the support of the government.\n",
      "The RSS provided organisational support to the BJP's electoral campaigns, while the Modi administration appointed a number of individuals affiliated with the RSS to prominent government positions.\n",
      "He was the first Indian prime minister to do so.Modi's foreign policy, similarly to that of the preceding INC government, focused on improving economic ties, security, and regional relations.\n"
     ]
    }
   ],
   "source": [
    "# Summary (0.5% of the original content). \n",
    "summ_per = summarize(wikicontent, ratio = 0.05) \n",
    "\n",
    "print(\"Percent summary\") \n",
    "print(summ_per) "
   ]
  },
  {
   "cell_type": "code",
   "execution_count": 10,
   "metadata": {
    "ExecuteTime": {
     "end_time": "2021-08-14T15:01:01.828096Z",
     "start_time": "2021-08-14T15:01:01.279192Z"
    },
    "id": "vZMifLnFYupM",
    "outputId": "add8f5af-d66b-4d44-a9da-976238859fe7"
   },
   "outputs": [
    {
     "name": "stdout",
     "output_type": "stream",
     "text": [
      "Word count summary\n",
      "He is the first prime minister born after India's independence in 1947, the second non-Congress one to win two consecutive terms after Atal Bihari Vajpayee and the first from outside the Congress to win both terms with a majority in the Lok Sabha.Born and raised in Vadnagar, a small town in northeastern Gujarat, Modi completed his secondary education there, and is said to have helped his father sell tea at the local railway station.\n",
      "The RSS assigned him to the BJP in 1985 and he held several positions within the party hierarchy until 2001, rising to the rank of general secretary.Modi was appointed Chief Minister of Gujarat in 2001 due to Keshubhai Patel's failing health and poor public image following the earthquake in Bhuj.\n",
      "His administration has been criticised for failing to significantly improve health, poverty and education indices in the state.Modi led the BJP in the 2014 general election which gave the party a majority in the Indian lower house of parliament, the Lok Sabha, the first time for any single party since 1984.\n",
      "In July 2007 Modi completed 2,063 consecutive days as chief minister of Gujarat, making him the longest-serving holder of that post, and the BJP won 122 of 182 state-assembly seats in that year's election.\n"
     ]
    }
   ],
   "source": [
    "# Summary (200 words) \n",
    "summ_words = summarize(wikicontent, word_count = 200) \n",
    "\n",
    "print(\"Word count summary\") \n",
    "print(summ_words) "
   ]
  }
 ],
 "metadata": {
  "colab": {
   "name": "Text Summ using TextRank gensim.ipynb",
   "provenance": []
  },
  "kernelspec": {
   "display_name": "Python 3",
   "language": "python",
   "name": "python3"
  },
  "language_info": {
   "codemirror_mode": {
    "name": "ipython",
    "version": 3
   },
   "file_extension": ".py",
   "mimetype": "text/x-python",
   "name": "python",
   "nbconvert_exporter": "python",
   "pygments_lexer": "ipython3",
   "version": "3.8.3"
  },
  "latex_envs": {
   "LaTeX_envs_menu_present": true,
   "autoclose": false,
   "autocomplete": true,
   "bibliofile": "biblio.bib",
   "cite_by": "apalike",
   "current_citInitial": 1,
   "eqLabelWithNumbers": true,
   "eqNumInitial": 1,
   "hotkeys": {
    "equation": "Ctrl-E",
    "itemize": "Ctrl-I"
   },
   "labels_anchors": false,
   "latex_user_defs": false,
   "report_style_numbering": false,
   "user_envs_cfg": false
  },
  "toc": {
   "base_numbering": 1,
   "nav_menu": {},
   "number_sections": true,
   "sideBar": true,
   "skip_h1_title": false,
   "title_cell": "Table of Contents",
   "title_sidebar": "Contents",
   "toc_cell": false,
   "toc_position": {},
   "toc_section_display": true,
   "toc_window_display": false
  },
  "varInspector": {
   "cols": {
    "lenName": 16,
    "lenType": 16,
    "lenVar": 40
   },
   "kernels_config": {
    "python": {
     "delete_cmd_postfix": "",
     "delete_cmd_prefix": "del ",
     "library": "var_list.py",
     "varRefreshCmd": "print(var_dic_list())"
    },
    "r": {
     "delete_cmd_postfix": ") ",
     "delete_cmd_prefix": "rm(",
     "library": "var_list.r",
     "varRefreshCmd": "cat(var_dic_list()) "
    }
   },
   "types_to_exclude": [
    "module",
    "function",
    "builtin_function_or_method",
    "instance",
    "_Feature"
   ],
   "window_display": false
  }
 },
 "nbformat": 4,
 "nbformat_minor": 1
}
