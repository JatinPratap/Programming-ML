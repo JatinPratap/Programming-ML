{
 "cells": [
  {
   "cell_type": "markdown",
   "metadata": {},
   "source": [
    "# Steps\n",
    "1. Text Preprocessing\n",
    "2. Feature Engineering-BOW & TFIDF\n",
    "3. Model Building\n",
    "4. Evaluatation of model"
   ]
  },
  {
   "cell_type": "code",
   "execution_count": 1,
   "metadata": {},
   "outputs": [],
   "source": [
    "# import the library\n",
    "import pandas as pd\n",
    "import numpy as np\n",
    "import re"
   ]
  },
  {
   "cell_type": "code",
   "execution_count": 2,
   "metadata": {},
   "outputs": [
    {
     "name": "stdout",
     "output_type": "stream",
     "text": [
      "Data loaded\n"
     ]
    }
   ],
   "source": [
    "# load the dataset\n",
    "reviews=pd.read_csv('Zomato_reviews.csv',encoding='latin1')\n",
    "print('Data loaded')"
   ]
  },
  {
   "cell_type": "code",
   "execution_count": 3,
   "metadata": {},
   "outputs": [
    {
     "data": {
      "text/html": [
       "<div>\n",
       "<style scoped>\n",
       "    .dataframe tbody tr th:only-of-type {\n",
       "        vertical-align: middle;\n",
       "    }\n",
       "\n",
       "    .dataframe tbody tr th {\n",
       "        vertical-align: top;\n",
       "    }\n",
       "\n",
       "    .dataframe thead th {\n",
       "        text-align: right;\n",
       "    }\n",
       "</style>\n",
       "<table border=\"1\" class=\"dataframe\">\n",
       "  <thead>\n",
       "    <tr style=\"text-align: right;\">\n",
       "      <th></th>\n",
       "      <th>rating</th>\n",
       "      <th>review_text</th>\n",
       "    </tr>\n",
       "  </thead>\n",
       "  <tbody>\n",
       "    <tr>\n",
       "      <th>0</th>\n",
       "      <td>1.0</td>\n",
       "      <td>Their service is worst, pricing in menu is dif...</td>\n",
       "    </tr>\n",
       "    <tr>\n",
       "      <th>1</th>\n",
       "      <td>5.0</td>\n",
       "      <td>really appreciate their quality and timing . I...</td>\n",
       "    </tr>\n",
       "    <tr>\n",
       "      <th>2</th>\n",
       "      <td>4.0</td>\n",
       "      <td>Went there on a Friday night, the place was su...</td>\n",
       "    </tr>\n",
       "    <tr>\n",
       "      <th>3</th>\n",
       "      <td>4.0</td>\n",
       "      <td>A very decent place serving good food.\\r\\nOrde...</td>\n",
       "    </tr>\n",
       "    <tr>\n",
       "      <th>4</th>\n",
       "      <td>5.0</td>\n",
       "      <td>One of the BEST places for steaks in the city....</td>\n",
       "    </tr>\n",
       "  </tbody>\n",
       "</table>\n",
       "</div>"
      ],
      "text/plain": [
       "   rating                                        review_text\n",
       "0     1.0  Their service is worst, pricing in menu is dif...\n",
       "1     5.0  really appreciate their quality and timing . I...\n",
       "2     4.0  Went there on a Friday night, the place was su...\n",
       "3     4.0  A very decent place serving good food.\\r\\nOrde...\n",
       "4     5.0  One of the BEST places for steaks in the city...."
      ]
     },
     "execution_count": 3,
     "metadata": {},
     "output_type": "execute_result"
    }
   ],
   "source": [
    "reviews.head()"
   ]
  },
  {
   "cell_type": "code",
   "execution_count": 4,
   "metadata": {},
   "outputs": [
    {
     "data": {
      "text/plain": [
       "(27762, 2)"
      ]
     },
     "execution_count": 4,
     "metadata": {},
     "output_type": "execute_result"
    }
   ],
   "source": [
    "reviews.shape"
   ]
  },
  {
   "cell_type": "code",
   "execution_count": 5,
   "metadata": {},
   "outputs": [
    {
     "data": {
      "text/html": [
       "<div>\n",
       "<style scoped>\n",
       "    .dataframe tbody tr th:only-of-type {\n",
       "        vertical-align: middle;\n",
       "    }\n",
       "\n",
       "    .dataframe tbody tr th {\n",
       "        vertical-align: top;\n",
       "    }\n",
       "\n",
       "    .dataframe thead th {\n",
       "        text-align: right;\n",
       "    }\n",
       "</style>\n",
       "<table border=\"1\" class=\"dataframe\">\n",
       "  <thead>\n",
       "    <tr style=\"text-align: right;\">\n",
       "      <th></th>\n",
       "      <th>rating</th>\n",
       "      <th>review_text</th>\n",
       "    </tr>\n",
       "  </thead>\n",
       "  <tbody>\n",
       "    <tr>\n",
       "      <th>count</th>\n",
       "      <td>27762.000000</td>\n",
       "      <td>27748</td>\n",
       "    </tr>\n",
       "    <tr>\n",
       "      <th>unique</th>\n",
       "      <td>NaN</td>\n",
       "      <td>10548</td>\n",
       "    </tr>\n",
       "    <tr>\n",
       "      <th>top</th>\n",
       "      <td>NaN</td>\n",
       "      <td>good</td>\n",
       "    </tr>\n",
       "    <tr>\n",
       "      <th>freq</th>\n",
       "      <td>NaN</td>\n",
       "      <td>278</td>\n",
       "    </tr>\n",
       "    <tr>\n",
       "      <th>mean</th>\n",
       "      <td>3.665784</td>\n",
       "      <td>NaN</td>\n",
       "    </tr>\n",
       "    <tr>\n",
       "      <th>std</th>\n",
       "      <td>1.284573</td>\n",
       "      <td>NaN</td>\n",
       "    </tr>\n",
       "    <tr>\n",
       "      <th>min</th>\n",
       "      <td>1.000000</td>\n",
       "      <td>NaN</td>\n",
       "    </tr>\n",
       "    <tr>\n",
       "      <th>25%</th>\n",
       "      <td>3.000000</td>\n",
       "      <td>NaN</td>\n",
       "    </tr>\n",
       "    <tr>\n",
       "      <th>50%</th>\n",
       "      <td>4.000000</td>\n",
       "      <td>NaN</td>\n",
       "    </tr>\n",
       "    <tr>\n",
       "      <th>75%</th>\n",
       "      <td>5.000000</td>\n",
       "      <td>NaN</td>\n",
       "    </tr>\n",
       "    <tr>\n",
       "      <th>max</th>\n",
       "      <td>5.000000</td>\n",
       "      <td>NaN</td>\n",
       "    </tr>\n",
       "  </tbody>\n",
       "</table>\n",
       "</div>"
      ],
      "text/plain": [
       "              rating review_text\n",
       "count   27762.000000       27748\n",
       "unique           NaN       10548\n",
       "top              NaN        good\n",
       "freq             NaN         278\n",
       "mean        3.665784         NaN\n",
       "std         1.284573         NaN\n",
       "min         1.000000         NaN\n",
       "25%         3.000000         NaN\n",
       "50%         4.000000         NaN\n",
       "75%         5.000000         NaN\n",
       "max         5.000000         NaN"
      ]
     },
     "execution_count": 5,
     "metadata": {},
     "output_type": "execute_result"
    }
   ],
   "source": [
    "reviews.describe(include='all')"
   ]
  },
  {
   "cell_type": "code",
   "execution_count": 6,
   "metadata": {},
   "outputs": [
    {
     "data": {
      "text/plain": [
       "rating          0\n",
       "review_text    14\n",
       "dtype: int64"
      ]
     },
     "execution_count": 6,
     "metadata": {},
     "output_type": "execute_result"
    }
   ],
   "source": [
    "reviews.isnull().sum()"
   ]
  },
  {
   "cell_type": "code",
   "execution_count": 7,
   "metadata": {},
   "outputs": [],
   "source": [
    "reviews.dropna(inplace=True)"
   ]
  },
  {
   "cell_type": "code",
   "execution_count": 8,
   "metadata": {},
   "outputs": [
    {
     "data": {
      "text/plain": [
       "rating         0\n",
       "review_text    0\n",
       "dtype: int64"
      ]
     },
     "execution_count": 8,
     "metadata": {},
     "output_type": "execute_result"
    }
   ],
   "source": [
    "reviews.isnull().sum()"
   ]
  },
  {
   "cell_type": "code",
   "execution_count": 9,
   "metadata": {},
   "outputs": [],
   "source": [
    "reviews.reset_index(inplace=True,drop=True)"
   ]
  },
  {
   "cell_type": "code",
   "execution_count": 10,
   "metadata": {},
   "outputs": [
    {
     "data": {
      "text/html": [
       "<div>\n",
       "<style scoped>\n",
       "    .dataframe tbody tr th:only-of-type {\n",
       "        vertical-align: middle;\n",
       "    }\n",
       "\n",
       "    .dataframe tbody tr th {\n",
       "        vertical-align: top;\n",
       "    }\n",
       "\n",
       "    .dataframe thead th {\n",
       "        text-align: right;\n",
       "    }\n",
       "</style>\n",
       "<table border=\"1\" class=\"dataframe\">\n",
       "  <thead>\n",
       "    <tr style=\"text-align: right;\">\n",
       "      <th></th>\n",
       "      <th>rating</th>\n",
       "      <th>review_text</th>\n",
       "    </tr>\n",
       "  </thead>\n",
       "  <tbody>\n",
       "    <tr>\n",
       "      <th>0</th>\n",
       "      <td>1.0</td>\n",
       "      <td>Their service is worst, pricing in menu is dif...</td>\n",
       "    </tr>\n",
       "    <tr>\n",
       "      <th>1</th>\n",
       "      <td>5.0</td>\n",
       "      <td>really appreciate their quality and timing . I...</td>\n",
       "    </tr>\n",
       "    <tr>\n",
       "      <th>2</th>\n",
       "      <td>4.0</td>\n",
       "      <td>Went there on a Friday night, the place was su...</td>\n",
       "    </tr>\n",
       "    <tr>\n",
       "      <th>3</th>\n",
       "      <td>4.0</td>\n",
       "      <td>A very decent place serving good food.\\r\\nOrde...</td>\n",
       "    </tr>\n",
       "    <tr>\n",
       "      <th>4</th>\n",
       "      <td>5.0</td>\n",
       "      <td>One of the BEST places for steaks in the city....</td>\n",
       "    </tr>\n",
       "    <tr>\n",
       "      <th>...</th>\n",
       "      <td>...</td>\n",
       "      <td>...</td>\n",
       "    </tr>\n",
       "    <tr>\n",
       "      <th>27743</th>\n",
       "      <td>4.0</td>\n",
       "      <td>Food quality 4.5/5\\r\\nHospitality 4/5\\r\\nManag...</td>\n",
       "    </tr>\n",
       "    <tr>\n",
       "      <th>27744</th>\n",
       "      <td>4.0</td>\n",
       "      <td>Taste of the food is good and the ambience as ...</td>\n",
       "    </tr>\n",
       "    <tr>\n",
       "      <th>27745</th>\n",
       "      <td>5.0</td>\n",
       "      <td>Pizza is really thin crust and made from fresh...</td>\n",
       "    </tr>\n",
       "    <tr>\n",
       "      <th>27746</th>\n",
       "      <td>5.0</td>\n",
       "      <td>Visited last Saturday with my kids ,\\r\\nIt was...</td>\n",
       "    </tr>\n",
       "    <tr>\n",
       "      <th>27747</th>\n",
       "      <td>3.0</td>\n",
       "      <td>I love onesta always and their unlimited offer...</td>\n",
       "    </tr>\n",
       "  </tbody>\n",
       "</table>\n",
       "<p>27748 rows × 2 columns</p>\n",
       "</div>"
      ],
      "text/plain": [
       "       rating                                        review_text\n",
       "0         1.0  Their service is worst, pricing in menu is dif...\n",
       "1         5.0  really appreciate their quality and timing . I...\n",
       "2         4.0  Went there on a Friday night, the place was su...\n",
       "3         4.0  A very decent place serving good food.\\r\\nOrde...\n",
       "4         5.0  One of the BEST places for steaks in the city....\n",
       "...       ...                                                ...\n",
       "27743     4.0  Food quality 4.5/5\\r\\nHospitality 4/5\\r\\nManag...\n",
       "27744     4.0  Taste of the food is good and the ambience as ...\n",
       "27745     5.0  Pizza is really thin crust and made from fresh...\n",
       "27746     5.0  Visited last Saturday with my kids ,\\r\\nIt was...\n",
       "27747     3.0  I love onesta always and their unlimited offer...\n",
       "\n",
       "[27748 rows x 2 columns]"
      ]
     },
     "execution_count": 10,
     "metadata": {},
     "output_type": "execute_result"
    }
   ],
   "source": [
    "reviews"
   ]
  },
  {
   "cell_type": "code",
   "execution_count": 11,
   "metadata": {},
   "outputs": [
    {
     "data": {
      "text/plain": [
       "(27748, 2)"
      ]
     },
     "execution_count": 11,
     "metadata": {},
     "output_type": "execute_result"
    }
   ],
   "source": [
    "reviews.shape"
   ]
  },
  {
   "cell_type": "code",
   "execution_count": 12,
   "metadata": {},
   "outputs": [],
   "source": [
    "# Convert to list for easy manipulation\n",
    "reviews_list=reviews.review_text.values"
   ]
  },
  {
   "cell_type": "code",
   "execution_count": 13,
   "metadata": {},
   "outputs": [
    {
     "data": {
      "text/plain": [
       "27748"
      ]
     },
     "execution_count": 13,
     "metadata": {},
     "output_type": "execute_result"
    }
   ],
   "source": [
    "len(reviews_list)"
   ]
  },
  {
   "cell_type": "code",
   "execution_count": 14,
   "metadata": {},
   "outputs": [
    {
     "data": {
      "text/plain": [
       "numpy.ndarray"
      ]
     },
     "execution_count": 14,
     "metadata": {},
     "output_type": "execute_result"
    }
   ],
   "source": [
    "type(reviews_list)"
   ]
  },
  {
   "cell_type": "code",
   "execution_count": 15,
   "metadata": {},
   "outputs": [
    {
     "data": {
      "text/plain": [
       "array(['Their service is worst, pricing in menu is different from bill. They can give you a bill with increased pricing. Even for serving water,menu, order you need to call them 3-4 times even on a non busy day.',\n",
       "       \"really appreciate their quality and timing . I have tried the thattil kutti dosa I've been addicted to the dosa really and the chutney... really good and money worth much better than a thattukada must try it\",\n",
       "       'Went there on a Friday night, the place was surprisingly empty. Interesting menu which is almost fully made of dosas. I had bullseye dosa and cheese masala dosa. The bullseye Dosa was really good, with the egg perfectly cooked to a half boiled state. The masala in the cheese masala was good, but the cheese was a bit too chewy for my liking. The chutney was good, the sambar was average. The dishes are reasonably priced.',\n",
       "       'A very decent place serving good food.\\r\\nOrdered Chilli fish, Chicken & Pork sizzler.\\r\\nEverything tasted good but Pork could have been slightly better cooked.\\r\\nTried 2 beverages, both were very sweet.',\n",
       "       'One of the BEST places for steaks in the city. Tried the BEEF STEAK WITH CHILI RUM & GRILLED FISH WITH ORANGE AND JALAPENOS. Both were exceptionally good. The herbed rice and mashed potatoes serves alongside were equally delecatble. Service is prompt and Zomato Gold is a great steal. If you are a steak lover, this place is a must visit. Hope they come up with another ourself somewhere in the CBD.\\r\\n\\r\\nWish to be back soon.\\r\\nBon Appetit !'],\n",
       "      dtype=object)"
      ]
     },
     "execution_count": 15,
     "metadata": {},
     "output_type": "execute_result"
    }
   ],
   "source": [
    "reviews_list[:5]"
   ]
  },
  {
   "cell_type": "markdown",
   "metadata": {},
   "source": [
    "# 1.Text Clean up\n",
    "1. Normalize the case\n",
    "2. Remove the stop words\n",
    "     1. remove the words from stop words list- not, no\n",
    "3. Remove punctuation\n"
   ]
  },
  {
   "cell_type": "code",
   "execution_count": 16,
   "metadata": {},
   "outputs": [],
   "source": [
    "reviews_lower=[txt.lower() for txt in reviews_list]"
   ]
  },
  {
   "cell_type": "code",
   "execution_count": 17,
   "metadata": {},
   "outputs": [
    {
     "data": {
      "text/plain": [
       "['their service is worst, pricing in menu is different from bill. they can give you a bill with increased pricing. even for serving water,menu, order you need to call them 3-4 times even on a non busy day.',\n",
       " \"really appreciate their quality and timing . i have tried the thattil kutti dosa i've been addicted to the dosa really and the chutney... really good and money worth much better than a thattukada must try it\",\n",
       " 'went there on a friday night, the place was surprisingly empty. interesting menu which is almost fully made of dosas. i had bullseye dosa and cheese masala dosa. the bullseye dosa was really good, with the egg perfectly cooked to a half boiled state. the masala in the cheese masala was good, but the cheese was a bit too chewy for my liking. the chutney was good, the sambar was average. the dishes are reasonably priced.']"
      ]
     },
     "execution_count": 17,
     "metadata": {},
     "output_type": "execute_result"
    }
   ],
   "source": [
    "reviews_lower[:3]"
   ]
  },
  {
   "cell_type": "code",
   "execution_count": 18,
   "metadata": {
    "collapsed": true,
    "jupyter": {
     "outputs_hidden": true
    },
    "tags": []
   },
   "outputs": [
    {
     "data": {
      "text/plain": [
       "['their service is worst, pricing in menu is different from bill. they can give you a bill with increased pricing. even for serving water,menu, order you need to call them 3-4 times even on a non busy day.',\n",
       " \"really appreciate their quality and timing . i have tried the thattil kutti dosa i've been addicted to the dosa really and the chutney... really good and money worth much better than a thattukada must try it\",\n",
       " 'went there on a friday night, the place was surprisingly empty. interesting menu which is almost fully made of dosas. i had bullseye dosa and cheese masala dosa. the bullseye dosa was really good, with the egg perfectly cooked to a half boiled state. the masala in the cheese masala was good, but the cheese was a bit too chewy for my liking. the chutney was good, the sambar was average. the dishes are reasonably priced.',\n",
       " 'a very decent place serving good food.\\r\\nordered chilli fish, chicken & pork sizzler.\\r\\neverything tasted good but pork could have been slightly better cooked.\\r\\ntried 2 beverages, both were very sweet.',\n",
       " 'one of the best places for steaks in the city. tried the beef steak with chili rum & grilled fish with orange and jalapenos. both were exceptionally good. the herbed rice and mashed potatoes serves alongside were equally delecatble. service is prompt and zomato gold is a great steal. if you are a steak lover, this place is a must visit. hope they come up with another ourself somewhere in the cbd.\\r\\n\\r\\nwish to be back soon.\\r\\nbon appetit !',\n",
       " 'really lovely place for steaks and sizzlers. tried whatã\\x83â\\x83â\\x83ã\\x83â\\x82â\\x83ã\\x83â\\x83â\\x82ã\\x83â\\x82â\\x82ã\\x83â\\x83â\\x83ã\\x83â\\x82â\\x82ã\\x83â\\x83â\\x82ã\\x83â\\x82â\\x92s at steak? it was so flavourful and delicious. the herb sauce is one of its kind. must try!!\\r\\n\\r\\nthe ambience is cozy and just right! loved it. ?',\n",
       " \"this place ia for ultimate steak lovers!\\r\\nboth chicken and pork steaks are just so scrumptious and succulent! we tried honey mustard based steakcious and what's in a steak these two dishes there and both were so tasty! the mocktails are also quite good so nice place to do an awesome dine-out with family and friend!\",\n",
       " \"it's a shame if you haven't tried once upon a flame. :)\\r\\n\\r\\nlip smacking food. for the first time i licked off a sizzler plate. it was that bloody good.\\r\\n\\r\\ntwo of us ordered fish chilly , chicken steak sizzler and pork steak. the sauce was killer , meat was tender and the sides were absolutely fresh.\\r\\n\\r\\nyou end up having old salad sides and mashed potatoes at a lot of places but they served everything super fresh.\\r\\n\\r\\ni just wish this place runs a packed house.\\r\\n\\r\\nmy only complaint is their drinks were tad too sweet\\r\\n\\r\\nhighly recommended.\",\n",
       " 'we visited this place after we were tired and hungry after roaming around agra lake. it is a newly opened place and as the name suggests their specialty is barbecued and smoked food. their menu as decent variety.....food taste is good. ambiance is likeable and overall a great place for family dine out.',\n",
       " 'went there for yesterday dinner. surprisingly this place is quite silent. and not that much of rush. we went there just to take some sizzlers. so 2 people ordered for 2 types of sizzler chicken. believe me the taste is really too yummy. i canã\\x83â\\x83â\\x83ã\\x83â\\x82â\\x83ã\\x83â\\x83â\\x82ã\\x83â\\x82â\\x82ã\\x83â\\x83â\\x83ã\\x83â\\x82â\\x82ã\\x83â\\x83â\\x82ã\\x83â\\x82â\\x92t resist myself to eat another one but sad for me we are already late and there closing time comes. so i will surely go there very soon. food is superb tasty and ambience staffs everything is too good. a great experience. highly recommended for sizzler lovers.',\n",
       " 'great restaurants serving amazing steaks. super courteous staff. you can see the owner on most days on the floor taking orders, serving, ensuring food and everything is fine.\\r\\n\\r\\nfood is just amazing, serving style, portion and taste all just right.\\r\\n\\r\\none of those restaurants which make you feel happy afterwards. to go for your meat, steak and burger cravings.',\n",
       " \"location - it is on the first floor, next to mcdonalds and opposite to punjabi rasoi\\r\\n\\r\\nambience - the place is dimly lit with wooden chairs and table- perfect setup for a steakhouse\\r\\n\\r\\nfood and drinks-\\r\\n\\r\\nthe pepper trail - we ordered this as per the server's recommendation and were not at all disappointed. the steak was cooked to perfection and the sauce perfectly complemented it. it is served along wt sides of herbed rice, mashed potatoes and steamed veggies.\\r\\n\\r\\nlike a virgin - lemon soda with ginger and mint\\r\\n\\r\\nnojito - virgin mojito\\r\\n\\r\\nchocolate mousse - this one has the perfect taste and texture, one of the best i have ever tasted\\r\\n\\r\\nprice and service-full marks for service. on a sunday night, this place was crowded and we had to wait for 15 mins but the service was quick . zomato 1+1 on food help us save some money and we paid around rs 800 for two ppl\",\n",
       " 'this place is famous for steak. the ambience is good not a big restaurant but not crowded too on weekends. the service is decent and should try out if you want semi healthy food.',\n",
       " \"ambience is peaceful with comfortable seating and yellow lights. the music is light and allows you to have a chat with your friends.\\r\\n\\r\\ncoming to the food, we ordered pepper trail steak and grilled cottage cheese salad along with mixed vegetable soup. steak comes with mashed potatoes, rice and grilled veggies. steak was perfectly cooked and juicy. mashed potatoes were way too yum, i think they had mixed cheese with it. soup was also creamy along with a lot of vegetables. for the salad, we ordered matbucha paprika dressing, however i didn't like it much. paneer was okay but the other veggies didn't seem to be fresh.\\r\\n\\r\\nstaff was courteous enough to accept zomato gold after we placed the order. service was also prompt.\\r\\n\\r\\nambience - 4/5\\r\\nfood - 4/5\\r\\nservice - 4.5/5\",\n",
       " 'we primarily went there to try out their steaks. they have quite a huge spread of varieties of steaks. me and my friend, both tried their beef steaks. the meat was tender and good. we thoroughly enjoyed. ambience is decent and the stuffs are quite helpful and friendly.',\n",
       " 'had been there on 31st december for dinner..the place was crowded, still we managed to get a table. we ordered some fish and chicken platters and few mocktails..the platters tasted good but the quantity was very less as per the price of dishes..mocktails were not that great..due to rush staffs were quite busy to attend each table but still they were trying their best..appreciate them for that..the place was dim lit but overall ambiance was good..can try once ??',\n",
       " 'we order chicken starch and the chicken steak. the quality of service and food was excellent. a must place to visit. thank you for wonderful service.',\n",
       " 'i wonder why it took me so long to discover this place in bangalore. on 1st jan, while scrolling through the restaurants near hsr layout, i accidentally came across this particular place and it was probably the best thing that happened to me that day.\\r\\nthe ambience was beautiful... the sitting arrangements, the setup,everything was just top notch... amazing people who served food... thanks to the person who attended our table was kind and lovely and helpful...\\r\\nwe order beef tenderloin and pork steak and a mocktail...all of them were just delicious... coming at a very reasonable price too..\\r\\nlooking forward to visiting this place again sometime soon... thanks for the wonderful evening, team ouaf ????',\n",
       " 'a nice place to have steak in bangalore. they also have vegetarian steak options. isnã\\x83â\\x83â\\x83ã\\x83â\\x82â\\x83ã\\x83â\\x83â\\x82ã\\x83â\\x82â\\x82ã\\x83â\\x83â\\x83ã\\x83â\\x82â\\x82ã\\x83â\\x83â\\x82ã\\x83â\\x82â\\x92t it amazing? the food is tasty. service is pretty quick. ambience is very pretty specially the lights on the ceiling. rates are very reasonable and if you have zomato gold membership itã\\x83â\\x83â\\x83ã\\x83â\\x82â\\x83ã\\x83â\\x83â\\x82ã\\x83â\\x82â\\x82ã\\x83â\\x83â\\x83ã\\x83â\\x82â\\x82ã\\x83â\\x83â\\x82ã\\x83â\\x82â\\x92s very easy on pocket. give it a try when you crave for steak.',\n",
       " \"awesome food and epic burgers i especially loved the service and how owner takes every attention to detail to every customer that comes and over then that i'll to give props to the chef's for the food begin my 1st time in bengaluru i am quite impressed with the restaurant #worthavisit #mustvisit #steakstastic #epicburgers\",\n",
       " 'had been there on 31st december for dinner..the place was crowded, still we managed to get a table. we ordered some fish and chicken platters and few mocktails..the platters tasted good but the quantity was very less as per the price of dishes..mocktails were not that great..due to rush staffs were quite busy to attend each table but still they were trying their best..appreciate them for that..the place was dim lit but overall ambiance was good..can try once ??',\n",
       " 'we order chicken starch and the chicken steak. the quality of service and food was excellent. a must place to visit. thank you for wonderful service.',\n",
       " 'i wonder why it took me so long to discover this place in bangalore. on 1st jan, while scrolling through the restaurants near hsr layout, i accidentally came across this particular place and it was probably the best thing that happened to me that day.\\r\\nthe ambience was beautiful... the sitting arrangements, the setup,everything was just top notch... amazing people who served food... thanks to the person who attended our table was kind and lovely and helpful...\\r\\nwe order beef tenderloin and pork steak and a mocktail...all of them were just delicious... coming at a very reasonable price too..\\r\\nlooking forward to visiting this place again sometime soon... thanks for the wonderful evening, team ouaf ????',\n",
       " 'a nice place to have steak in bangalore. they also have vegetarian steak options. isnã\\x83â\\x83â\\x83ã\\x83â\\x82â\\x83ã\\x83â\\x83â\\x82ã\\x83â\\x82â\\x82ã\\x83â\\x83â\\x83ã\\x83â\\x82â\\x82ã\\x83â\\x83â\\x82ã\\x83â\\x82â\\x92t it amazing? the food is tasty. service is pretty quick. ambience is very pretty specially the lights on the ceiling. rates are very reasonable and if you have zomato gold membership itã\\x83â\\x83â\\x83ã\\x83â\\x82â\\x83ã\\x83â\\x83â\\x82ã\\x83â\\x82â\\x82ã\\x83â\\x83â\\x83ã\\x83â\\x82â\\x82ã\\x83â\\x83â\\x82ã\\x83â\\x82â\\x92s very easy on pocket. give it a try when you crave for steak.',\n",
       " \"awesome food and epic burgers i especially loved the service and how owner takes every attention to detail to every customer that comes and over then that i'll to give props to the chef's for the food begin my 1st time in bengaluru i am quite impressed with the restaurant #worthavisit #mustvisit #steakstastic #epicburgers\",\n",
       " 'had been there on 31st december for dinner..the place was crowded, still we managed to get a table. we ordered some fish and chicken platters and few mocktails..the platters tasted good but the quantity was very less as per the price of dishes..mocktails were not that great..due to rush staffs were quite busy to attend each table but still they were trying their best..appreciate them for that..the place was dim lit but overall ambiance was good..can try once ??',\n",
       " 'we order chicken starch and the chicken steak. the quality of service and food was excellent. a must place to visit. thank you for wonderful service.',\n",
       " 'i wonder why it took me so long to discover this place in bangalore. on 1st jan, while scrolling through the restaurants near hsr layout, i accidentally came across this particular place and it was probably the best thing that happened to me that day.\\r\\nthe ambience was beautiful... the sitting arrangements, the setup,everything was just top notch... amazing people who served food... thanks to the person who attended our table was kind and lovely and helpful...\\r\\nwe order beef tenderloin and pork steak and a mocktail...all of them were just delicious... coming at a very reasonable price too..\\r\\nlooking forward to visiting this place again sometime soon... thanks for the wonderful evening, team ouaf ????',\n",
       " 'a nice place to have steak in bangalore. they also have vegetarian steak options. isnã\\x83â\\x83â\\x83ã\\x83â\\x82â\\x83ã\\x83â\\x83â\\x82ã\\x83â\\x82â\\x82ã\\x83â\\x83â\\x83ã\\x83â\\x82â\\x82ã\\x83â\\x83â\\x82ã\\x83â\\x82â\\x92t it amazing? the food is tasty. service is pretty quick. ambience is very pretty specially the lights on the ceiling. rates are very reasonable and if you have zomato gold membership itã\\x83â\\x83â\\x83ã\\x83â\\x82â\\x83ã\\x83â\\x83â\\x82ã\\x83â\\x82â\\x82ã\\x83â\\x83â\\x83ã\\x83â\\x82â\\x82ã\\x83â\\x83â\\x82ã\\x83â\\x82â\\x92s very easy on pocket. give it a try when you crave for steak.',\n",
       " \"awesome food and epic burgers i especially loved the service and how owner takes every attention to detail to every customer that comes and over then that i'll to give props to the chef's for the food begin my 1st time in bengaluru i am quite impressed with the restaurant #worthavisit #mustvisit #steakstastic #epicburgers\",\n",
       " 'had been there on 31st december for dinner..the place was crowded, still we managed to get a table. we ordered some fish and chicken platters and few mocktails..the platters tasted good but the quantity was very less as per the price of dishes..mocktails were not that great..due to rush staffs were quite busy to attend each table but still they were trying their best..appreciate them for that..the place was dim lit but overall ambiance was good..can try once ??',\n",
       " 'we order chicken starch and the chicken steak. the quality of service and food was excellent. a must place to visit. thank you for wonderful service.',\n",
       " 'i wonder why it took me so long to discover this place in bangalore. on 1st jan, while scrolling through the restaurants near hsr layout, i accidentally came across this particular place and it was probably the best thing that happened to me that day.\\r\\nthe ambience was beautiful... the sitting arrangements, the setup,everything was just top notch... amazing people who served food... thanks to the person who attended our table was kind and lovely and helpful...\\r\\nwe order beef tenderloin and pork steak and a mocktail...all of them were just delicious... coming at a very reasonable price too..\\r\\nlooking forward to visiting this place again sometime soon... thanks for the wonderful evening, team ouaf ????',\n",
       " 'a nice place to have steak in bangalore. they also have vegetarian steak options. isnã\\x83â\\x83â\\x83ã\\x83â\\x82â\\x83ã\\x83â\\x83â\\x82ã\\x83â\\x82â\\x82ã\\x83â\\x83â\\x83ã\\x83â\\x82â\\x82ã\\x83â\\x83â\\x82ã\\x83â\\x82â\\x92t it amazing? the food is tasty. service is pretty quick. ambience is very pretty specially the lights on the ceiling. rates are very reasonable and if you have zomato gold membership itã\\x83â\\x83â\\x83ã\\x83â\\x82â\\x83ã\\x83â\\x83â\\x82ã\\x83â\\x82â\\x82ã\\x83â\\x83â\\x83ã\\x83â\\x82â\\x82ã\\x83â\\x83â\\x82ã\\x83â\\x82â\\x92s very easy on pocket. give it a try when you crave for steak.',\n",
       " \"awesome food and epic burgers i especially loved the service and how owner takes every attention to detail to every customer that comes and over then that i'll to give props to the chef's for the food begin my 1st time in bengaluru i am quite impressed with the restaurant #worthavisit #mustvisit #steakstastic #epicburgers\",\n",
       " 'had been there on 31st december for dinner..the place was crowded, still we managed to get a table. we ordered some fish and chicken platters and few mocktails..the platters tasted good but the quantity was very less as per the price of dishes..mocktails were not that great..due to rush staffs were quite busy to attend each table but still they were trying their best..appreciate them for that..the place was dim lit but overall ambiance was good..can try once ??',\n",
       " 'we order chicken starch and the chicken steak. the quality of service and food was excellent. a must place to visit. thank you for wonderful service.',\n",
       " 'i wonder why it took me so long to discover this place in bangalore. on 1st jan, while scrolling through the restaurants near hsr layout, i accidentally came across this particular place and it was probably the best thing that happened to me that day.\\r\\nthe ambience was beautiful... the sitting arrangements, the setup,everything was just top notch... amazing people who served food... thanks to the person who attended our table was kind and lovely and helpful...\\r\\nwe order beef tenderloin and pork steak and a mocktail...all of them were just delicious... coming at a very reasonable price too..\\r\\nlooking forward to visiting this place again sometime soon... thanks for the wonderful evening, team ouaf ????',\n",
       " 'a nice place to have steak in bangalore. they also have vegetarian steak options. isnã\\x83â\\x83â\\x83ã\\x83â\\x82â\\x83ã\\x83â\\x83â\\x82ã\\x83â\\x82â\\x82ã\\x83â\\x83â\\x83ã\\x83â\\x82â\\x82ã\\x83â\\x83â\\x82ã\\x83â\\x82â\\x92t it amazing? the food is tasty. service is pretty quick. ambience is very pretty specially the lights on the ceiling. rates are very reasonable and if you have zomato gold membership itã\\x83â\\x83â\\x83ã\\x83â\\x82â\\x83ã\\x83â\\x83â\\x82ã\\x83â\\x82â\\x82ã\\x83â\\x83â\\x83ã\\x83â\\x82â\\x82ã\\x83â\\x83â\\x82ã\\x83â\\x82â\\x92s very easy on pocket. give it a try when you crave for steak.',\n",
       " \"awesome food and epic burgers i especially loved the service and how owner takes every attention to detail to every customer that comes and over then that i'll to give props to the chef's for the food begin my 1st time in bengaluru i am quite impressed with the restaurant #worthavisit #mustvisit #steakstastic #epicburgers\",\n",
       " 'had been there on 31st december for dinner..the place was crowded, still we managed to get a table. we ordered some fish and chicken platters and few mocktails..the platters tasted good but the quantity was very less as per the price of dishes..mocktails were not that great..due to rush staffs were quite busy to attend each table but still they were trying their best..appreciate them for that..the place was dim lit but overall ambiance was good..can try once ??',\n",
       " 'we order chicken starch and the chicken steak. the quality of service and food was excellent. a must place to visit. thank you for wonderful service.',\n",
       " 'i wonder why it took me so long to discover this place in bangalore. on 1st jan, while scrolling through the restaurants near hsr layout, i accidentally came across this particular place and it was probably the best thing that happened to me that day.\\r\\nthe ambience was beautiful... the sitting arrangements, the setup,everything was just top notch... amazing people who served food... thanks to the person who attended our table was kind and lovely and helpful...\\r\\nwe order beef tenderloin and pork steak and a mocktail...all of them were just delicious... coming at a very reasonable price too..\\r\\nlooking forward to visiting this place again sometime soon... thanks for the wonderful evening, team ouaf ????',\n",
       " 'a nice place to have steak in bangalore. they also have vegetarian steak options. isnã\\x83â\\x83â\\x83ã\\x83â\\x82â\\x83ã\\x83â\\x83â\\x82ã\\x83â\\x82â\\x82ã\\x83â\\x83â\\x83ã\\x83â\\x82â\\x82ã\\x83â\\x83â\\x82ã\\x83â\\x82â\\x92t it amazing? the food is tasty. service is pretty quick. ambience is very pretty specially the lights on the ceiling. rates are very reasonable and if you have zomato gold membership itã\\x83â\\x83â\\x83ã\\x83â\\x82â\\x83ã\\x83â\\x83â\\x82ã\\x83â\\x82â\\x82ã\\x83â\\x83â\\x83ã\\x83â\\x82â\\x82ã\\x83â\\x83â\\x82ã\\x83â\\x82â\\x92s very easy on pocket. give it a try when you crave for steak.',\n",
       " \"awesome food and epic burgers i especially loved the service and how owner takes every attention to detail to every customer that comes and over then that i'll to give props to the chef's for the food begin my 1st time in bengaluru i am quite impressed with the restaurant #worthavisit #mustvisit #steakstastic #epicburgers\",\n",
       " 'had been there on 31st december for dinner..the place was crowded, still we managed to get a table. we ordered some fish and chicken platters and few mocktails..the platters tasted good but the quantity was very less as per the price of dishes..mocktails were not that great..due to rush staffs were quite busy to attend each table but still they were trying their best..appreciate them for that..the place was dim lit but overall ambiance was good..can try once ??',\n",
       " 'we order chicken starch and the chicken steak. the quality of service and food was excellent. a must place to visit. thank you for wonderful service.',\n",
       " 'i wonder why it took me so long to discover this place in bangalore. on 1st jan, while scrolling through the restaurants near hsr layout, i accidentally came across this particular place and it was probably the best thing that happened to me that day.\\r\\nthe ambience was beautiful... the sitting arrangements, the setup,everything was just top notch... amazing people who served food... thanks to the person who attended our table was kind and lovely and helpful...\\r\\nwe order beef tenderloin and pork steak and a mocktail...all of them were just delicious... coming at a very reasonable price too..\\r\\nlooking forward to visiting this place again sometime soon... thanks for the wonderful evening, team ouaf ????',\n",
       " 'a nice place to have steak in bangalore. they also have vegetarian steak options. isnã\\x83â\\x83â\\x83ã\\x83â\\x82â\\x83ã\\x83â\\x83â\\x82ã\\x83â\\x82â\\x82ã\\x83â\\x83â\\x83ã\\x83â\\x82â\\x82ã\\x83â\\x83â\\x82ã\\x83â\\x82â\\x92t it amazing? the food is tasty. service is pretty quick. ambience is very pretty specially the lights on the ceiling. rates are very reasonable and if you have zomato gold membership itã\\x83â\\x83â\\x83ã\\x83â\\x82â\\x83ã\\x83â\\x83â\\x82ã\\x83â\\x82â\\x82ã\\x83â\\x83â\\x83ã\\x83â\\x82â\\x82ã\\x83â\\x83â\\x82ã\\x83â\\x82â\\x92s very easy on pocket. give it a try when you crave for steak.',\n",
       " \"awesome food and epic burgers i especially loved the service and how owner takes every attention to detail to every customer that comes and over then that i'll to give props to the chef's for the food begin my 1st time in bengaluru i am quite impressed with the restaurant #worthavisit #mustvisit #steakstastic #epicburgers\",\n",
       " 'had been there on 31st december for dinner..the place was crowded, still we managed to get a table. we ordered some fish and chicken platters and few mocktails..the platters tasted good but the quantity was very less as per the price of dishes..mocktails were not that great..due to rush staffs were quite busy to attend each table but still they were trying their best..appreciate them for that..the place was dim lit but overall ambiance was good..can try once ??',\n",
       " 'we order chicken starch and the chicken steak. the quality of service and food was excellent. a must place to visit. thank you for wonderful service.',\n",
       " 'i wonder why it took me so long to discover this place in bangalore. on 1st jan, while scrolling through the restaurants near hsr layout, i accidentally came across this particular place and it was probably the best thing that happened to me that day.\\r\\nthe ambience was beautiful... the sitting arrangements, the setup,everything was just top notch... amazing people who served food... thanks to the person who attended our table was kind and lovely and helpful...\\r\\nwe order beef tenderloin and pork steak and a mocktail...all of them were just delicious... coming at a very reasonable price too..\\r\\nlooking forward to visiting this place again sometime soon... thanks for the wonderful evening, team ouaf ????',\n",
       " 'a nice place to have steak in bangalore. they also have vegetarian steak options. isnã\\x83â\\x83â\\x83ã\\x83â\\x82â\\x83ã\\x83â\\x83â\\x82ã\\x83â\\x82â\\x82ã\\x83â\\x83â\\x83ã\\x83â\\x82â\\x82ã\\x83â\\x83â\\x82ã\\x83â\\x82â\\x92t it amazing? the food is tasty. service is pretty quick. ambience is very pretty specially the lights on the ceiling. rates are very reasonable and if you have zomato gold membership itã\\x83â\\x83â\\x83ã\\x83â\\x82â\\x83ã\\x83â\\x83â\\x82ã\\x83â\\x82â\\x82ã\\x83â\\x83â\\x83ã\\x83â\\x82â\\x82ã\\x83â\\x83â\\x82ã\\x83â\\x82â\\x92s very easy on pocket. give it a try when you crave for steak.',\n",
       " \"awesome food and epic burgers i especially loved the service and how owner takes every attention to detail to every customer that comes and over then that i'll to give props to the chef's for the food begin my 1st time in bengaluru i am quite impressed with the restaurant #worthavisit #mustvisit #steakstastic #epicburgers\",\n",
       " 'steak steak and more steak!\\r\\n\\r\\nperfectly cooked, timed and seared steak with a wide variety of succulent variations of the same.\\r\\n\\r\\nthe have various combinations and steak burgers as well.\\r\\n\\r\\nhas always been a goto place when you are craving for steaks!',\n",
       " 'night scenes:\\r\\nromantic ambience, great food, very polite staff and quick service.\\r\\nlunch scenes:\\r\\nperfect place to hangout and chill and enjoy great food.\\r\\n\\r\\ni have been to this place for a casual date night and for lunch with my friends and enjoyed both times. their steaks are a..mazing. must try their jack danial steak thing.',\n",
       " 'the place has been in my list for long and i finally got a chance to visit this place.. if you love steaks, your search ends here. there is no shortage of delicious options there.. we order grilled buffalo wings for starter. sinbyfire and treasure chest steak.. the steaks were well done and juicy.... the wings too were grilled to perfection. ended the meal with cocolime which was very refreshing.\\r\\nthe service is nice and prompt and cordial.\\r\\nprice is little on the higher side but @zomatogold was a saviour. a highly recommended place for meat lovers like me. am definitely visiting this place again to try the other options..',\n",
       " 'food is decent. sizzler are on the costliest side but taste is good. staffs are also good. ambiance could be better. they should renovate it',\n",
       " 'steak steak and more steak!\\r\\n\\r\\nperfectly cooked, timed and seared steak with a wide variety of succulent variations of the same.\\r\\n\\r\\nthe have various combinations and steak burgers as well.\\r\\n\\r\\nhas always been a goto place when you are craving for steaks!',\n",
       " 'night scenes:\\r\\nromantic ambience, great food, very polite staff and quick service.\\r\\nlunch scenes:\\r\\nperfect place to hangout and chill and enjoy great food.\\r\\n\\r\\ni have been to this place for a casual date night and for lunch with my friends and enjoyed both times. their steaks are a..mazing. must try their jack danial steak thing.',\n",
       " 'the place has been in my list for long and i finally got a chance to visit this place.. if you love steaks, your search ends here. there is no shortage of delicious options there.. we order grilled buffalo wings for starter. sinbyfire and treasure chest steak.. the steaks were well done and juicy.... the wings too were grilled to perfection. ended the meal with cocolime which was very refreshing.\\r\\nthe service is nice and prompt and cordial.\\r\\nprice is little on the higher side but @zomatogold was a saviour. a highly recommended place for meat lovers like me. am definitely visiting this place again to try the other options..',\n",
       " 'food is decent. sizzler are on the costliest side but taste is good. staffs are also good. ambiance could be better. they should renovate it',\n",
       " 'steak steak and more steak!\\r\\n\\r\\nperfectly cooked, timed and seared steak with a wide variety of succulent variations of the same.\\r\\n\\r\\nthe have various combinations and steak burgers as well.\\r\\n\\r\\nhas always been a goto place when you are craving for steaks!',\n",
       " 'night scenes:\\r\\nromantic ambience, great food, very polite staff and quick service.\\r\\nlunch scenes:\\r\\nperfect place to hangout and chill and enjoy great food.\\r\\n\\r\\ni have been to this place for a casual date night and for lunch with my friends and enjoyed both times. their steaks are a..mazing. must try their jack danial steak thing.',\n",
       " 'the place has been in my list for long and i finally got a chance to visit this place.. if you love steaks, your search ends here. there is no shortage of delicious options there.. we order grilled buffalo wings for starter. sinbyfire and treasure chest steak.. the steaks were well done and juicy.... the wings too were grilled to perfection. ended the meal with cocolime which was very refreshing.\\r\\nthe service is nice and prompt and cordial.\\r\\nprice is little on the higher side but @zomatogold was a saviour. a highly recommended place for meat lovers like me. am definitely visiting this place again to try the other options..',\n",
       " 'food is decent. sizzler are on the costliest side but taste is good. staffs are also good. ambiance could be better. they should renovate it',\n",
       " 'steak steak and more steak!\\r\\n\\r\\nperfectly cooked, timed and seared steak with a wide variety of succulent variations of the same.\\r\\n\\r\\nthe have various combinations and steak burgers as well.\\r\\n\\r\\nhas always been a goto place when you are craving for steaks!',\n",
       " 'night scenes:\\r\\nromantic ambience, great food, very polite staff and quick service.\\r\\nlunch scenes:\\r\\nperfect place to hangout and chill and enjoy great food.\\r\\n\\r\\ni have been to this place for a casual date night and for lunch with my friends and enjoyed both times. their steaks are a..mazing. must try their jack danial steak thing.',\n",
       " 'the place has been in my list for long and i finally got a chance to visit this place.. if you love steaks, your search ends here. there is no shortage of delicious options there.. we order grilled buffalo wings for starter. sinbyfire and treasure chest steak.. the steaks were well done and juicy.... the wings too were grilled to perfection. ended the meal with cocolime which was very refreshing.\\r\\nthe service is nice and prompt and cordial.\\r\\nprice is little on the higher side but @zomatogold was a saviour. a highly recommended place for meat lovers like me. am definitely visiting this place again to try the other options..',\n",
       " 'food is decent. sizzler are on the costliest side but taste is good. staffs are also good. ambiance could be better. they should renovate it',\n",
       " 'steak steak and more steak!\\r\\n\\r\\nperfectly cooked, timed and seared steak with a wide variety of succulent variations of the same.\\r\\n\\r\\nthe have various combinations and steak burgers as well.\\r\\n\\r\\nhas always been a goto place when you are craving for steaks!',\n",
       " 'night scenes:\\r\\nromantic ambience, great food, very polite staff and quick service.\\r\\nlunch scenes:\\r\\nperfect place to hangout and chill and enjoy great food.\\r\\n\\r\\ni have been to this place for a casual date night and for lunch with my friends and enjoyed both times. their steaks are a..mazing. must try their jack danial steak thing.',\n",
       " 'the place has been in my list for long and i finally got a chance to visit this place.. if you love steaks, your search ends here. there is no shortage of delicious options there.. we order grilled buffalo wings for starter. sinbyfire and treasure chest steak.. the steaks were well done and juicy.... the wings too were grilled to perfection. ended the meal with cocolime which was very refreshing.\\r\\nthe service is nice and prompt and cordial.\\r\\nprice is little on the higher side but @zomatogold was a saviour. a highly recommended place for meat lovers like me. am definitely visiting this place again to try the other options..',\n",
       " 'food is decent. sizzler are on the costliest side but taste is good. staffs are also good. ambiance could be better. they should renovate it',\n",
       " 'steak steak and more steak!\\r\\n\\r\\nperfectly cooked, timed and seared steak with a wide variety of succulent variations of the same.\\r\\n\\r\\nthe have various combinations and steak burgers as well.\\r\\n\\r\\nhas always been a goto place when you are craving for steaks!',\n",
       " 'night scenes:\\r\\nromantic ambience, great food, very polite staff and quick service.\\r\\nlunch scenes:\\r\\nperfect place to hangout and chill and enjoy great food.\\r\\n\\r\\ni have been to this place for a casual date night and for lunch with my friends and enjoyed both times. their steaks are a..mazing. must try their jack danial steak thing.',\n",
       " 'the place has been in my list for long and i finally got a chance to visit this place.. if you love steaks, your search ends here. there is no shortage of delicious options there.. we order grilled buffalo wings for starter. sinbyfire and treasure chest steak.. the steaks were well done and juicy.... the wings too were grilled to perfection. ended the meal with cocolime which was very refreshing.\\r\\nthe service is nice and prompt and cordial.\\r\\nprice is little on the higher side but @zomatogold was a saviour. a highly recommended place for meat lovers like me. am definitely visiting this place again to try the other options..',\n",
       " 'food is decent. sizzler are on the costliest side but taste is good. staffs are also good. ambiance could be better. they should renovate it',\n",
       " 'steak steak and more steak!\\r\\n\\r\\nperfectly cooked, timed and seared steak with a wide variety of succulent variations of the same.\\r\\n\\r\\nthe have various combinations and steak burgers as well.\\r\\n\\r\\nhas always been a goto place when you are craving for steaks!',\n",
       " 'night scenes:\\r\\nromantic ambience, great food, very polite staff and quick service.\\r\\nlunch scenes:\\r\\nperfect place to hangout and chill and enjoy great food.\\r\\n\\r\\ni have been to this place for a casual date night and for lunch with my friends and enjoyed both times. their steaks are a..mazing. must try their jack danial steak thing.',\n",
       " 'the place has been in my list for long and i finally got a chance to visit this place.. if you love steaks, your search ends here. there is no shortage of delicious options there.. we order grilled buffalo wings for starter. sinbyfire and treasure chest steak.. the steaks were well done and juicy.... the wings too were grilled to perfection. ended the meal with cocolime which was very refreshing.\\r\\nthe service is nice and prompt and cordial.\\r\\nprice is little on the higher side but @zomatogold was a saviour. a highly recommended place for meat lovers like me. am definitely visiting this place again to try the other options..',\n",
       " 'food is decent. sizzler are on the costliest side but taste is good. staffs are also good. ambiance could be better. they should renovate it',\n",
       " 'if you love steaks, your search ends here!!! come to hsr you will get all types of steaks you would love to have. apart from that you will get a biggy buffy mouth watering burgers and all. the staffs here are very friendly and i really appreciate that the present manager/head of the place anticipated when wrong order was placed. would love to visit once more specifically for steaks!!!',\n",
       " \"a really amazing place to hang out at hsr layout bangalore. the ambience is equisite. the hotel staff is courteous, polite, prompt and quick in delivering. we ordered the what's a steak and alfredo penne pasta, both of which was deliciously prepared. the pasta could have been better, but the steak war excellent. the price is a bit on the higher side, but zomato gold is sure to help you in the billing.\\r\\ngreat food, great ambience and great service.\\r\\nmust try restaurant!!????\",\n",
       " 'the food was good. the steak was well done. we also ordered a chicken sizzler... the sauce was very hot, but we liked it. the ambience was not up to the mark.',\n",
       " \"two words. excellent food. it doesn't look appealing from the outside but, go there to satisfy those taste buds. i had a chicken burger , a stake and a blueberry cheesecake\\r\\nwhich were delicious and worth the price. service : 4.5/5. ambience is mediocre and the food is a 5/5.\",\n",
       " 'if you love steaks, your search ends here!!! come to hsr you will get all types of steaks you would love to have. apart from that you will get a biggy buffy mouth watering burgers and all. the staffs here are very friendly and i really appreciate that the present manager/head of the place anticipated when wrong order was placed. would love to visit once more specifically for steaks!!!',\n",
       " \"a really amazing place to hang out at hsr layout bangalore. the ambience is equisite. the hotel staff is courteous, polite, prompt and quick in delivering. we ordered the what's a steak and alfredo penne pasta, both of which was deliciously prepared. the pasta could have been better, but the steak war excellent. the price is a bit on the higher side, but zomato gold is sure to help you in the billing.\\r\\ngreat food, great ambience and great service.\\r\\nmust try restaurant!!????\",\n",
       " 'the food was good. the steak was well done. we also ordered a chicken sizzler... the sauce was very hot, but we liked it. the ambience was not up to the mark.',\n",
       " \"two words. excellent food. it doesn't look appealing from the outside but, go there to satisfy those taste buds. i had a chicken burger , a stake and a blueberry cheesecake\\r\\nwhich were delicious and worth the price. service : 4.5/5. ambience is mediocre and the food is a 5/5.\",\n",
       " 'if you love steaks, your search ends here!!! come to hsr you will get all types of steaks you would love to have. apart from that you will get a biggy buffy mouth watering burgers and all. the staffs here are very friendly and i really appreciate that the present manager/head of the place anticipated when wrong order was placed. would love to visit once more specifically for steaks!!!',\n",
       " \"a really amazing place to hang out at hsr layout bangalore. the ambience is equisite. the hotel staff is courteous, polite, prompt and quick in delivering. we ordered the what's a steak and alfredo penne pasta, both of which was deliciously prepared. the pasta could have been better, but the steak war excellent. the price is a bit on the higher side, but zomato gold is sure to help you in the billing.\\r\\ngreat food, great ambience and great service.\\r\\nmust try restaurant!!????\",\n",
       " 'the food was good. the steak was well done. we also ordered a chicken sizzler... the sauce was very hot, but we liked it. the ambience was not up to the mark.',\n",
       " \"two words. excellent food. it doesn't look appealing from the outside but, go there to satisfy those taste buds. i had a chicken burger , a stake and a blueberry cheesecake\\r\\nwhich were delicious and worth the price. service : 4.5/5. ambience is mediocre and the food is a 5/5.\",\n",
       " 'if you love steaks, your search ends here!!! come to hsr you will get all types of steaks you would love to have. apart from that you will get a biggy buffy mouth watering burgers and all. the staffs here are very friendly and i really appreciate that the present manager/head of the place anticipated when wrong order was placed. would love to visit once more specifically for steaks!!!',\n",
       " \"a really amazing place to hang out at hsr layout bangalore. the ambience is equisite. the hotel staff is courteous, polite, prompt and quick in delivering. we ordered the what's a steak and alfredo penne pasta, both of which was deliciously prepared. the pasta could have been better, but the steak war excellent. the price is a bit on the higher side, but zomato gold is sure to help you in the billing.\\r\\ngreat food, great ambience and great service.\\r\\nmust try restaurant!!????\",\n",
       " 'the food was good. the steak was well done. we also ordered a chicken sizzler... the sauce was very hot, but we liked it. the ambience was not up to the mark.',\n",
       " \"two words. excellent food. it doesn't look appealing from the outside but, go there to satisfy those taste buds. i had a chicken burger , a stake and a blueberry cheesecake\\r\\nwhich were delicious and worth the price. service : 4.5/5. ambience is mediocre and the food is a 5/5.\",\n",
       " 'if you love steaks, your search ends here!!! come to hsr you will get all types of steaks you would love to have. apart from that you will get a biggy buffy mouth watering burgers and all. the staffs here are very friendly and i really appreciate that the present manager/head of the place anticipated when wrong order was placed. would love to visit once more specifically for steaks!!!',\n",
       " \"a really amazing place to hang out at hsr layout bangalore. the ambience is equisite. the hotel staff is courteous, polite, prompt and quick in delivering. we ordered the what's a steak and alfredo penne pasta, both of which was deliciously prepared. the pasta could have been better, but the steak war excellent. the price is a bit on the higher side, but zomato gold is sure to help you in the billing.\\r\\ngreat food, great ambience and great service.\\r\\nmust try restaurant!!????\",\n",
       " 'the food was good. the steak was well done. we also ordered a chicken sizzler... the sauce was very hot, but we liked it. the ambience was not up to the mark.',\n",
       " \"two words. excellent food. it doesn't look appealing from the outside but, go there to satisfy those taste buds. i had a chicken burger , a stake and a blueberry cheesecake\\r\\nwhich were delicious and worth the price. service : 4.5/5. ambience is mediocre and the food is a 5/5.\",\n",
       " 'if you love steaks, your search ends here!!! come to hsr you will get all types of steaks you would love to have. apart from that you will get a biggy buffy mouth watering burgers and all. the staffs here are very friendly and i really appreciate that the present manager/head of the place anticipated when wrong order was placed. would love to visit once more specifically for steaks!!!',\n",
       " \"a really amazing place to hang out at hsr layout bangalore. the ambience is equisite. the hotel staff is courteous, polite, prompt and quick in delivering. we ordered the what's a steak and alfredo penne pasta, both of which was deliciously prepared. the pasta could have been better, but the steak war excellent. the price is a bit on the higher side, but zomato gold is sure to help you in the billing.\\r\\ngreat food, great ambience and great service.\\r\\nmust try restaurant!!????\",\n",
       " 'the food was good. the steak was well done. we also ordered a chicken sizzler... the sauce was very hot, but we liked it. the ambience was not up to the mark.',\n",
       " \"two words. excellent food. it doesn't look appealing from the outside but, go there to satisfy those taste buds. i had a chicken burger , a stake and a blueberry cheesecake\\r\\nwhich were delicious and worth the price. service : 4.5/5. ambience is mediocre and the food is a 5/5.\",\n",
       " \"food was good except for the spices. if you like bland food you might like the place else it's a no. i saw the menu which was written the most spiciest dish and confirmed with the waiter. but the food was sad:( the cottage cheese steak was good. veggies n mash potato was bad. however liked two things. cocolime was something new and at last they served a shot glass of cinnamon tea which was the best among all.\",\n",
       " 'ordered for chicken wings, hot flames drink, chicken mushroom sizzler, spaghetti bolognese.\\r\\nthe chicken wings were tiny, not much meat, the pasta was okay; the chicken in it had weird taste, the sizzler was good. drink was delicious as well.',\n",
       " \"located in a busy street of hsr, once upon a flame serves quite good steaks at reasonable price.\\r\\ntried what's in a steak and pork ribs steak.\\r\\napart from the fact that the chicken sizzler was on a bit salty side, we were happy with the place.\\r\\nthe ambience is also quite nice.\",\n",
       " \"food was good except for the spices. if you like bland food you might like the place else it's a no. i saw the menu which was written the most spiciest dish and confirmed with the waiter. but the food was sad:( the cottage cheese steak was good. veggies n mash potato was bad. however liked two things. cocolime was something new and at last they served a shot glass of cinnamon tea which was the best among all.\",\n",
       " 'ordered for chicken wings, hot flames drink, chicken mushroom sizzler, spaghetti bolognese.\\r\\nthe chicken wings were tiny, not much meat, the pasta was okay; the chicken in it had weird taste, the sizzler was good. drink was delicious as well.',\n",
       " \"located in a busy street of hsr, once upon a flame serves quite good steaks at reasonable price.\\r\\ntried what's in a steak and pork ribs steak.\\r\\napart from the fact that the chicken sizzler was on a bit salty side, we were happy with the place.\\r\\nthe ambience is also quite nice.\",\n",
       " \"food was good except for the spices. if you like bland food you might like the place else it's a no. i saw the menu which was written the most spiciest dish and confirmed with the waiter. but the food was sad:( the cottage cheese steak was good. veggies n mash potato was bad. however liked two things. cocolime was something new and at last they served a shot glass of cinnamon tea which was the best among all.\",\n",
       " 'ordered for chicken wings, hot flames drink, chicken mushroom sizzler, spaghetti bolognese.\\r\\nthe chicken wings were tiny, not much meat, the pasta was okay; the chicken in it had weird taste, the sizzler was good. drink was delicious as well.',\n",
       " \"located in a busy street of hsr, once upon a flame serves quite good steaks at reasonable price.\\r\\ntried what's in a steak and pork ribs steak.\\r\\napart from the fact that the chicken sizzler was on a bit salty side, we were happy with the place.\\r\\nthe ambience is also quite nice.\",\n",
       " 'go to place if you are in mood of having perfectly cooked steak and the best part is that this restaurant is a zomato gold partner.\\r\\n\\r\\nbrownie points for service. we reached late; around 10:30 and were only ones in the restaurant on a weekday at that time but the staff was super polite and patient. we thoroughly enjoyed our meal.',\n",
       " \"ok. 5 stars.\\r\\n\\r\\nlocation: walkable distance from bda complex (we parked there, from a vehicle parking pov, excellent location). you can easily locate it from the main road\\r\\n\\r\\ncustomer service: such happy and smiling people. i was sold the moment i walked in, someone came and took our helmets (this is something we loved, the greeting was warm and friendly)\\r\\n\\r\\nmusic: to the owner, i need that playlist! please!!!\\r\\n\\r\\nat last, food: man oh man, i was starving for a week (and let's be realistic, we all check the menu before we step inside) for non vegetarian food and all i can say is, my stomach is happy! captain jack's special and honey i flamed the steak, oh, the steak was just perfect (for more details, please visit the place and have this). i didn't have any space left but after ages, i wanted to have everything that they have to offer on the menu.\\r\\n\\r\\nexcellent job guys. i am so proud that my relapse from veg food to that steak was worth it!!!\",\n",
       " \"location: hsr layout, sector 3\\r\\n\\r\\nambience: nice with soothing music in background.\\r\\n\\r\\nfood n drinks: the food taste was ok and drinks were nice.\\r\\n\\r\\nstaff and service: staff was very polite n friendly with quick service.\\r\\n\\r\\ncost: average (900 for two)\\r\\n\\r\\na nice place for meeting with someone but if you are a vegetarian than you won't be getting much options.\\r\\nwe tried cheesy alfredo pasta, desi anyone (dish name with panner, mashed potato and rice) and in drinks we had mojito and chocolate milk shake. pasta was good and cheesy but other dish was ok ok. drinks were quite good.\\r\\n\\r\\none time must visit . recommend.!\",\n",
       " 'in mood for some mouth watering continental food? this is a must visit. simply amazing food. i tried the chicken wings and it was simply yum. this place is a zomato gold partner.\\r\\n\\r\\nitems tasted - garlic bread, chicken wings, pork knight rises steak, captain jack daniels chicken steak, cheese penne alfredo.\\r\\n\\r\\nthe place is small but the ambience and service is good. value for money. you can try out this place with friends or family. a must visit if you love continental food.\\r\\n\\r\\noverall rating of 4/5.',\n",
       " 'perfect place for a casual lunch. they have got spread of steaks. please choose the mocktails correctly. as some were awesome while a few were pathetic in taste.\\r\\nwe ordered a variety of steaks and all were made to perfection. the staff is very friendly and the owner/manager himself takes the order and ensures the customers are satisfied with the food.',\n",
       " 'go to place if you are in mood of having perfectly cooked steak and the best part is that this restaurant is a zomato gold partner.\\r\\n\\r\\nbrownie points for service. we reached late; around 10:30 and were only ones in the restaurant on a weekday at that time but the staff was super polite and patient. we thoroughly enjoyed our meal.',\n",
       " \"ok. 5 stars.\\r\\n\\r\\nlocation: walkable distance from bda complex (we parked there, from a vehicle parking pov, excellent location). you can easily locate it from the main road\\r\\n\\r\\ncustomer service: such happy and smiling people. i was sold the moment i walked in, someone came and took our helmets (this is something we loved, the greeting was warm and friendly)\\r\\n\\r\\nmusic: to the owner, i need that playlist! please!!!\\r\\n\\r\\nat last, food: man oh man, i was starving for a week (and let's be realistic, we all check the menu before we step inside) for non vegetarian food and all i can say is, my stomach is happy! captain jack's special and honey i flamed the steak, oh, the steak was just perfect (for more details, please visit the place and have this). i didn't have any space left but after ages, i wanted to have everything that they have to offer on the menu.\\r\\n\\r\\nexcellent job guys. i am so proud that my relapse from veg food to that steak was worth it!!!\",\n",
       " \"location: hsr layout, sector 3\\r\\n\\r\\nambience: nice with soothing music in background.\\r\\n\\r\\nfood n drinks: the food taste was ok and drinks were nice.\\r\\n\\r\\nstaff and service: staff was very polite n friendly with quick service.\\r\\n\\r\\ncost: average (900 for two)\\r\\n\\r\\na nice place for meeting with someone but if you are a vegetarian than you won't be getting much options.\\r\\nwe tried cheesy alfredo pasta, desi anyone (dish name with panner, mashed potato and rice) and in drinks we had mojito and chocolate milk shake. pasta was good and cheesy but other dish was ok ok. drinks were quite good.\\r\\n\\r\\none time must visit . recommend.!\",\n",
       " 'in mood for some mouth watering continental food? this is a must visit. simply amazing food. i tried the chicken wings and it was simply yum. this place is a zomato gold partner.\\r\\n\\r\\nitems tasted - garlic bread, chicken wings, pork knight rises steak, captain jack daniels chicken steak, cheese penne alfredo.\\r\\n\\r\\nthe place is small but the ambience and service is good. value for money. you can try out this place with friends or family. a must visit if you love continental food.\\r\\n\\r\\noverall rating of 4/5.',\n",
       " 'perfect place for a casual lunch. they have got spread of steaks. please choose the mocktails correctly. as some were awesome while a few were pathetic in taste.\\r\\nwe ordered a variety of steaks and all were made to perfection. the staff is very friendly and the owner/manager himself takes the order and ensures the customers are satisfied with the food.',\n",
       " 'go to place if you are in mood of having perfectly cooked steak and the best part is that this restaurant is a zomato gold partner.\\r\\n\\r\\nbrownie points for service. we reached late; around 10:30 and were only ones in the restaurant on a weekday at that time but the staff was super polite and patient. we thoroughly enjoyed our meal.',\n",
       " \"ok. 5 stars.\\r\\n\\r\\nlocation: walkable distance from bda complex (we parked there, from a vehicle parking pov, excellent location). you can easily locate it from the main road\\r\\n\\r\\ncustomer service: such happy and smiling people. i was sold the moment i walked in, someone came and took our helmets (this is something we loved, the greeting was warm and friendly)\\r\\n\\r\\nmusic: to the owner, i need that playlist! please!!!\\r\\n\\r\\nat last, food: man oh man, i was starving for a week (and let's be realistic, we all check the menu before we step inside) for non vegetarian food and all i can say is, my stomach is happy! captain jack's special and honey i flamed the steak, oh, the steak was just perfect (for more details, please visit the place and have this). i didn't have any space left but after ages, i wanted to have everything that they have to offer on the menu.\\r\\n\\r\\nexcellent job guys. i am so proud that my relapse from veg food to that steak was worth it!!!\",\n",
       " \"location: hsr layout, sector 3\\r\\n\\r\\nambience: nice with soothing music in background.\\r\\n\\r\\nfood n drinks: the food taste was ok and drinks were nice.\\r\\n\\r\\nstaff and service: staff was very polite n friendly with quick service.\\r\\n\\r\\ncost: average (900 for two)\\r\\n\\r\\na nice place for meeting with someone but if you are a vegetarian than you won't be getting much options.\\r\\nwe tried cheesy alfredo pasta, desi anyone (dish name with panner, mashed potato and rice) and in drinks we had mojito and chocolate milk shake. pasta was good and cheesy but other dish was ok ok. drinks were quite good.\\r\\n\\r\\none time must visit . recommend.!\",\n",
       " 'in mood for some mouth watering continental food? this is a must visit. simply amazing food. i tried the chicken wings and it was simply yum. this place is a zomato gold partner.\\r\\n\\r\\nitems tasted - garlic bread, chicken wings, pork knight rises steak, captain jack daniels chicken steak, cheese penne alfredo.\\r\\n\\r\\nthe place is small but the ambience and service is good. value for money. you can try out this place with friends or family. a must visit if you love continental food.\\r\\n\\r\\noverall rating of 4/5.',\n",
       " 'perfect place for a casual lunch. they have got spread of steaks. please choose the mocktails correctly. as some were awesome while a few were pathetic in taste.\\r\\nwe ordered a variety of steaks and all were made to perfection. the staff is very friendly and the owner/manager himself takes the order and ensures the customers are satisfied with the food.',\n",
       " 'the location of the restaurant is convenient and easy to spot.\\r\\nthe food was alright. we ordered a fish steak and a beef steak. the fish was better than the beef. both the dishes came with a good portion of mashed potatoes which were creamy and delicious. some fragrant rice and sautã\\x83â\\x83â\\x83ã\\x83â\\x82â\\x83ã\\x83â\\x83â\\x82ã\\x83â\\x82â\\x83ã\\x83â\\x83â\\x83ã\\x83â\\x82â\\x82ã\\x83â\\x83â\\x82ã\\x83â\\x82ã\\x82â©ed veggies.\\r\\n\\r\\noverall i would rate the fish(on your mark - go) a 4/5 and beef(steakalypse now) a 3/5.\\r\\n\\r\\nworth a try ?',\n",
       " 'food and ambiance were good. furniture and decor are classy. staff is courteous. service is prompt. steak should be tried. steak sauce is good',\n",
       " \"finally i found a decent place in hsr after searching one restaurant at a time for the past 4 weeks. this a place for steaks and burgers. the staff are super prompt. they served the fastest sizzler ever. however here's the problem, the taste didn't quite live up to th cleanliness and the promptness of their service. this is not just for the steak i ordered but for the rest of the stuff that was ordered at our table. the coolers were really nice though and so were their cheese bread.\\r\\n\\r\\ni would hope they can work on the taste but i would like to visit here again to find if it was just a one off bad day at the kitchen.\\r\\n\\r\\nfor everything else, they deserve an overall 4/5.\",\n",
       " 'the location of the restaurant is convenient and easy to spot.\\r\\nthe food was alright. we ordered a fish steak and a beef steak. the fish was better than the beef. both the dishes came with a good portion of mashed potatoes which were creamy and delicious. some fragrant rice and sautã\\x83â\\x83â\\x83ã\\x83â\\x82â\\x83ã\\x83â\\x83â\\x82ã\\x83â\\x82â\\x83ã\\x83â\\x83â\\x83ã\\x83â\\x82â\\x82ã\\x83â\\x83â\\x82ã\\x83â\\x82ã\\x82â©ed veggies.\\r\\n\\r\\noverall i would rate the fish(on your mark - go) a 4/5 and beef(steakalypse now) a 3/5.\\r\\n\\r\\nworth a try ?',\n",
       " 'food and ambiance were good. furniture and decor are classy. staff is courteous. service is prompt. steak should be tried. steak sauce is good',\n",
       " \"finally i found a decent place in hsr after searching one restaurant at a time for the past 4 weeks. this a place for steaks and burgers. the staff are super prompt. they served the fastest sizzler ever. however here's the problem, the taste didn't quite live up to th cleanliness and the promptness of their service. this is not just for the steak i ordered but for the rest of the stuff that was ordered at our table. the coolers were really nice though and so were their cheese bread.\\r\\n\\r\\ni would hope they can work on the taste but i would like to visit here again to find if it was just a one off bad day at the kitchen.\\r\\n\\r\\nfor everything else, they deserve an overall 4/5.\",\n",
       " 'the location of the restaurant is convenient and easy to spot.\\r\\nthe food was alright. we ordered a fish steak and a beef steak. the fish was better than the beef. both the dishes came with a good portion of mashed potatoes which were creamy and delicious. some fragrant rice and sautã\\x83â\\x83â\\x83ã\\x83â\\x82â\\x83ã\\x83â\\x83â\\x82ã\\x83â\\x82â\\x83ã\\x83â\\x83â\\x83ã\\x83â\\x82â\\x82ã\\x83â\\x83â\\x82ã\\x83â\\x82ã\\x82â©ed veggies.\\r\\n\\r\\noverall i would rate the fish(on your mark - go) a 4/5 and beef(steakalypse now) a 3/5.\\r\\n\\r\\nworth a try ?',\n",
       " 'food and ambiance were good. furniture and decor are classy. staff is courteous. service is prompt. steak should be tried. steak sauce is good',\n",
       " \"finally i found a decent place in hsr after searching one restaurant at a time for the past 4 weeks. this a place for steaks and burgers. the staff are super prompt. they served the fastest sizzler ever. however here's the problem, the taste didn't quite live up to th cleanliness and the promptness of their service. this is not just for the steak i ordered but for the rest of the stuff that was ordered at our table. the coolers were really nice though and so were their cheese bread.\\r\\n\\r\\ni would hope they can work on the taste but i would like to visit here again to find if it was just a one off bad day at the kitchen.\\r\\n\\r\\nfor everything else, they deserve an overall 4/5.\",\n",
       " 'cosy place.in starters had basil fish sticks.we wanted to have steaks so ordered treasure chest steak (chicken),captain jack special steak(chicken ) and honey,i flamed the steak (pork one) .food and desserts both were super awesome.definitely calls for a second visit.',\n",
       " \"just try the baby pork ribs. i will say it's the best in the town. jack daniels steak is a must try too . great service too.\\r\\nambience -4.5/5\\r\\nfood -5/5\\r\\nservice -5/5\",\n",
       " 'absolutely love the interiors of this restaurant. there are lots of movie posters hanging on the brick walls. the dim restaurant lighting added charm to the decor.\\r\\n\\r\\nwe started with garlic bread and oh my god, it was heavenly. the garlic taste was perfect. the flavor was toned down and therefore not really strong. we had pasta and burgers and they were mouthwatering too. every spice added new aroma and flavor to the food. the veg burger has some scope for improvement but the pasta was exceptionally good. the cold coffee was freshly prepared and the sugar amount was just perfect.\\r\\n\\r\\nthe food is worth every penny you spend. would highly recommend this place!',\n",
       " 'cosy place.in starters had basil fish sticks.we wanted to have steaks so ordered treasure chest steak (chicken),captain jack special steak(chicken ) and honey,i flamed the steak (pork one) .food and desserts both were super awesome.definitely calls for a second visit.',\n",
       " \"just try the baby pork ribs. i will say it's the best in the town. jack daniels steak is a must try too . great service too.\\r\\nambience -4.5/5\\r\\nfood -5/5\\r\\nservice -5/5\",\n",
       " 'absolutely love the interiors of this restaurant. there are lots of movie posters hanging on the brick walls. the dim restaurant lighting added charm to the decor.\\r\\n\\r\\nwe started with garlic bread and oh my god, it was heavenly. the garlic taste was perfect. the flavor was toned down and therefore not really strong. we had pasta and burgers and they were mouthwatering too. every spice added new aroma and flavor to the food. the veg burger has some scope for improvement but the pasta was exceptionally good. the cold coffee was freshly prepared and the sugar amount was just perfect.\\r\\n\\r\\nthe food is worth every penny you spend. would highly recommend this place!',\n",
       " 'cosy place.in starters had basil fish sticks.we wanted to have steaks so ordered treasure chest steak (chicken),captain jack special steak(chicken ) and honey,i flamed the steak (pork one) .food and desserts both were super awesome.definitely calls for a second visit.',\n",
       " \"just try the baby pork ribs. i will say it's the best in the town. jack daniels steak is a must try too . great service too.\\r\\nambience -4.5/5\\r\\nfood -5/5\\r\\nservice -5/5\",\n",
       " 'absolutely love the interiors of this restaurant. there are lots of movie posters hanging on the brick walls. the dim restaurant lighting added charm to the decor.\\r\\n\\r\\nwe started with garlic bread and oh my god, it was heavenly. the garlic taste was perfect. the flavor was toned down and therefore not really strong. we had pasta and burgers and they were mouthwatering too. every spice added new aroma and flavor to the food. the veg burger has some scope for improvement but the pasta was exceptionally good. the cold coffee was freshly prepared and the sugar amount was just perfect.\\r\\n\\r\\nthe food is worth every penny you spend. would highly recommend this place!',\n",
       " 'we went on a monday night, so it was not very crowded. we called in ahead and had a table ready for the 8 of us.\\r\\nitã\\x83â\\x83â\\x83ã\\x83â\\x82â\\x83ã\\x83â\\x83â\\x82ã\\x83â\\x82â\\x82ã\\x83â\\x83â\\x83ã\\x83â\\x82â\\x82ã\\x83â\\x83â\\x82ã\\x83â\\x82â\\x92s a little tough to find the place since it has a really small board outside, but we can just google the address and it takes us there anyway.\\r\\n\\r\\nthis is a cosy place, nice for meeting up with friends. on top of the really interesting menu with all the options of meat, they also have a good collection of books.\\r\\nthe meat they serve is juicy and delicious. one of our friends is a vegetarian and she loved the vegetarian options as well.\\r\\n\\r\\nmust try:\\r\\ncaptain jackã\\x83â\\x83â\\x83ã\\x83â\\x82â\\x83ã\\x83â\\x83â\\x82ã\\x83â\\x82â\\x82ã\\x83â\\x83â\\x83ã\\x83â\\x82â\\x82ã\\x83â\\x83â\\x82ã\\x83â\\x82â\\x92s special steak (with jack daniel sauce), raging bull, steak pan fried rice- beef\\r\\ncoco lime',\n",
       " \"if you're craving for some steak or burger, search no more! the best steaks and sizzlers in bangalore!! their patties are fresh, sauces flavoursome, and their quantities are wholesome. definitely a must try.\",\n",
       " 'i saw this place having an offer on nearby while i was searching for some good places for sizzlers in bangalore. we ordered 2 variants of veg sizzlers. one was with cottage cheese and the other with cheesy mushrooms. it was served with some mashed potato and rice. both of them were really tasty but my fav had to be the mushroom one! also the best part of this is that you can ask for more rice if you want and they happily accomodate the same. overall a sumptuous meal and did satisfy my cravings for sizzlers!',\n",
       " 'they serve some good steak ,but what really stood out was their mashed potatoes, easily the most creamy and consistent mashed potatoes iã\\x83â\\x83â\\x83ã\\x83â\\x82â\\x83ã\\x83â\\x83â\\x82ã\\x83â\\x82â\\x82ã\\x83â\\x83â\\x83ã\\x83â\\x82â\\x82ã\\x83â\\x83â\\x82ã\\x83â\\x82â\\x92ve ever had ? weã\\x83â\\x83â\\x83ã\\x83â\\x82â\\x83ã\\x83â\\x83â\\x82ã\\x83â\\x82â\\x82ã\\x83â\\x83â\\x83ã\\x83â\\x82â\\x82ã\\x83â\\x83â\\x82ã\\x83â\\x82â\\x92d ordered whatã\\x83â\\x83â\\x83ã\\x83â\\x82â\\x83ã\\x83â\\x83â\\x82ã\\x83â\\x82â\\x82ã\\x83â\\x83â\\x83ã\\x83â\\x82â\\x82ã\\x83â\\x83â\\x82ã\\x83â\\x82â\\x92s at steak and steakalypse now and both tasted good although we werenã\\x83â\\x83â\\x83ã\\x83â\\x82â\\x83ã\\x83â\\x83â\\x82ã\\x83â\\x82â\\x82ã\\x83â\\x83â\\x83ã\\x83â\\x82â\\x82ã\\x83â\\x83â\\x82ã\\x83â\\x82â\\x92t too happy with chilli shrimp starter that we had ordered as they didnã\\x83â\\x83â\\x83ã\\x83â\\x82â\\x83ã\\x83â\\x83â\\x82ã\\x83â\\x82â\\x82ã\\x83â\\x83â\\x83ã\\x83â\\x82â\\x82ã\\x83â\\x83â\\x82ã\\x83â\\x82â\\x92t taste fresh . the owner was accommodating enough to replace the shrimp starter with a different dish . the ambience was chill and staff were perfectly attentive. funnily the mashed potatoes stole the show for me !',\n",
       " 'we went on a monday night, so it was not very crowded. we called in ahead and had a table ready for the 8 of us.\\r\\nitã\\x83â\\x83â\\x83ã\\x83â\\x82â\\x83ã\\x83â\\x83â\\x82ã\\x83â\\x82â\\x82ã\\x83â\\x83â\\x83ã\\x83â\\x82â\\x82ã\\x83â\\x83â\\x82ã\\x83â\\x82â\\x92s a little tough to find the place since it has a really small board outside, but we can just google the address and it takes us there anyway.\\r\\n\\r\\nthis is a cosy place, nice for meeting up with friends. on top of the really interesting menu with all the options of meat, they also have a good collection of books.\\r\\nthe meat they serve is juicy and delicious. one of our friends is a vegetarian and she loved the vegetarian options as well.\\r\\n\\r\\nmust try:\\r\\ncaptain jackã\\x83â\\x83â\\x83ã\\x83â\\x82â\\x83ã\\x83â\\x83â\\x82ã\\x83â\\x82â\\x82ã\\x83â\\x83â\\x83ã\\x83â\\x82â\\x82ã\\x83â\\x83â\\x82ã\\x83â\\x82â\\x92s special steak (with jack daniel sauce), raging bull, steak pan fried rice- beef\\r\\ncoco lime',\n",
       " \"if you're craving for some steak or burger, search no more! the best steaks and sizzlers in bangalore!! their patties are fresh, sauces flavoursome, and their quantities are wholesome. definitely a must try.\",\n",
       " 'i saw this place having an offer on nearby while i was searching for some good places for sizzlers in bangalore. we ordered 2 variants of veg sizzlers. one was with cottage cheese and the other with cheesy mushrooms. it was served with some mashed potato and rice. both of them were really tasty but my fav had to be the mushroom one! also the best part of this is that you can ask for more rice if you want and they happily accomodate the same. overall a sumptuous meal and did satisfy my cravings for sizzlers!',\n",
       " 'they serve some good steak ,but what really stood out was their mashed potatoes, easily the most creamy and consistent mashed potatoes iã\\x83â\\x83â\\x83ã\\x83â\\x82â\\x83ã\\x83â\\x83â\\x82ã\\x83â\\x82â\\x82ã\\x83â\\x83â\\x83ã\\x83â\\x82â\\x82ã\\x83â\\x83â\\x82ã\\x83â\\x82â\\x92ve ever had ? weã\\x83â\\x83â\\x83ã\\x83â\\x82â\\x83ã\\x83â\\x83â\\x82ã\\x83â\\x82â\\x82ã\\x83â\\x83â\\x83ã\\x83â\\x82â\\x82ã\\x83â\\x83â\\x82ã\\x83â\\x82â\\x92d ordered whatã\\x83â\\x83â\\x83ã\\x83â\\x82â\\x83ã\\x83â\\x83â\\x82ã\\x83â\\x82â\\x82ã\\x83â\\x83â\\x83ã\\x83â\\x82â\\x82ã\\x83â\\x83â\\x82ã\\x83â\\x82â\\x92s at steak and steakalypse now and both tasted good although we werenã\\x83â\\x83â\\x83ã\\x83â\\x82â\\x83ã\\x83â\\x83â\\x82ã\\x83â\\x82â\\x82ã\\x83â\\x83â\\x83ã\\x83â\\x82â\\x82ã\\x83â\\x83â\\x82ã\\x83â\\x82â\\x92t too happy with chilli shrimp starter that we had ordered as they didnã\\x83â\\x83â\\x83ã\\x83â\\x82â\\x83ã\\x83â\\x83â\\x82ã\\x83â\\x82â\\x82ã\\x83â\\x83â\\x83ã\\x83â\\x82â\\x82ã\\x83â\\x83â\\x82ã\\x83â\\x82â\\x92t taste fresh . the owner was accommodating enough to replace the shrimp starter with a different dish . the ambience was chill and staff were perfectly attentive. funnily the mashed potatoes stole the show for me !',\n",
       " 'we went on a monday night, so it was not very crowded. we called in ahead and had a table ready for the 8 of us.\\r\\nitã\\x83â\\x83â\\x83ã\\x83â\\x82â\\x83ã\\x83â\\x83â\\x82ã\\x83â\\x82â\\x82ã\\x83â\\x83â\\x83ã\\x83â\\x82â\\x82ã\\x83â\\x83â\\x82ã\\x83â\\x82â\\x92s a little tough to find the place since it has a really small board outside, but we can just google the address and it takes us there anyway.\\r\\n\\r\\nthis is a cosy place, nice for meeting up with friends. on top of the really interesting menu with all the options of meat, they also have a good collection of books.\\r\\nthe meat they serve is juicy and delicious. one of our friends is a vegetarian and she loved the vegetarian options as well.\\r\\n\\r\\nmust try:\\r\\ncaptain jackã\\x83â\\x83â\\x83ã\\x83â\\x82â\\x83ã\\x83â\\x83â\\x82ã\\x83â\\x82â\\x82ã\\x83â\\x83â\\x83ã\\x83â\\x82â\\x82ã\\x83â\\x83â\\x82ã\\x83â\\x82â\\x92s special steak (with jack daniel sauce), raging bull, steak pan fried rice- beef\\r\\ncoco lime',\n",
       " \"if you're craving for some steak or burger, search no more! the best steaks and sizzlers in bangalore!! their patties are fresh, sauces flavoursome, and their quantities are wholesome. definitely a must try.\",\n",
       " 'i saw this place having an offer on nearby while i was searching for some good places for sizzlers in bangalore. we ordered 2 variants of veg sizzlers. one was with cottage cheese and the other with cheesy mushrooms. it was served with some mashed potato and rice. both of them were really tasty but my fav had to be the mushroom one! also the best part of this is that you can ask for more rice if you want and they happily accomodate the same. overall a sumptuous meal and did satisfy my cravings for sizzlers!',\n",
       " 'they serve some good steak ,but what really stood out was their mashed potatoes, easily the most creamy and consistent mashed potatoes iã\\x83â\\x83â\\x83ã\\x83â\\x82â\\x83ã\\x83â\\x83â\\x82ã\\x83â\\x82â\\x82ã\\x83â\\x83â\\x83ã\\x83â\\x82â\\x82ã\\x83â\\x83â\\x82ã\\x83â\\x82â\\x92ve ever had ? weã\\x83â\\x83â\\x83ã\\x83â\\x82â\\x83ã\\x83â\\x83â\\x82ã\\x83â\\x82â\\x82ã\\x83â\\x83â\\x83ã\\x83â\\x82â\\x82ã\\x83â\\x83â\\x82ã\\x83â\\x82â\\x92d ordered whatã\\x83â\\x83â\\x83ã\\x83â\\x82â\\x83ã\\x83â\\x83â\\x82ã\\x83â\\x82â\\x82ã\\x83â\\x83â\\x83ã\\x83â\\x82â\\x82ã\\x83â\\x83â\\x82ã\\x83â\\x82â\\x92s at steak and steakalypse now and both tasted good although we werenã\\x83â\\x83â\\x83ã\\x83â\\x82â\\x83ã\\x83â\\x83â\\x82ã\\x83â\\x82â\\x82ã\\x83â\\x83â\\x83ã\\x83â\\x82â\\x82ã\\x83â\\x83â\\x82ã\\x83â\\x82â\\x92t too happy with chilli shrimp starter that we had ordered as they didnã\\x83â\\x83â\\x83ã\\x83â\\x82â\\x83ã\\x83â\\x83â\\x82ã\\x83â\\x82â\\x82ã\\x83â\\x83â\\x83ã\\x83â\\x82â\\x82ã\\x83â\\x83â\\x82ã\\x83â\\x82â\\x92t taste fresh . the owner was accommodating enough to replace the shrimp starter with a different dish . the ambience was chill and staff were perfectly attentive. funnily the mashed potatoes stole the show for me !',\n",
       " 'i happened to visit this place on my recent trip to bangalore. we were a group of 6 and we had ordered a lot of dishes. i am unable to recall the names of most dishes but we had ordered baby back ribs, mojitos, shakes and steaks. the service was great and i an looking forward to more visits. i forgot to click photos in all the excitement..',\n",
       " 'this is absolute heaven for the carnivores - its some of the best meat i have had for a long time in bangalore. ordered the platter - which came with chicken wings, stir-fried beef and pork chops - we wanted some seafood - so spoke to the owner - nishant - and he was super helpful and threw in a bunch of grilled prawns too. the chicken wings were juicy and well seasoned. the stir fried beef was yummy as were the prawns which were served with a nice spicy chimichuri - but the highlight was the pork chops - yummy and finger licking good - cooked extremely well .\\r\\nmain course was the pork burger with an extra egg and bacon - the pork was nice and chunky - not the usual mince patty one gets everywhere and the bacon was cooked to perfection. \\r\\nthis is definitely a place i shall visit as i can hear a medium rare steak calling out to me.',\n",
       " 'this was a perfect weekend lunch. we went a little early so were seated immediately. despite going early, most tables were occupied which shows the popularity of the restaurant. we ordered the chicken cheese onion rings which were mind blowing. even the sauce accompaniment had a subtle taste. for main course, we had the beef mince burger with jack danielã\\x83â\\x83â\\x83ã\\x83â\\x82â\\x83ã\\x83â\\x83â\\x82ã\\x83â\\x82â\\x82ã\\x83â\\x83â\\x83ã\\x83â\\x82â\\x82ã\\x83â\\x83â\\x82ã\\x83â\\x82â\\x92s sauce. the burger was succulent and moist and the bun was so soft. for my kid we ordered the chicken mince burger without any sauce and that to tasted good. my kid is a fussy eater but loved the burger. we also ordered the django unsteaked. the steak we asked for medium rare and it was cooked just right. the pepper sauce was really good we asked for an extra helping. the owner takes particular interest and recommends the right dishes. like i said a wonderful weekend lunch.\\r\\n\\r\\nonly drawback you need to hunt the neighbourhood for a parking spot which takes time',\n",
       " 'seems like one of the well off restaurants in hsr. it kinda gives a posh vibe. the food is good, both quantity and quality wise.\\r\\nrecommend dishes - spaghetti bolognese, chicken mince burger, all mushy ã\\x83â\\x83â\\x83ã\\x83â\\x82â\\x83ã\\x83â\\x83â\\x82ã\\x83â\\x82â\\x82ã\\x83â\\x83â\\x83ã\\x83â\\x82â\\x82ã\\x83â\\x83â\\x82ã\\x83â\\x82â\\x91bout you, captain jackã\\x83â\\x83â\\x83ã\\x83â\\x82â\\x83ã\\x83â\\x83â\\x82ã\\x83â\\x82â\\x82ã\\x83â\\x83â\\x83ã\\x83â\\x82â\\x82ã\\x83â\\x83â\\x82ã\\x83â\\x82â\\x92s special.',\n",
       " '30-08-2018. lunch time. absolutely loved the place, not much lights yet ? brightened up the place. staff were perfect, they really served us royally since the first_step_in & the last_step_out. 10/10 for them. wedges with spicy red chilli was not really spicy though, it was more like a regular wedges with chilli tasted sauce but not spicy. sizzling steak tasted top class along with the sauce. and last but not the least, monkey trouble was amazing, really liked the blend it was made and oh! that peanut butter was rich init. totally worth it. thanks zomato for 1+1. until next time #onceuponaflame. nice name ?',\n",
       " 'i happened to visit this place on my recent trip to bangalore. we were a group of 6 and we had ordered a lot of dishes. i am unable to recall the names of most dishes but we had ordered baby back ribs, mojitos, shakes and steaks. the service was great and i an looking forward to more visits. i forgot to click photos in all the excitement..',\n",
       " 'this is absolute heaven for the carnivores - its some of the best meat i have had for a long time in bangalore. ordered the platter - which came with chicken wings, stir-fried beef and pork chops - we wanted some seafood - so spoke to the owner - nishant - and he was super helpful and threw in a bunch of grilled prawns too. the chicken wings were juicy and well seasoned. the stir fried beef was yummy as were the prawns which were served with a nice spicy chimichuri - but the highlight was the pork chops - yummy and finger licking good - cooked extremely well .\\r\\nmain course was the pork burger with an extra egg and bacon - the pork was nice and chunky - not the usual mince patty one gets everywhere and the bacon was cooked to perfection. \\r\\nthis is definitely a place i shall visit as i can hear a medium rare steak calling out to me.',\n",
       " 'this was a perfect weekend lunch. we went a little early so were seated immediately. despite going early, most tables were occupied which shows the popularity of the restaurant. we ordered the chicken cheese onion rings which were mind blowing. even the sauce accompaniment had a subtle taste. for main course, we had the beef mince burger with jack danielã\\x83â\\x83â\\x83ã\\x83â\\x82â\\x83ã\\x83â\\x83â\\x82ã\\x83â\\x82â\\x82ã\\x83â\\x83â\\x83ã\\x83â\\x82â\\x82ã\\x83â\\x83â\\x82ã\\x83â\\x82â\\x92s sauce. the burger was succulent and moist and the bun was so soft. for my kid we ordered the chicken mince burger without any sauce and that to tasted good. my kid is a fussy eater but loved the burger. we also ordered the django unsteaked. the steak we asked for medium rare and it was cooked just right. the pepper sauce was really good we asked for an extra helping. the owner takes particular interest and recommends the right dishes. like i said a wonderful weekend lunch.\\r\\n\\r\\nonly drawback you need to hunt the neighbourhood for a parking spot which takes time',\n",
       " 'seems like one of the well off restaurants in hsr. it kinda gives a posh vibe. the food is good, both quantity and quality wise.\\r\\nrecommend dishes - spaghetti bolognese, chicken mince burger, all mushy ã\\x83â\\x83â\\x83ã\\x83â\\x82â\\x83ã\\x83â\\x83â\\x82ã\\x83â\\x82â\\x82ã\\x83â\\x83â\\x83ã\\x83â\\x82â\\x82ã\\x83â\\x83â\\x82ã\\x83â\\x82â\\x91bout you, captain jackã\\x83â\\x83â\\x83ã\\x83â\\x82â\\x83ã\\x83â\\x83â\\x82ã\\x83â\\x82â\\x82ã\\x83â\\x83â\\x83ã\\x83â\\x82â\\x82ã\\x83â\\x83â\\x82ã\\x83â\\x82â\\x92s special.',\n",
       " '30-08-2018. lunch time. absolutely loved the place, not much lights yet ? brightened up the place. staff were perfect, they really served us royally since the first_step_in & the last_step_out. 10/10 for them. wedges with spicy red chilli was not really spicy though, it was more like a regular wedges with chilli tasted sauce but not spicy. sizzling steak tasted top class along with the sauce. and last but not the least, monkey trouble was amazing, really liked the blend it was made and oh! that peanut butter was rich init. totally worth it. thanks zomato for 1+1. until next time #onceuponaflame. nice name ?',\n",
       " 'i happened to visit this place on my recent trip to bangalore. we were a group of 6 and we had ordered a lot of dishes. i am unable to recall the names of most dishes but we had ordered baby back ribs, mojitos, shakes and steaks. the service was great and i an looking forward to more visits. i forgot to click photos in all the excitement..',\n",
       " 'this is absolute heaven for the carnivores - its some of the best meat i have had for a long time in bangalore. ordered the platter - which came with chicken wings, stir-fried beef and pork chops - we wanted some seafood - so spoke to the owner - nishant - and he was super helpful and threw in a bunch of grilled prawns too. the chicken wings were juicy and well seasoned. the stir fried beef was yummy as were the prawns which were served with a nice spicy chimichuri - but the highlight was the pork chops - yummy and finger licking good - cooked extremely well .\\r\\nmain course was the pork burger with an extra egg and bacon - the pork was nice and chunky - not the usual mince patty one gets everywhere and the bacon was cooked to perfection. \\r\\nthis is definitely a place i shall visit as i can hear a medium rare steak calling out to me.',\n",
       " 'this was a perfect weekend lunch. we went a little early so were seated immediately. despite going early, most tables were occupied which shows the popularity of the restaurant. we ordered the chicken cheese onion rings which were mind blowing. even the sauce accompaniment had a subtle taste. for main course, we had the beef mince burger with jack danielã\\x83â\\x83â\\x83ã\\x83â\\x82â\\x83ã\\x83â\\x83â\\x82ã\\x83â\\x82â\\x82ã\\x83â\\x83â\\x83ã\\x83â\\x82â\\x82ã\\x83â\\x83â\\x82ã\\x83â\\x82â\\x92s sauce. the burger was succulent and moist and the bun was so soft. for my kid we ordered the chicken mince burger without any sauce and that to tasted good. my kid is a fussy eater but loved the burger. we also ordered the django unsteaked. the steak we asked for medium rare and it was cooked just right. the pepper sauce was really good we asked for an extra helping. the owner takes particular interest and recommends the right dishes. like i said a wonderful weekend lunch.\\r\\n\\r\\nonly drawback you need to hunt the neighbourhood for a parking spot which takes time',\n",
       " 'seems like one of the well off restaurants in hsr. it kinda gives a posh vibe. the food is good, both quantity and quality wise.\\r\\nrecommend dishes - spaghetti bolognese, chicken mince burger, all mushy ã\\x83â\\x83â\\x83ã\\x83â\\x82â\\x83ã\\x83â\\x83â\\x82ã\\x83â\\x82â\\x82ã\\x83â\\x83â\\x83ã\\x83â\\x82â\\x82ã\\x83â\\x83â\\x82ã\\x83â\\x82â\\x91bout you, captain jackã\\x83â\\x83â\\x83ã\\x83â\\x82â\\x83ã\\x83â\\x83â\\x82ã\\x83â\\x82â\\x82ã\\x83â\\x83â\\x83ã\\x83â\\x82â\\x82ã\\x83â\\x83â\\x82ã\\x83â\\x82â\\x92s special.',\n",
       " '30-08-2018. lunch time. absolutely loved the place, not much lights yet ? brightened up the place. staff were perfect, they really served us royally since the first_step_in & the last_step_out. 10/10 for them. wedges with spicy red chilli was not really spicy though, it was more like a regular wedges with chilli tasted sauce but not spicy. sizzling steak tasted top class along with the sauce. and last but not the least, monkey trouble was amazing, really liked the blend it was made and oh! that peanut butter was rich init. totally worth it. thanks zomato for 1+1. until next time #onceuponaflame. nice name ?',\n",
       " 'the steaks are awesome added with an amazingly tasting mashed potato. the staffs are very friendly and courteous. would surely recommend others to give it a shot.',\n",
       " 'my very first steak ð\\x9f¥© try! worth the hype, tried cottage cheese steaks. fresh and yummy cottage ? cheese with veggies and jack daniels sauce. thumbs up for the starter too(potato wedges). did not like the drink, even the mint was artificial essence.',\n",
       " 'if you are craving for some sizzler or steak, then this is the right place to visit. went here for lunch. we ordered the pepper trial - which was basically grilled chicken with garlic pepper sauce and sin by fire - which was chicken steak with hot paprika sauce. it was served with rice, vegetables and mashed potatoes. the food was great. and the ambience was also awesome. the staffs here are very attentive and the service was the best!',\n",
       " 'the steaks are awesome added with an amazingly tasting mashed potato. the staffs are very friendly and courteous. would surely recommend others to give it a shot.',\n",
       " 'my very first steak ð\\x9f¥© try! worth the hype, tried cottage cheese steaks. fresh and yummy cottage ? cheese with veggies and jack daniels sauce. thumbs up for the starter too(potato wedges). did not like the drink, even the mint was artificial essence.',\n",
       " 'if you are craving for some sizzler or steak, then this is the right place to visit. went here for lunch. we ordered the pepper trial - which was basically grilled chicken with garlic pepper sauce and sin by fire - which was chicken steak with hot paprika sauce. it was served with rice, vegetables and mashed potatoes. the food was great. and the ambience was also awesome. the staffs here are very attentive and the service was the best!',\n",
       " 'the steaks are awesome added with an amazingly tasting mashed potato. the staffs are very friendly and courteous. would surely recommend others to give it a shot.',\n",
       " 'my very first steak ð\\x9f¥© try! worth the hype, tried cottage cheese steaks. fresh and yummy cottage ? cheese with veggies and jack daniels sauce. thumbs up for the starter too(potato wedges). did not like the drink, even the mint was artificial essence.',\n",
       " 'if you are craving for some sizzler or steak, then this is the right place to visit. went here for lunch. we ordered the pepper trial - which was basically grilled chicken with garlic pepper sauce and sin by fire - which was chicken steak with hot paprika sauce. it was served with rice, vegetables and mashed potatoes. the food was great. and the ambience was also awesome. the staffs here are very attentive and the service was the best!',\n",
       " 'the steaks are awesome added with an amazingly tasting mashed potato. the staffs are very friendly and courteous. would surely recommend others to give it a shot.',\n",
       " 'my very first steak ð\\x9f¥© try! worth the hype, tried cottage cheese steaks. fresh and yummy cottage ? cheese with veggies and jack daniels sauce. thumbs up for the starter too(potato wedges). did not like the drink, even the mint was artificial essence.',\n",
       " 'if you are craving for some sizzler or steak, then this is the right place to visit. went here for lunch. we ordered the pepper trial - which was basically grilled chicken with garlic pepper sauce and sin by fire - which was chicken steak with hot paprika sauce. it was served with rice, vegetables and mashed potatoes. the food was great. and the ambience was also awesome. the staffs here are very attentive and the service was the best!',\n",
       " 'the food was good. the ambience is soothing. the menu is well organised. the drinks are quite inovative and tasty.\\r\\nfood: 4/5\\r\\nambience: 3/5\\r\\nservice: 4.5/5\\r\\nvalue for money: 4/5',\n",
       " 'this place is not at all crowded. food is not at all spicy. most of the foods are bland in taste. price is bit high i feel compared to food.',\n",
       " \"can't say that i've become a fan of this place but yes i've liked almost 80% of what we had ordered. since we were a group of 11 member, we tried different types of steaks here along with both veg and non-veg starter platter. both were nice and yummy and in good quantity but there was something wrong with the prawns in non-veg platter which was either under cooked or were not fresh. the fish steaks were all good where as the chicken was a bit hard. interior is pretty and the staffs are nice. they even offered us a caramel custard complementary. overall it was nice to be there.\",\n",
       " \"i ordered chicken dum biriyani and punjabi butter milk from here yesterday through uber eats. i think the quantity was really good for 99 rs and the taste was also okay. when i saw the box with biriyani i was so happy as the quantity looked good. but then after opening it i was first disappointed as it didn't look like biriyani at all. but then the taste was quite good, so that's fine. i don't think i'll order from here again.\",\n",
       " 'i wish the taste of the coffee matched upto the ambience of this place.\\r\\ni felt the coffee was overpriced and dry fruit milk shake was very plain.',\n",
       " 'chilli chicken gravy, chilli garlic fried rice and chicken manchurian! a small place, but very very nice chinese food. would recommend this place to all. pocket friendly aswel!',\n",
       " 'this place being close by to my work place , i have been here many times already.\\r\\non my first few visits i noticed that the service was sloppy . but now the service has improved a lot .\\r\\nthe must try food items here are the chicken wings and the chicken momos.\\r\\nand everything else here on the menu is yummy! i totally recommend this restaurant .\\r\\n\\r\\ninfornicle.com',\n",
       " \"really good service! quantity of the dishes were also good. ambience quiet and peaceful! good music choice. will visit again for sure.. it's a good place for a group of friends to hangout! will recommend others!\",\n",
       " 'i heard about this place from my friends. very nice place and nice food and excellent service. i really enjoyed there. they are doing great job, keep it up, see u again.\\r\\nfood --5\\r\\nservice--5',\n",
       " 'this is a good place to dine. they have there waiters perfectly explaining the food . they give a welcome through a snacks or cold drinks. tried there tandoori fish which was excellent, hariyali fish which was bit spicy. then tried the mutton byriyani and kulfi . had a good dining experience.',\n",
       " 'one of the best restruants in double road shantinagar\\r\\nwe are visited a tuesday dineer food is excellent service also good must try on the food\\r\\ntandoori ? chicken\\r\\nbutter chicken with garlic naan',\n",
       " 'ordered paneer parantha , it was worth money. taste was authentic rajasthani , home made taste. delicious and yummy. was missing this taste.',\n",
       " 'paneer paratha is really really good.\\r\\nordered online as well as went to eat as well. not sure about other stuff but paneer paratha is worth it.',\n",
       " 'best dal bati in bangalore. it is very hard to find a good home style dal bati here in bangalore and i must say this is best place for it. from past three continuous weeks i am ordering dal bati from this place.\\r\\n\\r\\nhomely taste, value for money what else you want',\n",
       " 'quantity is good.',\n",
       " 'such an awesome place!! staff is very very humble and polite. and sweet waffles are just amazing. its in the food court of vega city mall hence seating arrangement is in the common space of food court. i would like to try their normal waffles next time. a must go place and specially try nutella waffle',\n",
       " \"the waffles are a bit dry and they look good but aren't as delicious in taste. i asked for a second serving of chocolate sauce, which they were happy to provide, but that too did not help.\\r\\ntry with some other toppings and you might have a better luck.\",\n",
       " \"wonderful place. had strawberry hong kong and smoothies with my wife. it was delicious. i'm willing to try chocolate and oreo flavours once i visit again. kudos!\",\n",
       " 'we went to the stall at vega city mall. the oreo shake was good, the cappuccino was okayish. they can improve on the taste, i feel. it can get better with service as well!',\n",
       " \"this place is located in vega city mall and serves such amazing waffles that you can't hv them just once.\\r\\n\\r\\nthe waffles are so tasty and yummy that you go into a different dimension altogether.\\r\\n\\r\\nthe pricing is very reasonable.\\r\\n\\r\\nthe staff was very courteous.\",\n",
       " 'a wide variety of delicious waffles are served here . chocolate omg is my favourite. best waffles in town. they gives choice of waffles with ice cream scoops of any flavour, also sandwich waffle is worth tasting here for all salty tongues',\n",
       " 'worst place ever.people are really ill-mannered.they misbehave and criticize the customers specially with woman customer. my scarf and helmet was kept on other table and i was having my snacks on the nearby table as there was no place in my table..the helpers there took it to clean there place.so so ridiculous..and the owner was supporting them.being oriya i feel ashamed to come to this place as this is a place known for bengali and oriya cuisines',\n",
       " 'food- 3.5/5\\r\\nambience - 3.5/5\\r\\nprice- 4/5\\r\\n\\r\\n the place is near to hsr agara circle and hanuman statue. this restaurant does not have any seating arrangement, either you parcel it or you have the food by standing there.they serve only pure veg without onion or garlic. i tried their dahi bada for first time with potato sabji. generally we have dahi vada with dahi and chatni but they serves it along with potato sabji that i donã\\x83â\\x83â\\x83ã\\x83â\\x82â\\x83ã\\x83â\\x83â\\x82ã\\x83â\\x82â\\x82ã\\x83â\\x83â\\x83ã\\x83â\\x82â\\x82ã\\x83â\\x83â\\x82ã\\x83â\\x82â\\x92t like it. cabbage pakoda was decent so as potato chop (spicy potato stuffed deep into chickpea flour batter and deep fry). they have many varity in sweets section. the rabdi was so good but i donã\\x83â\\x83â\\x83ã\\x83â\\x82â\\x83ã\\x83â\\x83â\\x82ã\\x83â\\x82â\\x82ã\\x83â\\x83â\\x83ã\\x83â\\x82â\\x82ã\\x83â\\x83â\\x82ã\\x83â\\x82â\\x92t like their jalebi, it was not that crunchy and the sweet syrup not soaked it properly. we had enough food that day so parcel their famous khaja and bari (dried lentil dumpling), and they are pretty good.',\n",
       " 'expensive without reason, quality of oil used to fry and cook stuff is not good. in the name of authentic odia food these folks are sucking people out without focussing on quality. one star ...',\n",
       " 'this a cozy outlet serving mouth watering odia delicacies without onion and garlic. sweets are not that great\\r\\n\\r\\ntip: try samosa chaat which can be quite filling.',\n",
       " 'very good place for odisha and bengal sweets and snacks. served veg meal also without onion and garlic. served dahi bara and aludum also. staff behavior is very good. been to this place a lot of time',\n",
       " \"sweets aren't really great. sometime they've served me old stale sweets.. not really happy with the quality provided. sometimes the sale happens only on the reason of close proximity to all the temples\",\n",
       " \"they are selling very less quality sweets. mostly added condiments/test flavour powders. they even sometimes give 1week old sweets to customer.\\r\\n\\r\\nchennapoda : full of suji ..no chennai\\r\\nberfi :items are waste. all flover added.\\r\\n\\r\\ntwo guys owns the shop. hara is one of them . once he had misbehaved with us . he got third class attitude. they don't respect customers.\",\n",
       " 'good sweets and savories try once and u will know\\r\\ni tried they are good taste of sweets are fabulous if ur bored with regular try these sweets',\n",
       " 'good sweet shop. their best product is chana pora. must try dish. they do serve namkin snacks also. hygiene well. maintained. good variety. they accept card also. located just behind jaganath temple. ample parking',\n",
       " \"5* for the rasogolla.. it is a treat to your test buds ..\\r\\nthe authentic odia breakfast made my day..\\r\\nthe 'rabidi' you will get here so far nowhere in bangalore..\\r\\nlov the food .\",\n",
       " 'this is not a restruant, just a sweet shop. they claim to be an authentic odia sweet shop,but the fact is you will not find any authenticity of odia food except those names.\\r\\nadvice not to waste time and money on this place.',\n",
       " \"this is a place i know where odia sweets, snacks and chat items are available.\\r\\nambiance is not great but if you are looking for food and only odia food then it's the place to be.\\r\\nall odia sweets, badi, puffed rice etc are available. my favourite is dahi bara aloo dum and bara googni (vada and white peas curry) is a must have.\",\n",
       " 'since this place is right next to the jagannath mandir, we happen to come here whenever we pay a visit to the temple.we usually go for takeaways or quick snacks.\\r\\n\\r\\nthe samosas are our favorites here, crunchy and tasty, typically made in a north indian style. the filling consists of sliced potatoes and veggies instead of mashed potatoes. this adds a different kind of flavor to the samosas. :)\\r\\n\\r\\nthe sweets are good, i like the khajas and jamuns. the chena-poda tasted about ok, not so great. ...\\r\\nread full post on xylo742.blogspot.com',\n",
       " 'review for sweets + meals.\\r\\nsweets... really awesome, must try is chenapoda (i hope i am spelling it right) ...\\r\\nmeals. thali is jain kind, everything is plain and might taste dull. but food is good , quantity is good.\\r\\nno seating, stand and eat.\\r\\nraiting for.sweets and food.',\n",
       " 'as away from home i was missing odiya food for a long time,by chance i came across this place.this is a really good place to have odiya breakfast such as bara,alu chop, samosa,dahi bara,alu dum and ghuguni.the variety of sweets are also really good.only thing is that the prices are very high.but nevertheless the items are really good in taste and i love visiting this place again and again.',\n",
       " 'this is not a restruant, just a sweet shop. they claim to be an authentic odia sweet shop,but the fact is you will not find any authenticity of odia food except those names.\\r\\nadvice not to waste time and money on this place.',\n",
       " \"this is a place i know where odia sweets, snacks and chat items are available.\\r\\nambiance is not great but if you are looking for food and only odia food then it's the place to be.\\r\\nall odia sweets, badi, puffed rice etc are available. my favourite is dahi bara aloo dum and bara googni (vada and white peas curry) is a must have.\",\n",
       " 'since this place is right next to the jagannath mandir, we happen to come here whenever we pay a visit to the temple.we usually go for takeaways or quick snacks.\\r\\n\\r\\nthe samosas are our favorites here, crunchy and tasty, typically made in a north indian style. the filling consists of sliced potatoes and veggies instead of mashed potatoes. this adds a different kind of flavor to the samosas. :)\\r\\n\\r\\nthe sweets are good, i like the khajas and jamuns. the chena-poda tasted about ok, not so great. ...\\r\\nread full post on xylo742.blogspot.com',\n",
       " 'review for sweets + meals.\\r\\nsweets... really awesome, must try is chenapoda (i hope i am spelling it right) ...\\r\\nmeals. thali is jain kind, everything is plain and might taste dull. but food is good , quantity is good.\\r\\nno seating, stand and eat.\\r\\nraiting for.sweets and food.',\n",
       " 'as away from home i was missing odiya food for a long time,by chance i came across this place.this is a really good place to have odiya breakfast such as bara,alu chop, samosa,dahi bara,alu dum and ghuguni.the variety of sweets are also really good.only thing is that the prices are very high.but nevertheless the items are really good in taste and i love visiting this place again and again.',\n",
       " 'very authentic sweets (awesome variety), singada (samosa), guguni (green peas curry) .. and ... lots more.\\r\\ni found the place to be quite hygenic...\\r\\n\\r\\nonly unhappiness is .. why did they close their btm 2nd stage branch permanently.. we have to come to hsr for authentic odia sweets... \\r\\n\\r\\nkeep up the good quality.',\n",
       " \"being able to taste authentic odia sweet delicacies is a really good feeling. 56 bhog totally mastered that part. a small outlet, no place to sit n dine, it's a kind of grab n go place. but totally value for money. you can get nice n hot samosas, kachoris, aalo chops (as we typically call in back home). along with some real nice sweets form eastern part of the country.\\r\\n\\r\\neatcapturetravel.wordpress.com\",\n",
       " \"this shop is near btm 2nd stage. may be another outlet. i didn't like the sweets.. at all. ordered pedha. rasgulla was ok ok. too sweet. i won't recommend\",\n",
       " 'amazing rasugulla from here! its so soft and spongey!\\r\\norder 100 from them! they delivered on time! all were hot & fresh!\\r\\nso happy from the hospitality and the taste is so yum along with it comes in budget for big order too!\\r\\nthanks',\n",
       " \"it's not a restaurant but a worst  sweet shop. not at all authentic odia sweet. whether breakfast or evening snacks ,you won't get taste. better don't waste your money.\",\n",
       " 'situated just beside the jaganath temple in hsr layout it is the second time i went here... notin special to mention my odia friend asked me to try the dahi aloo vada.. either my taste bud is not accustomed else the it wasnt made so well as i felt it was way too costly to be charged 35 rs and tried the samosa as well that too is very small compared to the other food joints of similar class.... guess its mostly for the odia people only who are missing their home food as they are the ones who form the main customer base of the shop.... try it if u want to try some bengali and odia sweets.... else can give a miss',\n",
       " 'the zomato information states that 56 bhog in hsr layout provides home delivery...but when i called up..the number was  picked up by a person who said he is out of station & so he told he would inform his team & arrange a call back. but no call came. i again called up. he said he has informed his team & i would receive a call back... but still no call....\\r\\n\\r\\neither publish/ provide the correct information on the zomato site or dont... why misguiding the customers & if home delivery is not there...even when called up why cant he say a simple no...which would suffice my question rather than making me wait & call up again & harass.. this is not done',\n",
       " \"finally odia style food joint in town i got. situated just beside of famous jagannath temple of bangalore. they have tasty sweets almost all delicacies from odisha and bengal. well, known for their uncompromised quality you may feel the rate is a little bit high but that is what don't want to compromise with the quality. you may find other foodstuffs here. but service is minimal and take away is the best option.\\r\\n\\r\\n   bon appetite @chef bb\\r\\n\\r\\nchefbb.in\",\n",
       " 'its just a small sweet shop.. nothing great.. the sweets are just average.. this place can be visited just for rasgullas.. rest of the items are just so so..',\n",
       " 'situated just beside the jaganath temple in hsr layout it is the second time i went here... notin special to mention my odia friend asked me to try the dahi aloo vada.. either my taste bud is not accustomed else the it wasnt made so well as i felt it was way too costly to be charged 35 rs and tried the samosa as well that too is very small compared to the other food joints of similar class.... guess its mostly for the odia people only who are missing their home food as they are the ones who form the main customer base of the shop.... try it if u want to try some bengali and odia sweets.... else can give a miss',\n",
       " 'the zomato information states that 56 bhog in hsr layout provides home delivery...but when i called up..the number was  picked up by a person who said he is out of station & so he told he would inform his team & arrange a call back. but no call came. i again called up. he said he has informed his team & i would receive a call back... but still no call....\\r\\n\\r\\neither publish/ provide the correct information on the zomato site or dont... why misguiding the customers & if home delivery is not there...even when called up why cant he say a simple no...which would suffice my question rather than making me wait & call up again & harass.. this is not done',\n",
       " \"finally odia style food joint in town i got. situated just beside of famous jagannath temple of bangalore. they have tasty sweets almost all delicacies from odisha and bengal. well, known for their uncompromised quality you may feel the rate is a little bit high but that is what don't want to compromise with the quality. you may find other foodstuffs here. but service is minimal and take away is the best option.\\r\\n\\r\\n   bon appetite @chef bb\\r\\n\\r\\nchefbb.in\",\n",
       " 'its just a small sweet shop.. nothing great.. the sweets are just average.. this place can be visited just for rasgullas.. rest of the items are just so so..',\n",
       " 'situated just beside the jaganath temple in hsr layout it is the second time i went here... notin special to mention my odia friend asked me to try the dahi aloo vada.. either my taste bud is not accustomed else the it wasnt made so well as i felt it was way too costly to be charged 35 rs and tried the samosa as well that too is very small compared to the other food joints of similar class.... guess its mostly for the odia people only who are missing their home food as they are the ones who form the main customer base of the shop.... try it if u want to try some bengali and odia sweets.... else can give a miss',\n",
       " 'the zomato information states that 56 bhog in hsr layout provides home delivery...but when i called up..the number was  picked up by a person who said he is out of station & so he told he would inform his team & arrange a call back. but no call came. i again called up. he said he has informed his team & i would receive a call back... but still no call....\\r\\n\\r\\neither publish/ provide the correct information on the zomato site or dont... why misguiding the customers & if home delivery is not there...even when called up why cant he say a simple no...which would suffice my question rather than making me wait & call up again & harass.. this is not done',\n",
       " \"finally odia style food joint in town i got. situated just beside of famous jagannath temple of bangalore. they have tasty sweets almost all delicacies from odisha and bengal. well, known for their uncompromised quality you may feel the rate is a little bit high but that is what don't want to compromise with the quality. you may find other foodstuffs here. but service is minimal and take away is the best option.\\r\\n\\r\\n   bon appetite @chef bb\\r\\n\\r\\nchefbb.in\",\n",
       " 'its just a small sweet shop.. nothing great.. the sweets are just average.. this place can be visited just for rasgullas.. rest of the items are just so so..',\n",
       " 'situated just beside the jaganath temple in hsr layout it is the second time i went here... notin special to mention my odia friend asked me to try the dahi aloo vada.. either my taste bud is not accustomed else the it wasnt made so well as i felt it was way too costly to be charged 35 rs and tried the samosa as well that too is very small compared to the other food joints of similar class.... guess its mostly for the odia people only who are missing their home food as they are the ones who form the main customer base of the shop.... try it if u want to try some bengali and odia sweets.... else can give a miss',\n",
       " 'the zomato information states that 56 bhog in hsr layout provides home delivery...but when i called up..the number was  picked up by a person who said he is out of station & so he told he would inform his team & arrange a call back. but no call came. i again called up. he said he has informed his team & i would receive a call back... but still no call....\\r\\n\\r\\neither publish/ provide the correct information on the zomato site or dont... why misguiding the customers & if home delivery is not there...even when called up why cant he say a simple no...which would suffice my question rather than making me wait & call up again & harass.. this is not done',\n",
       " \"finally odia style food joint in town i got. situated just beside of famous jagannath temple of bangalore. they have tasty sweets almost all delicacies from odisha and bengal. well, known for their uncompromised quality you may feel the rate is a little bit high but that is what don't want to compromise with the quality. you may find other foodstuffs here. but service is minimal and take away is the best option.\\r\\n\\r\\n   bon appetite @chef bb\\r\\n\\r\\nchefbb.in\",\n",
       " 'its just a small sweet shop.. nothing great.. the sweets are just average.. this place can be visited just for rasgullas.. rest of the items are just so so..',\n",
       " 'situated just beside the jaganath temple in hsr layout it is the second time i went here... notin special to mention my odia friend asked me to try the dahi aloo vada.. either my taste bud is not accustomed else the it wasnt made so well as i felt it was way too costly to be charged 35 rs and tried the samosa as well that too is very small compared to the other food joints of similar class.... guess its mostly for the odia people only who are missing their home food as they are the ones who form the main customer base of the shop.... try it if u want to try some bengali and odia sweets.... else can give a miss',\n",
       " 'the zomato information states that 56 bhog in hsr layout provides home delivery...but when i called up..the number was  picked up by a person who said he is out of station & so he told he would inform his team & arrange a call back. but no call came. i again called up. he said he has informed his team & i would receive a call back... but still no call....\\r\\n\\r\\neither publish/ provide the correct information on the zomato site or dont... why misguiding the customers & if home delivery is not there...even when called up why cant he say a simple no...which would suffice my question rather than making me wait & call up again & harass.. this is not done',\n",
       " \"finally odia style food joint in town i got. situated just beside of famous jagannath temple of bangalore. they have tasty sweets almost all delicacies from odisha and bengal. well, known for their uncompromised quality you may feel the rate is a little bit high but that is what don't want to compromise with the quality. you may find other foodstuffs here. but service is minimal and take away is the best option.\\r\\n\\r\\n   bon appetite @chef bb\\r\\n\\r\\nchefbb.in\",\n",
       " 'its just a small sweet shop.. nothing great.. the sweets are just average.. this place can be visited just for rasgullas.. rest of the items are just so so..',\n",
       " \"loved the chena podo and the chena goja. had it after long time. these are 2 delicacies which are unique to odissa. these may not be as good as the ones in cuttuck dhenkanal belt, but definitely enjoyable in bangalore.\\r\\n\\r\\nit's a road side sweet shop next to lord jagannath temple in hsr layout. will be visiting again to taste the snacks\",\n",
       " \"i would rather give 0 on the scale, however unfortunately it's not there on the scale yet. all you get at his stinky place is stale, rotten and days old sweets and snacks. the food items are completely soaked in unhealthy oil. famous dahi vada's dahi was horribly sour. samosas stuffing were stale and bitter in taste.\\r\\ni wouldn't recommend this place to anybody. save your money and your health by avoiding this place.\",\n",
       " 'i love their samosa and several times have landed there at 4pm just so that i can grab a few before they get over. recently, they have opened up in sarjapur road and the veg thali at rs 60/- is a steal. the ras malai is okay but the chena podo can be better or may be i am comparing with what you get in bhubaneswar.  the rating is purely for the veg thali else it will be a 3.\\r\\n\\r\\nlifeisavacation.in',\n",
       " \"loved the chena podo and the chena goja. had it after long time. these are 2 delicacies which are unique to odissa. these may not be as good as the ones in cuttuck dhenkanal belt, but definitely enjoyable in bangalore.\\r\\n\\r\\nit's a road side sweet shop next to lord jagannath temple in hsr layout. will be visiting again to taste the snacks\",\n",
       " \"i would rather give 0 on the scale, however unfortunately it's not there on the scale yet. all you get at his stinky place is stale, rotten and days old sweets and snacks. the food items are completely soaked in unhealthy oil. famous dahi vada's dahi was horribly sour. samosas stuffing were stale and bitter in taste.\\r\\ni wouldn't recommend this place to anybody. save your money and your health by avoiding this place.\",\n",
       " 'i love their samosa and several times have landed there at 4pm just so that i can grab a few before they get over. recently, they have opened up in sarjapur road and the veg thali at rs 60/- is a steal. the ras malai is okay but the chena podo can be better or may be i am comparing with what you get in bhubaneswar.  the rating is purely for the veg thali else it will be a 3.\\r\\n\\r\\nlifeisavacation.in',\n",
       " \"loved the chena podo and the chena goja. had it after long time. these are 2 delicacies which are unique to odissa. these may not be as good as the ones in cuttuck dhenkanal belt, but definitely enjoyable in bangalore.\\r\\n\\r\\nit's a road side sweet shop next to lord jagannath temple in hsr layout. will be visiting again to taste the snacks\",\n",
       " \"i would rather give 0 on the scale, however unfortunately it's not there on the scale yet. all you get at his stinky place is stale, rotten and days old sweets and snacks. the food items are completely soaked in unhealthy oil. famous dahi vada's dahi was horribly sour. samosas stuffing were stale and bitter in taste.\\r\\ni wouldn't recommend this place to anybody. save your money and your health by avoiding this place.\",\n",
       " 'i love their samosa and several times have landed there at 4pm just so that i can grab a few before they get over. recently, they have opened up in sarjapur road and the veg thali at rs 60/- is a steal. the ras malai is okay but the chena podo can be better or may be i am comparing with what you get in bhubaneswar.  the rating is purely for the veg thali else it will be a 3.\\r\\n\\r\\nlifeisavacation.in',\n",
       " \"loved the chena podo and the chena goja. had it after long time. these are 2 delicacies which are unique to odissa. these may not be as good as the ones in cuttuck dhenkanal belt, but definitely enjoyable in bangalore.\\r\\n\\r\\nit's a road side sweet shop next to lord jagannath temple in hsr layout. will be visiting again to taste the snacks\",\n",
       " \"i would rather give 0 on the scale, however unfortunately it's not there on the scale yet. all you get at his stinky place is stale, rotten and days old sweets and snacks. the food items are completely soaked in unhealthy oil. famous dahi vada's dahi was horribly sour. samosas stuffing were stale and bitter in taste.\\r\\ni wouldn't recommend this place to anybody. save your money and your health by avoiding this place.\",\n",
       " 'i love their samosa and several times have landed there at 4pm just so that i can grab a few before they get over. recently, they have opened up in sarjapur road and the veg thali at rs 60/- is a steal. the ras malai is okay but the chena podo can be better or may be i am comparing with what you get in bhubaneswar.  the rating is purely for the veg thali else it will be a 3.\\r\\n\\r\\nlifeisavacation.in',\n",
       " \"loved the chena podo and the chena goja. had it after long time. these are 2 delicacies which are unique to odissa. these may not be as good as the ones in cuttuck dhenkanal belt, but definitely enjoyable in bangalore.\\r\\n\\r\\nit's a road side sweet shop next to lord jagannath temple in hsr layout. will be visiting again to taste the snacks\",\n",
       " \"i would rather give 0 on the scale, however unfortunately it's not there on the scale yet. all you get at his stinky place is stale, rotten and days old sweets and snacks. the food items are completely soaked in unhealthy oil. famous dahi vada's dahi was horribly sour. samosas stuffing were stale and bitter in taste.\\r\\ni wouldn't recommend this place to anybody. save your money and your health by avoiding this place.\",\n",
       " 'i love their samosa and several times have landed there at 4pm just so that i can grab a few before they get over. recently, they have opened up in sarjapur road and the veg thali at rs 60/- is a steal. the ras malai is okay but the chena podo can be better or may be i am comparing with what you get in bhubaneswar.  the rating is purely for the veg thali else it will be a 3.\\r\\n\\r\\nlifeisavacation.in',\n",
       " 'my friend took me to this place.\\r\\nit was crowded and a had a lot of hustle bustle. i had the chenna poda sweet and it was amazing. it was like a milk cake but way better than that, also the light burn on it made it delicious.\\r\\ni had rabdi and aloo chat too. the chat was good and had lots of flavors in it. but the rabdi failed to catch up with others.',\n",
       " 'one of the best place for sweets and snacks.\\r\\nprices are on a higher side.if you want to taste authentic odia sweets and snacks, do try this place.\\r\\nwe had a dinner meal today as well and it was definitely the best homemade vegeterian odia food.\\r\\nthe curries were prepared without onion and garlic.\\r\\nthere is no place for seating, so either you have to stand and eat or you can always ask for take aways.\\r\\nmust try :-\\r\\n1. rabdi\\r\\n2.rasmalai\\r\\n3.rassagola\\r\\n4.gulab jamun\\r\\n5.mixture\\r\\n6.chats\\r\\nfood - 4/5\\r\\nambience - 3 /5\\r\\nservice - 3/5\\r\\nsunil kumar dash',\n",
       " 'good odia sweets and snacks. they also have good meals during lunch and dinner. all food made without onion and garlic. they gives a delicious flavour of real odia cuisine. they are more into sweets and snack.',\n",
       " 'worst place to be there ,peoples are less efficient and they just dont bother abt what u want rather just sneaking into ur pocket...\\r\\nmoney money money.....they just want .....and go to hell with the taste and behavior.....',\n",
       " 'this place is just amazing. it is so affordable and the food here is really tasty. had 4 5 dishes and they costed only 900 bucks. also not to forget this place has the cutest ambience.',\n",
       " 'hi all , we visited this place with friends and colleagues .its been renamed as bangalore masala house recently.\\r\\nwe ordered pizza and panner rolls ..pizza was soft and melting at mouth.but panned rolls was ok ok.\\r\\nserving time is more .so u have be bit patience.so overall good ambience.place for improvement',\n",
       " \"great place for the college people to hangout. loved the ambience. that doddle wall that attracts you as soon as you enter, those miniature toys in the shelves and those cages everything fantasised me so much to decorate my room the same way. coming to the food, it's great. really liked the amount that was served too. great service. will go back again!\",\n",
       " 'went there with friends. the place looks very amazing. concept is very nice. moreover they have so many food items with totally different combinations. we ordered masala guava juice, ferrero rotcher shake , nutella shake , manchurian pizza , masala maggi sandwich, a corn dish and a red velvet cupcake. shakes had the most beautiful presentation and tasted good too. personally my favourite was masala maggi sandwich. staff was also very polite.',\n",
       " \"ambience : 4.5/5\\r\\nfood : 4/5\\r\\nprices : 5/5\\r\\nservice : 4.5/5\\r\\nit is a cute little pocket friendly cafe.\\r\\nthe house full burger wasn't great but the pancakes were amazing.\",\n",
       " 'itã\\x83â\\x83â\\x83ã\\x83â\\x82â\\x83ã\\x83â\\x83â\\x82ã\\x83â\\x82â\\x83ã\\x83â\\x83â\\x83ã\\x83â\\x82â\\x82ã\\x83â\\x83â\\x82ã\\x83â\\x82ã\\x82â¢ã\\x83â\\x83â\\x83ã\\x83â\\x82â\\x83ã\\x83â\\x83â\\x82ã\\x83â\\x82â\\x82ã\\x83â\\x83â\\x83ã\\x83â\\x82â\\x82ã\\x83â\\x83â\\x82ã\\x83â\\x82â\\x80ã\\x83â\\x83â\\x83ã\\x83â\\x82â\\x83ã\\x83â\\x83â\\x82ã\\x83â\\x82â\\x82ã\\x83â\\x83â\\x83ã\\x83â\\x82â\\x82ã\\x83â\\x83â\\x82ã\\x83â\\x82â\\x99s a small place so you have to book a table in advance. the food is simply amazing and made with lot of love. the interiors remind you of punjabi dhaba. be it lassi, chicken curry, naan or desserts, everything was just delicious.',\n",
       " 'i read the zomato reviews and had went here for lunch, hoping to find some amazing food.\\r\\nbut the food here is not up to the mark. the only good thing was the corn cigars.\\r\\naam panna was a joke over here..the worst one.\\r\\nfood here is not at all spicy even though the menu claims it to be spicy. considering the quality of food, i found it over priced and overrated place.',\n",
       " 'tiny little dining but has enough to give you a restaurant feeling. well maintained small restaurant. very good service. had heard a lot about this place for north indian food and their starters. me and wife decided to order non veg platter which made us full and we had to leave without any main course. so my review is on starters only as i did not try their main course. starters were not upto the mark at all. meat was not fully tender and juicy. being a restaurant and with this price range for a platter you are supposed to provide authentic mouth watering kababs. fish was horrible and to my utter surprise seekh was cold. please take care of the starter quality. thank you.',\n",
       " \"had been here a few months back with my family. good north indian food and quite reasonably priced. if you happen to visit this place, you should try their dal makhani. it's just fantastic !!\",\n",
       " 'amazing food! enjoyed every bite. the place is little tiny and gets filled up really quickly. but it gives a homely vibes and the food is on point. the servers were very helpful and kind.\\r\\n\\r\\nambience : 4/5\\r\\nfood : 5/5\\r\\nservice : 4.5/5',\n",
       " \"love this place. have been here before as well. went today and finally got a chance to review it.\\r\\n\\r\\nbeing from delhi, i love my butter chicken. this was the first place i felt had decent butter chicken in south india.\\r\\n\\r\\nordered the butter chicken, aloo pepper and breads. the food was delicious as usual. if you like north indian food. this is the place!\\r\\n\\r\\nthe only drawback is that the restaurant itself if really small and hence you can have a big waiting time here if you're visiting on a weekend.\",\n",
       " 'went here for good north indian after noting such high ratings. the place looks decent and eye catching from outside. once inside it has an average vibe to it. staff is friendly and well informed. ordered mattar paneer, dal makhani and some breads. everything tasted above expectations so kudos to the chef. definitely recommended.',\n",
       " 'very good north indian food. the tandoori chicken, kababs and the the butter chicken was lip smacking and amazing. we thoroughly enjoyed the food here.',\n",
       " 'great little place to have proper north indian food. one suggestion before you go there do not order biriyani, you may order everything else. i would strongly recommend murg ka soola in starters and butter chicken.',\n",
       " \"it's been a very long time since i have been to this place. but this place used to be our saviour. this is one of the very few places i found, which was closest to the food you get in north. really good preparations they serve, ambience is very cozy and the service is great. there used to be 15-20 mins of waiting always whenever we used to go. planning to visit this place next time i visit bangalore. i will surely update this review and share some pics.\",\n",
       " 'staff courtesy - 5/5\\r\\nthe staff is extremely polite and courteous.\\r\\n\\r\\nfood\\r\\n1. murgh ka soola - 4.5/5 this super yummy starter is definitely worth trying.\\r\\n\\r\\n2. garlic naan, pudina kulcha - 3.5/5\\r\\n\\r\\n3. kadai murgh patiala - 3.5/5\\r\\n\\r\\nambience and cleanliness - 4/5\\r\\n\\r\\nto drink - we had sweet lassi would give it 4/5\\r\\n\\r\\nmust visit place if you are looking out to eat good north indian food :)',\n",
       " 'small fine dining experience. liked the food however plain rice served to me was little half cooked. service is decent. slightly expensive for the place. though the staff member would give you all the services of a fine dining experience.so thumbs up to them.\\r\\nfood - 3.5\\r\\nservice - 4\\r\\natmosphere & ambience - 4\\r\\ncost - 3.5',\n",
       " \"hi all,\\r\\n\\r\\nrecently i visited this restaurant with family... ambience is so nice, service also good\\r\\n\\r\\ni have tasted best chicken tandoori... it's well marinated and pieces are so soft and lassi also too gud\\r\\n\\r\\nbut we order ghee rice is ok ok... rest everything is tasty and yummy...\\r\\n\\r\\nif you want athenctic punjabi food there here ã\\x83â\\x83â\\x83ã\\x83â\\x82â\\x83ã\\x83â\\x83â\\x82ã\\x83â\\x82â\\x83ã\\x83â\\x83â\\x83ã\\x83â\\x82â\\x82ã\\x83â\\x83â\\x82ã\\x83â\\x82ã\\x82â°ã\\x83â\\x83â\\x83ã\\x83â\\x82â\\x83ã\\x83â\\x83â\\x82ã\\x83â\\x82â\\x82ã\\x83â\\x83â\\x83ã\\x83â\\x82â\\x82ã\\x83â\\x83â\\x82ã\\x83â\\x82â\\x9fã\\x83â\\x83â\\x83ã\\x83â\\x82â\\x83ã\\x83â\\x83â\\x82ã\\x83â\\x82â\\x82ã\\x83â\\x83â\\x83ã\\x83â\\x82â\\x82ã\\x83â\\x83â\\x82ã\\x83â\\x82â\\x98ã\\x83â\\x83â\\x83ã\\x83â\\x82â\\x83ã\\x83â\\x83â\\x82ã\\x83â\\x82â\\x82ã\\x83â\\x83â\\x83ã\\x83â\\x82â\\x82ã\\x83â\\x83â\\x82ã\\x83â\\x82â\\x8dã\\x83â\\x83â\\x83ã\\x83â\\x82â\\x83ã\\x83â\\x83â\\x82ã\\x83â\\x82â\\x83ã\\x83â\\x83â\\x83ã\\x83â\\x82â\\x82ã\\x83â\\x83â\\x82ã\\x83â\\x82ã\\x82â°ã\\x83â\\x83â\\x83ã\\x83â\\x82â\\x83ã\\x83â\\x83â\\x82ã\\x83â\\x82â\\x82ã\\x83â\\x83â\\x83ã\\x83â\\x82â\\x82ã\\x83â\\x83â\\x82ã\\x83â\\x82â\\x9fã\\x83â\\x83â\\x83ã\\x83â\\x82â\\x83ã\\x83â\\x83â\\x82ã\\x83â\\x82â\\x82ã\\x83â\\x83â\\x83ã\\x83â\\x82â\\x82ã\\x83â\\x83â\\x82ã\\x83â\\x82â\\x98ã\\x83â\\x83â\\x83ã\\x83â\\x82â\\x83ã\\x83â\\x83â\\x82ã\\x83â\\x82â\\x82ã\\x83â\\x83â\\x83ã\\x83â\\x82â\\x82ã\\x83â\\x83â\\x82ã\\x83â\\x82â\\x8dã\\x83â\\x83â\\x83ã\\x83â\\x82â\\x83ã\\x83â\\x83â\\x82ã\\x83â\\x82â\\x83ã\\x83â\\x83â\\x83ã\\x83â\\x82â\\x82ã\\x83â\\x83â\\x82ã\\x83â\\x82ã\\x82â°ã\\x83â\\x83â\\x83ã\\x83â\\x82â\\x83ã\\x83â\\x83â\\x82ã\\x83â\\x82â\\x82ã\\x83â\\x83â\\x83ã\\x83â\\x82â\\x82ã\\x83â\\x83â\\x82ã\\x83â\\x82â\\x9fã\\x83â\\x83â\\x83ã\\x83â\\x82â\\x83ã\\x83â\\x83â\\x82ã\\x83â\\x82â\\x82ã\\x83â\\x83â\\x83ã\\x83â\\x82â\\x82ã\\x83â\\x83â\\x82ã\\x83â\\x82â\\x98ã\\x83â\\x83â\\x83ã\\x83â\\x82â\\x83ã\\x83â\\x83â\\x82ã\\x83â\\x82â\\x82ã\\x83â\\x83â\\x83ã\\x83â\\x82â\\x82ã\\x83â\\x83â\\x82ã\\x83â\\x82â\\x8dã\\x83â\\x83â\\x83ã\\x83â\\x82â\\x83ã\\x83â\\x83â\\x82ã\\x83â\\x82â\\x83ã\\x83â\\x83â\\x83ã\\x83â\\x82â\\x82ã\\x83â\\x83â\\x82ã\\x83â\\x82ã\\x82â°ã\\x83â\\x83â\\x83ã\\x83â\\x82â\\x83ã\\x83â\\x83â\\x82ã\\x83â\\x82â\\x82ã\\x83â\\x83â\\x83ã\\x83â\\x82â\\x82ã\\x83â\\x83â\\x82ã\\x83â\\x82â\\x9fã\\x83â\\x83â\\x83ã\\x83â\\x82â\\x83ã\\x83â\\x83â\\x82ã\\x83â\\x82â\\x82ã\\x83â\\x83â\\x83ã\\x83â\\x82â\\x82ã\\x83â\\x83â\\x82ã\\x83â\\x82â\\x98ã\\x83â\\x83â\\x83ã\\x83â\\x82â\\x83ã\\x83â\\x83â\\x82ã\\x83â\\x82â\\x82ã\\x83â\\x83â\\x83ã\\x83â\\x82â\\x82ã\\x83â\\x83â\\x82ã\\x83â\\x82â\\x8dã\\x83â\\x83â\\x83ã\\x83â\\x82â\\x83ã\\x83â\\x83â\\x82ã\\x83â\\x82â\\x83ã\\x83â\\x83â\\x83ã\\x83â\\x82â\\x82ã\\x83â\\x83â\\x82ã\\x83â\\x82ã\\x82â°ã\\x83â\\x83â\\x83ã\\x83â\\x82â\\x83ã\\x83â\\x83â\\x82ã\\x83â\\x82â\\x82ã\\x83â\\x83â\\x83ã\\x83â\\x82â\\x82ã\\x83â\\x83â\\x82ã\\x83â\\x82â\\x9fã\\x83â\\x83â\\x83ã\\x83â\\x82â\\x83ã\\x83â\\x83â\\x82ã\\x83â\\x82â\\x82ã\\x83â\\x83â\\x83ã\\x83â\\x82â\\x82ã\\x83â\\x83â\\x82ã\\x83â\\x82â\\x98ã\\x83â\\x83â\\x83ã\\x83â\\x82â\\x83ã\\x83â\\x83â\\x82ã\\x83â\\x82â\\x82ã\\x83â\\x83â\\x83ã\\x83â\\x82â\\x82ã\\x83â\\x83â\\x82ã\\x83â\\x82â\\x8d\",\n",
       " \"a finest place to have north indian food. tried almost half the menu. the food is no doubt quite delicious, but a little disappointed on the portion size- specially the veg gravies for the prices which are being charged.\\r\\n\\r\\nthe service is quick and food is served hot and taste's right omits expectation.\\r\\n\\r\\nthe decor is quite relaxing.\",\n",
       " 'one of the place you should visit to eat, authentic north indian taste.\\r\\ncomplimentary papad with salad.\\r\\ni tried -\\r\\nchicken and tomato shorba - nice and thick- 5/5\\r\\npaneer tikka - 5/5\\r\\n\\r\\nambience - 5/5\\r\\nfood 5/5\\r\\nvalue for money - 5/5',\n",
       " 'there are 2 branches. this branch is very small. the pics in ambience has the pics of the other branch which is bigger. but we were surprised to see that this is very small. i was not comfortable with the tight placement of tables and its all crowded and suffocated. other than that food was good. we ordered starter , naan and curry. was tasty!!!',\n",
       " \"great place to have indian mughlai food..\\r\\ngood service\\r\\n\\r\\nwe didn't order much as we went there just for some munchin..\\r\\n\\r\\nbut whatever we ordered was good and just perfect.\\r\\n\\r\\nvery few times i have appreciate gajjar halwa. and this place makes exactly as per my palate. less sweet .. served hot and not very heavy...\\r\\n\\r\\ngreat going...\",\n",
       " \"i absolutely like this restaurant.. they serve testy food with good quantity...we ordered\\r\\n\\r\\ntandoori chicken - this is sooo testy, perfect balance of spice.. really finger licking ã\\x83â\\x83â\\x83ã\\x83â\\x82â\\x83ã\\x83â\\x83â\\x82ã\\x83â\\x82â\\x83ã\\x83â\\x83â\\x83ã\\x83â\\x82â\\x82ã\\x83â\\x83â\\x82ã\\x83â\\x82ã\\x82â°ã\\x83â\\x83â\\x83ã\\x83â\\x82â\\x83ã\\x83â\\x83â\\x82ã\\x83â\\x82â\\x82ã\\x83â\\x83â\\x83ã\\x83â\\x82â\\x82ã\\x83â\\x83â\\x82ã\\x83â\\x82â\\x9fã\\x83â\\x83â\\x83ã\\x83â\\x82â\\x83ã\\x83â\\x83â\\x82ã\\x83â\\x82â\\x82ã\\x83â\\x83â\\x83ã\\x83â\\x82â\\x82ã\\x83â\\x83â\\x82ã\\x83â\\x82â\\x91ã\\x83â\\x83â\\x83ã\\x83â\\x82â\\x83ã\\x83â\\x83â\\x82ã\\x83â\\x82â\\x82ã\\x83â\\x83â\\x83ã\\x83â\\x82â\\x82ã\\x83â\\x83â\\x82ã\\x83â\\x82â\\x8c\\r\\n\\r\\nsweet lassi - omg !!! this is a must try lassi.. seriously awesome. now also i can remember the taste ã\\x83â\\x83â\\x83ã\\x83â\\x82â\\x83ã\\x83â\\x83â\\x82ã\\x83â\\x82â\\x83ã\\x83â\\x83â\\x83ã\\x83â\\x82â\\x82ã\\x83â\\x83â\\x82ã\\x83â\\x82ã\\x82â¢ã\\x83â\\x83â\\x83ã\\x83â\\x82â\\x83ã\\x83â\\x83â\\x82ã\\x83â\\x82â\\x82ã\\x83â\\x83â\\x83ã\\x83â\\x82â\\x82ã\\x83â\\x83â\\x82ã\\x83â\\x82â\\x9dã\\x83â\\x83â\\x83ã\\x83â\\x82â\\x83ã\\x83â\\x83â\\x82ã\\x83â\\x82â\\x82ã\\x83â\\x83â\\x83ã\\x83â\\x82â\\x82ã\\x83â\\x83â\\x82ã\\x83â\\x82ã\\x82â¤ã\\x83â\\x83â\\x83ã\\x83â\\x82â\\x83ã\\x83â\\x83â\\x82ã\\x83â\\x82â\\x83ã\\x83â\\x83â\\x83ã\\x83â\\x82â\\x82ã\\x83â\\x83â\\x82ã\\x83â\\x82ã\\x82â¯ã\\x83â\\x83â\\x83ã\\x83â\\x82â\\x83ã\\x83â\\x83â\\x82ã\\x83â\\x82â\\x82ã\\x83â\\x83â\\x83ã\\x83â\\x82â\\x82ã\\x83â\\x83â\\x82ã\\x83â\\x82ã\\x82â¸ã\\x83â\\x83â\\x83ã\\x83â\\x82â\\x83ã\\x83â\\x83â\\x82ã\\x83â\\x82â\\x82ã\\x83â\\x83â\\x83ã\\x83â\\x82â\\x82ã\\x83â\\x83â\\x82ã\\x83â\\x82â\\x8f\\r\\n\\r\\nbutter naan - soft and testy..\\r\\n\\r\\nmutton biriyani - this was best, very good quantity, sooo testy with loads of soft juicy mutton.. it was just perfectly cooked.. not so spicy, perfect ã\\x83â\\x83â\\x83ã\\x83â\\x82â\\x83ã\\x83â\\x83â\\x82ã\\x83â\\x82â\\x83ã\\x83â\\x83â\\x83ã\\x83â\\x82â\\x82ã\\x83â\\x83â\\x82ã\\x83â\\x82ã\\x82â°ã\\x83â\\x83â\\x83ã\\x83â\\x82â\\x83ã\\x83â\\x83â\\x82ã\\x83â\\x82â\\x82ã\\x83â\\x83â\\x83ã\\x83â\\x82â\\x82ã\\x83â\\x83â\\x82ã\\x83â\\x82â\\x9fã\\x83â\\x83â\\x83ã\\x83â\\x82â\\x83ã\\x83â\\x83â\\x82ã\\x83â\\x82â\\x82ã\\x83â\\x83â\\x83ã\\x83â\\x82â\\x82ã\\x83â\\x83â\\x82ã\\x83â\\x82â\\x91ã\\x83â\\x83â\\x83ã\\x83â\\x82â\\x83ã\\x83â\\x83â\\x82ã\\x83â\\x82â\\x82ã\\x83â\\x83â\\x83ã\\x83â\\x82â\\x82ã\\x83â\\x83â\\x82ã\\x83â\\x82â\\x8c\\r\\n\\r\\nrasomalai - personally i'm desert lover, so i didn't miss the chance.. yes, it was also good ã\\x83â\\x83â\\x83ã\\x83â\\x82â\\x83ã\\x83â\\x83â\\x82ã\\x83â\\x82â\\x83ã\\x83â\\x83â\\x83ã\\x83â\\x82â\\x82ã\\x83â\\x83â\\x82ã\\x83â\\x82ã\\x82â°ã\\x83â\\x83â\\x83ã\\x83â\\x82â\\x83ã\\x83â\\x83â\\x82ã\\x83â\\x82â\\x82ã\\x83â\\x83â\\x83ã\\x83â\\x82â\\x82ã\\x83â\\x83â\\x82ã\\x83â\\x82â\\x9fã\\x83â\\x83â\\x83ã\\x83â\\x82â\\x83ã\\x83â\\x83â\\x82ã\\x83â\\x82â\\x82ã\\x83â\\x83â\\x83ã\\x83â\\x82â\\x82ã\\x83â\\x83â\\x82ã\\x83â\\x82â\\x98ã\\x83â\\x83â\\x83ã\\x83â\\x82â\\x83ã\\x83â\\x83â\\x82ã\\x83â\\x82â\\x82ã\\x83â\\x83â\\x83ã\\x83â\\x82â\\x82ã\\x83â\\x83â\\x82ã\\x83â\\x82â\\x8b\\r\\n\\r\\nambience is okay okay type, not so good not so bad..\",\n",
       " 'went to this place with friends, ordered masala chai and ginger tea it came in a kettle. we ordered a kettle for 2 but it can be good for even 3 people. tea was good and very nice place for small chit chat with friends. and parleg biscuit was complimentary with tea and tea was really nice.',\n",
       " 'really good place if you are looking for a good tea shop with nice ambience. perfect place to sit, relax and converse with friends.\\r\\n\\r\\nwe ordered a kettle of ginger tea. they served parle g along with it. i must say that it just like a home made tea.\\r\\n\\r\\nservice was really quick and staff was really friendly. they even gave an extra packet of biscuit. these small things make an difference.\\r\\n\\r\\nbeverage: 9/10\\r\\nservice: 10/10\\r\\nambience: 9/10',\n",
       " 'they serves the best healthy and delicious breakfast. chai is the best item they serve. this place reminded me my mom made food. will love to visit this place again n again.',\n",
       " 'ambience 4/5\\r\\nfood 4/5\\r\\nstaff 3.5/5\\r\\nquality 4/5\\r\\n\\r\\nnice place to have adda or hangout in. great ambience and well justified to the name. good portion of the tea. tried the ginger tea and cutting chai. both portions were good enough for one. also tried the traditional maska bun, which was good too. aloo paratha was awesome. had clearly a north indian taste to eat. staff is courteous. the best part is the parle g biscuits served with your tea.',\n",
       " 'we only tried tea here. we ordered laung wali chai and it was amazing. their quantity is quite good as a kettle for 2 serves 3 people. they even gave a parle-g free. the ambience is quite nice. bollywood theme. i would go again to this place just for the tea and maybe try out other things as well.',\n",
       " 'so we visited this place as dhwani shah want3d to have tea. we ordered pudina adarak tea which was very cutely served. the taste was amazing as she says and the decor impressed us.\\r\\ndo visit tea lovers !',\n",
       " \"chai galli has been given me cure to my post work headaches with their amazing masala chai and bun maska. they have the most soothing interiors, the typical 90s bollywood song list and the best part is the place is not overflowing with the crowd at all times. you can enjoy you piece of mind, work as much as you want or just chill with your friends. it's a great place to be ! the prices are a little high for snacks but, still worth a shot.\",\n",
       " 'to all tea addicts and lovers do visit this place. they have varieties of teas you will love. food is also good here. will definitely recommend visiting once.',\n",
       " 'we went to the chocolate festival arranged here\\r\\nthe place is located at koramanagala and itã\\x83â\\x83â\\x83ã\\x83â\\x82â\\x83ã\\x83â\\x83â\\x82ã\\x83â\\x82â\\x82ã\\x83â\\x83â\\x83ã\\x83â\\x82â\\x82ã\\x83â\\x83â\\x82ã\\x83â\\x82â\\x92s a pretty cute cafe with bollywood theme\\r\\nlarge posters of actors and bollywood music going on gives you a good vibe\\r\\nservice is amazing staff is very courteous\\r\\nfood is superb\\r\\nnachos are great as the pasta\\r\\npizza is good too\\r\\nchole kulcha must try\\r\\nchocolate festival had amazing sev puri pani puri\\r\\npizza sandwiches and drinks\\r\\ncoffee taste refreshing\\r\\nmust visit for a good food experience',\n",
       " 'nice place to have tea in koramangala. there is few lot of varieties in tea and also in the menu of food. tried their chaska bun and khawa here..it was quite good. definitely a must try place in bangalore..',\n",
       " 'nostalgic place!!\\r\\ntakes you back to the 90s. you can visit back those old days over a cup of chai and the best part was the 90ã\\x83â\\x83â\\x83ã\\x83â\\x82â\\x83ã\\x83â\\x83â\\x82ã\\x83â\\x82â\\x82ã\\x83â\\x83â\\x83ã\\x83â\\x82â\\x82ã\\x83â\\x83â\\x82ã\\x83â\\x82â\\x92s super hit songs playing in the background. absolutely loved it and had the best time..with endless cups of chai!\\r\\nwould definitely visit them again..!',\n",
       " 'i have been there many many times and i love it everytime. perfect place for some evening tea with the rustic bollywood themed interior.\\r\\nthe staff is courteous but slow at times.\\r\\nhad almost everything there but do try dal pakwan, dal ke pakode, hare bhare pakode, corn shots and reslly nice samosa.',\n",
       " \"who needs a guy\\r\\nwhen there is chai ?\\r\\n\\r\\none of our favorite places for chai and the food is such a wide variety that goes well with chai .\\r\\nchai galli is celebrating 2 yr anniversary and they have curated a special chocolate themed menu.\\r\\ncouldn't resist the thought of good chai and some chocolate dishes .\\r\\n\\r\\nmust try :\\r\\nchocolate pani puri\\r\\nchocolate , banana & peanutbutter panini sandwich\\r\\nchocolate pizza\\r\\nnachos\\r\\nrajasthani chai\",\n",
       " \"visited this place on a weekend and it took us back to 80s. the ambiance is amazing with old movie posters and hindi songs playing. the service was quick and polite. we'd taken chai galli special vada pav, khamani, kashmiri kahva, dragon balls and pasta with red sauce. the tea was really good and the food was delicious. visit chai galli if you just want to sit back, sip tea and have long conversations with someone.\\r\\n\\r\\ntaste: 4\\r\\nambiance: 5\\r\\nservice: 4\\r\\nvalue for money: 4\",\n",
       " 'had been to this place with some friends as we all wanted to have something light. located in the heart of koramangala. the ambience is pure retro bollywood style having posters of old movies. we ordered cold coffee, masala chai, lemon tea, dal ke pakode, vada pav, mumbai wala sandwich & tadkewali maggi. the cold coffee & masala tea both were good. the lemon tea was a different experience as you need to prepare your own tea. they provide you with a timer which helps you to prepare your tea with the right flavor (light, medium or strong). dal ke pakode were ok, could have been better. vada pav & tadkewali maggi tasted nice. mumbaiwala sandwich was good as well. staff were approachable and nice. pricing was fair. all in all a decent place to hang out with friends with good snacks.',\n",
       " 'itã\\x83â\\x83â\\x83ã\\x83â\\x82â\\x83ã\\x83â\\x83â\\x82ã\\x83â\\x82â\\x82ã\\x83â\\x83â\\x83ã\\x83â\\x82â\\x82ã\\x83â\\x83â\\x82ã\\x83â\\x82â\\x92s a nice and cozy tea cafe. the indoors are inspired by bollywood. the food isnã\\x83â\\x83â\\x83ã\\x83â\\x82â\\x83ã\\x83â\\x83â\\x82ã\\x83â\\x82â\\x82ã\\x83â\\x83â\\x83ã\\x83â\\x82â\\x82ã\\x83â\\x83â\\x82ã\\x83â\\x82â\\x92t the best. the pasta was extremely spicy and garlic bread was very average. they have a good choice of drinks. lemon and mint iced tea is really nice and refreshing. their normal ginger tea/masala tea is very good and they serve it with a mini packet of parle g which adds to the nostalgic old school feel. service can be improved.',\n",
       " 'initially i had rated this place 5 and was a regular but after an unfortunate event of eating half a cooked cockroach i have lost my appetite and have not been there since a month now! boycotting this place , standards have fallen, manager is bad, service is slow and food has cockroaches ?',\n",
       " 'the food was very oily, and taste was also not good.',\n",
       " 'ordered combo 1. mentioned in app as 3 chappathi or 2 parotta with paneer butter masala. but got only 2 chappathi instead of three and quality and quantity of the paneer is too low. if required i can share photos of the same.',\n",
       " \"food is very very very bad smell ......really am very upset don't encourage this type of hotel's it's not worth ....small small insects also is there..i throw it outside my dog also not eating that food\",\n",
       " \"tasty biryani. personally i liked the chicken kebab the most. mutton biryani is a treat to your taste buds! don't forget to appreciate the chef after eating here.\",\n",
       " '(outdated food)\\r\\none of the worst hotel, never order anything in this hotel ... food is not good at all outdated food, plzz order with other hotels...',\n",
       " \"i had been to this hotel with my family first... later with my friends & relatives ,, many a times...\\r\\nbreakfast - had head mutton natti style, mutton keema, leg soup... heavenly... i just love it...\\r\\nlunch - tasty biriyani's both mutton & chicken,, tastier than other biriyani's available in bengaluru... mutton biriyani must & should taste it....\\r\\nthe best & my favourite part is kabab, the best you can taste....\\r\\nother chicken fry, pepper dry, chicken legs,, tastes good & spicy, hot.... ...\\r\\na very best place to have a taste & bengalurian style of foods in non-veg....... the best...\",\n",
       " \"tried chicken biriyani combo today not good. please provide the worthy food for the money paid.i'm suggesting everyone please do not try here.\",\n",
       " 'very bad i had to wait 1.15 for food',\n",
       " 'donne biryani tastes pretty much ordinary. especially for people who have tasted in sgs gundu pulav and shivaji military hotel, you will not like it at all!! i ordered chicken leg fry along and taste really sucked! it was very salty, however both biryani and chicken leg fry was way not worth for the money. i would never recommend this restaurant!',\n",
       " 'no chicken pieces was there...not good at all',\n",
       " 'a very taste natti donne style biriyani and yummy kabba. ....\\r\\ni just love head mutton, leg soup specially on sunday, mutton keema is heavenly..\\r\\n\\r\\na very best place to have non-veg food in city...',\n",
       " 'hi, the mutton was tooooo oilly , no spicy also\\r\\nplease make some spicy and put some masala also,\\r\\nquantity was good, but taste was not that good',\n",
       " 'super',\n",
       " 'taste is good',\n",
       " 'quality is not shatifid improve the quality',\n",
       " \"food is not good. not worth for 50% also. better don't order.\",\n",
       " 'good',\n",
       " 'good',\n",
       " 'taste is good',\n",
       " 'quality is not shatifid improve the quality',\n",
       " \"food is not good. not worth for 50% also. better don't order.\",\n",
       " 'good',\n",
       " 'good',\n",
       " 'taste is good',\n",
       " 'quality is not shatifid improve the quality',\n",
       " \"food is not good. not worth for 50% also. better don't order.\",\n",
       " 'good',\n",
       " 'good',\n",
       " 'not good',\n",
       " 'the items quantity were lesser than expected. i had visited the hotel previously, many a times and found the zomato experience poor as it was not worth the price. the taste was maintained but quantity was lesser than usual which matched the discounted rate making it an okay experience',\n",
       " 'good',\n",
       " 'food no taste',\n",
       " 'no food only oil',\n",
       " \"i had been to this restaurant with one of my friend. it was already very late, 3.15pm to be precise. unfortunately there was no biryani available at that time and again i had to wait for around 20 mins to get the biryani.\\r\\n\\r\\nã\\x83â\\x83â\\x83ã\\x83â\\x82â\\x83ã\\x83â\\x83â\\x82ã\\x83â\\x82â\\x83ã\\x83â\\x83â\\x83ã\\x83â\\x82â\\x82ã\\x83â\\x83â\\x82ã\\x83â\\x82ã\\x82â°ã\\x83â\\x83â\\x83ã\\x83â\\x82â\\x83ã\\x83â\\x83â\\x82ã\\x83â\\x82â\\x82ã\\x83â\\x83â\\x83ã\\x83â\\x82â\\x82ã\\x83â\\x83â\\x82ã\\x83â\\x82â\\x9fã\\x83â\\x83â\\x83ã\\x83â\\x82â\\x83ã\\x83â\\x83â\\x82ã\\x83â\\x82â\\x82ã\\x83â\\x83â\\x83ã\\x83â\\x82â\\x82ã\\x83â\\x83â\\x82ã\\x83â\\x82â\\x87ã\\x83â\\x83â\\x83ã\\x83â\\x82â\\x83ã\\x83â\\x83â\\x82ã\\x83â\\x82â\\x82ã\\x83â\\x83â\\x83ã\\x83â\\x82â\\x82ã\\x83â\\x83â\\x82ã\\x83â\\x82ã\\x82â¦ ambience of the restaurant is poor, with few seating options available.\\r\\n\\r\\nã\\x83â\\x83â\\x83ã\\x83â\\x82â\\x83ã\\x83â\\x83â\\x82ã\\x83â\\x82â\\x83ã\\x83â\\x83â\\x83ã\\x83â\\x82â\\x82ã\\x83â\\x83â\\x82ã\\x83â\\x82ã\\x82â°ã\\x83â\\x83â\\x83ã\\x83â\\x82â\\x83ã\\x83â\\x83â\\x82ã\\x83â\\x82â\\x82ã\\x83â\\x83â\\x83ã\\x83â\\x82â\\x82ã\\x83â\\x83â\\x82ã\\x83â\\x82â\\x9fã\\x83â\\x83â\\x83ã\\x83â\\x82â\\x83ã\\x83â\\x83â\\x82ã\\x83â\\x82â\\x82ã\\x83â\\x83â\\x83ã\\x83â\\x82â\\x82ã\\x83â\\x83â\\x82ã\\x83â\\x82â\\x87ã\\x83â\\x83â\\x83ã\\x83â\\x82â\\x83ã\\x83â\\x83â\\x82ã\\x83â\\x82â\\x82ã\\x83â\\x83â\\x83ã\\x83â\\x82â\\x82ã\\x83â\\x83â\\x82ã\\x83â\\x82ã\\x82â¸ service is pretty average as well, we need to call somebody in the hotel to clean the table for us.\\r\\n\\r\\nã\\x83â\\x83â\\x83ã\\x83â\\x82â\\x83ã\\x83â\\x83â\\x82ã\\x83â\\x82â\\x83ã\\x83â\\x83â\\x83ã\\x83â\\x82â\\x82ã\\x83â\\x83â\\x82ã\\x83â\\x82ã\\x82â°ã\\x83â\\x83â\\x83ã\\x83â\\x82â\\x83ã\\x83â\\x83â\\x82ã\\x83â\\x82â\\x82ã\\x83â\\x83â\\x83ã\\x83â\\x82â\\x82ã\\x83â\\x83â\\x82ã\\x83â\\x82â\\x9fã\\x83â\\x83â\\x83ã\\x83â\\x82â\\x83ã\\x83â\\x83â\\x82ã\\x83â\\x82â\\x82ã\\x83â\\x83â\\x83ã\\x83â\\x82â\\x82ã\\x83â\\x83â\\x82ã\\x83â\\x82â\\x87ã\\x83â\\x83â\\x83ã\\x83â\\x82â\\x83ã\\x83â\\x83â\\x82ã\\x83â\\x82â\\x82ã\\x83â\\x83â\\x83ã\\x83â\\x82â\\x82ã\\x83â\\x83â\\x82ã\\x83â\\x82ã\\x82â«ã\\x83â\\x83â\\x83ã\\x83â\\x82â\\x83ã\\x83â\\x83â\\x82ã\\x83â\\x82â\\x83ã\\x83â\\x83â\\x83ã\\x83â\\x82â\\x82ã\\x83â\\x83â\\x82ã\\x83â\\x82ã\\x82â°ã\\x83â\\x83â\\x83ã\\x83â\\x82â\\x83ã\\x83â\\x83â\\x82ã\\x83â\\x82â\\x82ã\\x83â\\x83â\\x83ã\\x83â\\x82â\\x82ã\\x83â\\x83â\\x82ã\\x83â\\x82â\\x9fã\\x83â\\x83â\\x83ã\\x83â\\x82â\\x83ã\\x83â\\x83â\\x82ã\\x83â\\x82â\\x82ã\\x83â\\x83â\\x83ã\\x83â\\x82â\\x82ã\\x83â\\x83â\\x82ã\\x83â\\x82â\\x8dã\\x83â\\x83â\\x83ã\\x83â\\x82â\\x83ã\\x83â\\x83â\\x82ã\\x83â\\x82â\\x82ã\\x83â\\x83â\\x83ã\\x83â\\x82â\\x82ã\\x83â\\x83â\\x82ã\\x83â\\x82ã\\x82â½ã\\x83â\\x83â\\x83ã\\x83â\\x82â\\x83ã\\x83â\\x83â\\x82ã\\x83â\\x82â\\x83ã\\x83â\\x83â\\x83ã\\x83â\\x82â\\x82ã\\x83â\\x83â\\x82ã\\x83â\\x82ã\\x82â¯ã\\x83â\\x83â\\x83ã\\x83â\\x82â\\x83ã\\x83â\\x83â\\x82ã\\x83â\\x82â\\x82ã\\x83â\\x83â\\x83ã\\x83â\\x82â\\x82ã\\x83â\\x83â\\x82ã\\x83â\\x82ã\\x82â¸ã\\x83â\\x83â\\x83ã\\x83â\\x82â\\x83ã\\x83â\\x83â\\x82ã\\x83â\\x82â\\x82ã\\x83â\\x83â\\x83ã\\x83â\\x82â\\x82ã\\x83â\\x83â\\x82ã\\x83â\\x82â\\x8fwhat is ate ???\\r\\nã\\x83â\\x83â\\x83ã\\x83â\\x82â\\x83ã\\x83â\\x83â\\x82ã\\x83â\\x82â\\x83ã\\x83â\\x83â\\x83ã\\x83â\\x82â\\x82ã\\x83â\\x83â\\x82ã\\x83â\\x82ã\\x82â°ã\\x83â\\x83â\\x83ã\\x83â\\x82â\\x83ã\\x83â\\x83â\\x82ã\\x83â\\x82â\\x82ã\\x83â\\x83â\\x83ã\\x83â\\x82â\\x82ã\\x83â\\x83â\\x82ã\\x83â\\x82â\\x9fã\\x83â\\x83â\\x83ã\\x83â\\x82â\\x83ã\\x83â\\x83â\\x82ã\\x83â\\x82â\\x82ã\\x83â\\x83â\\x83ã\\x83â\\x82â\\x82ã\\x83â\\x83â\\x82ã\\x83â\\x82â\\x8dã\\x83â\\x83â\\x83ã\\x83â\\x82â\\x83ã\\x83â\\x83â\\x82ã\\x83â\\x82â\\x82ã\\x83â\\x83â\\x83ã\\x83â\\x82â\\x82ã\\x83â\\x83â\\x82ã\\x83â\\x82ã\\x82â´ chicken biryani ã\\x83â\\x83â\\x83ã\\x83â\\x82â\\x83ã\\x83â\\x83â\\x82ã\\x83â\\x82â\\x83ã\\x83â\\x83â\\x83ã\\x83â\\x82â\\x82ã\\x83â\\x83â\\x82ã\\x83â\\x82ã\\x82â¢ã\\x83â\\x83â\\x83ã\\x83â\\x82â\\x83ã\\x83â\\x83â\\x82ã\\x83â\\x82â\\x82ã\\x83â\\x83â\\x83ã\\x83â\\x82â\\x82ã\\x83â\\x83â\\x82ã\\x83â\\x82â\\x9eã\\x83â\\x83â\\x83ã\\x83â\\x82â\\x83ã\\x83â\\x83â\\x82ã\\x83â\\x82â\\x82ã\\x83â\\x83â\\x83ã\\x83â\\x82â\\x82ã\\x83â\\x83â\\x82ã\\x83â\\x82ã\\x82â¡ã\\x83â\\x83â\\x83ã\\x83â\\x82â\\x83ã\\x83â\\x83â\\x82ã\\x83â\\x82â\\x83ã\\x83â\\x83â\\x83ã\\x83â\\x82â\\x82ã\\x83â\\x83â\\x82ã\\x83â\\x82ã\\x82â¯ã\\x83â\\x83â\\x83ã\\x83â\\x82â\\x83ã\\x83â\\x83â\\x82ã\\x83â\\x82â\\x82ã\\x83â\\x83â\\x83ã\\x83â\\x82â\\x82ã\\x83â\\x83â\\x82ã\\x83â\\x82ã\\x82â¸ã\\x83â\\x83â\\x83ã\\x83â\\x82â\\x83ã\\x83â\\x83â\\x82ã\\x83â\\x82â\\x82ã\\x83â\\x83â\\x83ã\\x83â\\x82â\\x82ã\\x83â\\x83â\\x82ã\\x83â\\x82â\\x8f chicken biryani wasn't great, it was more like khuska cooked with few chicken pieces in them.\\r\\n\\r\\nã\\x83â\\x83â\\x83ã\\x83â\\x82â\\x83ã\\x83â\\x83â\\x82ã\\x83â\\x82â\\x83ã\\x83â\\x83â\\x83ã\\x83â\\x82â\\x82ã\\x83â\\x83â\\x82ã\\x83â\\x82ã\\x82â°ã\\x83â\\x83â\\x83ã\\x83â\\x82â\\x83ã\\x83â\\x83â\\x82ã\\x83â\\x82â\\x82ã\\x83â\\x83â\\x83ã\\x83â\\x82â\\x82ã\\x83â\\x83â\\x82ã\\x83â\\x82â\\x9fã\\x83â\\x83â\\x83ã\\x83â\\x82â\\x83ã\\x83â\\x83â\\x82ã\\x83â\\x82â\\x82ã\\x83â\\x83â\\x83ã\\x83â\\x82â\\x82ã\\x83â\\x83â\\x82ã\\x83â\\x82â\\x8dã\\x83â\\x83â\\x83ã\\x83â\\x82â\\x83ã\\x83â\\x83â\\x82ã\\x83â\\x82â\\x82ã\\x83â\\x83â\\x83ã\\x83â\\x82â\\x82ã\\x83â\\x83â\\x82ã\\x83â\\x82ã\\x82â´ chicken kabab ã\\x83â\\x83â\\x83ã\\x83â\\x82â\\x83ã\\x83â\\x83â\\x82ã\\x83â\\x82â\\x83ã\\x83â\\x83â\\x83ã\\x83â\\x82â\\x82ã\\x83â\\x83â\\x82ã\\x83â\\x82ã\\x82â¢ã\\x83â\\x83â\\x83ã\\x83â\\x82â\\x83ã\\x83â\\x83â\\x82ã\\x83â\\x82â\\x82ã\\x83â\\x83â\\x83ã\\x83â\\x82â\\x82ã\\x83â\\x83â\\x82ã\\x83â\\x82â\\x9eã\\x83â\\x83â\\x83ã\\x83â\\x82â\\x83ã\\x83â\\x83â\\x82ã\\x83â\\x82â\\x82ã\\x83â\\x83â\\x83ã\\x83â\\x82â\\x82ã\\x83â\\x83â\\x82ã\\x83â\\x82ã\\x82â¡ã\\x83â\\x83â\\x83ã\\x83â\\x82â\\x83ã\\x83â\\x83â\\x82ã\\x83â\\x82â\\x83ã\\x83â\\x83â\\x83ã\\x83â\\x82â\\x82ã\\x83â\\x83â\\x82ã\\x83â\\x82ã\\x82â¯ã\\x83â\\x83â\\x83ã\\x83â\\x82â\\x83ã\\x83â\\x83â\\x82ã\\x83â\\x82â\\x82ã\\x83â\\x83â\\x83ã\\x83â\\x82â\\x82ã\\x83â\\x83â\\x82ã\\x83â\\x82ã\\x82â¸ã\\x83â\\x83â\\x83ã\\x83â\\x82â\\x83ã\\x83â\\x83â\\x82ã\\x83â\\x82â\\x82ã\\x83â\\x83â\\x83ã\\x83â\\x82â\\x82ã\\x83â\\x83â\\x82ã\\x83â\\x82â\\x8f chicken kabab was just above average and no much significant in them either.\\r\\n\\r\\nall and all after waiting for over 10mins for biryani, i was pretty disappointed by the hotel management on all aspects.\",\n",
       " 'instead of the order i placed i got the different item ã\\x83â\\x83â\\x83ã\\x83â\\x82â\\x83ã\\x83â\\x83â\\x82ã\\x83â\\x82â\\x83ã\\x83â\\x83â\\x83ã\\x83â\\x82â\\x82ã\\x83â\\x83â\\x82ã\\x83â\\x82ã\\x82â°ã\\x83â\\x83â\\x83ã\\x83â\\x82â\\x83ã\\x83â\\x83â\\x82ã\\x83â\\x82â\\x82ã\\x83â\\x83â\\x83ã\\x83â\\x82â\\x82ã\\x83â\\x83â\\x82ã\\x83â\\x82â\\x9fã\\x83â\\x83â\\x83ã\\x83â\\x82â\\x83ã\\x83â\\x83â\\x82ã\\x83â\\x82â\\x82ã\\x83â\\x83â\\x83ã\\x83â\\x82â\\x82ã\\x83â\\x83â\\x82ã\\x83â\\x82â\\x98ã\\x83â\\x83â\\x83ã\\x83â\\x82â\\x83ã\\x83â\\x83â\\x82ã\\x83â\\x82â\\x82ã\\x83â\\x83â\\x83ã\\x83â\\x82â\\x82ã\\x83â\\x83â\\x82ã\\x83â\\x82ã\\x82â¡',\n",
       " 'how is this possible? i have not received the order and your asking for feedback?',\n",
       " 'gud taste',\n",
       " 'awesome fud',\n",
       " \"i had been to this restaurant with one of my friend. it was already very late, 3.15pm to be precise. unfortunately there was no biryani available at that time and again i had to wait for around 20 mins to get the biryani.\\r\\n\\r\\nã\\x83â\\x83â\\x83ã\\x83â\\x82â\\x83ã\\x83â\\x83â\\x82ã\\x83â\\x82â\\x83ã\\x83â\\x83â\\x83ã\\x83â\\x82â\\x82ã\\x83â\\x83â\\x82ã\\x83â\\x82ã\\x82â°ã\\x83â\\x83â\\x83ã\\x83â\\x82â\\x83ã\\x83â\\x83â\\x82ã\\x83â\\x82â\\x82ã\\x83â\\x83â\\x83ã\\x83â\\x82â\\x82ã\\x83â\\x83â\\x82ã\\x83â\\x82â\\x9fã\\x83â\\x83â\\x83ã\\x83â\\x82â\\x83ã\\x83â\\x83â\\x82ã\\x83â\\x82â\\x82ã\\x83â\\x83â\\x83ã\\x83â\\x82â\\x82ã\\x83â\\x83â\\x82ã\\x83â\\x82â\\x87ã\\x83â\\x83â\\x83ã\\x83â\\x82â\\x83ã\\x83â\\x83â\\x82ã\\x83â\\x82â\\x82ã\\x83â\\x83â\\x83ã\\x83â\\x82â\\x82ã\\x83â\\x83â\\x82ã\\x83â\\x82ã\\x82â¦ ambience of the restaurant is poor, with few seating options available.\\r\\n\\r\\nã\\x83â\\x83â\\x83ã\\x83â\\x82â\\x83ã\\x83â\\x83â\\x82ã\\x83â\\x82â\\x83ã\\x83â\\x83â\\x83ã\\x83â\\x82â\\x82ã\\x83â\\x83â\\x82ã\\x83â\\x82ã\\x82â°ã\\x83â\\x83â\\x83ã\\x83â\\x82â\\x83ã\\x83â\\x83â\\x82ã\\x83â\\x82â\\x82ã\\x83â\\x83â\\x83ã\\x83â\\x82â\\x82ã\\x83â\\x83â\\x82ã\\x83â\\x82â\\x9fã\\x83â\\x83â\\x83ã\\x83â\\x82â\\x83ã\\x83â\\x83â\\x82ã\\x83â\\x82â\\x82ã\\x83â\\x83â\\x83ã\\x83â\\x82â\\x82ã\\x83â\\x83â\\x82ã\\x83â\\x82â\\x87ã\\x83â\\x83â\\x83ã\\x83â\\x82â\\x83ã\\x83â\\x83â\\x82ã\\x83â\\x82â\\x82ã\\x83â\\x83â\\x83ã\\x83â\\x82â\\x82ã\\x83â\\x83â\\x82ã\\x83â\\x82ã\\x82â¸ service is pretty average as well, we need to call somebody in the hotel to clean the table for us.\\r\\n\\r\\nã\\x83â\\x83â\\x83ã\\x83â\\x82â\\x83ã\\x83â\\x83â\\x82ã\\x83â\\x82â\\x83ã\\x83â\\x83â\\x83ã\\x83â\\x82â\\x82ã\\x83â\\x83â\\x82ã\\x83â\\x82ã\\x82â°ã\\x83â\\x83â\\x83ã\\x83â\\x82â\\x83ã\\x83â\\x83â\\x82ã\\x83â\\x82â\\x82ã\\x83â\\x83â\\x83ã\\x83â\\x82â\\x82ã\\x83â\\x83â\\x82ã\\x83â\\x82â\\x9fã\\x83â\\x83â\\x83ã\\x83â\\x82â\\x83ã\\x83â\\x83â\\x82ã\\x83â\\x82â\\x82ã\\x83â\\x83â\\x83ã\\x83â\\x82â\\x82ã\\x83â\\x83â\\x82ã\\x83â\\x82â\\x87ã\\x83â\\x83â\\x83ã\\x83â\\x82â\\x83ã\\x83â\\x83â\\x82ã\\x83â\\x82â\\x82ã\\x83â\\x83â\\x83ã\\x83â\\x82â\\x82ã\\x83â\\x83â\\x82ã\\x83â\\x82ã\\x82â«ã\\x83â\\x83â\\x83ã\\x83â\\x82â\\x83ã\\x83â\\x83â\\x82ã\\x83â\\x82â\\x83ã\\x83â\\x83â\\x83ã\\x83â\\x82â\\x82ã\\x83â\\x83â\\x82ã\\x83â\\x82ã\\x82â°ã\\x83â\\x83â\\x83ã\\x83â\\x82â\\x83ã\\x83â\\x83â\\x82ã\\x83â\\x82â\\x82ã\\x83â\\x83â\\x83ã\\x83â\\x82â\\x82ã\\x83â\\x83â\\x82ã\\x83â\\x82â\\x9fã\\x83â\\x83â\\x83ã\\x83â\\x82â\\x83ã\\x83â\\x83â\\x82ã\\x83â\\x82â\\x82ã\\x83â\\x83â\\x83ã\\x83â\\x82â\\x82ã\\x83â\\x83â\\x82ã\\x83â\\x82â\\x8dã\\x83â\\x83â\\x83ã\\x83â\\x82â\\x83ã\\x83â\\x83â\\x82ã\\x83â\\x82â\\x82ã\\x83â\\x83â\\x83ã\\x83â\\x82â\\x82ã\\x83â\\x83â\\x82ã\\x83â\\x82ã\\x82â½ã\\x83â\\x83â\\x83ã\\x83â\\x82â\\x83ã\\x83â\\x83â\\x82ã\\x83â\\x82â\\x83ã\\x83â\\x83â\\x83ã\\x83â\\x82â\\x82ã\\x83â\\x83â\\x82ã\\x83â\\x82ã\\x82â¯ã\\x83â\\x83â\\x83ã\\x83â\\x82â\\x83ã\\x83â\\x83â\\x82ã\\x83â\\x82â\\x82ã\\x83â\\x83â\\x83ã\\x83â\\x82â\\x82ã\\x83â\\x83â\\x82ã\\x83â\\x82ã\\x82â¸ã\\x83â\\x83â\\x83ã\\x83â\\x82â\\x83ã\\x83â\\x83â\\x82ã\\x83â\\x82â\\x82ã\\x83â\\x83â\\x83ã\\x83â\\x82â\\x82ã\\x83â\\x83â\\x82ã\\x83â\\x82â\\x8fwhat is ate ???\\r\\nã\\x83â\\x83â\\x83ã\\x83â\\x82â\\x83ã\\x83â\\x83â\\x82ã\\x83â\\x82â\\x83ã\\x83â\\x83â\\x83ã\\x83â\\x82â\\x82ã\\x83â\\x83â\\x82ã\\x83â\\x82ã\\x82â°ã\\x83â\\x83â\\x83ã\\x83â\\x82â\\x83ã\\x83â\\x83â\\x82ã\\x83â\\x82â\\x82ã\\x83â\\x83â\\x83ã\\x83â\\x82â\\x82ã\\x83â\\x83â\\x82ã\\x83â\\x82â\\x9fã\\x83â\\x83â\\x83ã\\x83â\\x82â\\x83ã\\x83â\\x83â\\x82ã\\x83â\\x82â\\x82ã\\x83â\\x83â\\x83ã\\x83â\\x82â\\x82ã\\x83â\\x83â\\x82ã\\x83â\\x82â\\x8dã\\x83â\\x83â\\x83ã\\x83â\\x82â\\x83ã\\x83â\\x83â\\x82ã\\x83â\\x82â\\x82ã\\x83â\\x83â\\x83ã\\x83â\\x82â\\x82ã\\x83â\\x83â\\x82ã\\x83â\\x82ã\\x82â´ chicken biryani ã\\x83â\\x83â\\x83ã\\x83â\\x82â\\x83ã\\x83â\\x83â\\x82ã\\x83â\\x82â\\x83ã\\x83â\\x83â\\x83ã\\x83â\\x82â\\x82ã\\x83â\\x83â\\x82ã\\x83â\\x82ã\\x82â¢ã\\x83â\\x83â\\x83ã\\x83â\\x82â\\x83ã\\x83â\\x83â\\x82ã\\x83â\\x82â\\x82ã\\x83â\\x83â\\x83ã\\x83â\\x82â\\x82ã\\x83â\\x83â\\x82ã\\x83â\\x82â\\x9eã\\x83â\\x83â\\x83ã\\x83â\\x82â\\x83ã\\x83â\\x83â\\x82ã\\x83â\\x82â\\x82ã\\x83â\\x83â\\x83ã\\x83â\\x82â\\x82ã\\x83â\\x83â\\x82ã\\x83â\\x82ã\\x82â¡ã\\x83â\\x83â\\x83ã\\x83â\\x82â\\x83ã\\x83â\\x83â\\x82ã\\x83â\\x82â\\x83ã\\x83â\\x83â\\x83ã\\x83â\\x82â\\x82ã\\x83â\\x83â\\x82ã\\x83â\\x82ã\\x82â¯ã\\x83â\\x83â\\x83ã\\x83â\\x82â\\x83ã\\x83â\\x83â\\x82ã\\x83â\\x82â\\x82ã\\x83â\\x83â\\x83ã\\x83â\\x82â\\x82ã\\x83â\\x83â\\x82ã\\x83â\\x82ã\\x82â¸ã\\x83â\\x83â\\x83ã\\x83â\\x82â\\x83ã\\x83â\\x83â\\x82ã\\x83â\\x82â\\x82ã\\x83â\\x83â\\x83ã\\x83â\\x82â\\x82ã\\x83â\\x83â\\x82ã\\x83â\\x82â\\x8f chicken biryani wasn't great, it was more like khuska cooked with few chicken pieces in them.\\r\\n\\r\\nã\\x83â\\x83â\\x83ã\\x83â\\x82â\\x83ã\\x83â\\x83â\\x82ã\\x83â\\x82â\\x83ã\\x83â\\x83â\\x83ã\\x83â\\x82â\\x82ã\\x83â\\x83â\\x82ã\\x83â\\x82ã\\x82â°ã\\x83â\\x83â\\x83ã\\x83â\\x82â\\x83ã\\x83â\\x83â\\x82ã\\x83â\\x82â\\x82ã\\x83â\\x83â\\x83ã\\x83â\\x82â\\x82ã\\x83â\\x83â\\x82ã\\x83â\\x82â\\x9fã\\x83â\\x83â\\x83ã\\x83â\\x82â\\x83ã\\x83â\\x83â\\x82ã\\x83â\\x82â\\x82ã\\x83â\\x83â\\x83ã\\x83â\\x82â\\x82ã\\x83â\\x83â\\x82ã\\x83â\\x82â\\x8dã\\x83â\\x83â\\x83ã\\x83â\\x82â\\x83ã\\x83â\\x83â\\x82ã\\x83â\\x82â\\x82ã\\x83â\\x83â\\x83ã\\x83â\\x82â\\x82ã\\x83â\\x83â\\x82ã\\x83â\\x82ã\\x82â´ chicken kabab ã\\x83â\\x83â\\x83ã\\x83â\\x82â\\x83ã\\x83â\\x83â\\x82ã\\x83â\\x82â\\x83ã\\x83â\\x83â\\x83ã\\x83â\\x82â\\x82ã\\x83â\\x83â\\x82ã\\x83â\\x82ã\\x82â¢ã\\x83â\\x83â\\x83ã\\x83â\\x82â\\x83ã\\x83â\\x83â\\x82ã\\x83â\\x82â\\x82ã\\x83â\\x83â\\x83ã\\x83â\\x82â\\x82ã\\x83â\\x83â\\x82ã\\x83â\\x82â\\x9eã\\x83â\\x83â\\x83ã\\x83â\\x82â\\x83ã\\x83â\\x83â\\x82ã\\x83â\\x82â\\x82ã\\x83â\\x83â\\x83ã\\x83â\\x82â\\x82ã\\x83â\\x83â\\x82ã\\x83â\\x82ã\\x82â¡ã\\x83â\\x83â\\x83ã\\x83â\\x82â\\x83ã\\x83â\\x83â\\x82ã\\x83â\\x82â\\x83ã\\x83â\\x83â\\x83ã\\x83â\\x82â\\x82ã\\x83â\\x83â\\x82ã\\x83â\\x82ã\\x82â¯ã\\x83â\\x83â\\x83ã\\x83â\\x82â\\x83ã\\x83â\\x83â\\x82ã\\x83â\\x82â\\x82ã\\x83â\\x83â\\x83ã\\x83â\\x82â\\x82ã\\x83â\\x83â\\x82ã\\x83â\\x82ã\\x82â¸ã\\x83â\\x83â\\x83ã\\x83â\\x82â\\x83ã\\x83â\\x83â\\x82ã\\x83â\\x82â\\x82ã\\x83â\\x83â\\x83ã\\x83â\\x82â\\x82ã\\x83â\\x83â\\x82ã\\x83â\\x82â\\x8f chicken kabab was just above average and no much significant in them either.\\r\\n\\r\\nall and all after waiting for over 10mins for biryani, i was pretty disappointed by the hotel management on all aspects.\",\n",
       " 'instead of the order i placed i got the different item ã\\x83â\\x83â\\x83ã\\x83â\\x82â\\x83ã\\x83â\\x83â\\x82ã\\x83â\\x82â\\x83ã\\x83â\\x83â\\x83ã\\x83â\\x82â\\x82ã\\x83â\\x83â\\x82ã\\x83â\\x82ã\\x82â°ã\\x83â\\x83â\\x83ã\\x83â\\x82â\\x83ã\\x83â\\x83â\\x82ã\\x83â\\x82â\\x82ã\\x83â\\x83â\\x83ã\\x83â\\x82â\\x82ã\\x83â\\x83â\\x82ã\\x83â\\x82â\\x9fã\\x83â\\x83â\\x83ã\\x83â\\x82â\\x83ã\\x83â\\x83â\\x82ã\\x83â\\x82â\\x82ã\\x83â\\x83â\\x83ã\\x83â\\x82â\\x82ã\\x83â\\x83â\\x82ã\\x83â\\x82â\\x98ã\\x83â\\x83â\\x83ã\\x83â\\x82â\\x83ã\\x83â\\x83â\\x82ã\\x83â\\x82â\\x82ã\\x83â\\x83â\\x83ã\\x83â\\x82â\\x82ã\\x83â\\x83â\\x82ã\\x83â\\x82ã\\x82â¡',\n",
       " 'how is this possible? i have not received the order and your asking for feedback?',\n",
       " 'gud taste',\n",
       " 'awesome fud',\n",
       " \"i had been to this restaurant with one of my friend. it was already very late, 3.15pm to be precise. unfortunately there was no biryani available at that time and again i had to wait for around 20 mins to get the biryani.\\r\\n\\r\\nã\\x83â\\x83â\\x83ã\\x83â\\x82â\\x83ã\\x83â\\x83â\\x82ã\\x83â\\x82â\\x83ã\\x83â\\x83â\\x83ã\\x83â\\x82â\\x82ã\\x83â\\x83â\\x82ã\\x83â\\x82ã\\x82â°ã\\x83â\\x83â\\x83ã\\x83â\\x82â\\x83ã\\x83â\\x83â\\x82ã\\x83â\\x82â\\x82ã\\x83â\\x83â\\x83ã\\x83â\\x82â\\x82ã\\x83â\\x83â\\x82ã\\x83â\\x82â\\x9fã\\x83â\\x83â\\x83ã\\x83â\\x82â\\x83ã\\x83â\\x83â\\x82ã\\x83â\\x82â\\x82ã\\x83â\\x83â\\x83ã\\x83â\\x82â\\x82ã\\x83â\\x83â\\x82ã\\x83â\\x82â\\x87ã\\x83â\\x83â\\x83ã\\x83â\\x82â\\x83ã\\x83â\\x83â\\x82ã\\x83â\\x82â\\x82ã\\x83â\\x83â\\x83ã\\x83â\\x82â\\x82ã\\x83â\\x83â\\x82ã\\x83â\\x82ã\\x82â¦ ambience of the restaurant is poor, with few seating options available.\\r\\n\\r\\nã\\x83â\\x83â\\x83ã\\x83â\\x82â\\x83ã\\x83â\\x83â\\x82ã\\x83â\\x82â\\x83ã\\x83â\\x83â\\x83ã\\x83â\\x82â\\x82ã\\x83â\\x83â\\x82ã\\x83â\\x82ã\\x82â°ã\\x83â\\x83â\\x83ã\\x83â\\x82â\\x83ã\\x83â\\x83â\\x82ã\\x83â\\x82â\\x82ã\\x83â\\x83â\\x83ã\\x83â\\x82â\\x82ã\\x83â\\x83â\\x82ã\\x83â\\x82â\\x9fã\\x83â\\x83â\\x83ã\\x83â\\x82â\\x83ã\\x83â\\x83â\\x82ã\\x83â\\x82â\\x82ã\\x83â\\x83â\\x83ã\\x83â\\x82â\\x82ã\\x83â\\x83â\\x82ã\\x83â\\x82â\\x87ã\\x83â\\x83â\\x83ã\\x83â\\x82â\\x83ã\\x83â\\x83â\\x82ã\\x83â\\x82â\\x82ã\\x83â\\x83â\\x83ã\\x83â\\x82â\\x82ã\\x83â\\x83â\\x82ã\\x83â\\x82ã\\x82â¸ service is pretty average as well, we need to call somebody in the hotel to clean the table for us.\\r\\n\\r\\nã\\x83â\\x83â\\x83ã\\x83â\\x82â\\x83ã\\x83â\\x83â\\x82ã\\x83â\\x82â\\x83ã\\x83â\\x83â\\x83ã\\x83â\\x82â\\x82ã\\x83â\\x83â\\x82ã\\x83â\\x82ã\\x82â°ã\\x83â\\x83â\\x83ã\\x83â\\x82â\\x83ã\\x83â\\x83â\\x82ã\\x83â\\x82â\\x82ã\\x83â\\x83â\\x83ã\\x83â\\x82â\\x82ã\\x83â\\x83â\\x82ã\\x83â\\x82â\\x9fã\\x83â\\x83â\\x83ã\\x83â\\x82â\\x83ã\\x83â\\x83â\\x82ã\\x83â\\x82â\\x82ã\\x83â\\x83â\\x83ã\\x83â\\x82â\\x82ã\\x83â\\x83â\\x82ã\\x83â\\x82â\\x87ã\\x83â\\x83â\\x83ã\\x83â\\x82â\\x83ã\\x83â\\x83â\\x82ã\\x83â\\x82â\\x82ã\\x83â\\x83â\\x83ã\\x83â\\x82â\\x82ã\\x83â\\x83â\\x82ã\\x83â\\x82ã\\x82â«ã\\x83â\\x83â\\x83ã\\x83â\\x82â\\x83ã\\x83â\\x83â\\x82ã\\x83â\\x82â\\x83ã\\x83â\\x83â\\x83ã\\x83â\\x82â\\x82ã\\x83â\\x83â\\x82ã\\x83â\\x82ã\\x82â°ã\\x83â\\x83â\\x83ã\\x83â\\x82â\\x83ã\\x83â\\x83â\\x82ã\\x83â\\x82â\\x82ã\\x83â\\x83â\\x83ã\\x83â\\x82â\\x82ã\\x83â\\x83â\\x82ã\\x83â\\x82â\\x9fã\\x83â\\x83â\\x83ã\\x83â\\x82â\\x83ã\\x83â\\x83â\\x82ã\\x83â\\x82â\\x82ã\\x83â\\x83â\\x83ã\\x83â\\x82â\\x82ã\\x83â\\x83â\\x82ã\\x83â\\x82â\\x8dã\\x83â\\x83â\\x83ã\\x83â\\x82â\\x83ã\\x83â\\x83â\\x82ã\\x83â\\x82â\\x82ã\\x83â\\x83â\\x83ã\\x83â\\x82â\\x82ã\\x83â\\x83â\\x82ã\\x83â\\x82ã\\x82â½ã\\x83â\\x83â\\x83ã\\x83â\\x82â\\x83ã\\x83â\\x83â\\x82ã\\x83â\\x82â\\x83ã\\x83â\\x83â\\x83ã\\x83â\\x82â\\x82ã\\x83â\\x83â\\x82ã\\x83â\\x82ã\\x82â¯ã\\x83â\\x83â\\x83ã\\x83â\\x82â\\x83ã\\x83â\\x83â\\x82ã\\x83â\\x82â\\x82ã\\x83â\\x83â\\x83ã\\x83â\\x82â\\x82ã\\x83â\\x83â\\x82ã\\x83â\\x82ã\\x82â¸ã\\x83â\\x83â\\x83ã\\x83â\\x82â\\x83ã\\x83â\\x83â\\x82ã\\x83â\\x82â\\x82ã\\x83â\\x83â\\x83ã\\x83â\\x82â\\x82ã\\x83â\\x83â\\x82ã\\x83â\\x82â\\x8fwhat is ate ???\\r\\nã\\x83â\\x83â\\x83ã\\x83â\\x82â\\x83ã\\x83â\\x83â\\x82ã\\x83â\\x82â\\x83ã\\x83â\\x83â\\x83ã\\x83â\\x82â\\x82ã\\x83â\\x83â\\x82ã\\x83â\\x82ã\\x82â°ã\\x83â\\x83â\\x83ã\\x83â\\x82â\\x83ã\\x83â\\x83â\\x82ã\\x83â\\x82â\\x82ã\\x83â\\x83â\\x83ã\\x83â\\x82â\\x82ã\\x83â\\x83â\\x82ã\\x83â\\x82â\\x9fã\\x83â\\x83â\\x83ã\\x83â\\x82â\\x83ã\\x83â\\x83â\\x82ã\\x83â\\x82â\\x82ã\\x83â\\x83â\\x83ã\\x83â\\x82â\\x82ã\\x83â\\x83â\\x82ã\\x83â\\x82â\\x8dã\\x83â\\x83â\\x83ã\\x83â\\x82â\\x83ã\\x83â\\x83â\\x82ã\\x83â\\x82â\\x82ã\\x83â\\x83â\\x83ã\\x83â\\x82â\\x82ã\\x83â\\x83â\\x82ã\\x83â\\x82ã\\x82â´ chicken biryani ã\\x83â\\x83â\\x83ã\\x83â\\x82â\\x83ã\\x83â\\x83â\\x82ã\\x83â\\x82â\\x83ã\\x83â\\x83â\\x83ã\\x83â\\x82â\\x82ã\\x83â\\x83â\\x82ã\\x83â\\x82ã\\x82â¢ã\\x83â\\x83â\\x83ã\\x83â\\x82â\\x83ã\\x83â\\x83â\\x82ã\\x83â\\x82â\\x82ã\\x83â\\x83â\\x83ã\\x83â\\x82â\\x82ã\\x83â\\x83â\\x82ã\\x83â\\x82â\\x9eã\\x83â\\x83â\\x83ã\\x83â\\x82â\\x83ã\\x83â\\x83â\\x82ã\\x83â\\x82â\\x82ã\\x83â\\x83â\\x83ã\\x83â\\x82â\\x82ã\\x83â\\x83â\\x82ã\\x83â\\x82ã\\x82â¡ã\\x83â\\x83â\\x83ã\\x83â\\x82â\\x83ã\\x83â\\x83â\\x82ã\\x83â\\x82â\\x83ã\\x83â\\x83â\\x83ã\\x83â\\x82â\\x82ã\\x83â\\x83â\\x82ã\\x83â\\x82ã\\x82â¯ã\\x83â\\x83â\\x83ã\\x83â\\x82â\\x83ã\\x83â\\x83â\\x82ã\\x83â\\x82â\\x82ã\\x83â\\x83â\\x83ã\\x83â\\x82â\\x82ã\\x83â\\x83â\\x82ã\\x83â\\x82ã\\x82â¸ã\\x83â\\x83â\\x83ã\\x83â\\x82â\\x83ã\\x83â\\x83â\\x82ã\\x83â\\x82â\\x82ã\\x83â\\x83â\\x83ã\\x83â\\x82â\\x82ã\\x83â\\x83â\\x82ã\\x83â\\x82â\\x8f chicken biryani wasn't great, it was more like khuska cooked with few chicken pieces in them.\\r\\n\\r\\nã\\x83â\\x83â\\x83ã\\x83â\\x82â\\x83ã\\x83â\\x83â\\x82ã\\x83â\\x82â\\x83ã\\x83â\\x83â\\x83ã\\x83â\\x82â\\x82ã\\x83â\\x83â\\x82ã\\x83â\\x82ã\\x82â°ã\\x83â\\x83â\\x83ã\\x83â\\x82â\\x83ã\\x83â\\x83â\\x82ã\\x83â\\x82â\\x82ã\\x83â\\x83â\\x83ã\\x83â\\x82â\\x82ã\\x83â\\x83â\\x82ã\\x83â\\x82â\\x9fã\\x83â\\x83â\\x83ã\\x83â\\x82â\\x83ã\\x83â\\x83â\\x82ã\\x83â\\x82â\\x82ã\\x83â\\x83â\\x83ã\\x83â\\x82â\\x82ã\\x83â\\x83â\\x82ã\\x83â\\x82â\\x8dã\\x83â\\x83â\\x83ã\\x83â\\x82â\\x83ã\\x83â\\x83â\\x82ã\\x83â\\x82â\\x82ã\\x83â\\x83â\\x83ã\\x83â\\x82â\\x82ã\\x83â\\x83â\\x82ã\\x83â\\x82ã\\x82â´ chicken kabab ã\\x83â\\x83â\\x83ã\\x83â\\x82â\\x83ã\\x83â\\x83â\\x82ã\\x83â\\x82â\\x83ã\\x83â\\x83â\\x83ã\\x83â\\x82â\\x82ã\\x83â\\x83â\\x82ã\\x83â\\x82ã\\x82â¢ã\\x83â\\x83â\\x83ã\\x83â\\x82â\\x83ã\\x83â\\x83â\\x82ã\\x83â\\x82â\\x82ã\\x83â\\x83â\\x83ã\\x83â\\x82â\\x82ã\\x83â\\x83â\\x82ã\\x83â\\x82â\\x9eã\\x83â\\x83â\\x83ã\\x83â\\x82â\\x83ã\\x83â\\x83â\\x82ã\\x83â\\x82â\\x82ã\\x83â\\x83â\\x83ã\\x83â\\x82â\\x82ã\\x83â\\x83â\\x82ã\\x83â\\x82ã\\x82â¡ã\\x83â\\x83â\\x83ã\\x83â\\x82â\\x83ã\\x83â\\x83â\\x82ã\\x83â\\x82â\\x83ã\\x83â\\x83â\\x83ã\\x83â\\x82â\\x82ã\\x83â\\x83â\\x82ã\\x83â\\x82ã\\x82â¯ã\\x83â\\x83â\\x83ã\\x83â\\x82â\\x83ã\\x83â\\x83â\\x82ã\\x83â\\x82â\\x82ã\\x83â\\x83â\\x83ã\\x83â\\x82â\\x82ã\\x83â\\x83â\\x82ã\\x83â\\x82ã\\x82â¸ã\\x83â\\x83â\\x83ã\\x83â\\x82â\\x83ã\\x83â\\x83â\\x82ã\\x83â\\x82â\\x82ã\\x83â\\x83â\\x83ã\\x83â\\x82â\\x82ã\\x83â\\x83â\\x82ã\\x83â\\x82â\\x8f chicken kabab was just above average and no much significant in them either.\\r\\n\\r\\nall and all after waiting for over 10mins for biryani, i was pretty disappointed by the hotel management on all aspects.\",\n",
       " 'instead of the order i placed i got the different item ã\\x83â\\x83â\\x83ã\\x83â\\x82â\\x83ã\\x83â\\x83â\\x82ã\\x83â\\x82â\\x83ã\\x83â\\x83â\\x83ã\\x83â\\x82â\\x82ã\\x83â\\x83â\\x82ã\\x83â\\x82ã\\x82â°ã\\x83â\\x83â\\x83ã\\x83â\\x82â\\x83ã\\x83â\\x83â\\x82ã\\x83â\\x82â\\x82ã\\x83â\\x83â\\x83ã\\x83â\\x82â\\x82ã\\x83â\\x83â\\x82ã\\x83â\\x82â\\x9fã\\x83â\\x83â\\x83ã\\x83â\\x82â\\x83ã\\x83â\\x83â\\x82ã\\x83â\\x82â\\x82ã\\x83â\\x83â\\x83ã\\x83â\\x82â\\x82ã\\x83â\\x83â\\x82ã\\x83â\\x82â\\x98ã\\x83â\\x83â\\x83ã\\x83â\\x82â\\x83ã\\x83â\\x83â\\x82ã\\x83â\\x82â\\x82ã\\x83â\\x83â\\x83ã\\x83â\\x82â\\x82ã\\x83â\\x83â\\x82ã\\x83â\\x82ã\\x82â¡',\n",
       " 'how is this possible? i have not received the order and your asking for feedback?',\n",
       " 'gud taste',\n",
       " 'awesome fud',\n",
       " 'very tasty food',\n",
       " \"worst taste i didn't eat biriyani like this earlier\",\n",
       " 'biryani is very good. it could be more better if the gravy is good',\n",
       " 'very genuine guy',\n",
       " 'late delivery',\n",
       " 'old chicken served.. smells very bad, not recommended at all',\n",
       " 'goood',\n",
       " 'ordered chicken fry, got chicken leg',\n",
       " 'no good biryani',\n",
       " 'i used to be regular to this place for lunch. but could not handle spicy food.\\r\\n\\r\\nplease note the biryani preparation is different here.\\r\\n\\r\\nit is typical bangalore kinda preparation. and not like hyderabadi biryani or dumm biryani or ambur style.\\r\\n\\r\\nbiryani served in a leaf bowl..\\r\\n\\r\\nmenu has few option with spicy and yumm food',\n",
       " 'old chicken served.. smells very bad, not recommended at all',\n",
       " 'goood',\n",
       " 'ordered chicken fry, got chicken leg',\n",
       " 'no good biryani',\n",
       " 'i used to be regular to this place for lunch. but could not handle spicy food.\\r\\n\\r\\nplease note the biryani preparation is different here.\\r\\n\\r\\nit is typical bangalore kinda preparation. and not like hyderabadi biryani or dumm biryani or ambur style.\\r\\n\\r\\nbiryani served in a leaf bowl..\\r\\n\\r\\nmenu has few option with spicy and yumm food',\n",
       " 'old chicken served.. smells very bad, not recommended at all',\n",
       " 'goood',\n",
       " 'ordered chicken fry, got chicken leg',\n",
       " 'no good biryani',\n",
       " 'i used to be regular to this place for lunch. but could not handle spicy food.\\r\\n\\r\\nplease note the biryani preparation is different here.\\r\\n\\r\\nit is typical bangalore kinda preparation. and not like hyderabadi biryani or dumm biryani or ambur style.\\r\\n\\r\\nbiryani served in a leaf bowl..\\r\\n\\r\\nmenu has few option with spicy and yumm food',\n",
       " 'old chicken served.. smells very bad, not recommended at all',\n",
       " 'goood',\n",
       " 'ordered chicken fry, got chicken leg',\n",
       " 'no good biryani',\n",
       " 'i used to be regular to this place for lunch. but could not handle spicy food.\\r\\n\\r\\nplease note the biryani preparation is different here.\\r\\n\\r\\nit is typical bangalore kinda preparation. and not like hyderabadi biryani or dumm biryani or ambur style.\\r\\n\\r\\nbiryani served in a leaf bowl..\\r\\n\\r\\nmenu has few option with spicy and yumm food',\n",
       " \"this place is pretty new and was suggested to me by my brothers. it's a tiny restaurant which can seat hardly 15 people at once. ambience is nothing fancy but the food makes it up.\\r\\nwe ordered chicken and mutton biryani which was heavenly. it's fragrant and very flavourful. it's light on masala as well.\\r\\nwe also ordered mutton leg curry which was spicy and served as a perfect side dish for biryani.\\r\\nwe ordered a plate of kebabs which was crispy and not oily at all. we also picked mutton chops which was delicious!\\r\\nit's also very easy on the pocket. pau 250 and you'll walk out a happy man with a full tummy!\\r\\nambience : 3\\r\\nfood : 5\\r\\nservice : 4\",\n",
       " 'mutton biryani was cooked to the perfect, mutton pepper dry was good. tried leg soup- should have been little spicy but taste was good.\\r\\ntypical naati style food and anyone goes here will not get disappointed.',\n",
       " 'loved the sandwhiches',\n",
       " 'food was good... sandwich was yum...\\r\\nboth veg n non veg sandwich were tasty... club sandwich...\\r\\npaneer club sandwich n chicken club sandwich... awesm taste',\n",
       " 'chicken tasted stale. one of the worst sandwiches i have eaten. will never order again from here',\n",
       " 'faster service',\n",
       " 'delicious burger',\n",
       " 'fantastic food as always from hot burg',\n",
       " 'excellent',\n",
       " 'awesome',\n",
       " 'favorite place since college days, egg sandwich is awesome combined with avocado milk shake. puffs are good too along with the quality of cakes what you get generally in regular bakeries.',\n",
       " \"was looking forward towards a good chocolate pastry experience and was terribly disappointed. the only difference between a chocolate truffle and black forest pastry was some weird chocolate syrup on the pastries. wouldn't recommend getting pastries from this place. don't know about the food here but i am quite skeptical to try it now.\",\n",
       " 'bad service .. kind of we dont care attitude service..ordered food dint even get delivered..................................................',\n",
       " \"it's near too my house i live . and m too impressed my the burger n sandwiches .it also severs juice n shakes which are good. nxt time i ll try there shorma.\",\n",
       " 'dis place is shifted nxt to hsbc bank ....wide range of items cakes ice cream biscuits puffs juices etc as my office ws rite nxt to it.....used to visit everyday still ws nt bored with it',\n",
       " 'i was hea a couple of days ago wit my frens. wanted to xplore its menu items. it ws temptin.. not a very good place to sit n eat, ders no a/c.. limited seats.. not too crowded as well.. lookin at these v oly ordered a fw.. paneer cheese sandwich chicken cheese sandwich.. had to wait fo 20mins, but enjoyed the sandwich. it ws lip smackin.. spicy and yum.. i would giv a low ratin cus its of price wic i don thnk is reasonable, but otherwise m least likely to visit agn..',\n",
       " \"it was raining out and i was hungry. wanted to have a sandwich but there was no power in this place.\\r\\n\\r\\ni saw some ice cream containers here without power. those who like i've creams suggestion is do not eat here.\\r\\n\\r\\nfinally i settled with chicken shovarma...\\r\\nit was good wrap.\\r\\n\\r\\ncould not give more points due to hygiene but taste was satisfactory.\",\n",
       " 'bad service .. kind of we dont care attitude service..ordered food dint even get delivered..................................................',\n",
       " \"it's near too my house i live . and m too impressed my the burger n sandwiches .it also severs juice n shakes which are good. nxt time i ll try there shorma.\",\n",
       " 'dis place is shifted nxt to hsbc bank ....wide range of items cakes ice cream biscuits puffs juices etc as my office ws rite nxt to it.....used to visit everyday still ws nt bored with it',\n",
       " 'i was hea a couple of days ago wit my frens. wanted to xplore its menu items. it ws temptin.. not a very good place to sit n eat, ders no a/c.. limited seats.. not too crowded as well.. lookin at these v oly ordered a fw.. paneer cheese sandwich chicken cheese sandwich.. had to wait fo 20mins, but enjoyed the sandwich. it ws lip smackin.. spicy and yum.. i would giv a low ratin cus its of price wic i don thnk is reasonable, but otherwise m least likely to visit agn..',\n",
       " \"it was raining out and i was hungry. wanted to have a sandwich but there was no power in this place.\\r\\n\\r\\ni saw some ice cream containers here without power. those who like i've creams suggestion is do not eat here.\\r\\n\\r\\nfinally i settled with chicken shovarma...\\r\\nit was good wrap.\\r\\n\\r\\ncould not give more points due to hygiene but taste was satisfactory.\",\n",
       " 'bad service .. kind of we dont care attitude service..ordered food dint even get delivered..................................................',\n",
       " \"it's near too my house i live . and m too impressed my the burger n sandwiches .it also severs juice n shakes which are good. nxt time i ll try there shorma.\",\n",
       " 'dis place is shifted nxt to hsbc bank ....wide range of items cakes ice cream biscuits puffs juices etc as my office ws rite nxt to it.....used to visit everyday still ws nt bored with it',\n",
       " 'i was hea a couple of days ago wit my frens. wanted to xplore its menu items. it ws temptin.. not a very good place to sit n eat, ders no a/c.. limited seats.. not too crowded as well.. lookin at these v oly ordered a fw.. paneer cheese sandwich chicken cheese sandwich.. had to wait fo 20mins, but enjoyed the sandwich. it ws lip smackin.. spicy and yum.. i would giv a low ratin cus its of price wic i don thnk is reasonable, but otherwise m least likely to visit agn..',\n",
       " \"it was raining out and i was hungry. wanted to have a sandwich but there was no power in this place.\\r\\n\\r\\ni saw some ice cream containers here without power. those who like i've creams suggestion is do not eat here.\\r\\n\\r\\nfinally i settled with chicken shovarma...\\r\\nit was good wrap.\\r\\n\\r\\ncould not give more points due to hygiene but taste was satisfactory.\",\n",
       " 'bad service .. kind of we dont care attitude service..ordered food dint even get delivered..................................................',\n",
       " \"it's near too my house i live . and m too impressed my the burger n sandwiches .it also severs juice n shakes which are good. nxt time i ll try there shorma.\",\n",
       " 'dis place is shifted nxt to hsbc bank ....wide range of items cakes ice cream biscuits puffs juices etc as my office ws rite nxt to it.....used to visit everyday still ws nt bored with it',\n",
       " 'i was hea a couple of days ago wit my frens. wanted to xplore its menu items. it ws temptin.. not a very good place to sit n eat, ders no a/c.. limited seats.. not too crowded as well.. lookin at these v oly ordered a fw.. paneer cheese sandwich chicken cheese sandwich.. had to wait fo 20mins, but enjoyed the sandwich. it ws lip smackin.. spicy and yum.. i would giv a low ratin cus its of price wic i don thnk is reasonable, but otherwise m least likely to visit agn..',\n",
       " \"it was raining out and i was hungry. wanted to have a sandwich but there was no power in this place.\\r\\n\\r\\ni saw some ice cream containers here without power. those who like i've creams suggestion is do not eat here.\\r\\n\\r\\nfinally i settled with chicken shovarma...\\r\\nit was good wrap.\\r\\n\\r\\ncould not give more points due to hygiene but taste was satisfactory.\",\n",
       " \"hot burg is a regular road side bakery which offers the regular bakery items.\\r\\n\\r\\nlocated near vasudev adiga's on bannerghatta road this bakery offers the regular vegetable puffs, egg puffs, paneer puffs, pastries, cakes, sandwich and burgers. besides this you also get chai and coffee. in the evening time, you also get shawarma (plate variant and the regular).\\r\\n\\r\\nit is just a regular bakery.\",\n",
       " 'i like this place for my evening snacks. never miss to come hear.food quality n behavior of staff is good.but they are not constraint about cleaning.\\r\\nthanks just take littlr care about your cleaning part then those who are visit your place next time again they will come',\n",
       " 'total bad experience:\\r\\n1. the taste is worst.\\r\\n2. the size of burger, sandwiches is even smaller than cost\\r\\n3. do not dare placing an home delivery order, they will waste your time and finally will say \"its very long, cannot place the order\".',\n",
       " 'i dont know if anyone has experienced this but i took moti-chur pak/burfi to mangalore and handed it over to my relatives. they ate it the next day. so 2 elapsed days from me buying to the consumption. they said 2-3 pieces were spoiled. i had also taken kaju katli and some roasted almond and channa burfi (which was quite good and different), luckily these turned out to be ok. sometime back i had taken some of these sweets on a trip to ireland and again within the span of 2 days i found they were changing taste.\\r\\n\\r\\nmy assumption was that quite a lot of people frequent this shop and hence there wont be any stale sweets - but these experiences i have had are turning out to be the contrary. shame on you guys.',\n",
       " 'very clean and neat place. the food is stored and served in hygenic environment and staff are well trained as well.\\r\\n\\r\\nthe taste of sweets are really good and they maintain the same standards across the stores.\\r\\n\\r\\nthey do serve chaats here at bsk but they are generally quite sweet as well.\\r\\n\\r\\nlove the dhai balla , katori chat and dhai puri.\\r\\n\\r\\npriced slightly higher than your avg sweet shop the quality and taste justifies the pricing.\\r\\n\\r\\nsweets like kaju katli are priced about 930/kg.\\r\\n\\r\\npacking is premium as well.\\r\\n\\r\\ngood sweets , clean ambience and good service.',\n",
       " \"went to this shop in the afternoon around 1:40 and could immediately see flies in the first section of sweets as soon as you enter. then i realized there was a dead fly in the motichoor ladoo and took a picture which i have uploaded. when i told the staff about it, he just threw that piece away! i don't think i would ever risk buying sweets from this place ever!!!\",\n",
       " 'the sweets are pretty good here, if not the best.\\r\\nthe shop looks hygienic & cool.\\r\\nthe chats were not that great.\\r\\noverall, the shop is on the right path.',\n",
       " 'this place has always been a heaven for sweet lovers. they are the best north indian sweet makers. have an excellent variety of sweets. they are always fresh and if case they are spoiled for some reason the store will not sell it. quality is assured. a must recommended place',\n",
       " 'anand sweets is a well known name in bangalore. lots of sweets and snacks. really nice taste, hygienic and premium verities. rasmali is a must have. their dhoklas are also very nice.',\n",
       " 'the quality of sweets is very good. however most of the items are over priced. love the kachoris, the chaats, and dhokla here. the rasmalai is good too. the kachori chaat with added dahi is one of the best items i have had here.\\r\\n\\r\\nthey refuse to give dahi with the plain kachori insisting that dahi comes only with the chaat items. i wish they serve kachoris with optional curd and not only with chutneys.',\n",
       " 'i go very often to anand sweets, since there are very good sweet shops around this vicinity. however, some of the sweets are unmatchable over here. i usually prefer going to anand sweets for some special occasions at home. the anand sweets near bda complex is well maintained with good dã\\x83â\\x83â\\x83ã\\x83â\\x82â\\x83ã\\x83â\\x83â\\x82ã\\x83â\\x82â\\x83ã\\x83â\\x83â\\x83ã\\x83â\\x82â\\x82ã\\x83â\\x83â\\x82ã\\x83â\\x82ã\\x82â©cor. i just love their chaats like samosa chat, dahi puri and bhel puri because of typical north indian flavor. prices are higher end and may be double compare to other sweet shops. i will recommend this place!\\r\\n\\r\\nbangaloreepicure.com',\n",
       " 'always loves anand sweets.\\r\\ntook motichor laddoo and mixture.\\r\\ntried other sweets from other outlets. taste is very good.\\r\\nboth were very good.\\r\\ncost is reasonable.\\r\\nnice packing.\\r\\nservice is also good.',\n",
       " 'sweets are costly , the staff are lazy , but very nice for evening snacks mixed variety of dishes are available please do not go on odd times .',\n",
       " 'another nice sweets and chats place. but with something new to offer..  has slightly authentic delhi chat flavours to it..the sweet gullas are also decent.. another favourite of my kids..',\n",
       " \"super excited to have the delicious varieties of chaats,sweets and namkeen now available in banshankri, just opposite bda complex(on the same road as gelato/polar bear/itsy bitsy). my personal favourite would be the lassi,badam milk,rasmalai ,rasgulla, papdi chaat, dahi bhalla, dahi puri and almost all the other bengali sweets. absolutely delicious!\\r\\ncons: there is no place to sit at all. you'd have to eat your chaat standing. more suitable for takeaways.\",\n",
       " '\"sweets\" everyone\\'s favourite!!! just don\\'t feel like getting out of this place cuz everything looks so delicious! tried almost every sweet here, motichoor laddu stands at the peak, it almost melts as soon as one puts it in the mouth! rasgullas and jamoons are to die for!',\n",
       " 'they closed down the first floor service section... i really loved the chole batura...n the badam,milk\\r\\n\\r\\nhopefully they start all their food items service all over again',\n",
       " 'very gud taste..service is gud...nice place to hangout...',\n",
       " 'quick service, decent ambience,i expected chur chur naan more crispy and flaky but it was just like amritsari kulcha, they both seem same,which were good though. i ordered the spiciest ones on the main course which turned out not spicy at all.overall, food is good.',\n",
       " 'have been to this restaurant recently. the place was very quote and not much crowd. was craving for good north indian food over long time after we moved from hyd to banglore. this place doesnã\\x83â\\x83â\\x83ã\\x83â\\x82â\\x83ã\\x83â\\x83â\\x82ã\\x83â\\x82â\\x83ã\\x83â\\x83â\\x83ã\\x83â\\x82â\\x82ã\\x83â\\x83â\\x82ã\\x83â\\x82ã\\x82â¢ã\\x83â\\x83â\\x83ã\\x83â\\x82â\\x83ã\\x83â\\x83â\\x82ã\\x83â\\x82â\\x82ã\\x83â\\x83â\\x83ã\\x83â\\x82â\\x82ã\\x83â\\x83â\\x82ã\\x83â\\x82â\\x80ã\\x83â\\x83â\\x83ã\\x83â\\x82â\\x83ã\\x83â\\x83â\\x82ã\\x83â\\x82â\\x82ã\\x83â\\x83â\\x83ã\\x83â\\x82â\\x82ã\\x83â\\x83â\\x82ã\\x83â\\x82â\\x99t disappoint me. quality of the food they served was awesome tried paneer kadai, garlic naan, bindi masala. most of all i liked the mint chutney and the small onion they serve with the starters. good place will definitely visit again',\n",
       " 'friendly punjabi fanfare. the ambience is warm and welcoming as is the food. vegetarians have a good choice too and some relief if you need a bit of chinese as well.\\r\\nwe got fast service despite the fact that it was a saturday.',\n",
       " 'it is my go to place for food. from food to hospitality,this place ensures all.their punjabi food is tasty and authentic. specially their starters are amazing.',\n",
       " 'visited this place to have authentic north indian food, and we were not disappointed.\\r\\nwe ordered tomato coriander shorts to begin with, and it was good.\\r\\nin the main course, we ordered pindi chana, paneer butter masala, pudeena parantha, lachha parantha and tandoori roti.\\r\\nthe curries were tasty, though a lot oily, we felt. but, most of the places serving north indian cuisine have started to prepare curries like this year days! they catered to our demand of having a curry with no onion - no garlic, so the paneer masala was sans onion and garlic, and still flavourful.\\r\\nthe ambiance of the place is nice, fine-dining one, to be enjoyed with family :)\\r\\nprices are pocket friendly too.',\n",
       " 'the food is average. the hope was to get authentic north indian but thatã\\x83â\\x83â\\x83ã\\x83â\\x82â\\x83ã\\x83â\\x83â\\x82ã\\x83â\\x82â\\x83ã\\x83â\\x83â\\x83ã\\x83â\\x82â\\x82ã\\x83â\\x83â\\x82ã\\x83â\\x82ã\\x82â¢ã\\x83â\\x83â\\x83ã\\x83â\\x82â\\x83ã\\x83â\\x83â\\x82ã\\x83â\\x82â\\x82ã\\x83â\\x83â\\x83ã\\x83â\\x82â\\x82ã\\x83â\\x83â\\x82ã\\x83â\\x82â\\x80ã\\x83â\\x83â\\x83ã\\x83â\\x82â\\x83ã\\x83â\\x83â\\x82ã\\x83â\\x82â\\x82ã\\x83â\\x83â\\x83ã\\x83â\\x82â\\x82ã\\x83â\\x83â\\x82ã\\x83â\\x82â\\x99s not the case. the service was good. fresh sarso saag not available even in winters',\n",
       " 'visited this place last weekend as we were craving for some authentic punjabi food. from the appetizer section, we had hara bhara kebab which was delicious. ordered sarson ka saag, methi malai paneer, missi roti, butter naan and makki ki roti. sarson ka saag was good, however, methi malai paneer was filled with spoonfuls of sugar for some strange reason. we even checked with the person waiting our table before ordering if it will be sweet, he completely denied. once we received the order, we were disappointed after tasting methi malai paneer. do not order methi malai paneer for the main course because the dish can be served as a dessert. \\r\\n\\r\\nfood (taste) ã\\x83â\\x83â\\x83ã\\x83â\\x82â\\x83ã\\x83â\\x83â\\x82ã\\x83â\\x82â\\x83ã\\x83â\\x83â\\x83ã\\x83â\\x82â\\x82ã\\x83â\\x83â\\x82ã\\x83â\\x82ã\\x82â¢ã\\x83â\\x83â\\x83ã\\x83â\\x82â\\x83ã\\x83â\\x83â\\x82ã\\x83â\\x82â\\x82ã\\x83â\\x83â\\x83ã\\x83â\\x82â\\x82ã\\x83â\\x83â\\x82ã\\x83â\\x82â\\x80ã\\x83â\\x83â\\x83ã\\x83â\\x82â\\x83ã\\x83â\\x83â\\x82ã\\x83â\\x82â\\x82ã\\x83â\\x83â\\x83ã\\x83â\\x82â\\x82ã\\x83â\\x83â\\x82ã\\x83â\\x82â\\x93 2.5/5\\r\\n\\r\\nvalue for money ã\\x83â\\x83â\\x83ã\\x83â\\x82â\\x83ã\\x83â\\x83â\\x82ã\\x83â\\x82â\\x83ã\\x83â\\x83â\\x83ã\\x83â\\x82â\\x82ã\\x83â\\x83â\\x82ã\\x83â\\x82ã\\x82â¢ã\\x83â\\x83â\\x83ã\\x83â\\x82â\\x83ã\\x83â\\x83â\\x82ã\\x83â\\x82â\\x82ã\\x83â\\x83â\\x83ã\\x83â\\x82â\\x82ã\\x83â\\x83â\\x82ã\\x83â\\x82â\\x80ã\\x83â\\x83â\\x83ã\\x83â\\x82â\\x83ã\\x83â\\x83â\\x82ã\\x83â\\x82â\\x82ã\\x83â\\x83â\\x83ã\\x83â\\x82â\\x82ã\\x83â\\x83â\\x82ã\\x83â\\x82â\\x93 2.5/5\\r\\n\\r\\nambiance ã\\x83â\\x83â\\x83ã\\x83â\\x82â\\x83ã\\x83â\\x83â\\x82ã\\x83â\\x82â\\x83ã\\x83â\\x83â\\x83ã\\x83â\\x82â\\x82ã\\x83â\\x83â\\x82ã\\x83â\\x82ã\\x82â¢ã\\x83â\\x83â\\x83ã\\x83â\\x82â\\x83ã\\x83â\\x83â\\x82ã\\x83â\\x82â\\x82ã\\x83â\\x83â\\x83ã\\x83â\\x82â\\x82ã\\x83â\\x83â\\x82ã\\x83â\\x82â\\x80ã\\x83â\\x83â\\x83ã\\x83â\\x82â\\x83ã\\x83â\\x83â\\x82ã\\x83â\\x82â\\x82ã\\x83â\\x83â\\x83ã\\x83â\\x82â\\x82ã\\x83â\\x83â\\x82ã\\x83â\\x82â\\x93 2/5\\r\\n\\r\\nmanagement ã\\x83â\\x83â\\x83ã\\x83â\\x82â\\x83ã\\x83â\\x83â\\x82ã\\x83â\\x82â\\x83ã\\x83â\\x83â\\x83ã\\x83â\\x82â\\x82ã\\x83â\\x83â\\x82ã\\x83â\\x82ã\\x82â¢ã\\x83â\\x83â\\x83ã\\x83â\\x82â\\x83ã\\x83â\\x83â\\x82ã\\x83â\\x82â\\x82ã\\x83â\\x83â\\x83ã\\x83â\\x82â\\x82ã\\x83â\\x83â\\x82ã\\x83â\\x82â\\x80ã\\x83â\\x83â\\x83ã\\x83â\\x82â\\x83ã\\x83â\\x83â\\x82ã\\x83â\\x82â\\x82ã\\x83â\\x83â\\x83ã\\x83â\\x82â\\x82ã\\x83â\\x83â\\x82ã\\x83â\\x82â\\x93 2/5\\r\\n\\r\\non my ã\\x83â\\x83â\\x83ã\\x83â\\x82â\\x83ã\\x83â\\x83â\\x82ã\\x83â\\x82â\\x83ã\\x83â\\x83â\\x83ã\\x83â\\x82â\\x82ã\\x83â\\x83â\\x82ã\\x83â\\x82ã\\x82â¢ã\\x83â\\x83â\\x83ã\\x83â\\x82â\\x83ã\\x83â\\x83â\\x82ã\\x83â\\x82â\\x82ã\\x83â\\x83â\\x83ã\\x83â\\x82â\\x82ã\\x83â\\x83â\\x82ã\\x83â\\x82â\\x80ã\\x83â\\x83â\\x83ã\\x83â\\x82â\\x83ã\\x83â\\x83â\\x82ã\\x83â\\x82â\\x82ã\\x83â\\x83â\\x83ã\\x83â\\x82â\\x82ã\\x83â\\x83â\\x82ã\\x83â\\x82â\\x98visit againã\\x83â\\x83â\\x83ã\\x83â\\x82â\\x83ã\\x83â\\x83â\\x82ã\\x83â\\x82â\\x83ã\\x83â\\x83â\\x83ã\\x83â\\x82â\\x82ã\\x83â\\x83â\\x82ã\\x83â\\x82ã\\x82â¢ã\\x83â\\x83â\\x83ã\\x83â\\x82â\\x83ã\\x83â\\x83â\\x82ã\\x83â\\x82â\\x82ã\\x83â\\x83â\\x83ã\\x83â\\x82â\\x82ã\\x83â\\x83â\\x82ã\\x83â\\x82â\\x80ã\\x83â\\x83â\\x83ã\\x83â\\x82â\\x83ã\\x83â\\x83â\\x82ã\\x83â\\x82â\\x82ã\\x83â\\x83â\\x83ã\\x83â\\x82â\\x82ã\\x83â\\x83â\\x82ã\\x83â\\x82â\\x99 list ã\\x83â\\x83â\\x83ã\\x83â\\x82â\\x83ã\\x83â\\x83â\\x82ã\\x83â\\x82â\\x83ã\\x83â\\x83â\\x83ã\\x83â\\x82â\\x82ã\\x83â\\x83â\\x82ã\\x83â\\x82ã\\x82â¢ã\\x83â\\x83â\\x83ã\\x83â\\x82â\\x83ã\\x83â\\x83â\\x82ã\\x83â\\x82â\\x82ã\\x83â\\x83â\\x83ã\\x83â\\x82â\\x82ã\\x83â\\x83â\\x82ã\\x83â\\x82â\\x80ã\\x83â\\x83â\\x83ã\\x83â\\x82â\\x83ã\\x83â\\x83â\\x82ã\\x83â\\x82â\\x82ã\\x83â\\x83â\\x83ã\\x83â\\x82â\\x82ã\\x83â\\x83â\\x82ã\\x83â\\x82â\\x93 canã\\x83â\\x83â\\x83ã\\x83â\\x82â\\x83ã\\x83â\\x83â\\x82ã\\x83â\\x82â\\x83ã\\x83â\\x83â\\x83ã\\x83â\\x82â\\x82ã\\x83â\\x83â\\x82ã\\x83â\\x82ã\\x82â¢ã\\x83â\\x83â\\x83ã\\x83â\\x82â\\x83ã\\x83â\\x83â\\x82ã\\x83â\\x82â\\x82ã\\x83â\\x83â\\x83ã\\x83â\\x82â\\x82ã\\x83â\\x83â\\x82ã\\x83â\\x82â\\x80ã\\x83â\\x83â\\x83ã\\x83â\\x82â\\x83ã\\x83â\\x83â\\x82ã\\x83â\\x82â\\x82ã\\x83â\\x83â\\x83ã\\x83â\\x82â\\x82ã\\x83â\\x83â\\x82ã\\x83â\\x82â\\x99t say',\n",
       " 'this place is the latest addition to growing punjabi rasoi chain of restaurants, situated on the upper floor, above a popular star bazaar. they have four branches in bangalore.\\r\\n\\r\\nthe ambiance was quite appealing and cozy. i visited this place on a weekend and the minimum wait time was 20 mins. however, the dishes were worth the wait!\\r\\n\\r\\nthe dishes were just cooked right. the chicken items are a must try here!',\n",
       " 'ordered body builder omlette and it was great\\r\\npackaging was good\\r\\ngot delivered on time\\r\\nbecome a regular customer for this place for omlette s.... will surely recommend this place for quick order',\n",
       " 'very very average food! the idlis were not soft enough for my liking and chutney lacked flavours. the handwash area was dirty. yet there was a rush of people during breakfast hours, so they are doing something rightf.',\n",
       " \"madurai dosa shop is cheap and very convenient if you love south indian food and would like to have it on a daily basis. w often opt to have breakfast here.\\r\\neven though the ambiance is shabby and unclean, the food is undoubtedly good. \\r\\nmy favorite here in the ghee podi dosa. they also happen to make excellent idlis and uttapams. i have had their masala dosa as well, but it doesn't appeal to me much. \\r\\nfurther, their afternoon meals and parottas with curry are fairly average.\\r\\n\\r\\ni particularly like the coconut chutney they serve with the dosas and the idlis, but the sambhar tastes strongly of drumstick and is low on other spices.\",\n",
       " \"i give this a very low rating as it displays a popular name but serves ordinary food. madurai is a name that would immediatele send salivating signals to your brain on the yummy idly - sambar -vada - pongal and all the other wonderful 'tamilnadu' breakfast. but this place not only fails to live upto expectations, but also serves substandard food. as a gang we ordered mini idly, idly, vada, uthappam and pongal. the center of south indian food is sambar and chutney. given the simple recipes,  and decent ingredients these are dishes that cannot go wrong. but the chutney seemed like it had gone through multiple rounds of cost cutting, it was tasteless. sambar was oily and watery. the batter used in idly, dosa had only rice and no urad dhal.  pongal is a 1:1 proportion of rice and dhal, but here they probably used 4:1. \\r\\ni hope it was just a bad day for the cook, but it left such a bad taste, will need an elephant to drag me again into this joint again\",\n",
       " 'very good food mouth watering and various varieties of dishes. typical madurai food joint. very good bf and dinners available. egg dosa the best for night dinner after ur kuttings',\n",
       " 'had been to this place to try chilli parota, as suggested by a friend, and that disappointed me very much. however, the other offerings are good, and tasteful.',\n",
       " \"have visited madurai idly shop indira nagar and banaswadi.. this place keeps us in tamil nadu. we will get quality vegetarian food with decent price. usually used to have break fasts they have variety of idly, dosa's etc. once had lunch from indira nagar not impressed though with the curries they offered.\",\n",
       " 'if you are a genuine lover of idly this food joint is for you only. they have around 4 joints in bangalore. i have visited banaswadi branch. in their menu they are serving all 3 times breakfast lunch and dinner. apart from idly they are serving some good quality and types of dosa like paper masala and podi masala. their serving style keeping me in tamilnadu. madurai is a famous city in tamilnadu. staffs are almost tamils. good quality filter coffee also they are serving. very neat clean and hygiene they are maintaining. staffs are not hospitality qualified but knows their work very well. you will see a smile every time you had a word with them. reservations are not necessary because itã\\x83â\\x83â\\x83ã\\x83â\\x82â\\x83ã\\x83â\\x83â\\x82ã\\x83â\\x82â\\x83ã\\x83â\\x83â\\x83ã\\x83â\\x82â\\x82ã\\x83â\\x83â\\x82ã\\x83â\\x82ã\\x82â¢ã\\x83â\\x83â\\x83ã\\x83â\\x82â\\x83ã\\x83â\\x83â\\x82ã\\x83â\\x82â\\x82ã\\x83â\\x83â\\x83ã\\x83â\\x82â\\x82ã\\x83â\\x83â\\x82ã\\x83â\\x82â\\x80ã\\x83â\\x83â\\x83ã\\x83â\\x82â\\x83ã\\x83â\\x83â\\x82ã\\x83â\\x82â\\x82ã\\x83â\\x83â\\x83ã\\x83â\\x82â\\x82ã\\x83â\\x83â\\x82ã\\x83â\\x82â\\x99s not a fine dine outlet. portion size of all items is very good for 1 person. itã\\x83â\\x83â\\x83ã\\x83â\\x82â\\x83ã\\x83â\\x83â\\x82ã\\x83â\\x82â\\x83ã\\x83â\\x83â\\x83ã\\x83â\\x82â\\x82ã\\x83â\\x83â\\x82ã\\x83â\\x82ã\\x82â¢ã\\x83â\\x83â\\x83ã\\x83â\\x82â\\x83ã\\x83â\\x83â\\x82ã\\x83â\\x82â\\x82ã\\x83â\\x83â\\x83ã\\x83â\\x82â\\x82ã\\x83â\\x83â\\x82ã\\x83â\\x82â\\x80ã\\x83â\\x83â\\x83ã\\x83â\\x82â\\x83ã\\x83â\\x83â\\x82ã\\x83â\\x82â\\x82ã\\x83â\\x83â\\x83ã\\x83â\\x82â\\x82ã\\x83â\\x83â\\x82ã\\x83â\\x82â\\x99s all about south indian cuisine.\\r\\n\\r\\nbon appetite @ chef bb\\r\\n\\r\\nchefbb.in',\n",
       " \"looking for tasty food with less damage to your pocket? ..then this is the place will suite you. after along time tasted madurai and tamilnadu food in bangalore. ..it's a self service and you have to wait for some time to have a seat..suggest to have a take away...i recommend this\",\n",
       " \"i like there podi dosa,sambhar is good,even the meal is value for money,only concern is they don't have half of there menu in the afternoon.\",\n",
       " \"this is the perfect place for peoples who are fond of south indian food specially chutneys.the interior is good spacious and self service.they have lot of items in their menu some were new to me.all sort of sweet dishes juices are also available.the idly's were like home made idlies and the chutney and sambar were fabulous.they give two types of chutneys and both were yummy.the pongal was very tasty.it is very good to have a place like this near to m y home.and one good thing is that they are open till 11-11.30 at night and all dishes are available at that time also.always recommended !!!\",\n",
       " \"shawarma? pout. that's how pout is remembered by every christite. located just before christ university and in front of dadi's dum biryani it's a go to place for all kinds of middle eastern food. i have had the chicken shawarma which was introduced for the first time by my friend and i thank her till this day. succulent yet crunchy chicken pieces engulfed in two amazing sauces. it's not just a shawarma, it's an experience. and you have to go through it first hand. so try it without further ado! service is a little slow and i think that should be improved by putting another guy at work near the shawarma counter as there is only one.\",\n",
       " 'coming from an nri background, found this place to serve one of the best shawarmas which could almost reach the level of arab shawarmas. their vegetable pickles are to be highly appreciated and great customer services. the sitting area is quiet pretty and authentic too.',\n",
       " 'i was looking for vegetarian restaurant to go for dinner and finalised on this. on reaching that place, we realised it was only buffet place and we decided to give a try.\\r\\nplace is spacious and seating arrangement was nice. i wonã\\x83â\\x83â\\x83ã\\x83â\\x82â\\x83ã\\x83â\\x83â\\x82ã\\x83â\\x82â\\x83ã\\x83â\\x83â\\x83ã\\x83â\\x82â\\x82ã\\x83â\\x83â\\x82ã\\x83â\\x82â\\x83ã\\x83â\\x83â\\x83ã\\x83â\\x82â\\x83ã\\x83â\\x83â\\x82ã\\x83â\\x82â\\x82ã\\x83â\\x83â\\x83ã\\x83â\\x82â\\x82ã\\x83â\\x83â\\x82ã\\x83â\\x82ã\\x82â¢ã\\x83â\\x83â\\x83ã\\x83â\\x82â\\x83ã\\x83â\\x83â\\x82ã\\x83â\\x82â\\x83ã\\x83â\\x83â\\x83ã\\x83â\\x82â\\x82ã\\x83â\\x83â\\x82ã\\x83â\\x82â\\x82ã\\x83â\\x83â\\x83ã\\x83â\\x82â\\x83ã\\x83â\\x83â\\x82ã\\x83â\\x82â\\x82ã\\x83â\\x83â\\x83ã\\x83â\\x82â\\x82ã\\x83â\\x83â\\x82ã\\x83â\\x82â\\x80ã\\x83â\\x83â\\x83ã\\x83â\\x82â\\x83ã\\x83â\\x83â\\x82ã\\x83â\\x82â\\x83ã\\x83â\\x83â\\x83ã\\x83â\\x82â\\x82ã\\x83â\\x83â\\x82ã\\x83â\\x82â\\x82ã\\x83â\\x83â\\x83ã\\x83â\\x82â\\x83ã\\x83â\\x83â\\x82ã\\x83â\\x82â\\x82ã\\x83â\\x83â\\x83ã\\x83â\\x82â\\x82ã\\x83â\\x83â\\x82ã\\x83â\\x82â\\x99t put it on fine dining but casual dining place. staff is friendly and addressed guest with smiles. service is quick and prompt. but they only served soup at table and all other things one needs to picked by self.\\r\\nthere were two options in soup and out of those tomato shorba was good. they have good spread but not huge one. there was live counter for chaats, pasta and certain other items. desserts was okayish and options were limited. but i liked their dahi bhalla which was really good.\\r\\n\\r\\nambience: 3.5\\r\\nfood: 3.5\\r\\nservice: 4',\n",
       " \"food 4/4\\r\\nservice 4/4\\r\\nambience 4/4\\r\\ncost 3/4\\r\\n\\r\\nit's one of the place to have full fledged veg buffet. nice place to go with the family.\\r\\n\\r\\nwe have been there on 1st of jan for lunch. we have waited for an hour to get a table.\\r\\n\\r\\nbuffet spread was nice. we really liked the white pasta and chats.\\r\\n\\r\\ngrill was not done properly for many of the items. may be because of the crowd.\\r\\n\\r\\nwe liked the desert spread also. overall we had a great time.\",\n",
       " 'been here for a team lunch.very nice ambience.parking is a problem as you have to park your vehicle on the main road outside the restaurant beside a no parking board.however,since they collect parking charges i assume they would be taking care of the parking with the civic authorities.\\r\\nreducing 1 star for this factor only.\\r\\n\\r\\nthe place is very spacious.the service is very good.this is a must be place for a strict vegetarian as there lots of items for them when compared to bbq nation and other similar places.\\r\\nhowevwr,still a little tough for a hardcode non-vegetarian like me :p\\r\\nthey have a very vast spread of items ,i.e 4-5 vegetarian starters,live pasta & chat counters,7-8 types of desserts,veg biriyani,noodles,rice,sambar,paneer curry etc.\\r\\nloved the paneer curry.\\r\\nthe best part is all this is for around 450 rs.u get 10% discount on corporate bills..\\r\\na must visit place for hardcore vegetarians.',\n",
       " 'the place has a nice ambiance and comfortable seating. strangely we were made to wait half hour even though the restaurant was almost completely empty.\\r\\nthe buffet spread was ordinary and bland. the salads were fresh but tasteless, starters were extremely oily. we had some paranthas which were good , but the sides were quite forgettable. the worst part was the service! we got our soups midway between the meals and the server made us wait long to simply get cutlery on the table and then made us change the score on the feedback form. donã\\x83â\\x83â\\x83ã\\x83â\\x82â\\x83ã\\x83â\\x83â\\x82ã\\x83â\\x82â\\x83ã\\x83â\\x83â\\x83ã\\x83â\\x82â\\x82ã\\x83â\\x83â\\x82ã\\x83â\\x82â\\x83ã\\x83â\\x83â\\x83ã\\x83â\\x82â\\x83ã\\x83â\\x83â\\x82ã\\x83â\\x82â\\x82ã\\x83â\\x83â\\x83ã\\x83â\\x82â\\x82ã\\x83â\\x83â\\x82ã\\x83â\\x82ã\\x82â¢ã\\x83â\\x83â\\x83ã\\x83â\\x82â\\x83ã\\x83â\\x83â\\x82ã\\x83â\\x82â\\x83ã\\x83â\\x83â\\x83ã\\x83â\\x82â\\x82ã\\x83â\\x83â\\x82ã\\x83â\\x82â\\x82ã\\x83â\\x83â\\x83ã\\x83â\\x82â\\x83ã\\x83â\\x83â\\x82ã\\x83â\\x82â\\x82ã\\x83â\\x83â\\x83ã\\x83â\\x82â\\x82ã\\x83â\\x83â\\x82ã\\x83â\\x82â\\x80ã\\x83â\\x83â\\x83ã\\x83â\\x82â\\x83ã\\x83â\\x83â\\x82ã\\x83â\\x82â\\x83ã\\x83â\\x83â\\x83ã\\x83â\\x82â\\x82ã\\x83â\\x83â\\x82ã\\x83â\\x82â\\x82ã\\x83â\\x83â\\x83ã\\x83â\\x82â\\x83ã\\x83â\\x83â\\x82ã\\x83â\\x82â\\x82ã\\x83â\\x83â\\x83ã\\x83â\\x82â\\x82ã\\x83â\\x83â\\x82ã\\x83â\\x82â\\x99t know why i paid the ã\\x83â\\x83â\\x83ã\\x83â\\x82â\\x83ã\\x83â\\x83â\\x82ã\\x83â\\x82â\\x83ã\\x83â\\x83â\\x83ã\\x83â\\x82â\\x82ã\\x83â\\x83â\\x82ã\\x83â\\x82â\\x83ã\\x83â\\x83â\\x83ã\\x83â\\x82â\\x83ã\\x83â\\x83â\\x82ã\\x83â\\x82â\\x82ã\\x83â\\x83â\\x83ã\\x83â\\x82â\\x82ã\\x83â\\x83â\\x82ã\\x83â\\x82ã\\x82â¢ã\\x83â\\x83â\\x83ã\\x83â\\x82â\\x83ã\\x83â\\x83â\\x82ã\\x83â\\x82â\\x83ã\\x83â\\x83â\\x83ã\\x83â\\x82â\\x82ã\\x83â\\x83â\\x82ã\\x83â\\x82â\\x82ã\\x83â\\x83â\\x83ã\\x83â\\x82â\\x83ã\\x83â\\x83â\\x82ã\\x83â\\x82â\\x82ã\\x83â\\x83â\\x83ã\\x83â\\x82â\\x82ã\\x83â\\x83â\\x82ã\\x83â\\x82â\\x80ã\\x83â\\x83â\\x83ã\\x83â\\x82â\\x83ã\\x83â\\x83â\\x82ã\\x83â\\x82â\\x83ã\\x83â\\x83â\\x83ã\\x83â\\x82â\\x82ã\\x83â\\x83â\\x82ã\\x83â\\x82â\\x82ã\\x83â\\x83â\\x83ã\\x83â\\x82â\\x83ã\\x83â\\x83â\\x82ã\\x83â\\x82â\\x82ã\\x83â\\x83â\\x83ã\\x83â\\x82â\\x82ã\\x83â\\x83â\\x82ã\\x83â\\x82â\\x9cservice chargeã\\x83â\\x83â\\x83ã\\x83â\\x82â\\x83ã\\x83â\\x83â\\x82ã\\x83â\\x82â\\x83ã\\x83â\\x83â\\x83ã\\x83â\\x82â\\x82ã\\x83â\\x83â\\x82ã\\x83â\\x82â\\x83ã\\x83â\\x83â\\x83ã\\x83â\\x82â\\x83ã\\x83â\\x83â\\x82ã\\x83â\\x82â\\x82ã\\x83â\\x83â\\x83ã\\x83â\\x82â\\x82ã\\x83â\\x83â\\x82ã\\x83â\\x82ã\\x82â¢ã\\x83â\\x83â\\x83ã\\x83â\\x82â\\x83ã\\x83â\\x83â\\x82ã\\x83â\\x82â\\x83ã\\x83â\\x83â\\x83ã\\x83â\\x82â\\x82ã\\x83â\\x83â\\x82ã\\x83â\\x82â\\x82ã\\x83â\\x83â\\x83ã\\x83â\\x82â\\x83ã\\x83â\\x83â\\x82ã\\x83â\\x82â\\x82ã\\x83â\\x83â\\x83ã\\x83â\\x82â\\x82ã\\x83â\\x83â\\x82ã\\x83â\\x82â\\x80ã\\x83â\\x83â\\x83ã\\x83â\\x82â\\x83ã\\x83â\\x83â\\x82ã\\x83â\\x82â\\x83ã\\x83â\\x83â\\x83ã\\x83â\\x82â\\x82ã\\x83â\\x83â\\x82ã\\x83â\\x82â\\x82ã\\x83â\\x83â\\x83ã\\x83â\\x82â\\x83ã\\x83â\\x83â\\x82ã\\x83â\\x82â\\x82ã\\x83â\\x83â\\x83ã\\x83â\\x82â\\x82ã\\x83â\\x83â\\x82ã\\x83â\\x82â\\x9d\\r\\nnot returning again',\n",
       " 'yummy yummy yummy.....made my tummy happie happie happie. being a public holiday, the place was crowded....but the staff was very courteous and ready to be at your service. food - delicious. fav - alishan kheer, hyderabad dum biryani and the little tit-bits for starters.',\n",
       " 'loved the place! the ambience was good and the staff were courteous. the place was like a heaven for vegetarians! lots of varieties and the food was absolutely delicious.',\n",
       " 'was at this place on a weekend early dinner. this place was properly lit and super crowded. i am.not a vegetarian love but i loved every single dish i tried.\\r\\ni tried the following dishes :\\r\\non starters i ate - bhindi kurkure, rajastani baby corn, amritsari paneer tikka, tandoori kasundi aloo, veg ball chilli ginger dry. they were all so full of flavor and just tasted beautiful.\\r\\n\\r\\nalso had some items from the main course - amritsari chhole, dal makhni, subzi pathankot, subz methi mehak, veg hakka noodles, penne alfredo, spaghetti peppernata, cheese chilli paratha, ajwaini palak paratha, aloo paratha, paneer paratha. since i went during the paratha festival i was lucky to try them all. specially served with a variety of achaars it was lovely to eat them all.\\r\\n\\r\\nthen there was of course the desserts -\\r\\nsaphedh cham cham, badami semiya, and doodhi halwa.\\r\\n\\r\\nending the buffet on a sweet note. loved the ambience and service too. will head here soon to try more veg dishes',\n",
       " 'this is beautiful restaurant for the people who like veg food. buffet of veg counter is set and also live counter. staff is courteous and polite. ambience was good. food was tasty. you can enjoy with your family and friends',\n",
       " 'this restaurant is one of the best for the spread of items for buffet.\\r\\nhere are the list of things it offers.\\r\\n\\r\\nchats section\\r\\nstarters\\r\\nmain course\\r\\ndesserts\\r\\nlive pasta section\\r\\nlive sweets section etc.\\r\\n\\r\\nthe desserts section is the best as it has a wide variety of items like cookies,pastries,ice creams, 4-5 different varieties of sweets,custard, etc etc.\\r\\n\\r\\ntotally worth trying this restaurant.',\n",
       " 'it was a family outing and since there are hardly any restaurants that offer pure veg buffet, subz was on the list for a long time.\\r\\nthe place is easy to spot.\\r\\nambience is good. i would rate it a 3.8/5\\r\\nthe varieties of food was simply super. i would rate it a 5/5.\\r\\ntaste was good, live counters were amazing as well.\\r\\noverall i rate this restaurant a 4/5 and worth visiting and the money you pay for the buffet.',\n",
       " 'food was nice but i had heard a lot saying this is the longest vegetarian buffet place but in reality i did not find too many dishes. taste wise it deserves 4 rating without thinking.',\n",
       " 'we had been here on a tuesday afternoon for lunch, the beer served is crisp and fresh. we ordered fish and chips and thai curry, the food was tasty.\\r\\n\\r\\ncons- ambience isnã\\x83â\\x83â\\x83ã\\x83â\\x82â\\x83ã\\x83â\\x83â\\x82ã\\x83â\\x82â\\x83ã\\x83â\\x83â\\x83ã\\x83â\\x82â\\x82ã\\x83â\\x83â\\x82ã\\x83â\\x82ã\\x82â¢ã\\x83â\\x83â\\x83ã\\x83â\\x82â\\x83ã\\x83â\\x83â\\x82ã\\x83â\\x82â\\x82ã\\x83â\\x83â\\x83ã\\x83â\\x82â\\x82ã\\x83â\\x83â\\x82ã\\x83â\\x82â\\x80ã\\x83â\\x83â\\x83ã\\x83â\\x82â\\x83ã\\x83â\\x83â\\x82ã\\x83â\\x82â\\x82ã\\x83â\\x83â\\x83ã\\x83â\\x82â\\x82ã\\x83â\\x83â\\x82ã\\x83â\\x82â\\x99t that great. the place isnã\\x83â\\x83â\\x83ã\\x83â\\x82â\\x83ã\\x83â\\x83â\\x82ã\\x83â\\x82â\\x83ã\\x83â\\x83â\\x83ã\\x83â\\x82â\\x82ã\\x83â\\x83â\\x82ã\\x83â\\x82ã\\x82â¢ã\\x83â\\x83â\\x83ã\\x83â\\x82â\\x83ã\\x83â\\x83â\\x82ã\\x83â\\x82â\\x82ã\\x83â\\x83â\\x83ã\\x83â\\x82â\\x82ã\\x83â\\x83â\\x82ã\\x83â\\x82â\\x80ã\\x83â\\x83â\\x83ã\\x83â\\x82â\\x83ã\\x83â\\x83â\\x82ã\\x83â\\x82â\\x82ã\\x83â\\x83â\\x83ã\\x83â\\x82â\\x82ã\\x83â\\x83â\\x82ã\\x83â\\x82â\\x99t clean and not upto the standards. the flooring is dirty and the sofas needs maintenance.\\r\\n\\r\\nbe aware the staff will force you for a five star rating. no wonder this place has good rating and reviews',\n",
       " 'this is my second visit at biergarten and the first time with my husband on occasion of his birthday. we enjoyed the starters and was full with it as the portion size is amazing. the bbq chicken wings deserves a special mention, it was sticky and yum. the steward was kind enough to arrange a cake for the occasion. love the overall vibe, hospitality and food.',\n",
       " \"great atmosphere on weekends. must visit for the ambience and food. they have their own brewery so don't forget to try their beers! have been there quite a few times and i'm never disappointed.\",\n",
       " 'the ambience of the place is perfect and good for evening hours. food is delicious. i ordered salmon salad and craft beers, beers are served at perfect temperature. i liked dessert a lot. i rarely taste or eat dessert, the portion of the dessert is so perfect, i was not worried about calories and plating is an art of perfection.',\n",
       " 'right beside my office. can never ever get bored of this place be it about food or the ambience. everything here is good. must try pasta, wings. desserts are decent enough. live music and lighting in the night are great too.',\n",
       " 'one of the most popular place in whitefield. this is my 4th visit , still can visit many more times. such a cool environment. on friday itã\\x83â\\x83â\\x83ã\\x83â\\x82â\\x83ã\\x83â\\x83â\\x82ã\\x83â\\x82â\\x83ã\\x83â\\x83â\\x83ã\\x83â\\x82â\\x82ã\\x83â\\x83â\\x82ã\\x83â\\x82ã\\x82â¢ã\\x83â\\x83â\\x83ã\\x83â\\x82â\\x83ã\\x83â\\x83â\\x82ã\\x83â\\x82â\\x82ã\\x83â\\x83â\\x83ã\\x83â\\x82â\\x82ã\\x83â\\x83â\\x82ã\\x83â\\x82â\\x80ã\\x83â\\x83â\\x83ã\\x83â\\x82â\\x83ã\\x83â\\x83â\\x82ã\\x83â\\x82â\\x82ã\\x83â\\x83â\\x83ã\\x83â\\x82â\\x82ã\\x83â\\x83â\\x82ã\\x83â\\x82â\\x99s hard to get table. so if you are planning to come then book your table prior. there is no dance floor but people use to dance beside their tables. food is also tasty and yummy. donã\\x83â\\x83â\\x83ã\\x83â\\x82â\\x83ã\\x83â\\x83â\\x82ã\\x83â\\x82â\\x83ã\\x83â\\x83â\\x83ã\\x83â\\x82â\\x82ã\\x83â\\x83â\\x82ã\\x83â\\x82ã\\x82â¢ã\\x83â\\x83â\\x83ã\\x83â\\x82â\\x83ã\\x83â\\x83â\\x82ã\\x83â\\x82â\\x82ã\\x83â\\x83â\\x83ã\\x83â\\x82â\\x82ã\\x83â\\x83â\\x82ã\\x83â\\x82â\\x80ã\\x83â\\x83â\\x83ã\\x83â\\x82â\\x83ã\\x83â\\x83â\\x82ã\\x83â\\x82â\\x82ã\\x83â\\x83â\\x83ã\\x83â\\x82â\\x82ã\\x83â\\x83â\\x82ã\\x83â\\x82â\\x99t forget to try pizza. one of the best pizza. kurkuri fish and ghusao chilli chicken is some of best dishes for stater to try. enjoyed a lot in my each visit.',\n",
       " 'we had a great time with naveen. he treated us very well. in short he was a good care taker. i liked the food and the beer was very good. i will definitely visit biergarten again, nd will be referring it to friends.',\n",
       " \"great ambiance, good food and great music. a perfect place to go and hang out with friends. we enjoyed the link get music session. they have it sometimes on weekends. weekend it's normally crowded, so it's better to book tables beforehand.\",\n",
       " \"it's a nice place but a little crowded even on weekdays. food is great there and service is not that appreciated as staff is outnumbered because of crowd\",\n",
       " 'one of the favourite places in whitefield area. i love their wheat beer a lot. went more than 4 times. i will recommend mushroom galawti kabab and ghee roast.\\r\\nit is a little bit crowded on weekends but worth the wait on queue.\\r\\n\\r\\nbeer-lovers, do not miss their beer. also, do a booking before you head-off.\\r\\n\\r\\nwent there with navonil rahut',\n",
       " \"this place was on my mind since a year now and when i could finally make it there - i was with full of high hopes and expectations ; luckily this place met them extravagantly.\\r\\nfrom decore and ambience - this place is too beautiful with their interiors and well organised seating space.\\r\\nfood - quantity was too less , but the taste was heaaaveeeennnnn ð\\x9f¤©\\r\\ndrinks - can't say , because we did not drank the other day but i can assure you it will be good , also they have their own brewery.\\r\\nmusic - we went on weekday , so can't say much but have heard this place is the lit on weekends.\\r\\nrather , just close your eyes and do try this place once. no doubt even the koramangala branch is also upto its mark.\",\n",
       " \"good food, good ambiance. live music could've been better, but no biggie.\\r\\n\\r\\nsome of the items that we ordered:\\r\\n\\r\\n[pizza] diavola con pollo ã\\x83â\\x83â\\x83ã\\x83â\\x82â\\x83ã\\x83â\\x83â\\x82ã\\x83â\\x82â\\x83ã\\x83â\\x83â\\x83ã\\x83â\\x82â\\x82ã\\x83â\\x83â\\x82ã\\x83â\\x82ã\\x82â¢ã\\x83â\\x83â\\x83ã\\x83â\\x82â\\x83ã\\x83â\\x83â\\x82ã\\x83â\\x82â\\x82ã\\x83â\\x83â\\x83ã\\x83â\\x82â\\x82ã\\x83â\\x83â\\x82ã\\x83â\\x82â\\x80ã\\x83â\\x83â\\x83ã\\x83â\\x82â\\x83ã\\x83â\\x83â\\x82ã\\x83â\\x82â\\x82ã\\x83â\\x83â\\x83ã\\x83â\\x82â\\x82ã\\x83â\\x83â\\x82ã\\x83â\\x82â\\x93 4.5/5\\r\\n[starters] chicken tikka bao ã\\x83â\\x83â\\x83ã\\x83â\\x82â\\x83ã\\x83â\\x83â\\x82ã\\x83â\\x82â\\x83ã\\x83â\\x83â\\x83ã\\x83â\\x82â\\x82ã\\x83â\\x83â\\x82ã\\x83â\\x82ã\\x82â¢ã\\x83â\\x83â\\x83ã\\x83â\\x82â\\x83ã\\x83â\\x83â\\x82ã\\x83â\\x82â\\x82ã\\x83â\\x83â\\x83ã\\x83â\\x82â\\x82ã\\x83â\\x83â\\x82ã\\x83â\\x82â\\x80ã\\x83â\\x83â\\x83ã\\x83â\\x82â\\x83ã\\x83â\\x83â\\x82ã\\x83â\\x82â\\x82ã\\x83â\\x83â\\x83ã\\x83â\\x82â\\x82ã\\x83â\\x83â\\x82ã\\x83â\\x82â\\x93 4/5\\r\\n[starters] keema ghotala sliders ã\\x83â\\x83â\\x83ã\\x83â\\x82â\\x83ã\\x83â\\x83â\\x82ã\\x83â\\x82â\\x83ã\\x83â\\x83â\\x83ã\\x83â\\x82â\\x82ã\\x83â\\x83â\\x82ã\\x83â\\x82ã\\x82â¢ã\\x83â\\x83â\\x83ã\\x83â\\x82â\\x83ã\\x83â\\x83â\\x82ã\\x83â\\x82â\\x82ã\\x83â\\x83â\\x83ã\\x83â\\x82â\\x82ã\\x83â\\x83â\\x82ã\\x83â\\x82â\\x80ã\\x83â\\x83â\\x83ã\\x83â\\x82â\\x83ã\\x83â\\x83â\\x82ã\\x83â\\x82â\\x82ã\\x83â\\x83â\\x83ã\\x83â\\x82â\\x82ã\\x83â\\x83â\\x82ã\\x83â\\x82â\\x93 4.5/5\\r\\n[mains] gai pad krapow ã\\x83â\\x83â\\x83ã\\x83â\\x82â\\x83ã\\x83â\\x83â\\x82ã\\x83â\\x82â\\x83ã\\x83â\\x83â\\x83ã\\x83â\\x82â\\x82ã\\x83â\\x83â\\x82ã\\x83â\\x82ã\\x82â¢ã\\x83â\\x83â\\x83ã\\x83â\\x82â\\x83ã\\x83â\\x83â\\x82ã\\x83â\\x82â\\x82ã\\x83â\\x83â\\x83ã\\x83â\\x82â\\x82ã\\x83â\\x83â\\x82ã\\x83â\\x82â\\x80ã\\x83â\\x83â\\x83ã\\x83â\\x82â\\x83ã\\x83â\\x83â\\x82ã\\x83â\\x82â\\x82ã\\x83â\\x83â\\x83ã\\x83â\\x82â\\x82ã\\x83â\\x83â\\x82ã\\x83â\\x82â\\x93 4/5\",\n",
       " 'a beautiful place i must say ! ambience is lit as it is so cosy and classy specially the greenish touch they have added with beautiful lamps !\\r\\nwhen i talk about food , it was average !\\r\\nservice is good and the music is loud which is an addition to this place !\\r\\noverall itã\\x83â\\x83â\\x83ã\\x83â\\x82â\\x83ã\\x83â\\x83â\\x82ã\\x83â\\x82â\\x83ã\\x83â\\x83â\\x83ã\\x83â\\x82â\\x82ã\\x83â\\x83â\\x82ã\\x83â\\x82ã\\x82â¢ã\\x83â\\x83â\\x83ã\\x83â\\x82â\\x83ã\\x83â\\x83â\\x82ã\\x83â\\x82â\\x82ã\\x83â\\x83â\\x83ã\\x83â\\x82â\\x82ã\\x83â\\x83â\\x82ã\\x83â\\x82â\\x80ã\\x83â\\x83â\\x83ã\\x83â\\x82â\\x83ã\\x83â\\x83â\\x82ã\\x83â\\x82â\\x82ã\\x83â\\x83â\\x83ã\\x83â\\x82â\\x82ã\\x83â\\x83â\\x82ã\\x83â\\x82â\\x99s a good place to hangout with your friends but not to expect much on food ! desserts are amazing though ! ð\\x9f§\\x81 ã\\x83â\\x83â\\x83ã\\x83â\\x82â\\x83ã\\x83â\\x83â\\x82ã\\x83â\\x82â\\x83ã\\x83â\\x83â\\x83ã\\x83â\\x82â\\x82ã\\x83â\\x83â\\x82ã\\x83â\\x82ã\\x82â°ã\\x83â\\x83â\\x83ã\\x83â\\x82â\\x83ã\\x83â\\x83â\\x82ã\\x83â\\x82â\\x82ã\\x83â\\x83â\\x83ã\\x83â\\x82â\\x82ã\\x83â\\x83â\\x82ã\\x83â\\x82â\\x9fã\\x83â\\x83â\\x83ã\\x83â\\x82â\\x83ã\\x83â\\x83â\\x82ã\\x83â\\x82â\\x82ã\\x83â\\x83â\\x83ã\\x83â\\x82â\\x82ã\\x83â\\x83â\\x82ã\\x83â\\x82â\\x8dã\\x83â\\x83â\\x83ã\\x83â\\x82â\\x83ã\\x83â\\x83â\\x82ã\\x83â\\x82â\\x82ã\\x83â\\x83â\\x83ã\\x83â\\x82â\\x82ã\\x83â\\x83â\\x82ã\\x83â\\x82ã\\x82â°',\n",
       " 'a huge place with lovely ambiance . love their beer. the ipa is strong and ful of flavor. they got some interesting food options and each of them are just great.',\n",
       " 'biergarten whitefield was on my bookmarks for a long time.\\r\\ni honestly felt it didnã\\x83â\\x83â\\x83ã\\x83â\\x82â\\x83ã\\x83â\\x83â\\x82ã\\x83â\\x82â\\x83ã\\x83â\\x83â\\x83ã\\x83â\\x82â\\x82ã\\x83â\\x83â\\x82ã\\x83â\\x82ã\\x82â¢ã\\x83â\\x83â\\x83ã\\x83â\\x82â\\x83ã\\x83â\\x83â\\x82ã\\x83â\\x82â\\x82ã\\x83â\\x83â\\x83ã\\x83â\\x82â\\x82ã\\x83â\\x83â\\x82ã\\x83â\\x82â\\x80ã\\x83â\\x83â\\x83ã\\x83â\\x82â\\x83ã\\x83â\\x83â\\x82ã\\x83â\\x82â\\x82ã\\x83â\\x83â\\x83ã\\x83â\\x82â\\x82ã\\x83â\\x83â\\x82ã\\x83â\\x82â\\x99t live up to the hype and ratings i see here. as a vegetarian i wouldnã\\x83â\\x83â\\x83ã\\x83â\\x82â\\x83ã\\x83â\\x83â\\x82ã\\x83â\\x82â\\x83ã\\x83â\\x83â\\x83ã\\x83â\\x82â\\x82ã\\x83â\\x83â\\x82ã\\x83â\\x82ã\\x82â¢ã\\x83â\\x83â\\x83ã\\x83â\\x82â\\x83ã\\x83â\\x83â\\x82ã\\x83â\\x82â\\x82ã\\x83â\\x83â\\x83ã\\x83â\\x82â\\x82ã\\x83â\\x83â\\x82ã\\x83â\\x82â\\x80ã\\x83â\\x83â\\x83ã\\x83â\\x82â\\x83ã\\x83â\\x83â\\x82ã\\x83â\\x82â\\x82ã\\x83â\\x83â\\x83ã\\x83â\\x82â\\x82ã\\x83â\\x83â\\x82ã\\x83â\\x82â\\x99t recommend this place. i had mushroom galouti which was below average to be honest. my friends did like a few non veg dishes though.\\r\\nthe service is okay.\\r\\nambience gets an extra point in my rating! i went for lunch but iã\\x83â\\x83â\\x83ã\\x83â\\x82â\\x83ã\\x83â\\x83â\\x82ã\\x83â\\x82â\\x83ã\\x83â\\x83â\\x83ã\\x83â\\x82â\\x82ã\\x83â\\x83â\\x82ã\\x83â\\x82ã\\x82â¢ã\\x83â\\x83â\\x83ã\\x83â\\x82â\\x83ã\\x83â\\x83â\\x82ã\\x83â\\x82â\\x82ã\\x83â\\x83â\\x83ã\\x83â\\x82â\\x82ã\\x83â\\x83â\\x82ã\\x83â\\x82â\\x80ã\\x83â\\x83â\\x83ã\\x83â\\x82â\\x83ã\\x83â\\x83â\\x82ã\\x83â\\x82â\\x82ã\\x83â\\x83â\\x83ã\\x83â\\x82â\\x82ã\\x83â\\x83â\\x82ã\\x83â\\x82â\\x99m sure itã\\x83â\\x83â\\x83ã\\x83â\\x82â\\x83ã\\x83â\\x83â\\x82ã\\x83â\\x82â\\x83ã\\x83â\\x83â\\x83ã\\x83â\\x82â\\x82ã\\x83â\\x83â\\x82ã\\x83â\\x82ã\\x82â¢ã\\x83â\\x83â\\x83ã\\x83â\\x82â\\x83ã\\x83â\\x83â\\x82ã\\x83â\\x82â\\x82ã\\x83â\\x83â\\x83ã\\x83â\\x82â\\x82ã\\x83â\\x83â\\x82ã\\x83â\\x82â\\x80ã\\x83â\\x83â\\x83ã\\x83â\\x82â\\x83ã\\x83â\\x83â\\x82ã\\x83â\\x82â\\x82ã\\x83â\\x83â\\x83ã\\x83â\\x82â\\x82ã\\x83â\\x83â\\x82ã\\x83â\\x82â\\x99ll be better in the evening!\\r\\nso unless youã\\x83â\\x83â\\x83ã\\x83â\\x82â\\x83ã\\x83â\\x83â\\x82ã\\x83â\\x82â\\x83ã\\x83â\\x83â\\x83ã\\x83â\\x82â\\x82ã\\x83â\\x83â\\x82ã\\x83â\\x82ã\\x82â¢ã\\x83â\\x83â\\x83ã\\x83â\\x82â\\x83ã\\x83â\\x83â\\x82ã\\x83â\\x82â\\x82ã\\x83â\\x83â\\x83ã\\x83â\\x82â\\x82ã\\x83â\\x83â\\x82ã\\x83â\\x82â\\x80ã\\x83â\\x83â\\x83ã\\x83â\\x82â\\x83ã\\x83â\\x83â\\x82ã\\x83â\\x82â\\x82ã\\x83â\\x83â\\x83ã\\x83â\\x82â\\x82ã\\x83â\\x83â\\x82ã\\x83â\\x82â\\x99re around the area i wouldnã\\x83â\\x83â\\x83ã\\x83â\\x82â\\x83ã\\x83â\\x83â\\x82ã\\x83â\\x82â\\x83ã\\x83â\\x83â\\x83ã\\x83â\\x82â\\x82ã\\x83â\\x83â\\x82ã\\x83â\\x82ã\\x82â¢ã\\x83â\\x83â\\x83ã\\x83â\\x82â\\x83ã\\x83â\\x83â\\x82ã\\x83â\\x82â\\x82ã\\x83â\\x83â\\x83ã\\x83â\\x82â\\x82ã\\x83â\\x83â\\x82ã\\x83â\\x82â\\x80ã\\x83â\\x83â\\x83ã\\x83â\\x82â\\x83ã\\x83â\\x83â\\x82ã\\x83â\\x82â\\x82ã\\x83â\\x83â\\x83ã\\x83â\\x82â\\x82ã\\x83â\\x83â\\x82ã\\x83â\\x82â\\x99t recommend a long drive till there as it might leave you highly disappointed.',\n",
       " \"this place was on my mind since a year now and when i could finally make it there - i was with full of high hopes and expectations ; luckily this place met them extravagantly.\\r\\nfrom decore and ambience - this place is too beautiful with their interiors and well organised seating space.\\r\\nfood - quantity was too less , but the taste was heaaaveeeennnnn ð\\x9f¤©\\r\\ndrinks - can't say , because we did not drank the other day but i can assure you it will be good , also they have their own brewery.\\r\\nmusic - we went on weekday , so can't say much but have heard this place is the lit on weekends.\\r\\nrather , just close your eyes and do try this place once. no doubt even the koramangala branch is also upto its mark.\",\n",
       " \"good food, good ambiance. live music could've been better, but no biggie.\\r\\n\\r\\nsome of the items that we ordered:\\r\\n\\r\\n[pizza] diavola con pollo ã\\x83â\\x83â\\x83ã\\x83â\\x82â\\x83ã\\x83â\\x83â\\x82ã\\x83â\\x82â\\x83ã\\x83â\\x83â\\x83ã\\x83â\\x82â\\x82ã\\x83â\\x83â\\x82ã\\x83â\\x82ã\\x82â¢ã\\x83â\\x83â\\x83ã\\x83â\\x82â\\x83ã\\x83â\\x83â\\x82ã\\x83â\\x82â\\x82ã\\x83â\\x83â\\x83ã\\x83â\\x82â\\x82ã\\x83â\\x83â\\x82ã\\x83â\\x82â\\x80ã\\x83â\\x83â\\x83ã\\x83â\\x82â\\x83ã\\x83â\\x83â\\x82ã\\x83â\\x82â\\x82ã\\x83â\\x83â\\x83ã\\x83â\\x82â\\x82ã\\x83â\\x83â\\x82ã\\x83â\\x82â\\x93 4.5/5\\r\\n[starters] chicken tikka bao ã\\x83â\\x83â\\x83ã\\x83â\\x82â\\x83ã\\x83â\\x83â\\x82ã\\x83â\\x82â\\x83ã\\x83â\\x83â\\x83ã\\x83â\\x82â\\x82ã\\x83â\\x83â\\x82ã\\x83â\\x82ã\\x82â¢ã\\x83â\\x83â\\x83ã\\x83â\\x82â\\x83ã\\x83â\\x83â\\x82ã\\x83â\\x82â\\x82ã\\x83â\\x83â\\x83ã\\x83â\\x82â\\x82ã\\x83â\\x83â\\x82ã\\x83â\\x82â\\x80ã\\x83â\\x83â\\x83ã\\x83â\\x82â\\x83ã\\x83â\\x83â\\x82ã\\x83â\\x82â\\x82ã\\x83â\\x83â\\x83ã\\x83â\\x82â\\x82ã\\x83â\\x83â\\x82ã\\x83â\\x82â\\x93 4/5\\r\\n[starters] keema ghotala sliders ã\\x83â\\x83â\\x83ã\\x83â\\x82â\\x83ã\\x83â\\x83â\\x82ã\\x83â\\x82â\\x83ã\\x83â\\x83â\\x83ã\\x83â\\x82â\\x82ã\\x83â\\x83â\\x82ã\\x83â\\x82ã\\x82â¢ã\\x83â\\x83â\\x83ã\\x83â\\x82â\\x83ã\\x83â\\x83â\\x82ã\\x83â\\x82â\\x82ã\\x83â\\x83â\\x83ã\\x83â\\x82â\\x82ã\\x83â\\x83â\\x82ã\\x83â\\x82â\\x80ã\\x83â\\x83â\\x83ã\\x83â\\x82â\\x83ã\\x83â\\x83â\\x82ã\\x83â\\x82â\\x82ã\\x83â\\x83â\\x83ã\\x83â\\x82â\\x82ã\\x83â\\x83â\\x82ã\\x83â\\x82â\\x93 4.5/5\\r\\n[mains] gai pad krapow ã\\x83â\\x83â\\x83ã\\x83â\\x82â\\x83ã\\x83â\\x83â\\x82ã\\x83â\\x82â\\x83ã\\x83â\\x83â\\x83ã\\x83â\\x82â\\x82ã\\x83â\\x83â\\x82ã\\x83â\\x82ã\\x82â¢ã\\x83â\\x83â\\x83ã\\x83â\\x82â\\x83ã\\x83â\\x83â\\x82ã\\x83â\\x82â\\x82ã\\x83â\\x83â\\x83ã\\x83â\\x82â\\x82ã\\x83â\\x83â\\x82ã\\x83â\\x82â\\x80ã\\x83â\\x83â\\x83ã\\x83â\\x82â\\x83ã\\x83â\\x83â\\x82ã\\x83â\\x82â\\x82ã\\x83â\\x83â\\x83ã\\x83â\\x82â\\x82ã\\x83â\\x83â\\x82ã\\x83â\\x82â\\x93 4/5\",\n",
       " 'a beautiful place i must say ! ambience is lit as it is so cosy and classy specially the greenish touch they have added with beautiful lamps !\\r\\nwhen i talk about food , it was average !\\r\\nservice is good and the music is loud which is an addition to this place !\\r\\noverall itã\\x83â\\x83â\\x83ã\\x83â\\x82â\\x83ã\\x83â\\x83â\\x82ã\\x83â\\x82â\\x83ã\\x83â\\x83â\\x83ã\\x83â\\x82â\\x82ã\\x83â\\x83â\\x82ã\\x83â\\x82ã\\x82â¢ã\\x83â\\x83â\\x83ã\\x83â\\x82â\\x83ã\\x83â\\x83â\\x82ã\\x83â\\x82â\\x82ã\\x83â\\x83â\\x83ã\\x83â\\x82â\\x82ã\\x83â\\x83â\\x82ã\\x83â\\x82â\\x80ã\\x83â\\x83â\\x83ã\\x83â\\x82â\\x83ã\\x83â\\x83â\\x82ã\\x83â\\x82â\\x82ã\\x83â\\x83â\\x83ã\\x83â\\x82â\\x82ã\\x83â\\x83â\\x82ã\\x83â\\x82â\\x99s a good place to hangout with your friends but not to expect much on food ! desserts are amazing though ! ð\\x9f§\\x81 ã\\x83â\\x83â\\x83ã\\x83â\\x82â\\x83ã\\x83â\\x83â\\x82ã\\x83â\\x82â\\x83ã\\x83â\\x83â\\x83ã\\x83â\\x82â\\x82ã\\x83â\\x83â\\x82ã\\x83â\\x82ã\\x82â°ã\\x83â\\x83â\\x83ã\\x83â\\x82â\\x83ã\\x83â\\x83â\\x82ã\\x83â\\x82â\\x82ã\\x83â\\x83â\\x83ã\\x83â\\x82â\\x82ã\\x83â\\x83â\\x82ã\\x83â\\x82â\\x9fã\\x83â\\x83â\\x83ã\\x83â\\x82â\\x83ã\\x83â\\x83â\\x82ã\\x83â\\x82â\\x82ã\\x83â\\x83â\\x83ã\\x83â\\x82â\\x82ã\\x83â\\x83â\\x82ã\\x83â\\x82â\\x8dã\\x83â\\x83â\\x83ã\\x83â\\x82â\\x83ã\\x83â\\x83â\\x82ã\\x83â\\x82â\\x82ã\\x83â\\x83â\\x83ã\\x83â\\x82â\\x82ã\\x83â\\x83â\\x82ã\\x83â\\x82ã\\x82â°',\n",
       " 'a huge place with lovely ambiance . love their beer. the ipa is strong and ful of flavor. they got some interesting food options and each of them are just great.',\n",
       " 'biergarten whitefield was on my bookmarks for a long time.\\r\\ni honestly felt it didnã\\x83â\\x83â\\x83ã\\x83â\\x82â\\x83ã\\x83â\\x83â\\x82ã\\x83â\\x82â\\x83ã\\x83â\\x83â\\x83ã\\x83â\\x82â\\x82ã\\x83â\\x83â\\x82ã\\x83â\\x82ã\\x82â¢ã\\x83â\\x83â\\x83ã\\x83â\\x82â\\x83ã\\x83â\\x83â\\x82ã\\x83â\\x82â\\x82ã\\x83â\\x83â\\x83ã\\x83â\\x82â\\x82ã\\x83â\\x83â\\x82ã\\x83â\\x82â\\x80ã\\x83â\\x83â\\x83ã\\x83â\\x82â\\x83ã\\x83â\\x83â\\x82ã\\x83â\\x82â\\x82ã\\x83â\\x83â\\x83ã\\x83â\\x82â\\x82ã\\x83â\\x83â\\x82ã\\x83â\\x82â\\x99t live up to the hype and ratings i see here. as a vegetarian i wouldnã\\x83â\\x83â\\x83ã\\x83â\\x82â\\x83ã\\x83â\\x83â\\x82ã\\x83â\\x82â\\x83ã\\x83â\\x83â\\x83ã\\x83â\\x82â\\x82ã\\x83â\\x83â\\x82ã\\x83â\\x82ã\\x82â¢ã\\x83â\\x83â\\x83ã\\x83â\\x82â\\x83ã\\x83â\\x83â\\x82ã\\x83â\\x82â\\x82ã\\x83â\\x83â\\x83ã\\x83â\\x82â\\x82ã\\x83â\\x83â\\x82ã\\x83â\\x82â\\x80ã\\x83â\\x83â\\x83ã\\x83â\\x82â\\x83ã\\x83â\\x83â\\x82ã\\x83â\\x82â\\x82ã\\x83â\\x83â\\x83ã\\x83â\\x82â\\x82ã\\x83â\\x83â\\x82ã\\x83â\\x82â\\x99t recommend this place. i had mushroom galouti which was below average to be honest. my friends did like a few non veg dishes though.\\r\\nthe service is okay.\\r\\nambience gets an extra point in my rating! i went for lunch but iã\\x83â\\x83â\\x83ã\\x83â\\x82â\\x83ã\\x83â\\x83â\\x82ã\\x83â\\x82â\\x83ã\\x83â\\x83â\\x83ã\\x83â\\x82â\\x82ã\\x83â\\x83â\\x82ã\\x83â\\x82ã\\x82â¢ã\\x83â\\x83â\\x83ã\\x83â\\x82â\\x83ã\\x83â\\x83â\\x82ã\\x83â\\x82â\\x82ã\\x83â\\x83â\\x83ã\\x83â\\x82â\\x82ã\\x83â\\x83â\\x82ã\\x83â\\x82â\\x80ã\\x83â\\x83â\\x83ã\\x83â\\x82â\\x83ã\\x83â\\x83â\\x82ã\\x83â\\x82â\\x82ã\\x83â\\x83â\\x83ã\\x83â\\x82â\\x82ã\\x83â\\x83â\\x82ã\\x83â\\x82â\\x99m sure itã\\x83â\\x83â\\x83ã\\x83â\\x82â\\x83ã\\x83â\\x83â\\x82ã\\x83â\\x82â\\x83ã\\x83â\\x83â\\x83ã\\x83â\\x82â\\x82ã\\x83â\\x83â\\x82ã\\x83â\\x82ã\\x82â¢ã\\x83â\\x83â\\x83ã\\x83â\\x82â\\x83ã\\x83â\\x83â\\x82ã\\x83â\\x82â\\x82ã\\x83â\\x83â\\x83ã\\x83â\\x82â\\x82ã\\x83â\\x83â\\x82ã\\x83â\\x82â\\x80ã\\x83â\\x83â\\x83ã\\x83â\\x82â\\x83ã\\x83â\\x83â\\x82ã\\x83â\\x82â\\x82ã\\x83â\\x83â\\x83ã\\x83â\\x82â\\x82ã\\x83â\\x83â\\x82ã\\x83â\\x82â\\x99ll be better in the evening!\\r\\nso unless youã\\x83â\\x83â\\x83ã\\x83â\\x82â\\x83ã\\x83â\\x83â\\x82ã\\x83â\\x82â\\x83ã\\x83â\\x83â\\x83ã\\x83â\\x82â\\x82ã\\x83â\\x83â\\x82ã\\x83â\\x82ã\\x82â¢ã\\x83â\\x83â\\x83ã\\x83â\\x82â\\x83ã\\x83â\\x83â\\x82ã\\x83â\\x82â\\x82ã\\x83â\\x83â\\x83ã\\x83â\\x82â\\x82ã\\x83â\\x83â\\x82ã\\x83â\\x82â\\x80ã\\x83â\\x83â\\x83ã\\x83â\\x82â\\x83ã\\x83â\\x83â\\x82ã\\x83â\\x82â\\x82ã\\x83â\\x83â\\x83ã\\x83â\\x82â\\x82ã\\x83â\\x83â\\x82ã\\x83â\\x82â\\x99re around the area i wouldnã\\x83â\\x83â\\x83ã\\x83â\\x82â\\x83ã\\x83â\\x83â\\x82ã\\x83â\\x82â\\x83ã\\x83â\\x83â\\x83ã\\x83â\\x82â\\x82ã\\x83â\\x83â\\x82ã\\x83â\\x82ã\\x82â¢ã\\x83â\\x83â\\x83ã\\x83â\\x82â\\x83ã\\x83â\\x83â\\x82ã\\x83â\\x82â\\x82ã\\x83â\\x83â\\x83ã\\x83â\\x82â\\x82ã\\x83â\\x83â\\x82ã\\x83â\\x82â\\x80ã\\x83â\\x83â\\x83ã\\x83â\\x82â\\x83ã\\x83â\\x83â\\x82ã\\x83â\\x82â\\x82ã\\x83â\\x83â\\x83ã\\x83â\\x82â\\x82ã\\x83â\\x83â\\x82ã\\x83â\\x82â\\x99t recommend a long drive till there as it might leave you highly disappointed.',\n",
       " \"this place was on my mind since a year now and when i could finally make it there - i was with full of high hopes and expectations ; luckily this place met them extravagantly.\\r\\nfrom decore and ambience - this place is too beautiful with their interiors and well organised seating space.\\r\\nfood - quantity was too less , but the taste was heaaaveeeennnnn ð\\x9f¤©\\r\\ndrinks - can't say , because we did not drank the other day but i can assure you it will be good , also they have their own brewery.\\r\\nmusic - we went on weekday , so can't say much but have heard this place is the lit on weekends.\\r\\nrather , just close your eyes and do try this place once. no doubt even the koramangala branch is also upto its mark.\",\n",
       " \"good food, good ambiance. live music could've been better, but no biggie.\\r\\n\\r\\nsome of the items that we ordered:\\r\\n\\r\\n[pizza] diavola con pollo ã\\x83â\\x83â\\x83ã\\x83â\\x82â\\x83ã\\x83â\\x83â\\x82ã\\x83â\\x82â\\x83ã\\x83â\\x83â\\x83ã\\x83â\\x82â\\x82ã\\x83â\\x83â\\x82ã\\x83â\\x82ã\\x82â¢ã\\x83â\\x83â\\x83ã\\x83â\\x82â\\x83ã\\x83â\\x83â\\x82ã\\x83â\\x82â\\x82ã\\x83â\\x83â\\x83ã\\x83â\\x82â\\x82ã\\x83â\\x83â\\x82ã\\x83â\\x82â\\x80ã\\x83â\\x83â\\x83ã\\x83â\\x82â\\x83ã\\x83â\\x83â\\x82ã\\x83â\\x82â\\x82ã\\x83â\\x83â\\x83ã\\x83â\\x82â\\x82ã\\x83â\\x83â\\x82ã\\x83â\\x82â\\x93 4.5/5\\r\\n[starters] chicken tikka bao ã\\x83â\\x83â\\x83ã\\x83â\\x82â\\x83ã\\x83â\\x83â\\x82ã\\x83â\\x82â\\x83ã\\x83â\\x83â\\x83ã\\x83â\\x82â\\x82ã\\x83â\\x83â\\x82ã\\x83â\\x82ã\\x82â¢ã\\x83â\\x83â\\x83ã\\x83â\\x82â\\x83ã\\x83â\\x83â\\x82ã\\x83â\\x82â\\x82ã\\x83â\\x83â\\x83ã\\x83â\\x82â\\x82ã\\x83â\\x83â\\x82ã\\x83â\\x82â\\x80ã\\x83â\\x83â\\x83ã\\x83â\\x82â\\x83ã\\x83â\\x83â\\x82ã\\x83â\\x82â\\x82ã\\x83â\\x83â\\x83ã\\x83â\\x82â\\x82ã\\x83â\\x83â\\x82ã\\x83â\\x82â\\x93 4/5\\r\\n[starters] keema ghotala sliders ã\\x83â\\x83â\\x83ã\\x83â\\x82â\\x83ã\\x83â\\x83â\\x82ã\\x83â\\x82â\\x83ã\\x83â\\x83â\\x83ã\\x83â\\x82â\\x82ã\\x83â\\x83â\\x82ã\\x83â\\x82ã\\x82â¢ã\\x83â\\x83â\\x83ã\\x83â\\x82â\\x83ã\\x83â\\x83â\\x82ã\\x83â\\x82â\\x82ã\\x83â\\x83â\\x83ã\\x83â\\x82â\\x82ã\\x83â\\x83â\\x82ã\\x83â\\x82â\\x80ã\\x83â\\x83â\\x83ã\\x83â\\x82â\\x83ã\\x83â\\x83â\\x82ã\\x83â\\x82â\\x82ã\\x83â\\x83â\\x83ã\\x83â\\x82â\\x82ã\\x83â\\x83â\\x82ã\\x83â\\x82â\\x93 4.5/5\\r\\n[mains] gai pad krapow ã\\x83â\\x83â\\x83ã\\x83â\\x82â\\x83ã\\x83â\\x83â\\x82ã\\x83â\\x82â\\x83ã\\x83â\\x83â\\x83ã\\x83â\\x82â\\x82ã\\x83â\\x83â\\x82ã\\x83â\\x82ã\\x82â¢ã\\x83â\\x83â\\x83ã\\x83â\\x82â\\x83ã\\x83â\\x83â\\x82ã\\x83â\\x82â\\x82ã\\x83â\\x83â\\x83ã\\x83â\\x82â\\x82ã\\x83â\\x83â\\x82ã\\x83â\\x82â\\x80ã\\x83â\\x83â\\x83ã\\x83â\\x82â\\x83ã\\x83â\\x83â\\x82ã\\x83â\\x82â\\x82ã\\x83â\\x83â\\x83ã\\x83â\\x82â\\x82ã\\x83â\\x83â\\x82ã\\x83â\\x82â\\x93 4/5\",\n",
       " 'a beautiful place i must say ! ambience is lit as it is so cosy and classy specially the greenish touch they have added with beautiful lamps !\\r\\nwhen i talk about food , it was average !\\r\\nservice is good and the music is loud which is an addition to this place !\\r\\noverall itã\\x83â\\x83â\\x83ã\\x83â\\x82â\\x83ã\\x83â\\x83â\\x82ã\\x83â\\x82â\\x83ã\\x83â\\x83â\\x83ã\\x83â\\x82â\\x82ã\\x83â\\x83â\\x82ã\\x83â\\x82ã\\x82â¢ã\\x83â\\x83â\\x83ã\\x83â\\x82â\\x83ã\\x83â\\x83â\\x82ã\\x83â\\x82â\\x82ã\\x83â\\x83â\\x83ã\\x83â\\x82â\\x82ã\\x83â\\x83â\\x82ã\\x83â\\x82â\\x80ã\\x83â\\x83â\\x83ã\\x83â\\x82â\\x83ã\\x83â\\x83â\\x82ã\\x83â\\x82â\\x82ã\\x83â\\x83â\\x83ã\\x83â\\x82â\\x82ã\\x83â\\x83â\\x82ã\\x83â\\x82â\\x99s a good place to hangout with your friends but not to expect much on food ! desserts are amazing though ! ð\\x9f§\\x81 ã\\x83â\\x83â\\x83ã\\x83â\\x82â\\x83ã\\x83â\\x83â\\x82ã\\x83â\\x82â\\x83ã\\x83â\\x83â\\x83ã\\x83â\\x82â\\x82ã\\x83â\\x83â\\x82ã\\x83â\\x82ã\\x82â°ã\\x83â\\x83â\\x83ã\\x83â\\x82â\\x83ã\\x83â\\x83â\\x82ã\\x83â\\x82â\\x82ã\\x83â\\x83â\\x83ã\\x83â\\x82â\\x82ã\\x83â\\x83â\\x82ã\\x83â\\x82â\\x9fã\\x83â\\x83â\\x83ã\\x83â\\x82â\\x83ã\\x83â\\x83â\\x82ã\\x83â\\x82â\\x82ã\\x83â\\x83â\\x83ã\\x83â\\x82â\\x82ã\\x83â\\x83â\\x82ã\\x83â\\x82â\\x8dã\\x83â\\x83â\\x83ã\\x83â\\x82â\\x83ã\\x83â\\x83â\\x82ã\\x83â\\x82â\\x82ã\\x83â\\x83â\\x83ã\\x83â\\x82â\\x82ã\\x83â\\x83â\\x82ã\\x83â\\x82ã\\x82â°',\n",
       " 'a huge place with lovely ambiance . love their beer. the ipa is strong and ful of flavor. they got some interesting food options and each of them are just great.',\n",
       " 'biergarten whitefield was on my bookmarks for a long time.\\r\\ni honestly felt it didnã\\x83â\\x83â\\x83ã\\x83â\\x82â\\x83ã\\x83â\\x83â\\x82ã\\x83â\\x82â\\x83ã\\x83â\\x83â\\x83ã\\x83â\\x82â\\x82ã\\x83â\\x83â\\x82ã\\x83â\\x82ã\\x82â¢ã\\x83â\\x83â\\x83ã\\x83â\\x82â\\x83ã\\x83â\\x83â\\x82ã\\x83â\\x82â\\x82ã\\x83â\\x83â\\x83ã\\x83â\\x82â\\x82ã\\x83â\\x83â\\x82ã\\x83â\\x82â\\x80ã\\x83â\\x83â\\x83ã\\x83â\\x82â\\x83ã\\x83â\\x83â\\x82ã\\x83â\\x82â\\x82ã\\x83â\\x83â\\x83ã\\x83â\\x82â\\x82ã\\x83â\\x83â\\x82ã\\x83â\\x82â\\x99t live up to the hype and ratings i see here. as a vegetarian i wouldnã\\x83â\\x83â\\x83ã\\x83â\\x82â\\x83ã\\x83â\\x83â\\x82ã\\x83â\\x82â\\x83ã\\x83â\\x83â\\x83ã\\x83â\\x82â\\x82ã\\x83â\\x83â\\x82ã\\x83â\\x82ã\\x82â¢ã\\x83â\\x83â\\x83ã\\x83â\\x82â\\x83ã\\x83â\\x83â\\x82ã\\x83â\\x82â\\x82ã\\x83â\\x83â\\x83ã\\x83â\\x82â\\x82ã\\x83â\\x83â\\x82ã\\x83â\\x82â\\x80ã\\x83â\\x83â\\x83ã\\x83â\\x82â\\x83ã\\x83â\\x83â\\x82ã\\x83â\\x82â\\x82ã\\x83â\\x83â\\x83ã\\x83â\\x82â\\x82ã\\x83â\\x83â\\x82ã\\x83â\\x82â\\x99t recommend this place. i had mushroom galouti which was below average to be honest. my friends did like a few non veg dishes though.\\r\\nthe service is okay.\\r\\nambience gets an extra point in my rating! i went for lunch but iã\\x83â\\x83â\\x83ã\\x83â\\x82â\\x83ã\\x83â\\x83â\\x82ã\\x83â\\x82â\\x83ã\\x83â\\x83â\\x83ã\\x83â\\x82â\\x82ã\\x83â\\x83â\\x82ã\\x83â\\x82ã\\x82â¢ã\\x83â\\x83â\\x83ã\\x83â\\x82â\\x83ã\\x83â\\x83â\\x82ã\\x83â\\x82â\\x82ã\\x83â\\x83â\\x83ã\\x83â\\x82â\\x82ã\\x83â\\x83â\\x82ã\\x83â\\x82â\\x80ã\\x83â\\x83â\\x83ã\\x83â\\x82â\\x83ã\\x83â\\x83â\\x82ã\\x83â\\x82â\\x82ã\\x83â\\x83â\\x83ã\\x83â\\x82â\\x82ã\\x83â\\x83â\\x82ã\\x83â\\x82â\\x99m sure itã\\x83â\\x83â\\x83ã\\x83â\\x82â\\x83ã\\x83â\\x83â\\x82ã\\x83â\\x82â\\x83ã\\x83â\\x83â\\x83ã\\x83â\\x82â\\x82ã\\x83â\\x83â\\x82ã\\x83â\\x82ã\\x82â¢ã\\x83â\\x83â\\x83ã\\x83â\\x82â\\x83ã\\x83â\\x83â\\x82ã\\x83â\\x82â\\x82ã\\x83â\\x83â\\x83ã\\x83â\\x82â\\x82ã\\x83â\\x83â\\x82ã\\x83â\\x82â\\x80ã\\x83â\\x83â\\x83ã\\x83â\\x82â\\x83ã\\x83â\\x83â\\x82ã\\x83â\\x82â\\x82ã\\x83â\\x83â\\x83ã\\x83â\\x82â\\x82ã\\x83â\\x83â\\x82ã\\x83â\\x82â\\x99ll be better in the evening!\\r\\nso unless youã\\x83â\\x83â\\x83ã\\x83â\\x82â\\x83ã\\x83â\\x83â\\x82ã\\x83â\\x82â\\x83ã\\x83â\\x83â\\x83ã\\x83â\\x82â\\x82ã\\x83â\\x83â\\x82ã\\x83â\\x82ã\\x82â¢ã\\x83â\\x83â\\x83ã\\x83â\\x82â\\x83ã\\x83â\\x83â\\x82ã\\x83â\\x82â\\x82ã\\x83â\\x83â\\x83ã\\x83â\\x82â\\x82ã\\x83â\\x83â\\x82ã\\x83â\\x82â\\x80ã\\x83â\\x83â\\x83ã\\x83â\\x82â\\x83ã\\x83â\\x83â\\x82ã\\x83â\\x82â\\x82ã\\x83â\\x83â\\x83ã\\x83â\\x82â\\x82ã\\x83â\\x83â\\x82ã\\x83â\\x82â\\x99re around the area i wouldnã\\x83â\\x83â\\x83ã\\x83â\\x82â\\x83ã\\x83â\\x83â\\x82ã\\x83â\\x82â\\x83ã\\x83â\\x83â\\x83ã\\x83â\\x82â\\x82ã\\x83â\\x83â\\x82ã\\x83â\\x82ã\\x82â¢ã\\x83â\\x83â\\x83ã\\x83â\\x82â\\x83ã\\x83â\\x83â\\x82ã\\x83â\\x82â\\x82ã\\x83â\\x83â\\x83ã\\x83â\\x82â\\x82ã\\x83â\\x83â\\x82ã\\x83â\\x82â\\x80ã\\x83â\\x83â\\x83ã\\x83â\\x82â\\x83ã\\x83â\\x83â\\x82ã\\x83â\\x82â\\x82ã\\x83â\\x83â\\x83ã\\x83â\\x82â\\x82ã\\x83â\\x83â\\x82ã\\x83â\\x82â\\x99t recommend a long drive till there as it might leave you highly disappointed.',\n",
       " \"this place was on my mind since a year now and when i could finally make it there - i was with full of high hopes and expectations ; luckily this place met them extravagantly.\\r\\nfrom decore and ambience - this place is too beautiful with their interiors and well organised seating space.\\r\\nfood - quantity was too less , but the taste was heaaaveeeennnnn ð\\x9f¤©\\r\\ndrinks - can't say , because we did not drank the other day but i can assure you it will be good , also they have their own brewery.\\r\\nmusic - we went on weekday , so can't say much but have heard this place is the lit on weekends.\\r\\nrather , just close your eyes and do try this place once. no doubt even the koramangala branch is also upto its mark.\",\n",
       " \"good food, good ambiance. live music could've been better, but no biggie.\\r\\n\\r\\nsome of the items that we ordered:\\r\\n\\r\\n[pizza] diavola con pollo ã\\x83â\\x83â\\x83ã\\x83â\\x82â\\x83ã\\x83â\\x83â\\x82ã\\x83â\\x82â\\x83ã\\x83â\\x83â\\x83ã\\x83â\\x82â\\x82ã\\x83â\\x83â\\x82ã\\x83â\\x82ã\\x82â¢ã\\x83â\\x83â\\x83ã\\x83â\\x82â\\x83ã\\x83â\\x83â\\x82ã\\x83â\\x82â\\x82ã\\x83â\\x83â\\x83ã\\x83â\\x82â\\x82ã\\x83â\\x83â\\x82ã\\x83â\\x82â\\x80ã\\x83â\\x83â\\x83ã\\x83â\\x82â\\x83ã\\x83â\\x83â\\x82ã\\x83â\\x82â\\x82ã\\x83â\\x83â\\x83ã\\x83â\\x82â\\x82ã\\x83â\\x83â\\x82ã\\x83â\\x82â\\x93 4.5/5\\r\\n[starters] chicken tikka bao ã\\x83â\\x83â\\x83ã\\x83â\\x82â\\x83ã\\x83â\\x83â\\x82ã\\x83â\\x82â\\x83ã\\x83â\\x83â\\x83ã\\x83â\\x82â\\x82ã\\x83â\\x83â\\x82ã\\x83â\\x82ã\\x82â¢ã\\x83â\\x83â\\x83ã\\x83â\\x82â\\x83ã\\x83â\\x83â\\x82ã\\x83â\\x82â\\x82ã\\x83â\\x83â\\x83ã\\x83â\\x82â\\x82ã\\x83â\\x83â\\x82ã\\x83â\\x82â\\x80ã\\x83â\\x83â\\x83ã\\x83â\\x82â\\x83ã\\x83â\\x83â\\x82ã\\x83â\\x82â\\x82ã\\x83â\\x83â\\x83ã\\x83â\\x82â\\x82ã\\x83â\\x83â\\x82ã\\x83â\\x82â\\x93 4/5\\r\\n[starters] keema ghotala sliders ã\\x83â\\x83â\\x83ã\\x83â\\x82â\\x83ã\\x83â\\x83â\\x82ã\\x83â\\x82â\\x83ã\\x83â\\x83â\\x83ã\\x83â\\x82â\\x82ã\\x83â\\x83â\\x82ã\\x83â\\x82ã\\x82â¢ã\\x83â\\x83â\\x83ã\\x83â\\x82â\\x83ã\\x83â\\x83â\\x82ã\\x83â\\x82â\\x82ã\\x83â\\x83â\\x83ã\\x83â\\x82â\\x82ã\\x83â\\x83â\\x82ã\\x83â\\x82â\\x80ã\\x83â\\x83â\\x83ã\\x83â\\x82â\\x83ã\\x83â\\x83â\\x82ã\\x83â\\x82â\\x82ã\\x83â\\x83â\\x83ã\\x83â\\x82â\\x82ã\\x83â\\x83â\\x82ã\\x83â\\x82â\\x93 4.5/5\\r\\n[mains] gai pad krapow ã\\x83â\\x83â\\x83ã\\x83â\\x82â\\x83ã\\x83â\\x83â\\x82ã\\x83â\\x82â\\x83ã\\x83â\\x83â\\x83ã\\x83â\\x82â\\x82ã\\x83â\\x83â\\x82ã\\x83â\\x82ã\\x82â¢ã\\x83â\\x83â\\x83ã\\x83â\\x82â\\x83ã\\x83â\\x83â\\x82ã\\x83â\\x82â\\x82ã\\x83â\\x83â\\x83ã\\x83â\\x82â\\x82ã\\x83â\\x83â\\x82ã\\x83â\\x82â\\x80ã\\x83â\\x83â\\x83ã\\x83â\\x82â\\x83ã\\x83â\\x83â\\x82ã\\x83â\\x82â\\x82ã\\x83â\\x83â\\x83ã\\x83â\\x82â\\x82ã\\x83â\\x83â\\x82ã\\x83â\\x82â\\x93 4/5\",\n",
       " 'a beautiful place i must say ! ambience is lit as it is so cosy and classy specially the greenish touch they have added with beautiful lamps !\\r\\nwhen i talk about food , it was average !\\r\\nservice is good and the music is loud which is an addition to this place !\\r\\noverall itã\\x83â\\x83â\\x83ã\\x83â\\x82â\\x83ã\\x83â\\x83â\\x82ã\\x83â\\x82â\\x83ã\\x83â\\x83â\\x83ã\\x83â\\x82â\\x82ã\\x83â\\x83â\\x82ã\\x83â\\x82ã\\x82â¢ã\\x83â\\x83â\\x83ã\\x83â\\x82â\\x83ã\\x83â\\x83â\\x82ã\\x83â\\x82â\\x82ã\\x83â\\x83â\\x83ã\\x83â\\x82â\\x82ã\\x83â\\x83â\\x82ã\\x83â\\x82â\\x80ã\\x83â\\x83â\\x83ã\\x83â\\x82â\\x83ã\\x83â\\x83â\\x82ã\\x83â\\x82â\\x82ã\\x83â\\x83â\\x83ã\\x83â\\x82â\\x82ã\\x83â\\x83â\\x82ã\\x83â\\x82â\\x99s a good place to hangout with your friends but not to expect much on food ! desserts are amazing though ! ð\\x9f§\\x81 ã\\x83â\\x83â\\x83ã\\x83â\\x82â\\x83ã\\x83â\\x83â\\x82ã\\x83â\\x82â\\x83ã\\x83â\\x83â\\x83ã\\x83â\\x82â\\x82ã\\x83â\\x83â\\x82ã\\x83â\\x82ã\\x82â°ã\\x83â\\x83â\\x83ã\\x83â\\x82â\\x83ã\\x83â\\x83â\\x82ã\\x83â\\x82â\\x82ã\\x83â\\x83â\\x83ã\\x83â\\x82â\\x82ã\\x83â\\x83â\\x82ã\\x83â\\x82â\\x9fã\\x83â\\x83â\\x83ã\\x83â\\x82â\\x83ã\\x83â\\x83â\\x82ã\\x83â\\x82â\\x82ã\\x83â\\x83â\\x83ã\\x83â\\x82â\\x82ã\\x83â\\x83â\\x82ã\\x83â\\x82â\\x8dã\\x83â\\x83â\\x83ã\\x83â\\x82â\\x83ã\\x83â\\x83â\\x82ã\\x83â\\x82â\\x82ã\\x83â\\x83â\\x83ã\\x83â\\x82â\\x82ã\\x83â\\x83â\\x82ã\\x83â\\x82ã\\x82â°',\n",
       " 'a huge place with lovely ambiance . love their beer. the ipa is strong and ful of flavor. they got some interesting food options and each of them are just great.',\n",
       " 'biergarten whitefield was on my bookmarks for a long time.\\r\\ni honestly felt it didnã\\x83â\\x83â\\x83ã\\x83â\\x82â\\x83ã\\x83â\\x83â\\x82ã\\x83â\\x82â\\x83ã\\x83â\\x83â\\x83ã\\x83â\\x82â\\x82ã\\x83â\\x83â\\x82ã\\x83â\\x82ã\\x82â¢ã\\x83â\\x83â\\x83ã\\x83â\\x82â\\x83ã\\x83â\\x83â\\x82ã\\x83â\\x82â\\x82ã\\x83â\\x83â\\x83ã\\x83â\\x82â\\x82ã\\x83â\\x83â\\x82ã\\x83â\\x82â\\x80ã\\x83â\\x83â\\x83ã\\x83â\\x82â\\x83ã\\x83â\\x83â\\x82ã\\x83â\\x82â\\x82ã\\x83â\\x83â\\x83ã\\x83â\\x82â\\x82ã\\x83â\\x83â\\x82ã\\x83â\\x82â\\x99t live up to the hype and ratings i see here. as a vegetarian i wouldnã\\x83â\\x83â\\x83ã\\x83â\\x82â\\x83ã\\x83â\\x83â\\x82ã\\x83â\\x82â\\x83ã\\x83â\\x83â\\x83ã\\x83â\\x82â\\x82ã\\x83â\\x83â\\x82ã\\x83â\\x82ã\\x82â¢ã\\x83â\\x83â\\x83ã\\x83â\\x82â\\x83ã\\x83â\\x83â\\x82ã\\x83â\\x82â\\x82ã\\x83â\\x83â\\x83ã\\x83â\\x82â\\x82ã\\x83â\\x83â\\x82ã\\x83â\\x82â\\x80ã\\x83â\\x83â\\x83ã\\x83â\\x82â\\x83ã\\x83â\\x83â\\x82ã\\x83â\\x82â\\x82ã\\x83â\\x83â\\x83ã\\x83â\\x82â\\x82ã\\x83â\\x83â\\x82ã\\x83â\\x82â\\x99t recommend this place. i had mushroom galouti which was below average to be honest. my friends did like a few non veg dishes though.\\r\\nthe service is okay.\\r\\nambience gets an extra point in my rating! i went for lunch but iã\\x83â\\x83â\\x83ã\\x83â\\x82â\\x83ã\\x83â\\x83â\\x82ã\\x83â\\x82â\\x83ã\\x83â\\x83â\\x83ã\\x83â\\x82â\\x82ã\\x83â\\x83â\\x82ã\\x83â\\x82ã\\x82â¢ã\\x83â\\x83â\\x83ã\\x83â\\x82â\\x83ã\\x83â\\x83â\\x82ã\\x83â\\x82â\\x82ã\\x83â\\x83â\\x83ã\\x83â\\x82â\\x82ã\\x83â\\x83â\\x82ã\\x83â\\x82â\\x80ã\\x83â\\x83â\\x83ã\\x83â\\x82â\\x83ã\\x83â\\x83â\\x82ã\\x83â\\x82â\\x82ã\\x83â\\x83â\\x83ã\\x83â\\x82â\\x82ã\\x83â\\x83â\\x82ã\\x83â\\x82â\\x99m sure itã\\x83â\\x83â\\x83ã\\x83â\\x82â\\x83ã\\x83â\\x83â\\x82ã\\x83â\\x82â\\x83ã\\x83â\\x83â\\x83ã\\x83â\\x82â\\x82ã\\x83â\\x83â\\x82ã\\x83â\\x82ã\\x82â¢ã\\x83â\\x83â\\x83ã\\x83â\\x82â\\x83ã\\x83â\\x83â\\x82ã\\x83â\\x82â\\x82ã\\x83â\\x83â\\x83ã\\x83â\\x82â\\x82ã\\x83â\\x83â\\x82ã\\x83â\\x82â\\x80ã\\x83â\\x83â\\x83ã\\x83â\\x82â\\x83ã\\x83â\\x83â\\x82ã\\x83â\\x82â\\x82ã\\x83â\\x83â\\x83ã\\x83â\\x82â\\x82ã\\x83â\\x83â\\x82ã\\x83â\\x82â\\x99ll be better in the evening!\\r\\nso unless youã\\x83â\\x83â\\x83ã\\x83â\\x82â\\x83ã\\x83â\\x83â\\x82ã\\x83â\\x82â\\x83ã\\x83â\\x83â\\x83ã\\x83â\\x82â\\x82ã\\x83â\\x83â\\x82ã\\x83â\\x82ã\\x82â¢ã\\x83â\\x83â\\x83ã\\x83â\\x82â\\x83ã\\x83â\\x83â\\x82ã\\x83â\\x82â\\x82ã\\x83â\\x83â\\x83ã\\x83â\\x82â\\x82ã\\x83â\\x83â\\x82ã\\x83â\\x82â\\x80ã\\x83â\\x83â\\x83ã\\x83â\\x82â\\x83ã\\x83â\\x83â\\x82ã\\x83â\\x82â\\x82ã\\x83â\\x83â\\x83ã\\x83â\\x82â\\x82ã\\x83â\\x83â\\x82ã\\x83â\\x82â\\x99re around the area i wouldnã\\x83â\\x83â\\x83ã\\x83â\\x82â\\x83ã\\x83â\\x83â\\x82ã\\x83â\\x82â\\x83ã\\x83â\\x83â\\x83ã\\x83â\\x82â\\x82ã\\x83â\\x83â\\x82ã\\x83â\\x82ã\\x82â¢ã\\x83â\\x83â\\x83ã\\x83â\\x82â\\x83ã\\x83â\\x83â\\x82ã\\x83â\\x82â\\x82ã\\x83â\\x83â\\x83ã\\x83â\\x82â\\x82ã\\x83â\\x83â\\x82ã\\x83â\\x82â\\x80ã\\x83â\\x83â\\x83ã\\x83â\\x82â\\x83ã\\x83â\\x83â\\x82ã\\x83â\\x82â\\x82ã\\x83â\\x83â\\x83ã\\x83â\\x82â\\x82ã\\x83â\\x83â\\x82ã\\x83â\\x82â\\x99t recommend a long drive till there as it might leave you highly disappointed.',\n",
       " 'this place was on my list for quite some time and finally we visited it on this friday, just to kickstart our weekend.\\r\\nliked the way they have utilized the space as despite lot of tables and huge seating capacity, it still looks very spacious.\\r\\nambiance is very nice, mainly because of the open space areas. music was also good and good enough for people to enjoy the evening.\\r\\n\\r\\nwe ordered nachos, french fries, chicken starter and jerk spiced cottage cheese; all of them were very good in taste and are definitely worth trying (especially cottage cheese).\\r\\nanother place in city where you get brewed beer and they were also good.\\r\\n\\r\\nalso mention to waiter (shophina), for recommending us dished when we asked her, and they turned out to be very good.\\r\\n\\r\\nfood - 4/5\\r\\nambiance - 4/5\\r\\nmusic - 4/5\\r\\nservice - 4/5\\r\\n\\r\\noverall - 4/5 (definitely recommended)',\n",
       " 'this is the best place in whitefield to party, ambience is superb with green benches, spacious , good range of beer, food and music is amazing...']"
      ]
     },
     "execution_count": 18,
     "metadata": {},
     "output_type": "execute_result"
    }
   ],
   "source": [
    "reviews_lower[:500]"
   ]
  },
  {
   "cell_type": "code",
   "execution_count": 19,
   "metadata": {},
   "outputs": [],
   "source": [
    "# Remove extra line breaks\n",
    "reviews_lower=[\" \".join(txt.split()) for txt in reviews_lower]"
   ]
  },
  {
   "cell_type": "code",
   "execution_count": 20,
   "metadata": {},
   "outputs": [
    {
     "data": {
      "text/plain": [
       "['went there on a friday night, the place was surprisingly empty. interesting menu which is almost fully made of dosas. i had bullseye dosa and cheese masala dosa. the bullseye dosa was really good, with the egg perfectly cooked to a half boiled state. the masala in the cheese masala was good, but the cheese was a bit too chewy for my liking. the chutney was good, the sambar was average. the dishes are reasonably priced.',\n",
       " 'a very decent place serving good food. ordered chilli fish, chicken & pork sizzler. everything tasted good but pork could have been slightly better cooked. tried 2 beverages, both were very sweet.']"
      ]
     },
     "execution_count": 20,
     "metadata": {},
     "output_type": "execute_result"
    }
   ],
   "source": [
    "reviews_lower[2:4]"
   ]
  },
  {
   "cell_type": "code",
   "execution_count": 21,
   "metadata": {},
   "outputs": [
    {
     "data": {
      "text/plain": [
       "['hello', 'we', 'are', 'learning', 'NLP']"
      ]
     },
     "execution_count": 21,
     "metadata": {},
     "output_type": "execute_result"
    }
   ],
   "source": [
    "txt=\"hello we are \\n \\n learning NLP \\n\"\n",
    "txt.split()"
   ]
  },
  {
   "cell_type": "code",
   "execution_count": 22,
   "metadata": {},
   "outputs": [
    {
     "data": {
      "text/plain": [
       "'hello we are learning NLP'"
      ]
     },
     "execution_count": 22,
     "metadata": {},
     "output_type": "execute_result"
    }
   ],
   "source": [
    "\" \".join(txt.split())"
   ]
  },
  {
   "cell_type": "markdown",
   "metadata": {},
   "source": [
    "Tokenize \n"
   ]
  },
  {
   "cell_type": "code",
   "execution_count": 23,
   "metadata": {},
   "outputs": [],
   "source": [
    "from nltk.tokenize import word_tokenize\n"
   ]
  },
  {
   "cell_type": "code",
   "execution_count": 24,
   "metadata": {},
   "outputs": [
    {
     "name": "stderr",
     "output_type": "stream",
     "text": [
      "[nltk_data] Downloading package punkt to /home/labsuser/nltk_data...\n",
      "[nltk_data]   Package punkt is already up-to-date!\n"
     ]
    },
    {
     "data": {
      "text/plain": [
       "True"
      ]
     },
     "execution_count": 24,
     "metadata": {},
     "output_type": "execute_result"
    }
   ],
   "source": [
    "import nltk\n",
    "nltk.download('punkt')"
   ]
  },
  {
   "cell_type": "code",
   "execution_count": 25,
   "metadata": {},
   "outputs": [],
   "source": [
    "reviews_tokens=[word_tokenize(txt) for txt in reviews_lower]"
   ]
  },
  {
   "cell_type": "code",
   "execution_count": 26,
   "metadata": {},
   "outputs": [
    {
     "name": "stdout",
     "output_type": "stream",
     "text": [
      "['their', 'service', 'is', 'worst', ',', 'pricing', 'in', 'menu', 'is', 'different', 'from', 'bill', '.', 'they', 'can', 'give', 'you', 'a', 'bill', 'with', 'increased', 'pricing', '.', 'even', 'for', 'serving', 'water', ',', 'menu', ',', 'order', 'you', 'need', 'to', 'call', 'them', '3-4', 'times', 'even', 'on', 'a', 'non', 'busy', 'day', '.']\n"
     ]
    }
   ],
   "source": [
    "print(reviews_tokens[0])"
   ]
  },
  {
   "cell_type": "code",
   "execution_count": 27,
   "metadata": {},
   "outputs": [
    {
     "name": "stdout",
     "output_type": "stream",
     "text": [
      "['went', 'there', 'on', 'a', 'friday', 'night', ',', 'the', 'place', 'was', 'surprisingly', 'empty', '.', 'interesting', 'menu', 'which', 'is', 'almost', 'fully', 'made', 'of', 'dosas', '.', 'i', 'had', 'bullseye', 'dosa', 'and', 'cheese', 'masala', 'dosa', '.', 'the', 'bullseye', 'dosa', 'was', 'really', 'good', ',', 'with', 'the', 'egg', 'perfectly', 'cooked', 'to', 'a', 'half', 'boiled', 'state', '.', 'the', 'masala', 'in', 'the', 'cheese', 'masala', 'was', 'good', ',', 'but', 'the', 'cheese', 'was', 'a', 'bit', 'too', 'chewy', 'for', 'my', 'liking', '.', 'the', 'chutney', 'was', 'good', ',', 'the', 'sambar', 'was', 'average', '.', 'the', 'dishes', 'are', 'reasonably', 'priced', '.']\n"
     ]
    }
   ],
   "source": [
    "print(reviews_tokens[2])"
   ]
  },
  {
   "cell_type": "code",
   "execution_count": 30,
   "metadata": {},
   "outputs": [
    {
     "name": "stdout",
     "output_type": "stream",
     "text": [
      "[['their', 'service', 'is', 'worst', ',', 'pricing', 'in', 'menu', 'is', 'different', 'from', 'bill', '.', 'they', 'can', 'give', 'you', 'a', 'bill', 'with', 'increased', 'pricing', '.', 'even', 'for', 'serving', 'water', ',', 'menu', ',', 'order', 'you', 'need', 'to', 'call', 'them', '3-4', 'times', 'even', 'on', 'a', 'non', 'busy', 'day', '.'], ['really', 'appreciate', 'their', 'quality', 'and', 'timing', '.', 'i', 'have', 'tried', 'the', 'thattil', 'kutti', 'dosa', 'i', \"'ve\", 'been', 'addicted', 'to', 'the', 'dosa', 'really', 'and', 'the', 'chutney', '...', 'really', 'good', 'and', 'money', 'worth', 'much', 'better', 'than', 'a', 'thattukada', 'must', 'try', 'it'], ['went', 'there', 'on', 'a', 'friday', 'night', ',', 'the', 'place', 'was', 'surprisingly', 'empty', '.', 'interesting', 'menu', 'which', 'is', 'almost', 'fully', 'made', 'of', 'dosas', '.', 'i', 'had', 'bullseye', 'dosa', 'and', 'cheese', 'masala', 'dosa', '.', 'the', 'bullseye', 'dosa', 'was', 'really', 'good', ',', 'with', 'the', 'egg', 'perfectly', 'cooked', 'to', 'a', 'half', 'boiled', 'state', '.', 'the', 'masala', 'in', 'the', 'cheese', 'masala', 'was', 'good', ',', 'but', 'the', 'cheese', 'was', 'a', 'bit', 'too', 'chewy', 'for', 'my', 'liking', '.', 'the', 'chutney', 'was', 'good', ',', 'the', 'sambar', 'was', 'average', '.', 'the', 'dishes', 'are', 'reasonably', 'priced', '.']]\n"
     ]
    }
   ],
   "source": [
    "print(reviews_tokens[:3])"
   ]
  },
  {
   "cell_type": "code",
   "execution_count": 31,
   "metadata": {},
   "outputs": [],
   "source": [
    "# Remove stopwords\n",
    "# punctuations\n",
    "from nltk.corpus import stopwords\n",
    "from string import punctuation"
   ]
  },
  {
   "cell_type": "code",
   "execution_count": 32,
   "metadata": {},
   "outputs": [
    {
     "name": "stderr",
     "output_type": "stream",
     "text": [
      "[nltk_data] Downloading package stopwords to\n",
      "[nltk_data]     /home/labsuser/nltk_data...\n",
      "[nltk_data]   Package stopwords is already up-to-date!\n"
     ]
    },
    {
     "data": {
      "text/plain": [
       "True"
      ]
     },
     "execution_count": 32,
     "metadata": {},
     "output_type": "execute_result"
    }
   ],
   "source": [
    "import nltk\n",
    "nltk.download('stopwords')"
   ]
  },
  {
   "cell_type": "code",
   "execution_count": 33,
   "metadata": {},
   "outputs": [
    {
     "data": {
      "text/plain": [
       "'!\"#$%&\\'()*+,-./:;<=>?@[\\\\]^_`{|}~'"
      ]
     },
     "execution_count": 33,
     "metadata": {},
     "output_type": "execute_result"
    }
   ],
   "source": [
    "punctuation"
   ]
  },
  {
   "cell_type": "code",
   "execution_count": 34,
   "metadata": {},
   "outputs": [],
   "source": [
    "stop_nltk=stopwords.words('english')\n",
    "stop_punct=list(punctuation)"
   ]
  },
  {
   "cell_type": "code",
   "execution_count": 35,
   "metadata": {},
   "outputs": [
    {
     "name": "stdout",
     "output_type": "stream",
     "text": [
      "['i', 'me', 'my', 'myself', 'we', 'our', 'ours', 'ourselves', 'you', \"you're\", \"you've\", \"you'll\", \"you'd\", 'your', 'yours', 'yourself', 'yourselves', 'he', 'him', 'his', 'himself', 'she', \"she's\", 'her', 'hers', 'herself', 'it', \"it's\", 'its', 'itself', 'they', 'them', 'their', 'theirs', 'themselves', 'what', 'which', 'who', 'whom', 'this', 'that', \"that'll\", 'these', 'those', 'am', 'is', 'are', 'was', 'were', 'be', 'been', 'being', 'have', 'has', 'had', 'having', 'do', 'does', 'did', 'doing', 'a', 'an', 'the', 'and', 'but', 'if', 'or', 'because', 'as', 'until', 'while', 'of', 'at', 'by', 'for', 'with', 'about', 'against', 'between', 'into', 'through', 'during', 'before', 'after', 'above', 'below', 'to', 'from', 'up', 'down', 'in', 'out', 'on', 'off', 'over', 'under', 'again', 'further', 'then', 'once', 'here', 'there', 'when', 'where', 'why', 'how', 'all', 'any', 'both', 'each', 'few', 'more', 'most', 'other', 'some', 'such', 'no', 'nor', 'not', 'only', 'own', 'same', 'so', 'than', 'too', 'very', 's', 't', 'can', 'will', 'just', 'don', \"don't\", 'should', \"should've\", 'now', 'd', 'll', 'm', 'o', 're', 've', 'y', 'ain', 'aren', \"aren't\", 'couldn', \"couldn't\", 'didn', \"didn't\", 'doesn', \"doesn't\", 'hadn', \"hadn't\", 'hasn', \"hasn't\", 'haven', \"haven't\", 'isn', \"isn't\", 'ma', 'mightn', \"mightn't\", 'mustn', \"mustn't\", 'needn', \"needn't\", 'shan', \"shan't\", 'shouldn', \"shouldn't\", 'wasn', \"wasn't\", 'weren', \"weren't\", 'won', \"won't\", 'wouldn', \"wouldn't\"]\n"
     ]
    }
   ],
   "source": [
    "print(stop_nltk)"
   ]
  },
  {
   "cell_type": "code",
   "execution_count": 36,
   "metadata": {},
   "outputs": [
    {
     "name": "stdout",
     "output_type": "stream",
     "text": [
      "['!', '\"', '#', '$', '%', '&', \"'\", '(', ')', '*', '+', ',', '-', '.', '/', ':', ';', '<', '=', '>', '?', '@', '[', '\\\\', ']', '^', '_', '`', '{', '|', '}', '~']\n"
     ]
    }
   ],
   "source": [
    "print(stop_punct)"
   ]
  },
  {
   "cell_type": "code",
   "execution_count": 37,
   "metadata": {},
   "outputs": [
    {
     "data": {
      "text/plain": [
       "32"
      ]
     },
     "execution_count": 37,
     "metadata": {},
     "output_type": "execute_result"
    }
   ],
   "source": [
    "len(stop_punct)"
   ]
  },
  {
   "cell_type": "code",
   "execution_count": 38,
   "metadata": {},
   "outputs": [],
   "source": [
    "stop_nltk.remove('no')\n",
    "stop_nltk.remove('not')\n",
    "stop_nltk.remove('don')\n",
    "stop_nltk.remove('won')"
   ]
  },
  {
   "cell_type": "code",
   "execution_count": 39,
   "metadata": {},
   "outputs": [
    {
     "data": {
      "text/plain": [
       "False"
      ]
     },
     "execution_count": 39,
     "metadata": {},
     "output_type": "execute_result"
    }
   ],
   "source": [
    "\"no\" in stop_nltk"
   ]
  },
  {
   "cell_type": "code",
   "execution_count": 40,
   "metadata": {},
   "outputs": [],
   "source": [
    "# final list for removal\n",
    "stop_final=stop_nltk+stop_punct+['...',\"''\",\"====\",'must']"
   ]
  },
  {
   "cell_type": "code",
   "execution_count": 41,
   "metadata": {},
   "outputs": [],
   "source": [
    "# remove the stop final\n",
    "def del_stop(txt):\n",
    "    return [term for term in txt if term not in stop_final]"
   ]
  },
  {
   "cell_type": "code",
   "execution_count": 42,
   "metadata": {
    "collapsed": true,
    "jupyter": {
     "outputs_hidden": true
    },
    "tags": []
   },
   "outputs": [
    {
     "data": {
      "text/plain": [
       "['really',\n",
       " 'appreciate',\n",
       " 'quality',\n",
       " 'timing',\n",
       " 'tried',\n",
       " 'thattil',\n",
       " 'kutti',\n",
       " 'dosa',\n",
       " \"'ve\",\n",
       " 'addicted',\n",
       " 'dosa',\n",
       " 'really',\n",
       " 'chutney',\n",
       " 'really',\n",
       " 'good',\n",
       " 'money',\n",
       " 'worth',\n",
       " 'much',\n",
       " 'better',\n",
       " 'thattukada',\n",
       " 'try']"
      ]
     },
     "execution_count": 42,
     "metadata": {},
     "output_type": "execute_result"
    }
   ],
   "source": [
    "del_stop(reviews_tokens[1])"
   ]
  },
  {
   "cell_type": "code",
   "execution_count": 43,
   "metadata": {},
   "outputs": [],
   "source": [
    "reviews_clean=[del_stop(txt) for txt in reviews_tokens]"
   ]
  },
  {
   "cell_type": "code",
   "execution_count": 44,
   "metadata": {},
   "outputs": [
    {
     "name": "stdout",
     "output_type": "stream",
     "text": [
      "[['service', 'worst', 'pricing', 'menu', 'different', 'bill', 'give', 'bill', 'increased', 'pricing', 'even', 'serving', 'water', 'menu', 'order', 'need', 'call', '3-4', 'times', 'even', 'non', 'busy', 'day'], ['really', 'appreciate', 'quality', 'timing', 'tried', 'thattil', 'kutti', 'dosa', \"'ve\", 'addicted', 'dosa', 'really', 'chutney', 'really', 'good', 'money', 'worth', 'much', 'better', 'thattukada', 'try'], ['went', 'friday', 'night', 'place', 'surprisingly', 'empty', 'interesting', 'menu', 'almost', 'fully', 'made', 'dosas', 'bullseye', 'dosa', 'cheese', 'masala', 'dosa', 'bullseye', 'dosa', 'really', 'good', 'egg', 'perfectly', 'cooked', 'half', 'boiled', 'state', 'masala', 'cheese', 'masala', 'good', 'cheese', 'bit', 'chewy', 'liking', 'chutney', 'good', 'sambar', 'average', 'dishes', 'reasonably', 'priced']]\n"
     ]
    }
   ],
   "source": [
    "print(reviews_clean[:3])"
   ]
  },
  {
   "cell_type": "code",
   "execution_count": 45,
   "metadata": {
    "collapsed": true,
    "jupyter": {
     "outputs_hidden": true
    },
    "tags": []
   },
   "outputs": [
    {
     "name": "stdout",
     "output_type": "stream",
     "text": [
      "[['service', 'worst', 'pricing', 'menu', 'different', 'bill', 'give', 'bill', 'increased', 'pricing', 'even', 'serving', 'water', 'menu', 'order', 'need', 'call', '3-4', 'times', 'even', 'non', 'busy', 'day'], ['really', 'appreciate', 'quality', 'timing', 'tried', 'thattil', 'kutti', 'dosa', \"'ve\", 'addicted', 'dosa', 'really', 'chutney', 'really', 'good', 'money', 'worth', 'much', 'better', 'thattukada', 'try'], ['went', 'friday', 'night', 'place', 'surprisingly', 'empty', 'interesting', 'menu', 'almost', 'fully', 'made', 'dosas', 'bullseye', 'dosa', 'cheese', 'masala', 'dosa', 'bullseye', 'dosa', 'really', 'good', 'egg', 'perfectly', 'cooked', 'half', 'boiled', 'state', 'masala', 'cheese', 'masala', 'good', 'cheese', 'bit', 'chewy', 'liking', 'chutney', 'good', 'sambar', 'average', 'dishes', 'reasonably', 'priced'], ['decent', 'place', 'serving', 'good', 'food', 'ordered', 'chilli', 'fish', 'chicken', 'pork', 'sizzler', 'everything', 'tasted', 'good', 'pork', 'could', 'slightly', 'better', 'cooked', 'tried', '2', 'beverages', 'sweet'], ['one', 'best', 'places', 'steaks', 'city', 'tried', 'beef', 'steak', 'chili', 'rum', 'grilled', 'fish', 'orange', 'jalapenos', 'exceptionally', 'good', 'herbed', 'rice', 'mashed', 'potatoes', 'serves', 'alongside', 'equally', 'delecatble', 'service', 'prompt', 'zomato', 'gold', 'great', 'steal', 'steak', 'lover', 'place', 'visit', 'hope', 'come', 'another', 'ourself', 'somewhere', 'cbd', 'wish', 'back', 'soon', 'bon', 'appetit'], ['really', 'lovely', 'place', 'steaks', 'sizzlers', 'tried', 'whatã\\x83â\\x83â\\x83ã\\x83â\\x82â\\x83ã\\x83â\\x83â\\x82ã\\x83â\\x82â\\x82ã\\x83â\\x83â\\x83ã\\x83â\\x82â\\x82ã\\x83â\\x83â\\x82ã\\x83â\\x82â\\x92s', 'steak', 'flavourful', 'delicious', 'herb', 'sauce', 'one', 'kind', 'try', 'ambience', 'cozy', 'right', 'loved'], ['place', 'ia', 'ultimate', 'steak', 'lovers', 'chicken', 'pork', 'steaks', 'scrumptious', 'succulent', 'tried', 'honey', 'mustard', 'based', 'steakcious', \"'s\", 'steak', 'two', 'dishes', 'tasty', 'mocktails', 'also', 'quite', 'good', 'nice', 'place', 'awesome', 'dine-out', 'family', 'friend'], [\"'s\", 'shame', \"n't\", 'tried', 'upon', 'flame', 'lip', 'smacking', 'food', 'first', 'time', 'licked', 'sizzler', 'plate', 'bloody', 'good', 'two', 'us', 'ordered', 'fish', 'chilly', 'chicken', 'steak', 'sizzler', 'pork', 'steak', 'sauce', 'killer', 'meat', 'tender', 'sides', 'absolutely', 'fresh', 'end', 'old', 'salad', 'sides', 'mashed', 'potatoes', 'lot', 'places', 'served', 'everything', 'super', 'fresh', 'wish', 'place', 'runs', 'packed', 'house', 'complaint', 'drinks', 'tad', 'sweet', 'highly', 'recommended'], ['visited', 'place', 'tired', 'hungry', 'roaming', 'around', 'agra', 'lake', 'newly', 'opened', 'place', 'name', 'suggests', 'specialty', 'barbecued', 'smoked', 'food', 'menu', 'decent', 'variety', '..food', 'taste', 'good', 'ambiance', 'likeable', 'overall', 'great', 'place', 'family', 'dine'], ['went', 'yesterday', 'dinner', 'surprisingly', 'place', 'quite', 'silent', 'not', 'much', 'rush', 'went', 'take', 'sizzlers', '2', 'people', 'ordered', '2', 'types', 'sizzler', 'chicken', 'believe', 'taste', 'really', 'yummy', 'canã\\x83â\\x83â\\x83ã\\x83â\\x82â\\x83ã\\x83â\\x83â\\x82ã\\x83â\\x82â\\x82ã\\x83â\\x83â\\x83ã\\x83â\\x82â\\x82ã\\x83â\\x83â\\x82ã\\x83â\\x82â\\x92t', 'resist', 'eat', 'another', 'one', 'sad', 'already', 'late', 'closing', 'time', 'comes', 'surely', 'go', 'soon', 'food', 'superb', 'tasty', 'ambience', 'staffs', 'everything', 'good', 'great', 'experience', 'highly', 'recommended', 'sizzler', 'lovers']]\n"
     ]
    }
   ],
   "source": [
    "print(reviews_clean[:10])"
   ]
  },
  {
   "cell_type": "code",
   "execution_count": 46,
   "metadata": {},
   "outputs": [
    {
     "data": {
      "text/plain": [
       "['service worst pricing menu different bill give bill increased pricing even serving water menu order need call 3-4 times even non busy day',\n",
       " \"really appreciate quality timing tried thattil kutti dosa 've addicted dosa really chutney really good money worth much better thattukada try\"]"
      ]
     },
     "execution_count": 46,
     "metadata": {},
     "output_type": "execute_result"
    }
   ],
   "source": [
    "reviews_clean=[\" \".join(txt) for txt in reviews_clean]\n",
    "reviews_clean[:2]"
   ]
  },
  {
   "cell_type": "code",
   "execution_count": 48,
   "metadata": {},
   "outputs": [
    {
     "data": {
      "text/plain": [
       "27748"
      ]
     },
     "execution_count": 48,
     "metadata": {},
     "output_type": "execute_result"
    }
   ],
   "source": [
    "len(reviews_clean)"
   ]
  },
  {
   "cell_type": "code",
   "execution_count": 49,
   "metadata": {},
   "outputs": [],
   "source": [
    "reviews_clean1=reviews_clean[:5000]"
   ]
  },
  {
   "cell_type": "code",
   "execution_count": 50,
   "metadata": {},
   "outputs": [
    {
     "data": {
      "text/plain": [
       "5000"
      ]
     },
     "execution_count": 50,
     "metadata": {},
     "output_type": "execute_result"
    }
   ],
   "source": [
    "len(reviews_clean1)"
   ]
  },
  {
   "cell_type": "code",
   "execution_count": 54,
   "metadata": {},
   "outputs": [],
   "source": [
    "# create Indep & dep set\n",
    "X=reviews_clean1\n",
    "y=reviews.rating[:5000]"
   ]
  },
  {
   "cell_type": "code",
   "execution_count": 55,
   "metadata": {},
   "outputs": [
    {
     "data": {
      "text/plain": [
       "5000"
      ]
     },
     "execution_count": 55,
     "metadata": {},
     "output_type": "execute_result"
    }
   ],
   "source": [
    "len(X)"
   ]
  },
  {
   "cell_type": "code",
   "execution_count": 56,
   "metadata": {},
   "outputs": [
    {
     "data": {
      "text/plain": [
       "5000"
      ]
     },
     "execution_count": 56,
     "metadata": {},
     "output_type": "execute_result"
    }
   ],
   "source": [
    "len(y)"
   ]
  },
  {
   "cell_type": "code",
   "execution_count": 57,
   "metadata": {},
   "outputs": [],
   "source": [
    "# split the data into trainset & test set\n",
    "from sklearn.model_selection import train_test_split\n",
    "X_train,X_test,y_train,y_test=train_test_split(X,y,test_size=0.30,random_state=42)"
   ]
  },
  {
   "cell_type": "code",
   "execution_count": 58,
   "metadata": {
    "collapsed": true,
    "jupyter": {
     "outputs_hidden": true
    },
    "tags": []
   },
   "outputs": [
    {
     "data": {
      "text/plain": [
       "['quantity less',\n",
       " 'lassi weeks back within hours strong case throat infection would avoid possible may one case cant sure given area',\n",
       " 'taste good quantity mutton less',\n",
       " 'dint like food taste neither kebab not pizza biryani better food-1/5 ambiance-4/5 cost-2/5 food taste pathetic service-0/5 person serving got angry asked food not good',\n",
       " 'came across restaurant wandering across street food joints pubs place definitely draws attention food joint quite well lit beautiful chinese lamps show glass facade quite comfy place sit regular meal friends ordered lohan veg dim sums tasted fine schezwan noodles red chilly ã\\x83â\\x83â\\x83ã\\x83â\\x82â\\x83ã\\x83â\\x83â\\x82ã\\x83â\\x82â\\x82ã\\x83â\\x83â\\x83ã\\x83â\\x82â\\x82ã\\x83â\\x83â\\x82ã\\x83â\\x82â\\x97basil noodles tasted pretty much expected better place staff courteous took care order well ambience 4/5 staff 5/5 food 3/5 variety 4/5',\n",
       " \"awesome food epic burgers especially loved service owner takes every attention detail every customer comes 'll give props chef 's food begin 1st time bengaluru quite impressed restaurant worthavisit mustvisit steakstastic epicburgers\",\n",
       " \"'s first vegan restaurant to.. conviniently pleasant food options ans ambience ok. go bangalorians looking vegan outside food\",\n",
       " 'good food joint enjoy normal fare lot varieties chats pizzas biryanis stuffs available tried rogan josh one kashmiri food places delicious ideal place hang relax although place may feel lil congested times',\n",
       " 'delivery time high food okay',\n",
       " \"picture spiced pineapple pastry light vanilla cream filling served coorg pineapple chutney top _______________________________ 's great south india coastal finger food ambience loads people always waiting seat bonus noise important value money _______________________________ rating taste ã\\x83â\\x83â\\x83ã\\x83â\\x82â\\x83ã\\x83â\\x83â\\x82ã\\x83â\\x82â\\x83ã\\x83â\\x83â\\x83ã\\x83â\\x82â\\x82ã\\x83â\\x83â\\x82ã\\x83â\\x82ã\\x82â°ã\\x83â\\x83â\\x83ã\\x83â\\x82â\\x83ã\\x83â\\x83â\\x82ã\\x83â\\x82â\\x82ã\\x83â\\x83â\\x83ã\\x83â\\x82â\\x82ã\\x83â\\x83â\\x82ã\\x83â\\x82â\\x9fã\\x83â\\x83â\\x83ã\\x83â\\x82â\\x83ã\\x83â\\x83â\\x82ã\\x83â\\x82â\\x82ã\\x83â\\x83â\\x83ã\\x83â\\x82â\\x82ã\\x83â\\x83â\\x82ã\\x83â\\x82ã\\x82â¥ã\\x83â\\x83â\\x83ã\\x83â\\x82â\\x83ã\\x83â\\x83â\\x82ã\\x83â\\x82â\\x82ã\\x83â\\x83â\\x83ã\\x83â\\x82â\\x82ã\\x83â\\x83â\\x82ã\\x83â\\x82â\\x98 4/5 ambience ã\\x83â\\x83â\\x83ã\\x83â\\x82â\\x83ã\\x83â\\x83â\\x82ã\\x83â\\x82â\\x83ã\\x83â\\x83â\\x83ã\\x83â\\x82â\\x82ã\\x83â\\x83â\\x82ã\\x83â\\x82ã\\x82â°ã\\x83â\\x83â\\x83ã\\x83â\\x82â\\x83ã\\x83â\\x83â\\x82ã\\x83â\\x82â\\x82ã\\x83â\\x83â\\x83ã\\x83â\\x82â\\x82ã\\x83â\\x83â\\x82ã\\x83â\\x82â\\x9fã\\x83â\\x83â\\x83ã\\x83â\\x82â\\x83ã\\x83â\\x83â\\x82ã\\x83â\\x82â\\x82ã\\x83â\\x83â\\x83ã\\x83â\\x82â\\x82ã\\x83â\\x83â\\x82ã\\x83â\\x82â\\x8fã\\x83â\\x83â\\x83ã\\x83â\\x82â\\x83ã\\x83â\\x83â\\x82ã\\x83â\\x82â\\x82ã\\x83â\\x83â\\x83ã\\x83â\\x82â\\x82ã\\x83â\\x83â\\x82ã\\x83â\\x82â\\x9bã\\x83â\\x83â\\x83ã\\x83â\\x82â\\x83ã\\x83â\\x83â\\x82ã\\x83â\\x82â\\x83ã\\x83â\\x83â\\x83ã\\x83â\\x82â\\x82ã\\x83â\\x83â\\x82ã\\x83â\\x82ã\\x82â¯ã\\x83â\\x83â\\x83ã\\x83â\\x82â\\x83ã\\x83â\\x83â\\x82ã\\x83â\\x82â\\x82ã\\x83â\\x83â\\x83ã\\x83â\\x82â\\x82ã\\x83â\\x83â\\x82ã\\x83â\\x82ã\\x82â¸ã\\x83â\\x83â\\x83ã\\x83â\\x82â\\x83ã\\x83â\\x83â\\x82ã\\x83â\\x82â\\x82ã\\x83â\\x83â\\x83ã\\x83â\\x82â\\x82ã\\x83â\\x83â\\x82ã\\x83â\\x82â\\x8f 4/5 hygiene ã\\x83â\\x83â\\x83ã\\x83â\\x82â\\x83ã\\x83â\\x83â\\x82ã\\x83â\\x82â\\x83ã\\x83â\\x83â\\x83ã\\x83â\\x82â\\x82ã\\x83â\\x83â\\x82ã\\x83â\\x82ã\\x82â°ã\\x83â\\x83â\\x83ã\\x83â\\x82â\\x83ã\\x83â\\x83â\\x82ã\\x83â\\x82â\\x82ã\\x83â\\x83â\\x83ã\\x83â\\x82â\\x82ã\\x83â\\x83â\\x82ã\\x83â\\x82â\\x9fã\\x83â\\x83â\\x83ã\\x83â\\x82â\\x83ã\\x83â\\x83â\\x82ã\\x83â\\x82â\\x82ã\\x83â\\x83â\\x83ã\\x83â\\x82â\\x82ã\\x83â\\x83â\\x82ã\\x83â\\x82â\\x98ã\\x83â\\x83â\\x83ã\\x83â\\x82â\\x83ã\\x83â\\x83â\\x82ã\\x83â\\x82â\\x82ã\\x83â\\x83â\\x83ã\\x83â\\x82â\\x82ã\\x83â\\x83â\\x82ã\\x83â\\x82â\\x87 4/5 value money ã\\x83â\\x83â\\x83ã\\x83â\\x82â\\x83ã\\x83â\\x83â\\x82ã\\x83â\\x82â\\x83ã\\x83â\\x83â\\x83ã\\x83â\\x82â\\x82ã\\x83â\\x83â\\x82ã\\x83â\\x82ã\\x82â°ã\\x83â\\x83â\\x83ã\\x83â\\x82â\\x83ã\\x83â\\x83â\\x82ã\\x83â\\x82â\\x82ã\\x83â\\x83â\\x83ã\\x83â\\x82â\\x82ã\\x83â\\x83â\\x82ã\\x83â\\x82â\\x9fã\\x83â\\x83â\\x83ã\\x83â\\x82â\\x83ã\\x83â\\x83â\\x82ã\\x83â\\x82â\\x82ã\\x83â\\x83â\\x83ã\\x83â\\x82â\\x82ã\\x83â\\x83â\\x82ã\\x83â\\x82ã\\x82â¤ã\\x83â\\x83â\\x83ã\\x83â\\x82â\\x83ã\\x83â\\x83â\\x82ã\\x83â\\x82â\\x82ã\\x83â\\x83â\\x83ã\\x83â\\x82â\\x82ã\\x83â\\x83â\\x82ã\\x83â\\x82â\\x91- 5/5\",\n",
       " 'not good expected',\n",
       " \"order fresh lime place quite often.fresh lime neutral views sometimes n't take order even though order placed one needs cancel wasting 30 min also order button gets disabled sometimes even though open\",\n",
       " 'bad service .. kind dont care attitude service..ordered food dint even get delivered ..',\n",
       " \"ordered special chicken boneless biryani cudnt find even peice chicken 's mere biryani rice n't understand n't even keep basic standards\",\n",
       " 'letã\\x83â\\x83â\\x83ã\\x83â\\x82â\\x83ã\\x83â\\x83â\\x82ã\\x83â\\x82â\\x83ã\\x83â\\x83â\\x83ã\\x83â\\x82â\\x82ã\\x83â\\x83â\\x82ã\\x83â\\x82ã\\x82â¢ã\\x83â\\x83â\\x83ã\\x83â\\x82â\\x83ã\\x83â\\x83â\\x82ã\\x83â\\x82â\\x82ã\\x83â\\x83â\\x83ã\\x83â\\x82â\\x82ã\\x83â\\x83â\\x82ã\\x83â\\x82â\\x80ã\\x83â\\x83â\\x83ã\\x83â\\x82â\\x83ã\\x83â\\x83â\\x82ã\\x83â\\x82â\\x82ã\\x83â\\x83â\\x83ã\\x83â\\x82â\\x82ã\\x83â\\x83â\\x82ã\\x83â\\x82â\\x99s start primary factor price place easy pocket totally worth place packed rightly coz ppl drink lot nowadays price plays important role taste food incredibly good options soooo different compared normal places brings south indian superb staff busy coz manage crowd donã\\x83â\\x83â\\x83ã\\x83â\\x82â\\x83ã\\x83â\\x83â\\x82ã\\x83â\\x82â\\x83ã\\x83â\\x83â\\x83ã\\x83â\\x82â\\x82ã\\x83â\\x83â\\x82ã\\x83â\\x82ã\\x82â¢ã\\x83â\\x83â\\x83ã\\x83â\\x82â\\x83ã\\x83â\\x83â\\x82ã\\x83â\\x82â\\x82ã\\x83â\\x83â\\x83ã\\x83â\\x82â\\x82ã\\x83â\\x83â\\x82ã\\x83â\\x82â\\x80ã\\x83â\\x83â\\x83ã\\x83â\\x82â\\x83ã\\x83â\\x83â\\x82ã\\x83â\\x82â\\x82ã\\x83â\\x83â\\x83ã\\x83â\\x82â\\x82ã\\x83â\\x83â\\x82ã\\x83â\\x82â\\x99t expect ur table easily ambience normal like one clubs indiranagar catholic hsr u hear ppl talking loudly reminded school canteen keep going often especially coz new one opening koramangala ease crowd',\n",
       " 'bad food',\n",
       " 'visited place yesterday small outlet delicious lassi ordered mango lassi awesum one fair enough price basis quality quantity try mango lassi dry fruit lassi',\n",
       " 'md tokir service really good one .. priya two guys .. served well took us food whatever like',\n",
       " 'worst pizza ever life',\n",
       " \"one best place e city..as foodie little skeptic food however place never disappointed authentic taste food pleasant ambience hookah bar roof top gets kinky good way evening good place hangout cost cuisine preety low compare competitors go experience 's worth every penny ps might surprise next month stay connected get update\",\n",
       " 'food good chef available please give check menu chef availability plan eat accept cash hand written bills',\n",
       " \"place new favourite food good specially went bubble tea tapioca become extinct places buzzing young crowd atmosphere vibrant service self nothing much abt service food quick staff friendly 's lot chinese try place back soon taste 4/5 ambiance 4/5 service 4/5 quick service food value money 4/5 overall good place hangout nice food\",\n",
       " 'love samosa several times landed 4pm grab get recently opened sarjapur road veg thali rs 60/- steal ras malai okay chena podo better may comparing get bhubaneswar rating purely veg thali else 3. lifeisavacation.in',\n",
       " 'super best',\n",
       " 'good food',\n",
       " 'dint like food taste neither kebab not pizza biryani better food-1/5 ambiance-4/5 cost-2/5 food taste pathetic service-0/5 person serving got angry asked food not good',\n",
       " 'worst.i would give negative rating food spicy used much colour food worst packaging everything spilled couldnt eat',\n",
       " 'place ambience lively food decent.the service quite disappointing guess overly crowed wait like hour table songs dj enthusiastic lovely',\n",
       " 'place serves delicious thali pocket friendly prices ambience nice clean hygienic great place good lunch couple minutes walking distance orion mall much better option eat overpriced things inside mall ordered south indian executive thali lots food 110 rupees friend ordered akki roti 60 rupees hungry go thali enough',\n",
       " 'excellent food affordable prices good quality quantity electronic city .chicken kabab wings good combo packs reasonable prices visited 30 times never felt issues amazing amigos',\n",
       " 'sent us 1 vada ordered 2',\n",
       " \"limited seating never empty located near back gate christ university 's always filled christite christite perfect place grab bite hurry bun omlette try variety wraps sandwiches also good would recommend place anyone mood snack\",\n",
       " 'booked table reached time surprise received table 20min starters tasty served hot table two option juice live paratha momo counters attraction really good momo dips fine .in main course many options available veg non veg .food not different u get dine places .overall experience good really not romantic celebration family outing corporate lunch fine',\n",
       " \"tried recently renovation n love place great staff budget friendly place colorful decor great way serving indonesian pho cambodian wings hakka noodles superb 's definitely place revisit many times ..\",\n",
       " 'vijayalaxmi veg jayanagar way interview decided lunch found new restaurant took south indian meal contained poori subzi sweet sambar rasam palya rice papad cur rice poori bit oily taste good palya subzi rice cooked fine moist sambar watery not good taste rasam nice taste curd rice fresh overall satisfied lunch sridhar1206.blogspot.com',\n",
       " 'delicious food good afordable place kormanagala quench hunger asian food staff good good time thanks',\n",
       " 'great place meat lovers pros variety options great taste pocket friendly cons nothing go family friends enjoy',\n",
       " 'visit vega city mall yesterday cano-licious mango enjoyed taste combination first time loved wish one visit next time',\n",
       " 'much menu would gladly order every time visit place.i love pasta love burgers.i tried aglio olio pasta made without sauce absolute favorite dish place.the spaghetti cooked properly tasteful ample quantity',\n",
       " \"located busy street hsr upon flame serves quite good steaks reasonable price tried 's steak pork ribs steak apart fact chicken sizzler bit salty side happy place ambience also quite nice\",\n",
       " \"marwari kolkata ask place food .. love club kachori sabzi sunday 's breakfast place nailed needs.. enjoyed club kachori serve sunday mornings jalebi okayish tea good suggest club kachori breakfast sunday\",\n",
       " \"loved chena podo chena goja long time 2 delicacies unique odissa may not good ones cuttuck dhenkanal belt definitely enjoyable bangalore 's road side sweet shop next lord jagannath temple hsr layout visiting taste snacks\",\n",
       " 'superb place great food choice friendly staff great sitting space open air roof top well main varanda best part even two members try several things give option ordering half plates help try several things make tummy happy .natti style food highly recommended try fish banana leaf prawns..mutton keema good options alcoholic non alcoholic people great desert options parking cars might issue weekend valet parking though',\n",
       " 'good',\n",
       " 'perfect place sunday lunch thoroughly enjoyed place literally feel gained double weight service good every dish awesome desserts yummy starters good yfm food:4/5 ambience:4/5 service:5/5 quality:4/5',\n",
       " 'nice',\n",
       " 'night scenes romantic ambience great food polite staff quick service lunch scenes perfect place hangout chill enjoy great food place casual date night lunch friends enjoyed times steaks a..mazing try jack danial steak thing',\n",
       " \"looking reviews hearing extensive buffet menu chose visit place breakfast family however visit n't pleasant one 1. breakfast items unlike restaurants extremely limited 2. things cold 3. ordered dosa tasted weird guess batter left previous day 4. name fruits banana muskmelon muskmelon unriped 5. took half hour serve boiled eggs 6. barely 8 people entire restaurant bread basket empty 7. ordered aloo paratha not stuffed cooked well 8. waffle hard tasteless good thing place quiet could eat breakfast peace bad experience otherwise\",\n",
       " 'biergarten lives expectation time courteous staff pay attention try accommodate little requests every single dish delight wonder make good vegetarian fare well music always uplifting afternoon beers probably serve best ipa town',\n",
       " 'good',\n",
       " 'not mark',\n",
       " \"ordered veg fried rice 's not veg fried rice stones veg fried rice\",\n",
       " 'fame grilled half chicken porto rice mushrooms boneless chicken breast everything tasty however rice choose mildly spicy terribly spicy aware restaurant like nando concept similar type accompaniments good place dinner movie definitely good chicken lovers veg choices limited food :4/5 service:4/5 ambience:3/5 overall 3.5/5',\n",
       " \"tried chicken biriyani combo today not good please provide worthy food money paid.i 'm suggesting everyone please not try\",\n",
       " 'bs',\n",
       " 'sheer disappointment crowded understand concept shared benches making crampy adjusting people wherever possible crowded waiters hardly paying attention make money ruining used sorry say walk end havr never restaurant rating maybe bad day big disappointment',\n",
       " 'food options not innovative taste stylish presentation well starters served tasty dips really impressed prices also economical definitely re-visiting soon try distinguished items ambience pleasant service fine',\n",
       " \"narmadha 's hyderbad biryani taste amazing place famous hyderabad biryani mouthwatering taste not happy location 's main road improve cleanliness ambience hotel worth money food :5/5 service :4/5 cleanliness :2.5/5 ambience :2.5/5\",\n",
       " 'everyday biryani day today no different drove almost 20kms find place first thing restaurant ambience dual mind sit leave love biryani glued ordered almost every biryani menu masala unique biryani rice everything ordered andra starters good definitely restaurant needs overhaul thinditheertha',\n",
       " \"n't mutton pieces 2 piece bone n fat hahaha nice fools\",\n",
       " 'worst service ever ..ordered one item got different item',\n",
       " 'great little place proper north indian food one suggestion go not order biriyani may order everything else would strongly recommend murg ka soola starters butter chicken',\n",
       " 'good',\n",
       " 'saw restaurant many times whenever passed thought another new chinese restaurant area visited completely changed mind went try bubble tea ended trying items ambience really cute service good bubble tea good tried classic bubble tea cranberry bubble tea tapioca bubbles apart onion rings good cupcakesontravel.blogspot.com',\n",
       " 'best service given staffs burgers amazing kolaveri di best offer fresh tasty food good place visit',\n",
       " 'best non_veg visited place 3 4 times feel like non-veg variety good tandoori chicken good juicy smoky also rolls famous area suggestion chilly chicken gravy garlic naan favorite combo',\n",
       " 'place located busy streets koramangala.i family place absolutely loved place interiors classy service pretty excellent.the place spread across two floors.we ordered veg non veg delicacies tasted delicious overall wonderful satisfying experience place keep good work guys',\n",
       " \"enormous number new places coming tend make friends circle try turn good bad something truffles even countless visits place never disappointed us way.. first time visiting st mark 's outlet older one experience great always ordered chicken sesame kebab prawn butter garlic couple chicken steaks butter garlic exactly wanted ai n't usual chinese kinda preparation layer batter instead get proper portion prawn cooked coastal cuisine kebabs like coveted starter namma bengaluru guys nailed preparation overall great experience grubitizer.com\",\n",
       " 'nice food',\n",
       " 'good',\n",
       " 'went friday colleagues..had good time..food amazing..beers good too.try prawn garlic fry.. service great food 5/5 drinks 4/5 price :3/5',\n",
       " 'orderd egg fried rice hv ruined mixed egg puloa..very bad service..',\n",
       " 'taste good',\n",
       " \"one best place e city..as foodie little skeptic food however place never disappointed authentic taste food pleasant ambience hookah bar roof top gets kinky good way evening good place hangout cost cuisine preety low compare competitors go experience 's worth every penny ps might surprise next month stay connected get update\",\n",
       " 'chicken hard rubbery ..else would given 5',\n",
       " 'biriyani place love bangalore meghana made fall love andhra biriyani bong dum biriyani trust not easy bong say loves andhra biriyani kolkata dum biriyani ã\\x83â\\x83â\\x83ã\\x83â\\x82â\\x83ã\\x83â\\x83â\\x82ã\\x83â\\x82â\\x83ã\\x83â\\x83â\\x83ã\\x83â\\x82â\\x82ã\\x83â\\x83â\\x82ã\\x83â\\x82ã\\x82â°ã\\x83â\\x83â\\x83ã\\x83â\\x82â\\x83ã\\x83â\\x83â\\x82ã\\x83â\\x82â\\x82ã\\x83â\\x83â\\x83ã\\x83â\\x82â\\x82ã\\x83â\\x83â\\x82ã\\x83â\\x82â\\x9fã\\x83â\\x83â\\x83ã\\x83â\\x82â\\x83ã\\x83â\\x83â\\x82ã\\x83â\\x82â\\x82ã\\x83â\\x83â\\x83ã\\x83â\\x82â\\x82ã\\x83â\\x83â\\x82ã\\x83â\\x82â\\x98ã\\x83â\\x83â\\x83ã\\x83â\\x82â\\x83ã\\x83â\\x83â\\x82ã\\x83â\\x82â\\x82ã\\x83â\\x83â\\x83ã\\x83â\\x82â\\x82ã\\x83â\\x83â\\x82ã\\x83â\\x82â\\x81ã\\x83â\\x83â\\x83ã\\x83â\\x82â\\x83ã\\x83â\\x83â\\x82ã\\x83â\\x82â\\x83ã\\x83â\\x83â\\x83ã\\x83â\\x82â\\x82ã\\x83â\\x83â\\x82ã\\x83â\\x82ã\\x82â°ã\\x83â\\x83â\\x83ã\\x83â\\x82â\\x83ã\\x83â\\x83â\\x82ã\\x83â\\x82â\\x82ã\\x83â\\x83â\\x83ã\\x83â\\x82â\\x82ã\\x83â\\x83â\\x82ã\\x83â\\x82â\\x9fã\\x83â\\x83â\\x83ã\\x83â\\x82â\\x83ã\\x83â\\x83â\\x82ã\\x83â\\x82â\\x82ã\\x83â\\x83â\\x83ã\\x83â\\x82â\\x82ã\\x83â\\x83â\\x82ã\\x83â\\x82â\\x98ã\\x83â\\x83â\\x83ã\\x83â\\x82â\\x83ã\\x83â\\x83â\\x82ã\\x83â\\x82â\\x82ã\\x83â\\x83â\\x83ã\\x83â\\x82â\\x82ã\\x83â\\x83â\\x82ã\\x83â\\x82â\\x81 umpteenth number times still fave chicken boneless biriyani mutton pepper fry',\n",
       " 'spicy',\n",
       " 'place nati style food bangalore ragi mudde chapathi rice place good family room separately mutton chops mutton kurma awesome try',\n",
       " 'new favourite place discovered place last year fell completely love ambience adorable cute little panda references everywhere justice name food served delicious also pocket friendly staff sweet willing explain dishes tried katsu chicken bao prawns ramen pad thai chicken spicy orange sauce chicken wings plum sauce strawberry tapioca balls lemon tea dishes tried marvelous extremely delicious visited place couple times post first experience planning visit loyd wheretomunchblr ambience 5 food 5 service 5',\n",
       " 'quantity less not matching price',\n",
       " 'loved taste food however looked like chef hurry go home lumps ingredients garlic not peeled onions size thumb capsicum weight kilo ..and worst part ordered chicken biriyani delivered extra oil chicken fried rice',\n",
       " 'worst food',\n",
       " 'delicious',\n",
       " 'utterly waste money u call tht curd rice',\n",
       " 'suggested restaurant friend mine one kind ambiance food kinda bland management friendly reason no customer apart us present lunch tried gobi manchurian average fried rice average south indian meals good according friends north indian meals decent ambiance 4/5 food 3/5 staff 4/5 value money 3.5/5',\n",
       " \"amazing place visit restaurant opened place 100 feet regular loved bob 's equally open air setting pocket friendly pricing finger licking good food extensive drinks menu works favour place surely visiting often also place serve budweiser draught beer whereas majority serves kingfisher way priced menu ambience offering definitely going crowd puller\",\n",
       " 'place list quite time finally visited friday kickstart weekend liked way utilized space despite lot tables huge seating capacity still looks spacious ambiance nice mainly open space areas music also good good enough people enjoy evening ordered nachos french fries chicken starter jerk spiced cottage cheese good taste definitely worth trying especially cottage cheese another place city get brewed beer also good also mention waiter shophina recommending us dished asked turned good food 4/5 ambiance 4/5 music 4/5 service 4/5 overall 4/5 definitely recommended',\n",
       " 'nice taste',\n",
       " \"amazing place overall great ambience great food service usually order mac n cheese lasagna 're really good desserts also amazing\",\n",
       " 'place near phase 1 coffee day food okie okie kind food ordered delivered late anyways not complaining group spending quality time food delivered hot taste okie called spicy reddy kaaram rice not spicy ambience gud mix group need get sorted otherwise place ok',\n",
       " \"marwari kolkata ask place food .. love club kachori sabzi sunday 's breakfast place nailed needs.. enjoyed club kachori serve sunday mornings jalebi okayish tea good suggest club kachori breakfast sunday\",\n",
       " 'taste good look price quality quantity good',\n",
       " 'nice taste',\n",
       " \"sometimes south indian city like bangalore good south indian food n't always easy come especially ecity good south indian food monopoly dingy shacks dotted around locality varenyam fills gap beautiful classy place food simple clean privilege trying dosas tried ghee roast egg dosa chicken dosa equally good everything tasted fresh simple chicken chilly andhra style also amazing prices good want good clean food beautiful decor service excellent non-intrusive good friday lunch cant wait take family\",\n",
       " 'ordered chicken fried rice taste toooo bad spicy',\n",
       " 'worst restaurant charged unnecessary',\n",
       " 'ordered lot parcel place today finally tried dine service.panner biryani good veg biryani kind ok.. colleagues tried chicken biryani turned good though not great..starters mark..you try days special overall experience food :3.5/5 ambience:3/5 value money:3.8 service 4',\n",
       " 'best best bestttttt best waffles say customize waffles per requirement service good along ambience',\n",
       " 'word use describe restaurants food flawless delicious ambience 5 food would love rate 5 service:5 places serve crispy chicken roll tastes still remains crispy visit recommendation',\n",
       " 'wrost service',\n",
       " 'nice food',\n",
       " \"whenever 'm craving dessert indulge/ innerchef go place food good desserts decadent red velvet try mini kitkat gems cupcake used bannoffie pie krusts krumbs hope bring back menu soon order yummy tummy\",\n",
       " 'good',\n",
       " 'list long time place actually attracted ambience open air finally visited team one fine evening reservation last min got place open air ground floor kind benches sit facing benches quite long shared groups place lively beer serve custom beers good food good tried pizza pasta chicken wings nachos etc every single item good team great time overall would definitely recommend place either friends team',\n",
       " 'excellent ambiance compared outlet delhi family great time quality mutton awesome dhaba meat definitely visit place ever visis bangalore thanks lot guyz',\n",
       " \"nice place good breakfast weekend overlooking ccd junction nostalgia-inducing ambiance grandpa chairs old-school switchboards place serves good dosas chutneys come even better went evening enjoyed everything place ca n't found easily though need try lunch/dinner someday quick review food 4.5/5 service 4/5 ambiance 4/5 hygiene 4/5 ease parking 3/5 haves ghee roast dosas chicken kheema dosa\",\n",
       " 'best biryani reasonable price love taste tastiest biryani area loved kebab well better al bek honestreview',\n",
       " 'worst food',\n",
       " 'good place quick bite items well prepared served hygienic manner price reasonable chole bature pootri sabzi masala dhokla jalebi samosa pav awesome',\n",
       " 'best best bestttttt best waffles say customize waffles per requirement service good along ambience',\n",
       " \"one best pubs to.they brewery nice food options.ambiance awesome.they live music dance floor downstairs.spacious enough.its near graphite india main road opposite 'll patrol pump\",\n",
       " \"cute panda statue welcomes store place appealing ambience everything resembles panda entrance salt pepper containers coming food name suggests specialized noodles spagghetti south east asian cuisines n't upsetti eat spaghetti p\",\n",
       " 'went team dinner ambience good family dinners well team dinners.food really good limited variety',\n",
       " 'would give 4.5 side birinz started delivery since 6-8 years turned restaurant btm one perfect choice lunch dinner loved ones veg non veg lot varieties treat tummy try biryani chicken patyala chicken 555 birinz special biryani butter naan lassi lime juice starters amazing biryani tasted delicious love cook firewood outcome perfect ambience like family restaurants worth money tasty food serve one correction lassi could better rest perfectly correct overall try place',\n",
       " 'heard place friends nice place nice food excellent service really enjoyed great job keep see u food -- 5 service -- 5',\n",
       " 'visited outlet first time saw interesting milkshakes menu chose butterscotch milkshake really good priced pretty cheap',\n",
       " 'nice place small gathering.. rooftop decent.. parking bit pain.. said draught beer start soon.. otherwise decent options.. food average.. liked multiple dishes ordered.. peanut masala avarekalu usli paneer tikka curd rice.. seafood non-veg average.. hmmm evening mosquitoes may guests well..',\n",
       " 'good .. spices south',\n",
       " 'small sweet shop.. nothing great.. sweets average.. place visited rasgullas.. rest items so..',\n",
       " \"buff buffet buff stand per name come food service good dining experience restaurant bored bbq grills went normal buffet surprisingly service food good far better normal bbq grills coming rating 's 5* star aspects pics would discribe place better\",\n",
       " 'nice food ambience golden metro express looking superb staff also good hospitality awesome restaurant along stay also',\n",
       " \"loved chena podo chena goja long time 2 delicacies unique odissa may not good ones cuttuck dhenkanal belt definitely enjoyable bangalore 's road side sweet shop next lord jagannath temple hsr layout visiting taste snacks\",\n",
       " '3.5/5 place located opposite empire restaurant kormangala 5th block reviews zomato made visit place ambience good self service restaurant ordered chicken pandan sauce pad thai good quantity chicken pandan sauce little spicy pad thai sweet tangy loves spicy food donã\\x83â\\x83â\\x83ã\\x83â\\x82â\\x83ã\\x83â\\x83â\\x82ã\\x83â\\x82â\\x82ã\\x83â\\x83â\\x83ã\\x83â\\x82â\\x82ã\\x83â\\x83â\\x82ã\\x83â\\x82â\\x92t go dish overall good place',\n",
       " 'donã\\x83â\\x83â\\x83ã\\x83â\\x82â\\x83ã\\x83â\\x83â\\x82ã\\x83â\\x82â\\x83ã\\x83â\\x83â\\x83ã\\x83â\\x82â\\x82ã\\x83â\\x83â\\x82ã\\x83â\\x82ã\\x82â¢ã\\x83â\\x83â\\x83ã\\x83â\\x82â\\x83ã\\x83â\\x83â\\x82ã\\x83â\\x82â\\x82ã\\x83â\\x83â\\x83ã\\x83â\\x82â\\x82ã\\x83â\\x83â\\x82ã\\x83â\\x82â\\x80ã\\x83â\\x83â\\x83ã\\x83â\\x82â\\x83ã\\x83â\\x83â\\x82ã\\x83â\\x82â\\x82ã\\x83â\\x83â\\x83ã\\x83â\\x82â\\x82ã\\x83â\\x83â\\x82ã\\x83â\\x82â\\x99t visit place good food drinks namesake long menu half items not available hearing ã\\x83â\\x83â\\x83ã\\x83â\\x82â\\x83ã\\x83â\\x83â\\x82ã\\x83â\\x82â\\x83ã\\x83â\\x83â\\x83ã\\x83â\\x82â\\x82ã\\x83â\\x83â\\x82ã\\x83â\\x82ã\\x82â¢ã\\x83â\\x83â\\x83ã\\x83â\\x82â\\x83ã\\x83â\\x83â\\x82ã\\x83â\\x82â\\x82ã\\x83â\\x83â\\x83ã\\x83â\\x82â\\x82ã\\x83â\\x83â\\x82ã\\x83â\\x82â\\x80ã\\x83â\\x83â\\x83ã\\x83â\\x82â\\x83ã\\x83â\\x83â\\x82ã\\x83â\\x82â\\x82ã\\x83â\\x83â\\x83ã\\x83â\\x82â\\x82ã\\x83â\\x83â\\x82ã\\x83â\\x82â\\x9cnot availableã\\x83â\\x83â\\x83ã\\x83â\\x82â\\x83ã\\x83â\\x83â\\x82ã\\x83â\\x82â\\x83ã\\x83â\\x83â\\x83ã\\x83â\\x82â\\x82ã\\x83â\\x83â\\x82ã\\x83â\\x82ã\\x82â¢ã\\x83â\\x83â\\x83ã\\x83â\\x82â\\x83ã\\x83â\\x83â\\x82ã\\x83â\\x82â\\x82ã\\x83â\\x83â\\x83ã\\x83â\\x82â\\x82ã\\x83â\\x83â\\x82ã\\x83â\\x82â\\x80ã\\x83â\\x83â\\x83ã\\x83â\\x82â\\x83ã\\x83â\\x83â\\x82ã\\x83â\\x82â\\x82ã\\x83â\\x83â\\x83ã\\x83â\\x82â\\x82ã\\x83â\\x83â\\x82ã\\x83â\\x82â\\x9d 2-3 times food well drinks end ordering whatever 2-3 dishes staff suggests restaurant also understaffed service time bad good thing place dance floor dining area apart enables chat comfortably friends even loud music around',\n",
       " 'steak steak steak perfectly cooked timed seared steak wide variety succulent variations various combinations steak burgers well always goto place craving steaks',\n",
       " \"one best place e city..as foodie little skeptic food however place never disappointed authentic taste food pleasant ambience hookah bar roof top gets kinky good way evening good place hangout cost cuisine preety low compare competitors go experience 's worth every penny ps might surprise next month stay connected get update\",\n",
       " 'good homely food pocket friendly cost good taste usually delivers promised time zomato taste wise also good option punjabi/north indian food lovers',\n",
       " 'great n fun place hangout friends family casual meetings celebrate parties fantastic food nice ambiance good options menu taste unique try burgers ã\\x83â\\x83â\\x83ã\\x83â\\x82â\\x83ã\\x83â\\x83â\\x82ã\\x83â\\x82â\\x83ã\\x83â\\x83â\\x83ã\\x83â\\x82â\\x82ã\\x83â\\x83â\\x82ã\\x83â\\x82ã\\x82â°ã\\x83â\\x83â\\x83ã\\x83â\\x82â\\x83ã\\x83â\\x83â\\x82ã\\x83â\\x82â\\x82ã\\x83â\\x83â\\x83ã\\x83â\\x82â\\x82ã\\x83â\\x83â\\x82ã\\x83â\\x82â\\x9fã\\x83â\\x83â\\x83ã\\x83â\\x82â\\x83ã\\x83â\\x83â\\x82ã\\x83â\\x82â\\x82ã\\x83â\\x83â\\x83ã\\x83â\\x82â\\x82ã\\x83â\\x83â\\x82ã\\x83â\\x82â\\x8dã\\x83â\\x83â\\x83ã\\x83â\\x82â\\x83ã\\x83â\\x83â\\x82ã\\x83â\\x82â\\x82ã\\x83â\\x83â\\x83ã\\x83â\\x82â\\x82ã\\x83â\\x83â\\x82ã\\x83â\\x82â\\x94 sandwich ð\\x9f¥ª donut ã\\x83â\\x83â\\x83ã\\x83â\\x82â\\x83ã\\x83â\\x83â\\x82ã\\x83â\\x82â\\x83ã\\x83â\\x83â\\x83ã\\x83â\\x82â\\x82ã\\x83â\\x83â\\x82ã\\x83â\\x82ã\\x82â°ã\\x83â\\x83â\\x83ã\\x83â\\x82â\\x83ã\\x83â\\x83â\\x82ã\\x83â\\x82â\\x82ã\\x83â\\x83â\\x83ã\\x83â\\x82â\\x82ã\\x83â\\x83â\\x82ã\\x83â\\x82â\\x9fã\\x83â\\x83â\\x83ã\\x83â\\x82â\\x83ã\\x83â\\x83â\\x82ã\\x83â\\x82â\\x82ã\\x83â\\x83â\\x83ã\\x83â\\x82â\\x82ã\\x83â\\x83â\\x82ã\\x83â\\x82â\\x8dã\\x83â\\x83â\\x83ã\\x83â\\x82â\\x83ã\\x83â\\x83â\\x82ã\\x83â\\x82â\\x82ã\\x83â\\x83â\\x83ã\\x83â\\x82â\\x82ã\\x83â\\x83â\\x82ã\\x83â\\x82ã\\x82â© milkshakeã\\x83â\\x83â\\x83ã\\x83â\\x82â\\x83ã\\x83â\\x83â\\x82ã\\x83â\\x82â\\x83ã\\x83â\\x83â\\x83ã\\x83â\\x82â\\x82ã\\x83â\\x83â\\x82ã\\x83â\\x82ã\\x82â°ã\\x83â\\x83â\\x83ã\\x83â\\x82â\\x83ã\\x83â\\x83â\\x82ã\\x83â\\x82â\\x82ã\\x83â\\x83â\\x83ã\\x83â\\x82â\\x82ã\\x83â\\x83â\\x82ã\\x83â\\x82â\\x9fã\\x83â\\x83â\\x83ã\\x83â\\x82â\\x83ã\\x83â\\x83â\\x82ã\\x83â\\x82â\\x82ã\\x83â\\x83â\\x83ã\\x83â\\x82â\\x82ã\\x83â\\x83â\\x82ã\\x83â\\x82â\\x8dã\\x83â\\x83â\\x83ã\\x83â\\x82â\\x83ã\\x83â\\x83â\\x82ã\\x83â\\x82â\\x82ã\\x83â\\x83â\\x83ã\\x83â\\x82â\\x82ã\\x83â\\x83â\\x82ã\\x83â\\x82ã\\x82â¹ice cream ã\\x83â\\x83â\\x83ã\\x83â\\x82â\\x83ã\\x83â\\x83â\\x82ã\\x83â\\x82â\\x83ã\\x83â\\x83â\\x83ã\\x83â\\x82â\\x82ã\\x83â\\x83â\\x82ã\\x83â\\x82ã\\x82â°ã\\x83â\\x83â\\x83ã\\x83â\\x82â\\x83ã\\x83â\\x83â\\x82ã\\x83â\\x82â\\x82ã\\x83â\\x83â\\x83ã\\x83â\\x82â\\x82ã\\x83â\\x83â\\x82ã\\x83â\\x82â\\x9fã\\x83â\\x83â\\x83ã\\x83â\\x82â\\x83ã\\x83â\\x83â\\x82ã\\x83â\\x82â\\x82ã\\x83â\\x83â\\x83ã\\x83â\\x82â\\x82ã\\x83â\\x83â\\x82ã\\x83â\\x82â\\x8dã\\x83â\\x83â\\x83ã\\x83â\\x82â\\x83ã\\x83â\\x83â\\x82ã\\x83â\\x82â\\x82ã\\x83â\\x83â\\x83ã\\x83â\\x82â\\x82ã\\x83â\\x83â\\x82ã\\x83â\\x82ã\\x82â¨ hygienic actually matters lot best part reasonable price n everything worth place even options indoor games playã\\x83â\\x83â\\x83ã\\x83â\\x82â\\x83ã\\x83â\\x83â\\x82ã\\x83â\\x82â\\x83ã\\x83â\\x83â\\x83ã\\x83â\\x82â\\x82ã\\x83â\\x83â\\x82ã\\x83â\\x82ã\\x82â°ã\\x83â\\x83â\\x83ã\\x83â\\x82â\\x83ã\\x83â\\x83â\\x82ã\\x83â\\x82â\\x82ã\\x83â\\x83â\\x83ã\\x83â\\x82â\\x82ã\\x83â\\x83â\\x82ã\\x83â\\x82â\\x9fã\\x83â\\x83â\\x83ã\\x83â\\x82â\\x83ã\\x83â\\x83â\\x82ã\\x83â\\x82â\\x82ã\\x83â\\x83â\\x83ã\\x83â\\x82â\\x82ã\\x83â\\x83â\\x82ã\\x83â\\x82â\\x8eã\\x83â\\x83â\\x83ã\\x83â\\x82â\\x83ã\\x83â\\x83â\\x82ã\\x83â\\x82â\\x82ã\\x83â\\x83â\\x83ã\\x83â\\x82â\\x82ã\\x83â\\x83â\\x82ã\\x83â\\x82ã\\x82â²ã\\x83â\\x83â\\x83ã\\x83â\\x82â\\x83ã\\x83â\\x83â\\x82ã\\x83â\\x82â\\x83ã\\x83â\\x83â\\x83ã\\x83â\\x82â\\x82ã\\x83â\\x83â\\x82ã\\x83â\\x82ã\\x82â°ã\\x83â\\x83â\\x83ã\\x83â\\x82â\\x83ã\\x83â\\x83â\\x82ã\\x83â\\x82â\\x82ã\\x83â\\x83â\\x83ã\\x83â\\x82â\\x82ã\\x83â\\x83â\\x82ã\\x83â\\x82â\\x9fã\\x83â\\x83â\\x83ã\\x83â\\x82â\\x83ã\\x83â\\x83â\\x82ã\\x83â\\x82â\\x82ã\\x83â\\x83â\\x83ã\\x83â\\x82â\\x82ã\\x83â\\x83â\\x82ã\\x83â\\x82â\\x8eã\\x83â\\x83â\\x83ã\\x83â\\x82â\\x83ã\\x83â\\x83â\\x82ã\\x83â\\x82â\\x82ã\\x83â\\x83â\\x83ã\\x83â\\x82â\\x82ã\\x83â\\x83â\\x82ã\\x83â\\x82ã\\x82â¯ã\\x83â\\x83â\\x83ã\\x83â\\x82â\\x83ã\\x83â\\x83â\\x82ã\\x83â\\x82â\\x83ã\\x83â\\x83â\\x83ã\\x83â\\x82â\\x82ã\\x83â\\x83â\\x82ã\\x83â\\x82ã\\x82â°ã\\x83â\\x83â\\x83ã\\x83â\\x82â\\x83ã\\x83â\\x83â\\x82ã\\x83â\\x82â\\x82ã\\x83â\\x83â\\x83ã\\x83â\\x82â\\x82ã\\x83â\\x83â\\x82ã\\x83â\\x82â\\x9fã\\x83â\\x83â\\x83ã\\x83â\\x82â\\x83ã\\x83â\\x83â\\x82ã\\x83â\\x82â\\x82ã\\x83â\\x83â\\x83ã\\x83â\\x82â\\x82ã\\x83â\\x83â\\x82ã\\x83â\\x82â\\x8eã\\x83â\\x83â\\x83ã\\x83â\\x82â\\x83ã\\x83â\\x83â\\x82ã\\x83â\\x82â\\x82ã\\x83â\\x83â\\x83ã\\x83â\\x82â\\x82ã\\x83â\\x83â\\x82ã\\x83â\\x82ã\\x82â¼and great hospitality staff overall happy service..i love itã\\x83â\\x83â\\x83ã\\x83â\\x82â\\x83ã\\x83â\\x83â\\x82ã\\x83â\\x82â\\x83ã\\x83â\\x83â\\x83ã\\x83â\\x82â\\x82ã\\x83â\\x83â\\x82ã\\x83â\\x82ã\\x82â°ã\\x83â\\x83â\\x83ã\\x83â\\x82â\\x83ã\\x83â\\x83â\\x82ã\\x83â\\x82â\\x82ã\\x83â\\x83â\\x83ã\\x83â\\x82â\\x82ã\\x83â\\x83â\\x82ã\\x83â\\x82â\\x9fã\\x83â\\x83â\\x83ã\\x83â\\x82â\\x83ã\\x83â\\x83â\\x82ã\\x83â\\x82â\\x82ã\\x83â\\x83â\\x83ã\\x83â\\x82â\\x82ã\\x83â\\x83â\\x82ã\\x83â\\x82â\\x98ã\\x83â\\x83â\\x83ã\\x83â\\x82â\\x83ã\\x83â\\x83â\\x82ã\\x83â\\x82â\\x82ã\\x83â\\x83â\\x83ã\\x83â\\x82â\\x82ã\\x83â\\x83â\\x82ã\\x83â\\x82â\\x8dã\\x83â\\x83â\\x83ã\\x83â\\x82â\\x83ã\\x83â\\x83â\\x82ã\\x83â\\x82â\\x83ã\\x83â\\x83â\\x83ã\\x83â\\x82â\\x82ã\\x83â\\x83â\\x82ã\\x83â\\x82ã\\x82â°ã\\x83â\\x83â\\x83ã\\x83â\\x82â\\x83ã\\x83â\\x83â\\x82ã\\x83â\\x82â\\x82ã\\x83â\\x83â\\x83ã\\x83â\\x82â\\x82ã\\x83â\\x83â\\x82ã\\x83â\\x82â\\x9fã\\x83â\\x83â\\x83ã\\x83â\\x82â\\x83ã\\x83â\\x83â\\x82ã\\x83â\\x82â\\x82ã\\x83â\\x83â\\x83ã\\x83â\\x82â\\x82ã\\x83â\\x83â\\x82ã\\x83â\\x82â\\x91ã\\x83â\\x83â\\x83ã\\x83â\\x82â\\x83ã\\x83â\\x83â\\x82ã\\x83â\\x82â\\x82ã\\x83â\\x83â\\x83ã\\x83â\\x82â\\x82ã\\x83â\\x83â\\x82ã\\x83â\\x82â\\x8c',\n",
       " 'bad',\n",
       " 'nice',\n",
       " 'good',\n",
       " 'cosy place laze around perfect kinda food served jus spend smooth evening raining wen visited jus enjoyed watching rain n sipping eating delectes',\n",
       " \"truly guys hats efforts makeover aunty fung 's great job ambience idea game table good visit friends great fun food\",\n",
       " '45min late delivery food not hot food tasty excellent packing also nyc ..',\n",
       " 'tried buffet lunch recently started items average taste only.price 400 tax not much non veg verities chicken biryani malabar worst not cooked properly.paneer chilli good tasty need improvement panner masala pepper chicken chicken biryani no icecream available.. gulab jamun also not much tasty.over ok ok only..no parking facility available ambience good staffs polite friendly',\n",
       " \"saw place koramangala last time since wish list long time..visited weekend lunch guess reached quite early p starters blow mind..there 10 veg non-veg starters equally amazing..main course pretty normal..there live counter toooo served us customised foood items.. coming desserts like icing cake..everything delicious..could n't try ice creams since already full special appreciation goes staff great hospitality..staff polite took good care us\",\n",
       " 'love steaks search ends come hsr get types steaks would love apart get biggy buffy mouth watering burgers staffs friendly really appreciate present manager/head place anticipated wrong order placed would love visit specifically steaks',\n",
       " \"nice place good breakfast weekend overlooking ccd junction nostalgia-inducing ambiance grandpa chairs old-school switchboards place serves good dosas chutneys come even better went evening enjoyed everything place ca n't found easily though need try lunch/dinner someday quick review food 4.5/5 service 4/5 ambiance 4/5 hygiene 4/5 ease parking 3/5 haves ghee roast dosas chicken kheema dosa\",\n",
       " 'worst place peoples less efficient dont bother abt u want rather sneaking ur pocket money money money ..they want ..and go hell taste behavior ..',\n",
       " 'saturday night itã\\x83â\\x83â\\x83ã\\x83â\\x82â\\x83ã\\x83â\\x83â\\x82ã\\x83â\\x82â\\x83ã\\x83â\\x83â\\x83ã\\x83â\\x82â\\x82ã\\x83â\\x83â\\x82ã\\x83â\\x82ã\\x82â¢ã\\x83â\\x83â\\x83ã\\x83â\\x82â\\x83ã\\x83â\\x83â\\x82ã\\x83â\\x82â\\x82ã\\x83â\\x83â\\x83ã\\x83â\\x82â\\x82ã\\x83â\\x83â\\x82ã\\x83â\\x82â\\x80ã\\x83â\\x83â\\x83ã\\x83â\\x82â\\x83ã\\x83â\\x83â\\x82ã\\x83â\\x82â\\x82ã\\x83â\\x83â\\x83ã\\x83â\\x82â\\x82ã\\x83â\\x83â\\x82ã\\x83â\\x82â\\x99s quite nice place good ambiance seating arrangements quite nice neat space arrangements neat nachos fan ordered one tasted good not creamy also ordered fish kir kure quite disappointed since mint chutney poured andat bottom fish finger got merged mint dip quickly crispyness got wet..they could served mint dip separately ordered paneer anardhana garlic naan taste different sweetish pomegranate taste one whole food ok. drinks good team looking twist food sometimes spoiling authentic taste..the staffs friendly helpful..i enjoy like place hang itã\\x83â\\x83â\\x83ã\\x83â\\x82â\\x83ã\\x83â\\x83â\\x82ã\\x83â\\x82â\\x83ã\\x83â\\x83â\\x83ã\\x83â\\x82â\\x82ã\\x83â\\x83â\\x82ã\\x83â\\x82ã\\x82â¢ã\\x83â\\x83â\\x83ã\\x83â\\x82â\\x83ã\\x83â\\x83â\\x82ã\\x83â\\x82â\\x82ã\\x83â\\x83â\\x83ã\\x83â\\x82â\\x82ã\\x83â\\x83â\\x82ã\\x83â\\x82â\\x80ã\\x83â\\x83â\\x83ã\\x83â\\x82â\\x83ã\\x83â\\x83â\\x82ã\\x83â\\x82â\\x82ã\\x83â\\x83â\\x83ã\\x83â\\x82â\\x82ã\\x83â\\x83â\\x82ã\\x83â\\x82â\\x99s good experience',\n",
       " \"pizzas far better pizza joints 's steal compare likes mangii toscanis ub city toppings quite exotic although purely vegetarian place favorite pizza joint ps pizzas thin crust large enough two\",\n",
       " 'biryani spicy taste not great not order not great option',\n",
       " 'craving crunch spicy noodles noodle panda place go tried onion rings katsu chicken bao myo noodles food yumm especially onion rings amazingly crisp light noodle panda everything panda bao serving wrap cutest thing ever hats ingenuity menu loads offer heart set wasabi centre chicken wings next round already looks absolutely mouth-watering plate neighbour',\n",
       " 'original authentic restaurant would like say original flavour food great food service would highly recommend went mothering sunday everything perfect friendly staff tasty burger rolls love daily food specially sheek roll shuwarma best food number years using restaurant food always great recent update menu also pleasing number new dishes nothing ever much trouble happy cater small large groups continue customer would recommend highly family functions busniess parties best restuarant choose one delicious like heaven falls tummy lovin place welcoming charming service food better tasted since banglore',\n",
       " 'food 4.5/5 ambience -4/5 service 4.5/5 hygiene 4/5 value money 5/5 tried aglio olio good type spaghetti pasta simple yet delicious pasta try crunchy cajun burger crispy chicken patty seasoned classic louisiana style cajun spices garlic aioli banana nutella shake pretty awesome osm place hang frnds .. get nice food great ambiance .. love something different spicy visit bundle co. staff friendly also make changes dish per convenience holds good worth money sure try recommend try bundle co. not disappointed',\n",
       " 'waffle lover visited outlet friends last weekend yummiest waffles town offer two types waffles sandwich waffles bubble wrap waffles tried sin waffle queen berry waffle strawberry raspberry blueberry cream nutella dark chocolate also customize waffle chose add-ons craving waffles place definitely visit althingsbeautiful.wordpress.com',\n",
       " 'good',\n",
       " 'cost effective option good punjabi food really impressed authenticity punjabi cuisine brought taste homeland breads mentioned first north indians know struggle find good traditional roti bangalore real really loved chur chur naan missi roti ajwain parantha tawa roti amongst main course dishes would recommend veg kofta dal makhni kadhai chaap amidst starters try achari paneer tikka pepper dry mushroom tandoori chaap also order lassi jal jeera end day sweet note chawal ki kheer thehungryhoots.com',\n",
       " \"really liked whole concept idea eat street systematic guess one best saturdays friends mainly live music variety food outlets really scrumptious food except maharashtrian food outlet personally maharashtra really glad find kolhapuri food outlet eat street turned n't taste even bit like maharashtrian food wo n't trying next time food outlets really good\",\n",
       " 'food average',\n",
       " 'excellent ambience street food great variety pani poori parathas momos amazing.. outlets eat street well curated crowd also good',\n",
       " \"'s since 1975 baap rolls kebabs.their 3rd outlet not wrong 2nd one frazer town good smiling staff sheek kebab favourite juicy perfecto blend spices aroma foodily foodie n't mis chance grab roll sizes like jumbo mumbo rambo sambo roll mogambo- khush huwa hygiene transformed good excellent still pocket friendly college days management kind enough allowed take pictures 99 wo n't guys know `` person love good food taste quality fanoos destination. ``\",\n",
       " 'possible not received order asking feedback',\n",
       " 'food ambiance good furniture decor classy staff courteous service prompt steak tried steak sauce good',\n",
       " 'ambience 4/5 food 4/5 staff 3.5/5 quality 4/5 nice place adda hangout great ambience well justified name good portion tea tried ginger tea cutting chai portions good enough one also tried traditional maska bun good aloo paratha awesome clearly north indian taste eat staff courteous best part parle g biscuits served tea',\n",
       " 'well not good attempt ova here..and ambience not good dint like quality food staffs ok ok multiple stalls..and place small',\n",
       " \"place taken waffle game whole new level exotic waffles like 've never see plain waffles pretty common every makes place different unique waffle brands signature bubble waffle n't find brands 'd highly recommend anyone try bubble waffle looks big chunky eating feels smooth delicious visited place place completely packed customers really shows place waffles really popular among waffle lovers observed frequent online orders waffles shows great demand waffles excellent service staff quick delivery\",\n",
       " 'goood',\n",
       " \"saying goes- `` ca n't sad eat waffle made true belgian waffle factory famous waffles 'the sin 'bubble overload makes drool wanted try best selling waffles first one suggested staff 'the sin nutella milk chocolate n choco chip filled waffle dips different magnitude would sin visit place not try waffle hand bubble overload bubble waffle bubbling surprises choco stick roll choco balls dark chocolate nutella chocolate ice-cream digging treasure island bet one not finish alone 'death chocolate waffles excited try waffles shall update try try place let us know thoughts feedbacks cheers burpoutloudly\",\n",
       " 'orderd two prawn dish stock replaced top capsicum onion little fish/prawn',\n",
       " 'wrost service',\n",
       " \"place serves one best craft beers bangalore another perfect pub saturday night ambience good apart booze food also classy tasty 's visit place craft beer lovers\",\n",
       " 'got cockroach chicken biryani eating',\n",
       " 'good',\n",
       " 'not place vegetarians veg menu ..price slightly higher ..service good need improve quality',\n",
       " \"ordered veg fried rice 's not veg fried rice stones veg fried rice\",\n",
       " \"ordered nawabi pizza suggested special chef 's thin crust pizza not great not bad seating not available separately though seat near corner house stall present right beside no parking problem children play area available good late night place hangout\",\n",
       " 'waffle lover visited outlet friends last weekend yummiest waffles town offer two types waffles sandwich waffles bubble wrap waffles tried sin waffle queen berry waffle strawberry raspberry blueberry cream nutella dark chocolate also customize waffle chose add-ons craving waffles place definitely visit althingsbeautiful.wordpress.com',\n",
       " \"n't get order properly\",\n",
       " 'best biryani ever fish pakoras also awesome service magically quick best part place unbelievably pocket friendly food finger licking good hungryakshay.wordpress.com',\n",
       " 'letã\\x83â\\x83â\\x83ã\\x83â\\x82â\\x83ã\\x83â\\x83â\\x82ã\\x83â\\x82â\\x83ã\\x83â\\x83â\\x83ã\\x83â\\x82â\\x82ã\\x83â\\x83â\\x82ã\\x83â\\x82ã\\x82â¢ã\\x83â\\x83â\\x83ã\\x83â\\x82â\\x83ã\\x83â\\x83â\\x82ã\\x83â\\x82â\\x82ã\\x83â\\x83â\\x83ã\\x83â\\x82â\\x82ã\\x83â\\x83â\\x82ã\\x83â\\x82â\\x80ã\\x83â\\x83â\\x83ã\\x83â\\x82â\\x83ã\\x83â\\x83â\\x82ã\\x83â\\x82â\\x82ã\\x83â\\x83â\\x83ã\\x83â\\x82â\\x82ã\\x83â\\x83â\\x82ã\\x83â\\x82â\\x99s start primary factor price place easy pocket totally worth place packed rightly coz ppl drink lot nowadays price plays important role taste food incredibly good options soooo different compared normal places brings south indian superb staff busy coz manage crowd donã\\x83â\\x83â\\x83ã\\x83â\\x82â\\x83ã\\x83â\\x83â\\x82ã\\x83â\\x82â\\x83ã\\x83â\\x83â\\x83ã\\x83â\\x82â\\x82ã\\x83â\\x83â\\x82ã\\x83â\\x82ã\\x82â¢ã\\x83â\\x83â\\x83ã\\x83â\\x82â\\x83ã\\x83â\\x83â\\x82ã\\x83â\\x82â\\x82ã\\x83â\\x83â\\x83ã\\x83â\\x82â\\x82ã\\x83â\\x83â\\x82ã\\x83â\\x82â\\x80ã\\x83â\\x83â\\x83ã\\x83â\\x82â\\x83ã\\x83â\\x83â\\x82ã\\x83â\\x82â\\x82ã\\x83â\\x83â\\x83ã\\x83â\\x82â\\x82ã\\x83â\\x83â\\x82ã\\x83â\\x82â\\x99t expect ur table easily ambience normal like one clubs indiranagar catholic hsr u hear ppl talking loudly reminded school canteen keep going often especially coz new one opening koramangala ease crowd',\n",
       " 'fame grilled half chicken porto rice mushrooms boneless chicken breast everything tasty however rice choose mildly spicy terribly spicy aware restaurant like nando concept similar type accompaniments good place dinner movie definitely good chicken lovers veg choices limited food :4/5 service:4/5 ambience:3/5 overall 3.5/5',\n",
       " 'felt place hybrid fast food restaurant fine dining .the grill specially starter good 4/5 meat specially soft juicy however burger wrap would 3/5 service team well coordinated',\n",
       " 'ordered jumbo shawarma got crap nthng onions covered chappathi 100 rupee disgusting restaurant',\n",
       " 'nice please maintain thick lassi shops disappointed',\n",
       " 'since went dinner place blew mind right starters desserts everything perfect happens order many atleast one turn disappointing ever ordered wow best part price reasonable place indiranagar far red roast eggs 5/5 cauliflower roast 5/5 paneer pepper crust 5/5 potato char grill 5/5 coffee estate mushroom masala 4/5 akki rotti khamiri roti 5/5 apple pie ice cream 5/5 not missed ambience staff 5/5 definitely visit',\n",
       " \"'s nice place weekend delicious food prompt service good ambience good value money loved maa ki dua paratha wonderful place get together would like visit\",\n",
       " 'taste delicious try death bite chocolate',\n",
       " 'food worst.i ordered plain rice.but sent kerala rice round rice .food not tasty ata',\n",
       " 'food not good',\n",
       " \"yet another truffles n't like ambience since 's crowded noisy everytime go tried greek salad pasta arabiata veg burger cottage cheese burger veg burger n't good experience terms flavours pasta amazing greek salad little extra spicy lot olives not even mentioned menu please mention well mentioning ingredients beverages always orange lime fizzo good\",\n",
       " 'ordered chicken wings hot flames drink chicken mushroom sizzler spaghetti bolognese chicken wings tiny not much meat pasta okay chicken weird taste sizzler good drink delicious well',\n",
       " 'not expected ok. mutton not cooked properly delivery ltl late expecting fast delivery',\n",
       " \"located heart city 's neighborhood opp vijaya college next reliance jewels ambience refreshing well lit decorated outdoor seating also available limited service excellent one ca n't wish anything ordered achari panneer tikka pizza cottage cheese shawarma walnut brownie ice cream cupcake goat cheese sandwich german black forest pastry no complaints dishes well garnished suggestion menu would 've options also 've got good board games top place date visiting wish could rated 4.5 highly recommending people\",\n",
       " 'ok bat mutton 3 piece',\n",
       " 'food decent sizzler costliest side taste good staffs also good ambiance could better renovate',\n",
       " 'night scenes romantic ambience great food polite staff quick service lunch scenes perfect place hangout chill enjoy great food place casual date night lunch friends enjoyed times steaks a..mazing try jack danial steak thing',\n",
       " 'finger food great try german sausages non veg platter really loved salmon seating robs place another star best family tables upstairs probably reserve old corporate faithfuls would drink pitchers pitchers',\n",
       " 'ordered chicken fry got chicken leg',\n",
       " 'food quality not mark',\n",
       " 'visited group friends quite lively place ambiance great food drinks ordered good average overall nice place evening well spent',\n",
       " 'good',\n",
       " \"someone love asian cuisine try place .loved food .black bean udon yum first time trying ..ramen also good n't like momo though ..still rest food good\",\n",
       " 'nice restaurant specially theme loved metro .can better food add items menu rest everything excellent',\n",
       " 'best biryani bangalore boneless chicken biryani best meghana mouth watering yummy biryani ever try combination meghana spl 555 chicken',\n",
       " 'good',\n",
       " 'best thali',\n",
       " 'roti looks like prepared 2 days back chicken grave like butter milk',\n",
       " 'go place mood perfectly cooked steak best part restaurant zomato gold partner brownie points service reached late around 10:30 ones restaurant weekday time staff super polite patient thoroughly enjoyed meal',\n",
       " 'food spicy',\n",
       " 'good interior lot thought would gone making interior fashion small place self service pretty quick food certainly average chicken wings good version flat wheat noodle good quantity',\n",
       " 'remember place opening opposite college excitement visiting place many years back day still visit meghana biryanis taste like no travel distance boneless chicken biryani quite branches different parts city yes prices hiked quite bit decrease quantity',\n",
       " \"well .what say guess fan total waffle lover cbd watch film.and decided stop outlet try one lip smacking offerings titled crunchy munch waffle sinful combination corn flakes caramel banana cream asked disclude banana tried rest ingredients divine expected also ordered bubble wrap royale.post another one perrenial favourites loved 's creamy texture god bless belgian waffle factory providing awesome.quality affordable price\",\n",
       " 'mood mouth watering continental food visit simply amazing food tried chicken wings simply yum place zomato gold partner items tasted garlic bread chicken wings pork knight rises steak captain jack daniels chicken steak cheese penne alfredo place small ambience service good value money try place friends family visit love continental food overall rating 4/5',\n",
       " \"first day came knew would frequent visitor place portrays stands name warm hospitality waiters welcoming entrance makes feel home furniture vibrance walls makes homely place sit back relax top food damn delicious aptly cooked perceived fairly priced already giving tough time nearby restaurants turning preferred choice office foodies hewlett packard genpact stpi companies nearby try chilli pepper chicken starters amazing taste get manage tables placed balcony 's best gives street view well palm leaves front making even lively\",\n",
       " 'visited saturday friends place seems cool live music good seating arrangement colourful place.i find place quite innovative food also fine reasonable prices definitely visit place',\n",
       " \"saw place koramangala last time since wish list long time..visited weekend lunch guess reached quite early p starters blow mind..there 10 veg non-veg starters equally amazing..main course pretty normal..there live counter toooo served us customised foood items.. coming desserts like icing cake..everything delicious..could n't try ice creams since already full special appreciation goes staff great hospitality..staff polite took good care us\",\n",
       " 'like place next door serve amazing burgers amazing american burger try veg chicken also slush amazing course desserts mississippi mud pie love',\n",
       " 'love restaurant much favourite place love pastries lot especially lemon tart hopscotch cake recently stuffed fungi starters loved combination mushroom cheese friazo milano frozen hazelnut cold coffee liked latter better coz former high sugar spaghetti pasta main course satisfying eating didnã\\x83â\\x83â\\x83ã\\x83â\\x82â\\x83ã\\x83â\\x83â\\x82ã\\x83â\\x82â\\x82ã\\x83â\\x83â\\x83ã\\x83â\\x82â\\x82ã\\x83â\\x83â\\x82ã\\x83â\\x82â\\x92t space fav desserts hence skipped overall itã\\x83â\\x83â\\x83ã\\x83â\\x82â\\x83ã\\x83â\\x83â\\x82ã\\x83â\\x82â\\x82ã\\x83â\\x83â\\x83ã\\x83â\\x82â\\x82ã\\x83â\\x83â\\x82ã\\x83â\\x82â\\x92s good place lighter pocket keep dropping iã\\x83â\\x83â\\x83ã\\x83â\\x82â\\x83ã\\x83â\\x83â\\x82ã\\x83â\\x82â\\x82ã\\x83â\\x83â\\x83ã\\x83â\\x82â\\x82ã\\x83â\\x83â\\x82ã\\x83â\\x82â\\x92m happy dining',\n",
       " 'loved taste food however looked like chef hurry go home lumps ingredients garlic not peeled onions size thumb capsicum weight kilo ..and worst part ordered chicken biriyani delivered extra oil chicken fried rice',\n",
       " \"'s nice place weekend delicious food prompt service good ambience good value money loved maa ki dua paratha wonderful place get together would like visit\",\n",
       " \"one popular food joints bangalore bangalore not burgers happened last time bangalore time around made sure go try burger dessert place usually crowded really quick service went american cheese burger xl ordering xl burger place huge mistake size huge could n't get proper bite know 's not fault personal opinion say 's best burger ever 2 us could n't finish burger extremely heavy flavors bang n't love cheeseee loved cheesy patty dessert mississippi mud pie say coming back place amazing sucker good desert one one personal favorites ca n't wait visit loved food\",\n",
       " \"ordered bday cake ferrero rocher cake friend 's birthday absolutely awesome packaging great cakes good burgers everything else friend loved variety cakes pastries mind blowing chocolate lovers try one\",\n",
       " \"amazing place overall great ambience great food service usually order mac n cheese lasagna 're really good desserts also amazing\",\n",
       " 'good',\n",
       " 'visited place last weekend craving authentic punjabi food appetizer section hara bhara kebab delicious ordered sarson ka saag methi malai paneer missi roti butter naan makki ki roti sarson ka saag good however methi malai paneer filled spoonfuls sugar strange reason even checked person waiting table ordering sweet completely denied received order disappointed tasting methi malai paneer not order methi malai paneer main course dish served dessert food taste ã\\x83â\\x83â\\x83ã\\x83â\\x82â\\x83ã\\x83â\\x83â\\x82ã\\x83â\\x82â\\x83ã\\x83â\\x83â\\x83ã\\x83â\\x82â\\x82ã\\x83â\\x83â\\x82ã\\x83â\\x82ã\\x82â¢ã\\x83â\\x83â\\x83ã\\x83â\\x82â\\x83ã\\x83â\\x83â\\x82ã\\x83â\\x82â\\x82ã\\x83â\\x83â\\x83ã\\x83â\\x82â\\x82ã\\x83â\\x83â\\x82ã\\x83â\\x82â\\x80ã\\x83â\\x83â\\x83ã\\x83â\\x82â\\x83ã\\x83â\\x83â\\x82ã\\x83â\\x82â\\x82ã\\x83â\\x83â\\x83ã\\x83â\\x82â\\x82ã\\x83â\\x83â\\x82ã\\x83â\\x82â\\x93 2.5/5 value money ã\\x83â\\x83â\\x83ã\\x83â\\x82â\\x83ã\\x83â\\x83â\\x82ã\\x83â\\x82â\\x83ã\\x83â\\x83â\\x83ã\\x83â\\x82â\\x82ã\\x83â\\x83â\\x82ã\\x83â\\x82ã\\x82â¢ã\\x83â\\x83â\\x83ã\\x83â\\x82â\\x83ã\\x83â\\x83â\\x82ã\\x83â\\x82â\\x82ã\\x83â\\x83â\\x83ã\\x83â\\x82â\\x82ã\\x83â\\x83â\\x82ã\\x83â\\x82â\\x80ã\\x83â\\x83â\\x83ã\\x83â\\x82â\\x83ã\\x83â\\x83â\\x82ã\\x83â\\x82â\\x82ã\\x83â\\x83â\\x83ã\\x83â\\x82â\\x82ã\\x83â\\x83â\\x82ã\\x83â\\x82â\\x93 2.5/5 ambiance ã\\x83â\\x83â\\x83ã\\x83â\\x82â\\x83ã\\x83â\\x83â\\x82ã\\x83â\\x82â\\x83ã\\x83â\\x83â\\x83ã\\x83â\\x82â\\x82ã\\x83â\\x83â\\x82ã\\x83â\\x82ã\\x82â¢ã\\x83â\\x83â\\x83ã\\x83â\\x82â\\x83ã\\x83â\\x83â\\x82ã\\x83â\\x82â\\x82ã\\x83â\\x83â\\x83ã\\x83â\\x82â\\x82ã\\x83â\\x83â\\x82ã\\x83â\\x82â\\x80ã\\x83â\\x83â\\x83ã\\x83â\\x82â\\x83ã\\x83â\\x83â\\x82ã\\x83â\\x82â\\x82ã\\x83â\\x83â\\x83ã\\x83â\\x82â\\x82ã\\x83â\\x83â\\x82ã\\x83â\\x82â\\x93 2/5 management ã\\x83â\\x83â\\x83ã\\x83â\\x82â\\x83ã\\x83â\\x83â\\x82ã\\x83â\\x82â\\x83ã\\x83â\\x83â\\x83ã\\x83â\\x82â\\x82ã\\x83â\\x83â\\x82ã\\x83â\\x82ã\\x82â¢ã\\x83â\\x83â\\x83ã\\x83â\\x82â\\x83ã\\x83â\\x83â\\x82ã\\x83â\\x82â\\x82ã\\x83â\\x83â\\x83ã\\x83â\\x82â\\x82ã\\x83â\\x83â\\x82ã\\x83â\\x82â\\x80ã\\x83â\\x83â\\x83ã\\x83â\\x82â\\x83ã\\x83â\\x83â\\x82ã\\x83â\\x82â\\x82ã\\x83â\\x83â\\x83ã\\x83â\\x82â\\x82ã\\x83â\\x83â\\x82ã\\x83â\\x82â\\x93 2/5 ã\\x83â\\x83â\\x83ã\\x83â\\x82â\\x83ã\\x83â\\x83â\\x82ã\\x83â\\x82â\\x83ã\\x83â\\x83â\\x83ã\\x83â\\x82â\\x82ã\\x83â\\x83â\\x82ã\\x83â\\x82ã\\x82â¢ã\\x83â\\x83â\\x83ã\\x83â\\x82â\\x83ã\\x83â\\x83â\\x82ã\\x83â\\x82â\\x82ã\\x83â\\x83â\\x83ã\\x83â\\x82â\\x82ã\\x83â\\x83â\\x82ã\\x83â\\x82â\\x80ã\\x83â\\x83â\\x83ã\\x83â\\x82â\\x83ã\\x83â\\x83â\\x82ã\\x83â\\x82â\\x82ã\\x83â\\x83â\\x83ã\\x83â\\x82â\\x82ã\\x83â\\x83â\\x82ã\\x83â\\x82â\\x98visit againã\\x83â\\x83â\\x83ã\\x83â\\x82â\\x83ã\\x83â\\x83â\\x82ã\\x83â\\x82â\\x83ã\\x83â\\x83â\\x83ã\\x83â\\x82â\\x82ã\\x83â\\x83â\\x82ã\\x83â\\x82ã\\x82â¢ã\\x83â\\x83â\\x83ã\\x83â\\x82â\\x83ã\\x83â\\x83â\\x82ã\\x83â\\x82â\\x82ã\\x83â\\x83â\\x83ã\\x83â\\x82â\\x82ã\\x83â\\x83â\\x82ã\\x83â\\x82â\\x80ã\\x83â\\x83â\\x83ã\\x83â\\x82â\\x83ã\\x83â\\x83â\\x82ã\\x83â\\x82â\\x82ã\\x83â\\x83â\\x83ã\\x83â\\x82â\\x82ã\\x83â\\x83â\\x82ã\\x83â\\x82â\\x99 list ã\\x83â\\x83â\\x83ã\\x83â\\x82â\\x83ã\\x83â\\x83â\\x82ã\\x83â\\x82â\\x83ã\\x83â\\x83â\\x83ã\\x83â\\x82â\\x82ã\\x83â\\x83â\\x82ã\\x83â\\x82ã\\x82â¢ã\\x83â\\x83â\\x83ã\\x83â\\x82â\\x83ã\\x83â\\x83â\\x82ã\\x83â\\x82â\\x82ã\\x83â\\x83â\\x83ã\\x83â\\x82â\\x82ã\\x83â\\x83â\\x82ã\\x83â\\x82â\\x80ã\\x83â\\x83â\\x83ã\\x83â\\x82â\\x83ã\\x83â\\x83â\\x82ã\\x83â\\x82â\\x82ã\\x83â\\x83â\\x83ã\\x83â\\x82â\\x82ã\\x83â\\x83â\\x82ã\\x83â\\x82â\\x93 canã\\x83â\\x83â\\x83ã\\x83â\\x82â\\x83ã\\x83â\\x83â\\x82ã\\x83â\\x82â\\x83ã\\x83â\\x83â\\x83ã\\x83â\\x82â\\x82ã\\x83â\\x83â\\x82ã\\x83â\\x82ã\\x82â¢ã\\x83â\\x83â\\x83ã\\x83â\\x82â\\x83ã\\x83â\\x83â\\x82ã\\x83â\\x82â\\x82ã\\x83â\\x83â\\x83ã\\x83â\\x82â\\x82ã\\x83â\\x83â\\x82ã\\x83â\\x82â\\x80ã\\x83â\\x83â\\x83ã\\x83â\\x82â\\x83ã\\x83â\\x83â\\x82ã\\x83â\\x82â\\x82ã\\x83â\\x83â\\x83ã\\x83â\\x82â\\x82ã\\x83â\\x83â\\x82ã\\x83â\\x82â\\x99t say',\n",
       " 'much much better compared dominos pizza huts around world pizzas thin crusts great variety vegetarians home deliver whether rain sunshine',\n",
       " 'ordered egg biryani mango milkshake biryani strong try',\n",
       " 'waffle love best waffles place haf taken bubblewaffle chocolate overloaded yumm ever would love keep visiting place',\n",
       " 'taste not good.. ordered boneless chicken biryani no proper chicken not go restaurant',\n",
       " 'best..but rice quantity little less..',\n",
       " 'time polite delivery boy',\n",
       " \"located 100 feet road place easy locate housed mangalore style building ambience really pleasing place jam packed even thursday evening service n't great servers take long respond not really sure asked add chair table shift something food service really prompt coming food peanut masala chicken wings 65 royal tawa beef chilli banana leaves wrapped fish filter coffee cheesecake taste average portion sizes less peanut masala n cheesecake average rest really bad worst chicken wings 've ever presented unappetizing manner thing good place 's ambience go want grab beer chill food definitely needs lot improvement\",\n",
       " \"ordered bday cake ferrero rocher cake friend 's birthday absolutely awesome packaging great cakes good burgers everything else friend loved variety cakes pastries mind blowing chocolate lovers try one\",\n",
       " 'super quick delivery',\n",
       " 'visited newly opened place bobã\\x83â\\x83â\\x83ã\\x83â\\x82â\\x83ã\\x83â\\x83â\\x82ã\\x83â\\x82â\\x83ã\\x83â\\x83â\\x83ã\\x83â\\x82â\\x82ã\\x83â\\x83â\\x82ã\\x83â\\x82ã\\x82â¢ã\\x83â\\x83â\\x83ã\\x83â\\x82â\\x83ã\\x83â\\x83â\\x82ã\\x83â\\x82â\\x82ã\\x83â\\x83â\\x83ã\\x83â\\x82â\\x82ã\\x83â\\x83â\\x82ã\\x83â\\x82â\\x80ã\\x83â\\x83â\\x83ã\\x83â\\x82â\\x83ã\\x83â\\x83â\\x82ã\\x83â\\x82â\\x82ã\\x83â\\x83â\\x83ã\\x83â\\x82â\\x82ã\\x83â\\x83â\\x82ã\\x83â\\x82â\\x99s bar 100 feet road indiranagar great ambience super food tried stuffed keema parantha keema dosa- excellent helpful polite staff pocket friendly draw backs- get little noisy due traffic',\n",
       " \"saw place koramangala last time since wish list long time..visited weekend lunch guess reached quite early p starters blow mind..there 10 veg non-veg starters equally amazing..main course pretty normal..there live counter toooo served us customised foood items.. coming desserts like icing cake..everything delicious..could n't try ice creams since already full special appreciation goes staff great hospitality..staff polite took good care us\",\n",
       " 'rice not cooked worst food',\n",
       " \"experience ca n't expressed words varenyam one food awesome ambience could think staff expectations..you going love every part\",\n",
       " 'food not good per price',\n",
       " 'no good quality no proper packing',\n",
       " 'less quantity',\n",
       " 'hi mutton tooooo oilly no spicy also please make spicy put masala also quantity good taste not good',\n",
       " 'food delivered completely different',\n",
       " 'located near passport office best place ur meal anytime day tasty food reasonable prices else needed problem place small get room sit',\n",
       " \"pizzas far better pizza joints 's steal compare likes mangii toscanis ub city toppings quite exotic although purely vegetarian place favorite pizza joint ps pizzas thin crust large enough two\",\n",
       " 'good place chill friends weekend.also since serve amazing food went good fabulous.nice new place bangalore like needed spoilt more.the staff polite helpful.also food delish',\n",
       " 'lassi curd lover best lassi get locality price really cheap bangalore standards tastes heavenly sweet lassi mango lassi good purely curd no mixing water curd quality used good say *cheers*',\n",
       " 'newly opened bar 100ft road lovely ambience tried pork chilly panner chilly nice good taste also got open air seating arrangements friendly staff good service worth visiting',\n",
       " \"bang middle indiranagar 100ft road place delight every sense word chill ambience great food endless liquor whether 're maam macha da simply bob one place n't miss\",\n",
       " 'recent visit bangalore tried waffle corner ashok nagar glad spent money worthy place ambience pretty small staff food quality takes hit heart ordered red wonder bubble bubble overload one sin waffles really damn delicious would personally recommend try bubble waffles amazing staf friendly aswell',\n",
       " 'worst.i would give negative rating food spicy used much colour food worst packaging everything spilled couldnt eat',\n",
       " 'vvv taste',\n",
       " \"no questions asked truffles always one favourite place comes american cuisine burgers never disappointed ever no matter outlet visit got chance visit branch recently hence review coming food part devil 's chicken potato wedges starters good items main truffles signature burger american cheese chicken burger superb always full layer cheese patty apart chicken nice treat cheese lovers friends ordered tex mex burger peri peri chicken burger crispy chicken submarine equally great items desert apple pie not upto mark also choco mocha red velvet jar amazing deserts overall great outlet like branches recommend place\",\n",
       " 'one economical pubs iã\\x83â\\x83â\\x83ã\\x83â\\x82â\\x83ã\\x83â\\x83â\\x82ã\\x83â\\x82â\\x83ã\\x83â\\x83â\\x83ã\\x83â\\x82â\\x82ã\\x83â\\x83â\\x82ã\\x83â\\x82ã\\x82â¢ã\\x83â\\x83â\\x83ã\\x83â\\x82â\\x83ã\\x83â\\x83â\\x82ã\\x83â\\x82â\\x82ã\\x83â\\x83â\\x83ã\\x83â\\x82â\\x82ã\\x83â\\x83â\\x82ã\\x83â\\x82â\\x80ã\\x83â\\x83â\\x83ã\\x83â\\x82â\\x83ã\\x83â\\x83â\\x82ã\\x83â\\x82â\\x82ã\\x83â\\x83â\\x83ã\\x83â\\x82â\\x82ã\\x83â\\x83â\\x82ã\\x83â\\x82â\\x99ve bangalore ambience food taste options everything good opened quite recently thrice tried variety beef pork dishes like beef chilli malnad pork pork baffat tin factory sheek chicken dishes chicken kebab ghee roast everything tasted good even drinks amazing price..had wine whiskey didnã\\x83â\\x83â\\x83ã\\x83â\\x82â\\x83ã\\x83â\\x83â\\x82ã\\x83â\\x82â\\x83ã\\x83â\\x83â\\x83ã\\x83â\\x82â\\x82ã\\x83â\\x83â\\x82ã\\x83â\\x82ã\\x82â¢ã\\x83â\\x83â\\x83ã\\x83â\\x82â\\x83ã\\x83â\\x83â\\x82ã\\x83â\\x82â\\x82ã\\x83â\\x83â\\x83ã\\x83â\\x82â\\x82ã\\x83â\\x83â\\x82ã\\x83â\\x82â\\x80ã\\x83â\\x83â\\x83ã\\x83â\\x82â\\x83ã\\x83â\\x83â\\x82ã\\x83â\\x82â\\x82ã\\x83â\\x83â\\x83ã\\x83â\\x82â\\x82ã\\x83â\\x83â\\x82ã\\x83â\\x82â\\x99t give place 5 rating mainly donã\\x83â\\x83â\\x83ã\\x83â\\x82â\\x83ã\\x83â\\x83â\\x82ã\\x83â\\x82â\\x83ã\\x83â\\x83â\\x83ã\\x83â\\x82â\\x82ã\\x83â\\x83â\\x82ã\\x83â\\x82ã\\x82â¢ã\\x83â\\x83â\\x83ã\\x83â\\x82â\\x83ã\\x83â\\x83â\\x82ã\\x83â\\x82â\\x82ã\\x83â\\x83â\\x83ã\\x83â\\x82â\\x82ã\\x83â\\x83â\\x82ã\\x83â\\x82â\\x80ã\\x83â\\x83â\\x83ã\\x83â\\x82â\\x83ã\\x83â\\x83â\\x82ã\\x83â\\x82â\\x82ã\\x83â\\x83â\\x83ã\\x83â\\x82â\\x82ã\\x83â\\x83â\\x82ã\\x83â\\x82â\\x99t cocktails menu cocktail person',\n",
       " 'bbb perfect breakfast start day good amount options food prepared perfection ambience not high scale lunch though pulls cash pocket good starters desert lovers want value money food prefer place breakfast',\n",
       " 'visited place last night dinner party place cozy well designed really liked ambience staff courteous buffet menu 2 veg 2 non-veg starters one veg one non-veg soup starters okish main course roti rice chow mien gravy sufficient options choose main course well deserts really lacked taste service per say items not warm enough enjoy really wait items needed replenishing even quirky items photo booth new restaurant hope visit',\n",
       " \"truly guys hats efforts makeover aunty fung 's great job ambience idea game table good visit friends great fun food\",\n",
       " 'without doubt try place chicken sauce lovers located along side bannerghatta road vega city mall guys limited number food items bang hard taste main course items prepared based type sauce given time order tried two food items bang starters chick-inse nothing piece bread tons chicken cheese taste amazing grilled chicken mild sauce made right juicy ice tea bit something improved overall great experience place definitely visit try rest food items highly recommended place',\n",
       " \"'s 3.5 actually u easily find place.. serves awesome ranges mouth watering delicacies buffet menu.. starters desserts 's looooooooooooot options available want hit place go starving.. overall ambience good.. service also good.. food taste may improved cases improvement much needed terms hygiene 1. dessert cups replaced 2. found hair one dishes\",\n",
       " 'wrost less quantity world food taste also waste not recommend restaurant price 1/5 taste 0/5 quantity 0/5 overall watse',\n",
       " 'bad food.. literally bad food.. ordered 750 ml coke gave 600ml sprite.. worst butter chicken evee life',\n",
       " 'total bad experience 1. taste worst 2. size burger sandwiches even smaller cost 3. not dare placing home delivery order waste time finally say `` long not place order',\n",
       " 'pizza hut oldie goldie good pizza pasta ã\\x83â\\x83â\\x83ã\\x83â\\x82â\\x83ã\\x83â\\x83â\\x82ã\\x83â\\x82â\\x83ã\\x83â\\x83â\\x83ã\\x83â\\x82â\\x82ã\\x83â\\x83â\\x82ã\\x83â\\x82â\\x83ã\\x83â\\x83â\\x83ã\\x83â\\x82â\\x83ã\\x83â\\x83â\\x82ã\\x83â\\x82â\\x82ã\\x83â\\x83â\\x83ã\\x83â\\x82â\\x82ã\\x83â\\x83â\\x82ã\\x83â\\x82ã\\x82â¢ã\\x83â\\x83â\\x83ã\\x83â\\x82â\\x83ã\\x83â\\x83â\\x82ã\\x83â\\x82â\\x83ã\\x83â\\x83â\\x83ã\\x83â\\x82â\\x82ã\\x83â\\x83â\\x82ã\\x83â\\x82â\\x82ã\\x83â\\x83â\\x83ã\\x83â\\x82â\\x83ã\\x83â\\x83â\\x82ã\\x83â\\x82â\\x82ã\\x83â\\x83â\\x83ã\\x83â\\x82â\\x82ã\\x83â\\x83â\\x82ã\\x83â\\x82â\\x9cã\\x83â\\x83â\\x83ã\\x83â\\x82â\\x83ã\\x83â\\x83â\\x82ã\\x83â\\x82â\\x83ã\\x83â\\x83â\\x83ã\\x83â\\x82â\\x82ã\\x83â\\x83â\\x82ã\\x83â\\x82â\\x82ã\\x83â\\x83â\\x83ã\\x83â\\x82â\\x83ã\\x83â\\x83â\\x82ã\\x83â\\x82â\\x82ã\\x83â\\x83â\\x83ã\\x83â\\x82â\\x82ã\\x83â\\x83â\\x82ã\\x83â\\x82ã\\x82â¨ã\\x83â\\x83â\\x83ã\\x83â\\x82â\\x83ã\\x83â\\x83â\\x82ã\\x83â\\x82â\\x83ã\\x83â\\x83â\\x83ã\\x83â\\x82â\\x82ã\\x83â\\x83â\\x82ã\\x83â\\x82â\\x83ã\\x83â\\x83â\\x83ã\\x83â\\x82â\\x83ã\\x83â\\x83â\\x82ã\\x83â\\x82â\\x82ã\\x83â\\x83â\\x83ã\\x83â\\x82â\\x82ã\\x83â\\x83â\\x82ã\\x83â\\x82ã\\x82â°ã\\x83â\\x83â\\x83ã\\x83â\\x82â\\x83ã\\x83â\\x83â\\x82ã\\x83â\\x82â\\x83ã\\x83â\\x83â\\x83ã\\x83â\\x82â\\x82ã\\x83â\\x83â\\x82ã\\x83â\\x82â\\x82ã\\x83â\\x83â\\x83ã\\x83â\\x82â\\x83ã\\x83â\\x83â\\x82ã\\x83â\\x82â\\x82ã\\x83â\\x83â\\x83ã\\x83â\\x82â\\x82ã\\x83â\\x83â\\x82ã\\x83â\\x82â\\x9fã\\x83â\\x83â\\x83ã\\x83â\\x82â\\x83ã\\x83â\\x83â\\x82ã\\x83â\\x82â\\x83ã\\x83â\\x83â\\x83ã\\x83â\\x82â\\x82ã\\x83â\\x83â\\x82ã\\x83â\\x82â\\x82ã\\x83â\\x83â\\x83ã\\x83â\\x82â\\x83ã\\x83â\\x83â\\x82ã\\x83â\\x82â\\x82ã\\x83â\\x83â\\x83ã\\x83â\\x82â\\x82ã\\x83â\\x83â\\x82ã\\x83â\\x82ã\\x82â¤ã\\x83â\\x83â\\x83ã\\x83â\\x82â\\x83ã\\x83â\\x83â\\x82ã\\x83â\\x82â\\x83ã\\x83â\\x83â\\x83ã\\x83â\\x82â\\x82ã\\x83â\\x83â\\x82ã\\x83â\\x82â\\x82ã\\x83â\\x83â\\x83ã\\x83â\\x82â\\x83ã\\x83â\\x83â\\x82ã\\x83â\\x82â\\x82ã\\x83â\\x83â\\x83ã\\x83â\\x82â\\x82ã\\x83â\\x83â\\x82ã\\x83â\\x82â\\x97 went friends forum mall one say really loved overall experience kudos ambience friendly staff tasty food ting moment youã\\x83â\\x83â\\x83ã\\x83â\\x82â\\x83ã\\x83â\\x83â\\x82ã\\x83â\\x82â\\x83ã\\x83â\\x83â\\x83ã\\x83â\\x82â\\x82ã\\x83â\\x83â\\x82ã\\x83â\\x82â\\x83ã\\x83â\\x83â\\x83ã\\x83â\\x82â\\x83ã\\x83â\\x83â\\x82ã\\x83â\\x82â\\x82ã\\x83â\\x83â\\x83ã\\x83â\\x82â\\x82ã\\x83â\\x83â\\x82ã\\x83â\\x82ã\\x82â¢ã\\x83â\\x83â\\x83ã\\x83â\\x82â\\x83ã\\x83â\\x83â\\x82ã\\x83â\\x82â\\x83ã\\x83â\\x83â\\x83ã\\x83â\\x82â\\x82ã\\x83â\\x83â\\x82ã\\x83â\\x82â\\x82ã\\x83â\\x83â\\x83ã\\x83â\\x82â\\x83ã\\x83â\\x83â\\x82ã\\x83â\\x82â\\x82ã\\x83â\\x83â\\x83ã\\x83â\\x82â\\x82ã\\x83â\\x83â\\x82ã\\x83â\\x82â\\x80ã\\x83â\\x83â\\x83ã\\x83â\\x82â\\x83ã\\x83â\\x83â\\x82ã\\x83â\\x82â\\x83ã\\x83â\\x83â\\x83ã\\x83â\\x82â\\x82ã\\x83â\\x83â\\x82ã\\x83â\\x82â\\x82ã\\x83â\\x83â\\x83ã\\x83â\\x82â\\x83ã\\x83â\\x83â\\x82ã\\x83â\\x82â\\x82ã\\x83â\\x83â\\x83ã\\x83â\\x82â\\x82ã\\x83â\\x83â\\x82ã\\x83â\\x82â\\x99re done meal happy one keep guys ã\\x83â\\x83â\\x83ã\\x83â\\x82â\\x83ã\\x83â\\x83â\\x82ã\\x83â\\x82â\\x83ã\\x83â\\x83â\\x83ã\\x83â\\x82â\\x82ã\\x83â\\x83â\\x82ã\\x83â\\x82â\\x83ã\\x83â\\x83â\\x83ã\\x83â\\x82â\\x83ã\\x83â\\x83â\\x82ã\\x83â\\x82â\\x82ã\\x83â\\x83â\\x83ã\\x83â\\x82â\\x82ã\\x83â\\x83â\\x82ã\\x83â\\x82ã\\x82â°ã\\x83â\\x83â\\x83ã\\x83â\\x82â\\x83ã\\x83â\\x83â\\x82ã\\x83â\\x82â\\x83ã\\x83â\\x83â\\x83ã\\x83â\\x82â\\x82ã\\x83â\\x83â\\x82ã\\x83â\\x82â\\x82ã\\x83â\\x83â\\x83ã\\x83â\\x82â\\x83ã\\x83â\\x83â\\x82ã\\x83â\\x82â\\x82ã\\x83â\\x83â\\x83ã\\x83â\\x82â\\x82ã\\x83â\\x83â\\x82ã\\x83â\\x82â\\x9fã\\x83â\\x83â\\x83ã\\x83â\\x82â\\x83ã\\x83â\\x83â\\x82ã\\x83â\\x82â\\x83ã\\x83â\\x83â\\x83ã\\x83â\\x82â\\x82ã\\x83â\\x83â\\x82ã\\x83â\\x82â\\x82ã\\x83â\\x83â\\x83ã\\x83â\\x82â\\x83ã\\x83â\\x83â\\x82ã\\x83â\\x82â\\x82ã\\x83â\\x83â\\x83ã\\x83â\\x82â\\x82ã\\x83â\\x83â\\x82ã\\x83â\\x82â\\x98ã\\x83â\\x83â\\x83ã\\x83â\\x82â\\x83ã\\x83â\\x83â\\x82ã\\x83â\\x82â\\x83ã\\x83â\\x83â\\x83ã\\x83â\\x82â\\x82ã\\x83â\\x83â\\x82ã\\x83â\\x82â\\x82ã\\x83â\\x83â\\x83ã\\x83â\\x82â\\x83ã\\x83â\\x83â\\x82ã\\x83â\\x82â\\x82ã\\x83â\\x83â\\x83ã\\x83â\\x82â\\x82ã\\x83â\\x83â\\x82ã\\x83â\\x82â\\x8aã\\x83â\\x83â\\x83ã\\x83â\\x82â\\x83ã\\x83â\\x83â\\x82ã\\x83â\\x82â\\x83ã\\x83â\\x83â\\x83ã\\x83â\\x82â\\x82ã\\x83â\\x83â\\x82ã\\x83â\\x82â\\x83ã\\x83â\\x83â\\x83ã\\x83â\\x82â\\x83ã\\x83â\\x83â\\x82ã\\x83â\\x82â\\x82ã\\x83â\\x83â\\x83ã\\x83â\\x82â\\x82ã\\x83â\\x83â\\x82ã\\x83â\\x82ã\\x82â°ã\\x83â\\x83â\\x83ã\\x83â\\x82â\\x83ã\\x83â\\x83â\\x82ã\\x83â\\x82â\\x83ã\\x83â\\x83â\\x83ã\\x83â\\x82â\\x82ã\\x83â\\x83â\\x82ã\\x83â\\x82â\\x82ã\\x83â\\x83â\\x83ã\\x83â\\x82â\\x83ã\\x83â\\x83â\\x82ã\\x83â\\x82â\\x82ã\\x83â\\x83â\\x83ã\\x83â\\x82â\\x82ã\\x83â\\x83â\\x82ã\\x83â\\x82â\\x9fã\\x83â\\x83â\\x83ã\\x83â\\x82â\\x83ã\\x83â\\x83â\\x82ã\\x83â\\x82â\\x83ã\\x83â\\x83â\\x83ã\\x83â\\x82â\\x82ã\\x83â\\x83â\\x82ã\\x83â\\x82â\\x82ã\\x83â\\x83â\\x83ã\\x83â\\x82â\\x83ã\\x83â\\x83â\\x82ã\\x83â\\x82â\\x82ã\\x83â\\x83â\\x83ã\\x83â\\x82â\\x82ã\\x83â\\x83â\\x82ã\\x83â\\x82â\\x91ã\\x83â\\x83â\\x83ã\\x83â\\x82â\\x83ã\\x83â\\x83â\\x82ã\\x83â\\x82â\\x83ã\\x83â\\x83â\\x83ã\\x83â\\x82â\\x82ã\\x83â\\x83â\\x82ã\\x83â\\x82â\\x82ã\\x83â\\x83â\\x83ã\\x83â\\x82â\\x83ã\\x83â\\x83â\\x82ã\\x83â\\x82â\\x82ã\\x83â\\x83â\\x83ã\\x83â\\x82â\\x82ã\\x83â\\x83â\\x82ã\\x83â\\x82ã\\x82â¼ã\\x83â\\x83â\\x83ã\\x83â\\x82â\\x83ã\\x83â\\x83â\\x82ã\\x83â\\x82â\\x83ã\\x83â\\x83â\\x83ã\\x83â\\x82â\\x82ã\\x83â\\x83â\\x82ã\\x83â\\x82â\\x83ã\\x83â\\x83â\\x83ã\\x83â\\x82â\\x83ã\\x83â\\x83â\\x82ã\\x83â\\x82â\\x82ã\\x83â\\x83â\\x83ã\\x83â\\x82â\\x82ã\\x83â\\x83â\\x82ã\\x83â\\x82ã\\x82â°ã\\x83â\\x83â\\x83ã\\x83â\\x82â\\x83ã\\x83â\\x83â\\x82ã\\x83â\\x82â\\x83ã\\x83â\\x83â\\x83ã\\x83â\\x82â\\x82ã\\x83â\\x83â\\x82ã\\x83â\\x82â\\x82ã\\x83â\\x83â\\x83ã\\x83â\\x82â\\x83ã\\x83â\\x83â\\x82ã\\x83â\\x82â\\x82ã\\x83â\\x83â\\x83ã\\x83â\\x82â\\x82ã\\x83â\\x83â\\x82ã\\x83â\\x82â\\x9fã\\x83â\\x83â\\x83ã\\x83â\\x82â\\x83ã\\x83â\\x83â\\x82ã\\x83â\\x82â\\x83ã\\x83â\\x83â\\x83ã\\x83â\\x82â\\x82ã\\x83â\\x83â\\x82ã\\x83â\\x82â\\x82ã\\x83â\\x83â\\x83ã\\x83â\\x82â\\x83ã\\x83â\\x83â\\x82ã\\x83â\\x82â\\x82ã\\x83â\\x83â\\x83ã\\x83â\\x82â\\x82ã\\x83â\\x83â\\x82ã\\x83â\\x82â\\x8fã\\x83â\\x83â\\x83ã\\x83â\\x82â\\x83ã\\x83â\\x83â\\x82ã\\x83â\\x82â\\x83ã\\x83â\\x83â\\x83ã\\x83â\\x82â\\x82ã\\x83â\\x83â\\x82ã\\x83â\\x82â\\x82ã\\x83â\\x83â\\x83ã\\x83â\\x82â\\x83ã\\x83â\\x83â\\x82ã\\x83â\\x82â\\x82ã\\x83â\\x83â\\x83ã\\x83â\\x82â\\x82ã\\x83â\\x83â\\x82ã\\x83â\\x82ã\\x82â » ã\\x83â\\x83â\\x83ã\\x83â\\x82â\\x83ã\\x83â\\x83â\\x82ã\\x83â\\x82â\\x83ã\\x83â\\x83â\\x83ã\\x83â\\x82â\\x82ã\\x83â\\x83â\\x82ã\\x83â\\x82â\\x83ã\\x83â\\x83â\\x83ã\\x83â\\x82â\\x83ã\\x83â\\x83â\\x82ã\\x83â\\x82â\\x82ã\\x83â\\x83â\\x83ã\\x83â\\x82â\\x82ã\\x83â\\x83â\\x82ã\\x83â\\x82ã\\x82â°ã\\x83â\\x83â\\x83ã\\x83â\\x82â\\x83ã\\x83â\\x83â\\x82ã\\x83â\\x82â\\x83ã\\x83â\\x83â\\x83ã\\x83â\\x82â\\x82ã\\x83â\\x83â\\x82ã\\x83â\\x82â\\x82ã\\x83â\\x83â\\x83ã\\x83â\\x82â\\x83ã\\x83â\\x83â\\x82ã\\x83â\\x82â\\x82ã\\x83â\\x83â\\x83ã\\x83â\\x82â\\x82ã\\x83â\\x83â\\x82ã\\x83â\\x82â\\x9fã\\x83â\\x83â\\x83ã\\x83â\\x82â\\x83ã\\x83â\\x83â\\x82ã\\x83â\\x82â\\x83ã\\x83â\\x83â\\x83ã\\x83â\\x82â\\x82ã\\x83â\\x83â\\x82ã\\x83â\\x82â\\x82ã\\x83â\\x83â\\x83ã\\x83â\\x82â\\x83ã\\x83â\\x83â\\x82ã\\x83â\\x82â\\x82ã\\x83â\\x83â\\x83ã\\x83â\\x82â\\x82ã\\x83â\\x83â\\x82ã\\x83â\\x82â\\x91ã\\x83â\\x83â\\x83ã\\x83â\\x82â\\x83ã\\x83â\\x83â\\x82ã\\x83â\\x82â\\x83ã\\x83â\\x83â\\x83ã\\x83â\\x82â\\x82ã\\x83â\\x83â\\x82ã\\x83â\\x82â\\x82ã\\x83â\\x83â\\x83ã\\x83â\\x82â\\x83ã\\x83â\\x83â\\x82ã\\x83â\\x82â\\x82ã\\x83â\\x83â\\x83ã\\x83â\\x82â\\x82ã\\x83â\\x83â\\x82ã\\x83â\\x82â\\x8fã\\x83â\\x83â\\x83ã\\x83â\\x82â\\x83ã\\x83â\\x83â\\x82ã\\x83â\\x82â\\x83ã\\x83â\\x83â\\x83ã\\x83â\\x82â\\x82ã\\x83â\\x83â\\x82ã\\x83â\\x82â\\x83ã\\x83â\\x83â\\x83ã\\x83â\\x82â\\x83ã\\x83â\\x83â\\x82ã\\x83â\\x82â\\x82ã\\x83â\\x83â\\x83ã\\x83â\\x82â\\x82ã\\x83â\\x83â\\x82ã\\x83â\\x82ã\\x82â°ã\\x83â\\x83â\\x83ã\\x83â\\x82â\\x83ã\\x83â\\x83â\\x82ã\\x83â\\x82â\\x83ã\\x83â\\x83â\\x83ã\\x83â\\x82â\\x82ã\\x83â\\x83â\\x82ã\\x83â\\x82â\\x82ã\\x83â\\x83â\\x83ã\\x83â\\x82â\\x83ã\\x83â\\x83â\\x82ã\\x83â\\x82â\\x82ã\\x83â\\x83â\\x83ã\\x83â\\x82â\\x82ã\\x83â\\x83â\\x82ã\\x83â\\x82â\\x9fã\\x83â\\x83â\\x83ã\\x83â\\x82â\\x83ã\\x83â\\x83â\\x82ã\\x83â\\x82â\\x83ã\\x83â\\x83â\\x83ã\\x83â\\x82â\\x82ã\\x83â\\x83â\\x82ã\\x83â\\x82â\\x82ã\\x83â\\x83â\\x83ã\\x83â\\x82â\\x83ã\\x83â\\x83â\\x82ã\\x83â\\x82â\\x82ã\\x83â\\x83â\\x83ã\\x83â\\x82â\\x82ã\\x83â\\x83â\\x82ã\\x83â\\x82â\\x8fã\\x83â\\x83â\\x83ã\\x83â\\x82â\\x83ã\\x83â\\x83â\\x82ã\\x83â\\x82â\\x83ã\\x83â\\x83â\\x83ã\\x83â\\x82â\\x82ã\\x83â\\x83â\\x82ã\\x83â\\x82â\\x82ã\\x83â\\x83â\\x83ã\\x83â\\x82â\\x83ã\\x83â\\x83â\\x82ã\\x83â\\x82â\\x82ã\\x83â\\x83â\\x83ã\\x83â\\x82â\\x82ã\\x83â\\x83â\\x82ã\\x83â\\x82ã\\x82â »',\n",
       " \"place ia ultimate steak lovers chicken pork steaks scrumptious succulent tried honey mustard based steakcious 's steak two dishes tasty mocktails also quite good nice place awesome dine-out family friend\",\n",
       " \"waffles really really good tried midnight dream waffle chocolate overload waffle looked great tasted even better 's small place tends get crowded far price goes 's not cheapest likely little higher side however add ons like fresh strawberries pretty expensive service pretty quick\",\n",
       " 'per menu dal not served ordered got rasam waste',\n",
       " 'go place food food hospitality place ensures all.their punjabi food tasty authentic specially starters amazing',\n",
       " 'keep visiting place itã\\x83â\\x83â\\x83ã\\x83â\\x82â\\x83ã\\x83â\\x83â\\x82ã\\x83â\\x82â\\x82ã\\x83â\\x83â\\x83ã\\x83â\\x82â\\x82ã\\x83â\\x83â\\x82ã\\x83â\\x82â\\x92s one best place buffet staff much courteous service way good highly recommended place lunch dinner',\n",
       " \"ã\\x83â\\x83â\\x83ã\\x83â\\x82â\\x83ã\\x83â\\x83â\\x82ã\\x83â\\x82â\\x83ã\\x83â\\x83â\\x83ã\\x83â\\x82â\\x82ã\\x83â\\x83â\\x82ã\\x83â\\x82ã\\x82â¢ã\\x83â\\x83â\\x83ã\\x83â\\x82â\\x83ã\\x83â\\x83â\\x82ã\\x83â\\x82â\\x82ã\\x83â\\x83â\\x83ã\\x83â\\x82â\\x82ã\\x83â\\x83â\\x82ã\\x83â\\x82â\\x80ã\\x83â\\x83â\\x83ã\\x83â\\x82â\\x83ã\\x83â\\x83â\\x82ã\\x83â\\x82â\\x82ã\\x83â\\x83â\\x83ã\\x83â\\x82â\\x82ã\\x83â\\x83â\\x82ã\\x83â\\x82ã\\x82â¢the ambience really nice place well decorated gives good vibe really love open spaces perfect sitting nice time would suggest going night cause 's windy sometimes yet peaceful ã\\x83â\\x83â\\x83ã\\x83â\\x82â\\x83ã\\x83â\\x83â\\x82ã\\x83â\\x82â\\x83ã\\x83â\\x83â\\x83ã\\x83â\\x82â\\x82ã\\x83â\\x83â\\x82ã\\x83â\\x82ã\\x82â¢ã\\x83â\\x83â\\x83ã\\x83â\\x82â\\x83ã\\x83â\\x83â\\x82ã\\x83â\\x82â\\x82ã\\x83â\\x83â\\x83ã\\x83â\\x82â\\x82ã\\x83â\\x83â\\x82ã\\x83â\\x82â\\x80ã\\x83â\\x83â\\x83ã\\x83â\\x82â\\x83ã\\x83â\\x83â\\x82ã\\x83â\\x82â\\x82ã\\x83â\\x83â\\x83ã\\x83â\\x82â\\x82ã\\x83â\\x83â\\x82ã\\x83â\\x82ã\\x82â¢the service quick staff really nice polite ã\\x83â\\x83â\\x83ã\\x83â\\x82â\\x83ã\\x83â\\x83â\\x82ã\\x83â\\x82â\\x83ã\\x83â\\x83â\\x83ã\\x83â\\x82â\\x82ã\\x83â\\x83â\\x82ã\\x83â\\x82ã\\x82â¢ã\\x83â\\x83â\\x83ã\\x83â\\x82â\\x83ã\\x83â\\x83â\\x82ã\\x83â\\x82â\\x82ã\\x83â\\x83â\\x83ã\\x83â\\x82â\\x82ã\\x83â\\x83â\\x82ã\\x83â\\x82â\\x80ã\\x83â\\x83â\\x83ã\\x83â\\x82â\\x83ã\\x83â\\x83â\\x82ã\\x83â\\x82â\\x82ã\\x83â\\x83â\\x83ã\\x83â\\x82â\\x82ã\\x83â\\x83â\\x82ã\\x83â\\x82ã\\x82â¢the food absolutely tasty variety options choose try craft beer since 's speciality presentation food good well compliments chef crew ã\\x83â\\x83â\\x83ã\\x83â\\x82â\\x83ã\\x83â\\x83â\\x82ã\\x83â\\x82â\\x83ã\\x83â\\x83â\\x83ã\\x83â\\x82â\\x82ã\\x83â\\x83â\\x82ã\\x83â\\x82ã\\x82â¢ã\\x83â\\x83â\\x83ã\\x83â\\x82â\\x83ã\\x83â\\x83â\\x82ã\\x83â\\x82â\\x82ã\\x83â\\x83â\\x83ã\\x83â\\x82â\\x82ã\\x83â\\x83â\\x82ã\\x83â\\x82â\\x80ã\\x83â\\x83â\\x83ã\\x83â\\x82â\\x83ã\\x83â\\x83â\\x82ã\\x83â\\x82â\\x82ã\\x83â\\x83â\\x83ã\\x83â\\x82â\\x82ã\\x83â\\x83â\\x82ã\\x83â\\x82ã\\x82â¢i would definitely visit place grab cold beer tasty food also would recommend friends family well\",\n",
       " 'items missing order worst delivery service',\n",
       " 'food quantity good please dont make spicey',\n",
       " 'letã\\x83â\\x83â\\x83ã\\x83â\\x82â\\x83ã\\x83â\\x83â\\x82ã\\x83â\\x82â\\x83ã\\x83â\\x83â\\x83ã\\x83â\\x82â\\x82ã\\x83â\\x83â\\x82ã\\x83â\\x82ã\\x82â¢ã\\x83â\\x83â\\x83ã\\x83â\\x82â\\x83ã\\x83â\\x83â\\x82ã\\x83â\\x82â\\x82ã\\x83â\\x83â\\x83ã\\x83â\\x82â\\x82ã\\x83â\\x83â\\x82ã\\x83â\\x82â\\x80ã\\x83â\\x83â\\x83ã\\x83â\\x82â\\x83ã\\x83â\\x83â\\x82ã\\x83â\\x82â\\x82ã\\x83â\\x83â\\x83ã\\x83â\\x82â\\x82ã\\x83â\\x83â\\x82ã\\x83â\\x82â\\x99s walk feel place many visits many places places calling burger joints wholesome experience perfect lounge area food great add hospitality ball park chefã\\x83â\\x83â\\x83ã\\x83â\\x82â\\x83ã\\x83â\\x83â\\x82ã\\x83â\\x82â\\x83ã\\x83â\\x83â\\x83ã\\x83â\\x82â\\x82ã\\x83â\\x83â\\x82ã\\x83â\\x82ã\\x82â¢ã\\x83â\\x83â\\x83ã\\x83â\\x82â\\x83ã\\x83â\\x83â\\x82ã\\x83â\\x82â\\x82ã\\x83â\\x83â\\x83ã\\x83â\\x82â\\x82ã\\x83â\\x83â\\x82ã\\x83â\\x82â\\x80ã\\x83â\\x83â\\x83ã\\x83â\\x82â\\x83ã\\x83â\\x83â\\x82ã\\x83â\\x82â\\x82ã\\x83â\\x83â\\x83ã\\x83â\\x82â\\x82ã\\x83â\\x83â\\x82ã\\x83â\\x82â\\x99s work commendable great time thatã\\x83â\\x83â\\x83ã\\x83â\\x82â\\x83ã\\x83â\\x83â\\x82ã\\x83â\\x82â\\x83ã\\x83â\\x83â\\x83ã\\x83â\\x82â\\x82ã\\x83â\\x83â\\x82ã\\x83â\\x82ã\\x82â¢ã\\x83â\\x83â\\x83ã\\x83â\\x82â\\x83ã\\x83â\\x83â\\x82ã\\x83â\\x82â\\x82ã\\x83â\\x83â\\x83ã\\x83â\\x82â\\x82ã\\x83â\\x83â\\x82ã\\x83â\\x82â\\x80ã\\x83â\\x83â\\x83ã\\x83â\\x82â\\x83ã\\x83â\\x83â\\x82ã\\x83â\\x82â\\x82ã\\x83â\\x83â\\x83ã\\x83â\\x82â\\x82ã\\x83â\\x83â\\x82ã\\x83â\\x82â\\x99s counts',\n",
       " 'thereã\\x83â\\x83â\\x83ã\\x83â\\x82â\\x83ã\\x83â\\x83â\\x82ã\\x83â\\x82â\\x83ã\\x83â\\x83â\\x83ã\\x83â\\x82â\\x82ã\\x83â\\x83â\\x82ã\\x83â\\x82ã\\x82â¢ã\\x83â\\x83â\\x83ã\\x83â\\x82â\\x83ã\\x83â\\x83â\\x82ã\\x83â\\x82â\\x82ã\\x83â\\x83â\\x83ã\\x83â\\x82â\\x82ã\\x83â\\x83â\\x82ã\\x83â\\x82â\\x80ã\\x83â\\x83â\\x83ã\\x83â\\x82â\\x83ã\\x83â\\x83â\\x82ã\\x83â\\x82â\\x82ã\\x83â\\x83â\\x83ã\\x83â\\x82â\\x82ã\\x83â\\x83â\\x82ã\\x83â\\x82â\\x99s weird kinda smell prawn momo iã\\x83â\\x83â\\x83ã\\x83â\\x82â\\x83ã\\x83â\\x83â\\x82ã\\x83â\\x82â\\x83ã\\x83â\\x83â\\x83ã\\x83â\\x82â\\x82ã\\x83â\\x83â\\x82ã\\x83â\\x82ã\\x82â¢ã\\x83â\\x83â\\x83ã\\x83â\\x82â\\x83ã\\x83â\\x83â\\x82ã\\x83â\\x82â\\x82ã\\x83â\\x83â\\x83ã\\x83â\\x82â\\x82ã\\x83â\\x83â\\x82ã\\x83â\\x82â\\x80ã\\x83â\\x83â\\x83ã\\x83â\\x82â\\x83ã\\x83â\\x83â\\x82ã\\x83â\\x82â\\x82ã\\x83â\\x83â\\x83ã\\x83â\\x82â\\x82ã\\x83â\\x83â\\x82ã\\x83â\\x82â\\x99d suggest order regular chicken momo want eat momo.noodles good service okay ambience also good overall iã\\x83â\\x83â\\x83ã\\x83â\\x82â\\x83ã\\x83â\\x83â\\x82ã\\x83â\\x82â\\x83ã\\x83â\\x83â\\x83ã\\x83â\\x82â\\x82ã\\x83â\\x83â\\x82ã\\x83â\\x82ã\\x82â¢ã\\x83â\\x83â\\x83ã\\x83â\\x82â\\x83ã\\x83â\\x83â\\x82ã\\x83â\\x82â\\x82ã\\x83â\\x83â\\x83ã\\x83â\\x82â\\x82ã\\x83â\\x83â\\x82ã\\x83â\\x82â\\x80ã\\x83â\\x83â\\x83ã\\x83â\\x82â\\x83ã\\x83â\\x83â\\x82ã\\x83â\\x82â\\x82ã\\x83â\\x83â\\x83ã\\x83â\\x82â\\x82ã\\x83â\\x83â\\x82ã\\x83â\\x82â\\x99d rate 7/10',\n",
       " \"ordered mutton biryani got biryani no mutton piece raita sides ppl ripped us 160/- rice crooks pls n't ordered place\",\n",
       " 'nice dilvery',\n",
       " \"husband introduced place `` weekend cheat meal know tried pulled pork burger death bacon burger filling omg bursting flavors ordered freak shake unfortunately took half hour get table warning next time would nice guys ambience cute complete murals adorable doggo walking around food 5/5 ambience 4/5 service 4/5 's worth weekend cheat meal\",\n",
       " \"love pandas went small place busiest road kormangala place n't anything fancy love pandas like coz decor owners friendly n suggested couple things tried bubble shake super yum momo 's noodle bowls convenient n nice also cookie shaped panda n't tasty cute service quick also 's self service overall fun place decent food lovely decor\",\n",
       " 'not good',\n",
       " 'good',\n",
       " '',\n",
       " 'rolls burnt throw away',\n",
       " 'quaint cosy little place right middle offices serving yummy south indian food.the atmosphere homely food delicious.i would go back homely south indian meals',\n",
       " 'place close work place many times already first visits noticed service sloppy service improved lot try food items chicken wings chicken momos everything else menu yummy totally recommend restaurant infornicle.com',\n",
       " 'itã\\x83â\\x83â\\x83ã\\x83â\\x82â\\x83ã\\x83â\\x83â\\x82ã\\x83â\\x82â\\x83ã\\x83â\\x83â\\x83ã\\x83â\\x82â\\x82ã\\x83â\\x83â\\x82ã\\x83â\\x82ã\\x82â¢ã\\x83â\\x83â\\x83ã\\x83â\\x82â\\x83ã\\x83â\\x83â\\x82ã\\x83â\\x82â\\x82ã\\x83â\\x83â\\x83ã\\x83â\\x82â\\x82ã\\x83â\\x83â\\x82ã\\x83â\\x82â\\x80ã\\x83â\\x83â\\x83ã\\x83â\\x82â\\x83ã\\x83â\\x83â\\x82ã\\x83â\\x82â\\x82ã\\x83â\\x83â\\x83ã\\x83â\\x82â\\x82ã\\x83â\\x83â\\x82ã\\x83â\\x82â\\x99s prices long bob keeps prices way theyã\\x83â\\x83â\\x83ã\\x83â\\x82â\\x83ã\\x83â\\x83â\\x82ã\\x83â\\x82â\\x83ã\\x83â\\x83â\\x83ã\\x83â\\x82â\\x82ã\\x83â\\x83â\\x82ã\\x83â\\x82ã\\x82â¢ã\\x83â\\x83â\\x83ã\\x83â\\x82â\\x83ã\\x83â\\x83â\\x82ã\\x83â\\x82â\\x82ã\\x83â\\x83â\\x83ã\\x83â\\x82â\\x82ã\\x83â\\x83â\\x82ã\\x83â\\x82â\\x80ã\\x83â\\x83â\\x83ã\\x83â\\x82â\\x83ã\\x83â\\x83â\\x82ã\\x83â\\x82â\\x82ã\\x83â\\x83â\\x83ã\\x83â\\x82â\\x82ã\\x83â\\x83â\\x82ã\\x83â\\x82â\\x99re going outfox every trading bar tropical paradise overpriced bangalore microbrewery thrown us every corner bobã\\x83â\\x83â\\x83ã\\x83â\\x82â\\x83ã\\x83â\\x83â\\x82ã\\x83â\\x82â\\x83ã\\x83â\\x83â\\x83ã\\x83â\\x82â\\x82ã\\x83â\\x83â\\x82ã\\x83â\\x82ã\\x82â¢ã\\x83â\\x83â\\x83ã\\x83â\\x82â\\x83ã\\x83â\\x83â\\x82ã\\x83â\\x82â\\x82ã\\x83â\\x83â\\x83ã\\x83â\\x82â\\x82ã\\x83â\\x83â\\x82ã\\x83â\\x82â\\x80ã\\x83â\\x83â\\x83ã\\x83â\\x82â\\x83ã\\x83â\\x83â\\x82ã\\x83â\\x82â\\x82ã\\x83â\\x83â\\x83ã\\x83â\\x82â\\x82ã\\x83â\\x83â\\x82ã\\x83â\\x82â\\x99s sudden success testament long weã\\x83â\\x83â\\x83ã\\x83â\\x82â\\x83ã\\x83â\\x83â\\x82ã\\x83â\\x82â\\x83ã\\x83â\\x83â\\x83ã\\x83â\\x82â\\x82ã\\x83â\\x83â\\x82ã\\x83â\\x82ã\\x82â¢ã\\x83â\\x83â\\x83ã\\x83â\\x82â\\x83ã\\x83â\\x83â\\x82ã\\x83â\\x82â\\x82ã\\x83â\\x83â\\x83ã\\x83â\\x82â\\x82ã\\x83â\\x83â\\x82ã\\x83â\\x82â\\x80ã\\x83â\\x83â\\x83ã\\x83â\\x82â\\x83ã\\x83â\\x83â\\x82ã\\x83â\\x82â\\x82ã\\x83â\\x83â\\x83ã\\x83â\\x82â\\x82ã\\x83â\\x83â\\x82ã\\x83â\\x82â\\x99ve grown comfortable exploited near extortionate prices area long served side hipster decor pretense food- pork malnad beef sheekh chicken ghee roast good bets donne biriyani spice alert coffee cheesecake basically canã\\x83â\\x83â\\x83ã\\x83â\\x82â\\x83ã\\x83â\\x83â\\x82ã\\x83â\\x82â\\x83ã\\x83â\\x83â\\x83ã\\x83â\\x82â\\x82ã\\x83â\\x83â\\x82ã\\x83â\\x82ã\\x82â¢ã\\x83â\\x83â\\x83ã\\x83â\\x82â\\x83ã\\x83â\\x83â\\x82ã\\x83â\\x82â\\x82ã\\x83â\\x83â\\x83ã\\x83â\\x82â\\x82ã\\x83â\\x83â\\x82ã\\x83â\\x82â\\x80ã\\x83â\\x83â\\x83ã\\x83â\\x82â\\x83ã\\x83â\\x83â\\x82ã\\x83â\\x82â\\x82ã\\x83â\\x83â\\x83ã\\x83â\\x82â\\x82ã\\x83â\\x83â\\x82ã\\x83â\\x82â\\x99t go wrong pork beef dishes know crowd importantly- get martini shot ã\\x83â\\x83â\\x83ã\\x83â\\x82â\\x83ã\\x83â\\x83â\\x82ã\\x83â\\x82â\\x83ã\\x83â\\x83â\\x83ã\\x83â\\x82â\\x82ã\\x83â\\x83â\\x82ã\\x83â\\x82ã\\x82â¢ã\\x83â\\x83â\\x83ã\\x83â\\x82â\\x83ã\\x83â\\x83â\\x82ã\\x83â\\x82â\\x82ã\\x83â\\x83â\\x83ã\\x83â\\x82â\\x82ã\\x83â\\x83â\\x82ã\\x83â\\x82â\\x82ã\\x83â\\x83â\\x83ã\\x83â\\x82â\\x83ã\\x83â\\x83â\\x82ã\\x83â\\x82â\\x82ã\\x83â\\x83â\\x83ã\\x83â\\x82â\\x82ã\\x83â\\x83â\\x82ã\\x83â\\x82ã\\x82â¹100 tequila ã\\x83â\\x83â\\x83ã\\x83â\\x82â\\x83ã\\x83â\\x83â\\x82ã\\x83â\\x82â\\x83ã\\x83â\\x83â\\x83ã\\x83â\\x82â\\x82ã\\x83â\\x83â\\x82ã\\x83â\\x82ã\\x82â¢ã\\x83â\\x83â\\x83ã\\x83â\\x82â\\x83ã\\x83â\\x83â\\x82ã\\x83â\\x82â\\x82ã\\x83â\\x83â\\x83ã\\x83â\\x82â\\x82ã\\x83â\\x83â\\x82ã\\x83â\\x82â\\x82ã\\x83â\\x83â\\x83ã\\x83â\\x82â\\x83ã\\x83â\\x83â\\x82ã\\x83â\\x82â\\x82ã\\x83â\\x83â\\x83ã\\x83â\\x82â\\x82ã\\x83â\\x83â\\x82ã\\x83â\\x82ã\\x82â¹120 cool ã\\x83â\\x83â\\x83ã\\x83â\\x82â\\x83ã\\x83â\\x83â\\x82ã\\x83â\\x82â\\x83ã\\x83â\\x83â\\x83ã\\x83â\\x82â\\x82ã\\x83â\\x83â\\x82ã\\x83â\\x82ã\\x82â¢ã\\x83â\\x83â\\x83ã\\x83â\\x82â\\x83ã\\x83â\\x83â\\x82ã\\x83â\\x82â\\x82ã\\x83â\\x83â\\x83ã\\x83â\\x82â\\x82ã\\x83â\\x83â\\x82ã\\x83â\\x82â\\x82ã\\x83â\\x83â\\x83ã\\x83â\\x82â\\x83ã\\x83â\\x83â\\x82ã\\x83â\\x82â\\x82ã\\x83â\\x83â\\x83ã\\x83â\\x82â\\x82ã\\x83â\\x83â\\x82ã\\x83â\\x82ã\\x82â¹525 bud pitcher itã\\x83â\\x83â\\x83ã\\x83â\\x82â\\x83ã\\x83â\\x83â\\x82ã\\x83â\\x82â\\x83ã\\x83â\\x83â\\x83ã\\x83â\\x82â\\x82ã\\x83â\\x83â\\x82ã\\x83â\\x82ã\\x82â¢ã\\x83â\\x83â\\x83ã\\x83â\\x82â\\x83ã\\x83â\\x83â\\x82ã\\x83â\\x82â\\x82ã\\x83â\\x83â\\x83ã\\x83â\\x82â\\x82ã\\x83â\\x83â\\x82ã\\x83â\\x82â\\x80ã\\x83â\\x83â\\x83ã\\x83â\\x82â\\x83ã\\x83â\\x83â\\x82ã\\x83â\\x82â\\x82ã\\x83â\\x83â\\x83ã\\x83â\\x82â\\x82ã\\x83â\\x83â\\x82ã\\x83â\\x82â\\x99s hard beat prices short mrp bobã\\x83â\\x83â\\x83ã\\x83â\\x82â\\x83ã\\x83â\\x83â\\x82ã\\x83â\\x82â\\x83ã\\x83â\\x83â\\x83ã\\x83â\\x82â\\x82ã\\x83â\\x83â\\x82ã\\x83â\\x82ã\\x82â¢ã\\x83â\\x83â\\x83ã\\x83â\\x82â\\x83ã\\x83â\\x83â\\x82ã\\x83â\\x82â\\x82ã\\x83â\\x83â\\x83ã\\x83â\\x82â\\x82ã\\x83â\\x83â\\x82ã\\x83â\\x82â\\x80ã\\x83â\\x83â\\x83ã\\x83â\\x82â\\x83ã\\x83â\\x83â\\x82ã\\x83â\\x82â\\x82ã\\x83â\\x83â\\x83ã\\x83â\\x82â\\x82ã\\x83â\\x83â\\x82ã\\x83â\\x82â\\x99s donã\\x83â\\x83â\\x83ã\\x83â\\x82â\\x83ã\\x83â\\x83â\\x82ã\\x83â\\x82â\\x83ã\\x83â\\x83â\\x83ã\\x83â\\x82â\\x82ã\\x83â\\x83â\\x82ã\\x83â\\x82ã\\x82â¢ã\\x83â\\x83â\\x83ã\\x83â\\x82â\\x83ã\\x83â\\x83â\\x82ã\\x83â\\x82â\\x82ã\\x83â\\x83â\\x83ã\\x83â\\x82â\\x82ã\\x83â\\x83â\\x82ã\\x83â\\x82â\\x80ã\\x83â\\x83â\\x83ã\\x83â\\x82â\\x83ã\\x83â\\x83â\\x82ã\\x83â\\x82â\\x82ã\\x83â\\x83â\\x83ã\\x83â\\x82â\\x82ã\\x83â\\x83â\\x82ã\\x83â\\x82â\\x99t change us mere mortals living terror day decide hike prices',\n",
       " 'worst food quality never order food restaurant zomato also failed assist',\n",
       " \"'s 3.5 actually u easily find place.. serves awesome ranges mouth watering delicacies buffet menu.. starters desserts 's looooooooooooot options available want hit place go starving.. overall ambience good.. service also good.. food taste may improved cases improvement much needed terms hygiene 1. dessert cups replaced 2. found hair one dishes\",\n",
       " 'new outlet locality koramangala honey dew melon cucumber drink cooling watermelon basil drink refreshing spicy dan dan noodles chicken prawns slurpy noodles chunks meat ur choice udan noodle box non veg burrp filling service- good ambience good food taste good food quantity/quality sufficient one come back yes',\n",
       " 'good',\n",
       " 'always no power restaurant whenever visited saying no power need wait 1 hr please try avoid reasons food good',\n",
       " 'amazing chocolate cake love packing',\n",
       " 'always no power restaurant whenever visited saying no power need wait 1 hr please try avoid reasons food good',\n",
       " \"n't order worst food\",\n",
       " 'nice',\n",
       " 'saw restaurant many times whenever passed thought another new chinese restaurant area visited completely changed mind went try bubble tea ended trying items ambience really cute service good bubble tea good tried classic bubble tea cranberry bubble tea tapioca bubbles apart onion rings good cupcakesontravel.blogspot.com',\n",
       " 'great place hangout.. food amazing try tandoori chicken mustard laccha onion galouti ka baap puliyogare arrancini coconut chutney lip smacking great staff.. problem dance floor end.. complete different room together',\n",
       " 'great inexpensive place center indiranagar pub street .menu not typical drinking food itã\\x83â\\x83â\\x83ã\\x83â\\x82â\\x83ã\\x83â\\x83â\\x82ã\\x83â\\x82â\\x83ã\\x83â\\x83â\\x83ã\\x83â\\x82â\\x82ã\\x83â\\x83â\\x82ã\\x83â\\x82ã\\x82â¢ã\\x83â\\x83â\\x83ã\\x83â\\x82â\\x83ã\\x83â\\x83â\\x82ã\\x83â\\x82â\\x82ã\\x83â\\x83â\\x83ã\\x83â\\x82â\\x82ã\\x83â\\x83â\\x82ã\\x83â\\x82â\\x80ã\\x83â\\x83â\\x83ã\\x83â\\x82â\\x83ã\\x83â\\x83â\\x82ã\\x83â\\x82â\\x82ã\\x83â\\x83â\\x83ã\\x83â\\x82â\\x82ã\\x83â\\x83â\\x82ã\\x83â\\x82â\\x99s yum definitely try keema dosa nati chicken felt like bit understaffed service slow times no music 100 feet road traffic makes ã\\x83â\\x83â\\x83ã\\x83â\\x82â\\x83ã\\x83â\\x83â\\x82ã\\x83â\\x82â\\x83ã\\x83â\\x83â\\x83ã\\x83â\\x82â\\x82ã\\x83â\\x83â\\x82ã\\x83â\\x82ã\\x82â°ã\\x83â\\x83â\\x83ã\\x83â\\x82â\\x83ã\\x83â\\x83â\\x82ã\\x83â\\x82â\\x82ã\\x83â\\x83â\\x83ã\\x83â\\x82â\\x82ã\\x83â\\x83â\\x82ã\\x83â\\x82â\\x9fã\\x83â\\x83â\\x83ã\\x83â\\x82â\\x83ã\\x83â\\x83â\\x82ã\\x83â\\x82â\\x82ã\\x83â\\x83â\\x83ã\\x83â\\x82â\\x82ã\\x83â\\x83â\\x82ã\\x83â\\x82â\\x98ã\\x83â\\x83â\\x83ã\\x83â\\x82â\\x83ã\\x83â\\x83â\\x82ã\\x83â\\x82â\\x82ã\\x83â\\x83â\\x83ã\\x83â\\x82â\\x82ã\\x83â\\x83â\\x82ã\\x83â\\x82â\\x82',\n",
       " 'went friends place looks amazing concept nice moreover many food items totally different combinations ordered masala guava juice ferrero rotcher shake nutella shake manchurian pizza masala maggi sandwich corn dish red velvet cupcake shakes beautiful presentation tasted good personally favourite masala maggi sandwich staff also polite',\n",
       " 'superb place hangout lovely place pizza ice creams better place make memories zen pizza pasta formaggi tasty.. nachos cheese tastier garlic bread cheese tastiest -p',\n",
       " 'iã\\x83â\\x83â\\x83ã\\x83â\\x82â\\x83ã\\x83â\\x83â\\x82ã\\x83â\\x82â\\x82ã\\x83â\\x83â\\x83ã\\x83â\\x82â\\x82ã\\x83â\\x83â\\x82ã\\x83â\\x82â\\x92m fan asian cuisine hence cutesy place opened try service nice ambience good cute panda statue entrance panda shaped salt pepper shakers stuff found food decent not great ð\\x9f¥¡ like whole concept customising order eating china box though worth visit',\n",
       " 'not delivered full order gulab jamun not delivered',\n",
       " \"saw place koramangala last time since wish list long time..visited weekend lunch guess reached quite early p starters blow mind..there 10 veg non-veg starters equally amazing..main course pretty normal..there live counter toooo served us customised foood items.. coming desserts like icing cake..everything delicious..could n't try ice creams since already full special appreciation goes staff great hospitality..staff polite took good care us\",\n",
       " \"fooled ratings half things not available menu burger ordered n't good filling service disappointment\",\n",
       " 'review sweets meals sweets really awesome try chenapoda hope spelling right meals thali jain kind everything plain might taste dull food good quantity good no seating stand eat raiting for.sweets food',\n",
       " \"work stay near btm go birinz variety wood-fired biryanis taste better biryani outlets portion sizes adequate service super quick every flavour markedly different others hyderabadi dum biryani butter chicken biryani birinz got right variants include reddy 's biryani birinz special etc spice factor xan customized request default biryani vatiants come range medium spicy unique options starters papdi chicken patiala chicken deserve special mention papdi chicken tastes best papdi crisp patiala chicken comes wrapped omelette presentation dishes perfect recommended quick weekday lunch various offers including group discounts bogo offers also available\",\n",
       " 'food not good',\n",
       " 'biergarten great place brewery great starters accompany beer well ambience nice staff courteous ordered prawns wrapped bacon pepper chicken nachos chicken pizza taste really good go group friends great experience',\n",
       " \"'s 3.5 actually u easily find place.. serves awesome ranges mouth watering delicacies buffet menu.. starters desserts 's looooooooooooot options available want hit place go starving.. overall ambience good.. service also good.. food taste may improved cases improvement much needed terms hygiene 1. dessert cups replaced 2. found hair one dishes\",\n",
       " \"tasty food cosy ambience plus happy humble servers please n't confused timings written breakfast lunch dinner food menu coz serve everything menu till time open try\",\n",
       " \"bought chocolate drink tasty drink package quantity 's poor packaging better try taste great\",\n",
       " 'restaurant could sprucing since looks old chef seems hang things normal stuff indian fare- moong dal chicken biryani awesome hungry kid good food done day chinese preparation chilly chicken hot sour soup etc good simple place staying hotel housed in- awesome',\n",
       " 'let frank love kun fu panda ever since love panda walking koramangala saw restaurant themed panda without second thought visited restaurant ambiance name says restaurant panda-themed every element restaurant adorable panda pictures hanged wall dishes made shape panda ordered pad thai amazing tangier pad thai made spicy added chili flakes thai red curry heavenly plus point lovely panda garnishing jasmine cuteness overloaded best thai curry recent times noodle box black bean udon loved noodle box completes meal spicy side tasted amazing fudgy cookie ice cream oreo definitely show stopper overall another great place koramangala would make day great food adorable panda around',\n",
       " \"hot burg regular road side bakery offers regular bakery items located near vasudev adiga 's bannerghatta road bakery offers regular vegetable puffs egg puffs paneer puffs pastries cakes sandwich burgers besides also get chai coffee evening time also get shawarma plate variant regular regular bakery\",\n",
       " 'biryani bad everything burnt delivery late',\n",
       " 'donã\\x83â\\x83â\\x83ã\\x83â\\x82â\\x83ã\\x83â\\x83â\\x82ã\\x83â\\x82â\\x83ã\\x83â\\x83â\\x83ã\\x83â\\x82â\\x82ã\\x83â\\x83â\\x82ã\\x83â\\x82ã\\x82â¢ã\\x83â\\x83â\\x83ã\\x83â\\x82â\\x83ã\\x83â\\x83â\\x82ã\\x83â\\x82â\\x82ã\\x83â\\x83â\\x83ã\\x83â\\x82â\\x82ã\\x83â\\x83â\\x82ã\\x83â\\x82â\\x80ã\\x83â\\x83â\\x83ã\\x83â\\x82â\\x83ã\\x83â\\x83â\\x82ã\\x83â\\x82â\\x82ã\\x83â\\x83â\\x83ã\\x83â\\x82â\\x82ã\\x83â\\x83â\\x82ã\\x83â\\x82â\\x99t visit place good food drinks namesake long menu half items not available hearing ã\\x83â\\x83â\\x83ã\\x83â\\x82â\\x83ã\\x83â\\x83â\\x82ã\\x83â\\x82â\\x83ã\\x83â\\x83â\\x83ã\\x83â\\x82â\\x82ã\\x83â\\x83â\\x82ã\\x83â\\x82ã\\x82â¢ã\\x83â\\x83â\\x83ã\\x83â\\x82â\\x83ã\\x83â\\x83â\\x82ã\\x83â\\x82â\\x82ã\\x83â\\x83â\\x83ã\\x83â\\x82â\\x82ã\\x83â\\x83â\\x82ã\\x83â\\x82â\\x80ã\\x83â\\x83â\\x83ã\\x83â\\x82â\\x83ã\\x83â\\x83â\\x82ã\\x83â\\x82â\\x82ã\\x83â\\x83â\\x83ã\\x83â\\x82â\\x82ã\\x83â\\x83â\\x82ã\\x83â\\x82â\\x9cnot availableã\\x83â\\x83â\\x83ã\\x83â\\x82â\\x83ã\\x83â\\x83â\\x82ã\\x83â\\x82â\\x83ã\\x83â\\x83â\\x83ã\\x83â\\x82â\\x82ã\\x83â\\x83â\\x82ã\\x83â\\x82ã\\x82â¢ã\\x83â\\x83â\\x83ã\\x83â\\x82â\\x83ã\\x83â\\x83â\\x82ã\\x83â\\x82â\\x82ã\\x83â\\x83â\\x83ã\\x83â\\x82â\\x82ã\\x83â\\x83â\\x82ã\\x83â\\x82â\\x80ã\\x83â\\x83â\\x83ã\\x83â\\x82â\\x83ã\\x83â\\x83â\\x82ã\\x83â\\x82â\\x82ã\\x83â\\x83â\\x83ã\\x83â\\x82â\\x82ã\\x83â\\x83â\\x82ã\\x83â\\x82â\\x9d 2-3 times food well drinks end ordering whatever 2-3 dishes staff suggests restaurant also understaffed service time bad good thing place dance floor dining area apart enables chat comfortably friends even loud music around',\n",
       " \"loved chena podo chena goja long time 2 delicacies unique odissa may not good ones cuttuck dhenkanal belt definitely enjoyable bangalore 's road side sweet shop next lord jagannath temple hsr layout visiting taste snacks\",\n",
       " \"absolutely like restaurant.. serve testy food good quantity ordered tandoori chicken sooo testy perfect balance spice.. really finger licking ã\\x83â\\x83â\\x83ã\\x83â\\x82â\\x83ã\\x83â\\x83â\\x82ã\\x83â\\x82â\\x83ã\\x83â\\x83â\\x83ã\\x83â\\x82â\\x82ã\\x83â\\x83â\\x82ã\\x83â\\x82ã\\x82â°ã\\x83â\\x83â\\x83ã\\x83â\\x82â\\x83ã\\x83â\\x83â\\x82ã\\x83â\\x82â\\x82ã\\x83â\\x83â\\x83ã\\x83â\\x82â\\x82ã\\x83â\\x83â\\x82ã\\x83â\\x82â\\x9fã\\x83â\\x83â\\x83ã\\x83â\\x82â\\x83ã\\x83â\\x83â\\x82ã\\x83â\\x82â\\x82ã\\x83â\\x83â\\x83ã\\x83â\\x82â\\x82ã\\x83â\\x83â\\x82ã\\x83â\\x82â\\x91ã\\x83â\\x83â\\x83ã\\x83â\\x82â\\x83ã\\x83â\\x83â\\x82ã\\x83â\\x82â\\x82ã\\x83â\\x83â\\x83ã\\x83â\\x82â\\x82ã\\x83â\\x83â\\x82ã\\x83â\\x82â\\x8c sweet lassi omg try lassi.. seriously awesome also remember taste ã\\x83â\\x83â\\x83ã\\x83â\\x82â\\x83ã\\x83â\\x83â\\x82ã\\x83â\\x82â\\x83ã\\x83â\\x83â\\x83ã\\x83â\\x82â\\x82ã\\x83â\\x83â\\x82ã\\x83â\\x82ã\\x82â¢ã\\x83â\\x83â\\x83ã\\x83â\\x82â\\x83ã\\x83â\\x83â\\x82ã\\x83â\\x82â\\x82ã\\x83â\\x83â\\x83ã\\x83â\\x82â\\x82ã\\x83â\\x83â\\x82ã\\x83â\\x82â\\x9dã\\x83â\\x83â\\x83ã\\x83â\\x82â\\x83ã\\x83â\\x83â\\x82ã\\x83â\\x82â\\x82ã\\x83â\\x83â\\x83ã\\x83â\\x82â\\x82ã\\x83â\\x83â\\x82ã\\x83â\\x82ã\\x82â¤ã\\x83â\\x83â\\x83ã\\x83â\\x82â\\x83ã\\x83â\\x83â\\x82ã\\x83â\\x82â\\x83ã\\x83â\\x83â\\x83ã\\x83â\\x82â\\x82ã\\x83â\\x83â\\x82ã\\x83â\\x82ã\\x82â¯ã\\x83â\\x83â\\x83ã\\x83â\\x82â\\x83ã\\x83â\\x83â\\x82ã\\x83â\\x82â\\x82ã\\x83â\\x83â\\x83ã\\x83â\\x82â\\x82ã\\x83â\\x83â\\x82ã\\x83â\\x82ã\\x82â¸ã\\x83â\\x83â\\x83ã\\x83â\\x82â\\x83ã\\x83â\\x83â\\x82ã\\x83â\\x82â\\x82ã\\x83â\\x83â\\x83ã\\x83â\\x82â\\x82ã\\x83â\\x83â\\x82ã\\x83â\\x82â\\x8f butter naan soft testy.. mutton biriyani best good quantity sooo testy loads soft juicy mutton.. perfectly cooked.. not spicy perfect ã\\x83â\\x83â\\x83ã\\x83â\\x82â\\x83ã\\x83â\\x83â\\x82ã\\x83â\\x82â\\x83ã\\x83â\\x83â\\x83ã\\x83â\\x82â\\x82ã\\x83â\\x83â\\x82ã\\x83â\\x82ã\\x82â°ã\\x83â\\x83â\\x83ã\\x83â\\x82â\\x83ã\\x83â\\x83â\\x82ã\\x83â\\x82â\\x82ã\\x83â\\x83â\\x83ã\\x83â\\x82â\\x82ã\\x83â\\x83â\\x82ã\\x83â\\x82â\\x9fã\\x83â\\x83â\\x83ã\\x83â\\x82â\\x83ã\\x83â\\x83â\\x82ã\\x83â\\x82â\\x82ã\\x83â\\x83â\\x83ã\\x83â\\x82â\\x82ã\\x83â\\x83â\\x82ã\\x83â\\x82â\\x91ã\\x83â\\x83â\\x83ã\\x83â\\x82â\\x83ã\\x83â\\x83â\\x82ã\\x83â\\x82â\\x82ã\\x83â\\x83â\\x83ã\\x83â\\x82â\\x82ã\\x83â\\x83â\\x82ã\\x83â\\x82â\\x8c rasomalai personally 'm desert lover n't miss chance.. yes also good ã\\x83â\\x83â\\x83ã\\x83â\\x82â\\x83ã\\x83â\\x83â\\x82ã\\x83â\\x82â\\x83ã\\x83â\\x83â\\x83ã\\x83â\\x82â\\x82ã\\x83â\\x83â\\x82ã\\x83â\\x82ã\\x82â°ã\\x83â\\x83â\\x83ã\\x83â\\x82â\\x83ã\\x83â\\x83â\\x82ã\\x83â\\x82â\\x82ã\\x83â\\x83â\\x83ã\\x83â\\x82â\\x82ã\\x83â\\x83â\\x82ã\\x83â\\x82â\\x9fã\\x83â\\x83â\\x83ã\\x83â\\x82â\\x83ã\\x83â\\x83â\\x82ã\\x83â\\x82â\\x82ã\\x83â\\x83â\\x83ã\\x83â\\x82â\\x82ã\\x83â\\x83â\\x82ã\\x83â\\x82â\\x98ã\\x83â\\x83â\\x83ã\\x83â\\x82â\\x83ã\\x83â\\x83â\\x82ã\\x83â\\x82â\\x82ã\\x83â\\x83â\\x83ã\\x83â\\x82â\\x82ã\\x83â\\x83â\\x82ã\\x83â\\x82â\\x8b ambience okay okay type not good not bad..\",\n",
       " 'iã\\x83â\\x83â\\x83ã\\x83â\\x82â\\x83ã\\x83â\\x83â\\x82ã\\x83â\\x82â\\x82ã\\x83â\\x83â\\x83ã\\x83â\\x82â\\x82ã\\x83â\\x83â\\x82ã\\x83â\\x82â\\x92m fan asian cuisine hence cutesy place opened try service nice ambience good cute panda statue entrance panda shaped salt pepper shakers stuff found food decent not great ð\\x9f¥¡ like whole concept customising order eating china box though worth visit',\n",
       " \"place pretty new suggested brothers 's tiny restaurant seat hardly 15 people ambience nothing fancy food makes ordered chicken mutton biryani heavenly 's fragrant flavourful 's light masala well also ordered mutton leg curry spicy served perfect side dish biryani ordered plate kebabs crispy not oily also picked mutton chops delicious 's also easy pocket pau 250 'll walk happy man full tummy ambience 3 food 5 service 4\",\n",
       " 'friend mine went main course friend tried burger per cafes recommendation tried ã\\x83â\\x83â\\x83ã\\x83â\\x82â\\x83ã\\x83â\\x83â\\x82ã\\x83â\\x82â\\x83ã\\x83â\\x83â\\x83ã\\x83â\\x82â\\x82ã\\x83â\\x83â\\x82ã\\x83â\\x82ã\\x82â¢ã\\x83â\\x83â\\x83ã\\x83â\\x82â\\x83ã\\x83â\\x83â\\x82ã\\x83â\\x82â\\x82ã\\x83â\\x83â\\x83ã\\x83â\\x82â\\x82ã\\x83â\\x83â\\x82ã\\x83â\\x82â\\x80ã\\x83â\\x83â\\x83ã\\x83â\\x82â\\x83ã\\x83â\\x83â\\x82ã\\x83â\\x82â\\x82ã\\x83â\\x83â\\x83ã\\x83â\\x82â\\x82ã\\x83â\\x83â\\x82ã\\x83â\\x82â\\x98eurasiaã\\x83â\\x83â\\x83ã\\x83â\\x82â\\x83ã\\x83â\\x83â\\x82ã\\x83â\\x82â\\x83ã\\x83â\\x83â\\x83ã\\x83â\\x82â\\x82ã\\x83â\\x83â\\x82ã\\x83â\\x82ã\\x82â¢ã\\x83â\\x83â\\x83ã\\x83â\\x82â\\x83ã\\x83â\\x83â\\x82ã\\x83â\\x82â\\x82ã\\x83â\\x83â\\x83ã\\x83â\\x82â\\x82ã\\x83â\\x83â\\x82ã\\x83â\\x82â\\x80ã\\x83â\\x83â\\x83ã\\x83â\\x82â\\x83ã\\x83â\\x83â\\x82ã\\x83â\\x82â\\x82ã\\x83â\\x83â\\x83ã\\x83â\\x82â\\x82ã\\x83â\\x83â\\x82ã\\x83â\\x82â\\x99 mains ã\\x83â\\x83â\\x83ã\\x83â\\x82â\\x83ã\\x83â\\x83â\\x82ã\\x83â\\x82â\\x83ã\\x83â\\x83â\\x83ã\\x83â\\x82â\\x82ã\\x83â\\x83â\\x82ã\\x83â\\x82ã\\x82â¢ã\\x83â\\x83â\\x83ã\\x83â\\x82â\\x83ã\\x83â\\x83â\\x82ã\\x83â\\x82â\\x82ã\\x83â\\x83â\\x83ã\\x83â\\x82â\\x82ã\\x83â\\x83â\\x82ã\\x83â\\x82â\\x80ã\\x83â\\x83â\\x83ã\\x83â\\x82â\\x83ã\\x83â\\x83â\\x82ã\\x83â\\x82â\\x82ã\\x83â\\x83â\\x83ã\\x83â\\x82â\\x82ã\\x83â\\x83â\\x82ã\\x83â\\x82â\\x98quattro formaggiã\\x83â\\x83â\\x83ã\\x83â\\x82â\\x83ã\\x83â\\x83â\\x82ã\\x83â\\x82â\\x83ã\\x83â\\x83â\\x83ã\\x83â\\x82â\\x82ã\\x83â\\x83â\\x82ã\\x83â\\x82ã\\x82â¢ã\\x83â\\x83â\\x83ã\\x83â\\x82â\\x83ã\\x83â\\x83â\\x82ã\\x83â\\x82â\\x82ã\\x83â\\x83â\\x83ã\\x83â\\x82â\\x82ã\\x83â\\x83â\\x82ã\\x83â\\x82â\\x80ã\\x83â\\x83â\\x83ã\\x83â\\x82â\\x83ã\\x83â\\x83â\\x82ã\\x83â\\x82â\\x82ã\\x83â\\x83â\\x83ã\\x83â\\x82â\\x82ã\\x83â\\x83â\\x82ã\\x83â\\x82â\\x99 burger eurasia combination continental oriental flavours total delight touch kaffir lime sauce made even better burger hand totally different terms flavour combination 4 different kind cheese made totally heavenly definitely going',\n",
       " 'biryani not worth since 3 small pieces kebab good',\n",
       " 'pizza stop serves best pizza town tops us pizza chains far nice crunchy bottom close original italian toppings good cant say much location use order ordered first time saved number never struggle giving directions',\n",
       " 'good food average ambience quantity food fulfilling food also tasty day speciality bengali fishes delicious',\n",
       " 'bs',\n",
       " 'place good best outlet compared outlets coming since many years nothing changes reasonably priced really good food great music really friendly polite staff prompt service always delight back fiery potato amazing also updates follow us instagram using handle justbangaloring',\n",
       " 'food spicy',\n",
       " 'food good except',\n",
       " 'eat street perfect place spend weekend family varieties food different parts india roof not forget live band sunday evening order chats papdi aloo tikki perfect start pav bhaji liked taste bhaji reminded pav bhaji mumbaichole bhature chole cooked perfectly lacked flavors still far better places bangalore.alfredo pasta- extra cheese made dish super yummy desert gulab jamoon truffles definitely insta worthy dish tasted heavenly',\n",
       " \"place lot options biryani visited place recently loved service ambience yesterday got delivered home 'm glad delivered food btm layout vijaynagar packing excellent biryanis cooked firewood amplifies taste ordered chicken maharaja excellent consisted bell peppers onion chillies hyderbadi dum biryani good pieces perfectly marinated rice flavoured spices biryani try people love spicy food reddy 's biryani good.this biryani rice topped andhra gravy less spicy compared hyderbadi dum biryani\",\n",
       " \"newly opened restautent unprofessional staffs first visit worst experience.over crowded clueless staffs n't know address guest restaurant running sold out.we understand rush hour 's difficult get table 's ok wait proper way put across things\",\n",
       " 'ambience 5/5 service 4.5/5 food 5/5 amazing ambience planning place long time went dinner friend tried summer mocktail mango based guava chillo mocktail guava chilli starters chicken tikka prawns ghee roast upvote 200 tried chicken tikka pizza also good try go group 4 else higher quantity ppl 2',\n",
       " \"thai red curry among best 've ever staff also super courteous kind cute ambiance would definitely recommend quality asian food :3\",\n",
       " 'know real good south indian food appreciate varenyam offer lived bangalore 14 years knowing difference restaurant food versus home cooked authentic food give restaurant 2 thumbs food personal recommendation would `` reddy special chicken curry said looking forward visiting place visit area try items menu overall great affordable place family',\n",
       " 'worst place ever.people really ill-mannered.they misbehave criticize customers specially woman customer scarf helmet kept table snacks nearby table no place table..the helpers took clean place.so ridiculous..and owner supporting them.being oriya feel ashamed come place place known bengali oriya cuisines',\n",
       " 'good',\n",
       " \"looking reviews hearing extensive buffet menu chose visit place breakfast family however visit n't pleasant one 1. breakfast items unlike restaurants extremely limited 2. things cold 3. ordered dosa tasted weird guess batter left previous day 4. name fruits banana muskmelon muskmelon unriped 5. took half hour serve boiled eggs 6. barely 8 people entire restaurant bread basket empty 7. ordered aloo paratha not stuffed cooked well 8. waffle hard tasteless good thing place quiet could eat breakfast peace bad experience otherwise\",\n",
       " 'place try chilli parota suggested friend disappointed much however offerings good tasteful',\n",
       " 'gave chicken pieces veg biriyani',\n",
       " 'place got homely ambience varneyam andra local house menu items like reddy gari karam rice dosa tiffins not available day filter coffee good worth going service late good place hangout isnt crowd',\n",
       " 'quantity less',\n",
       " \"belgian waffle factory undoubtedly serves sublime waffles ca n't get enough ordered sin waffle chocolate overload waffle red wonder waffle three definite must-tries said 've listed order preference without doubt belgian waffle factory must-visit dessert fans go ahead indulge\",\n",
       " 'amazing andhra style traditional food shole chicken kebab fish fry really yummy ..if one required home made food try here..superb',\n",
       " 'good',\n",
       " '**lovely place** place always bucket long finally could hit place loved ambience place.the place decorated nicely ordered pan fried noodles mushroom galouti noodles tasty combination nicely cooked vegetables crispy noodles mushroom galouti wasnt tasty service decent service:4/5 ambience:4/5 food:4/5',\n",
       " \"cute panda statue welcomes store place appealing ambience everything resembles panda entrance salt pepper containers coming food name suggests specialized noodles spagghetti south east asian cuisines n't upsetti eat spaghetti p\",\n",
       " 'great place meat lovers pros variety options great taste pocket friendly cons nothing go family friends enjoy',\n",
       " 'visited restaurant friends weekend lunch heard lot biryani varieties toppings provide ambiance place normal located btm main road won find much difficulty locate place started dry starters chef special chicken starters prawns dry fry coke main course ordered hyderabadi chicken biryani butter chicken biryani boneless chicken biryani everything mark.butter chicken biryani tried first time surprise not sweet buttery yummy taste.i would love visit also get biryani homedelivered',\n",
       " 'not good expected',\n",
       " \"someone love asian cuisine try place .loved food .black bean udon yum first time trying ..ramen also good n't like momo though ..still rest food good\",\n",
       " 'rare find place spend good time family besties place keep top list anytime place find service service not business food.. undoubtedly delicious',\n",
       " 'wondering restaurant folks chose name difficult pronounce curious mind browsing google varenyam signifies acceptance god translated meaning ã\\x83â\\x83â\\x83ã\\x83â\\x82â\\x83ã\\x83â\\x83â\\x82ã\\x83â\\x82â\\x82ã\\x83â\\x83â\\x83ã\\x83â\\x82â\\x82ã\\x83â\\x83â\\x82ã\\x83â\\x82â\\x93who worthyã\\x83â\\x83â\\x83ã\\x83â\\x82â\\x83ã\\x83â\\x83â\\x82ã\\x83â\\x82â\\x82ã\\x83â\\x83â\\x83ã\\x83â\\x82â\\x82ã\\x83â\\x83â\\x82ã\\x83â\\x82â\\x94 visit sure get feel spiritual center would love pronounce word ã\\x83â\\x83â\\x83ã\\x83â\\x82â\\x83ã\\x83â\\x83â\\x82ã\\x83â\\x82â\\x82ã\\x83â\\x83â\\x83ã\\x83â\\x82â\\x82ã\\x83â\\x83â\\x82ã\\x83â\\x82â\\x93varenyamã\\x83â\\x83â\\x83ã\\x83â\\x82â\\x83ã\\x83â\\x83â\\x82ã\\x83â\\x82â\\x82ã\\x83â\\x83â\\x83ã\\x83â\\x82â\\x82ã\\x83â\\x83â\\x82ã\\x83â\\x82â\\x94 knowing meaning read full post naveensuresh3.wordpress.com',\n",
       " 'hea couple days ago wit frens wanted xplore menu items ws temptin.. not good place sit n eat ders no a/c.. limited seats.. not crowded well.. lookin v oly ordered fw.. paneer cheese sandwich chicken cheese sandwich.. wait fo 20mins enjoyed sandwich ws lip smackin.. spicy yum.. would giv low ratin cus price wic don thnk reasonable otherwise least likely visit agn..',\n",
       " 'good service',\n",
       " 'barely cooked roti',\n",
       " 'roaming around mg road brigade road stopped airlines hotel energy top decided pizza pizza stop among food items pizza ordered nawabi pizza large size service good given hardly crowd time pizza served less 20 mins thin crust pizza good amount toppings oregano seasoning additional eased hunger bit overall pizza good served hot crunchy',\n",
       " \"cute panda statue welcomes store place appealing ambience everything resembles panda entrance salt pepper containers coming food name suggests specialized noodles spagghetti south east asian cuisines n't upsetti eat spaghetti p\",\n",
       " \"one worst service got coz 2days back order egg biriyani got spoiled one even tried complaint il no one giving response not even zomato care also n't gave response see n't know indian food restaurant giving service order made mistake wantedly not n't know literally desepointed indian food service.. see people trusts u n't like 's food food matter never compromise give ur best ur customers time u give response feed back coz ur mistake give response\",\n",
       " 'rice not cooked properlly',\n",
       " 'good',\n",
       " 'par jayanagar branch always boneless chicken biriyani best biriyani afternoon best ambience hygiene requires improvement looks like rented 3bhk house converted restaurant parking sort bother gets packed weekends would gracefully avoid',\n",
       " 'worst quality food ever seen chapati not cooked well not eatable ek dum kacchi tutti hui roti khane ke layak bhi nhi h',\n",
       " 'time polite delivery boy',\n",
       " 'wow food really delicious..best bangalore.. tqs ..but plzz reduce price 60..',\n",
       " 'nice dilvery',\n",
       " \"place located st mark 's road two outlets next ambience kinda okay space little tables sticking food quality great price little bit higher side considering space food food western tastes good\",\n",
       " 'decent quality quantity price.had ordered parotta curry parottas soft hot curry mild not heavy',\n",
       " 'sweets costly staff lazy nice evening snacks mixed variety dishes available please not go odd times',\n",
       " 'could given 0 stars zomato also see restaurant servings customer fall ill surely complain comsumer forum',\n",
       " 'iã\\x83â\\x83â\\x83ã\\x83â\\x82â\\x83ã\\x83â\\x83â\\x82ã\\x83â\\x82â\\x82ã\\x83â\\x83â\\x83ã\\x83â\\x82â\\x82ã\\x83â\\x83â\\x82ã\\x83â\\x82â\\x92m fan asian cuisine hence cutesy place opened try service nice ambience good cute panda statue entrance panda shaped salt pepper shakers stuff found food decent not great ð\\x9f¥¡ like whole concept customising order eating china box though worth visit',\n",
       " 'cheapest alcohol place one find bangalore love south indian food would love place starters like potato fry chicken kabab alcohol sometime gets way crowded wouldnã\\x83â\\x83â\\x83ã\\x83â\\x82â\\x83ã\\x83â\\x83â\\x82ã\\x83â\\x82â\\x83ã\\x83â\\x83â\\x83ã\\x83â\\x82â\\x82ã\\x83â\\x83â\\x82ã\\x83â\\x82ã\\x82â¢ã\\x83â\\x83â\\x83ã\\x83â\\x82â\\x83ã\\x83â\\x83â\\x82ã\\x83â\\x82â\\x82ã\\x83â\\x83â\\x83ã\\x83â\\x82â\\x82ã\\x83â\\x83â\\x82ã\\x83â\\x82â\\x80ã\\x83â\\x83â\\x83ã\\x83â\\x82â\\x83ã\\x83â\\x83â\\x82ã\\x83â\\x82â\\x82ã\\x83â\\x83â\\x83ã\\x83â\\x82â\\x82ã\\x83â\\x83â\\x82ã\\x83â\\x82â\\x99t get table even wait hour no one keep list came first deserves table first also itã\\x83â\\x83â\\x83ã\\x83â\\x82â\\x83ã\\x83â\\x83â\\x82ã\\x83â\\x82â\\x83ã\\x83â\\x83â\\x83ã\\x83â\\x82â\\x82ã\\x83â\\x83â\\x82ã\\x83â\\x82ã\\x82â¢ã\\x83â\\x83â\\x83ã\\x83â\\x82â\\x83ã\\x83â\\x83â\\x82ã\\x83â\\x82â\\x82ã\\x83â\\x83â\\x83ã\\x83â\\x82â\\x82ã\\x83â\\x83â\\x82ã\\x83â\\x82â\\x80ã\\x83â\\x83â\\x83ã\\x83â\\x82â\\x83ã\\x83â\\x83â\\x82ã\\x83â\\x82â\\x82ã\\x83â\\x83â\\x83ã\\x83â\\x82â\\x82ã\\x83â\\x83â\\x82ã\\x83â\\x82â\\x99s crowded one would wait atleast 30min get order placed want get drunk end month want save money well 30min wait cheap alcohol worth wait ã\\x83â\\x83â\\x83ã\\x83â\\x82â\\x83ã\\x83â\\x83â\\x82ã\\x83â\\x82â\\x83ã\\x83â\\x83â\\x83ã\\x83â\\x82â\\x82ã\\x83â\\x83â\\x82ã\\x83â\\x82ã\\x82â°ã\\x83â\\x83â\\x83ã\\x83â\\x82â\\x83ã\\x83â\\x83â\\x82ã\\x83â\\x82â\\x82ã\\x83â\\x83â\\x83ã\\x83â\\x82â\\x82ã\\x83â\\x83â\\x82ã\\x83â\\x82â\\x9fã\\x83â\\x83â\\x83ã\\x83â\\x82â\\x83ã\\x83â\\x83â\\x82ã\\x83â\\x82â\\x82ã\\x83â\\x83â\\x83ã\\x83â\\x82â\\x82ã\\x83â\\x83â\\x82ã\\x83â\\x82ã\\x82â¤ã\\x83â\\x83â\\x83ã\\x83â\\x82â\\x83ã\\x83â\\x83â\\x82ã\\x83â\\x82â\\x82ã\\x83â\\x83â\\x83ã\\x83â\\x82â\\x82ã\\x83â\\x83â\\x82ã\\x83â\\x82ã\\x82â£',\n",
       " 'one best biryanis mutton biryani best.. pieces arent bony veg biryani pretty good well chicken biryani ok good.. starters tasty limited options options pretty good..however ur not used spicy food take ur ant acids u go bed day u eat',\n",
       " 'worst',\n",
       " 'perfect place sunday lunch thoroughly enjoyed place literally feel gained double weight service good every dish awesome desserts yummy starters good yfm food:4/5 ambience:4/5 service:5/5 quality:4/5',\n",
       " 'give best food without comprising quantities really cheesy chicken lasagna succulent pieces chicken cooked perfection spaghetti cheese balls.. worth price pay',\n",
       " \"wow hands place deserves 5 stars food 5/5 parking 5/5 ambience 5/5 service 4/5 not ranking service thats thing need step coming food every dish amazing n't need say much 'm sure 'll find something love ordered following anna 's sundal bob 's chicken kabab pork chilli bafat bombat ghee roast leg soup averekulu ussili paneer pepper crust best part price good drinks food.. wo n't believe hope maintain kind pricing value money outlet old bangalore feel homily vibe new adda sure\",\n",
       " 'time biryani cravings hits would place hit without hesitations non veg biriyanis always best also tried paneer aloo biryani pretty good time one time food ordered aloo seemed like wasnt cooked well',\n",
       " 'quick lunch sapthgiri marathalli..good food reasonable price .. fried rice chilli chicken ingre- lot green chilli along deep fried chicken ã\\x83â\\x83â\\x83ã\\x83â\\x82â\\x83ã\\x83â\\x83â\\x82ã\\x83â\\x82â\\x83ã\\x83â\\x83â\\x83ã\\x83â\\x82â\\x82ã\\x83â\\x83â\\x82ã\\x83â\\x82ã\\x82â°ã\\x83â\\x83â\\x83ã\\x83â\\x82â\\x83ã\\x83â\\x83â\\x82ã\\x83â\\x82â\\x82ã\\x83â\\x83â\\x83ã\\x83â\\x82â\\x82ã\\x83â\\x83â\\x82ã\\x83â\\x82â\\x9fã\\x83â\\x83â\\x83ã\\x83â\\x82â\\x83ã\\x83â\\x83â\\x82ã\\x83â\\x82â\\x82ã\\x83â\\x83â\\x83ã\\x83â\\x82â\\x82ã\\x83â\\x83â\\x82ã\\x83â\\x82â\\x98ã\\x83â\\x83â\\x83ã\\x83â\\x82â\\x83ã\\x83â\\x83â\\x82ã\\x83â\\x82â\\x82ã\\x83â\\x83â\\x83ã\\x83â\\x82â\\x82ã\\x83â\\x83â\\x82ã\\x83â\\x82â\\x82ã\\x83â\\x83â\\x83ã\\x83â\\x82â\\x83ã\\x83â\\x83â\\x82ã\\x83â\\x82â\\x83ã\\x83â\\x83â\\x83ã\\x83â\\x82â\\x82ã\\x83â\\x83â\\x82ã\\x83â\\x82ã\\x82â°ã\\x83â\\x83â\\x83ã\\x83â\\x82â\\x83ã\\x83â\\x83â\\x82ã\\x83â\\x82â\\x82ã\\x83â\\x83â\\x83ã\\x83â\\x82â\\x82ã\\x83â\\x83â\\x82ã\\x83â\\x82â\\x9fã\\x83â\\x83â\\x83ã\\x83â\\x82â\\x83ã\\x83â\\x83â\\x82ã\\x83â\\x82â\\x82ã\\x83â\\x83â\\x83ã\\x83â\\x82â\\x82ã\\x83â\\x83â\\x82ã\\x83â\\x82â\\x98ã\\x83â\\x83â\\x83ã\\x83â\\x82â\\x83ã\\x83â\\x83â\\x82ã\\x83â\\x82â\\x82ã\\x83â\\x83â\\x83ã\\x83â\\x82â\\x82ã\\x83â\\x83â\\x82ã\\x83â\\x82â\\x82 anyways not blame taste wise good..',\n",
       " \"two words excellent food n't look appealing outside go satisfy taste buds chicken burger stake blueberry cheesecake delicious worth price service 4.5/5 ambience mediocre food 5/5\",\n",
       " 'food much spicy food colour',\n",
       " 'good',\n",
       " 'md tokir service really good one .. priya two guys .. served well took us food whatever like',\n",
       " \"quality taste pathetic no taste sambar nothing rasam no problem quantity infact 's much 's taste packing packed newspaper 's bad overall felt like ate railway station canteen\",\n",
       " \"wondering not visit place till visited holiday afternoon family ambience amazing old malayalam music background..loved .. ordered sadya netholi fry kerala style pepper chicken chicken biriyani .. loved biriyani n't best malabar biriyani get bangalore right flavours service also quick would definitely recommend place love kerala cuisine\",\n",
       " \"ordered meghana foods horrible experience average biryani delivered n't know people speak good place perhaps bad particular day not sure though\",\n",
       " \"swear zomato ratings visit moriz due lack options unplanned team lunch since n't get sitting nearby barbeque nation kritunga decided try one 's inr 399 unlimited buffet fest going days limited menu 1 soup 1 veg starter 2 nonveg starter 1 veg/nveg curry biryani noodles along 2 dessert still not able justice items not available refilling took least half hour service slow time looked confused none team members actually enjoyed confident not picky place actually lacked quality service hygiene flavors dishes except chilly paneer nothing worth trying p.s sorry honest dissapointing experience guys please work improve bit sure 4+ soon good luck\",\n",
       " 'fuk food hate paying fuking zomato ppl loose licenses',\n",
       " 'friend mine went main course friend tried burger per cafes recommendation tried ã\\x83â\\x83â\\x83ã\\x83â\\x82â\\x83ã\\x83â\\x83â\\x82ã\\x83â\\x82â\\x83ã\\x83â\\x83â\\x83ã\\x83â\\x82â\\x82ã\\x83â\\x83â\\x82ã\\x83â\\x82ã\\x82â¢ã\\x83â\\x83â\\x83ã\\x83â\\x82â\\x83ã\\x83â\\x83â\\x82ã\\x83â\\x82â\\x82ã\\x83â\\x83â\\x83ã\\x83â\\x82â\\x82ã\\x83â\\x83â\\x82ã\\x83â\\x82â\\x80ã\\x83â\\x83â\\x83ã\\x83â\\x82â\\x83ã\\x83â\\x83â\\x82ã\\x83â\\x82â\\x82ã\\x83â\\x83â\\x83ã\\x83â\\x82â\\x82ã\\x83â\\x83â\\x82ã\\x83â\\x82â\\x98eurasiaã\\x83â\\x83â\\x83ã\\x83â\\x82â\\x83ã\\x83â\\x83â\\x82ã\\x83â\\x82â\\x83ã\\x83â\\x83â\\x83ã\\x83â\\x82â\\x82ã\\x83â\\x83â\\x82ã\\x83â\\x82ã\\x82â¢ã\\x83â\\x83â\\x83ã\\x83â\\x82â\\x83ã\\x83â\\x83â\\x82ã\\x83â\\x82â\\x82ã\\x83â\\x83â\\x83ã\\x83â\\x82â\\x82ã\\x83â\\x83â\\x82ã\\x83â\\x82â\\x80ã\\x83â\\x83â\\x83ã\\x83â\\x82â\\x83ã\\x83â\\x83â\\x82ã\\x83â\\x82â\\x82ã\\x83â\\x83â\\x83ã\\x83â\\x82â\\x82ã\\x83â\\x83â\\x82ã\\x83â\\x82â\\x99 mains ã\\x83â\\x83â\\x83ã\\x83â\\x82â\\x83ã\\x83â\\x83â\\x82ã\\x83â\\x82â\\x83ã\\x83â\\x83â\\x83ã\\x83â\\x82â\\x82ã\\x83â\\x83â\\x82ã\\x83â\\x82ã\\x82â¢ã\\x83â\\x83â\\x83ã\\x83â\\x82â\\x83ã\\x83â\\x83â\\x82ã\\x83â\\x82â\\x82ã\\x83â\\x83â\\x83ã\\x83â\\x82â\\x82ã\\x83â\\x83â\\x82ã\\x83â\\x82â\\x80ã\\x83â\\x83â\\x83ã\\x83â\\x82â\\x83ã\\x83â\\x83â\\x82ã\\x83â\\x82â\\x82ã\\x83â\\x83â\\x83ã\\x83â\\x82â\\x82ã\\x83â\\x83â\\x82ã\\x83â\\x82â\\x98quattro formaggiã\\x83â\\x83â\\x83ã\\x83â\\x82â\\x83ã\\x83â\\x83â\\x82ã\\x83â\\x82â\\x83ã\\x83â\\x83â\\x83ã\\x83â\\x82â\\x82ã\\x83â\\x83â\\x82ã\\x83â\\x82ã\\x82â¢ã\\x83â\\x83â\\x83ã\\x83â\\x82â\\x83ã\\x83â\\x83â\\x82ã\\x83â\\x82â\\x82ã\\x83â\\x83â\\x83ã\\x83â\\x82â\\x82ã\\x83â\\x83â\\x82ã\\x83â\\x82â\\x80ã\\x83â\\x83â\\x83ã\\x83â\\x82â\\x83ã\\x83â\\x83â\\x82ã\\x83â\\x82â\\x82ã\\x83â\\x83â\\x83ã\\x83â\\x82â\\x82ã\\x83â\\x83â\\x82ã\\x83â\\x82â\\x99 burger eurasia combination continental oriental flavours total delight touch kaffir lime sauce made even better burger hand totally different terms flavour combination 4 different kind cheese made totally heavenly definitely going',\n",
       " \"tastes good n't satisfied family pack 2 members better individual pack mean single pack.please improve service thank\",\n",
       " 'stay far place heard lot got biryani parceled chicken biryani tastes amazing one best ever kept reputation soft rice well cooked flesh pieces good raita relish soon come check ambience mutton biryani',\n",
       " 'eat street comes one places get large variety food different stalls place concept quite unique different food stalls offering different kind dishes affordable range adding u experience live music performance munching food place self- service like food mart shopping malls coming food really like chaats offer loved dahi puri pani puri raj kachori chaat chicken tikkas also quite good offer various thalis main course items honest judging kind place terms food not good idea food serves quite average like food mart whole comes experience definitely go enjoy loved ones buddies',\n",
       " 'cheated us ordered family pack received singal biryani',\n",
       " 'service worst pricing menu different bill give bill increased pricing even serving water menu order need call 3-4 times even non busy day',\n",
       " \"place multiple outlets serving variety cuisine starting indian street food chinese american 's fiesta kind place best go group friends since 's budget friendly tried chaats pancakes crepes fried pakodas service challenge considering 's mostly crowded finding seat lil difficult staff really cordial helpful also live music/karaoke events evening decent place meal\",\n",
       " \"spicy ca n't eat\",\n",
       " 'good',\n",
       " \"ordered zomato chicken biriyani 's good test deliver time delivery guys name s.munirathnam polite help full one complaint 's top swiggy tape possible wise every thing good\",\n",
       " 'item spicy threw dustbin curd bit soury.can get refund',\n",
       " 'gud',\n",
       " 'remember place opening opposite college excitement visiting place many years back day still visit meghana biryanis taste like no travel distance boneless chicken biryani quite branches different parts city yes prices hiked quite bit decrease quantity',\n",
       " \"tried place recently visit btm mr. chandu generous enough serve us special biryani starters tried 5 different biryani flavours meat spices subtle bringing rice full glory masala tickled palate touch tanginess flirted senses addition uniform garnishes variant lavished aromatic whole spices clove cinnamon bay leaves another interesting fact place use firewood cook biryani highly recommend place good affordable biryani tried paneer biryani reddy 's special biryani ghonghura biryani chicken biryani chicken shorba chicken cashew fry papad chicken andhra style chicken\",\n",
       " 'pizzas good.but chefs need cleaner seen using old dirty cloth wipe kitchen table.and gross arrogant compared pizza stop outlets lots changed',\n",
       " 'favorite place since college days egg sandwich awesome combined avocado milk shake puffs good along quality cakes get generally regular bakeries',\n",
       " \"ordered food waited one hour delivery time finally food not arrived got refund restaurant number n't work n says wrong number not order restaurant\",\n",
       " 'visited thyarajangr outlet 8 june brain pepper fry much pepper nd onions wen ordered chilli chckn told naati style wen served chinese style service toooo slow beg thm rasam better options r banashankari donne biryani corner hanumantha nagar value money',\n",
       " \"surprised advertise gluten free chocolate cheesecake jar serves 2 quantity single serve 'd expect single-serve jar moreover cream cheese 've killed flavours n't taste like cheese 'm also highly suspicious gluten free tag since felt bloated eating desserts really pricey realise portions lie also ingredients may not advertised also bad delivery service called delivery guy told 'd riding around 30 mins looking place asked could n't call stared blankly hope innerchef figures fix mess\",\n",
       " 'krishna kitchen best place food .they unlimited veg thali also non-vegetarians chicken thali fish thali egg thali .the prize charging comfortable good hospitality great service',\n",
       " \"'s little expensive side almost no options vegetarians however non vegetarian friends like place except 's quite expensive place\",\n",
       " \"fast delivery ordered received within 10min home ordered idly vada 2no 's food tasty hot good delivery person polite\",\n",
       " 'average place ..nothing impressive ..the north indian curries similar masalas used south indian cuisine makes making difficult differentiate taste..',\n",
       " \"place good stalls visited dosalicious pizza dosa give totally terrible costs high better n't prefer dosalicious eat street\",\n",
       " 'not good',\n",
       " 'expensive famous gentle burgers excited taste legendary burgers first time moo cheese bacon burger one kind better smoking gun burger pulled beef meat beef tender bacon added gave yumminess staff helpful ambiance average burgers slightly overpriced seeing quantity burger felt like increased price zomato gold food 4.0/5 service 4.0/5 ambiance 3.5/5 anyhow burgerous burgers made day',\n",
       " 'eat street perfect place spend weekend family varieties food different parts india roof not forget live band sunday evening order chats papdi aloo tikki perfect start pav bhaji liked taste bhaji reminded pav bhaji mumbaichole bhature chole cooked perfectly lacked flavors still far better places bangalore.alfredo pasta- extra cheese made dish super yummy desert gulab jamoon truffles definitely insta worthy dish tasted heavenly',\n",
       " \"guys biryani n't need gravy accept curd raitha.. n't delivery hike price serve better 's say..\",\n",
       " \"ordered veg kabab platter potato mushroom cauliflower none bad n't good either quantity less cost 225. neither taste price suited\",\n",
       " 'mango milkshake water mostly apple shake den mango.. fried rice bathing oil big piece carrots please improve',\n",
       " 'old chicken served.. smells bad not recommended',\n",
       " 'ggg',\n",
       " 'itã\\x83â\\x83â\\x83ã\\x83â\\x82â\\x83ã\\x83â\\x83â\\x82ã\\x83â\\x82â\\x83ã\\x83â\\x83â\\x83ã\\x83â\\x82â\\x82ã\\x83â\\x83â\\x82ã\\x83â\\x82â\\x82ã\\x83â\\x83â\\x83ã\\x83â\\x82â\\x83ã\\x83â\\x83â\\x82ã\\x83â\\x82â\\x82ã\\x83â\\x83â\\x83ã\\x83â\\x82â\\x82ã\\x83â\\x83â\\x82ã\\x83â\\x82â\\x92s nice app itã\\x83â\\x83â\\x83ã\\x83â\\x82â\\x83ã\\x83â\\x83â\\x82ã\\x83â\\x82â\\x83ã\\x83â\\x83â\\x83ã\\x83â\\x82â\\x82ã\\x83â\\x83â\\x82ã\\x83â\\x82â\\x82ã\\x83â\\x83â\\x83ã\\x83â\\x82â\\x83ã\\x83â\\x83â\\x82ã\\x83â\\x82â\\x82ã\\x83â\\x83â\\x83ã\\x83â\\x82â\\x82ã\\x83â\\x83â\\x82ã\\x83â\\x82â\\x92s wonderful app use',\n",
       " 'zomato good delivery boy excellent perfect time delivered',\n",
       " 'ordered crunchy veg burger swiggy everything packaging taste unique commendable burger veg pakoras quite crispy promised size burger huge recommended going try variants soon',\n",
       " 'iã\\x83â\\x83â\\x83ã\\x83â\\x82â\\x83ã\\x83â\\x83â\\x82ã\\x83â\\x82â\\x82ã\\x83â\\x83â\\x83ã\\x83â\\x82â\\x82ã\\x83â\\x83â\\x82ã\\x83â\\x82â\\x92m fan asian cuisine hence cutesy place opened try service nice ambience good cute panda statue entrance panda shaped salt pepper shakers stuff found food decent not great ð\\x9f¥¡ like whole concept customising order eating china box though worth visit',\n",
       " '',\n",
       " \"wandered two friends tuesday evening immediately greeted friendly staff incredible aroma baking pizza.we ordered cold coffee cheese sandwich veg pizza peanut butter sandwich hot chocolate coffe lemon tea ambience -- 5 food -- 4.5 although way cafe narrow stairs ai n't gon na bother overall experience good\",\n",
       " 'let frank love kun fu panda ever since love panda walking koramangala saw restaurant themed panda without second thought visited restaurant ambiance name says restaurant panda-themed every element restaurant adorable panda pictures hanged wall dishes made shape panda ordered pad thai amazing tangier pad thai made spicy added chili flakes thai red curry heavenly plus point lovely panda garnishing jasmine cuteness overloaded best thai curry recent times noodle box black bean udon loved noodle box completes meal spicy side tasted amazing fudgy cookie ice cream oreo definitely show stopper overall another great place koramangala would make day great food adorable panda around',\n",
       " \"place new favourite food good specially went bubble tea tapioca become extinct places buzzing young crowd atmosphere vibrant service self nothing much abt service food quick staff friendly 's lot chinese try place back soon taste 4/5 ambiance 4/5 service 4/5 quick service food value money 4/5 overall good place hangout nice food\",\n",
       " 'ordered shawarma chicken mumbo roll mumbo biggest roll gave jumbo medium size roll charged mumbo not worth price instead get 3 regular size roll price mumbo not happy service pricing',\n",
       " 'stay far place heard lot got biryani parceled chicken biryani tastes amazing one best ever kept reputation soft rice well cooked flesh pieces good raita relish soon come check ambience mutton biryani',\n",
       " 'one near hdfc bank opp sobha mayflower apts clue small vegetable shop next visited place couple days back buy cake pieces varieties ordered german black forest pineapple cake cakes well made soft delicious best call shop order 3-4 hrs prepare fresh take away rest items cakes good happy service small shop nothing much terms ambiance sandwiches decent enough white bread available good enough overall recommended people staying around green glenn layout bellandur best keep rocking ambiance 2/5 small shop..nothing much taste 3.5.5 good enough cakes tasty value money 3/5 reasonable service 3/5 courteous professional cheers',\n",
       " \"nice place corporate staffs relax finishing hectic day work beer could ok. food also not great chicken ghee roast not actual taste nachos find much better place peach ice tea no peach taste flavour overall 's nice place group outing\",\n",
       " \"not shabby mot shabby indeed dance floor rooftop pretty cool nights 's even better 's nice place hangout friends oh 's costly like good places not much visit place could gave fun friends decide got staff barely nice also means 're not bad could better\",\n",
       " 'md tokir service really good one .. priya two guys .. served well took us food whatever like',\n",
       " \"place known biryani.heard lot place birryani fest ã\\x83â\\x83â\\x83ã\\x83â\\x82â\\x83ã\\x83â\\x83â\\x82ã\\x83â\\x82â\\x83ã\\x83â\\x83â\\x83ã\\x83â\\x82â\\x82ã\\x83â\\x83â\\x82ã\\x83â\\x82ã\\x82â°ã\\x83â\\x83â\\x83ã\\x83â\\x82â\\x83ã\\x83â\\x83â\\x82ã\\x83â\\x82â\\x82ã\\x83â\\x83â\\x83ã\\x83â\\x82â\\x82ã\\x83â\\x83â\\x82ã\\x83â\\x82â\\x9fã\\x83â\\x83â\\x83ã\\x83â\\x82â\\x83ã\\x83â\\x83â\\x82ã\\x83â\\x82â\\x82ã\\x83â\\x83â\\x83ã\\x83â\\x82â\\x82ã\\x83â\\x83â\\x82ã\\x83â\\x82â\\x98ã\\x83â\\x83â\\x83ã\\x83â\\x82â\\x83ã\\x83â\\x83â\\x82ã\\x83â\\x82â\\x82ã\\x83â\\x83â\\x83ã\\x83â\\x82â\\x82ã\\x83â\\x83â\\x82ã\\x83â\\x82â\\x80 ambience never limelight place not expected much ambience perspective plain simple seating arrangement coming food ordered 2 types biryani main course boneless chicken biryani meghna special chicken biryani along one starter chicken kabab personaly not find good expecting biryani okay starter may expectations high ã\\x83â\\x83â\\x83ã\\x83â\\x82â\\x83ã\\x83â\\x83â\\x82ã\\x83â\\x82â\\x83ã\\x83â\\x83â\\x83ã\\x83â\\x82â\\x82ã\\x83â\\x83â\\x82ã\\x83â\\x82ã\\x82â°ã\\x83â\\x83â\\x83ã\\x83â\\x82â\\x83ã\\x83â\\x83â\\x82ã\\x83â\\x82â\\x82ã\\x83â\\x83â\\x83ã\\x83â\\x82â\\x82ã\\x83â\\x83â\\x82ã\\x83â\\x82â\\x9fã\\x83â\\x83â\\x83ã\\x83â\\x82â\\x83ã\\x83â\\x83â\\x82ã\\x83â\\x82â\\x82ã\\x83â\\x83â\\x83ã\\x83â\\x82â\\x82ã\\x83â\\x83â\\x82ã\\x83â\\x82â\\x98ã\\x83â\\x83â\\x83ã\\x83â\\x82â\\x83ã\\x83â\\x83â\\x82ã\\x83â\\x82â\\x82ã\\x83â\\x83â\\x83ã\\x83â\\x82â\\x82ã\\x83â\\x83â\\x82ã\\x83â\\x82â\\x80 overall okay visit would n't recommend visit food 3/5 ambience 3/5 overall 3/5\",\n",
       " 'ok',\n",
       " 'nice place steak bangalore also vegetarian steak options isnã\\x83â\\x83â\\x83ã\\x83â\\x82â\\x83ã\\x83â\\x83â\\x82ã\\x83â\\x82â\\x82ã\\x83â\\x83â\\x83ã\\x83â\\x82â\\x82ã\\x83â\\x83â\\x82ã\\x83â\\x82â\\x92t amazing food tasty service pretty quick ambience pretty specially lights ceiling rates reasonable zomato gold membership itã\\x83â\\x83â\\x83ã\\x83â\\x82â\\x83ã\\x83â\\x83â\\x82ã\\x83â\\x82â\\x82ã\\x83â\\x83â\\x83ã\\x83â\\x82â\\x82ã\\x83â\\x83â\\x82ã\\x83â\\x82â\\x92s easy pocket give try crave steak',\n",
       " \"cute panda statue welcomes store place appealing ambience everything resembles panda entrance salt pepper containers coming food name suggests specialized noodles spagghetti south east asian cuisines n't upsetti eat spaghetti p\",\n",
       " 'biergarten lives expectation time courteous staff pay attention try accommodate little requests every single dish delight wonder make good vegetarian fare well music always uplifting afternoon beers probably serve best ipa town',\n",
       " 'place ambience lively food decent.the service quite disappointing guess overly crowed wait like hour table songs dj enthusiastic lovely',\n",
       " 'service ambience food prices winners relaxed informal atmosphere always full friday saturday nights usually busy bookings recommended',\n",
       " 'awesome delivery',\n",
       " 'friend mine went main course friend tried burger per cafes recommendation tried ã\\x83â\\x83â\\x83ã\\x83â\\x82â\\x83ã\\x83â\\x83â\\x82ã\\x83â\\x82â\\x83ã\\x83â\\x83â\\x83ã\\x83â\\x82â\\x82ã\\x83â\\x83â\\x82ã\\x83â\\x82ã\\x82â¢ã\\x83â\\x83â\\x83ã\\x83â\\x82â\\x83ã\\x83â\\x83â\\x82ã\\x83â\\x82â\\x82ã\\x83â\\x83â\\x83ã\\x83â\\x82â\\x82ã\\x83â\\x83â\\x82ã\\x83â\\x82â\\x80ã\\x83â\\x83â\\x83ã\\x83â\\x82â\\x83ã\\x83â\\x83â\\x82ã\\x83â\\x82â\\x82ã\\x83â\\x83â\\x83ã\\x83â\\x82â\\x82ã\\x83â\\x83â\\x82ã\\x83â\\x82â\\x98eurasiaã\\x83â\\x83â\\x83ã\\x83â\\x82â\\x83ã\\x83â\\x83â\\x82ã\\x83â\\x82â\\x83ã\\x83â\\x83â\\x83ã\\x83â\\x82â\\x82ã\\x83â\\x83â\\x82ã\\x83â\\x82ã\\x82â¢ã\\x83â\\x83â\\x83ã\\x83â\\x82â\\x83ã\\x83â\\x83â\\x82ã\\x83â\\x82â\\x82ã\\x83â\\x83â\\x83ã\\x83â\\x82â\\x82ã\\x83â\\x83â\\x82ã\\x83â\\x82â\\x80ã\\x83â\\x83â\\x83ã\\x83â\\x82â\\x83ã\\x83â\\x83â\\x82ã\\x83â\\x82â\\x82ã\\x83â\\x83â\\x83ã\\x83â\\x82â\\x82ã\\x83â\\x83â\\x82ã\\x83â\\x82â\\x99 mains ã\\x83â\\x83â\\x83ã\\x83â\\x82â\\x83ã\\x83â\\x83â\\x82ã\\x83â\\x82â\\x83ã\\x83â\\x83â\\x83ã\\x83â\\x82â\\x82ã\\x83â\\x83â\\x82ã\\x83â\\x82ã\\x82â¢ã\\x83â\\x83â\\x83ã\\x83â\\x82â\\x83ã\\x83â\\x83â\\x82ã\\x83â\\x82â\\x82ã\\x83â\\x83â\\x83ã\\x83â\\x82â\\x82ã\\x83â\\x83â\\x82ã\\x83â\\x82â\\x80ã\\x83â\\x83â\\x83ã\\x83â\\x82â\\x83ã\\x83â\\x83â\\x82ã\\x83â\\x82â\\x82ã\\x83â\\x83â\\x83ã\\x83â\\x82â\\x82ã\\x83â\\x83â\\x82ã\\x83â\\x82â\\x98quattro formaggiã\\x83â\\x83â\\x83ã\\x83â\\x82â\\x83ã\\x83â\\x83â\\x82ã\\x83â\\x82â\\x83ã\\x83â\\x83â\\x83ã\\x83â\\x82â\\x82ã\\x83â\\x83â\\x82ã\\x83â\\x82ã\\x82â¢ã\\x83â\\x83â\\x83ã\\x83â\\x82â\\x83ã\\x83â\\x83â\\x82ã\\x83â\\x82â\\x82ã\\x83â\\x83â\\x83ã\\x83â\\x82â\\x82ã\\x83â\\x83â\\x82ã\\x83â\\x82â\\x80ã\\x83â\\x83â\\x83ã\\x83â\\x82â\\x83ã\\x83â\\x83â\\x82ã\\x83â\\x82â\\x82ã\\x83â\\x83â\\x83ã\\x83â\\x82â\\x82ã\\x83â\\x83â\\x82ã\\x83â\\x82â\\x99 burger eurasia combination continental oriental flavours total delight touch kaffir lime sauce made even better burger hand totally different terms flavour combination 4 different kind cheese made totally heavenly definitely going',\n",
       " 'one popular beer cafes bangalore loved ambience set-up good options food apart of-course variety spirits offer good place catch friends post hard day work unwind',\n",
       " 'love energy new place packed even wed night service fairly good needed reminded pending orders times eventually come good food worth small portions cost itã\\x83â\\x83â\\x83ã\\x83â\\x82â\\x83ã\\x83â\\x83â\\x82ã\\x83â\\x82â\\x83ã\\x83â\\x83â\\x83ã\\x83â\\x82â\\x82ã\\x83â\\x83â\\x82ã\\x83â\\x82ã\\x82â¢ã\\x83â\\x83â\\x83ã\\x83â\\x82â\\x83ã\\x83â\\x83â\\x82ã\\x83â\\x82â\\x82ã\\x83â\\x83â\\x83ã\\x83â\\x82â\\x82ã\\x83â\\x83â\\x82ã\\x83â\\x82â\\x80ã\\x83â\\x83â\\x83ã\\x83â\\x82â\\x83ã\\x83â\\x83â\\x82ã\\x83â\\x82â\\x82ã\\x83â\\x83â\\x83ã\\x83â\\x82â\\x82ã\\x83â\\x83â\\x82ã\\x83â\\x82â\\x99s fair prawns batter fry fish malnad pork good masala soda good desserts really liked honey cake moist delicious',\n",
       " 'return amount worst food never seen',\n",
       " 'good interior lot thought would gone making interior fashion small place self service pretty quick food certainly average chicken wings good version flat wheat noodle good quantity',\n",
       " \"enormous number new places coming tend make friends circle try turn good bad something truffles even countless visits place never disappointed us way.. first time visiting st mark 's outlet older one experience great always ordered chicken sesame kebab prawn butter garlic couple chicken steaks butter garlic exactly wanted ai n't usual chinese kinda preparation layer batter instead get proper portion prawn cooked coastal cuisine kebabs like coveted starter namma bengaluru guys nailed preparation overall great experience grubitizer.com\",\n",
       " 'ordered biryani sheek veal kebab seriously worst biryani tasted small piece normal hotel tilak nagar serve far better fare last time ordered sharwarma meat burnt decided never order place',\n",
       " 'visited bier garten not much expectations turned service good people courteous suman specially good knowledge food offer quick suggest items exhaustive starters menu kudos team',\n",
       " \"eat street something different usual restaurant variety shops/outlets taste buds explore ambience pleasant place looks beautiful live music loud could n't hear friend talking times would nice background\",\n",
       " \"really amazing place hang hsr layout bangalore ambience equisite hotel staff courteous polite prompt quick delivering ordered 's steak alfredo penne pasta deliciously prepared pasta could better steak war excellent price bit higher side zomato gold sure help billing great food great ambience great service try restaurant\",\n",
       " 'rolls burnt throw away',\n",
       " \"'m not chat expert major chat places jeevan bhima nagar main road new favourite fairly wide menu plus nice sweets especially liked pani puri special mention dahi not sweet not watery almost perfect dahi\",\n",
       " 'place one kind food always amazing lip smacking good drinks flat noodles awesome combination favourite old school flat schezwan noodles less oily mistake zomato didnã\\x83â\\x83â\\x83ã\\x83â\\x82â\\x83ã\\x83â\\x83â\\x82ã\\x83â\\x82â\\x82ã\\x83â\\x83â\\x83ã\\x83â\\x82â\\x82ã\\x83â\\x83â\\x82ã\\x83â\\x82â\\x92t pick drinks owner came deliver drinks place cooperation worth appreciating speaks volumes customer experience got panda ring well happy experience willorderagain',\n",
       " \"sometimes south indian city like bangalore good south indian food n't always easy come especially ecity good south indian food monopoly dingy shacks dotted around locality varenyam fills gap beautiful classy place food simple clean privilege trying dosas tried ghee roast egg dosa chicken dosa equally good everything tasted fresh simple chicken chilly andhra style also amazing prices good want good clean food beautiful decor service excellent non-intrusive good friday lunch cant wait take family\",\n",
       " \"heard lot place paid visit today.place huge well decorated.we pretty hungry ate lot foood firstly golf club cauliflower-it tangy spicy time liked paneer pepper crust-basically malai paneer less milder tasted pretty good coffee estate mushroom masala-it yummy felt homely paal katti ghee roast-this dish n't expectation friend loved malabar parota ceylon parota-both tasted yummy mysorepak meringue hill-almost bland mysorepak meringue top blandness sweetness meringue made good melody n't overpower filter coffee cheesecake-with rose cookie 's bed almost mousse like consistency coffee tasted good masala soda-tasted good like ones get local juice shops pricing pocket friendly food served apt money also tastes homely service also good\",\n",
       " 'nice',\n",
       " 'paid 400 got pizza not even enough 1 person',\n",
       " 'place given day best dishes try one finest brew houses food excellent comes hot table friendly staff takes care way one needs either carry mosquito repellent ask repellent coil placed table days brew get quickly think need plan well brew lasts till place closed night music good check special events might catch good gig place',\n",
       " 'taste less',\n",
       " \"wanting eat noodles look no noodle panda one new restaurants come recent times koramangala already made niche noodles absolutely delicious services fast decor nice airy noodle box show creative side choosing type noodles wan na eat great place go-to place place wo n't regret go anytime day\",\n",
       " 'loved way packing parcel food also good ordered chicken biryani butter chicken rice bowl dishes awesome quality taste',\n",
       " 'nice food',\n",
       " \"no salt biryani regret order restaurant please educate add salt.. 'm not going order anymore\",\n",
       " 'worst pasta..i eaten entire life..going throw dust bin..completely wastage money',\n",
       " 'best biryani',\n",
       " 'truffles known burgers italian food find alway crowdy like ant sugar ever burger truffles never like burger anywhere else ambience filling chilling smell italian food decent plan date friendly meetings american cheese burger popular veg burger find many juicing variants non veg peri peri chicken chicken kabab crispy chicken burger chips sausage coke/mojito best combination would suggest place quick grabs date work break lunch time place rushy wont feel sit longer ratings ambience food staff parking price',\n",
       " 'great place hangout.. food amazing try tandoori chicken mustard laccha onion galouti ka baap puliyogare arrancini coconut chutney lip smacking great staff.. problem dance floor end.. complete different room together',\n",
       " \"great place excellent food awesome company u n't tried place yet u really missing great great great food rice person stuck chicken skewers saffron rice sooooooo good straight burger blue cheese sister ordered kaput less minuteã\\x83â\\x83â\\x83ã\\x83â\\x82â\\x83ã\\x83â\\x83â\\x82ã\\x83â\\x82â\\x83ã\\x83â\\x83â\\x83ã\\x83â\\x82â\\x82ã\\x83â\\x83â\\x82ã\\x83â\\x82ã\\x82â°ã\\x83â\\x83â\\x83ã\\x83â\\x82â\\x83ã\\x83â\\x83â\\x82ã\\x83â\\x82â\\x82ã\\x83â\\x83â\\x83ã\\x83â\\x82â\\x82ã\\x83â\\x83â\\x82ã\\x83â\\x82â\\x9fã\\x83â\\x83â\\x83ã\\x83â\\x82â\\x83ã\\x83â\\x83â\\x82ã\\x83â\\x82â\\x82ã\\x83â\\x83â\\x83ã\\x83â\\x82â\\x82ã\\x83â\\x83â\\x82ã\\x83â\\x82â\\x98ã\\x83â\\x83â\\x83ã\\x83â\\x82â\\x83ã\\x83â\\x83â\\x82ã\\x83â\\x82â\\x82ã\\x83â\\x83â\\x83ã\\x83â\\x82â\\x82ã\\x83â\\x83â\\x82ã\\x83â\\x82â\\x82ã\\x83â\\x83â\\x83ã\\x83â\\x82â\\x83ã\\x83â\\x83â\\x82ã\\x83â\\x82â\\x83ã\\x83â\\x83â\\x83ã\\x83â\\x82â\\x82ã\\x83â\\x83â\\x82ã\\x83â\\x82ã\\x82â°ã\\x83â\\x83â\\x83ã\\x83â\\x82â\\x83ã\\x83â\\x83â\\x82ã\\x83â\\x82â\\x82ã\\x83â\\x83â\\x83ã\\x83â\\x82â\\x82ã\\x83â\\x83â\\x82ã\\x83â\\x82â\\x9fã\\x83â\\x83â\\x83ã\\x83â\\x82â\\x83ã\\x83â\\x83â\\x82ã\\x83â\\x82â\\x82ã\\x83â\\x83â\\x83ã\\x83â\\x82â\\x82ã\\x83â\\x83â\\x82ã\\x83â\\x82â\\x98ã\\x83â\\x83â\\x83ã\\x83â\\x82â\\x83ã\\x83â\\x83â\\x82ã\\x83â\\x82â\\x82ã\\x83â\\x83â\\x83ã\\x83â\\x82â\\x82ã\\x83â\\x83â\\x82ã\\x83â\\x82â\\x82 thank u thebundlecoblr u awesome ã\\x83â\\x83â\\x83ã\\x83â\\x82â\\x83ã\\x83â\\x83â\\x82ã\\x83â\\x82â\\x83ã\\x83â\\x83â\\x83ã\\x83â\\x82â\\x82ã\\x83â\\x83â\\x82ã\\x83â\\x82ã\\x82â°ã\\x83â\\x83â\\x83ã\\x83â\\x82â\\x83ã\\x83â\\x83â\\x82ã\\x83â\\x82â\\x82ã\\x83â\\x83â\\x83ã\\x83â\\x82â\\x82ã\\x83â\\x83â\\x82ã\\x83â\\x82â\\x9fã\\x83â\\x83â\\x83ã\\x83â\\x82â\\x83ã\\x83â\\x83â\\x82ã\\x83â\\x82â\\x82ã\\x83â\\x83â\\x83ã\\x83â\\x82â\\x82ã\\x83â\\x83â\\x82ã\\x83â\\x82â\\x92ã\\x83â\\x83â\\x83ã\\x83â\\x82â\\x83ã\\x83â\\x83â\\x82ã\\x83â\\x82â\\x82ã\\x83â\\x83â\\x83ã\\x83â\\x82â\\x82ã\\x83â\\x83â\\x82ã\\x83â\\x82â\\x95ã\\x83â\\x83â\\x83ã\\x83â\\x82â\\x83ã\\x83â\\x83â\\x82ã\\x83â\\x82â\\x83ã\\x83â\\x83â\\x83ã\\x83â\\x82â\\x82ã\\x83â\\x83â\\x82ã\\x83â\\x82ã\\x82â°ã\\x83â\\x83â\\x83ã\\x83â\\x82â\\x83ã\\x83â\\x83â\\x82ã\\x83â\\x82â\\x82ã\\x83â\\x83â\\x83ã\\x83â\\x82â\\x82ã\\x83â\\x83â\\x82ã\\x83â\\x82â\\x9fã\\x83â\\x83â\\x83ã\\x83â\\x82â\\x83ã\\x83â\\x83â\\x82ã\\x83â\\x82â\\x82ã\\x83â\\x83â\\x83ã\\x83â\\x82â\\x82ã\\x83â\\x83â\\x82ã\\x83â\\x82â\\x92ã\\x83â\\x83â\\x83ã\\x83â\\x82â\\x83ã\\x83â\\x83â\\x82ã\\x83â\\x82â\\x82ã\\x83â\\x83â\\x83ã\\x83â\\x82â\\x82ã\\x83â\\x83â\\x82ã\\x83â\\x82â\\x95ã\\x83â\\x83â\\x83ã\\x83â\\x82â\\x83ã\\x83â\\x83â\\x82ã\\x83â\\x82â\\x83ã\\x83â\\x83â\\x83ã\\x83â\\x82â\\x82ã\\x83â\\x83â\\x82ã\\x83â\\x82ã\\x82â°ã\\x83â\\x83â\\x83ã\\x83â\\x82â\\x83ã\\x83â\\x83â\\x82ã\\x83â\\x82â\\x82ã\\x83â\\x83â\\x83ã\\x83â\\x82â\\x82ã\\x83â\\x83â\\x82ã\\x83â\\x82â\\x9fã\\x83â\\x83â\\x83ã\\x83â\\x82â\\x83ã\\x83â\\x83â\\x82ã\\x83â\\x82â\\x82ã\\x83â\\x83â\\x83ã\\x83â\\x82â\\x82ã\\x83â\\x83â\\x82ã\\x83â\\x82â\\x92ã\\x83â\\x83â\\x83ã\\x83â\\x82â\\x83ã\\x83â\\x83â\\x82ã\\x83â\\x82â\\x82ã\\x83â\\x83â\\x83ã\\x83â\\x82â\\x82ã\\x83â\\x83â\\x82ã\\x83â\\x82â\\x95ã\\x83â\\x83â\\x83ã\\x83â\\x82â\\x83ã\\x83â\\x83â\\x82ã\\x83â\\x82â\\x83ã\\x83â\\x83â\\x83ã\\x83â\\x82â\\x82ã\\x83â\\x83â\\x82ã\\x83â\\x82ã\\x82â°ã\\x83â\\x83â\\x83ã\\x83â\\x82â\\x83ã\\x83â\\x83â\\x82ã\\x83â\\x82â\\x82ã\\x83â\\x83â\\x83ã\\x83â\\x82â\\x82ã\\x83â\\x83â\\x82ã\\x83â\\x82â\\x9fã\\x83â\\x83â\\x83ã\\x83â\\x82â\\x83ã\\x83â\\x83â\\x82ã\\x83â\\x82â\\x82ã\\x83â\\x83â\\x83ã\\x83â\\x82â\\x82ã\\x83â\\x83â\\x82ã\\x83â\\x82â\\x92ã\\x83â\\x83â\\x83ã\\x83â\\x82â\\x83ã\\x83â\\x83â\\x82ã\\x83â\\x82â\\x82ã\\x83â\\x83â\\x83ã\\x83â\\x82â\\x82ã\\x83â\\x83â\\x82ã\\x83â\\x82â\\x95 food surpasses expectations ã\\x83â\\x83â\\x83ã\\x83â\\x82â\\x83ã\\x83â\\x83â\\x82ã\\x83â\\x82â\\x83ã\\x83â\\x83â\\x83ã\\x83â\\x82â\\x82ã\\x83â\\x83â\\x82ã\\x83â\\x82ã\\x82â°ã\\x83â\\x83â\\x83ã\\x83â\\x82â\\x83ã\\x83â\\x83â\\x82ã\\x83â\\x82â\\x82ã\\x83â\\x83â\\x83ã\\x83â\\x82â\\x82ã\\x83â\\x83â\\x82ã\\x83â\\x82â\\x9fã\\x83â\\x83â\\x83ã\\x83â\\x82â\\x83ã\\x83â\\x83â\\x82ã\\x83â\\x82â\\x82ã\\x83â\\x83â\\x83ã\\x83â\\x82â\\x82ã\\x83â\\x83â\\x82ã\\x83â\\x82â\\x98ã\\x83â\\x83â\\x83ã\\x83â\\x82â\\x83ã\\x83â\\x83â\\x82ã\\x83â\\x82â\\x82ã\\x83â\\x83â\\x83ã\\x83â\\x82â\\x82ã\\x83â\\x83â\\x82ã\\x83â\\x82â\\x8dã\\x83â\\x83â\\x83ã\\x83â\\x82â\\x83ã\\x83â\\x83â\\x82ã\\x83â\\x82â\\x83ã\\x83â\\x83â\\x83ã\\x83â\\x82â\\x82ã\\x83â\\x83â\\x82ã\\x83â\\x82ã\\x82â°ã\\x83â\\x83â\\x83ã\\x83â\\x82â\\x83ã\\x83â\\x83â\\x82ã\\x83â\\x82â\\x82ã\\x83â\\x83â\\x83ã\\x83â\\x82â\\x82ã\\x83â\\x83â\\x82ã\\x83â\\x82â\\x9fã\\x83â\\x83â\\x83ã\\x83â\\x82â\\x83ã\\x83â\\x83â\\x82ã\\x83â\\x82â\\x82ã\\x83â\\x83â\\x83ã\\x83â\\x82â\\x82ã\\x83â\\x83â\\x82ã\\x83â\\x82â\\x98ã\\x83â\\x83â\\x83ã\\x83â\\x82â\\x83ã\\x83â\\x83â\\x82ã\\x83â\\x82â\\x82ã\\x83â\\x83â\\x83ã\\x83â\\x82â\\x82ã\\x83â\\x83â\\x82ã\\x83â\\x82â\\x8dã\\x83â\\x83â\\x83ã\\x83â\\x82â\\x83ã\\x83â\\x83â\\x82ã\\x83â\\x82â\\x83ã\\x83â\\x83â\\x83ã\\x83â\\x82â\\x82ã\\x83â\\x83â\\x82ã\\x83â\\x82ã\\x82â°ã\\x83â\\x83â\\x83ã\\x83â\\x82â\\x83ã\\x83â\\x83â\\x82ã\\x83â\\x82â\\x82ã\\x83â\\x83â\\x83ã\\x83â\\x82â\\x82ã\\x83â\\x83â\\x82ã\\x83â\\x82â\\x9fã\\x83â\\x83â\\x83ã\\x83â\\x82â\\x83ã\\x83â\\x83â\\x82ã\\x83â\\x82â\\x82ã\\x83â\\x83â\\x83ã\\x83â\\x82â\\x82ã\\x83â\\x83â\\x82ã\\x83â\\x82â\\x98ã\\x83â\\x83â\\x83ã\\x83â\\x82â\\x83ã\\x83â\\x83â\\x82ã\\x83â\\x82â\\x82ã\\x83â\\x83â\\x83ã\\x83â\\x82â\\x82ã\\x83â\\x83â\\x82ã\\x83â\\x82â\\x8d\",\n",
       " 'not good',\n",
       " 'nice spicy',\n",
       " \"bad food ca n't eat food waste money\",\n",
       " \"restaurant one friend already late 3.15pm precise unfortunately no biryani available time wait around 20 mins get biryani ã\\x83â\\x83â\\x83ã\\x83â\\x82â\\x83ã\\x83â\\x83â\\x82ã\\x83â\\x82â\\x83ã\\x83â\\x83â\\x83ã\\x83â\\x82â\\x82ã\\x83â\\x83â\\x82ã\\x83â\\x82ã\\x82â°ã\\x83â\\x83â\\x83ã\\x83â\\x82â\\x83ã\\x83â\\x83â\\x82ã\\x83â\\x82â\\x82ã\\x83â\\x83â\\x83ã\\x83â\\x82â\\x82ã\\x83â\\x83â\\x82ã\\x83â\\x82â\\x9fã\\x83â\\x83â\\x83ã\\x83â\\x82â\\x83ã\\x83â\\x83â\\x82ã\\x83â\\x82â\\x82ã\\x83â\\x83â\\x83ã\\x83â\\x82â\\x82ã\\x83â\\x83â\\x82ã\\x83â\\x82â\\x87ã\\x83â\\x83â\\x83ã\\x83â\\x82â\\x83ã\\x83â\\x83â\\x82ã\\x83â\\x82â\\x82ã\\x83â\\x83â\\x83ã\\x83â\\x82â\\x82ã\\x83â\\x83â\\x82ã\\x83â\\x82ã\\x82â¦ ambience restaurant poor seating options available ã\\x83â\\x83â\\x83ã\\x83â\\x82â\\x83ã\\x83â\\x83â\\x82ã\\x83â\\x82â\\x83ã\\x83â\\x83â\\x83ã\\x83â\\x82â\\x82ã\\x83â\\x83â\\x82ã\\x83â\\x82ã\\x82â°ã\\x83â\\x83â\\x83ã\\x83â\\x82â\\x83ã\\x83â\\x83â\\x82ã\\x83â\\x82â\\x82ã\\x83â\\x83â\\x83ã\\x83â\\x82â\\x82ã\\x83â\\x83â\\x82ã\\x83â\\x82â\\x9fã\\x83â\\x83â\\x83ã\\x83â\\x82â\\x83ã\\x83â\\x83â\\x82ã\\x83â\\x82â\\x82ã\\x83â\\x83â\\x83ã\\x83â\\x82â\\x82ã\\x83â\\x83â\\x82ã\\x83â\\x82â\\x87ã\\x83â\\x83â\\x83ã\\x83â\\x82â\\x83ã\\x83â\\x83â\\x82ã\\x83â\\x82â\\x82ã\\x83â\\x83â\\x83ã\\x83â\\x82â\\x82ã\\x83â\\x83â\\x82ã\\x83â\\x82ã\\x82â¸ service pretty average well need call somebody hotel clean table us ã\\x83â\\x83â\\x83ã\\x83â\\x82â\\x83ã\\x83â\\x83â\\x82ã\\x83â\\x82â\\x83ã\\x83â\\x83â\\x83ã\\x83â\\x82â\\x82ã\\x83â\\x83â\\x82ã\\x83â\\x82ã\\x82â°ã\\x83â\\x83â\\x83ã\\x83â\\x82â\\x83ã\\x83â\\x83â\\x82ã\\x83â\\x82â\\x82ã\\x83â\\x83â\\x83ã\\x83â\\x82â\\x82ã\\x83â\\x83â\\x82ã\\x83â\\x82â\\x9fã\\x83â\\x83â\\x83ã\\x83â\\x82â\\x83ã\\x83â\\x83â\\x82ã\\x83â\\x82â\\x82ã\\x83â\\x83â\\x83ã\\x83â\\x82â\\x82ã\\x83â\\x83â\\x82ã\\x83â\\x82â\\x87ã\\x83â\\x83â\\x83ã\\x83â\\x82â\\x83ã\\x83â\\x83â\\x82ã\\x83â\\x82â\\x82ã\\x83â\\x83â\\x83ã\\x83â\\x82â\\x82ã\\x83â\\x83â\\x82ã\\x83â\\x82ã\\x82â « ã\\x83â\\x83â\\x83ã\\x83â\\x82â\\x83ã\\x83â\\x83â\\x82ã\\x83â\\x82â\\x83ã\\x83â\\x83â\\x83ã\\x83â\\x82â\\x82ã\\x83â\\x83â\\x82ã\\x83â\\x82ã\\x82â°ã\\x83â\\x83â\\x83ã\\x83â\\x82â\\x83ã\\x83â\\x83â\\x82ã\\x83â\\x82â\\x82ã\\x83â\\x83â\\x83ã\\x83â\\x82â\\x82ã\\x83â\\x83â\\x82ã\\x83â\\x82â\\x9fã\\x83â\\x83â\\x83ã\\x83â\\x82â\\x83ã\\x83â\\x83â\\x82ã\\x83â\\x82â\\x82ã\\x83â\\x83â\\x83ã\\x83â\\x82â\\x82ã\\x83â\\x83â\\x82ã\\x83â\\x82â\\x8dã\\x83â\\x83â\\x83ã\\x83â\\x82â\\x83ã\\x83â\\x83â\\x82ã\\x83â\\x82â\\x82ã\\x83â\\x83â\\x83ã\\x83â\\x82â\\x82ã\\x83â\\x83â\\x82ã\\x83â\\x82ã\\x82â½ã\\x83â\\x83â\\x83ã\\x83â\\x82â\\x83ã\\x83â\\x83â\\x82ã\\x83â\\x82â\\x83ã\\x83â\\x83â\\x83ã\\x83â\\x82â\\x82ã\\x83â\\x83â\\x82ã\\x83â\\x82ã\\x82â¯ã\\x83â\\x83â\\x83ã\\x83â\\x82â\\x83ã\\x83â\\x83â\\x82ã\\x83â\\x82â\\x82ã\\x83â\\x83â\\x83ã\\x83â\\x82â\\x82ã\\x83â\\x83â\\x82ã\\x83â\\x82ã\\x82â¸ã\\x83â\\x83â\\x83ã\\x83â\\x82â\\x83ã\\x83â\\x83â\\x82ã\\x83â\\x82â\\x82ã\\x83â\\x83â\\x83ã\\x83â\\x82â\\x82ã\\x83â\\x83â\\x82ã\\x83â\\x82â\\x8fwhat ate ã\\x83â\\x83â\\x83ã\\x83â\\x82â\\x83ã\\x83â\\x83â\\x82ã\\x83â\\x82â\\x83ã\\x83â\\x83â\\x83ã\\x83â\\x82â\\x82ã\\x83â\\x83â\\x82ã\\x83â\\x82ã\\x82â°ã\\x83â\\x83â\\x83ã\\x83â\\x82â\\x83ã\\x83â\\x83â\\x82ã\\x83â\\x82â\\x82ã\\x83â\\x83â\\x83ã\\x83â\\x82â\\x82ã\\x83â\\x83â\\x82ã\\x83â\\x82â\\x9fã\\x83â\\x83â\\x83ã\\x83â\\x82â\\x83ã\\x83â\\x83â\\x82ã\\x83â\\x82â\\x82ã\\x83â\\x83â\\x83ã\\x83â\\x82â\\x82ã\\x83â\\x83â\\x82ã\\x83â\\x82â\\x8dã\\x83â\\x83â\\x83ã\\x83â\\x82â\\x83ã\\x83â\\x83â\\x82ã\\x83â\\x82â\\x82ã\\x83â\\x83â\\x83ã\\x83â\\x82â\\x82ã\\x83â\\x83â\\x82ã\\x83â\\x82ã\\x82â´ chicken biryani ã\\x83â\\x83â\\x83ã\\x83â\\x82â\\x83ã\\x83â\\x83â\\x82ã\\x83â\\x82â\\x83ã\\x83â\\x83â\\x83ã\\x83â\\x82â\\x82ã\\x83â\\x83â\\x82ã\\x83â\\x82ã\\x82â¢ã\\x83â\\x83â\\x83ã\\x83â\\x82â\\x83ã\\x83â\\x83â\\x82ã\\x83â\\x82â\\x82ã\\x83â\\x83â\\x83ã\\x83â\\x82â\\x82ã\\x83â\\x83â\\x82ã\\x83â\\x82â\\x9eã\\x83â\\x83â\\x83ã\\x83â\\x82â\\x83ã\\x83â\\x83â\\x82ã\\x83â\\x82â\\x82ã\\x83â\\x83â\\x83ã\\x83â\\x82â\\x82ã\\x83â\\x83â\\x82ã\\x83â\\x82ã\\x82â¡ã\\x83â\\x83â\\x83ã\\x83â\\x82â\\x83ã\\x83â\\x83â\\x82ã\\x83â\\x82â\\x83ã\\x83â\\x83â\\x83ã\\x83â\\x82â\\x82ã\\x83â\\x83â\\x82ã\\x83â\\x82ã\\x82â¯ã\\x83â\\x83â\\x83ã\\x83â\\x82â\\x83ã\\x83â\\x83â\\x82ã\\x83â\\x82â\\x82ã\\x83â\\x83â\\x83ã\\x83â\\x82â\\x82ã\\x83â\\x83â\\x82ã\\x83â\\x82ã\\x82â¸ã\\x83â\\x83â\\x83ã\\x83â\\x82â\\x83ã\\x83â\\x83â\\x82ã\\x83â\\x82â\\x82ã\\x83â\\x83â\\x83ã\\x83â\\x82â\\x82ã\\x83â\\x83â\\x82ã\\x83â\\x82â\\x8f chicken biryani n't great like khuska cooked chicken pieces ã\\x83â\\x83â\\x83ã\\x83â\\x82â\\x83ã\\x83â\\x83â\\x82ã\\x83â\\x82â\\x83ã\\x83â\\x83â\\x83ã\\x83â\\x82â\\x82ã\\x83â\\x83â\\x82ã\\x83â\\x82ã\\x82â°ã\\x83â\\x83â\\x83ã\\x83â\\x82â\\x83ã\\x83â\\x83â\\x82ã\\x83â\\x82â\\x82ã\\x83â\\x83â\\x83ã\\x83â\\x82â\\x82ã\\x83â\\x83â\\x82ã\\x83â\\x82â\\x9fã\\x83â\\x83â\\x83ã\\x83â\\x82â\\x83ã\\x83â\\x83â\\x82ã\\x83â\\x82â\\x82ã\\x83â\\x83â\\x83ã\\x83â\\x82â\\x82ã\\x83â\\x83â\\x82ã\\x83â\\x82â\\x8dã\\x83â\\x83â\\x83ã\\x83â\\x82â\\x83ã\\x83â\\x83â\\x82ã\\x83â\\x82â\\x82ã\\x83â\\x83â\\x83ã\\x83â\\x82â\\x82ã\\x83â\\x83â\\x82ã\\x83â\\x82ã\\x82â´ chicken kabab ã\\x83â\\x83â\\x83ã\\x83â\\x82â\\x83ã\\x83â\\x83â\\x82ã\\x83â\\x82â\\x83ã\\x83â\\x83â\\x83ã\\x83â\\x82â\\x82ã\\x83â\\x83â\\x82ã\\x83â\\x82ã\\x82â¢ã\\x83â\\x83â\\x83ã\\x83â\\x82â\\x83ã\\x83â\\x83â\\x82ã\\x83â\\x82â\\x82ã\\x83â\\x83â\\x83ã\\x83â\\x82â\\x82ã\\x83â\\x83â\\x82ã\\x83â\\x82â\\x9eã\\x83â\\x83â\\x83ã\\x83â\\x82â\\x83ã\\x83â\\x83â\\x82ã\\x83â\\x82â\\x82ã\\x83â\\x83â\\x83ã\\x83â\\x82â\\x82ã\\x83â\\x83â\\x82ã\\x83â\\x82ã\\x82â¡ã\\x83â\\x83â\\x83ã\\x83â\\x82â\\x83ã\\x83â\\x83â\\x82ã\\x83â\\x82â\\x83ã\\x83â\\x83â\\x83ã\\x83â\\x82â\\x82ã\\x83â\\x83â\\x82ã\\x83â\\x82ã\\x82â¯ã\\x83â\\x83â\\x83ã\\x83â\\x82â\\x83ã\\x83â\\x83â\\x82ã\\x83â\\x82â\\x82ã\\x83â\\x83â\\x83ã\\x83â\\x82â\\x82ã\\x83â\\x83â\\x82ã\\x83â\\x82ã\\x82â¸ã\\x83â\\x83â\\x83ã\\x83â\\x82â\\x83ã\\x83â\\x83â\\x82ã\\x83â\\x82â\\x82ã\\x83â\\x83â\\x83ã\\x83â\\x82â\\x82ã\\x83â\\x83â\\x82ã\\x83â\\x82â\\x8f chicken kabab average no much significant either waiting 10mins biryani pretty disappointed hotel management aspects\",\n",
       " 'lots options starter evrything bland tasteless no taste main course like cheese cake dessert nothing else taste not good point options not think hit',\n",
       " 'time ago bring biriny family pack think not biriny like cow feed think cow feed good biriny stop supply tipe food pay dont take free cost onner restudant please chek food otherwise restudant close soon think west money',\n",
       " 'one best place 100ft road went place friends nice ambience food beverage pocket friendly.. tried many food keema dosa egg roast really good.. nice comfortable sitting service-friendly efficient',\n",
       " 'good',\n",
       " 'biergarten great place brewery great starters accompany beer well ambience nice staff courteous ordered prawns wrapped bacon pepper chicken nachos chicken pizza taste really good go group friends great experience',\n",
       " \"situated bang opposite sagar hospital tilaknagar place single floor darshini kind restaurant 's self service restaurant stand eat option place usually flooded hospital visitors food average.prices reasonable\",\n",
       " 'steak steak steak perfectly cooked timed seared steak wide variety succulent variations various combinations steak burgers well always goto place craving steaks',\n",
       " 'wanted try new place indiranagar location legendary 100ft boutique restaurant used located place bobã\\x83â\\x83â\\x83ã\\x83â\\x82â\\x83ã\\x83â\\x83â\\x82ã\\x83â\\x82â\\x83ã\\x83â\\x83â\\x83ã\\x83â\\x82â\\x82ã\\x83â\\x83â\\x82ã\\x83â\\x82ã\\x82â¢ã\\x83â\\x83â\\x83ã\\x83â\\x82â\\x83ã\\x83â\\x83â\\x82ã\\x83â\\x82â\\x82ã\\x83â\\x83â\\x83ã\\x83â\\x82â\\x82ã\\x83â\\x83â\\x82ã\\x83â\\x82â\\x80ã\\x83â\\x83â\\x83ã\\x83â\\x82â\\x83ã\\x83â\\x83â\\x82ã\\x83â\\x82â\\x82ã\\x83â\\x83â\\x83ã\\x83â\\x82â\\x82ã\\x83â\\x83â\\x82ã\\x83â\\x82â\\x99s bar absolutely packed food- ordered pork chilly bapat small succulent cubes pork marinated red chilly paste spices melts mouth karavali chicken green color mild spicy felt chicken little chewy akki roti small portion though ceylon parata colorful rice papas fries go well drinks place old bangalore feel comes food ambience- place packed big families college reunions sorts customer service- customer service slow stewards looked pretty hassled value money- decent',\n",
       " 'food 4/5 price 4/5 ambeince 4/5 service 4/5 meghana chicken biryani never disappoint perfect combination taste aroma perfectly cooked meat rice taste wise taste amazing service ok think place bit overcrowded times defenatley recommended biryani lovers',\n",
       " 'food less spicy',\n",
       " 'rare find place spend good time family besties place keep top list anytime place find service service not business food.. undoubtedly delicious',\n",
       " 'sad tasteless food chapati not cooked gravy tasteless not worth',\n",
       " 'good value money',\n",
       " 'location restaurant convenient easy spot food alright ordered fish steak beef steak fish better beef dishes came good portion mashed potatoes creamy delicious fragrant rice sautã\\x83â\\x83â\\x83ã\\x83â\\x82â\\x83ã\\x83â\\x83â\\x82ã\\x83â\\x82â\\x83ã\\x83â\\x83â\\x83ã\\x83â\\x82â\\x82ã\\x83â\\x83â\\x82ã\\x83â\\x82ã\\x82â©ed veggies overall would rate fish mark go 4/5 beef steakalypse 3/5 worth try',\n",
       " 'craving sizzler steak right place visit went lunch ordered pepper trial basically grilled chicken garlic pepper sauce sin fire chicken steak hot paprika sauce served rice vegetables mashed potatoes food great ambience also awesome staffs attentive service best',\n",
       " 'ggg',\n",
       " 'orderd two prawn dish stock replaced top capsicum onion little fish/prawn',\n",
       " 'late',\n",
       " 'wanted try fiery ghost wings keema pav bandar special chai none available ended ordering kolaveri di chicken ghee roast burger kolavari di good ghee roast awesome bit salty though served potato chips eggless mayo perfect adrak chai masala chai good priced well',\n",
       " 'extremely happy order food also good tasty',\n",
       " 'good',\n",
       " \"last sunday staff courteous 's food menu almost no vegan options neither buffet odour fish nauseating times chef tried make dishes specially menu although appreciate options kitchen not basic things like vegan cheese not going back discourage friends well introduce vegan options choose bad choice part enter\",\n",
       " 'good interior lot thought would gone making interior fashion small place self service pretty quick food certainly average chicken wings good version flat wheat noodle good quantity',\n",
       " 'food amazing staff service really good especially naveen u really try biergarten sausages pork rib u r non vegetarian also music good however add extra service charge gst quite not appreciable ambience great u visit saturday usually live band performance',\n",
       " 'surprisingly nice looking place located coffee day pizza hut ec place serves dosas snack items apart andhra style cuisine items tried chicken kheema dosa well dosa andhra chicken curry yummy mutton kheema would way better service good nice see owner/manager personally paying attention customers attending requests first visit able try dosas definitly back try stuff update review findings',\n",
       " '31st december dinner..the place crowded still managed get table ordered fish chicken platters mocktails..the platters tasted good quantity less per price dishes..mocktails not great..due rush staffs quite busy attend table still trying best..appreciate that..the place dim lit overall ambiance good..can try',\n",
       " \"live music biergarten way expectations honestly felt like 'm sitting satsang big time disappointment food good\",\n",
       " 'much salt chicken curry',\n",
       " 'food 4.5/5 ambience -4/5 service 4.5/5 hygiene 4/5 value money 5/5 tried aglio olio good type spaghetti pasta simple yet delicious pasta try crunchy cajun burger crispy chicken patty seasoned classic louisiana style cajun spices garlic aioli banana nutella shake pretty awesome osm place hang frnds .. get nice food great ambiance .. love something different spicy visit bundle co. staff friendly also make changes dish per convenience holds good worth money sure try recommend try bundle co. not disappointed',\n",
       " \"saw hype zomato led place ambience perfectly made gives feel standalone restaurant event though located mall staff polite offer us table choice concept much similar nandos n't take much time us place order ordered chicken espetada 1/2 grilled chicken peri peri fries coleslaw espetada recommended among felt complete lack taste chicken grilled chicken well balanced spice texture sides pretty good say would definitely balance taste heat getting offered chocolate brownie ice cream complimentary dish dessert good brownie well made reason photos not uploaded\",\n",
       " 'perfect weekend lunch went little early seated immediately despite going early tables occupied shows popularity restaurant ordered chicken cheese onion rings mind blowing even sauce accompaniment subtle taste main course beef mince burger jack danielã\\x83â\\x83â\\x83ã\\x83â\\x82â\\x83ã\\x83â\\x83â\\x82ã\\x83â\\x82â\\x82ã\\x83â\\x83â\\x83ã\\x83â\\x82â\\x82ã\\x83â\\x83â\\x82ã\\x83â\\x82â\\x92s sauce burger succulent moist bun soft kid ordered chicken mince burger without sauce tasted good kid fussy eater loved burger also ordered django unsteaked steak asked medium rare cooked right pepper sauce really good asked extra helping owner takes particular interest recommends right dishes like said wonderful weekend lunch drawback need hunt neighbourhood parking spot takes time',\n",
       " \"really liked whole concept idea eat street systematic guess one best saturdays friends mainly live music variety food outlets really scrumptious food except maharashtrian food outlet personally maharashtra really glad find kolhapuri food outlet eat street turned n't taste even bit like maharashtrian food wo n't trying next time food outlets really good\",\n",
       " 'restaurant recently place quote not much crowd craving good north indian food long time moved hyd banglore place doesnã\\x83â\\x83â\\x83ã\\x83â\\x82â\\x83ã\\x83â\\x83â\\x82ã\\x83â\\x82â\\x83ã\\x83â\\x83â\\x83ã\\x83â\\x82â\\x82ã\\x83â\\x83â\\x82ã\\x83â\\x82ã\\x82â¢ã\\x83â\\x83â\\x83ã\\x83â\\x82â\\x83ã\\x83â\\x83â\\x82ã\\x83â\\x82â\\x82ã\\x83â\\x83â\\x83ã\\x83â\\x82â\\x82ã\\x83â\\x83â\\x82ã\\x83â\\x82â\\x80ã\\x83â\\x83â\\x83ã\\x83â\\x82â\\x83ã\\x83â\\x83â\\x82ã\\x83â\\x82â\\x82ã\\x83â\\x83â\\x83ã\\x83â\\x82â\\x82ã\\x83â\\x83â\\x82ã\\x83â\\x82â\\x99t disappoint quality food served awesome tried paneer kadai garlic naan bindi masala liked mint chutney small onion serve starters good place definitely visit',\n",
       " 'taste good',\n",
       " 'synonym sweets authentic chats snacks always delighted food offered regular visitor quality offered little expensive side',\n",
       " \"came hearing lot rave reviews place warned 's crowded hell days week suggested time lunch unless want stand around pretty cheap liquor food ambience one n't disappoint food pretty local tasty not world ordered sundal chicken kebabs chicken ghee roast egg red roast ceylon parota malabar parota chicken curry chicken sukka tomato gojju obviously get 4-5 rounds drinks well 3 us food n't disappoint say least service slow purely magnitude orders evident however overall satisfied food lacks little salt taste pretty spot visit sure would go-to adda not necessarily cheers\",\n",
       " 'items quantity lesser expected visited hotel previously many times found zomato experience poor not worth price taste maintained quantity lesser usual matched discounted rate making okay experience',\n",
       " \"one best place eat breakfast masala dosa idli awesome onion dosa pretty good mangalore buns good side dish option lunch thali really good try dal khichdi u surely come back dinner chana batura roti dal really delicious papdi chat also awesome guess 's really economical\",\n",
       " 'delivery time',\n",
       " 'foodie party person explore places areas near house place 2-3 months back liked ambiance lot gives colourful vibrant feel one thing lacks liveliness good crowd large group ordered lot food drinks seems little average feel place food',\n",
       " \"good food good ambiance live music could 've better no biggie items ordered pizza diavola con pollo ã\\x83â\\x83â\\x83ã\\x83â\\x82â\\x83ã\\x83â\\x83â\\x82ã\\x83â\\x82â\\x83ã\\x83â\\x83â\\x83ã\\x83â\\x82â\\x82ã\\x83â\\x83â\\x82ã\\x83â\\x82ã\\x82â¢ã\\x83â\\x83â\\x83ã\\x83â\\x82â\\x83ã\\x83â\\x83â\\x82ã\\x83â\\x82â\\x82ã\\x83â\\x83â\\x83ã\\x83â\\x82â\\x82ã\\x83â\\x83â\\x82ã\\x83â\\x82â\\x80ã\\x83â\\x83â\\x83ã\\x83â\\x82â\\x83ã\\x83â\\x83â\\x82ã\\x83â\\x82â\\x82ã\\x83â\\x83â\\x83ã\\x83â\\x82â\\x82ã\\x83â\\x83â\\x82ã\\x83â\\x82â\\x93 4.5/5 starters chicken tikka bao ã\\x83â\\x83â\\x83ã\\x83â\\x82â\\x83ã\\x83â\\x83â\\x82ã\\x83â\\x82â\\x83ã\\x83â\\x83â\\x83ã\\x83â\\x82â\\x82ã\\x83â\\x83â\\x82ã\\x83â\\x82ã\\x82â¢ã\\x83â\\x83â\\x83ã\\x83â\\x82â\\x83ã\\x83â\\x83â\\x82ã\\x83â\\x82â\\x82ã\\x83â\\x83â\\x83ã\\x83â\\x82â\\x82ã\\x83â\\x83â\\x82ã\\x83â\\x82â\\x80ã\\x83â\\x83â\\x83ã\\x83â\\x82â\\x83ã\\x83â\\x83â\\x82ã\\x83â\\x82â\\x82ã\\x83â\\x83â\\x83ã\\x83â\\x82â\\x82ã\\x83â\\x83â\\x82ã\\x83â\\x82â\\x93 4/5 starters keema ghotala sliders ã\\x83â\\x83â\\x83ã\\x83â\\x82â\\x83ã\\x83â\\x83â\\x82ã\\x83â\\x82â\\x83ã\\x83â\\x83â\\x83ã\\x83â\\x82â\\x82ã\\x83â\\x83â\\x82ã\\x83â\\x82ã\\x82â¢ã\\x83â\\x83â\\x83ã\\x83â\\x82â\\x83ã\\x83â\\x83â\\x82ã\\x83â\\x82â\\x82ã\\x83â\\x83â\\x83ã\\x83â\\x82â\\x82ã\\x83â\\x83â\\x82ã\\x83â\\x82â\\x80ã\\x83â\\x83â\\x83ã\\x83â\\x82â\\x83ã\\x83â\\x83â\\x82ã\\x83â\\x82â\\x82ã\\x83â\\x83â\\x83ã\\x83â\\x82â\\x82ã\\x83â\\x83â\\x82ã\\x83â\\x82â\\x93 4.5/5 mains gai pad krapow ã\\x83â\\x83â\\x83ã\\x83â\\x82â\\x83ã\\x83â\\x83â\\x82ã\\x83â\\x82â\\x83ã\\x83â\\x83â\\x83ã\\x83â\\x82â\\x82ã\\x83â\\x83â\\x82ã\\x83â\\x82ã\\x82â¢ã\\x83â\\x83â\\x83ã\\x83â\\x82â\\x83ã\\x83â\\x83â\\x82ã\\x83â\\x82â\\x82ã\\x83â\\x83â\\x83ã\\x83â\\x82â\\x82ã\\x83â\\x83â\\x82ã\\x83â\\x82â\\x80ã\\x83â\\x83â\\x83ã\\x83â\\x82â\\x83ã\\x83â\\x83â\\x82ã\\x83â\\x82â\\x82ã\\x83â\\x83â\\x83ã\\x83â\\x82â\\x82ã\\x83â\\x83â\\x82ã\\x83â\\x82â\\x93 4/5\",\n",
       " 'went saturday evening served loki helpful food ordered feta garlic mushroom bacon coated prawn mediterranean lasagne taste perfect music killing loved music thnks dj.. would love visit',\n",
       " 'meal 2 deal amazing quantity generous chicken strips rice bowl mayo winner soups creamy sumptuous overall great deal quantity quality money reasonable coming back soup rice bowls.cheers',\n",
       " 'searching waffle places zomato ended going place menu seemed tempting finally decided visit place tried chocolate overload waffle really good tasted nice perfect chocoholics',\n",
       " 'loved taste food served unique manner presentation good taste chicken nice visit chicken lovers service quick price affordable',\n",
       " 'good',\n",
       " 'items missing order worst delivery service',\n",
       " \"new place indiranagar classic bangalore feels 's hardly weeks since place open already visited place twice loved concept bob please look first sheet menu card bet love food ordered chicken liver pork chops onion bhajji beef roast chicken wings 65. personal favorite chicken liver try might wan na try dishes not not forget budweiser draught comes price 's dirt cheap visit yeah might find every weekend\",\n",
       " \"looking reviews hearing extensive buffet menu chose visit place breakfast family however visit n't pleasant one 1. breakfast items unlike restaurants extremely limited 2. things cold 3. ordered dosa tasted weird guess batter left previous day 4. name fruits banana muskmelon muskmelon unriped 5. took half hour serve boiled eggs 6. barely 8 people entire restaurant bread basket empty 7. ordered aloo paratha not stuffed cooked well 8. waffle hard tasteless good thing place quiet could eat breakfast peace bad experience otherwise\",\n",
       " \"quality taste pathetic no taste sambar nothing rasam no problem quantity infact 's much 's taste packing packed newspaper 's bad overall felt like ate railway station canteen\",\n",
       " \"one places find everyone time know food fresh good decently priced hop hungry want something fast something n't pinch wallet delivers though n't expect much\",\n",
       " 'great',\n",
       " 'cheated us ordered family pack received singal biryani',\n",
       " 'place quite near office love masala dosa onion dosa rest dishes also good like rava idli pakoda set dosa buns etc main road exactly opposite sagar hospital not breakfast even lunch north indian foods good service quick',\n",
       " \"looking reviews hearing extensive buffet menu chose visit place breakfast family however visit n't pleasant one 1. breakfast items unlike restaurants extremely limited 2. things cold 3. ordered dosa tasted weird guess batter left previous day 4. name fruits banana muskmelon muskmelon unriped 5. took half hour serve boiled eggs 6. barely 8 people entire restaurant bread basket empty 7. ordered aloo paratha not stuffed cooked well 8. waffle hard tasteless good thing place quiet could eat breakfast peace bad experience otherwise\",\n",
       " 'death chocolate yuck',\n",
       " 'good',\n",
       " 'list long time place actually attracted ambience open air finally visited team one fine evening reservation last min got place open air ground floor kind benches sit facing benches quite long shared groups place lively beer serve custom beers good food good tried pizza pasta chicken wings nachos etc every single item good team great time overall would definitely recommend place either friends team',\n",
       " 'food salty',\n",
       " 'loved taste food however looked like chef hurry go home lumps ingredients garlic not peeled onions size thumb capsicum weight kilo ..and worst part ordered chicken biriyani delivered extra oil chicken fried rice',\n",
       " 'souk skywalk ulsoor bangalore late night pasta craving could find souk option order pasta ordered following veg pasta arrabbiata penne truly pasta tasted really good flavour aroma looking packaging pasta done perfectly avoid kind spill pasta place recommended love thetechnifoodie',\n",
       " 'bad taste awful smell',\n",
       " 'chicken dishes good enjoyed food.. course size meal size slightly big hungry factor high good place go.. sharing options also available enjoy spicy factors also available according requirements',\n",
       " 'friendly staff good ambience corn cheese sandwich good lemon tea need improved cheese balls average hot chocolate coffee awesome death chocolate good overall good place hangout',\n",
       " \"much spicy think n't realize chilly used 3 times required left food completely n phulka also not soft bad experience\",\n",
       " \"would rather give 0 scale however unfortunately 's not scale yet get stinky place stale rotten days old sweets snacks food items completely soaked unhealthy oil famous dahi vada 's dahi horribly sour samosas stuffing stale bitter taste would n't recommend place anybody save money health avoiding place\",\n",
       " 'taste good quantity mutton less',\n",
       " 'great awesome',\n",
       " 'looking good veg restaurant near zomato found really amazing restaurant took mind blowing taste service restaurant provided one coolest ambiance theme metro train fun beautiful dinner themed resto coming food good fantastic would suggest crispy corn peppet schzwen noodles ambiance 4.5/5 food 4.5/5 price 4/5 service 4/5',\n",
       " 'one best places bangalore biryani since last 9 years biryani regularly boneless chicken biryani time favorite hard core chicken lover try boneless meghana special biryani chicken coated extra layer egg itã\\x83â\\x83â\\x83ã\\x83â\\x82â\\x83ã\\x83â\\x83â\\x82ã\\x83â\\x82â\\x83ã\\x83â\\x83â\\x83ã\\x83â\\x82â\\x82ã\\x83â\\x83â\\x82ã\\x83â\\x82ã\\x82â¢ã\\x83â\\x83â\\x83ã\\x83â\\x82â\\x83ã\\x83â\\x83â\\x82ã\\x83â\\x82â\\x82ã\\x83â\\x83â\\x83ã\\x83â\\x82â\\x82ã\\x83â\\x83â\\x82ã\\x83â\\x82â\\x80ã\\x83â\\x83â\\x83ã\\x83â\\x82â\\x83ã\\x83â\\x83â\\x82ã\\x83â\\x82â\\x82ã\\x83â\\x83â\\x83ã\\x83â\\x82â\\x82ã\\x83â\\x83â\\x82ã\\x83â\\x82â\\x99s delicious veggie try paneer biryani would recommend biryani lovers try place',\n",
       " 'food much spicy food colour',\n",
       " 'last week dinner friends order something chilly mushroom chicken lollypop prawns biryani vegetable biryani food delicious service ok',\n",
       " \"new bangalore days staying u started craving biryani saw 4.1 rating nandhana palace happy ordering nellore chicken biryani excited try biryani quantity biryani good 's enough two people biryani blanche taste wise felt n't quite like bit disappointed biryani accompanied sambhar raita\",\n",
       " 'md tokir service really good one .. priya two guys .. served well took us food whatever like',\n",
       " 'vry bad not expected',\n",
       " 'dinner sunday night place easily spotable beside mtr near mantri mall coming food ordered chicken pakoda drumsticks starters pakoda good uniquely made not oily drumsticks could much better ended wasting 2 peices ordered one mutton one chicken biryani rice seemed felt balance white part biryani masala part could better ..it seemed white top rest mostly masala taste ok. ordered extra white biryani rice mixed existing rice tasted better best part meal mint pitcher costs 110 rs almost 4 glasses totally worth price really nicely made sum biryani could better overall good ambience pretty good nice decor good location',\n",
       " 'best place hang friends death chocolate best ice cream burger good quality food good ice n fries place higenic',\n",
       " 'eat street ambience justified street food favorites momos chaat everything tastes great light pockets days show singing skills well',\n",
       " 'loved taste food however looked like chef hurry go home lumps ingredients garlic not peeled onions size thumb capsicum weight kilo ..and worst part ordered chicken biriyani delivered extra oil chicken fried rice',\n",
       " 'ordered briyani taste good',\n",
       " 'great food chutney spicy',\n",
       " 'place welcoming friendly staff clean tidy place ambience could rated 4/5 nothing new ordinarily charming biryani lovers around malleshwaram visit quantity serve price genuine biryani tastes really good overall good place decent lunch decent price',\n",
       " \"'s wrost\",\n",
       " 'cold food served 1 hours 28 mins worse selection second repeat ordered last',\n",
       " 'steak steak steak perfectly cooked timed seared steak wide variety succulent variations various combinations steak burgers well always goto place craving steaks',\n",
       " \"work stay near btm go birinz variety wood-fired biryanis taste better biryani outlets portion sizes adequate service super quick every flavour markedly different others hyderabadi dum biryani butter chicken biryani birinz got right variants include reddy 's biryani birinz special etc spice factor xan customized request default biryani vatiants come range medium spicy unique options starters papdi chicken patiala chicken deserve special mention papdi chicken tastes best papdi crisp patiala chicken comes wrapped omelette presentation dishes perfect recommended quick weekday lunch various offers including group discounts bogo offers also available\",\n",
       " 'first thing see enter ambience totally floored huge spacious furniture cutlery highlight table chair exotic wooden looks premium meals sumptuous really good la carte average service albeit slow biryani could better better biryani go hyderabadi spice close ambience scores food',\n",
       " \"mall 's common go food court not notice restaurants around atleast 's people know ya place looked interesting happened go friend mine trust good decision made chicken die food really good.. thing found bad bun used bit soggy use better ones review place food 4.5/5 ambience 3.5/5 service 4/5 cost 2 800-1000\",\n",
       " 'galito relatively new chain restaurants bangalore known south african flame grilled meats chicken espetada try chunks well marinated chicken thighs served piping hot fresh flame skewers onions crunchy peppers cheesy toast grilled chicken liver surprise tasty sharp distinct flavours pleasing indian palette make sure save room dessert dig malva pudding served ice cream warm caramel sauce baked yoghurt blueberry compote another dessert would recommend definitely tell every effort made serve best quality chicken well marinated 24 hours served fresh flame grill staff prompt well informed service courteous',\n",
       " 'one best burger joints bangalore specially non vegetarians service slow waited half hour wait worth burger milk shake smoothie along burger heavy meal',\n",
       " \"'s 3.5 actually u easily find place.. serves awesome ranges mouth watering delicacies buffet menu.. starters desserts 's looooooooooooot options available want hit place go starving.. overall ambience good.. service also good.. food taste may improved cases improvement much needed terms hygiene 1. dessert cups replaced 2. found hair one dishes\",\n",
       " 'cheese cheese sandwich one word horrible',\n",
       " 'samosa good also tried sweets bangalore looking rajasthani taste tastes like one go place less crowded clean things fresh',\n",
       " \"'s nice place college students kids.. fascinating price.. visiting cafe still wallet heavy 5 us visited.. ate much bill never crossed 500..\",\n",
       " 'best',\n",
       " '',\n",
       " 'yesterday lunch golden metro hotel food good super place family also facilities like rooms conference halls swimming pool',\n",
       " 'havenã\\x83â\\x83â\\x83ã\\x83â\\x82â\\x83ã\\x83â\\x83â\\x82ã\\x83â\\x82â\\x83ã\\x83â\\x83â\\x83ã\\x83â\\x82â\\x82ã\\x83â\\x83â\\x82ã\\x83â\\x82ã\\x82â¢ã\\x83â\\x83â\\x83ã\\x83â\\x82â\\x83ã\\x83â\\x83â\\x82ã\\x83â\\x82â\\x82ã\\x83â\\x83â\\x83ã\\x83â\\x82â\\x82ã\\x83â\\x83â\\x82ã\\x83â\\x82â\\x80ã\\x83â\\x83â\\x83ã\\x83â\\x82â\\x83ã\\x83â\\x83â\\x82ã\\x83â\\x82â\\x82ã\\x83â\\x83â\\x83ã\\x83â\\x82â\\x82ã\\x83â\\x83â\\x82ã\\x83â\\x82â\\x99t place staff indifferent towards customers took good 10-15 mins frantic jumping around waving get waiters attention waiters half drinks not available whatever available took awful long time serve even forgot punch orders starters conveniently blaming mess didnã\\x83â\\x83â\\x83ã\\x83â\\x82â\\x83ã\\x83â\\x83â\\x82ã\\x83â\\x82â\\x83ã\\x83â\\x83â\\x83ã\\x83â\\x82â\\x82ã\\x83â\\x83â\\x82ã\\x83â\\x82ã\\x82â¢ã\\x83â\\x83â\\x83ã\\x83â\\x82â\\x83ã\\x83â\\x83â\\x82ã\\x83â\\x82â\\x82ã\\x83â\\x83â\\x83ã\\x83â\\x82â\\x82ã\\x83â\\x83â\\x82ã\\x83â\\x82â\\x80ã\\x83â\\x83â\\x83ã\\x83â\\x82â\\x83ã\\x83â\\x83â\\x82ã\\x83â\\x82â\\x82ã\\x83â\\x83â\\x83ã\\x83â\\x82â\\x82ã\\x83â\\x83â\\x82ã\\x83â\\x82â\\x99t stay long finished whatever weã\\x83â\\x83â\\x83ã\\x83â\\x82â\\x83ã\\x83â\\x83â\\x82ã\\x83â\\x82â\\x83ã\\x83â\\x83â\\x83ã\\x83â\\x82â\\x82ã\\x83â\\x83â\\x82ã\\x83â\\x82ã\\x82â¢ã\\x83â\\x83â\\x83ã\\x83â\\x82â\\x83ã\\x83â\\x83â\\x82ã\\x83â\\x82â\\x82ã\\x83â\\x83â\\x83ã\\x83â\\x82â\\x82ã\\x83â\\x83â\\x82ã\\x83â\\x82â\\x80ã\\x83â\\x83â\\x83ã\\x83â\\x82â\\x83ã\\x83â\\x83â\\x82ã\\x83â\\x82â\\x82ã\\x83â\\x83â\\x83ã\\x83â\\x82â\\x82ã\\x83â\\x83â\\x82ã\\x83â\\x82â\\x99d ordered headed different place donã\\x83â\\x83â\\x83ã\\x83â\\x82â\\x83ã\\x83â\\x83â\\x82ã\\x83â\\x82â\\x83ã\\x83â\\x83â\\x83ã\\x83â\\x82â\\x82ã\\x83â\\x83â\\x82ã\\x83â\\x82ã\\x82â¢ã\\x83â\\x83â\\x83ã\\x83â\\x82â\\x83ã\\x83â\\x83â\\x82ã\\x83â\\x82â\\x82ã\\x83â\\x83â\\x83ã\\x83â\\x82â\\x82ã\\x83â\\x83â\\x82ã\\x83â\\x82â\\x80ã\\x83â\\x83â\\x83ã\\x83â\\x82â\\x83ã\\x83â\\x83â\\x82ã\\x83â\\x82â\\x82ã\\x83â\\x83â\\x83ã\\x83â\\x82â\\x82ã\\x83â\\x83â\\x82ã\\x83â\\x82â\\x99t see coming back',\n",
       " \"looking forward towards good chocolate pastry experience terribly disappointed difference chocolate truffle black forest pastry weird chocolate syrup pastries would n't recommend getting pastries place n't know food quite skeptical try\",\n",
       " 'wanted try chinese food ordered baby corn chilly mushroom chilli starter felt else taste liked mushroom chili baby corn main course veg moms quantity ok little hard chew ordered veg kohito tasty taste meter 3/5 service 3/5 ambience 3.5/5 quality 3.5/5 quality 3.5/5 overall 3/5',\n",
       " 'rice not cooked properlly',\n",
       " 'place one regular list amazing place chill chat oreo milkshake potato wedges favorite ..',\n",
       " 'great place hangout speacially naveen itã\\x83â\\x83â\\x83ã\\x83â\\x82â\\x83ã\\x83â\\x83â\\x82ã\\x83â\\x82â\\x83ã\\x83â\\x83â\\x83ã\\x83â\\x82â\\x82ã\\x83â\\x83â\\x82ã\\x83â\\x82ã\\x82â¢ã\\x83â\\x83â\\x83ã\\x83â\\x82â\\x83ã\\x83â\\x83â\\x82ã\\x83â\\x82â\\x82ã\\x83â\\x83â\\x83ã\\x83â\\x82â\\x82ã\\x83â\\x83â\\x82ã\\x83â\\x82â\\x80ã\\x83â\\x83â\\x83ã\\x83â\\x82â\\x83ã\\x83â\\x83â\\x82ã\\x83â\\x82â\\x82ã\\x83â\\x83â\\x83ã\\x83â\\x82â\\x82ã\\x83â\\x83â\\x82ã\\x83â\\x82â\\x99s great coordination great guy couple times person like naveen not anywhere else',\n",
       " 'not items mentioned delivered',\n",
       " 'one best places good waffle quantity good waffle people great friendly thing miss place savoury waffle havenã\\x83â\\x83â\\x83ã\\x83â\\x82â\\x83ã\\x83â\\x83â\\x82ã\\x83â\\x82â\\x83ã\\x83â\\x83â\\x83ã\\x83â\\x82â\\x82ã\\x83â\\x83â\\x82ã\\x83â\\x82ã\\x82â¢ã\\x83â\\x83â\\x83ã\\x83â\\x82â\\x83ã\\x83â\\x83â\\x82ã\\x83â\\x82â\\x82ã\\x83â\\x83â\\x83ã\\x83â\\x82â\\x82ã\\x83â\\x83â\\x82ã\\x83â\\x82â\\x80ã\\x83â\\x83â\\x83ã\\x83â\\x82â\\x83ã\\x83â\\x83â\\x82ã\\x83â\\x82â\\x82ã\\x83â\\x83â\\x83ã\\x83â\\x82â\\x82ã\\x83â\\x83â\\x82ã\\x83â\\x82â\\x99t got back longgg time',\n",
       " 'md tokir service really good one .. priya two guys .. served well took us food whatever like',\n",
       " 'tasty healthy food pocket friendly prices prices zomato compared shop close outer ring road daily eating place mainly thalis',\n",
       " 'food decent sizzler costliest side taste good staffs also good ambiance could better renovate',\n",
       " 'good',\n",
       " 'new outlet locality koramangala honey dew melon cucumber drink cooling watermelon basil drink refreshing spicy dan dan noodles chicken prawns slurpy noodles chunks meat ur choice udan noodle box non veg burrp filling service- good ambience good food taste good food quantity/quality sufficient one come back yes',\n",
       " \"ordered online prawn fry usually 've ordering dish every month past three years first time received half quantity usually get made call restaurant asking speak manager implied 'm lying quantity 's quantity since 've always given three years knowing portion size suddenly get half manager n't even apologize even tell 'll look not professional never expected one favorite places treat like 'm trying get free order worst delivery experience 've ever\",\n",
       " 'awesome place grub vega city comparatively cheaper nandos serve similar food quality par also options like meals 2 4 6 wherein 1 select drink starter main course problem order mix veg non veg options hope management would look',\n",
       " 'cute amazing place one weekend loved place food ordered hot sour soup dim sum totally looveed food would love visit',\n",
       " \"went shop afternoon around 1:40 could immediately see flies first section sweets soon enter realized dead fly motichoor ladoo took picture uploaded told staff threw piece away n't think would ever risk buying sweets place ever\",\n",
       " 'nice taste',\n",
       " 'good',\n",
       " 'nice',\n",
       " 'worst experience customers present arised doubt restaurant doubts came true found metal button curry not recommend restaurant anyone',\n",
       " 'craving chaat nearest decent place chaat two us ordered bhel panipuri ragda pattis not like ragda bhel panipuri good def recommended quick chaat no frills place later went north indian brekkie sattu parathas alu parathas onion parathas 4 us good loved alu one',\n",
       " 'well not good attempt ova here..and ambience not good dint like quality food staffs ok ok multiple stalls..and place small',\n",
       " 'nice veg restaurant quiet serves good food serve really spicy lip smacking soup called spicy coriander soup unlike anything get anywhere another try fried wontons well made overall like place peaceful serves good food affordable overall would recommend place',\n",
       " 'love fanoos hyderabad native worlds best haleem cooked guess fanoos cooks hmmm best day banglore tried everything rambo rolls biryani ramadan spl sweets family loved place haleem zabardast keep fanoos',\n",
       " 'saturday night itã\\x83â\\x83â\\x83ã\\x83â\\x82â\\x83ã\\x83â\\x83â\\x82ã\\x83â\\x82â\\x83ã\\x83â\\x83â\\x83ã\\x83â\\x82â\\x82ã\\x83â\\x83â\\x82ã\\x83â\\x82ã\\x82â¢ã\\x83â\\x83â\\x83ã\\x83â\\x82â\\x83ã\\x83â\\x83â\\x82ã\\x83â\\x82â\\x82ã\\x83â\\x83â\\x83ã\\x83â\\x82â\\x82ã\\x83â\\x83â\\x82ã\\x83â\\x82â\\x80ã\\x83â\\x83â\\x83ã\\x83â\\x82â\\x83ã\\x83â\\x83â\\x82ã\\x83â\\x82â\\x82ã\\x83â\\x83â\\x83ã\\x83â\\x82â\\x82ã\\x83â\\x83â\\x82ã\\x83â\\x82â\\x99s quite nice place good ambiance seating arrangements quite nice neat space arrangements neat nachos fan ordered one tasted good not creamy also ordered fish kir kure quite disappointed since mint chutney poured andat bottom fish finger got merged mint dip quickly crispyness got wet..they could served mint dip separately ordered paneer anardhana garlic naan taste different sweetish pomegranate taste one whole food ok. drinks good team looking twist food sometimes spoiling authentic taste..the staffs friendly helpful..i enjoy like place hang itã\\x83â\\x83â\\x83ã\\x83â\\x82â\\x83ã\\x83â\\x83â\\x82ã\\x83â\\x82â\\x83ã\\x83â\\x83â\\x83ã\\x83â\\x82â\\x82ã\\x83â\\x83â\\x82ã\\x83â\\x82ã\\x82â¢ã\\x83â\\x83â\\x83ã\\x83â\\x82â\\x83ã\\x83â\\x83â\\x82ã\\x83â\\x82â\\x82ã\\x83â\\x83â\\x83ã\\x83â\\x82â\\x82ã\\x83â\\x83â\\x82ã\\x83â\\x82â\\x80ã\\x83â\\x83â\\x83ã\\x83â\\x82â\\x83ã\\x83â\\x83â\\x82ã\\x83â\\x82â\\x82ã\\x83â\\x83â\\x83ã\\x83â\\x82â\\x82ã\\x83â\\x83â\\x82ã\\x83â\\x82â\\x99s good experience',\n",
       " \"try baby pork ribs say 's best town jack daniels steak try great service ambience -4.5/5 food -5/5 service -5/5\",\n",
       " 'best thing happened bangalore recent past.. absolute go.. great food.. really really cheap liquor.. feels like club/ gymkhana..',\n",
       " 'par jayanagar branch always boneless chicken biriyani best biriyani afternoon best ambience hygiene requires improvement looks like rented 3bhk house converted restaurant parking sort bother gets packed weekends would gracefully avoid',\n",
       " 'worst thali ever',\n",
       " 'havenã\\x83â\\x83â\\x83ã\\x83â\\x82â\\x83ã\\x83â\\x83â\\x82ã\\x83â\\x82â\\x83ã\\x83â\\x83â\\x83ã\\x83â\\x82â\\x82ã\\x83â\\x83â\\x82ã\\x83â\\x82ã\\x82â¢ã\\x83â\\x83â\\x83ã\\x83â\\x82â\\x83ã\\x83â\\x83â\\x82ã\\x83â\\x82â\\x82ã\\x83â\\x83â\\x83ã\\x83â\\x82â\\x82ã\\x83â\\x83â\\x82ã\\x83â\\x82â\\x80ã\\x83â\\x83â\\x83ã\\x83â\\x82â\\x83ã\\x83â\\x83â\\x82ã\\x83â\\x82â\\x82ã\\x83â\\x83â\\x83ã\\x83â\\x82â\\x82ã\\x83â\\x83â\\x82ã\\x83â\\x82â\\x99t place staff indifferent towards customers took good 10-15 mins frantic jumping around waving get waiters attention waiters half drinks not available whatever available took awful long time serve even forgot punch orders starters conveniently blaming mess didnã\\x83â\\x83â\\x83ã\\x83â\\x82â\\x83ã\\x83â\\x83â\\x82ã\\x83â\\x82â\\x83ã\\x83â\\x83â\\x83ã\\x83â\\x82â\\x82ã\\x83â\\x83â\\x82ã\\x83â\\x82ã\\x82â¢ã\\x83â\\x83â\\x83ã\\x83â\\x82â\\x83ã\\x83â\\x83â\\x82ã\\x83â\\x82â\\x82ã\\x83â\\x83â\\x83ã\\x83â\\x82â\\x82ã\\x83â\\x83â\\x82ã\\x83â\\x82â\\x80ã\\x83â\\x83â\\x83ã\\x83â\\x82â\\x83ã\\x83â\\x83â\\x82ã\\x83â\\x82â\\x82ã\\x83â\\x83â\\x83ã\\x83â\\x82â\\x82ã\\x83â\\x83â\\x82ã\\x83â\\x82â\\x99t stay long finished whatever weã\\x83â\\x83â\\x83ã\\x83â\\x82â\\x83ã\\x83â\\x83â\\x82ã\\x83â\\x82â\\x83ã\\x83â\\x83â\\x83ã\\x83â\\x82â\\x82ã\\x83â\\x83â\\x82ã\\x83â\\x82ã\\x82â¢ã\\x83â\\x83â\\x83ã\\x83â\\x82â\\x83ã\\x83â\\x83â\\x82ã\\x83â\\x82â\\x82ã\\x83â\\x83â\\x83ã\\x83â\\x82â\\x82ã\\x83â\\x83â\\x82ã\\x83â\\x82â\\x80ã\\x83â\\x83â\\x83ã\\x83â\\x82â\\x83ã\\x83â\\x83â\\x82ã\\x83â\\x82â\\x82ã\\x83â\\x83â\\x83ã\\x83â\\x82â\\x82ã\\x83â\\x83â\\x82ã\\x83â\\x82â\\x99d ordered headed different place donã\\x83â\\x83â\\x83ã\\x83â\\x82â\\x83ã\\x83â\\x83â\\x82ã\\x83â\\x82â\\x83ã\\x83â\\x83â\\x83ã\\x83â\\x82â\\x82ã\\x83â\\x83â\\x82ã\\x83â\\x82ã\\x82â¢ã\\x83â\\x83â\\x83ã\\x83â\\x82â\\x83ã\\x83â\\x83â\\x82ã\\x83â\\x82â\\x82ã\\x83â\\x83â\\x83ã\\x83â\\x82â\\x82ã\\x83â\\x83â\\x82ã\\x83â\\x82â\\x80ã\\x83â\\x83â\\x83ã\\x83â\\x82â\\x83ã\\x83â\\x83â\\x82ã\\x83â\\x82â\\x82ã\\x83â\\x83â\\x83ã\\x83â\\x82â\\x82ã\\x83â\\x83â\\x82ã\\x83â\\x82â\\x99t see coming back',\n",
       " 'ordered falooda sundae not impressed quality taste wise way go improve flavor used quality ingredients',\n",
       " 'week end tried food really good south style food enjoyed lot taste better restaurant .and better service .amazing experience',\n",
       " \"place definitely favourite burgers shakes big menu burgers pastas main dishes shakes desserts ordered famous american cheese burger definitely worth hype three paaties super soft bum super delicious 'd also recommend tandoori chicken burger also ordered chicken lasagna full cheese chicken totally loved blueberry cheesecake like cherry cake perfect end amazing dinner\",\n",
       " 'one finest brewery epip area ambience nicely done food great service prompt head spend quality time mouth watering food finest brews cocktails',\n",
       " 'not bad',\n",
       " \"tried place recently visit btm mr. chandu generous enough serve us special biryani starters tried 5 different biryani flavours meat spices subtle bringing rice full glory masala tickled palate touch tanginess flirted senses addition uniform garnishes variant lavished aromatic whole spices clove cinnamon bay leaves another interesting fact place use firewood cook biryani highly recommend place good affordable biryani tried paneer biryani reddy 's special biryani ghonghura biryani chicken biryani chicken shorba chicken cashew fry papad chicken andhra style chicken\",\n",
       " 'simply heavenly best place serves amazing waffles ambiance not good cares waffles lip smacking donã\\x83â\\x83â\\x83ã\\x83â\\x82â\\x83ã\\x83â\\x83â\\x82ã\\x83â\\x82â\\x83ã\\x83â\\x83â\\x83ã\\x83â\\x82â\\x82ã\\x83â\\x83â\\x82ã\\x83â\\x82ã\\x82â¢ã\\x83â\\x83â\\x83ã\\x83â\\x82â\\x83ã\\x83â\\x83â\\x82ã\\x83â\\x82â\\x82ã\\x83â\\x83â\\x83ã\\x83â\\x82â\\x82ã\\x83â\\x83â\\x82ã\\x83â\\x82â\\x80ã\\x83â\\x83â\\x83ã\\x83â\\x82â\\x83ã\\x83â\\x83â\\x82ã\\x83â\\x82â\\x82ã\\x83â\\x83â\\x83ã\\x83â\\x82â\\x82ã\\x83â\\x83â\\x82ã\\x83â\\x82â\\x99t know else say',\n",
       " \"one best place e city..as foodie little skeptic food however place never disappointed authentic taste food pleasant ambience hookah bar roof top gets kinky good way evening good place hangout cost cuisine preety low compare competitors go experience 's worth every penny ps might surprise next month stay connected get update\",\n",
       " 'visit place bangalore food really yummy especially chicken wings damn good love eating spicy food great time..',\n",
       " 'food spicy',\n",
       " 'ordered cake boyfriend birthday happy seeing cake way better expected no doubt taste best ordering soon',\n",
       " 'utterly waste money u call tht curd rice',\n",
       " 'fame grilled half chicken porto rice mushrooms boneless chicken breast everything tasty however rice choose mildly spicy terribly spicy aware restaurant like nando concept similar type accompaniments good place dinner movie definitely good chicken lovers veg choices limited food :4/5 service:4/5 ambience:3/5 overall 3.5/5',\n",
       " 'visited saturday friends place seems cool live music good seating arrangement colourful place.i find place quite innovative food also fine reasonable prices definitely visit place',\n",
       " 'probably one best breweries whitefield area good food great service amazing brews ordered chicken nachos chicken tikka daal makhni roti main course everything cooked perfection tasty honest never expected good food pub tried heifeweizen beer brewed well light golden colour aroma wheat tasted awesome plan visit soon',\n",
       " 'awesome',\n",
       " 'one best places good waffle quantity good waffle people great friendly thing miss place savoury waffle havenã\\x83â\\x83â\\x83ã\\x83â\\x82â\\x83ã\\x83â\\x83â\\x82ã\\x83â\\x82â\\x83ã\\x83â\\x83â\\x83ã\\x83â\\x82â\\x82ã\\x83â\\x83â\\x82ã\\x83â\\x82ã\\x82â¢ã\\x83â\\x83â\\x83ã\\x83â\\x82â\\x83ã\\x83â\\x83â\\x82ã\\x83â\\x82â\\x82ã\\x83â\\x83â\\x83ã\\x83â\\x82â\\x82ã\\x83â\\x83â\\x82ã\\x83â\\x82â\\x80ã\\x83â\\x83â\\x83ã\\x83â\\x82â\\x83ã\\x83â\\x83â\\x82ã\\x83â\\x82â\\x82ã\\x83â\\x83â\\x83ã\\x83â\\x82â\\x82ã\\x83â\\x83â\\x82ã\\x83â\\x82â\\x99t got back longgg time',\n",
       " 'not three cokes asked instead decided send us one extra sprite mineral water instead asking us specifically asked not put carrots biryani thatã\\x83â\\x83â\\x83ã\\x83â\\x82â\\x83ã\\x83â\\x83â\\x82ã\\x83â\\x82â\\x83ã\\x83â\\x83â\\x83ã\\x83â\\x82â\\x82ã\\x83â\\x83â\\x82ã\\x83â\\x82â\\x82ã\\x83â\\x83â\\x83ã\\x83â\\x82â\\x83ã\\x83â\\x83â\\x82ã\\x83â\\x82â\\x82ã\\x83â\\x83â\\x83ã\\x83â\\x82â\\x82ã\\x83â\\x83â\\x82ã\\x83â\\x82â\\x92s exactly donã\\x83â\\x83â\\x83ã\\x83â\\x82â\\x83ã\\x83â\\x83â\\x82ã\\x83â\\x82â\\x83ã\\x83â\\x83â\\x83ã\\x83â\\x82â\\x82ã\\x83â\\x83â\\x82ã\\x83â\\x82â\\x82ã\\x83â\\x83â\\x83ã\\x83â\\x82â\\x83ã\\x83â\\x83â\\x82ã\\x83â\\x82â\\x82ã\\x83â\\x83â\\x83ã\\x83â\\x82â\\x82ã\\x83â\\x83â\\x82ã\\x83â\\x82â\\x92t put labels rolls dont know roll cut ties restaurant soon possible',\n",
       " 'ambience place good tasty food especially veg burger ã\\x83â\\x83â\\x83ã\\x83â\\x82â\\x83ã\\x83â\\x83â\\x82ã\\x83â\\x82â\\x83ã\\x83â\\x83â\\x83ã\\x83â\\x82â\\x82ã\\x83â\\x83â\\x82ã\\x83â\\x82ã\\x82â°ã\\x83â\\x83â\\x83ã\\x83â\\x82â\\x83ã\\x83â\\x83â\\x82ã\\x83â\\x82â\\x82ã\\x83â\\x83â\\x83ã\\x83â\\x82â\\x82ã\\x83â\\x83â\\x82ã\\x83â\\x82â\\x9fã\\x83â\\x83â\\x83ã\\x83â\\x82â\\x83ã\\x83â\\x83â\\x82ã\\x83â\\x82â\\x82ã\\x83â\\x83â\\x83ã\\x83â\\x82â\\x82ã\\x83â\\x83â\\x82ã\\x83â\\x82â\\x98ã\\x83â\\x83â\\x83ã\\x83â\\x82â\\x83ã\\x83â\\x83â\\x82ã\\x83â\\x82â\\x82ã\\x83â\\x83â\\x83ã\\x83â\\x82â\\x82ã\\x83â\\x83â\\x82ã\\x83â\\x82â\\x8b prices reasonable value money different experience compared regular franchise outlets',\n",
       " \"ordered spicy n't get spicy\",\n",
       " 'food delivery not giving delivery phone not reachable',\n",
       " 'saw restaurant many times whenever passed thought another new chinese restaurant area visited completely changed mind went try bubble tea ended trying items ambience really cute service good bubble tea good tried classic bubble tea cranberry bubble tea tapioca bubbles apart onion rings good cupcakesontravel.blogspot.com',\n",
       " 'saw place offer nearby searching good places sizzlers bangalore ordered 2 variants veg sizzlers one cottage cheese cheesy mushrooms served mashed potato rice really tasty fav mushroom one also best part ask rice want happily accomodate overall sumptuous meal satisfy cravings sizzlers',\n",
       " \"name suggests place panda theme right entrance walls salt pepper shakers purely self service ordered pho ga pad thai ramen soup pho ga bit disappointing lemon leaves raw spices excess n't render taste ingredients overall fine experience also points system although 'm not sure 's calculated redeemed\",\n",
       " 'zomato good delivery boy excellent perfect time delivered',\n",
       " \"first visit ambience good amd staffs well behaved ordered chicken chilly mushroom cocktails taste good wanted go main course things wanted not available staff trying push us select thing left starters failed serve main course although taste good think visit place unless n't improve area seen many reviews faced visited take remark seriously improve please\",\n",
       " \"really good service quantity dishes also good ambience quiet peaceful good music choice visit sure.. 's good place group friends hangout recommend others\",\n",
       " 'worst food',\n",
       " 'staff courtesy 5/5 staff extremely polite courteous food 1. murgh ka soola 4.5/5 super yummy starter definitely worth trying 2. garlic naan pudina kulcha 3.5/5 3. kadai murgh patiala 3.5/5 ambience cleanliness 4/5 drink sweet lassi would give 4/5 visit place looking eat good north indian food',\n",
       " 'waffle love best waffles place haf taken bubblewaffle chocolate overloaded yumm ever would love keep visiting place',\n",
       " \"went place quick lunch wait long time give order ordered peri-2 fries classic veggies burger magic mushroom burger peace ice tea ginger tea fries burgers ok nothing exceptional ice tea sugar syrup tea good mentioned beginning 'll using zomato gold noted details also end bill came discount not applied asked corrected mistake\",\n",
       " 'biryani not worth since 3 small pieces kebab good',\n",
       " \"located comfortable walking distance mantri mall restaurant lots things offer delicious food nice interiors sweet staff went family dinner good time starters lip smackingly delicious paneer kadai could 've better though visit foodie\",\n",
       " 'worst food quality never order food restaurant zomato also failed assist',\n",
       " 'think one places pretty ambiance loved food incredible tried burger pasta taste absolutely fantastic.me friends good grub time also service also gooooooodddd',\n",
       " \"waffles really really good tried midnight dream waffle chocolate overload waffle looked great tasted even better 's small place tends get crowded far price goes 's not cheapest likely little higher side however add ons like fresh strawberries pretty expensive service pretty quick\",\n",
       " 'love restaurant flamed chicken get half quarter full tangy flavour chicken cream soup addictive grilled chicken liver fry try dish restaurant',\n",
       " 'onion pokoda contains onions pathetic service..',\n",
       " 'roti looks like prepared 2 days back chicken grave like butter milk',\n",
       " 'little bit spicy food tasty one ordered 750 ml sprite got 600ml sprite complaint',\n",
       " 'tried buffet lunch recently started items average taste only.price 400 tax not much non veg verities chicken biryani malabar worst not cooked properly.paneer chilli good tasty need improvement panner masala pepper chicken chicken biryani no icecream available.. gulab jamun also not much tasty.over ok ok only..no parking facility available ambience good staffs polite friendly',\n",
       " 'hey food oki expected good disappointed',\n",
       " 'nonsense',\n",
       " 'amazing totally impressed place give place full 5 rating without doubt fresh crisp good quality waffles tried sin red wonder waffles bubble overload waffles loved sin hot chocolatey..also peri peri fries helped interlude waffles altogether best waffles bangalore would love visit place try types waffles',\n",
       " 'place give fresh feel french style windows high seating small space seating capacity 12 self service counter place certifies nice evening hangout place interacting got know make sauces not procure outside surely plus point sauces really good coming food penne pasta falafel cheese fries peach moscow mule couldnt reach till dessert got full till place decently spread menu surely work dessert menu food taste good drink refreshing taste 4/5 ambience 4/5 service 3.5/5 surely get really good pictures french windows recommendation visit place infront empire hotel church street',\n",
       " 'ordered briyani taste good',\n",
       " 'ordered veg curry added cauliflower potato chicken gravy delivered.if require pure veg meal please stay away',\n",
       " 'good',\n",
       " 'amazing totally impressed place give place full 5 rating without doubt fresh crisp good quality waffles tried sin red wonder waffles bubble overload waffles loved sin hot chocolatey..also peri peri fries helped interlude waffles altogether best waffles bangalore would love visit place try types waffles',\n",
       " 'cute little cafã\\x83â\\x83â\\x83ã\\x83â\\x82â\\x83ã\\x83â\\x83â\\x82ã\\x83â\\x82â\\x83ã\\x83â\\x83â\\x83ã\\x83â\\x82â\\x82ã\\x83â\\x83â\\x82ã\\x83â\\x82ã\\x82â© relax enjoy coffee food like regular cafe chicken nuggets fries good ambience lovely bit pricey quantity definitely worth visit',\n",
       " \"pleasant little place located vega city restaurants food court smell food draws right galito 's even 're not interested visiting mall trip taste food galito 's totally worth tried veg non veg items menu safe say food absolutely spectacular african flavours lip-smacking especially add signature sauces lemon-pepper garlic mild peri peri hot 's no need mention favorite dishes everything tastes wonderful service fast value money pretty good go try n't forget take bottle sauce back home\",\n",
       " 'delicious food first visit impressed good service worth pay warm ambience himalyan chicken bowl piping hot slurpy tasty red wine chicken tender yummy tempting assam tea good chocolate shake good tres leches cake spongy tasty different one kind',\n",
       " 'tum se na ho paye gaa',\n",
       " 'place celebrating birthday office collegue.. place decent ambience.as usual one wait 1/2hr getting table..we ordered potatoes wedges chese balls baby corns varieties burger person.we also ordered shakes tea coffee etc eatables stuff amazing.my taste buds delighted stuffs',\n",
       " 'good ambience courteous servers well grilled chicken felt bit bland make sure order sides try sauces chicken vegan wife ordered rice mushrooms tomato sauce mushrooms prepared easily one best taste raw tomatoes noticable place also one better peri peri fries rice side also pretty good tasted fresh',\n",
       " '5 star location 4 star ambience liquor pricing 3 star liquor availability 2 star food orders not quick infact served starters drinks arrived',\n",
       " 'one best places indiranagar hip bar experience prices local bar local food best really friendly staff boregowda specifically amazing host definitely place visit chill friends',\n",
       " \"would rather give 0 scale however unfortunately 's not scale yet get stinky place stale rotten days old sweets snacks food items completely soaked unhealthy oil famous dahi vada 's dahi horribly sour samosas stuffing stale bitter taste would n't recommend place anybody save money health avoiding place\",\n",
       " 'nice dilvery',\n",
       " 'blueberry cream cheese nutella ice cream belgian dark chocolate peanut butter favourite flavoursã\\x83â\\x83â\\x83ã\\x83â\\x82â\\x83ã\\x83â\\x83â\\x82ã\\x83â\\x82â\\x83ã\\x83â\\x83â\\x83ã\\x83â\\x82â\\x82ã\\x83â\\x83â\\x82ã\\x83â\\x82ã\\x82â°ã\\x83â\\x83â\\x83ã\\x83â\\x82â\\x83ã\\x83â\\x83â\\x82ã\\x83â\\x82â\\x82ã\\x83â\\x83â\\x83ã\\x83â\\x82â\\x82ã\\x83â\\x83â\\x82ã\\x83â\\x82â\\x9fã\\x83â\\x83â\\x83ã\\x83â\\x82â\\x83ã\\x83â\\x83â\\x82ã\\x83â\\x82â\\x82ã\\x83â\\x83â\\x83ã\\x83â\\x82â\\x82ã\\x83â\\x83â\\x82ã\\x83â\\x82â\\x98ã\\x83â\\x83â\\x83ã\\x83â\\x82â\\x83ã\\x83â\\x83â\\x82ã\\x83â\\x82â\\x82ã\\x83â\\x83â\\x83ã\\x83â\\x82â\\x82ã\\x83â\\x83â\\x82ã\\x83â\\x82â\\x8b always hungry belgian waffle 5/5',\n",
       " \"n't waste money\",\n",
       " 'ambience place good tasty food especially veg burger ã\\x83â\\x83â\\x83ã\\x83â\\x82â\\x83ã\\x83â\\x83â\\x82ã\\x83â\\x82â\\x83ã\\x83â\\x83â\\x83ã\\x83â\\x82â\\x82ã\\x83â\\x83â\\x82ã\\x83â\\x82ã\\x82â°ã\\x83â\\x83â\\x83ã\\x83â\\x82â\\x83ã\\x83â\\x83â\\x82ã\\x83â\\x82â\\x82ã\\x83â\\x83â\\x83ã\\x83â\\x82â\\x82ã\\x83â\\x83â\\x82ã\\x83â\\x82â\\x9fã\\x83â\\x83â\\x83ã\\x83â\\x82â\\x83ã\\x83â\\x83â\\x82ã\\x83â\\x82â\\x82ã\\x83â\\x83â\\x83ã\\x83â\\x82â\\x82ã\\x83â\\x83â\\x82ã\\x83â\\x82â\\x98ã\\x83â\\x83â\\x83ã\\x83â\\x82â\\x83ã\\x83â\\x83â\\x82ã\\x83â\\x82â\\x82ã\\x83â\\x83â\\x83ã\\x83â\\x82â\\x82ã\\x83â\\x83â\\x82ã\\x83â\\x82â\\x8b prices reasonable value money different experience compared regular franchise outlets',\n",
       " 'situated beside jaganath temple hsr layout second time went notin special mention odia friend asked try dahi aloo vada.. either taste bud not accustomed else wasnt made well felt way costly charged 35 rs tried samosa well small compared food joints similar class guess mostly odia people missing home food ones form main customer base shop try u want try bengali odia sweets else give miss',\n",
       " 'place spicy food lovers spice tolerance low biriyani gon na literally burn gut biriyani good really spicy',\n",
       " 'good food',\n",
       " \"food delivered late keep fast without anything morning terrible response support also ca n't eat food gon na waste money\",\n",
       " 'visited place today evening catch old folks elegant place great ambiance staff courteous food decently good ordered loaded nachos achari paneer mushroom duplex peri peri fries ala alfredo pasta cheese garlic bread pesto pizza exotic veg pizza also ordered chocolate ice cream dessert pasta pizza notch cheese pizza fresh smooth pesto pizza little let starters good yummy ice cream nice loved visit place chilled place games spend quality time friends',\n",
       " 'simply heavenly best place serves amazing waffles ambiance not good cares waffles lip smacking donã\\x83â\\x83â\\x83ã\\x83â\\x82â\\x83ã\\x83â\\x83â\\x82ã\\x83â\\x82â\\x83ã\\x83â\\x83â\\x83ã\\x83â\\x82â\\x82ã\\x83â\\x83â\\x82ã\\x83â\\x82ã\\x82â¢ã\\x83â\\x83â\\x83ã\\x83â\\x82â\\x83ã\\x83â\\x83â\\x82ã\\x83â\\x82â\\x82ã\\x83â\\x83â\\x83ã\\x83â\\x82â\\x82ã\\x83â\\x83â\\x82ã\\x83â\\x82â\\x80ã\\x83â\\x83â\\x83ã\\x83â\\x82â\\x83ã\\x83â\\x83â\\x82ã\\x83â\\x82â\\x82ã\\x83â\\x83â\\x83ã\\x83â\\x82â\\x82ã\\x83â\\x83â\\x82ã\\x83â\\x82â\\x99t know else say',\n",
       " 'nice',\n",
       " 'love samosa several times landed 4pm grab get recently opened sarjapur road veg thali rs 60/- steal ras malai okay chena podo better may comparing get bhubaneswar rating purely veg thali else 3. lifeisavacation.in',\n",
       " \"loved food.. go place delicious finger licking food ordered veg non veg platter enough tasty option also ordered pesto pasta sauce.. ordered twice loved much mashroom gulati pizza also ca n't get taste onion rings ordered 3 times.. amazing place party reservation required\",\n",
       " 'food delivery not giving delivery phone not reachable',\n",
       " 'good',\n",
       " 'death chocolate yuck',\n",
       " \"brew wise one best bangalore roof top spot onwards twilight till night decent experience especially 's lightly windy\",\n",
       " 'ordered prawn pakoda chicken pakoda delivered noodles taste gud 3stars order interchange.. please look take care',\n",
       " \"one popular food joints bangalore bangalore not burgers happened last time bangalore time around made sure go try burger dessert place usually crowded really quick service went american cheese burger xl ordering xl burger place huge mistake size huge could n't get proper bite know 's not fault personal opinion say 's best burger ever 2 us could n't finish burger extremely heavy flavors bang n't love cheeseee loved cheesy patty dessert mississippi mud pie say coming back place amazing sucker good desert one one personal favorites ca n't wait visit loved food\",\n",
       " 'not goog',\n",
       " 'salt food not great',\n",
       " 'ordered red velvet waffle tasted pretty good went great white chocolate packaging good beside taste though think price bit costly',\n",
       " 'biriyani family pack definitely not meant family good enough 2-3 people',\n",
       " 'good',\n",
       " 'perfect place good food tasty beers open seating giant projector screen prices slightly higher side otherwise visit especially weekend evenings',\n",
       " '3.5/5 place located opposite empire restaurant kormangala 5th block reviews zomato made visit place ambience good self service restaurant ordered chicken pandan sauce pad thai good quantity chicken pandan sauce little spicy pad thai sweet tangy loves spicy food donã\\x83â\\x83â\\x83ã\\x83â\\x82â\\x83ã\\x83â\\x83â\\x82ã\\x83â\\x82â\\x82ã\\x83â\\x83â\\x83ã\\x83â\\x82â\\x82ã\\x83â\\x83â\\x82ã\\x83â\\x82â\\x92t go dish overall good place',\n",
       " 'return amount worst food never seen',\n",
       " 'best thali',\n",
       " \"'ve twice experience great street theme multiple stalls stands amidst others area another great thing place open stage people get perform though 'm unaware whether invited house 's registration process showcase one 's talent food great 's self service place though stalls provide service well summary 's great place spend leisure evening friends n family\",\n",
       " 'visited new start up.not go place ambiance good.warm welcome staff.can try traditional andhra food improve traditional andhra taste',\n",
       " \"would rather give 0 scale however unfortunately 's not scale yet get stinky place stale rotten days old sweets snacks food items completely soaked unhealthy oil famous dahi vada 's dahi horribly sour samosas stuffing stale bitter taste would n't recommend place anybody save money health avoiding place\",\n",
       " 'ordered beef shawarma jumbo roll chicken roll beef rolls not fit human consumption meat terrible wasnt cooked even heating microwave tasted like chewing gum',\n",
       " 'not goog',\n",
       " 'md tokir service really good one .. priya two guys .. served well took us food whatever like',\n",
       " 'good option hanging friends office people bold offers varied options food drinks along hooka place seperate dance floor dance lovers really enjoy evening food get good options indian continental italian cuisine loved honey basil chicken starters',\n",
       " 'full marks excellent food excellent value money fresh tasty- tried south indian north indian chinese food 4 day period meals idly vada south indian thali rava idli favourites dosas bit thick taste though even though taste good curd 5/- plate great value money juices water melon particular 25/- real steal venk',\n",
       " \"ambience 4/5 value money 4/5 food 4/5 service 3/5 hygiene- 3/5 try nope worth visiting twice nope good couple yes location okay usp unique selling point invite band artist sometime bollywood artist 's fun\",\n",
       " \"bought biscuits yesterday 's nice quality taste bought chocolate delight triple delighparking may problem road\",\n",
       " \"good food good ambiance live music could 've better no biggie items ordered pizza diavola con pollo ã\\x83â\\x83â\\x83ã\\x83â\\x82â\\x83ã\\x83â\\x83â\\x82ã\\x83â\\x82â\\x83ã\\x83â\\x83â\\x83ã\\x83â\\x82â\\x82ã\\x83â\\x83â\\x82ã\\x83â\\x82ã\\x82â¢ã\\x83â\\x83â\\x83ã\\x83â\\x82â\\x83ã\\x83â\\x83â\\x82ã\\x83â\\x82â\\x82ã\\x83â\\x83â\\x83ã\\x83â\\x82â\\x82ã\\x83â\\x83â\\x82ã\\x83â\\x82â\\x80ã\\x83â\\x83â\\x83ã\\x83â\\x82â\\x83ã\\x83â\\x83â\\x82ã\\x83â\\x82â\\x82ã\\x83â\\x83â\\x83ã\\x83â\\x82â\\x82ã\\x83â\\x83â\\x82ã\\x83â\\x82â\\x93 4.5/5 starters chicken tikka bao ã\\x83â\\x83â\\x83ã\\x83â\\x82â\\x83ã\\x83â\\x83â\\x82ã\\x83â\\x82â\\x83ã\\x83â\\x83â\\x83ã\\x83â\\x82â\\x82ã\\x83â\\x83â\\x82ã\\x83â\\x82ã\\x82â¢ã\\x83â\\x83â\\x83ã\\x83â\\x82â\\x83ã\\x83â\\x83â\\x82ã\\x83â\\x82â\\x82ã\\x83â\\x83â\\x83ã\\x83â\\x82â\\x82ã\\x83â\\x83â\\x82ã\\x83â\\x82â\\x80ã\\x83â\\x83â\\x83ã\\x83â\\x82â\\x83ã\\x83â\\x83â\\x82ã\\x83â\\x82â\\x82ã\\x83â\\x83â\\x83ã\\x83â\\x82â\\x82ã\\x83â\\x83â\\x82ã\\x83â\\x82â\\x93 4/5 starters keema ghotala sliders ã\\x83â\\x83â\\x83ã\\x83â\\x82â\\x83ã\\x83â\\x83â\\x82ã\\x83â\\x82â\\x83ã\\x83â\\x83â\\x83ã\\x83â\\x82â\\x82ã\\x83â\\x83â\\x82ã\\x83â\\x82ã\\x82â¢ã\\x83â\\x83â\\x83ã\\x83â\\x82â\\x83ã\\x83â\\x83â\\x82ã\\x83â\\x82â\\x82ã\\x83â\\x83â\\x83ã\\x83â\\x82â\\x82ã\\x83â\\x83â\\x82ã\\x83â\\x82â\\x80ã\\x83â\\x83â\\x83ã\\x83â\\x82â\\x83ã\\x83â\\x83â\\x82ã\\x83â\\x82â\\x82ã\\x83â\\x83â\\x83ã\\x83â\\x82â\\x82ã\\x83â\\x83â\\x82ã\\x83â\\x82â\\x93 4.5/5 mains gai pad krapow ã\\x83â\\x83â\\x83ã\\x83â\\x82â\\x83ã\\x83â\\x83â\\x82ã\\x83â\\x82â\\x83ã\\x83â\\x83â\\x83ã\\x83â\\x82â\\x82ã\\x83â\\x83â\\x82ã\\x83â\\x82ã\\x82â¢ã\\x83â\\x83â\\x83ã\\x83â\\x82â\\x83ã\\x83â\\x83â\\x82ã\\x83â\\x82â\\x82ã\\x83â\\x83â\\x83ã\\x83â\\x82â\\x82ã\\x83â\\x83â\\x82ã\\x83â\\x82â\\x80ã\\x83â\\x83â\\x83ã\\x83â\\x82â\\x83ã\\x83â\\x83â\\x82ã\\x83â\\x82â\\x82ã\\x83â\\x83â\\x83ã\\x83â\\x82â\\x82ã\\x83â\\x83â\\x82ã\\x83â\\x82â\\x93 4/5\",\n",
       " 'gone breakfast buffet good variety food multiple cuisines continental south indian asian food great drawback service werent attentive placing orders ambiance wasl delightful location easy catch',\n",
       " 'tried veg andhra thali quantities humongous three us shared thali however everything really spicy especially dal lot green chilli sambar good kheer value money tolerance chilli',\n",
       " \"'s shame n't tried upon flame lip smacking food first time licked sizzler plate bloody good two us ordered fish chilly chicken steak sizzler pork steak sauce killer meat tender sides absolutely fresh end old salad sides mashed potatoes lot places served everything super fresh wish place runs packed house complaint drinks tad sweet highly recommended\",\n",
       " 'think one places pretty ambiance loved food incredible tried burger pasta taste absolutely fantastic.me friends good grub time also service also gooooooodddd',\n",
       " \"ambience really good staff polite food also good ordered singapore noodles tandoori platter icecream singapore noodles specifically n't like much rest food good interior beautiful nice place go\",\n",
       " 'love energy new place packed even wed night service fairly good needed reminded pending orders times eventually come good food worth small portions cost itã\\x83â\\x83â\\x83ã\\x83â\\x82â\\x83ã\\x83â\\x83â\\x82ã\\x83â\\x82â\\x83ã\\x83â\\x83â\\x83ã\\x83â\\x82â\\x82ã\\x83â\\x83â\\x82ã\\x83â\\x82ã\\x82â¢ã\\x83â\\x83â\\x83ã\\x83â\\x82â\\x83ã\\x83â\\x83â\\x82ã\\x83â\\x82â\\x82ã\\x83â\\x83â\\x83ã\\x83â\\x82â\\x82ã\\x83â\\x83â\\x82ã\\x83â\\x82â\\x80ã\\x83â\\x83â\\x83ã\\x83â\\x82â\\x83ã\\x83â\\x83â\\x82ã\\x83â\\x82â\\x82ã\\x83â\\x83â\\x83ã\\x83â\\x82â\\x82ã\\x83â\\x83â\\x82ã\\x83â\\x82â\\x99s fair prawns batter fry fish malnad pork good masala soda good desserts really liked honey cake moist delicious',\n",
       " 'best andra cuisine tasted odd timings 1am 3am best part peri peri pizza try avakai biryani add menu actually not menu u guys try biryani',\n",
       " 'ordered ghee masala dosa idli vada cost decent package good taste awesome breakfast ordering simply amazing',\n",
       " \"great place hang classy comfy ambience tried normal liit n't liquid nitrogen n't worry seeing menu veg non-veg starters liit great one best bangalore starters amazing try beer next time\",\n",
       " \"place taken waffle game whole new level exotic waffles like 've never see plain waffles pretty common every makes place different unique waffle brands signature bubble waffle n't find brands 'd highly recommend anyone try bubble waffle looks big chunky eating feels smooth delicious visited place place completely packed customers really shows place waffles really popular among waffle lovers observed frequent online orders waffles shows great demand waffles excellent service staff quick delivery\",\n",
       " \"looking new cafe bored old one 's jayanagar looking good option- continental options different kind momo 's sandwiches pizza 's look good ice creams desserts good ice creams made millets one interesting menu would say ambiance restaurant cute artificially lit trees colorful space around jayanagar 4th block place little difficult miss different games fun place service pretty good would definitely recommend place\",\n",
       " 'think one places pretty ambiance loved food incredible tried burger pasta taste absolutely fantastic.me friends good grub time also service also gooooooodddd',\n",
       " \"menu looks interesting little know pizza samosa vegetables filling macaroni samosa nice 's small joint easy miss n't looking carefully would like try everything menu since n't seen concept like anywhere else\",\n",
       " \"saw place koramangala last time since wish list long time..visited weekend lunch guess reached quite early p starters blow mind..there 10 veg non-veg starters equally amazing..main course pretty normal..there live counter toooo served us customised foood items.. coming desserts like icing cake..everything delicious..could n't try ice creams since already full special appreciation goes staff great hospitality..staff polite took good care us\",\n",
       " 'amazing andhra style traditional food shole chicken kebab fish fry really yummy ..if one required home made food try here..superb',\n",
       " \"easily one best sweet shops typical north indian style flavoured sweets snacks highlights cashew nuts sweets best buy get assorted ones khowa meethais highlights moong ka hlawa jalebi wow samosa though not best list yes..average one serve thalis n't tried try soon\",\n",
       " \"madurai dosa shop cheap convenient love south indian food would like daily basis w often opt breakfast even though ambiance shabby unclean food undoubtedly good favorite ghee podi dosa also happen make excellent idlis uttapams masala dosa well n't appeal much afternoon meals parottas curry fairly average particularly like coconut chutney serve dosas idlis sambhar tastes strongly drumstick low spices\",\n",
       " \"wanted try food offers pizzas items asked guy counter served wood fire pizzas employee replied yes later asked size serve replied medium size went ahead ordered cheese pizza couple shawarmas printing bill says cheese pizza n't come offer price pay full amount n't wanted argue payed bill later got order realised make pizzas microwave 's small size shawarmas kinda fine strong onion smell pizza terrible threw away eating piece 'm giving 2 rating shawarma rolls least edible\",\n",
       " 'taste good masala bit more.. got small piece chicken rice .plz careful next time',\n",
       " 'one nicest place whitefield.. taste beer great ambience also awesome tried malai chicken tikka ok ok pizza greatã\\x83â\\x83â\\x83ã\\x83â\\x82â\\x83ã\\x83â\\x83â\\x82ã\\x83â\\x82â\\x83ã\\x83â\\x83â\\x83ã\\x83â\\x82â\\x82ã\\x83â\\x83â\\x82ã\\x83â\\x82ã\\x82â°ã\\x83â\\x83â\\x83ã\\x83â\\x82â\\x83ã\\x83â\\x83â\\x82ã\\x83â\\x82â\\x82ã\\x83â\\x83â\\x83ã\\x83â\\x82â\\x82ã\\x83â\\x83â\\x82ã\\x83â\\x82â\\x9fã\\x83â\\x83â\\x83ã\\x83â\\x82â\\x83ã\\x83â\\x83â\\x82ã\\x83â\\x82â\\x82ã\\x83â\\x83â\\x83ã\\x83â\\x82â\\x82ã\\x83â\\x83â\\x82ã\\x83â\\x82â\\x98ã\\x83â\\x83â\\x83ã\\x83â\\x82â\\x83ã\\x83â\\x83â\\x82ã\\x83â\\x82â\\x82ã\\x83â\\x83â\\x83ã\\x83â\\x82â\\x82ã\\x83â\\x83â\\x82ã\\x83â\\x82â\\x8bã\\x83â\\x83â\\x83ã\\x83â\\x82â\\x83ã\\x83â\\x83â\\x82ã\\x83â\\x82â\\x83ã\\x83â\\x83â\\x83ã\\x83â\\x82â\\x82ã\\x83â\\x83â\\x82ã\\x83â\\x82ã\\x82â°ã\\x83â\\x83â\\x83ã\\x83â\\x82â\\x83ã\\x83â\\x83â\\x82ã\\x83â\\x82â\\x82ã\\x83â\\x83â\\x83ã\\x83â\\x82â\\x82ã\\x83â\\x83â\\x82ã\\x83â\\x82â\\x9fã\\x83â\\x83â\\x83ã\\x83â\\x82â\\x83ã\\x83â\\x83â\\x82ã\\x83â\\x82â\\x82ã\\x83â\\x83â\\x83ã\\x83â\\x82â\\x82ã\\x83â\\x83â\\x82ã\\x83â\\x82â\\x98ã\\x83â\\x83â\\x83ã\\x83â\\x82â\\x83ã\\x83â\\x83â\\x82ã\\x83â\\x82â\\x82ã\\x83â\\x83â\\x83ã\\x83â\\x82â\\x82ã\\x83â\\x83â\\x82ã\\x83â\\x82â\\x8d saturday night visited place place pretty much full luckily got seat first floor without booking thanks friendly staffsã\\x83â\\x83â\\x83ã\\x83â\\x82â\\x83ã\\x83â\\x83â\\x82ã\\x83â\\x82â\\x83ã\\x83â\\x83â\\x83ã\\x83â\\x82â\\x82ã\\x83â\\x83â\\x82ã\\x83â\\x82ã\\x82â°ã\\x83â\\x83â\\x83ã\\x83â\\x82â\\x83ã\\x83â\\x83â\\x82ã\\x83â\\x82â\\x82ã\\x83â\\x83â\\x83ã\\x83â\\x82â\\x82ã\\x83â\\x83â\\x82ã\\x83â\\x82â\\x9fã\\x83â\\x83â\\x83ã\\x83â\\x82â\\x83ã\\x83â\\x83â\\x82ã\\x83â\\x82â\\x82ã\\x83â\\x83â\\x83ã\\x83â\\x82â\\x82ã\\x83â\\x83â\\x82ã\\x83â\\x82ã\\x82â¤ã\\x83â\\x83â\\x83ã\\x83â\\x82â\\x83ã\\x83â\\x83â\\x82ã\\x83â\\x82â\\x82ã\\x83â\\x83â\\x83ã\\x83â\\x82â\\x82ã\\x83â\\x83â\\x82ã\\x83â\\x82â\\x97 projector playing live football ã\\x83â\\x83â\\x83ã\\x83â\\x82â\\x83ã\\x83â\\x83â\\x82ã\\x83â\\x82â\\x83ã\\x83â\\x83â\\x83ã\\x83â\\x82â\\x82ã\\x83â\\x83â\\x82ã\\x83â\\x82ã\\x82â°ã\\x83â\\x83â\\x83ã\\x83â\\x82â\\x83ã\\x83â\\x83â\\x82ã\\x83â\\x82â\\x82ã\\x83â\\x83â\\x83ã\\x83â\\x82â\\x82ã\\x83â\\x83â\\x82ã\\x83â\\x82â\\x9fã\\x83â\\x83â\\x83ã\\x83â\\x82â\\x83ã\\x83â\\x83â\\x82ã\\x83â\\x82â\\x82ã\\x83â\\x83â\\x83ã\\x83â\\x82â\\x82ã\\x83â\\x83â\\x82ã\\x83â\\x82â\\x98ã\\x83â\\x83â\\x83ã\\x83â\\x82â\\x83ã\\x83â\\x83â\\x82ã\\x83â\\x82â\\x82ã\\x83â\\x83â\\x83ã\\x83â\\x82â\\x82ã\\x83â\\x83â\\x82ã\\x83â\\x82â\\x8dã\\x83â\\x83â\\x83ã\\x83â\\x82â\\x83ã\\x83â\\x83â\\x82ã\\x83â\\x82â\\x83ã\\x83â\\x83â\\x83ã\\x83â\\x82â\\x82ã\\x83â\\x83â\\x82ã\\x83â\\x82ã\\x82â°ã\\x83â\\x83â\\x83ã\\x83â\\x82â\\x83ã\\x83â\\x83â\\x82ã\\x83â\\x82â\\x82ã\\x83â\\x83â\\x83ã\\x83â\\x82â\\x82ã\\x83â\\x83â\\x82ã\\x83â\\x82â\\x9fã\\x83â\\x83â\\x83ã\\x83â\\x82â\\x83ã\\x83â\\x83â\\x82ã\\x83â\\x82â\\x82ã\\x83â\\x83â\\x83ã\\x83â\\x82â\\x82ã\\x83â\\x83â\\x82ã\\x83â\\x82â\\x98ã\\x83â\\x83â\\x83ã\\x83â\\x82â\\x83ã\\x83â\\x83â\\x82ã\\x83â\\x82â\\x82ã\\x83â\\x83â\\x83ã\\x83â\\x82â\\x82ã\\x83â\\x83â\\x82ã\\x83â\\x82â\\x8d starting playing english songs pretty boring later started playing hindi songs awesome.. whitefield add place wishlist ã\\x83â\\x83â\\x83ã\\x83â\\x82â\\x83ã\\x83â\\x83â\\x82ã\\x83â\\x82â\\x83ã\\x83â\\x83â\\x83ã\\x83â\\x82â\\x82ã\\x83â\\x83â\\x82ã\\x83â\\x82ã\\x82â°ã\\x83â\\x83â\\x83ã\\x83â\\x82â\\x83ã\\x83â\\x83â\\x82ã\\x83â\\x82â\\x82ã\\x83â\\x83â\\x83ã\\x83â\\x82â\\x82ã\\x83â\\x83â\\x82ã\\x83â\\x82â\\x9fã\\x83â\\x83â\\x83ã\\x83â\\x82â\\x83ã\\x83â\\x83â\\x82ã\\x83â\\x82â\\x82ã\\x83â\\x83â\\x83ã\\x83â\\x82â\\x82ã\\x83â\\x83â\\x82ã\\x83â\\x82â\\x98ã\\x83â\\x83â\\x83ã\\x83â\\x82â\\x83ã\\x83â\\x83â\\x82ã\\x83â\\x82â\\x82ã\\x83â\\x83â\\x83ã\\x83â\\x82â\\x82ã\\x83â\\x83â\\x82ã\\x83â\\x82â\\x81ã\\x83â\\x83â\\x83ã\\x83â\\x82â\\x83ã\\x83â\\x83â\\x82ã\\x83â\\x82â\\x83ã\\x83â\\x83â\\x83ã\\x83â\\x82â\\x82ã\\x83â\\x83â\\x82ã\\x83â\\x82ã\\x82â°ã\\x83â\\x83â\\x83ã\\x83â\\x82â\\x83ã\\x83â\\x83â\\x82ã\\x83â\\x82â\\x82ã\\x83â\\x83â\\x83ã\\x83â\\x82â\\x82ã\\x83â\\x83â\\x82ã\\x83â\\x82â\\x9fã\\x83â\\x83â\\x83ã\\x83â\\x82â\\x83ã\\x83â\\x83â\\x82ã\\x83â\\x82â\\x82ã\\x83â\\x83â\\x83ã\\x83â\\x82â\\x82ã\\x83â\\x83â\\x82ã\\x83â\\x82â\\x98ã\\x83â\\x83â\\x83ã\\x83â\\x82â\\x83ã\\x83â\\x83â\\x82ã\\x83â\\x82â\\x82ã\\x83â\\x83â\\x83ã\\x83â\\x82â\\x82ã\\x83â\\x83â\\x82ã\\x83â\\x82â\\x81 one area feel enhanced waiter service may visited saturday night wait bit longer hold waiter food:3.5/5 beer:5/5 staff:4/5 cost 2 beer 2000',\n",
       " 'ordered veg meal chicken meal chicken meal not delivered veg meal delivered even papad pickle not delivered',\n",
       " 'exxxxcelllllent experience looks like train taste also great fabulous ambience totally fantabulous',\n",
       " \"late delivery packaging n't good food cold\",\n",
       " 'nice restaurant south indian snacks dose good chats quantity less tried mangaluru bonda chats coffee quick preparation food self service',\n",
       " 'juices good good packaging value money especially need juice late night',\n",
       " \"pub marathalli bangalore known dance floor dj dance floor pretty good since friday dj played bollywood actually made us groove couple hours non-stop n't find anything good place ambiance fine say palatable food also par nothing great chicken wings worth try though huge disappointment drinks menu prices unreasonably high signature cocktails good though worst wine way par need work lot things attract crowd\",\n",
       " 'fresh food nicely',\n",
       " \"great ambience food ordered fish chilly starter nasi goreng main portion size huge least could n't think ordering dessert navin took care table great service thank\",\n",
       " 'thes chicken dum bariyani not god.. tha cow food thes chicken bariyani to60 avabe salt thes chicken bariyani not good weist many',\n",
       " 'ordered egg biryani mango milkshake biryani strong try',\n",
       " 'loved taste food however looked like chef hurry go home lumps ingredients garlic not peeled onions size thumb capsicum weight kilo ..and worst part ordered chicken biriyani delivered extra oil chicken fried rice',\n",
       " 'nice',\n",
       " \"one extra star amazing beer served arbor competition n't tasted smooth refreshing beer long time keep up.the good work\",\n",
       " \"really love ambience feel ya 'll much better came looking rating zomato 're slightly disappointed food beer improve taste prices charged\",\n",
       " 'ambient pocket friendly tasty good people good vibes everything found here.great place hanging birthday parties.loved place',\n",
       " \"meghana veg biryani never disappoints me.. 's always full aroma biryani balanced super spicy.. veg biryani goes well egg chilli..\",\n",
       " 'good',\n",
       " 'bad .no taste no ice cream .i dissatisfied .ver less quantity',\n",
       " 'ordered place didnã\\x83â\\x83â\\x83ã\\x83â\\x82â\\x83ã\\x83â\\x83â\\x82ã\\x83â\\x82â\\x83ã\\x83â\\x83â\\x83ã\\x83â\\x82â\\x82ã\\x83â\\x83â\\x82ã\\x83â\\x82â\\x82ã\\x83â\\x83â\\x83ã\\x83â\\x82â\\x83ã\\x83â\\x83â\\x82ã\\x83â\\x82â\\x82ã\\x83â\\x83â\\x83ã\\x83â\\x82â\\x82ã\\x83â\\x83â\\x82ã\\x83â\\x82â\\x92t like much wasnã\\x83â\\x83â\\x83ã\\x83â\\x82â\\x83ã\\x83â\\x83â\\x82ã\\x83â\\x82â\\x83ã\\x83â\\x83â\\x83ã\\x83â\\x82â\\x82ã\\x83â\\x83â\\x82ã\\x83â\\x82â\\x82ã\\x83â\\x83â\\x83ã\\x83â\\x82â\\x83ã\\x83â\\x83â\\x82ã\\x83â\\x82â\\x82ã\\x83â\\x83â\\x83ã\\x83â\\x82â\\x82ã\\x83â\\x83â\\x82ã\\x83â\\x82â\\x92t authentic kerala parotas werenã\\x83â\\x83â\\x83ã\\x83â\\x82â\\x83ã\\x83â\\x83â\\x82ã\\x83â\\x82â\\x83ã\\x83â\\x83â\\x83ã\\x83â\\x82â\\x82ã\\x83â\\x83â\\x82ã\\x83â\\x82â\\x82ã\\x83â\\x83â\\x83ã\\x83â\\x82â\\x83ã\\x83â\\x83â\\x82ã\\x83â\\x82â\\x82ã\\x83â\\x83â\\x83ã\\x83â\\x82â\\x82ã\\x83â\\x83â\\x82ã\\x83â\\x82â\\x92t great thin stretched appam could little better work tasted good egg curry didnã\\x83â\\x83â\\x83ã\\x83â\\x82â\\x83ã\\x83â\\x83â\\x82ã\\x83â\\x82â\\x83ã\\x83â\\x83â\\x83ã\\x83â\\x82â\\x82ã\\x83â\\x83â\\x82ã\\x83â\\x82â\\x82ã\\x83â\\x83â\\x83ã\\x83â\\x82â\\x83ã\\x83â\\x83â\\x82ã\\x83â\\x82â\\x82ã\\x83â\\x83â\\x83ã\\x83â\\x82â\\x82ã\\x83â\\x83â\\x82ã\\x83â\\x82â\\x92t taste anything like ones get kerala near itã\\x83â\\x83â\\x83ã\\x83â\\x82â\\x83ã\\x83â\\x83â\\x82ã\\x83â\\x82â\\x83ã\\x83â\\x83â\\x83ã\\x83â\\x82â\\x82ã\\x83â\\x83â\\x82ã\\x83â\\x82â\\x82ã\\x83â\\x83â\\x83ã\\x83â\\x82â\\x83ã\\x83â\\x83â\\x82ã\\x83â\\x82â\\x82ã\\x83â\\x83â\\x83ã\\x83â\\x82â\\x82ã\\x83â\\x83â\\x82ã\\x83â\\x82â\\x92s border good way expecting little kerala like',\n",
       " 'closed first floor service section really loved chole batura n badam milk hopefully start food items service',\n",
       " 'best thali',\n",
       " 'without doubt try place chicken sauce lovers located along side bannerghatta road vega city mall guys limited number food items bang hard taste main course items prepared based type sauce given time order tried two food items bang starters chick-inse nothing piece bread tons chicken cheese taste amazing grilled chicken mild sauce made right juicy ice tea bit something improved overall great experience place definitely visit try rest food items highly recommended place',\n",
       " 'not good',\n",
       " 'food delicious quantity less',\n",
       " \"place literally serves everything one eat enjoy many options nice taste well service prompt given card swipe shops afterwards much amount 'll pay makes hassle free\",\n",
       " 'ordered honey chilli garlic potato lemon grass clear soup veg pad thai fr main course..the food fantastic top soup mind blowing flavours spiciness ..sagar took good care us suggestions service spot ..overall great experience looking fwd visit again..',\n",
       " 'iã\\x83â\\x83â\\x83ã\\x83â\\x82â\\x83ã\\x83â\\x83â\\x82ã\\x83â\\x82â\\x82ã\\x83â\\x83â\\x83ã\\x83â\\x82â\\x82ã\\x83â\\x83â\\x82ã\\x83â\\x82â\\x92m fan asian cuisine hence cutesy place opened try service nice ambience good cute panda statue entrance panda shaped salt pepper shakers stuff found food decent not great ð\\x9f¥¡ like whole concept customising order eating china box though worth visit',\n",
       " 'real bad experience thanks swiggy got refund.. ordered chicken steamed fried n szechuan steamed momo stale n brown colour.. filling stinking bad ruined momo experience',\n",
       " 'amazing totally impressed place give place full 5 rating without doubt fresh crisp good quality waffles tried sin red wonder waffles bubble overload waffles loved sin hot chocolatey..also peri peri fries helped interlude waffles altogether best waffles bangalore would love visit place try types waffles',\n",
       " 'ordered egg biryani mango milkshake biryani strong try',\n",
       " 'amazing place party n drinks coming delhi bangalore low customer service waiter not ready listen order still exchanged it..food not great though dont basics like peanuts pappad assortments',\n",
       " 'steaks awesome added amazingly tasting mashed potato staffs friendly courteous would surely recommend others give shot',\n",
       " \"'ve visited outlet close another truffles outlet st. marks road two times times impressed no table reservation service 's based first come first basis always line usually long like trademark love burgers shakes steak american cheese burger much hate speak hype actually impressive ferrero rocher shake also amazing service also amazing quick servers professional overall amazing food great experience\",\n",
       " \"'re worst half dishes menu absent saturday afternoon service dismal fooled high rating zomato please n't visit\",\n",
       " 'worst food much salt cooked egg fried rice omlet pices instead proper egg pieces',\n",
       " \"starters great.. guishow chilly chicken try.. service also awesome especially loki service guy 's try place bangalore..\",\n",
       " 'lovely place pan asian food heart koramangala.. decor really cute pandas stuffs self service place try chicken spicy orange sauce black bean udon perfect one also customise noodle bowls per choice would try ramen next',\n",
       " 'ordered crunchy veg burger swiggy everything packaging taste unique commendable burger veg pakoras quite crispy promised size burger huge recommended going try variants soon',\n",
       " \"love pandas went small place busiest road kormangala place n't anything fancy love pandas like coz decor owners friendly n suggested couple things tried bubble shake super yum momo 's noodle bowls convenient n nice also cookie shaped panda n't tasty cute service quick also 's self service overall fun place decent food lovely decor\",\n",
       " 'ambience isnã\\x83â\\x83â\\x83ã\\x83â\\x82â\\x83ã\\x83â\\x83â\\x82ã\\x83â\\x82â\\x83ã\\x83â\\x83â\\x83ã\\x83â\\x82â\\x82ã\\x83â\\x83â\\x82ã\\x83â\\x82ã\\x82â¢ã\\x83â\\x83â\\x83ã\\x83â\\x82â\\x83ã\\x83â\\x83â\\x82ã\\x83â\\x82â\\x82ã\\x83â\\x83â\\x83ã\\x83â\\x82â\\x82ã\\x83â\\x83â\\x82ã\\x83â\\x82â\\x80ã\\x83â\\x83â\\x83ã\\x83â\\x82â\\x83ã\\x83â\\x83â\\x82ã\\x83â\\x82â\\x82ã\\x83â\\x83â\\x83ã\\x83â\\x82â\\x82ã\\x83â\\x83â\\x82ã\\x83â\\x82â\\x99t great biryani tastes really good single biryani enough two people tip try boneless chicken biryani',\n",
       " 'salt food not great',\n",
       " 'pizzas good.but chefs need cleaner seen using old dirty cloth wipe kitchen table.and gross arrogant compared pizza stop outlets lots changed',\n",
       " 'worst',\n",
       " 'pocket friendly delicious great ambiance combination exotic things minimum price death chocolate gudbud really heart melting not forget milk shakes truly impressive last not least pizzas burgers fries cheese balls give feeling amazing place',\n",
       " 'ordered chicken fry got chicken leg',\n",
       " 'ordered beef shawarma jumbo roll chicken roll beef rolls not fit human consumption meat terrible wasnt cooked even heating microwave tasted like chewing gum',\n",
       " 'ordered food skipped',\n",
       " 'used regular place lunch could not handle spicy food please note biryani preparation different typical bangalore kinda preparation not like hyderabadi biryani dumm biryani ambur style biryani served leaf bowl.. menu option spicy yumm food',\n",
       " '3.5/5 place located opposite empire restaurant kormangala 5th block reviews zomato made visit place ambience good self service restaurant ordered chicken pandan sauce pad thai good quantity chicken pandan sauce little spicy pad thai sweet tangy loves spicy food donã\\x83â\\x83â\\x83ã\\x83â\\x82â\\x83ã\\x83â\\x83â\\x82ã\\x83â\\x82â\\x82ã\\x83â\\x83â\\x83ã\\x83â\\x82â\\x82ã\\x83â\\x83â\\x82ã\\x83â\\x82â\\x92t go dish overall good place',\n",
       " 'packing really bad',\n",
       " 'great place hangout.. food amazing try tandoori chicken mustard laccha onion galouti ka baap puliyogare arrancini coconut chutney lip smacking great staff.. problem dance floor end.. complete different room together',\n",
       " \"ordered paneer pizza signature crust 's actually not disappointing not complaining taste 's healthy scope improvement taste definitely\",\n",
       " \"rock music open air chilled beer whiskey rocks rain views sesame pork sweet chilli pork kalamari preparation 'm sorted next 3.4 hours there.. n't dance place crowd go 's groove type music play\",\n",
       " 'urban spice one reasonable buffet restaurant average ambiance staffs soooooo cool polite good quantity quality',\n",
       " \"ordered garlic bread mushroom cheese extremely delicious service also swift n't accept cards downside place\",\n",
       " 'bad food.. literally bad food.. ordered 750 ml coke gave 600ml sprite.. worst butter chicken evee life',\n",
       " \"someone love asian cuisine try place .loved food .black bean udon yum first time trying ..ramen also good n't like momo though ..still rest food good\",\n",
       " 'good',\n",
       " 'best briyani ever life true flavours briyani sholay kebab boneless chicken briyani time favourite quantity meets quality 5 stars food 5 stars service',\n",
       " 'quantity mutton piece less',\n",
       " 'place bookmarks since long time decided give try team dinner say wasnã\\x83â\\x83â\\x83ã\\x83â\\x82â\\x83ã\\x83â\\x83â\\x82ã\\x83â\\x82â\\x82ã\\x83â\\x83â\\x83ã\\x83â\\x82â\\x82ã\\x83â\\x83â\\x82ã\\x83â\\x82â\\x92t wrong choice quite big place accommodate good number people staffs polite helpful service also quick serve good number veg non veg starters yumm everything tasted superb non veg main course quite many options good taste chicken hyderabadi good didnã\\x83â\\x83â\\x83ã\\x83â\\x82â\\x83ã\\x83â\\x83â\\x82ã\\x83â\\x82â\\x82ã\\x83â\\x83â\\x83ã\\x83â\\x82â\\x82ã\\x83â\\x83â\\x82ã\\x83â\\x82â\\x92t try veg teammates told also equally good live kitchen no one us could try overloaded starters desert moderate options tasted jamun ice cream vanilla butterscotch flavours good coming mocktails try also didnã\\x83â\\x83â\\x83ã\\x83â\\x82â\\x83ã\\x83â\\x83â\\x82ã\\x83â\\x82â\\x82ã\\x83â\\x83â\\x83ã\\x83â\\x82â\\x82ã\\x83â\\x83â\\x82ã\\x83â\\x82â\\x92t disappoint us overall good place family well office parties guys starters try',\n",
       " 'bs',\n",
       " 'friendly staff good ambience corn cheese sandwich good lemon tea need improved cheese balls average hot chocolate coffee awesome death chocolate good overall good place hangout',\n",
       " \"'s bar mean 's bar.. bar.. haha visit not making hole pocket easily accessible located 100 ft road place group friends looking getting drunk bar quite clean tidy place unlike local bar permit room ever look menu surprise restaurants list menu unreasonable price tag look one word.. awesome\",\n",
       " 'iã\\x83â\\x83â\\x83ã\\x83â\\x82â\\x83ã\\x83â\\x83â\\x82ã\\x83â\\x82â\\x82ã\\x83â\\x83â\\x83ã\\x83â\\x82â\\x82ã\\x83â\\x83â\\x82ã\\x83â\\x82â\\x92m fan asian cuisine hence cutesy place opened try service nice ambience good cute panda statue entrance panda shaped salt pepper shakers stuff found food decent not great ð\\x9f¥¡ like whole concept customising order eating china box though worth visit',\n",
       " 'super awesome nachos finger licking peri peri.dipper yumm never felt veg food awesome tooã\\x83â\\x83â\\x83ã\\x83â\\x82â\\x83ã\\x83â\\x83â\\x82ã\\x83â\\x82â\\x83ã\\x83â\\x83â\\x83ã\\x83â\\x82â\\x82ã\\x83â\\x83â\\x82ã\\x83â\\x82ã\\x82â°ã\\x83â\\x83â\\x83ã\\x83â\\x82â\\x83ã\\x83â\\x83â\\x82ã\\x83â\\x82â\\x82ã\\x83â\\x83â\\x83ã\\x83â\\x82â\\x82ã\\x83â\\x83â\\x82ã\\x83â\\x82â\\x9fã\\x83â\\x83â\\x83ã\\x83â\\x82â\\x83ã\\x83â\\x83â\\x82ã\\x83â\\x82â\\x82ã\\x83â\\x83â\\x83ã\\x83â\\x82â\\x82ã\\x83â\\x83â\\x82ã\\x83â\\x82â\\x98ã\\x83â\\x83â\\x83ã\\x83â\\x82â\\x83ã\\x83â\\x83â\\x82ã\\x83â\\x82â\\x82ã\\x83â\\x83â\\x83ã\\x83â\\x82â\\x82ã\\x83â\\x83â\\x82ã\\x83â\\x82â\\x9dã\\x83â\\x83â\\x83ã\\x83â\\x82â\\x83ã\\x83â\\x83â\\x82ã\\x83â\\x82â\\x83ã\\x83â\\x83â\\x83ã\\x83â\\x82â\\x82ã\\x83â\\x83â\\x82ã\\x83â\\x82ã\\x82â°ã\\x83â\\x83â\\x83ã\\x83â\\x82â\\x83ã\\x83â\\x83â\\x82ã\\x83â\\x82â\\x82ã\\x83â\\x83â\\x83ã\\x83â\\x82â\\x82ã\\x83â\\x83â\\x82ã\\x83â\\x82â\\x9fã\\x83â\\x83â\\x83ã\\x83â\\x82â\\x83ã\\x83â\\x83â\\x82ã\\x83â\\x82â\\x82ã\\x83â\\x83â\\x83ã\\x83â\\x82â\\x82ã\\x83â\\x83â\\x82ã\\x83â\\x82â\\x98ã\\x83â\\x83â\\x83ã\\x83â\\x82â\\x83ã\\x83â\\x83â\\x82ã\\x83â\\x82â\\x82ã\\x83â\\x83â\\x83ã\\x83â\\x82â\\x82ã\\x83â\\x83â\\x82ã\\x83â\\x82â\\x9dã\\x83â\\x83â\\x83ã\\x83â\\x82â\\x83ã\\x83â\\x83â\\x82ã\\x83â\\x82â\\x83ã\\x83â\\x83â\\x83ã\\x83â\\x82â\\x82ã\\x83â\\x83â\\x82ã\\x83â\\x82ã\\x82â°ã\\x83â\\x83â\\x83ã\\x83â\\x82â\\x83ã\\x83â\\x83â\\x82ã\\x83â\\x82â\\x82ã\\x83â\\x83â\\x83ã\\x83â\\x82â\\x82ã\\x83â\\x83â\\x82ã\\x83â\\x82â\\x9fã\\x83â\\x83â\\x83ã\\x83â\\x82â\\x83ã\\x83â\\x83â\\x82ã\\x83â\\x82â\\x82ã\\x83â\\x83â\\x83ã\\x83â\\x82â\\x82ã\\x83â\\x83â\\x82ã\\x83â\\x82â\\x98ã\\x83â\\x83â\\x83ã\\x83â\\x82â\\x83ã\\x83â\\x83â\\x82ã\\x83â\\x82â\\x82ã\\x83â\\x83â\\x83ã\\x83â\\x82â\\x82ã\\x83â\\x83â\\x82ã\\x83â\\x82â\\x9d obviously coming back service time bit price exactly normal plenty sitting space since food court',\n",
       " 'worst service ever ..ordered one item got different item',\n",
       " \"new place indiranagar classic bangalore feels 's hardly weeks since place open already visited place twice loved concept bob please look first sheet menu card bet love food ordered chicken liver pork chops onion bhajji beef roast chicken wings 65. personal favorite chicken liver try might wan na try dishes not not forget budweiser draught comes price 's dirt cheap visit yeah might find every weekend\",\n",
       " 'good resturant food good mutton biryani calmi kabab oooo testi staff friendly come thanks ð\\x9f¤©',\n",
       " 'place give fresh feel french style windows high seating small space seating capacity 12 self service counter place certifies nice evening hangout place interacting got know make sauces not procure outside surely plus point sauces really good coming food penne pasta falafel cheese fries peach moscow mule couldnt reach till dessert got full till place decently spread menu surely work dessert menu food taste good drink refreshing taste 4/5 ambience 4/5 service 3.5/5 surely get really good pictures french windows recommendation visit place infront empire hotel church street',\n",
       " 'awful onions smelly..the raita spoilt rice bad..',\n",
       " \"'s 3.5 actually u easily find place.. serves awesome ranges mouth watering delicacies buffet menu.. starters desserts 's looooooooooooot options available want hit place go starving.. overall ambience good.. service also good.. food taste may improved cases improvement much needed terms hygiene 1. dessert cups replaced 2. found hair one dishes\",\n",
       " \"place new favourite food good specially went bubble tea tapioca become extinct places buzzing young crowd atmosphere vibrant service self nothing much abt service food quick staff friendly 's lot chinese try place back soon taste 4/5 ambiance 4/5 service 4/5 quick service food value money 4/5 overall good place hangout nice food\",\n",
       " \"'s since 1975 baap rolls kebabs.their 3rd outlet not wrong 2nd one frazer town good smiling staff sheek kebab favourite juicy perfecto blend spices aroma foodily foodie n't mis chance grab roll sizes like jumbo mumbo rambo sambo roll mogambo- khush huwa hygiene transformed good excellent still pocket friendly college days management kind enough allowed take pictures 99 wo n't guys know `` person love good food taste quality fanoos destination. ``\",\n",
       " 'cold food',\n",
       " 'awesome place spend quality time love place..a stylish thoughtfully designed refreshing place went lunch place totally worth terms everything impressed us.. nice open space greenary makes place unique awesome ambience..calm quiet atmosphere..there nothing negative place.. coming food ordered spaghetti amatriciana pork belly tiramisu brewed beer brewery..every dish utmost delicious right portions perfect blend flavours..beer amazing.. found tiramisu cream lil hard rum taste coming coffee flavour less otherwise everything great..you look this.. service good prompt quick.. friendly staffs guides properly selecting food overall nice experience keepup good work..',\n",
       " \"waffles bit dry look good n't delicious taste asked second serving chocolate sauce happy provide not help try toppings might better luck\",\n",
       " 'eat street comes one places get large variety food different stalls place concept quite unique different food stalls offering different kind dishes affordable range adding u experience live music performance munching food place self- service like food mart shopping malls coming food really like chaats offer loved dahi puri pani puri raj kachori chaat chicken tikkas also quite good offer various thalis main course items honest judging kind place terms food not good idea food serves quite average like food mart whole comes experience definitely go enjoy loved ones buddies',\n",
       " \"birinz persian word rice decent restaurant located first floor btm main road starters papdi chicken green coriander chicken patiala chicken apollo fish chicken rayalseema dry egg chilli paneer sholay soup mutton shorba cream mushroom soup main course birinz special chicken biryani reddy 's red hot chicken biryani chicken dum biryani mutton fry piece biryani mushroom biryani kulcha methi chaman nellore chicken masala gun powder rice foodnwine.in\",\n",
       " \"well .what say guess fan total waffle lover cbd watch film.and decided stop outlet try one lip smacking offerings titled crunchy munch waffle sinful combination corn flakes caramel banana cream asked disclude banana tried rest ingredients divine expected also ordered bubble wrap royale.post another one perrenial favourites loved 's creamy texture god bless belgian waffle factory providing awesome.quality affordable price\",\n",
       " \"food decent beer decent crowd decent music decent everything place decent 's good bad part place decent place not wow place good one finest places whitefield\",\n",
       " \"place good dono n't many ppl wen der ã\\x83â\\x83â\\x83ã\\x83â\\x82â\\x83ã\\x83â\\x83â\\x82ã\\x83â\\x82â\\x83ã\\x83â\\x83â\\x83ã\\x83â\\x82â\\x82ã\\x83â\\x83â\\x82ã\\x83â\\x82â\\x83ã\\x83â\\x83â\\x83ã\\x83â\\x82â\\x83ã\\x83â\\x83â\\x82ã\\x83â\\x82â\\x82ã\\x83â\\x83â\\x83ã\\x83â\\x82â\\x82ã\\x83â\\x83â\\x82ã\\x83â\\x82ã\\x82â°ã\\x83â\\x83â\\x83ã\\x83â\\x82â\\x83ã\\x83â\\x83â\\x82ã\\x83â\\x82â\\x83ã\\x83â\\x83â\\x83ã\\x83â\\x82â\\x82ã\\x83â\\x83â\\x82ã\\x83â\\x82â\\x82ã\\x83â\\x83â\\x83ã\\x83â\\x82â\\x83ã\\x83â\\x83â\\x82ã\\x83â\\x82â\\x82ã\\x83â\\x83â\\x83ã\\x83â\\x82â\\x82ã\\x83â\\x83â\\x82ã\\x83â\\x82â\\x9fã\\x83â\\x83â\\x83ã\\x83â\\x82â\\x83ã\\x83â\\x83â\\x82ã\\x83â\\x82â\\x83ã\\x83â\\x83â\\x83ã\\x83â\\x82â\\x82ã\\x83â\\x83â\\x82ã\\x83â\\x82â\\x82ã\\x83â\\x83â\\x83ã\\x83â\\x82â\\x83ã\\x83â\\x83â\\x82ã\\x83â\\x82â\\x82ã\\x83â\\x83â\\x83ã\\x83â\\x82â\\x82ã\\x83â\\x83â\\x82ã\\x83â\\x82â\\x98ã\\x83â\\x83â\\x83ã\\x83â\\x82â\\x83ã\\x83â\\x83â\\x82ã\\x83â\\x82â\\x83ã\\x83â\\x83â\\x83ã\\x83â\\x82â\\x82ã\\x83â\\x83â\\x82ã\\x83â\\x82â\\x82ã\\x83â\\x83â\\x83ã\\x83â\\x82â\\x83ã\\x83â\\x83â\\x82ã\\x83â\\x82â\\x82ã\\x83â\\x83â\\x83ã\\x83â\\x82â\\x82ã\\x83â\\x83â\\x82ã\\x83â\\x82â\\x80may cz week day scenes ã\\x83â\\x83â\\x83ã\\x83â\\x82â\\x83ã\\x83â\\x83â\\x82ã\\x83â\\x82â\\x83ã\\x83â\\x83â\\x83ã\\x83â\\x82â\\x82ã\\x83â\\x83â\\x82ã\\x83â\\x82â\\x83ã\\x83â\\x83â\\x83ã\\x83â\\x82â\\x83ã\\x83â\\x83â\\x82ã\\x83â\\x82â\\x82ã\\x83â\\x83â\\x83ã\\x83â\\x82â\\x82ã\\x83â\\x83â\\x82ã\\x83â\\x82ã\\x82â°ã\\x83â\\x83â\\x83ã\\x83â\\x82â\\x83ã\\x83â\\x83â\\x82ã\\x83â\\x82â\\x83ã\\x83â\\x83â\\x83ã\\x83â\\x82â\\x82ã\\x83â\\x83â\\x82ã\\x83â\\x82â\\x82ã\\x83â\\x83â\\x83ã\\x83â\\x82â\\x83ã\\x83â\\x83â\\x82ã\\x83â\\x82â\\x82ã\\x83â\\x83â\\x83ã\\x83â\\x82â\\x82ã\\x83â\\x83â\\x82ã\\x83â\\x82â\\x9fã\\x83â\\x83â\\x83ã\\x83â\\x82â\\x83ã\\x83â\\x83â\\x82ã\\x83â\\x82â\\x83ã\\x83â\\x83â\\x83ã\\x83â\\x82â\\x82ã\\x83â\\x83â\\x82ã\\x83â\\x82â\\x82ã\\x83â\\x83â\\x83ã\\x83â\\x82â\\x83ã\\x83â\\x83â\\x82ã\\x83â\\x82â\\x82ã\\x83â\\x83â\\x83ã\\x83â\\x82â\\x82ã\\x83â\\x83â\\x82ã\\x83â\\x82â\\x98ã\\x83â\\x83â\\x83ã\\x83â\\x82â\\x83ã\\x83â\\x83â\\x82ã\\x83â\\x82â\\x83ã\\x83â\\x83â\\x83ã\\x83â\\x82â\\x82ã\\x83â\\x83â\\x82ã\\x83â\\x82â\\x82ã\\x83â\\x83â\\x83ã\\x83â\\x82â\\x83ã\\x83â\\x83â\\x82ã\\x83â\\x82â\\x82ã\\x83â\\x83â\\x83ã\\x83â\\x82â\\x82ã\\x83â\\x83â\\x82ã\\x83â\\x82â\\x82it 's actually kind chinese cuisine ã\\x83â\\x83â\\x83ã\\x83â\\x82â\\x83ã\\x83â\\x83â\\x82ã\\x83â\\x82â\\x83ã\\x83â\\x83â\\x83ã\\x83â\\x82â\\x82ã\\x83â\\x83â\\x82ã\\x83â\\x82â\\x83ã\\x83â\\x83â\\x83ã\\x83â\\x82â\\x83ã\\x83â\\x83â\\x82ã\\x83â\\x82â\\x82ã\\x83â\\x83â\\x83ã\\x83â\\x82â\\x82ã\\x83â\\x83â\\x82ã\\x83â\\x82ã\\x82â¢ã\\x83â\\x83â\\x83ã\\x83â\\x82â\\x83ã\\x83â\\x83â\\x82ã\\x83â\\x82â\\x83ã\\x83â\\x83â\\x83ã\\x83â\\x82â\\x82ã\\x83â\\x83â\\x82ã\\x83â\\x82â\\x82ã\\x83â\\x83â\\x83ã\\x83â\\x82â\\x83ã\\x83â\\x83â\\x82ã\\x83â\\x82â\\x82ã\\x83â\\x83â\\x83ã\\x83â\\x82â\\x82ã\\x83â\\x83â\\x82ã\\x83â\\x82â\\x98ã\\x83â\\x83â\\x83ã\\x83â\\x82â\\x83ã\\x83â\\x83â\\x82ã\\x83â\\x82â\\x83ã\\x83â\\x83â\\x83ã\\x83â\\x82â\\x82ã\\x83â\\x83â\\x82ã\\x83â\\x82â\\x82ã\\x83â\\x83â\\x83ã\\x83â\\x82â\\x83ã\\x83â\\x83â\\x82ã\\x83â\\x82â\\x82ã\\x83â\\x83â\\x83ã\\x83â\\x82â\\x82ã\\x83â\\x83â\\x82ã\\x83â\\x82ã\\x82âºã\\x83â\\x83â\\x83ã\\x83â\\x82â\\x83ã\\x83â\\x83â\\x82ã\\x83â\\x82â\\x83ã\\x83â\\x83â\\x83ã\\x83â\\x82â\\x82ã\\x83â\\x83â\\x82ã\\x83â\\x82â\\x83ã\\x83â\\x83â\\x83ã\\x83â\\x82â\\x83ã\\x83â\\x83â\\x82ã\\x83â\\x82â\\x82ã\\x83â\\x83â\\x83ã\\x83â\\x82â\\x82ã\\x83â\\x83â\\x82ã\\x83â\\x82ã\\x82â¯ã\\x83â\\x83â\\x83ã\\x83â\\x82â\\x83ã\\x83â\\x83â\\x82ã\\x83â\\x82â\\x83ã\\x83â\\x83â\\x83ã\\x83â\\x82â\\x82ã\\x83â\\x83â\\x82ã\\x83â\\x82â\\x82ã\\x83â\\x83â\\x83ã\\x83â\\x82â\\x83ã\\x83â\\x83â\\x82ã\\x83â\\x82â\\x82ã\\x83â\\x83â\\x83ã\\x83â\\x82â\\x82ã\\x83â\\x83â\\x82ã\\x83â\\x82ã\\x82â¸ã\\x83â\\x83â\\x83ã\\x83â\\x82â\\x83ã\\x83â\\x83â\\x82ã\\x83â\\x82â\\x83ã\\x83â\\x83â\\x83ã\\x83â\\x82â\\x82ã\\x83â\\x83â\\x82ã\\x83â\\x82â\\x82ã\\x83â\\x83â\\x83ã\\x83â\\x82â\\x83ã\\x83â\\x83â\\x82ã\\x83â\\x82â\\x82ã\\x83â\\x83â\\x83ã\\x83â\\x82â\\x82ã\\x83â\\x83â\\x82ã\\x83â\\x82â\\x8ffood good ã\\x83â\\x83â\\x83ã\\x83â\\x82â\\x83ã\\x83â\\x83â\\x82ã\\x83â\\x82â\\x83ã\\x83â\\x83â\\x83ã\\x83â\\x82â\\x82ã\\x83â\\x83â\\x82ã\\x83â\\x82â\\x83ã\\x83â\\x83â\\x83ã\\x83â\\x82â\\x83ã\\x83â\\x83â\\x82ã\\x83â\\x82â\\x82ã\\x83â\\x83â\\x83ã\\x83â\\x82â\\x82ã\\x83â\\x83â\\x82ã\\x83â\\x82ã\\x82â°ã\\x83â\\x83â\\x83ã\\x83â\\x82â\\x83ã\\x83â\\x83â\\x82ã\\x83â\\x82â\\x83ã\\x83â\\x83â\\x83ã\\x83â\\x82â\\x82ã\\x83â\\x83â\\x82ã\\x83â\\x82â\\x82ã\\x83â\\x83â\\x83ã\\x83â\\x82â\\x83ã\\x83â\\x83â\\x82ã\\x83â\\x82â\\x82ã\\x83â\\x83â\\x83ã\\x83â\\x82â\\x82ã\\x83â\\x83â\\x82ã\\x83â\\x82â\\x9fã\\x83â\\x83â\\x83ã\\x83â\\x82â\\x83ã\\x83â\\x83â\\x82ã\\x83â\\x82â\\x83ã\\x83â\\x83â\\x83ã\\x83â\\x82â\\x82ã\\x83â\\x83â\\x82ã\\x83â\\x82â\\x82ã\\x83â\\x83â\\x83ã\\x83â\\x82â\\x83ã\\x83â\\x83â\\x82ã\\x83â\\x82â\\x82ã\\x83â\\x83â\\x83ã\\x83â\\x82â\\x82ã\\x83â\\x83â\\x82ã\\x83â\\x82â\\x98ã\\x83â\\x83â\\x83ã\\x83â\\x82â\\x83ã\\x83â\\x83â\\x82ã\\x83â\\x82â\\x83ã\\x83â\\x83â\\x83ã\\x83â\\x82â\\x82ã\\x83â\\x83â\\x82ã\\x83â\\x82â\\x82ã\\x83â\\x83â\\x83ã\\x83â\\x82â\\x83ã\\x83â\\x83â\\x82ã\\x83â\\x82â\\x82ã\\x83â\\x83â\\x83ã\\x83â\\x82â\\x82ã\\x83â\\x83â\\x82ã\\x83â\\x82â\\x81\",\n",
       " 'vijayalaxmi veg jayanagar way interview decided lunch found new restaurant took south indian meal contained poori subzi sweet sambar rasam palya rice papad cur rice poori bit oily taste good palya subzi rice cooked fine moist sambar watery not good taste rasam nice taste curd rice fresh overall satisfied lunch sridhar1206.blogspot.com',\n",
       " 'absolute heaven carnivores best meat long time bangalore ordered platter came chicken wings stir-fried beef pork chops wanted seafood spoke owner nishant super helpful threw bunch grilled prawns chicken wings juicy well seasoned stir fried beef yummy prawns served nice spicy chimichuri highlight pork chops yummy finger licking good cooked extremely well main course pork burger extra egg bacon pork nice chunky not usual mince patty one gets everywhere bacon cooked perfection definitely place shall visit hear medium rare steak calling',\n",
       " '3.5 pointer got one pasta burger peri peri fries ordered fries way wanted pasta absolutely brilliant ordering requested spaghetti delivered penee burger ok value money',\n",
       " 'meghana biriyani dream come place biriyani lovers boneless non-veg chicken biriyani absolute killer best one rice also different aroma taste really goes well chicken masala added goes superb raita salan con starts get bit heavy stomach keep gulping due richness try prawns biriyani chicken 65 chicken 555 boneless chicken biryani meghana special biriyani',\n",
       " 'bad quality food',\n",
       " 'perfect way ruin sizable well located place overpriced inattentive overwhelmed waiters ok kind drinks respite dishes decent well presented',\n",
       " \"kabab tasty hot mom 's r yummy\",\n",
       " 'lots place table booking since place gets packed fassstttt even sunday afternoon upmarket location brings back old bangalore charms service courteous though slow packed added value place food not fine dine niceeee apple pie filter coffee cheesecake goodddd definitely recommend add ã\\x83â\\x83â\\x83ã\\x83â\\x82â\\x83ã\\x83â\\x83â\\x82ã\\x83â\\x82â\\x83ã\\x83â\\x83â\\x83ã\\x83â\\x82â\\x82ã\\x83â\\x83â\\x82ã\\x83â\\x82ã\\x82â¢ã\\x83â\\x83â\\x83ã\\x83â\\x82â\\x83ã\\x83â\\x83â\\x82ã\\x83â\\x82â\\x82ã\\x83â\\x83â\\x83ã\\x83â\\x82â\\x82ã\\x83â\\x83â\\x82ã\\x83â\\x82â\\x80ã\\x83â\\x83â\\x83ã\\x83â\\x82â\\x83ã\\x83â\\x83â\\x82ã\\x83â\\x82â\\x82ã\\x83â\\x83â\\x83ã\\x83â\\x82â\\x82ã\\x83â\\x83â\\x82ã\\x83â\\x82â\\x9chave frequent visit ã\\x83â\\x83â\\x83ã\\x83â\\x82â\\x83ã\\x83â\\x83â\\x82ã\\x83â\\x82â\\x83ã\\x83â\\x83â\\x83ã\\x83â\\x82â\\x82ã\\x83â\\x83â\\x82ã\\x83â\\x82ã\\x82â¢ã\\x83â\\x83â\\x83ã\\x83â\\x82â\\x83ã\\x83â\\x83â\\x82ã\\x83â\\x82â\\x82ã\\x83â\\x83â\\x83ã\\x83â\\x82â\\x82ã\\x83â\\x83â\\x82ã\\x83â\\x82â\\x80ã\\x83â\\x83â\\x83ã\\x83â\\x82â\\x83ã\\x83â\\x83â\\x82ã\\x83â\\x82â\\x82ã\\x83â\\x83â\\x83ã\\x83â\\x82â\\x82ã\\x83â\\x83â\\x82ã\\x83â\\x82â\\x9c',\n",
       " \"one best pubs to.they brewery nice food options.ambiance awesome.they live music dance floor downstairs.spacious enough.its near graphite india main road opposite 'll patrol pump\",\n",
       " \"great place excellent food awesome company u n't tried place yet u really missing great great great food rice person stuck chicken skewers saffron rice sooooooo good straight burger blue cheese sister ordered kaput less minuteã\\x83â\\x83â\\x83ã\\x83â\\x82â\\x83ã\\x83â\\x83â\\x82ã\\x83â\\x82â\\x83ã\\x83â\\x83â\\x83ã\\x83â\\x82â\\x82ã\\x83â\\x83â\\x82ã\\x83â\\x82ã\\x82â°ã\\x83â\\x83â\\x83ã\\x83â\\x82â\\x83ã\\x83â\\x83â\\x82ã\\x83â\\x82â\\x82ã\\x83â\\x83â\\x83ã\\x83â\\x82â\\x82ã\\x83â\\x83â\\x82ã\\x83â\\x82â\\x9fã\\x83â\\x83â\\x83ã\\x83â\\x82â\\x83ã\\x83â\\x83â\\x82ã\\x83â\\x82â\\x82ã\\x83â\\x83â\\x83ã\\x83â\\x82â\\x82ã\\x83â\\x83â\\x82ã\\x83â\\x82â\\x98ã\\x83â\\x83â\\x83ã\\x83â\\x82â\\x83ã\\x83â\\x83â\\x82ã\\x83â\\x82â\\x82ã\\x83â\\x83â\\x83ã\\x83â\\x82â\\x82ã\\x83â\\x83â\\x82ã\\x83â\\x82â\\x82ã\\x83â\\x83â\\x83ã\\x83â\\x82â\\x83ã\\x83â\\x83â\\x82ã\\x83â\\x82â\\x83ã\\x83â\\x83â\\x83ã\\x83â\\x82â\\x82ã\\x83â\\x83â\\x82ã\\x83â\\x82ã\\x82â°ã\\x83â\\x83â\\x83ã\\x83â\\x82â\\x83ã\\x83â\\x83â\\x82ã\\x83â\\x82â\\x82ã\\x83â\\x83â\\x83ã\\x83â\\x82â\\x82ã\\x83â\\x83â\\x82ã\\x83â\\x82â\\x9fã\\x83â\\x83â\\x83ã\\x83â\\x82â\\x83ã\\x83â\\x83â\\x82ã\\x83â\\x82â\\x82ã\\x83â\\x83â\\x83ã\\x83â\\x82â\\x82ã\\x83â\\x83â\\x82ã\\x83â\\x82â\\x98ã\\x83â\\x83â\\x83ã\\x83â\\x82â\\x83ã\\x83â\\x83â\\x82ã\\x83â\\x82â\\x82ã\\x83â\\x83â\\x83ã\\x83â\\x82â\\x82ã\\x83â\\x83â\\x82ã\\x83â\\x82â\\x82 thank u thebundlecoblr u awesome ã\\x83â\\x83â\\x83ã\\x83â\\x82â\\x83ã\\x83â\\x83â\\x82ã\\x83â\\x82â\\x83ã\\x83â\\x83â\\x83ã\\x83â\\x82â\\x82ã\\x83â\\x83â\\x82ã\\x83â\\x82ã\\x82â°ã\\x83â\\x83â\\x83ã\\x83â\\x82â\\x83ã\\x83â\\x83â\\x82ã\\x83â\\x82â\\x82ã\\x83â\\x83â\\x83ã\\x83â\\x82â\\x82ã\\x83â\\x83â\\x82ã\\x83â\\x82â\\x9fã\\x83â\\x83â\\x83ã\\x83â\\x82â\\x83ã\\x83â\\x83â\\x82ã\\x83â\\x82â\\x82ã\\x83â\\x83â\\x83ã\\x83â\\x82â\\x82ã\\x83â\\x83â\\x82ã\\x83â\\x82â\\x92ã\\x83â\\x83â\\x83ã\\x83â\\x82â\\x83ã\\x83â\\x83â\\x82ã\\x83â\\x82â\\x82ã\\x83â\\x83â\\x83ã\\x83â\\x82â\\x82ã\\x83â\\x83â\\x82ã\\x83â\\x82â\\x95ã\\x83â\\x83â\\x83ã\\x83â\\x82â\\x83ã\\x83â\\x83â\\x82ã\\x83â\\x82â\\x83ã\\x83â\\x83â\\x83ã\\x83â\\x82â\\x82ã\\x83â\\x83â\\x82ã\\x83â\\x82ã\\x82â°ã\\x83â\\x83â\\x83ã\\x83â\\x82â\\x83ã\\x83â\\x83â\\x82ã\\x83â\\x82â\\x82ã\\x83â\\x83â\\x83ã\\x83â\\x82â\\x82ã\\x83â\\x83â\\x82ã\\x83â\\x82â\\x9fã\\x83â\\x83â\\x83ã\\x83â\\x82â\\x83ã\\x83â\\x83â\\x82ã\\x83â\\x82â\\x82ã\\x83â\\x83â\\x83ã\\x83â\\x82â\\x82ã\\x83â\\x83â\\x82ã\\x83â\\x82â\\x92ã\\x83â\\x83â\\x83ã\\x83â\\x82â\\x83ã\\x83â\\x83â\\x82ã\\x83â\\x82â\\x82ã\\x83â\\x83â\\x83ã\\x83â\\x82â\\x82ã\\x83â\\x83â\\x82ã\\x83â\\x82â\\x95ã\\x83â\\x83â\\x83ã\\x83â\\x82â\\x83ã\\x83â\\x83â\\x82ã\\x83â\\x82â\\x83ã\\x83â\\x83â\\x83ã\\x83â\\x82â\\x82ã\\x83â\\x83â\\x82ã\\x83â\\x82ã\\x82â°ã\\x83â\\x83â\\x83ã\\x83â\\x82â\\x83ã\\x83â\\x83â\\x82ã\\x83â\\x82â\\x82ã\\x83â\\x83â\\x83ã\\x83â\\x82â\\x82ã\\x83â\\x83â\\x82ã\\x83â\\x82â\\x9fã\\x83â\\x83â\\x83ã\\x83â\\x82â\\x83ã\\x83â\\x83â\\x82ã\\x83â\\x82â\\x82ã\\x83â\\x83â\\x83ã\\x83â\\x82â\\x82ã\\x83â\\x83â\\x82ã\\x83â\\x82â\\x92ã\\x83â\\x83â\\x83ã\\x83â\\x82â\\x83ã\\x83â\\x83â\\x82ã\\x83â\\x82â\\x82ã\\x83â\\x83â\\x83ã\\x83â\\x82â\\x82ã\\x83â\\x83â\\x82ã\\x83â\\x82â\\x95ã\\x83â\\x83â\\x83ã\\x83â\\x82â\\x83ã\\x83â\\x83â\\x82ã\\x83â\\x82â\\x83ã\\x83â\\x83â\\x83ã\\x83â\\x82â\\x82ã\\x83â\\x83â\\x82ã\\x83â\\x82ã\\x82â°ã\\x83â\\x83â\\x83ã\\x83â\\x82â\\x83ã\\x83â\\x83â\\x82ã\\x83â\\x82â\\x82ã\\x83â\\x83â\\x83ã\\x83â\\x82â\\x82ã\\x83â\\x83â\\x82ã\\x83â\\x82â\\x9fã\\x83â\\x83â\\x83ã\\x83â\\x82â\\x83ã\\x83â\\x83â\\x82ã\\x83â\\x82â\\x82ã\\x83â\\x83â\\x83ã\\x83â\\x82â\\x82ã\\x83â\\x83â\\x82ã\\x83â\\x82â\\x92ã\\x83â\\x83â\\x83ã\\x83â\\x82â\\x83ã\\x83â\\x83â\\x82ã\\x83â\\x82â\\x82ã\\x83â\\x83â\\x83ã\\x83â\\x82â\\x82ã\\x83â\\x83â\\x82ã\\x83â\\x82â\\x95 food surpasses expectations ã\\x83â\\x83â\\x83ã\\x83â\\x82â\\x83ã\\x83â\\x83â\\x82ã\\x83â\\x82â\\x83ã\\x83â\\x83â\\x83ã\\x83â\\x82â\\x82ã\\x83â\\x83â\\x82ã\\x83â\\x82ã\\x82â°ã\\x83â\\x83â\\x83ã\\x83â\\x82â\\x83ã\\x83â\\x83â\\x82ã\\x83â\\x82â\\x82ã\\x83â\\x83â\\x83ã\\x83â\\x82â\\x82ã\\x83â\\x83â\\x82ã\\x83â\\x82â\\x9fã\\x83â\\x83â\\x83ã\\x83â\\x82â\\x83ã\\x83â\\x83â\\x82ã\\x83â\\x82â\\x82ã\\x83â\\x83â\\x83ã\\x83â\\x82â\\x82ã\\x83â\\x83â\\x82ã\\x83â\\x82â\\x98ã\\x83â\\x83â\\x83ã\\x83â\\x82â\\x83ã\\x83â\\x83â\\x82ã\\x83â\\x82â\\x82ã\\x83â\\x83â\\x83ã\\x83â\\x82â\\x82ã\\x83â\\x83â\\x82ã\\x83â\\x82â\\x8dã\\x83â\\x83â\\x83ã\\x83â\\x82â\\x83ã\\x83â\\x83â\\x82ã\\x83â\\x82â\\x83ã\\x83â\\x83â\\x83ã\\x83â\\x82â\\x82ã\\x83â\\x83â\\x82ã\\x83â\\x82ã\\x82â°ã\\x83â\\x83â\\x83ã\\x83â\\x82â\\x83ã\\x83â\\x83â\\x82ã\\x83â\\x82â\\x82ã\\x83â\\x83â\\x83ã\\x83â\\x82â\\x82ã\\x83â\\x83â\\x82ã\\x83â\\x82â\\x9fã\\x83â\\x83â\\x83ã\\x83â\\x82â\\x83ã\\x83â\\x83â\\x82ã\\x83â\\x82â\\x82ã\\x83â\\x83â\\x83ã\\x83â\\x82â\\x82ã\\x83â\\x83â\\x82ã\\x83â\\x82â\\x98ã\\x83â\\x83â\\x83ã\\x83â\\x82â\\x83ã\\x83â\\x83â\\x82ã\\x83â\\x82â\\x82ã\\x83â\\x83â\\x83ã\\x83â\\x82â\\x82ã\\x83â\\x83â\\x82ã\\x83â\\x82â\\x8dã\\x83â\\x83â\\x83ã\\x83â\\x82â\\x83ã\\x83â\\x83â\\x82ã\\x83â\\x82â\\x83ã\\x83â\\x83â\\x83ã\\x83â\\x82â\\x82ã\\x83â\\x83â\\x82ã\\x83â\\x82ã\\x82â°ã\\x83â\\x83â\\x83ã\\x83â\\x82â\\x83ã\\x83â\\x83â\\x82ã\\x83â\\x82â\\x82ã\\x83â\\x83â\\x83ã\\x83â\\x82â\\x82ã\\x83â\\x83â\\x82ã\\x83â\\x82â\\x9fã\\x83â\\x83â\\x83ã\\x83â\\x82â\\x83ã\\x83â\\x83â\\x82ã\\x83â\\x82â\\x82ã\\x83â\\x83â\\x83ã\\x83â\\x82â\\x82ã\\x83â\\x83â\\x82ã\\x83â\\x82â\\x98ã\\x83â\\x83â\\x83ã\\x83â\\x82â\\x83ã\\x83â\\x83â\\x82ã\\x83â\\x82â\\x82ã\\x83â\\x83â\\x83ã\\x83â\\x82â\\x82ã\\x83â\\x83â\\x82ã\\x83â\\x82â\\x8d\",\n",
       " 'worst food ever',\n",
       " 'nice food',\n",
       " \"cute panda statue welcomes store place appealing ambience everything resembles panda entrance salt pepper containers coming food name suggests specialized noodles spagghetti south east asian cuisines n't upsetti eat spaghetti p\",\n",
       " 'orderd chicken pakoda got fish pakoda',\n",
       " 'taste not good.. ordered boneless chicken biryani no proper chicken not go restaurant',\n",
       " 'worst restaurant charged unnecessary',\n",
       " 'sent us 1 vada ordered 2',\n",
       " 'several times different experience time craft beer not consistent brunch experience really good love set place limited food decent options service bad first since group 10 drinks took decent experience beer batches consistent',\n",
       " 'nice sandwiches different range coffees make place definitely go new additions menu make range food items even appealing',\n",
       " 'polite friendly food tooo crazy even beer gd prices amazing mr rajesh treated well friendly dilevered order soon faster',\n",
       " 'not three cokes asked instead decided send us one extra sprite mineral water instead asking us specifically asked not put carrots biryani thatã\\x83â\\x83â\\x83ã\\x83â\\x82â\\x83ã\\x83â\\x83â\\x82ã\\x83â\\x82â\\x83ã\\x83â\\x83â\\x83ã\\x83â\\x82â\\x82ã\\x83â\\x83â\\x82ã\\x83â\\x82â\\x82ã\\x83â\\x83â\\x83ã\\x83â\\x82â\\x83ã\\x83â\\x83â\\x82ã\\x83â\\x82â\\x82ã\\x83â\\x83â\\x83ã\\x83â\\x82â\\x82ã\\x83â\\x83â\\x82ã\\x83â\\x82â\\x92s exactly donã\\x83â\\x83â\\x83ã\\x83â\\x82â\\x83ã\\x83â\\x83â\\x82ã\\x83â\\x82â\\x83ã\\x83â\\x83â\\x83ã\\x83â\\x82â\\x82ã\\x83â\\x83â\\x82ã\\x83â\\x82â\\x82ã\\x83â\\x83â\\x83ã\\x83â\\x82â\\x83ã\\x83â\\x83â\\x82ã\\x83â\\x82â\\x82ã\\x83â\\x83â\\x83ã\\x83â\\x82â\\x82ã\\x83â\\x83â\\x82ã\\x83â\\x82â\\x92t put labels rolls dont know roll cut ties restaurant soon possible',\n",
       " 'cravings thick shakes strikes best place think around kormangala undoubtedly zero kelvin simplistic ambiance place makes ever visit memorable one try thick shakes rajeshwrites',\n",
       " 'cheese cheese sandwich one word horrible',\n",
       " \"ordered veg fried rice 's not veg fried rice stones veg fried rice\",\n",
       " 'worst food quality never order food restaurant zomato also failed assist',\n",
       " 'ultimate dessert destination tastebuds always keeps child inside awake one never content 1 wants many possible.the secret may lie wide variety fresh ingredients like almost butterscotch jar time favourite go item need freshen day',\n",
       " 'small place typical andhra style food always itã\\x83â\\x83â\\x83ã\\x83â\\x82â\\x83ã\\x83â\\x83â\\x82ã\\x83â\\x82â\\x83ã\\x83â\\x83â\\x83ã\\x83â\\x82â\\x82ã\\x83â\\x83â\\x82ã\\x83â\\x82ã\\x82â¢ã\\x83â\\x83â\\x83ã\\x83â\\x82â\\x83ã\\x83â\\x83â\\x82ã\\x83â\\x82â\\x82ã\\x83â\\x83â\\x83ã\\x83â\\x82â\\x82ã\\x83â\\x83â\\x82ã\\x83â\\x82â\\x80ã\\x83â\\x83â\\x83ã\\x83â\\x82â\\x83ã\\x83â\\x83â\\x82ã\\x83â\\x82â\\x82ã\\x83â\\x83â\\x83ã\\x83â\\x82â\\x82ã\\x83â\\x83â\\x82ã\\x83â\\x82â\\x99s biryani meghnaã\\x83â\\x83â\\x83ã\\x83â\\x82â\\x83ã\\x83â\\x83â\\x82ã\\x83â\\x82â\\x83ã\\x83â\\x83â\\x83ã\\x83â\\x82â\\x82ã\\x83â\\x83â\\x82ã\\x83â\\x82ã\\x82â¢ã\\x83â\\x83â\\x83ã\\x83â\\x82â\\x83ã\\x83â\\x83â\\x82ã\\x83â\\x82â\\x82ã\\x83â\\x83â\\x83ã\\x83â\\x82â\\x82ã\\x83â\\x83â\\x82ã\\x83â\\x82â\\x80ã\\x83â\\x83â\\x83ã\\x83â\\x82â\\x83ã\\x83â\\x83â\\x82ã\\x83â\\x82â\\x82ã\\x83â\\x83â\\x83ã\\x83â\\x82â\\x82ã\\x83â\\x83â\\x82ã\\x83â\\x82â\\x99s special biryani chicken boneless biryani try canã\\x83â\\x83â\\x83ã\\x83â\\x82â\\x83ã\\x83â\\x83â\\x82ã\\x83â\\x82â\\x83ã\\x83â\\x83â\\x83ã\\x83â\\x82â\\x82ã\\x83â\\x83â\\x82ã\\x83â\\x82ã\\x82â¢ã\\x83â\\x83â\\x83ã\\x83â\\x82â\\x83ã\\x83â\\x83â\\x82ã\\x83â\\x82â\\x82ã\\x83â\\x83â\\x83ã\\x83â\\x82â\\x82ã\\x83â\\x83â\\x82ã\\x83â\\x82â\\x80ã\\x83â\\x83â\\x83ã\\x83â\\x82â\\x83ã\\x83â\\x83â\\x82ã\\x83â\\x82â\\x82ã\\x83â\\x83â\\x83ã\\x83â\\x82â\\x82ã\\x83â\\x83â\\x82ã\\x83â\\x82â\\x99t much spice make sure order soft drinks hand',\n",
       " 'food horrible',\n",
       " 'one pretty decent place waffles try little expensive side though loved white dark chocolate one u customize',\n",
       " \"amazing ambience crowd let 's keep aside focus food curated new menu andd kickass presentation taste wow initially ordered prawns curry leafed perfect blend thai indian spices next got lal maas tacos used small parathas base tacos lal maas beyond expectations third item mutton ghee roast would prefer little bit spicy still fine last got nasi goreng totally worth chicken satay perfectly coated sauce gave cilantro going really well rice good value money great combining gold definately going back try everything happy eating\",\n",
       " 'biryani emotion place knows pluck strings emotion probably one best variants biryani ever come across delectable taste make visit order place frequently nice little two storeyed place adequate sitting arrangements staff friendly visit ever come kormangala bangalore',\n",
       " 'ordered rice bath delivered item bisibelebath',\n",
       " 'ordered lot parcel place today finally tried dine service.panner biryani good veg biryani kind ok.. colleagues tried chicken biryani turned good though not great..starters mark..you try days special overall experience food :3.5/5 ambience:3/5 value money:3.8 service 4',\n",
       " \"one place satisfy noodle cravings located amongst popular restaurants koramangala easily miss food amazing little oily 's noodles without little shine right customisation great get decide goes noodles size ordered noodle box veg options limited good get try combinations sauces vegetables noodle base staff patient explaining means noodle options basis made of- maida wheat whole wheat etc sauces taste like schezwan one might know menu overall great food\",\n",
       " 'ordered food skipped',\n",
       " \"eat street something different usual restaurant variety shops/outlets taste buds explore ambience pleasant place looks beautiful live music loud could n't hear friend talking times would nice background\",\n",
       " \"enormous number new places coming tend make friends circle try turn good bad something truffles even countless visits place never disappointed us way.. first time visiting st mark 's outlet older one experience great always ordered chicken sesame kebab prawn butter garlic couple chicken steaks butter garlic exactly wanted ai n't usual chinese kinda preparation layer batter instead get proper portion prawn cooked coastal cuisine kebabs like coveted starter namma bengaluru guys nailed preparation overall great experience grubitizer.com\",\n",
       " 'food horrible salty',\n",
       " 'super quick delivery',\n",
       " 'itã\\x83â\\x83â\\x83ã\\x83â\\x82â\\x83ã\\x83â\\x83â\\x82ã\\x83â\\x82â\\x83ã\\x83â\\x83â\\x83ã\\x83â\\x82â\\x82ã\\x83â\\x83â\\x82ã\\x83â\\x82â\\x82ã\\x83â\\x83â\\x83ã\\x83â\\x82â\\x83ã\\x83â\\x83â\\x82ã\\x83â\\x82â\\x82ã\\x83â\\x83â\\x83ã\\x83â\\x82â\\x82ã\\x83â\\x83â\\x82ã\\x83â\\x82â\\x92s nice app itã\\x83â\\x83â\\x83ã\\x83â\\x82â\\x83ã\\x83â\\x83â\\x82ã\\x83â\\x82â\\x83ã\\x83â\\x83â\\x83ã\\x83â\\x82â\\x82ã\\x83â\\x83â\\x82ã\\x83â\\x82â\\x82ã\\x83â\\x83â\\x83ã\\x83â\\x82â\\x83ã\\x83â\\x83â\\x82ã\\x83â\\x82â\\x82ã\\x83â\\x83â\\x83ã\\x83â\\x82â\\x82ã\\x83â\\x83â\\x82ã\\x83â\\x82â\\x92s wonderful app use',\n",
       " \"pleasant little place located vega city restaurants food court smell food draws right galito 's even 're not interested visiting mall trip taste food galito 's totally worth tried veg non veg items menu safe say food absolutely spectacular african flavours lip-smacking especially add signature sauces lemon-pepper garlic mild peri peri hot 's no need mention favorite dishes everything tastes wonderful service fast value money pretty good go try n't forget take bottle sauce back home\",\n",
       " 'not good',\n",
       " 'much salt chicken curry',\n",
       " 'chance top 1 mutton seek rolls fanoos xprss jayanagar mutton seek roll luscious scrumptious stupendous exemplary mutton seek roll bangalore owner gracious invigorating person',\n",
       " 'great brews wisenbock absolutely try brewed beer section sausage platter worthwhile well serviced rajesh great ambience minimal appealing music right amplitude',\n",
       " 'pizza not even hot',\n",
       " \"new kid block challenge nando 's african food located vega city mall easy locate ordered chick-e-naise chicken salad grilled chicken malva pudding service really swift chick-e-naise basically chicken garlic bread really cheesy loved chicken salad normal salad grilled chicken top grilled chicken main item menu highly recommended 2 pieces chicken leg pieces soft tender juicy easily favorite dish menu malva pudding 's apricot pudding topped caramel sauce simply awesome pudding really soft not sweet great would love visit place try items menu\",\n",
       " 'came across restaurant wandering across street food joints pubs place definitely draws attention food joint quite well lit beautiful chinese lamps show glass facade quite comfy place sit regular meal friends ordered lohan veg dim sums tasted fine schezwan noodles red chilly ã\\x83â\\x83â\\x83ã\\x83â\\x82â\\x83ã\\x83â\\x83â\\x82ã\\x83â\\x82â\\x82ã\\x83â\\x83â\\x83ã\\x83â\\x82â\\x82ã\\x83â\\x83â\\x82ã\\x83â\\x82â\\x97basil noodles tasted pretty much expected better place staff courteous took care order well ambience 4/5 staff 5/5 food 3/5 variety 4/5',\n",
       " 'goodbad item not good',\n",
       " 'visited saturday friends place seems cool live music good seating arrangement colourful place.i find place quite innovative food also fine reasonable prices definitely visit place',\n",
       " 'not goog',\n",
       " \"'re worst half dishes menu absent saturday afternoon service dismal fooled high rating zomato please n't visit\",\n",
       " 'always no power restaurant whenever visited saying no power need wait 1 hr please try avoid reasons food good',\n",
       " 'restaurant times basement parking.. ambience good.. military hotel type .. restaurant clean quite well known restaurant nati style dishes nati chicken curry mutton kheema balls good..ragi muddhe serve hot soft dishes spicy.. service bit slow.. prices moderate..',\n",
       " 'not good expected',\n",
       " 'bad way spicy food could not eat throw away chicken roll pathetic roti like rubber bhuna chicken not chicken tikka bad one',\n",
       " 'md tokir service really good one .. priya two guys .. served well took us food whatever like',\n",
       " 'odd shake much not worth n delivered 1 hr 15 min order shake average',\n",
       " 'great',\n",
       " 'good value money',\n",
       " 'not three cokes asked instead decided send us one extra sprite mineral water instead asking us specifically asked not put carrots biryani thatã\\x83â\\x83â\\x83ã\\x83â\\x82â\\x83ã\\x83â\\x83â\\x82ã\\x83â\\x82â\\x83ã\\x83â\\x83â\\x83ã\\x83â\\x82â\\x82ã\\x83â\\x83â\\x82ã\\x83â\\x82â\\x82ã\\x83â\\x83â\\x83ã\\x83â\\x82â\\x83ã\\x83â\\x83â\\x82ã\\x83â\\x82â\\x82ã\\x83â\\x83â\\x83ã\\x83â\\x82â\\x82ã\\x83â\\x83â\\x82ã\\x83â\\x82â\\x92s exactly donã\\x83â\\x83â\\x83ã\\x83â\\x82â\\x83ã\\x83â\\x83â\\x82ã\\x83â\\x82â\\x83ã\\x83â\\x83â\\x83ã\\x83â\\x82â\\x82ã\\x83â\\x83â\\x82ã\\x83â\\x82â\\x82ã\\x83â\\x83â\\x83ã\\x83â\\x82â\\x83ã\\x83â\\x83â\\x82ã\\x83â\\x82â\\x82ã\\x83â\\x83â\\x83ã\\x83â\\x82â\\x82ã\\x83â\\x83â\\x82ã\\x83â\\x82â\\x92t put labels rolls dont know roll cut ties restaurant soon possible',\n",
       " 'ordered kitkat overload waffle rich taste.. sufficient 2 people service quick worth money paid waffle',\n",
       " 'delicious',\n",
       " \"worth every penny u spent tried buffet tired eating quality starters n't room left main course veg non veg options yummy specially liked tawa machhi fish hot ginger pahadi murg banarasi seekh rajma ke tikke ambience brilliant well loved seating arrangement treat taste buds not heavy wallet either great experience good time\",\n",
       " \"great ambiance good food great music perfect place go hang friends enjoyed link get music session sometimes weekends weekend 's normally crowded 's better book tables beforehand\",\n",
       " 'ordered chicken fried rice taste toooo bad spicy',\n",
       " 'pickle completely immersed curd rice',\n",
       " 'biryani not worth since 3 small pieces kebab good',\n",
       " 'best',\n",
       " 'hot sun hungry craving food cold weather step varenyam classic cup filter coffee hot vadas',\n",
       " 'came across restaurant wandering across street food joints pubs place definitely draws attention food joint quite well lit beautiful chinese lamps show glass facade quite comfy place sit regular meal friends ordered lohan veg dim sums tasted fine schezwan noodles red chilly ã\\x83â\\x83â\\x83ã\\x83â\\x82â\\x83ã\\x83â\\x83â\\x82ã\\x83â\\x82â\\x82ã\\x83â\\x83â\\x83ã\\x83â\\x82â\\x82ã\\x83â\\x83â\\x82ã\\x83â\\x82â\\x97basil noodles tasted pretty much expected better place staff courteous took care order well ambience 4/5 staff 5/5 food 3/5 variety 4/5',\n",
       " 'went place lunch team mates close office.1st floor next pizza hut ambience good ã\\x83â\\x83â\\x83ã\\x83â\\x82â\\x83ã\\x83â\\x83â\\x82ã\\x83â\\x82â\\x82ã\\x83â\\x83â\\x83ã\\x83â\\x82â\\x82ã\\x83â\\x83â\\x82ã\\x83â\\x82â\\x96 add type furniture used staff friendly food ã\\x83â\\x83â\\x83ã\\x83â\\x82â\\x83ã\\x83â\\x83â\\x82ã\\x83â\\x82â\\x82ã\\x83â\\x83â\\x83ã\\x83â\\x82â\\x82ã\\x83â\\x83â\\x82ã\\x83â\\x82â\\x96 good little spicy budget ã\\x83â\\x83â\\x83ã\\x83â\\x82â\\x83ã\\x83â\\x83â\\x82ã\\x83â\\x82â\\x82ã\\x83â\\x83â\\x83ã\\x83â\\x82â\\x82ã\\x83â\\x83â\\x82ã\\x83â\\x82â\\x96 average serve time ã\\x83â\\x83â\\x83ã\\x83â\\x82â\\x83ã\\x83â\\x83â\\x82ã\\x83â\\x82â\\x82ã\\x83â\\x83â\\x83ã\\x83â\\x82â\\x82ã\\x83â\\x83â\\x82ã\\x83â\\x82â\\x96 10-15 mins taste wise good everyone liked serves 2 ppl ala-carte dish overall ã\\x83â\\x83â\\x83ã\\x83â\\x82â\\x83ã\\x83â\\x83â\\x82ã\\x83â\\x82â\\x82ã\\x83â\\x83â\\x83ã\\x83â\\x82â\\x82ã\\x83â\\x83â\\x82ã\\x83â\\x82â\\x96 everyone enjoyed lunch ã\\x83â\\x83â\\x83ã\\x83â\\x82â\\x83ã\\x83â\\x83â\\x82ã\\x83â\\x82â\\x82ã\\x83â\\x83â\\x83ã\\x83â\\x82â\\x82ã\\x83â\\x83â\\x82ã\\x83â\\x82â\\x96 good food ã\\x83â\\x83â\\x83ã\\x83â\\x82â\\x83ã\\x83â\\x83â\\x82ã\\x83â\\x82â\\x82ã\\x83â\\x83â\\x83ã\\x83â\\x82â\\x82ã\\x83â\\x83â\\x82ã\\x83â\\x82â\\x96 nice ambience ã\\x83â\\x83â\\x83ã\\x83â\\x82â\\x83ã\\x83â\\x83â\\x82ã\\x83â\\x82â\\x82ã\\x83â\\x83â\\x83ã\\x83â\\x82â\\x82ã\\x83â\\x83â\\x82ã\\x83â\\x82â\\x96 friendly staff suggest place lot options try',\n",
       " \"absolute throw back easy going club culture bangalore 's glorious yesteryears drop weekday noon 'll effortlessly forget drab team meeting scheduled second half good reason lots friends make repertoire traditional bar snacks setting mood knob perfect th e flamboyant mascarenhas beef roast pork chilli bafat malnad pork humble counter shot snacks gandhi nagar like bb peanut masala avarekalu ussili serious foodies dive culinary bliss open charcoal flame grill platters include tin factory sheek happily mains eclectic spread stars even iconic proudly donne biryani excuse crowd noisy din.. 's bunch fun lovin folks enjoying unpretentious honestly priced good time.. sakkat\",\n",
       " 'biergarten bas famous drinks food menu gathered no less attention try visit tried biergarten chicken wings fiery barbeque chicken wings signature specialty place richly marinated garlic lemon cooked till turned juicy tender paprika sauce served along wings brought taste another high ã\\x83â\\x83â\\x83ã\\x83â\\x82â\\x83ã\\x83â\\x83â\\x82ã\\x83â\\x82â\\x83ã\\x83â\\x83â\\x83ã\\x83â\\x82â\\x82ã\\x83â\\x83â\\x82ã\\x83â\\x82ã\\x82â°ã\\x83â\\x83â\\x83ã\\x83â\\x82â\\x83ã\\x83â\\x83â\\x82ã\\x83â\\x82â\\x82ã\\x83â\\x83â\\x83ã\\x83â\\x82â\\x82ã\\x83â\\x83â\\x82ã\\x83â\\x82â\\x9fã\\x83â\\x83â\\x83ã\\x83â\\x82â\\x83ã\\x83â\\x83â\\x82ã\\x83â\\x82â\\x82ã\\x83â\\x83â\\x83ã\\x83â\\x82â\\x82ã\\x83â\\x83â\\x82ã\\x83â\\x82â\\x98ã\\x83â\\x83â\\x83ã\\x83â\\x82â\\x83ã\\x83â\\x83â\\x82ã\\x83â\\x82â\\x82ã\\x83â\\x83â\\x83ã\\x83â\\x82â\\x82ã\\x83â\\x83â\\x82ã\\x83â\\x82â\\x8bã\\x83â\\x83â\\x83ã\\x83â\\x82â\\x83ã\\x83â\\x83â\\x82ã\\x83â\\x82â\\x83ã\\x83â\\x83â\\x83ã\\x83â\\x82â\\x82ã\\x83â\\x83â\\x82ã\\x83â\\x82ã\\x82â¢ã\\x83â\\x83â\\x83ã\\x83â\\x82â\\x83ã\\x83â\\x83â\\x82ã\\x83â\\x82â\\x82ã\\x83â\\x83â\\x83ã\\x83â\\x82â\\x82ã\\x83â\\x83â\\x82ã\\x83â\\x82â\\x9dã\\x83â\\x83â\\x83ã\\x83â\\x82â\\x83ã\\x83â\\x83â\\x82ã\\x83â\\x82â\\x82ã\\x83â\\x83â\\x83ã\\x83â\\x82â\\x82ã\\x83â\\x83â\\x82ã\\x83â\\x82ã\\x82â¤ customer service friendly prices bit higher end compared quantity served ambience beautifully lit overall amazing place follow thefoodiecosmos moreã\\x83â\\x83â\\x83ã\\x83â\\x82â\\x83ã\\x83â\\x83â\\x82ã\\x83â\\x82â\\x83ã\\x83â\\x83â\\x83ã\\x83â\\x82â\\x82ã\\x83â\\x83â\\x82ã\\x83â\\x82ã\\x82â°ã\\x83â\\x83â\\x83ã\\x83â\\x82â\\x83ã\\x83â\\x83â\\x82ã\\x83â\\x82â\\x82ã\\x83â\\x83â\\x83ã\\x83â\\x82â\\x82ã\\x83â\\x83â\\x82ã\\x83â\\x82â\\x9fã\\x83â\\x83â\\x83ã\\x83â\\x82â\\x83ã\\x83â\\x83â\\x82ã\\x83â\\x82â\\x82ã\\x83â\\x83â\\x83ã\\x83â\\x82â\\x82ã\\x83â\\x83â\\x82ã\\x83â\\x82â\\x92ã\\x83â\\x83â\\x83ã\\x83â\\x82â\\x83ã\\x83â\\x83â\\x82ã\\x83â\\x82â\\x82ã\\x83â\\x83â\\x83ã\\x83â\\x82â\\x82ã\\x83â\\x83â\\x82ã\\x83â\\x82â\\x95 thefoodiecosmos food foodporn foodblogger chicken barbeque wings chickenwings spicy nonveg bangalore bengaluru bangalorediaries bangaloreblogger nammabengaluru bangalorefoodies',\n",
       " \"ordered meghana foods horrible experience average biryani delivered n't know people speak good place perhaps bad particular day not sure though\",\n",
       " 'amazing food loved every bit try place anyone wants try chinese food really loved noodle box concept also decently priced something really liked service staff also polite humble please look uploaded pics detail yes soon come back place ..',\n",
       " 'ordered beef shawarma jumbo roll chicken roll beef rolls not fit human consumption meat terrible wasnt cooked even heating microwave tasted like chewing gum',\n",
       " 'good ambience good variety hookahs nothing great food though tried chilly chicken- basic no outdoor sitting though overall good experience staff super active',\n",
       " 'belgian waffle factory located ashok nagar brigade road bengaluru place known bubble waffles staff friendly service quick definitely try tried queen berry bubble bubble overload ambience 4.5/5 service 5/5 food 5/5',\n",
       " 'went quite late family dinner staff manager still well receptive made sure got wanted order ambience place nothing special peaceful food tasty exactly per specifications',\n",
       " \"great ambience food ordered fish chilly starter nasi goreng main portion size huge least could n't think ordering dessert navin took care table great service thank\",\n",
       " 'donã\\x83â\\x83â\\x83ã\\x83â\\x82â\\x83ã\\x83â\\x83â\\x82ã\\x83â\\x82â\\x83ã\\x83â\\x83â\\x83ã\\x83â\\x82â\\x82ã\\x83â\\x83â\\x82ã\\x83â\\x82ã\\x82â¢ã\\x83â\\x83â\\x83ã\\x83â\\x82â\\x83ã\\x83â\\x83â\\x82ã\\x83â\\x82â\\x82ã\\x83â\\x83â\\x83ã\\x83â\\x82â\\x82ã\\x83â\\x83â\\x82ã\\x83â\\x82â\\x80ã\\x83â\\x83â\\x83ã\\x83â\\x82â\\x83ã\\x83â\\x83â\\x82ã\\x83â\\x82â\\x82ã\\x83â\\x83â\\x83ã\\x83â\\x82â\\x82ã\\x83â\\x83â\\x82ã\\x83â\\x82â\\x99t visit place good food drinks namesake long menu half items not available hearing ã\\x83â\\x83â\\x83ã\\x83â\\x82â\\x83ã\\x83â\\x83â\\x82ã\\x83â\\x82â\\x83ã\\x83â\\x83â\\x83ã\\x83â\\x82â\\x82ã\\x83â\\x83â\\x82ã\\x83â\\x82ã\\x82â¢ã\\x83â\\x83â\\x83ã\\x83â\\x82â\\x83ã\\x83â\\x83â\\x82ã\\x83â\\x82â\\x82ã\\x83â\\x83â\\x83ã\\x83â\\x82â\\x82ã\\x83â\\x83â\\x82ã\\x83â\\x82â\\x80ã\\x83â\\x83â\\x83ã\\x83â\\x82â\\x83ã\\x83â\\x83â\\x82ã\\x83â\\x82â\\x82ã\\x83â\\x83â\\x83ã\\x83â\\x82â\\x82ã\\x83â\\x83â\\x82ã\\x83â\\x82â\\x9cnot availableã\\x83â\\x83â\\x83ã\\x83â\\x82â\\x83ã\\x83â\\x83â\\x82ã\\x83â\\x82â\\x83ã\\x83â\\x83â\\x83ã\\x83â\\x82â\\x82ã\\x83â\\x83â\\x82ã\\x83â\\x82ã\\x82â¢ã\\x83â\\x83â\\x83ã\\x83â\\x82â\\x83ã\\x83â\\x83â\\x82ã\\x83â\\x82â\\x82ã\\x83â\\x83â\\x83ã\\x83â\\x82â\\x82ã\\x83â\\x83â\\x82ã\\x83â\\x82â\\x80ã\\x83â\\x83â\\x83ã\\x83â\\x82â\\x83ã\\x83â\\x83â\\x82ã\\x83â\\x82â\\x82ã\\x83â\\x83â\\x83ã\\x83â\\x82â\\x82ã\\x83â\\x83â\\x82ã\\x83â\\x82â\\x9d 2-3 times food well drinks end ordering whatever 2-3 dishes staff suggests restaurant also understaffed service time bad good thing place dance floor dining area apart enables chat comfortably friends even loud music around',\n",
       " 'good option hanging friends office people bold offers varied options food drinks along hooka place seperate dance floor dance lovers really enjoy evening food get good options indian continental italian cuisine loved honey basil chicken starters',\n",
       " \"ordered chicken noodle added instruction put less masala chicken noodle received food .it 's fully chilly spicy full masala ..i never ate like life..worst\",\n",
       " 'always no power restaurant whenever visited saying no power need wait 1 hr please try avoid reasons food good',\n",
       " \"opposite institute gate iisc gem place situated tibetan chinese cum north eastern eatery one favourites pocket friendly nature made popular among students love chicken yakitori pork belly bao char sui bao roast pork every item prepare love .. try mojitos .. 's worth try .. bottom line new bel road.. n't forget try amazing eatery\",\n",
       " 'really bad got stale food',\n",
       " 'steak steak steak perfectly cooked timed seared steak wide variety succulent variations various combinations steak burgers well always goto place craving steaks',\n",
       " 'food average',\n",
       " 'items missing order worst delivery service',\n",
       " 'place near phase 1 coffee day food okie okie kind food ordered delivered late anyways not complaining group spending quality time food delivered hot taste okie called spicy reddy kaaram rice not spicy ambience gud mix group need get sorted otherwise place ok',\n",
       " 'mutton curry gud',\n",
       " 'one best street food joints come across panipuri decent aloo chaat delicious tried samosas also worth sure recommendation quick bite',\n",
       " 'couple lines thank much invite .great pleasure visiting place food solely exquisite exceptionally good freshly well-done favorite juicy burger ever had- hammered smoke pepper burger pink sauce pasta blueberry cheesecake outstanding service freshly made sauce served contains distinctive flavor value attempting equally diviaramesh.com',\n",
       " 'samosa good also tried sweets bangalore looking rajasthani taste tastes like one go place less crowded clean things fresh',\n",
       " 'order 2 dimsums 2 bowl ramen al-carte noodles .. much 3 people loved food .. nosiy kids running around birthday party.. got food packed.. ok experience.. diviaramesh.com',\n",
       " 'waffle love best waffles place haf taken bubblewaffle chocolate overloaded yumm ever would love keep visiting place',\n",
       " \"'s nice place visit friends parties n chilling etc food nice ordered pizza n 's taste yummyã\\x83â\\x83â\\x83ã\\x83â\\x82â\\x83ã\\x83â\\x83â\\x82ã\\x83â\\x82â\\x83ã\\x83â\\x83â\\x83ã\\x83â\\x82â\\x82ã\\x83â\\x83â\\x82ã\\x83â\\x82ã\\x82â°ã\\x83â\\x83â\\x83ã\\x83â\\x82â\\x83ã\\x83â\\x83â\\x82ã\\x83â\\x82â\\x82ã\\x83â\\x83â\\x83ã\\x83â\\x82â\\x82ã\\x83â\\x83â\\x82ã\\x83â\\x82â\\x9fã\\x83â\\x83â\\x83ã\\x83â\\x82â\\x83ã\\x83â\\x83â\\x82ã\\x83â\\x82â\\x82ã\\x83â\\x83â\\x83ã\\x83â\\x82â\\x82ã\\x83â\\x83â\\x82ã\\x83â\\x82â\\x98ã\\x83â\\x83â\\x83ã\\x83â\\x82â\\x83ã\\x83â\\x83â\\x82ã\\x83â\\x82â\\x82ã\\x83â\\x83â\\x83ã\\x83â\\x82â\\x82ã\\x83â\\x83â\\x82ã\\x83â\\x82â\\x8b ambience like cool n attractive coz colourful lightsã\\x83â\\x83â\\x83ã\\x83â\\x82â\\x83ã\\x83â\\x83â\\x82ã\\x83â\\x82â\\x83ã\\x83â\\x83â\\x83ã\\x83â\\x82â\\x82ã\\x83â\\x83â\\x82ã\\x83â\\x82ã\\x82â¢ã\\x83â\\x83â\\x83ã\\x83â\\x82â\\x83ã\\x83â\\x83â\\x82ã\\x83â\\x82â\\x82ã\\x83â\\x83â\\x83ã\\x83â\\x82â\\x82ã\\x83â\\x83â\\x82ã\\x83â\\x82â\\x98ã\\x83â\\x83â\\x83ã\\x83â\\x82â\\x83ã\\x83â\\x83â\\x82ã\\x83â\\x82â\\x82ã\\x83â\\x83â\\x83ã\\x83â\\x82â\\x82ã\\x83â\\x83â\\x82ã\\x83â\\x82ã\\x82âºã\\x83â\\x83â\\x83ã\\x83â\\x82â\\x83ã\\x83â\\x83â\\x82ã\\x83â\\x82â\\x83ã\\x83â\\x83â\\x83ã\\x83â\\x82â\\x82ã\\x83â\\x83â\\x82ã\\x83â\\x82ã\\x82â¯ã\\x83â\\x83â\\x83ã\\x83â\\x82â\\x83ã\\x83â\\x83â\\x82ã\\x83â\\x82â\\x82ã\\x83â\\x83â\\x83ã\\x83â\\x82â\\x82ã\\x83â\\x83â\\x82ã\\x83â\\x82ã\\x82â¸ã\\x83â\\x83â\\x83ã\\x83â\\x82â\\x83ã\\x83â\\x83â\\x82ã\\x83â\\x82â\\x82ã\\x83â\\x83â\\x83ã\\x83â\\x82â\\x82ã\\x83â\\x83â\\x82ã\\x83â\\x82â\\x8f\",\n",
       " 'craving sizzler steak right place visit went lunch ordered pepper trial basically grilled chicken garlic pepper sauce sin fire chicken steak hot paprika sauce served rice vegetables mashed potatoes food great ambience also awesome staffs attentive service best',\n",
       " \"sometimes south indian city like bangalore good south indian food n't always easy come especially ecity good south indian food monopoly dingy shacks dotted around locality varenyam fills gap beautiful classy place food simple clean privilege trying dosas tried ghee roast egg dosa chicken dosa equally good everything tasted fresh simple chicken chilly andhra style also amazing prices good want good clean food beautiful decor service excellent non-intrusive good friday lunch cant wait take family\",\n",
       " 'food worst.i ordered plain rice.but sent kerala rice round rice .food not tasty ata',\n",
       " 'aah food well price tried chop stick first time food served super quick service good hospitalality loved dishes well good ambience good environment good food good people',\n",
       " 'not receive order',\n",
       " \"birinz persian word rice decent restaurant located first floor btm main road starters papdi chicken green coriander chicken patiala chicken apollo fish chicken rayalseema dry egg chilli paneer sholay soup mutton shorba cream mushroom soup main course birinz special chicken biryani reddy 's red hot chicken biryani chicken dum biryani mutton fry piece biryani mushroom biryani kulcha methi chaman nellore chicken masala gun powder rice foodnwine.in\",\n",
       " 'truffles never disappoint not one st. marks wanted try hazelnut bomb given full definitely try next time',\n",
       " \"kabab tasty hot mom 's r yummy\",\n",
       " \"went 31st december found place crowded even three floor sitting grabed biryani charm ordered no veg veg staters great quantity unbelievable less price order nati chicken mutton paneer biryanis amazing taste one best best thing one biryani satisfied people easily quantity huge 's visit place glad grab appetite last night 2018 delicious\",\n",
       " 'since place right next jagannath mandir happen come whenever pay visit temple.we usually go takeaways quick snacks samosas favorites crunchy tasty typically made north indian style filling consists sliced potatoes veggies instead mashed potatoes adds different kind flavor samosas sweets good like khajas jamuns chena-poda tasted ok not great read full post xylo742.blogspot.com',\n",
       " 'bad experience need cancel order want another item alrdy paid money food not good need money refunded back',\n",
       " 'ordered coffee got late cold inspite specially mentioning not add sugar made extra sweet',\n",
       " 'mini kitkat gems cake perfecto mini cake enough 2 people looks tempting tastes even better got kitkats wrapped around cake gems top ..super colorful great item gift someone well keep',\n",
       " 'could given 0 stars zomato also see restaurant servings customer fall ill surely complain comsumer forum',\n",
       " \"'s amusing see restaurant well without music 's always jam packed 's great place considering menu offers cheap food drinks decent nice crowd would recommend punter prawns brilliant taste chutney\",\n",
       " 'always get excellent food thhe tabasco pizza fantastic also loved cheese garlic bread cheesy nachos',\n",
       " \"came late saturday lunch place relatively empty managed get couch ambience impressive found service slow beer good beetroot chicken starter good chicken nachos not mark tasted kind dry second visit place 's nice place hangout friends/family evenings gets lively\",\n",
       " 'donã\\x83â\\x83â\\x83ã\\x83â\\x82â\\x83ã\\x83â\\x83â\\x82ã\\x83â\\x82â\\x83ã\\x83â\\x83â\\x83ã\\x83â\\x82â\\x82ã\\x83â\\x83â\\x82ã\\x83â\\x82ã\\x82â¢ã\\x83â\\x83â\\x83ã\\x83â\\x82â\\x83ã\\x83â\\x83â\\x82ã\\x83â\\x82â\\x82ã\\x83â\\x83â\\x83ã\\x83â\\x82â\\x82ã\\x83â\\x83â\\x82ã\\x83â\\x82â\\x80ã\\x83â\\x83â\\x83ã\\x83â\\x82â\\x83ã\\x83â\\x83â\\x82ã\\x83â\\x82â\\x82ã\\x83â\\x83â\\x83ã\\x83â\\x82â\\x82ã\\x83â\\x83â\\x82ã\\x83â\\x82â\\x99t visit place good food drinks namesake long menu half items not available hearing ã\\x83â\\x83â\\x83ã\\x83â\\x82â\\x83ã\\x83â\\x83â\\x82ã\\x83â\\x82â\\x83ã\\x83â\\x83â\\x83ã\\x83â\\x82â\\x82ã\\x83â\\x83â\\x82ã\\x83â\\x82ã\\x82â¢ã\\x83â\\x83â\\x83ã\\x83â\\x82â\\x83ã\\x83â\\x83â\\x82ã\\x83â\\x82â\\x82ã\\x83â\\x83â\\x83ã\\x83â\\x82â\\x82ã\\x83â\\x83â\\x82ã\\x83â\\x82â\\x80ã\\x83â\\x83â\\x83ã\\x83â\\x82â\\x83ã\\x83â\\x83â\\x82ã\\x83â\\x82â\\x82ã\\x83â\\x83â\\x83ã\\x83â\\x82â\\x82ã\\x83â\\x83â\\x82ã\\x83â\\x82â\\x9cnot availableã\\x83â\\x83â\\x83ã\\x83â\\x82â\\x83ã\\x83â\\x83â\\x82ã\\x83â\\x82â\\x83ã\\x83â\\x83â\\x83ã\\x83â\\x82â\\x82ã\\x83â\\x83â\\x82ã\\x83â\\x82ã\\x82â¢ã\\x83â\\x83â\\x83ã\\x83â\\x82â\\x83ã\\x83â\\x83â\\x82ã\\x83â\\x82â\\x82ã\\x83â\\x83â\\x83ã\\x83â\\x82â\\x82ã\\x83â\\x83â\\x82ã\\x83â\\x82â\\x80ã\\x83â\\x83â\\x83ã\\x83â\\x82â\\x83ã\\x83â\\x83â\\x82ã\\x83â\\x82â\\x82ã\\x83â\\x83â\\x83ã\\x83â\\x82â\\x82ã\\x83â\\x83â\\x82ã\\x83â\\x82â\\x9d 2-3 times food well drinks end ordering whatever 2-3 dishes staff suggests restaurant also understaffed service time bad good thing place dance floor dining area apart enables chat comfortably friends even loud music around',\n",
       " 'suggested restaurant friend mine one kind ambiance food kinda bland management friendly reason no customer apart us present lunch tried gobi manchurian average fried rice average south indian meals good according friends north indian meals decent ambiance 4/5 food 3/5 staff 4/5 value money 3.5/5',\n",
       " 'poor service zomoto',\n",
       " 'gud',\n",
       " 'food average',\n",
       " 'best best bestttttt best waffles say customize waffles per requirement service good along ambience',\n",
       " 'orderd two prawn dish stock replaced top capsicum onion little fish/prawn',\n",
       " 'thereã\\x83â\\x83â\\x83ã\\x83â\\x82â\\x83ã\\x83â\\x83â\\x82ã\\x83â\\x82â\\x83ã\\x83â\\x83â\\x83ã\\x83â\\x82â\\x82ã\\x83â\\x83â\\x82ã\\x83â\\x82ã\\x82â¢ã\\x83â\\x83â\\x83ã\\x83â\\x82â\\x83ã\\x83â\\x83â\\x82ã\\x83â\\x82â\\x82ã\\x83â\\x83â\\x83ã\\x83â\\x82â\\x82ã\\x83â\\x83â\\x82ã\\x83â\\x82â\\x80ã\\x83â\\x83â\\x83ã\\x83â\\x82â\\x83ã\\x83â\\x83â\\x82ã\\x83â\\x82â\\x82ã\\x83â\\x83â\\x83ã\\x83â\\x82â\\x82ã\\x83â\\x83â\\x82ã\\x83â\\x82â\\x99s weird kinda smell prawn momo iã\\x83â\\x83â\\x83ã\\x83â\\x82â\\x83ã\\x83â\\x83â\\x82ã\\x83â\\x82â\\x83ã\\x83â\\x83â\\x83ã\\x83â\\x82â\\x82ã\\x83â\\x83â\\x82ã\\x83â\\x82ã\\x82â¢ã\\x83â\\x83â\\x83ã\\x83â\\x82â\\x83ã\\x83â\\x83â\\x82ã\\x83â\\x82â\\x82ã\\x83â\\x83â\\x83ã\\x83â\\x82â\\x82ã\\x83â\\x83â\\x82ã\\x83â\\x82â\\x80ã\\x83â\\x83â\\x83ã\\x83â\\x82â\\x83ã\\x83â\\x83â\\x82ã\\x83â\\x82â\\x82ã\\x83â\\x83â\\x83ã\\x83â\\x82â\\x82ã\\x83â\\x83â\\x82ã\\x83â\\x82â\\x99d suggest order regular chicken momo want eat momo.noodles good service okay ambience also good overall iã\\x83â\\x83â\\x83ã\\x83â\\x82â\\x83ã\\x83â\\x83â\\x82ã\\x83â\\x82â\\x83ã\\x83â\\x83â\\x83ã\\x83â\\x82â\\x82ã\\x83â\\x83â\\x82ã\\x83â\\x82ã\\x82â¢ã\\x83â\\x83â\\x83ã\\x83â\\x82â\\x83ã\\x83â\\x83â\\x82ã\\x83â\\x82â\\x82ã\\x83â\\x83â\\x83ã\\x83â\\x82â\\x82ã\\x83â\\x83â\\x82ã\\x83â\\x82â\\x80ã\\x83â\\x83â\\x83ã\\x83â\\x82â\\x83ã\\x83â\\x83â\\x82ã\\x83â\\x82â\\x82ã\\x83â\\x83â\\x83ã\\x83â\\x82â\\x82ã\\x83â\\x83â\\x82ã\\x83â\\x82â\\x99d rate 7/10',\n",
       " 'food oily taste also not good',\n",
       " 'food tasty liked chicken pepper masala tasty service maintenance good many varieties food try',\n",
       " \"located 100 feet road place easy locate housed mangalore style building ambience really pleasing place jam packed even thursday evening service n't great servers take long respond not really sure asked add chair table shift something food service really prompt coming food peanut masala chicken wings 65 royal tawa beef chilli banana leaves wrapped fish filter coffee cheesecake taste average portion sizes less peanut masala n cheesecake average rest really bad worst chicken wings 've ever presented unappetizing manner thing good place 's ambience go want grab beer chill food definitely needs lot improvement\",\n",
       " 'around mg road looked desert shop decided waffles happy chose place amazing customized cone waffles got red velvet waffle chocolate sauce vanilla ice cream original waffle nutella topped white chocolate chips exquisite definitely worth visit around',\n",
       " 'oh .. wanted visit write place finally got chance visit.. vegan food dairy free tried food energy booster shake***** crunchy waldorf salad**** chilli garlic potato gf***** almond palomino sauce pasta*** espanol pizza*** tiramisu**** black forest pastry**** obsessive chocolative disorder***** mini ice cream platter***** chocolate cream cake gf**** quick service beautiful ambiance best part various activityã\\x83â\\x83â\\x83ã\\x83â\\x82â\\x83ã\\x83â\\x83â\\x82ã\\x83â\\x82â\\x82ã\\x83â\\x83â\\x83ã\\x83â\\x82â\\x82ã\\x83â\\x83â\\x82ã\\x83â\\x82â\\x92s like vegan food cooking classes etc .. diviaramesh.com',\n",
       " \"ordered large chicken biriyani received small quantity even complained zomato 's no use useless mmmmmmmmmm\",\n",
       " 'ordered veg meal chicken meal chicken meal not delivered veg meal delivered even papad pickle not delivered',\n",
       " 'samosa good also tried sweets bangalore looking rajasthani taste tastes like one go place less crowded clean things fresh',\n",
       " 'good place bengaluru city jayanagar name caramelts cafe made us step cafe late saturday evening location prime drawback would parking space need struggle lot that.else everything fine apart got good cakes menu unique tasted good pricing higher end one visit atleast sure ambience great..loved',\n",
       " 'kind okay okay food not great try max cheese balls not good spicy taste may could increase quality food little',\n",
       " 'place perfect dinner mean serve best shawarma rolls ambiance good taste not much effective really good mood want try arabic food place really amazing service really good ambiance effective red light much better restaurants',\n",
       " 'awful onions smelly..the raita spoilt rice bad..',\n",
       " 'decent place conversation absolutely love coffee good ambience nice cooperative staff large area sit relax visit place find deserves 5 star review best coffee outlet india till day simply perfect vintage feel amazing experience colleagues visit',\n",
       " 'nice place small gathering.. rooftop decent.. parking bit pain.. said draught beer start soon.. otherwise decent options.. food average.. liked multiple dishes ordered.. peanut masala avarekalu usli paneer tikka curd rice.. seafood non-veg average.. hmmm evening mosquitoes may guests well..',\n",
       " 'superr',\n",
       " 'good food mouth watering various varieties dishes typical madurai food joint good bf dinners available egg dosa best night dinner ur kuttings',\n",
       " 'delicious',\n",
       " \"'s nice little place good food ordered plate peri peri wings tasted really good 're covered good spicy sauces 're served mustard sauce balance spice also ordered big fat boy goan porky burgers wanted order baba black ship burger n't available time.they bake bread buns really soft really liked big fat boy burger goan porky burger could better drinks ordered classic mojito really refreshing overall good experience\",\n",
       " 'fentastic service',\n",
       " \"n't know entering vegetarian cafe however n't disappointed ordered classic peri peri fries followed cigar rolls accompanied mayo sweet chilli sauce playing soothing songs decor complimented crowd people kids ones meet arrange marriage predominant crowd no brownie points keen observation please overall food 3.5/5 service 4/5 ambiance 4/5\",\n",
       " 'tasty food',\n",
       " 'sucks',\n",
       " \"not shabby mot shabby indeed dance floor rooftop pretty cool nights 's even better 's nice place hangout friends oh 's costly like good places not much visit place could gave fun friends decide got staff barely nice also means 're not bad could better\",\n",
       " 'similar nandos concept not self-service loved tangy spicy garlic hot peri-peri sauce chicken suscellant tasted nice periperi sauce added tangyness ordered chicken satay well decent malwa pudding vanilla ice-cream yum overall awesome experience saturday evening',\n",
       " 'vegan carrots always wish list last years day finally come made trip bangalore days visited place lunch ordered signature raw fettuccini white penne pasta.we given complimentary soy butter milk tasted ok. ordered gulab jamun waiting dishes also good 15-20 min order served say relished pastas really wanted taste much stay waiting hour main dish ordered vegan chai jowaar cookie made jaggery say jowaar jaggery cookie highlight day overall wonderful experience',\n",
       " 'quantity less',\n",
       " 'ordered chicken fried rice worst ever life .they gave biriyani gravy ..so baad like boiled rice rather fried rice',\n",
       " 'wonder took long discover place bangalore 1st jan scrolling restaurants near hsr layout accidentally came across particular place probably best thing happened day ambience beautiful sitting arrangements setup everything top notch amazing people served food thanks person attended table kind lovely helpful order beef tenderloin pork steak mocktail delicious coming reasonable price too.. looking forward visiting place sometime soon thanks wonderful evening team ouaf',\n",
       " 'no chicken curry',\n",
       " 'nice',\n",
       " 'visited new start up.not go place ambiance good.warm welcome staff.can try traditional andhra food improve traditional andhra taste',\n",
       " 'ordered bhel puri masala dosa panner pavbhaji items neatly packed delivered time items tasted awesome would surely like visit restaurant try items also would recommend hungry souls willing snacks',\n",
       " 'goodbad item not good',\n",
       " 'ordered veg curry added cauliflower potato chicken gravy delivered.if require pure veg meal please stay away',\n",
       " \"cute little place good food pretty decent service pandas everywhere ordered 2 ramen soup 2 green apple mojitos 1 veg spring rolls time taken kinda expected food tasted great 's cool friend got non veg ramen soup chicken said good self service 'll get stuff ask guess\",\n",
       " 'place nice ambiance comfortable seating strangely made wait half hour even though restaurant almost completely empty buffet spread ordinary bland salads fresh tasteless starters extremely oily paranthas good sides quite forgettable worst part service got soups midway meals server made us wait long simply get cutlery table made us change score feedback form donã\\x83â\\x83â\\x83ã\\x83â\\x82â\\x83ã\\x83â\\x83â\\x82ã\\x83â\\x82â\\x83ã\\x83â\\x83â\\x83ã\\x83â\\x82â\\x82ã\\x83â\\x83â\\x82ã\\x83â\\x82â\\x83ã\\x83â\\x83â\\x83ã\\x83â\\x82â\\x83ã\\x83â\\x83â\\x82ã\\x83â\\x82â\\x82ã\\x83â\\x83â\\x83ã\\x83â\\x82â\\x82ã\\x83â\\x83â\\x82ã\\x83â\\x82ã\\x82â¢ã\\x83â\\x83â\\x83ã\\x83â\\x82â\\x83ã\\x83â\\x83â\\x82ã\\x83â\\x82â\\x83ã\\x83â\\x83â\\x83ã\\x83â\\x82â\\x82ã\\x83â\\x83â\\x82ã\\x83â\\x82â\\x82ã\\x83â\\x83â\\x83ã\\x83â\\x82â\\x83ã\\x83â\\x83â\\x82ã\\x83â\\x82â\\x82ã\\x83â\\x83â\\x83ã\\x83â\\x82â\\x82ã\\x83â\\x83â\\x82ã\\x83â\\x82â\\x80ã\\x83â\\x83â\\x83ã\\x83â\\x82â\\x83ã\\x83â\\x83â\\x82ã\\x83â\\x82â\\x83ã\\x83â\\x83â\\x83ã\\x83â\\x82â\\x82ã\\x83â\\x83â\\x82ã\\x83â\\x82â\\x82ã\\x83â\\x83â\\x83ã\\x83â\\x82â\\x83ã\\x83â\\x83â\\x82ã\\x83â\\x82â\\x82ã\\x83â\\x83â\\x83ã\\x83â\\x82â\\x82ã\\x83â\\x83â\\x82ã\\x83â\\x82â\\x99t know paid ã\\x83â\\x83â\\x83ã\\x83â\\x82â\\x83ã\\x83â\\x83â\\x82ã\\x83â\\x82â\\x83ã\\x83â\\x83â\\x83ã\\x83â\\x82â\\x82ã\\x83â\\x83â\\x82ã\\x83â\\x82â\\x83ã\\x83â\\x83â\\x83ã\\x83â\\x82â\\x83ã\\x83â\\x83â\\x82ã\\x83â\\x82â\\x82ã\\x83â\\x83â\\x83ã\\x83â\\x82â\\x82ã\\x83â\\x83â\\x82ã\\x83â\\x82ã\\x82â¢ã\\x83â\\x83â\\x83ã\\x83â\\x82â\\x83ã\\x83â\\x83â\\x82ã\\x83â\\x82â\\x83ã\\x83â\\x83â\\x83ã\\x83â\\x82â\\x82ã\\x83â\\x83â\\x82ã\\x83â\\x82â\\x82ã\\x83â\\x83â\\x83ã\\x83â\\x82â\\x83ã\\x83â\\x83â\\x82ã\\x83â\\x82â\\x82ã\\x83â\\x83â\\x83ã\\x83â\\x82â\\x82ã\\x83â\\x83â\\x82ã\\x83â\\x82â\\x80ã\\x83â\\x83â\\x83ã\\x83â\\x82â\\x83ã\\x83â\\x83â\\x82ã\\x83â\\x82â\\x83ã\\x83â\\x83â\\x83ã\\x83â\\x82â\\x82ã\\x83â\\x83â\\x82ã\\x83â\\x82â\\x82ã\\x83â\\x83â\\x83ã\\x83â\\x82â\\x83ã\\x83â\\x83â\\x82ã\\x83â\\x82â\\x82ã\\x83â\\x83â\\x83ã\\x83â\\x82â\\x82ã\\x83â\\x83â\\x82ã\\x83â\\x82â\\x9cservice chargeã\\x83â\\x83â\\x83ã\\x83â\\x82â\\x83ã\\x83â\\x83â\\x82ã\\x83â\\x82â\\x83ã\\x83â\\x83â\\x83ã\\x83â\\x82â\\x82ã\\x83â\\x83â\\x82ã\\x83â\\x82â\\x83ã\\x83â\\x83â\\x83ã\\x83â\\x82â\\x83ã\\x83â\\x83â\\x82ã\\x83â\\x82â\\x82ã\\x83â\\x83â\\x83ã\\x83â\\x82â\\x82ã\\x83â\\x83â\\x82ã\\x83â\\x82ã\\x82â¢ã\\x83â\\x83â\\x83ã\\x83â\\x82â\\x83ã\\x83â\\x83â\\x82ã\\x83â\\x82â\\x83ã\\x83â\\x83â\\x83ã\\x83â\\x82â\\x82ã\\x83â\\x83â\\x82ã\\x83â\\x82â\\x82ã\\x83â\\x83â\\x83ã\\x83â\\x82â\\x83ã\\x83â\\x83â\\x82ã\\x83â\\x82â\\x82ã\\x83â\\x83â\\x83ã\\x83â\\x82â\\x82ã\\x83â\\x83â\\x82ã\\x83â\\x82â\\x80ã\\x83â\\x83â\\x83ã\\x83â\\x82â\\x83ã\\x83â\\x83â\\x82ã\\x83â\\x82â\\x83ã\\x83â\\x83â\\x83ã\\x83â\\x82â\\x82ã\\x83â\\x83â\\x82ã\\x83â\\x82â\\x82ã\\x83â\\x83â\\x83ã\\x83â\\x82â\\x83ã\\x83â\\x83â\\x82ã\\x83â\\x82â\\x82ã\\x83â\\x83â\\x83ã\\x83â\\x82â\\x82ã\\x83â\\x83â\\x82ã\\x83â\\x82â\\x9d not returning',\n",
       " 'ordered nati chicken biriyani served pieces mutton asked said prepare rice mutton serve chicken',\n",
       " 'love steaks search ends come hsr get types steaks would love apart get biggy buffy mouth watering burgers staffs friendly really appreciate present manager/head place anticipated wrong order placed would love visit specifically steaks',\n",
       " 'ever since friend introduced place itã\\x83â\\x83â\\x83ã\\x83â\\x82â\\x83ã\\x83â\\x83â\\x82ã\\x83â\\x82â\\x83ã\\x83â\\x83â\\x83ã\\x83â\\x82â\\x82ã\\x83â\\x83â\\x82ã\\x83â\\x82ã\\x82â¢ã\\x83â\\x83â\\x83ã\\x83â\\x82â\\x83ã\\x83â\\x83â\\x82ã\\x83â\\x82â\\x82ã\\x83â\\x83â\\x83ã\\x83â\\x82â\\x82ã\\x83â\\x83â\\x82ã\\x83â\\x82â\\x80ã\\x83â\\x83â\\x83ã\\x83â\\x82â\\x83ã\\x83â\\x83â\\x82ã\\x83â\\x82â\\x82ã\\x83â\\x83â\\x83ã\\x83â\\x82â\\x82ã\\x83â\\x83â\\x82ã\\x83â\\x82â\\x99s go option relaxed afternoon friends great finger food reasonably priced alcohol charm old school bangalore bar iã\\x83â\\x83â\\x83ã\\x83â\\x82â\\x83ã\\x83â\\x83â\\x82ã\\x83â\\x82â\\x83ã\\x83â\\x83â\\x83ã\\x83â\\x82â\\x82ã\\x83â\\x83â\\x82ã\\x83â\\x82ã\\x82â¢ã\\x83â\\x83â\\x83ã\\x83â\\x82â\\x83ã\\x83â\\x83â\\x82ã\\x83â\\x82â\\x82ã\\x83â\\x83â\\x83ã\\x83â\\x82â\\x82ã\\x83â\\x83â\\x82ã\\x83â\\x82â\\x80ã\\x83â\\x83â\\x83ã\\x83â\\x82â\\x83ã\\x83â\\x83â\\x82ã\\x83â\\x82â\\x82ã\\x83â\\x83â\\x83ã\\x83â\\x82â\\x82ã\\x83â\\x83â\\x82ã\\x83â\\x82â\\x99d highly recommend location ambience value money',\n",
       " \"pathetic service ordered keema dosa chutney served cold tasteless not bothered come near table check.. not recommend n't try..\",\n",
       " 'amazing food enjoyed every bite place little tiny gets filled really quickly gives homely vibes food point servers helpful kind ambience 4/5 food 5/5 service 4.5/5',\n",
       " 'loved place ambience good staff courteous place like heaven vegetarians lots varieties food absolutely delicious',\n",
       " 'cozy outlet serving mouth watering odia delicacies without onion garlic sweets not great tip try samosa chaat quite filling',\n",
       " 'great food good ambience service little slow lot mosquitoes evening spacing tables good overall nice place quiet peaceful evening',\n",
       " 'say place first didnã\\x83â\\x83â\\x83ã\\x83â\\x82â\\x83ã\\x83â\\x83â\\x82ã\\x83â\\x82â\\x83ã\\x83â\\x83â\\x83ã\\x83â\\x82â\\x82ã\\x83â\\x83â\\x82ã\\x83â\\x82ã\\x82â¢ã\\x83â\\x83â\\x83ã\\x83â\\x82â\\x83ã\\x83â\\x83â\\x82ã\\x83â\\x82â\\x82ã\\x83â\\x83â\\x83ã\\x83â\\x82â\\x82ã\\x83â\\x83â\\x82ã\\x83â\\x82â\\x80ã\\x83â\\x83â\\x83ã\\x83â\\x82â\\x83ã\\x83â\\x83â\\x82ã\\x83â\\x82â\\x82ã\\x83â\\x83â\\x83ã\\x83â\\x82â\\x82ã\\x83â\\x83â\\x82ã\\x83â\\x82â\\x99t expected good one friend suggested saying around 20 hard drinks paid 3k thought small joint turned bar something awestruck villa turned bar nice roof seating indeed loved prices cheapest found bangalore seems like gon na adda upcoming outings went thursday fully packed looking forward see weekends',\n",
       " 'situated beside jaganath temple hsr layout second time went notin special mention odia friend asked try dahi aloo vada.. either taste bud not accustomed else wasnt made well felt way costly charged 35 rs tried samosa well small compared food joints similar class guess mostly odia people missing home food ones form main customer base shop try u want try bengali odia sweets else give miss',\n",
       " 'quantity less compared price..it mainly cauliflower.however taste really awesome',\n",
       " 'great brews wisenbock absolutely try brewed beer section sausage platter worthwhile well serviced rajesh great ambience minimal appealing music right amplitude',\n",
       " 'best restaurant',\n",
       " \"auntie fungs located new bel road right opposite ms ramaiah hospital 's pretty small place quite cute went lunch ordered momos starters ordered fried noodles thai green curry rice drink ordered among lemonade not good mostly mint main course starter good music loud people sitting close us could not even listen person saying would give place 4 stars food value money\",\n",
       " 'ordered veg curry added cauliflower potato chicken gravy delivered.if require pure veg meal please stay away',\n",
       " 'neat decent place amazing food service small outdoor seating chilled evening dinner loved ones weekends place jam packed still waiters make sure everyone attended time not missed serve every dish full satisfaction rolls gravies kababs everything worth finger licking good till never disappointed place overall experience taste-5/5 ambience-4/5 service-4.5/5 value money-4.5/5',\n",
       " 'loki great guy biergarten thanks service great ambience music mind blowing live music good good crowd yummy drinks great pizza second visit two weeks',\n",
       " '45min late delivery food not hot food tasty excellent packing also nyc ..',\n",
       " 'visited place recommendation friend dinner honest disappointed unavailability things menu 9. food decent tried malai tikka butter chicken also tried chinese options since everything else stock food decent butter chicken wasnã\\x83â\\x83â\\x83ã\\x83â\\x82â\\x83ã\\x83â\\x83â\\x82ã\\x83â\\x82â\\x82ã\\x83â\\x83â\\x83ã\\x83â\\x82â\\x82ã\\x83â\\x83â\\x82ã\\x83â\\x82â\\x92t great recommend stick kebabs/starters ambience 3/5 food 3/5 service 3/5',\n",
       " 'kindly improve chicken piece quality quantity..',\n",
       " \"ordered hyderabadi chicken dum biryani lunch not taste bad rice felt dry chicken pieces hard would n't recommend delivery\",\n",
       " 'food day day becoming worse constantly ordering here.. hell lot difference first order today ..',\n",
       " \"kabab tasty hot mom 's r yummy\",\n",
       " 'good ambience average food beer good not great quality quantity food improved good visit may not visit',\n",
       " \"n't get order properly\",\n",
       " 'really like ambience one comfy outside seating cool breeze bangalore offers place perfect sipping warm coffee cold like never much starbucks coffee fan place open till 1 city anyway offers less late night coffee places 4 stars place',\n",
       " 'rice not cooked properlly',\n",
       " 'tried buffet lunch recently started items average taste only.price 400 tax not much non veg verities chicken biryani malabar worst not cooked properly.paneer chilli good tasty need improvement panner masala pepper chicken chicken biryani no icecream available.. gulab jamun also not much tasty.over ok ok only..no parking facility available ambience good staffs polite friendly',\n",
       " 'great',\n",
       " 'food amazing especially pizza loki extremely sweet courteous service top notch definitely go pizza beach ice tea kickass',\n",
       " 'trick treat accidental discovery way place near mg blessing disguise place tiny food joint expertises usual cafe food v ordered array burgers fries nachos also several mocktails shakes served quirky glasses favourite chicken parm burger spicy guava mocktail .the honey chilli fries die .as well seating arrangement cafe far mundane seating places adds comfort place verdict visit cafe food addicts',\n",
       " 'recently small team lunch place ambience cool usual cities.. place couple times.i loved place food affordable prices.. ordered full punjabi meals i.e sarsoo ka saag make di roti along masala plain papad drinks badaam thandai pind jeera masala gratified wonderful lunch really great time visit soon',\n",
       " \"go place near place time around tried irish cream latte okay though 'm good flat white chilli cheese toast ok. chicken club sandwich nice outdoor sitting area well 's good monsoons also guys follow instagram inhousefoodie ur daily dose awesomeness post recipes pictures daily\",\n",
       " \"waffle fan visit place try waffles made fresh hence quite crispy belgian dark chocolate one one vanilla ice cream i.e ice cream waffle one honey one lip smacking outlet n't seating much like takeaway cares yummiest waffles\",\n",
       " 'par indiara nagar branch best biryanis town no second thoughts prawns biryani amazing starters amazing tasted really fresh delicious',\n",
       " 'quantity less',\n",
       " 'biergarten whitefield bookmarks long time honestly felt didnã\\x83â\\x83â\\x83ã\\x83â\\x82â\\x83ã\\x83â\\x83â\\x82ã\\x83â\\x82â\\x83ã\\x83â\\x83â\\x83ã\\x83â\\x82â\\x82ã\\x83â\\x83â\\x82ã\\x83â\\x82ã\\x82â¢ã\\x83â\\x83â\\x83ã\\x83â\\x82â\\x83ã\\x83â\\x83â\\x82ã\\x83â\\x82â\\x82ã\\x83â\\x83â\\x83ã\\x83â\\x82â\\x82ã\\x83â\\x83â\\x82ã\\x83â\\x82â\\x80ã\\x83â\\x83â\\x83ã\\x83â\\x82â\\x83ã\\x83â\\x83â\\x82ã\\x83â\\x82â\\x82ã\\x83â\\x83â\\x83ã\\x83â\\x82â\\x82ã\\x83â\\x83â\\x82ã\\x83â\\x82â\\x99t live hype ratings see vegetarian wouldnã\\x83â\\x83â\\x83ã\\x83â\\x82â\\x83ã\\x83â\\x83â\\x82ã\\x83â\\x82â\\x83ã\\x83â\\x83â\\x83ã\\x83â\\x82â\\x82ã\\x83â\\x83â\\x82ã\\x83â\\x82ã\\x82â¢ã\\x83â\\x83â\\x83ã\\x83â\\x82â\\x83ã\\x83â\\x83â\\x82ã\\x83â\\x82â\\x82ã\\x83â\\x83â\\x83ã\\x83â\\x82â\\x82ã\\x83â\\x83â\\x82ã\\x83â\\x82â\\x80ã\\x83â\\x83â\\x83ã\\x83â\\x82â\\x83ã\\x83â\\x83â\\x82ã\\x83â\\x82â\\x82ã\\x83â\\x83â\\x83ã\\x83â\\x82â\\x82ã\\x83â\\x83â\\x82ã\\x83â\\x82â\\x99t recommend place mushroom galouti average honest friends like non veg dishes though service okay ambience gets extra point rating went lunch iã\\x83â\\x83â\\x83ã\\x83â\\x82â\\x83ã\\x83â\\x83â\\x82ã\\x83â\\x82â\\x83ã\\x83â\\x83â\\x83ã\\x83â\\x82â\\x82ã\\x83â\\x83â\\x82ã\\x83â\\x82ã\\x82â¢ã\\x83â\\x83â\\x83ã\\x83â\\x82â\\x83ã\\x83â\\x83â\\x82ã\\x83â\\x82â\\x82ã\\x83â\\x83â\\x83ã\\x83â\\x82â\\x82ã\\x83â\\x83â\\x82ã\\x83â\\x82â\\x80ã\\x83â\\x83â\\x83ã\\x83â\\x82â\\x83ã\\x83â\\x83â\\x82ã\\x83â\\x82â\\x82ã\\x83â\\x83â\\x83ã\\x83â\\x82â\\x82ã\\x83â\\x83â\\x82ã\\x83â\\x82â\\x99m sure itã\\x83â\\x83â\\x83ã\\x83â\\x82â\\x83ã\\x83â\\x83â\\x82ã\\x83â\\x82â\\x83ã\\x83â\\x83â\\x83ã\\x83â\\x82â\\x82ã\\x83â\\x83â\\x82ã\\x83â\\x82ã\\x82â¢ã\\x83â\\x83â\\x83ã\\x83â\\x82â\\x83ã\\x83â\\x83â\\x82ã\\x83â\\x82â\\x82ã\\x83â\\x83â\\x83ã\\x83â\\x82â\\x82ã\\x83â\\x83â\\x82ã\\x83â\\x82â\\x80ã\\x83â\\x83â\\x83ã\\x83â\\x82â\\x83ã\\x83â\\x83â\\x82ã\\x83â\\x82â\\x82ã\\x83â\\x83â\\x83ã\\x83â\\x82â\\x82ã\\x83â\\x83â\\x82ã\\x83â\\x82â\\x99ll better evening unless youã\\x83â\\x83â\\x83ã\\x83â\\x82â\\x83ã\\x83â\\x83â\\x82ã\\x83â\\x82â\\x83ã\\x83â\\x83â\\x83ã\\x83â\\x82â\\x82ã\\x83â\\x83â\\x82ã\\x83â\\x82ã\\x82â¢ã\\x83â\\x83â\\x83ã\\x83â\\x82â\\x83ã\\x83â\\x83â\\x82ã\\x83â\\x82â\\x82ã\\x83â\\x83â\\x83ã\\x83â\\x82â\\x82ã\\x83â\\x83â\\x82ã\\x83â\\x82â\\x80ã\\x83â\\x83â\\x83ã\\x83â\\x82â\\x83ã\\x83â\\x83â\\x82ã\\x83â\\x82â\\x82ã\\x83â\\x83â\\x83ã\\x83â\\x82â\\x82ã\\x83â\\x83â\\x82ã\\x83â\\x82â\\x99re around area wouldnã\\x83â\\x83â\\x83ã\\x83â\\x82â\\x83ã\\x83â\\x83â\\x82ã\\x83â\\x82â\\x83ã\\x83â\\x83â\\x83ã\\x83â\\x82â\\x82ã\\x83â\\x83â\\x82ã\\x83â\\x82ã\\x82â¢ã\\x83â\\x83â\\x83ã\\x83â\\x82â\\x83ã\\x83â\\x83â\\x82ã\\x83â\\x82â\\x82ã\\x83â\\x83â\\x83ã\\x83â\\x82â\\x82ã\\x83â\\x83â\\x82ã\\x83â\\x82â\\x80ã\\x83â\\x83â\\x83ã\\x83â\\x82â\\x83ã\\x83â\\x83â\\x82ã\\x83â\\x82â\\x82ã\\x83â\\x83â\\x83ã\\x83â\\x82â\\x82ã\\x83â\\x83â\\x82ã\\x83â\\x82â\\x99t recommend long drive till might leave highly disappointed',\n",
       " \"ordered spicy n't get spicy\",\n",
       " \"thin crust pizzas second best tasted bangalore beats pizza huts domino 's hands ordered many times never disappointed pizzas pastas though days refuses home delivery may two guys take orders prepare pizza deliver delivery time vary great extent though place five minutes walking distance residence place inside premises airlines hotel lavell road sitting suggest visit cunningham road branch small not make sense drive branch pizza price reasonable never ever issue quality pizzas not charge taxes beyond newly imposed sales tax 4.5 highly recommended home delivery veg pizza lovers cbd\",\n",
       " 'much menu would gladly order every time visit place.i love pasta love burgers.i tried aglio olio pasta made without sauce absolute favorite dish place.the spaghetti cooked properly tasteful ample quantity',\n",
       " \"cute little place good food pretty decent service pandas everywhere ordered 2 ramen soup 2 green apple mojitos 1 veg spring rolls time taken kinda expected food tasted great 's cool friend got non veg ramen soup chicken said good self service 'll get stuff ask guess\",\n",
       " 'new year eve place amazing food delicious ambience classy huge sitting area give try sometime soon',\n",
       " 'fall love place soon u enter white walls green benches makes ambiance even better open air seatings tried beers really liked ipa one service good',\n",
       " 'love indonesian dishes donã\\x83â\\x83â\\x83ã\\x83â\\x82â\\x83ã\\x83â\\x83â\\x82ã\\x83â\\x82â\\x83ã\\x83â\\x83â\\x83ã\\x83â\\x82â\\x82ã\\x83â\\x83â\\x82ã\\x83â\\x82ã\\x82â¢ã\\x83â\\x83â\\x83ã\\x83â\\x82â\\x83ã\\x83â\\x83â\\x82ã\\x83â\\x82â\\x82ã\\x83â\\x83â\\x83ã\\x83â\\x82â\\x82ã\\x83â\\x83â\\x82ã\\x83â\\x82â\\x80ã\\x83â\\x83â\\x83ã\\x83â\\x82â\\x83ã\\x83â\\x83â\\x82ã\\x83â\\x82â\\x82ã\\x83â\\x83â\\x83ã\\x83â\\x82â\\x82ã\\x83â\\x83â\\x82ã\\x83â\\x82â\\x99t really approve effortlessly went biergarten thought trying nasi goreng yes one best tried bangalore presentation accompaniments taste everything good servers well trained drinks ã\\x83â\\x83â\\x83ã\\x83â\\x82â\\x83ã\\x83â\\x83â\\x82ã\\x83â\\x82â\\x83ã\\x83â\\x83â\\x83ã\\x83â\\x82â\\x82ã\\x83â\\x83â\\x82ã\\x83â\\x82ã\\x82â¢ã\\x83â\\x83â\\x83ã\\x83â\\x82â\\x83ã\\x83â\\x83â\\x82ã\\x83â\\x82â\\x82ã\\x83â\\x83â\\x83ã\\x83â\\x82â\\x82ã\\x83â\\x83â\\x82ã\\x83â\\x82â\\x80ã\\x83â\\x83â\\x83ã\\x83â\\x82â\\x83ã\\x83â\\x83â\\x82ã\\x83â\\x82â\\x82ã\\x83â\\x83â\\x83ã\\x83â\\x82â\\x82ã\\x83â\\x83â\\x82ã\\x83â\\x82â\\x94 good go food ã\\x83â\\x83â\\x83ã\\x83â\\x82â\\x83ã\\x83â\\x83â\\x82ã\\x83â\\x82â\\x83ã\\x83â\\x83â\\x83ã\\x83â\\x82â\\x82ã\\x83â\\x83â\\x82ã\\x83â\\x82ã\\x82â¢ã\\x83â\\x83â\\x83ã\\x83â\\x82â\\x83ã\\x83â\\x83â\\x82ã\\x83â\\x82â\\x82ã\\x83â\\x83â\\x83ã\\x83â\\x82â\\x82ã\\x83â\\x83â\\x82ã\\x83â\\x82â\\x80ã\\x83â\\x83â\\x83ã\\x83â\\x82â\\x83ã\\x83â\\x83â\\x82ã\\x83â\\x82â\\x82ã\\x83â\\x83â\\x83ã\\x83â\\x82â\\x82ã\\x83â\\x83â\\x82ã\\x83â\\x82â\\x94 ã\\x83â\\x83â\\x83ã\\x83â\\x82â\\x83ã\\x83â\\x83â\\x82ã\\x83â\\x82â\\x83ã\\x83â\\x83â\\x83ã\\x83â\\x82â\\x82ã\\x83â\\x83â\\x82ã\\x83â\\x82ã\\x82â¢ã\\x83â\\x83â\\x83ã\\x83â\\x82â\\x83ã\\x83â\\x83â\\x82ã\\x83â\\x82â\\x82ã\\x83â\\x83â\\x83ã\\x83â\\x82â\\x82ã\\x83â\\x83â\\x82ã\\x83â\\x82â\\x9dã\\x83â\\x83â\\x83ã\\x83â\\x82â\\x83ã\\x83â\\x83â\\x82ã\\x83â\\x82â\\x82ã\\x83â\\x83â\\x83ã\\x83â\\x82â\\x82ã\\x83â\\x83â\\x82ã\\x83â\\x82ã\\x82â¤ã\\x83â\\x83â\\x83ã\\x83â\\x82â\\x83ã\\x83â\\x83â\\x82ã\\x83â\\x82â\\x83ã\\x83â\\x83â\\x83ã\\x83â\\x82â\\x82ã\\x83â\\x83â\\x82ã\\x83â\\x82ã\\x82â¯ã\\x83â\\x83â\\x83ã\\x83â\\x82â\\x83ã\\x83â\\x83â\\x82ã\\x83â\\x82â\\x82ã\\x83â\\x83â\\x83ã\\x83â\\x82â\\x82ã\\x83â\\x83â\\x82ã\\x83â\\x82ã\\x82â¸ã\\x83â\\x83â\\x83ã\\x83â\\x82â\\x83ã\\x83â\\x83â\\x82ã\\x83â\\x82â\\x82ã\\x83â\\x83â\\x83ã\\x83â\\x82â\\x82ã\\x83â\\x83â\\x82ã\\x83â\\x82â\\x8fã\\x83â\\x83â\\x83ã\\x83â\\x82â\\x83ã\\x83â\\x83â\\x82ã\\x83â\\x82â\\x83ã\\x83â\\x83â\\x83ã\\x83â\\x82â\\x82ã\\x83â\\x83â\\x82ã\\x83â\\x82ã\\x82â¢ã\\x83â\\x83â\\x83ã\\x83â\\x82â\\x83ã\\x83â\\x83â\\x82ã\\x83â\\x82â\\x82ã\\x83â\\x83â\\x83ã\\x83â\\x82â\\x82ã\\x83â\\x83â\\x82ã\\x83â\\x82â\\x9dã\\x83â\\x83â\\x83ã\\x83â\\x82â\\x83ã\\x83â\\x83â\\x82ã\\x83â\\x82â\\x82ã\\x83â\\x83â\\x83ã\\x83â\\x82â\\x82ã\\x83â\\x83â\\x82ã\\x83â\\x82ã\\x82â¤ã\\x83â\\x83â\\x83ã\\x83â\\x82â\\x83ã\\x83â\\x83â\\x82ã\\x83â\\x82â\\x83ã\\x83â\\x83â\\x83ã\\x83â\\x82â\\x82ã\\x83â\\x83â\\x82ã\\x83â\\x82ã\\x82â¯ã\\x83â\\x83â\\x83ã\\x83â\\x82â\\x83ã\\x83â\\x83â\\x82ã\\x83â\\x82â\\x82ã\\x83â\\x83â\\x83ã\\x83â\\x82â\\x82ã\\x83â\\x83â\\x82ã\\x83â\\x82ã\\x82â¸ã\\x83â\\x83â\\x83ã\\x83â\\x82â\\x83ã\\x83â\\x83â\\x82ã\\x83â\\x82â\\x82ã\\x83â\\x83â\\x83ã\\x83â\\x82â\\x82ã\\x83â\\x83â\\x82ã\\x83â\\x82â\\x8f please guys try fav nasi goreng .. thanks chef lovely dish..',\n",
       " 'food spicy',\n",
       " 'average chicken covered cold piece roti',\n",
       " '3.5/5 place located opposite empire restaurant kormangala 5th block reviews zomato made visit place ambience good self service restaurant ordered chicken pandan sauce pad thai good quantity chicken pandan sauce little spicy pad thai sweet tangy loves spicy food donã\\x83â\\x83â\\x83ã\\x83â\\x82â\\x83ã\\x83â\\x83â\\x82ã\\x83â\\x82â\\x82ã\\x83â\\x83â\\x83ã\\x83â\\x82â\\x82ã\\x83â\\x83â\\x82ã\\x83â\\x82â\\x92t go dish overall good place',\n",
       " 'superb place hangout lovely place pizza ice creams better place make memories zen pizza pasta formaggi tasty.. nachos cheese tastier garlic bread cheese tastiest -p',\n",
       " 'no matter many times go place never disappoints one best places desserts red velvet vanilla try red velvet sludge comes jar equivalent meal shared 3 people',\n",
       " 'nice food options people eating dinner regularly small seating area food good liked rava idli dosas roti curry options',\n",
       " 'rice not cooked worst food',\n",
       " \"located heart city 's neighborhood opp vijaya college next reliance jewels ambience refreshing well lit decorated outdoor seating also available limited service excellent one ca n't wish anything ordered achari panneer tikka pizza cottage cheese shawarma walnut brownie ice cream cupcake goat cheese sandwich german black forest pastry no complaints dishes well garnished suggestion menu would 've options also 've got good board games top place date visiting wish could rated 4.5 highly recommending people\",\n",
       " ...]"
      ]
     },
     "execution_count": 58,
     "metadata": {},
     "output_type": "execute_result"
    }
   ],
   "source": [
    "X_train"
   ]
  },
  {
   "cell_type": "code",
   "execution_count": 59,
   "metadata": {},
   "outputs": [],
   "source": [
    "# apply tf-idf\n",
    "from sklearn.feature_extraction.text import TfidfVectorizer\n",
    "vectorizer=TfidfVectorizer(max_features=5000)"
   ]
  },
  {
   "cell_type": "code",
   "execution_count": 60,
   "metadata": {},
   "outputs": [],
   "source": [
    "X_train_features=vectorizer.fit_transform(X_train)"
   ]
  },
  {
   "cell_type": "code",
   "execution_count": 61,
   "metadata": {},
   "outputs": [],
   "source": [
    "X_test_features=vectorizer.transform(X_test)"
   ]
  },
  {
   "cell_type": "code",
   "execution_count": 65,
   "metadata": {},
   "outputs": [
    {
     "data": {
      "text/plain": [
       "3500"
      ]
     },
     "execution_count": 65,
     "metadata": {},
     "output_type": "execute_result"
    }
   ],
   "source": [
    "len(X_train)"
   ]
  },
  {
   "cell_type": "code",
   "execution_count": 64,
   "metadata": {},
   "outputs": [
    {
     "data": {
      "text/plain": [
       "1500"
      ]
     },
     "execution_count": 64,
     "metadata": {},
     "output_type": "execute_result"
    }
   ],
   "source": [
    "len(X_test)"
   ]
  },
  {
   "cell_type": "code",
   "execution_count": 66,
   "metadata": {},
   "outputs": [
    {
     "data": {
      "text/plain": [
       "(3500, 5000)"
      ]
     },
     "execution_count": 66,
     "metadata": {},
     "output_type": "execute_result"
    }
   ],
   "source": [
    "X_train_features.shape"
   ]
  },
  {
   "cell_type": "code",
   "execution_count": 67,
   "metadata": {},
   "outputs": [
    {
     "data": {
      "text/plain": [
       "(1500, 5000)"
      ]
     },
     "execution_count": 67,
     "metadata": {},
     "output_type": "execute_result"
    }
   ],
   "source": [
    "X_test_features.shape"
   ]
  },
  {
   "cell_type": "code",
   "execution_count": 68,
   "metadata": {},
   "outputs": [],
   "source": [
    "# Model Building\n",
    "from sklearn.ensemble import RandomForestRegressor\n",
    "reg=RandomForestRegressor()"
   ]
  },
  {
   "cell_type": "code",
   "execution_count": 69,
   "metadata": {},
   "outputs": [
    {
     "name": "stdout",
     "output_type": "stream",
     "text": [
      "CPU times: user 27.1 s, sys: 12 ms, total: 27.1 s\n",
      "Wall time: 27.1 s\n"
     ]
    },
    {
     "data": {
      "text/plain": [
       "RandomForestRegressor()"
      ]
     },
     "execution_count": 69,
     "metadata": {},
     "output_type": "execute_result"
    }
   ],
   "source": [
    "%%time\n",
    "reg.fit(X_train_features,y_train)"
   ]
  },
  {
   "cell_type": "code",
   "execution_count": 70,
   "metadata": {},
   "outputs": [],
   "source": [
    "y_train_pred=reg.predict(X_train_features)"
   ]
  },
  {
   "cell_type": "code",
   "execution_count": 72,
   "metadata": {},
   "outputs": [],
   "source": [
    "y_test_pred=reg.predict(X_test_features)"
   ]
  },
  {
   "cell_type": "code",
   "execution_count": 74,
   "metadata": {},
   "outputs": [
    {
     "data": {
      "text/plain": [
       "0.07766932477706141"
      ]
     },
     "execution_count": 74,
     "metadata": {},
     "output_type": "execute_result"
    }
   ],
   "source": [
    "from sklearn.metrics import mean_squared_error\n",
    "mse=mean_squared_error(y_train_pred,y_train)\n",
    "mse"
   ]
  },
  {
   "cell_type": "code",
   "execution_count": 75,
   "metadata": {},
   "outputs": [
    {
     "data": {
      "text/plain": [
       "0.30244040150563767"
      ]
     },
     "execution_count": 75,
     "metadata": {},
     "output_type": "execute_result"
    }
   ],
   "source": [
    "mse1=mean_squared_error(y_test_pred,y_test)\n",
    "mse1"
   ]
  },
  {
   "cell_type": "code",
   "execution_count": 76,
   "metadata": {},
   "outputs": [],
   "source": [
    "# identify performance\n",
    "res_df=pd.DataFrame({'review':X_test,'rating':y_test,'rating_pred':y_test_pred})"
   ]
  },
  {
   "cell_type": "code",
   "execution_count": 77,
   "metadata": {},
   "outputs": [
    {
     "data": {
      "text/html": [
       "<div>\n",
       "<style scoped>\n",
       "    .dataframe tbody tr th:only-of-type {\n",
       "        vertical-align: middle;\n",
       "    }\n",
       "\n",
       "    .dataframe tbody tr th {\n",
       "        vertical-align: top;\n",
       "    }\n",
       "\n",
       "    .dataframe thead th {\n",
       "        text-align: right;\n",
       "    }\n",
       "</style>\n",
       "<table border=\"1\" class=\"dataframe\">\n",
       "  <thead>\n",
       "    <tr style=\"text-align: right;\">\n",
       "      <th></th>\n",
       "      <th>review</th>\n",
       "      <th>rating</th>\n",
       "      <th>rating_pred</th>\n",
       "    </tr>\n",
       "  </thead>\n",
       "  <tbody>\n",
       "    <tr>\n",
       "      <th>3563</th>\n",
       "      <td>good food service reasonable rate.manily 's ty...</td>\n",
       "      <td>4.0</td>\n",
       "      <td>4.340</td>\n",
       "    </tr>\n",
       "    <tr>\n",
       "      <th>1538</th>\n",
       "      <td>ordered dhoosa puri chai mid night mind blowin...</td>\n",
       "      <td>5.0</td>\n",
       "      <td>4.855</td>\n",
       "    </tr>\n",
       "    <tr>\n",
       "      <th>1837</th>\n",
       "      <td>extremely happy order food also good tasty</td>\n",
       "      <td>5.0</td>\n",
       "      <td>5.000</td>\n",
       "    </tr>\n",
       "    <tr>\n",
       "      <th>2380</th>\n",
       "      <td>ambience decent service little slow asked wate...</td>\n",
       "      <td>3.0</td>\n",
       "      <td>3.000</td>\n",
       "    </tr>\n",
       "    <tr>\n",
       "      <th>1912</th>\n",
       "      <td>best place quick bites pure south indian affor...</td>\n",
       "      <td>5.0</td>\n",
       "      <td>4.965</td>\n",
       "    </tr>\n",
       "  </tbody>\n",
       "</table>\n",
       "</div>"
      ],
      "text/plain": [
       "                                                 review  rating  rating_pred\n",
       "3563  good food service reasonable rate.manily 's ty...     4.0        4.340\n",
       "1538  ordered dhoosa puri chai mid night mind blowin...     5.0        4.855\n",
       "1837         extremely happy order food also good tasty     5.0        5.000\n",
       "2380  ambience decent service little slow asked wate...     3.0        3.000\n",
       "1912  best place quick bites pure south indian affor...     5.0        4.965"
      ]
     },
     "execution_count": 77,
     "metadata": {},
     "output_type": "execute_result"
    }
   ],
   "source": [
    "res_df.tail()"
   ]
  },
  {
   "cell_type": "code",
   "execution_count": 78,
   "metadata": {},
   "outputs": [
    {
     "data": {
      "text/html": [
       "<div>\n",
       "<style scoped>\n",
       "    .dataframe tbody tr th:only-of-type {\n",
       "        vertical-align: middle;\n",
       "    }\n",
       "\n",
       "    .dataframe tbody tr th {\n",
       "        vertical-align: top;\n",
       "    }\n",
       "\n",
       "    .dataframe thead th {\n",
       "        text-align: right;\n",
       "    }\n",
       "</style>\n",
       "<table border=\"1\" class=\"dataframe\">\n",
       "  <thead>\n",
       "    <tr style=\"text-align: right;\">\n",
       "      <th></th>\n",
       "      <th>review</th>\n",
       "      <th>rating</th>\n",
       "      <th>rating_pred</th>\n",
       "    </tr>\n",
       "  </thead>\n",
       "  <tbody>\n",
       "    <tr>\n",
       "      <th>1501</th>\n",
       "      <td>100 ft boutique restaurant one favourite place...</td>\n",
       "      <td>5.0</td>\n",
       "      <td>4.725</td>\n",
       "    </tr>\n",
       "    <tr>\n",
       "      <th>2586</th>\n",
       "      <td>went place today lunch located strategically p...</td>\n",
       "      <td>3.5</td>\n",
       "      <td>3.505</td>\n",
       "    </tr>\n",
       "    <tr>\n",
       "      <th>2653</th>\n",
       "      <td>sad people sad people ãââãââãââãââ...</td>\n",
       "      <td>2.0</td>\n",
       "      <td>3.440</td>\n",
       "    </tr>\n",
       "    <tr>\n",
       "      <th>1055</th>\n",
       "      <td>super testy food awesome experience fast suppl...</td>\n",
       "      <td>4.5</td>\n",
       "      <td>4.500</td>\n",
       "    </tr>\n",
       "    <tr>\n",
       "      <th>705</th>\n",
       "      <td>place great food music ambience fine brewery w...</td>\n",
       "      <td>5.0</td>\n",
       "      <td>4.700</td>\n",
       "    </tr>\n",
       "  </tbody>\n",
       "</table>\n",
       "</div>"
      ],
      "text/plain": [
       "                                                 review  rating  rating_pred\n",
       "1501  100 ft boutique restaurant one favourite place...     5.0        4.725\n",
       "2586  went place today lunch located strategically p...     3.5        3.505\n",
       "2653  sad people sad people ãââãââãââãââ...     2.0        3.440\n",
       "1055  super testy food awesome experience fast suppl...     4.5        4.500\n",
       "705   place great food music ambience fine brewery w...     5.0        4.700"
      ]
     },
     "execution_count": 78,
     "metadata": {},
     "output_type": "execute_result"
    }
   ],
   "source": [
    "res_df.head()"
   ]
  },
  {
   "cell_type": "code",
   "execution_count": 79,
   "metadata": {},
   "outputs": [
    {
     "name": "stdout",
     "output_type": "stream",
     "text": [
      "model saved\n"
     ]
    }
   ],
   "source": [
    "# pickle\n",
    "# joblib\n",
    "import joblib\n",
    "joblib.dump(reg,'Rating_pred.pkl')\n",
    "print('model saved')"
   ]
  },
  {
   "cell_type": "code",
   "execution_count": 80,
   "metadata": {},
   "outputs": [
    {
     "name": "stdout",
     "output_type": "stream",
     "text": [
      "model loaded\n"
     ]
    }
   ],
   "source": [
    "# load the model \n",
    "model=joblib.load('Rating_pred.pkl')\n",
    "print('model loaded')"
   ]
  },
  {
   "cell_type": "code",
   "execution_count": 81,
   "metadata": {},
   "outputs": [],
   "source": [
    "# Check model on real time data\n",
    "review='This is one of the best place to vist, very good food & overall service'"
   ]
  },
  {
   "cell_type": "code",
   "execution_count": 82,
   "metadata": {},
   "outputs": [],
   "source": [
    "vector_review=vectorizer.transform([review])"
   ]
  },
  {
   "cell_type": "code",
   "execution_count": 83,
   "metadata": {},
   "outputs": [
    {
     "data": {
      "text/plain": [
       "<1x5000 sparse matrix of type '<class 'numpy.float64'>'\n",
       "\twith 12 stored elements in Compressed Sparse Row format>"
      ]
     },
     "execution_count": 83,
     "metadata": {},
     "output_type": "execute_result"
    }
   ],
   "source": [
    "vector_review"
   ]
  },
  {
   "cell_type": "code",
   "execution_count": 84,
   "metadata": {},
   "outputs": [],
   "source": [
    "rating_review=model.predict(vector_review)"
   ]
  },
  {
   "cell_type": "code",
   "execution_count": 85,
   "metadata": {},
   "outputs": [
    {
     "name": "stdout",
     "output_type": "stream",
     "text": [
      "Rating predicted for Given review is-- [4.445]\n"
     ]
    }
   ],
   "source": [
    "print('Rating predicted for Given review is--',rating_review)"
   ]
  },
  {
   "cell_type": "code",
   "execution_count": null,
   "metadata": {},
   "outputs": [],
   "source": []
  }
 ],
 "metadata": {
  "kernelspec": {
   "display_name": "Python 3",
   "language": "python",
   "name": "python3"
  },
  "language_info": {
   "codemirror_mode": {
    "name": "ipython",
    "version": 3
   },
   "file_extension": ".py",
   "mimetype": "text/x-python",
   "name": "python",
   "nbconvert_exporter": "python",
   "pygments_lexer": "ipython3",
   "version": "3.7.6"
  }
 },
 "nbformat": 4,
 "nbformat_minor": 4
}
