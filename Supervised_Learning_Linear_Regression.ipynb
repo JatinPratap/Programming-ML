{
  "nbformat": 4,
  "nbformat_minor": 0,
  "metadata": {
    "kernelspec": {
      "display_name": "Python 3",
      "language": "python",
      "name": "python3"
    },
    "language_info": {
      "codemirror_mode": {
        "name": "ipython",
        "version": 3
      },
      "file_extension": ".py",
      "mimetype": "text/x-python",
      "name": "python",
      "nbconvert_exporter": "python",
      "pygments_lexer": "ipython3",
      "version": "3.8.8"
    },
    "colab": {
      "name": "Supervised Learning - Linear Regression.ipynb",
      "provenance": []
    }
  },
  "cells": [
    {
      "cell_type": "code",
      "metadata": {
        "id": "7wPDRd6k8tk-"
      },
      "source": [
        "from sklearn.datasets import load_boston\n",
        "import pandas as pd\n",
        "import numpy as np\n",
        "import seaborn as sns\n",
        "import matplotlib.pyplot as plt"
      ],
      "execution_count": null,
      "outputs": []
    },
    {
      "cell_type": "code",
      "metadata": {
        "id": "hGNgI11v8tk-"
      },
      "source": [
        "bs = load_boston()"
      ],
      "execution_count": null,
      "outputs": []
    },
    {
      "cell_type": "code",
      "metadata": {
        "id": "0JxyGREu8tk_"
      },
      "source": [
        "bs.keys()"
      ],
      "execution_count": null,
      "outputs": []
    },
    {
      "cell_type": "code",
      "metadata": {
        "id": "pcLG_Ws08tk_"
      },
      "source": [
        "print(bs.DESCR)"
      ],
      "execution_count": null,
      "outputs": []
    },
    {
      "cell_type": "code",
      "metadata": {
        "id": "NRvnXFxN8tk_"
      },
      "source": [
        "bs.data.shape"
      ],
      "execution_count": null,
      "outputs": []
    },
    {
      "cell_type": "code",
      "metadata": {
        "id": "Z4_BuRSb8tlA"
      },
      "source": [
        "type(bs)"
      ],
      "execution_count": null,
      "outputs": []
    },
    {
      "cell_type": "code",
      "metadata": {
        "id": "jPydF60w8tlA"
      },
      "source": [
        "bs.data"
      ],
      "execution_count": null,
      "outputs": []
    },
    {
      "cell_type": "code",
      "metadata": {
        "id": "gIiN_mma8tlA"
      },
      "source": [
        "boston = pd.DataFrame(bs.data, columns = bs.feature_names)\n",
        "boston['MEDV'] = bs.target"
      ],
      "execution_count": null,
      "outputs": []
    },
    {
      "cell_type": "code",
      "metadata": {
        "id": "6LGD6ZfN8tlB"
      },
      "source": [
        "boston"
      ],
      "execution_count": null,
      "outputs": []
    },
    {
      "cell_type": "markdown",
      "metadata": {
        "id": "lZFRo-cB8tlB"
      },
      "source": [
        "# Data Exploration : Correlation"
      ]
    },
    {
      "cell_type": "code",
      "metadata": {
        "scrolled": false,
        "id": "z-3cthXE8tlB"
      },
      "source": [
        "f, ax = plt.subplots(1,3, figsize = (20,5))\n",
        "ax[0].scatter(boston.RM , boston.MEDV)\n",
        "ax[0].set_xlabel('RM')\n",
        "ax[0].set_ylabel('MEDV')\n",
        "ax[0].set_title('RM', size = 22)\n",
        "ax[1].scatter(boston.AGE , boston.MEDV)\n",
        "ax[1].set_xlabel('AGE')\n",
        "ax[1].set_ylabel('MEDV')\n",
        "ax[1].set_title('AGE', size = 22)\n",
        "ax[2].scatter(boston.LSTAT , boston.MEDV)\n",
        "ax[2].set_xlabel('LSTAT')\n",
        "ax[2].set_ylabel('MEDV')\n",
        "ax[2].set_title('LSTAT', size = 22)\n",
        "plt.show()"
      ],
      "execution_count": null,
      "outputs": []
    },
    {
      "cell_type": "code",
      "metadata": {
        "id": "hRqhRHDz8tlC"
      },
      "source": [
        "boston.drop(columns= 'CHAS').corr()"
      ],
      "execution_count": null,
      "outputs": []
    },
    {
      "cell_type": "markdown",
      "metadata": {
        "id": "FJT7jhts8tlC"
      },
      "source": [
        "## Heat Map : Correlation Matrix"
      ]
    },
    {
      "cell_type": "code",
      "metadata": {
        "id": "BFnlnwdb8tlC"
      },
      "source": [
        "m = np.ones_like(boston.drop(columns = 'CHAS').corr())\n",
        "m[np.tril_indices_from(m)]=0"
      ],
      "execution_count": null,
      "outputs": []
    },
    {
      "cell_type": "code",
      "metadata": {
        "id": "VcVYXKRB8tlD"
      },
      "source": [
        "plt.figure(figsize = (15,10))\n",
        "sns.heatmap(boston.drop(columns = 'CHAS').corr(), annot= True, annot_kws= {'size' : 12},\n",
        "           cmap = 'Blues', fmt = '.2f', linewidths= 2, linecolor='white', mask = m,vmin=-1)\n",
        "plt.show();"
      ],
      "execution_count": null,
      "outputs": []
    },
    {
      "cell_type": "markdown",
      "metadata": {
        "id": "EEx383wh8tlD"
      },
      "source": [
        "# 2. Simple Linear Regression"
      ]
    },
    {
      "cell_type": "code",
      "metadata": {
        "id": "oqb2uRAH8tlD"
      },
      "source": [
        "from sklearn.model_selection import train_test_split as split\n",
        "train, test = split(boston, test_size = 0.20, random_state = 12)"
      ],
      "execution_count": null,
      "outputs": []
    },
    {
      "cell_type": "code",
      "metadata": {
        "id": "zCJWfguf8tlD"
      },
      "source": [
        "train.shape"
      ],
      "execution_count": null,
      "outputs": []
    },
    {
      "cell_type": "code",
      "metadata": {
        "id": "XcuT3bp48tlD"
      },
      "source": [
        "test.shape"
      ],
      "execution_count": null,
      "outputs": []
    },
    {
      "cell_type": "code",
      "metadata": {
        "id": "UHt5-yhH8tlE"
      },
      "source": [
        "train"
      ],
      "execution_count": null,
      "outputs": []
    },
    {
      "cell_type": "code",
      "metadata": {
        "id": "jN68sz4F8tlE"
      },
      "source": [
        "test"
      ],
      "execution_count": null,
      "outputs": []
    },
    {
      "cell_type": "markdown",
      "metadata": {
        "id": "HfSOZaT-8tlE"
      },
      "source": [
        "### Model Development"
      ]
    },
    {
      "cell_type": "code",
      "metadata": {
        "id": "C8I2flMp8tlE"
      },
      "source": [
        "from sklearn.linear_model import LinearRegression"
      ],
      "execution_count": null,
      "outputs": []
    },
    {
      "cell_type": "code",
      "metadata": {
        "id": "CdyEsgTj8tlF"
      },
      "source": [
        "??LinearRegression"
      ],
      "execution_count": null,
      "outputs": []
    },
    {
      "cell_type": "code",
      "metadata": {
        "id": "bM_x1WEU8tlF"
      },
      "source": [
        "# create a model object\n",
        "lm = LinearRegression()"
      ],
      "execution_count": null,
      "outputs": []
    },
    {
      "cell_type": "code",
      "metadata": {
        "id": "WqamgWuX8tlF"
      },
      "source": [
        "# fit the model \n",
        "X = train[['RM']] # always needs to be dataframe\n",
        "y= train.MEDV # always a Series"
      ],
      "execution_count": null,
      "outputs": []
    },
    {
      "cell_type": "code",
      "metadata": {
        "id": "wXQ1OvuT8tlF"
      },
      "source": [
        "plt.figure(figsize = (10,5))\n",
        "plt.scatter(train.RM, train.MEDV)\n",
        "plt.show();"
      ],
      "execution_count": null,
      "outputs": []
    },
    {
      "cell_type": "code",
      "metadata": {
        "id": "PGG7mQ4d8tlF"
      },
      "source": [
        "lm.fit(X, y)"
      ],
      "execution_count": null,
      "outputs": []
    },
    {
      "cell_type": "code",
      "metadata": {
        "id": "spcgzXSf8tlG"
      },
      "source": [
        "# Parameters\n",
        "lm.coef_ # beta value(s)"
      ],
      "execution_count": null,
      "outputs": []
    },
    {
      "cell_type": "code",
      "metadata": {
        "id": "4RssBaWv8tlG"
      },
      "source": [
        "lm.intercept_ # intercept"
      ],
      "execution_count": null,
      "outputs": []
    },
    {
      "cell_type": "code",
      "metadata": {
        "id": "9mgkKZCy8tlG"
      },
      "source": [
        "y_cap = lm.predict(train[['RM']])\n",
        "plt.figure(figsize = (10,5))\n",
        "plt.scatter(x=train.RM, y=train.MEDV)\n",
        "plt.plot(train.RM, y_cap,color = 'red')\n",
        "plt.show();"
      ],
      "execution_count": null,
      "outputs": []
    },
    {
      "cell_type": "code",
      "metadata": {
        "id": "KFw2FdST8tlG"
      },
      "source": [
        "lm.score(X, y) # R squared value"
      ],
      "execution_count": null,
      "outputs": []
    },
    {
      "cell_type": "code",
      "metadata": {
        "id": "OcHCMYd28tlG"
      },
      "source": [
        "from statsmodels.formula.api import ols # ordinary least square "
      ],
      "execution_count": null,
      "outputs": []
    },
    {
      "cell_type": "code",
      "metadata": {
        "id": "Vp8SGfan8tlH"
      },
      "source": [
        "mod = ols(formula='MEDV ~ RM', data = train)"
      ],
      "execution_count": null,
      "outputs": []
    },
    {
      "cell_type": "code",
      "metadata": {
        "id": "dFyLUk8a8tlH"
      },
      "source": [
        "lm_fit = mod.fit()"
      ],
      "execution_count": null,
      "outputs": []
    },
    {
      "cell_type": "code",
      "metadata": {
        "id": "fv9BxIzy8tlH"
      },
      "source": [
        "lm_fit.summary()"
      ],
      "execution_count": null,
      "outputs": []
    },
    {
      "cell_type": "markdown",
      "metadata": {
        "id": "JZx9a3g68tlH"
      },
      "source": [
        "## 3. Multiple Linear Regression"
      ]
    },
    {
      "cell_type": "code",
      "metadata": {
        "id": "BgxS0Cyj8tlH"
      },
      "source": [
        "ft = ' + '.join(train.drop(columns = 'MEDV'))\n",
        "formula = 'MEDV ~ ' + ft\n",
        "formula"
      ],
      "execution_count": null,
      "outputs": []
    },
    {
      "cell_type": "code",
      "metadata": {
        "id": "Btt9Z8hm8tlI"
      },
      "source": [
        "lm_fit_multi = ols(formula, data = train).fit()"
      ],
      "execution_count": null,
      "outputs": []
    },
    {
      "cell_type": "code",
      "metadata": {
        "scrolled": false,
        "id": "81lb52WC8tlI"
      },
      "source": [
        "lm_fit_multi.summary()"
      ],
      "execution_count": null,
      "outputs": []
    },
    {
      "cell_type": "markdown",
      "metadata": {
        "id": "LrRoXOOu8tlI"
      },
      "source": [
        "### Plotting the coefficients"
      ]
    },
    {
      "cell_type": "code",
      "metadata": {
        "scrolled": false,
        "id": "Rqq90oi48tlI"
      },
      "source": [
        "plt.figure(figsize=(10, 4), dpi=120, facecolor='w', edgecolor='b')\n",
        "x = lm_fit_multi.params.index\n",
        "y = lm_fit_multi.params\n",
        "plt.bar( x, y )\n",
        "plt.xlabel( \"Variables\")\n",
        "plt.ylabel('Coefficients')\n",
        "plt.title('Coefficient plot');"
      ],
      "execution_count": null,
      "outputs": []
    },
    {
      "cell_type": "markdown",
      "metadata": {
        "id": "uTbZau498tlI"
      },
      "source": [
        "### RMSE [Root Mean Squared Error]"
      ]
    },
    {
      "cell_type": "code",
      "metadata": {
        "id": "pKaGCQRC8tlJ"
      },
      "source": [
        "from sklearn.metrics import mean_squared_error as mse\n",
        "fitted = lm_fit_multi.fittedvalues\n",
        "resid = lm_fit_multi.resid"
      ],
      "execution_count": null,
      "outputs": []
    },
    {
      "cell_type": "code",
      "metadata": {
        "id": "nQU9Z9GN8tlJ"
      },
      "source": [
        "fitted=lm_fit_multi.predict(train)\n",
        "fitted[:5]"
      ],
      "execution_count": null,
      "outputs": []
    },
    {
      "cell_type": "code",
      "metadata": {
        "id": "PhKnCUeX8tlJ"
      },
      "source": [
        "np.mean((train.MEDV-fitted)**2)"
      ],
      "execution_count": null,
      "outputs": []
    },
    {
      "cell_type": "code",
      "metadata": {
        "id": "VkJmlM9q8tlJ"
      },
      "source": [
        "np.mean((train.MEDV-fitted)**2)**.5"
      ],
      "execution_count": null,
      "outputs": []
    },
    {
      "cell_type": "code",
      "metadata": {
        "id": "HnEBV3nU8tlK"
      },
      "source": [
        "### Training Data\n",
        "## 1. MSE\n",
        "print(\"MSE  - \",mse(y_true = train.MEDV, y_pred = fitted, squared = True).round(1))\n",
        "## 2. RMSE\n",
        "print(\"RSME - \" ,mse(y_true = train.MEDV, y_pred = fitted, squared = False).round(1))"
      ],
      "execution_count": null,
      "outputs": []
    },
    {
      "cell_type": "code",
      "metadata": {
        "id": "aD6jXF6g8tlK"
      },
      "source": [
        "# predictions & validation on Test Data set\n",
        "test_predicted=lm_fit_multi.predict(test)\n",
        "\n",
        "## 1. MSE\n",
        "print(\"MSE  - \",mse(y_true = test.MEDV, y_pred = test_predicted, squared = True).round(1))\n",
        "## 2. RMSE\n",
        "print(\"RSME - \" ,mse(y_true = test.MEDV, y_pred = test_predicted, squared = False).round(1))"
      ],
      "execution_count": null,
      "outputs": []
    },
    {
      "cell_type": "markdown",
      "metadata": {
        "id": "M6xqMrPe8tlK"
      },
      "source": [
        "# ANOVA : Overall Feasibilty of Regression Model\n",
        "      - H0 : all the beta values are non significant\n",
        "      -    : none of varaibles are significant\n",
        "      -    : all the regression terms are non significant \n",
        "      -    : hence regression is not at all possible"
      ]
    },
    {
      "cell_type": "markdown",
      "metadata": {
        "id": "8DcWuMU88tlL"
      },
      "source": [
        "# T - Test : Variable Significance \n",
        "\n",
        "* P - Value is uded to reject the H0\n",
        "* H0 : the corresponding beta value is non significant hence the corresponding variable is not significant\n",
        "* for whichever variable P- Value is high [>0.5] - We fail to reject the null, hence varaiable is not significcant "
      ]
    },
    {
      "cell_type": "markdown",
      "metadata": {
        "id": "-NVfhzx38tlL"
      },
      "source": [
        "# AIC - Akeike information Criterion = 2p - 2 ln L\n",
        "# BIC - Baysean Information Criterion = pln n - 2ln L\n",
        "    - based on Information theory : information loss\n",
        "    - lower value of AIC & BIC\n",
        "    - Relative \n",
        "    - p in the equation : no. of factors / x variables "
      ]
    },
    {
      "cell_type": "markdown",
      "metadata": {
        "id": "UDQ4WgF98tlL"
      },
      "source": [
        "# <center> Linear Regression - Deep Dive "
      ]
    },
    {
      "cell_type": "markdown",
      "metadata": {
        "id": "_U_tPndu8tlL"
      },
      "source": [
        "## Assumptions of Linear Regression\n",
        "\n",
        "* Linear Relation : The relationship b/w Dependent & Independent is supposed to be linear. Dependent varaibale is a linear function of independent variable & error term\n",
        "* Errors [Residuals] are Normally Distributed i.e. Regression Model is Robust\n",
        "* Homoscedasticity : Equal variance in the errors across dataset\n",
        "* Multicollinearity : Independence of the independent varaibles "
      ]
    },
    {
      "cell_type": "code",
      "metadata": {
        "id": "i9UG-EMG8tlM"
      },
      "source": [
        "# Arranging and calculating the Residuals\n",
        "residuals = pd.DataFrame({\n",
        "    'fitted values' : train.MEDV,\n",
        "    'predicted values' : fitted,\n",
        "})\n",
        "\n",
        "residuals['residuals'] = residuals['fitted values'] - residuals['predicted values']\n",
        "residuals.head()"
      ],
      "execution_count": null,
      "outputs": []
    },
    {
      "cell_type": "markdown",
      "metadata": {
        "id": "kJv4B_898tlM"
      },
      "source": [
        "### A. Linearity Assumption"
      ]
    },
    {
      "cell_type": "code",
      "metadata": {
        "id": "KGyGSAz48tlM"
      },
      "source": [
        "# ------------ Already validated Before Model Building --------\n",
        "y_cap = lm.predict(train[['RM']])\n",
        "plt.figure(figsize = (10,5))\n",
        "plt.scatter(train.RM, train.MEDV)\n",
        "plt.plot(train.RM, y_cap,color = 'red')\n",
        "plt.show();"
      ],
      "execution_count": null,
      "outputs": []
    },
    {
      "cell_type": "markdown",
      "metadata": {
        "id": "e4jnkd3V8tlN"
      },
      "source": [
        "### B. Normality of Errors"
      ]
    },
    {
      "cell_type": "markdown",
      "metadata": {
        "id": "RGPWSMyl8tlN"
      },
      "source": [
        "**Residual Analysis  :**\n",
        "* Predicted / estimated = y_cap\n",
        "* Residuals = y - y_cap "
      ]
    },
    {
      "cell_type": "code",
      "metadata": {
        "id": "K-ScY-yT8tlN"
      },
      "source": [
        "import scipy.stats as stats"
      ],
      "execution_count": null,
      "outputs": []
    },
    {
      "cell_type": "code",
      "metadata": {
        "scrolled": false,
        "id": "yxETvrkh8tlN"
      },
      "source": [
        "# Histogram for distribution\n",
        "plt.figure(figsize=(8, 4), dpi=120, facecolor='w', edgecolor='b')\n",
        "plt.hist(residuals.residuals, bins = 150)\n",
        "plt.xlabel('Error')\n",
        "plt.ylabel('Frequency')\n",
        "plt.title('Distribution of Error Terms')\n",
        "plt.show()"
      ],
      "execution_count": null,
      "outputs": []
    },
    {
      "cell_type": "markdown",
      "metadata": {
        "id": "zN74JGHN8tlN"
      },
      "source": [
        "According to the Histogram, the distribution of error is not perfectly normal and there are some outliers on the Higher end of the errors."
      ]
    },
    {
      "cell_type": "markdown",
      "metadata": {
        "id": "t3nKtQx98tlO"
      },
      "source": [
        "### QQ-Plot (Is the data Normally Distributed?)"
      ]
    },
    {
      "cell_type": "code",
      "metadata": {
        "scrolled": false,
        "id": "FVOUtPY-8tlO"
      },
      "source": [
        "# importing the QQ-plot from the from the statsmodels\n",
        "from statsmodels.graphics.gofplots import qqplot\n",
        "\n",
        "## Plotting the QQ plot\n",
        "fig, ax = plt.subplots(figsize=(5,5) , dpi = 120)\n",
        "qqplot(residuals.residuals, line = 's' , ax = ax)\n",
        "plt.ylabel('Residual Quantiles')\n",
        "plt.xlabel('Ideal Scaled Quantiles')\n",
        "plt.title('Checking distribution of Residual Errors')\n",
        "plt.show()"
      ],
      "execution_count": null,
      "outputs": []
    },
    {
      "cell_type": "markdown",
      "metadata": {
        "id": "3fwP2i4V8tlO"
      },
      "source": [
        "The QQ-plot clearly verifies our findings from the the histogram of the residuals, the data is not exactly normal in nature, and there are some outliers on the higher end of the Residues."
      ]
    },
    {
      "cell_type": "markdown",
      "metadata": {
        "id": "HAcXwAgQ8tlO"
      },
      "source": [
        "### C. Homoscedasticity \n",
        "* Scale - Location plot \n",
        "* Sqrt of standardised residuals against fitted values"
      ]
    },
    {
      "cell_type": "code",
      "metadata": {
        "id": "QLmOz_Dn8tlO"
      },
      "source": [
        "plt.figure(figsize=(8, 4), dpi=120, facecolor='w', edgecolor='b')\n",
        "f = range(0,len(train))\n",
        "k = [0 for i in range(0,len(train))]\n",
        "plt.scatter( f, residuals.residuals[:], label = 'Residuals')\n",
        "plt.plot( f, k , color = 'red', label = 'Mean' )\n",
        "plt.xlabel('fitted points ')\n",
        "plt.ylabel('residuals')\n",
        "plt.title('Residual plot')\n",
        "#plt.ylim(-4000, 4000)\n",
        "plt.legend();"
      ],
      "execution_count": null,
      "outputs": []
    },
    {
      "cell_type": "markdown",
      "metadata": {
        "id": "xzDODQq_8tlP"
      },
      "source": [
        "\n",
        "### D. Multicollinearity"
      ]
    },
    {
      "cell_type": "markdown",
      "metadata": {
        "id": "RW0I-bE58tlP"
      },
      "source": [
        "* VIF - Variance Inflation Factor\n",
        "* VIF(x) = 1 / (1 - R-Squared(X))\n",
        "* R-Squared(X) is the R-Squared value coming from regression model for x i.e. taking X as dependent and all other variables as the independent variables"
      ]
    },
    {
      "cell_type": "code",
      "metadata": {
        "id": "hAocqYVT8tlP"
      },
      "source": [
        "from statsmodels.stats.outliers_influence import variance_inflation_factor as vif"
      ],
      "execution_count": null,
      "outputs": []
    },
    {
      "cell_type": "code",
      "metadata": {
        "scrolled": false,
        "id": "Rs8PSeYG8tlP"
      },
      "source": [
        "# vif requires a data with intercept column\n",
        "x_data = train.drop(columns= 'MEDV')\n",
        "x_data['Intercept'] = 1\n",
        "x_data"
      ],
      "execution_count": null,
      "outputs": []
    },
    {
      "cell_type": "code",
      "metadata": {
        "id": "k5zGRph18tlP"
      },
      "source": [
        "?vif"
      ],
      "execution_count": null,
      "outputs": []
    },
    {
      "cell_type": "code",
      "metadata": {
        "id": "tpG2mq6z8tlQ"
      },
      "source": [
        "vif(x_data.values, 1)"
      ],
      "execution_count": null,
      "outputs": []
    },
    {
      "cell_type": "code",
      "metadata": {
        "id": "qggKBzAR8tlQ"
      },
      "source": [
        "VIF = pd.DataFrame()\n",
        "VIF['Independent_Variables'] = x_data.columns\n",
        "VIF['VIF'] = [vif(x_data.values, i) for i in range(x_data.shape[1])]\n",
        "VIF = VIF.set_index('Independent_Variables').drop(index = 'Intercept').T"
      ],
      "execution_count": null,
      "outputs": []
    },
    {
      "cell_type": "code",
      "metadata": {
        "scrolled": false,
        "id": "ov4-30u-8tlQ"
      },
      "source": [
        "VIF"
      ],
      "execution_count": null,
      "outputs": []
    },
    {
      "cell_type": "code",
      "metadata": {
        "id": "505cxhm98tlQ"
      },
      "source": [
        "x_data=x_data.drop('Intercept',axis=1)"
      ],
      "execution_count": null,
      "outputs": []
    },
    {
      "cell_type": "code",
      "metadata": {
        "id": "mH-rUGBf8tlQ"
      },
      "source": [
        "x_data"
      ],
      "execution_count": null,
      "outputs": []
    },
    {
      "cell_type": "code",
      "metadata": {
        "scrolled": true,
        "id": "K6r2GDZC8tlR"
      },
      "source": [
        "x_data.columns"
      ],
      "execution_count": null,
      "outputs": []
    },
    {
      "cell_type": "code",
      "metadata": {
        "id": "riYTcjyD8tlR"
      },
      "source": [
        "vif_d = {}\n",
        "for var in x_data.columns:\n",
        "    form =  var + '~ '+ ' + '.join(x_data.drop(columns = [var])) \n",
        "    print(form)\n",
        "    mod = ols(form, data = x_data).fit()\n",
        "    vif_d[var] = 1/ (1-mod.rsquared)"
      ],
      "execution_count": null,
      "outputs": []
    },
    {
      "cell_type": "code",
      "metadata": {
        "id": "jqXlhdBv8tlR"
      },
      "source": [
        "pd.DataFrame(vif_d, index = ['VIF'])"
      ],
      "execution_count": null,
      "outputs": []
    },
    {
      "cell_type": "code",
      "metadata": {
        "id": "svI21Vk18tlR"
      },
      "source": [
        "# identify the variables Using VIF \n",
        "drop_cols = ['MEDV', 'TAX']\n",
        "x_data = train.drop(columns= drop_cols)\n",
        "x_data['intercept'] = 1\n",
        "VIF = pd.DataFrame()\n",
        "VIF['variables'] = x_data.columns\n",
        "VIF['VIF'] = [vif(x_data.values, i) for i in range(x_data.shape[1])]\n",
        "VIF = VIF.set_index('variables').drop(index = 'intercept').T\n",
        "VIF"
      ],
      "execution_count": null,
      "outputs": []
    },
    {
      "cell_type": "code",
      "metadata": {
        "id": "Ej5Hkcuk8tlS"
      },
      "source": [
        "# identify the variables Using VIF \n",
        "drop_cols = ['MEDV', 'TAX','NOX']\n",
        "x_data = train.drop(columns= drop_cols)\n",
        "x_data['intercept'] = 1\n",
        "VIF = pd.DataFrame()\n",
        "VIF['variables'] = x_data.columns\n",
        "VIF['VIF'] = [vif(x_data.values, i) for i in range(x_data.shape[1])]\n",
        "VIF = VIF.set_index('variables').drop(index = 'intercept').T\n",
        "VIF"
      ],
      "execution_count": null,
      "outputs": []
    },
    {
      "cell_type": "code",
      "metadata": {
        "id": "hKt_UG988tlS"
      },
      "source": [
        "# Model Dev - Post MultiCollinearity Treatment\n",
        "drop_cols = ['MEDV', 'TAX','NOX']\n",
        "form =   'MEDV ~ '+ ' + '.join(train.drop(columns = drop_cols))\n",
        "print(form)\n",
        "mod_lm =ols(form, data = train).fit()\n",
        "mod_lm.summary()"
      ],
      "execution_count": null,
      "outputs": []
    },
    {
      "cell_type": "code",
      "metadata": {
        "scrolled": true,
        "id": "7zZUfFUb8tlS"
      },
      "source": [
        "# Model Dev - Iterations\n",
        "drop_cols = ['MEDV', 'TAX','NOX','AGE']\n",
        "form =   'MEDV ~ '+ ' + '.join(train.drop(columns = drop_cols))\n",
        "print(form)\n",
        "mod_lm =ols(form, data = train).fit()\n",
        "mod_lm.summary()"
      ],
      "execution_count": null,
      "outputs": []
    },
    {
      "cell_type": "code",
      "metadata": {
        "scrolled": false,
        "id": "AvodQTL78tlS"
      },
      "source": [
        "# Model Dev - Iterations\n",
        "drop_cols = ['MEDV', 'TAX','NOX','AGE','RAD']\n",
        "form =   'MEDV ~ '+ ' + '.join(train.drop(columns = drop_cols))\n",
        "print(form)\n",
        "mod_lm =ols(form, data = train).fit()\n",
        "mod_lm.summary()"
      ],
      "execution_count": null,
      "outputs": []
    },
    {
      "cell_type": "markdown",
      "metadata": {
        "id": "F-2_jcWT8tlT"
      },
      "source": [
        "### Final Model"
      ]
    },
    {
      "cell_type": "code",
      "metadata": {
        "id": "X78On3SR8tlT"
      },
      "source": [
        "form"
      ],
      "execution_count": null,
      "outputs": []
    },
    {
      "cell_type": "code",
      "metadata": {
        "scrolled": false,
        "id": "K_PifiQW8tlT"
      },
      "source": [
        "# final model\n",
        "mod_lm = ols('MEDV ~ CRIM + ZN + INDUS + CHAS + RM + DIS + PTRATIO + B + LSTAT', data = train).fit()\n",
        "mod_lm.summary()"
      ],
      "execution_count": null,
      "outputs": []
    },
    {
      "cell_type": "code",
      "metadata": {
        "id": "m3flr1a98tlT"
      },
      "source": [
        "train"
      ],
      "execution_count": null,
      "outputs": []
    },
    {
      "cell_type": "markdown",
      "metadata": {
        "id": "pTm1_ds_8tlU"
      },
      "source": [
        "## Model Interpretability [Bonus]\n",
        "\n",
        "So far we have simply been predicting the values using the linear regression, But in order to Interpret the model, the normalising of the data is essential."
      ]
    },
    {
      "cell_type": "code",
      "metadata": {
        "id": "QHFzGYlO8tlU"
      },
      "source": [
        "from sklearn.linear_model import LinearRegression\n",
        "\n",
        "# create a model object [instance of Linear Regresssion]\n",
        "lm = LinearRegression(normalize = True)\n",
        "\n",
        "# Fitting the model\n",
        "lm.fit(train.drop(['MEDV', 'TAX','NOX','AGE','RAD'],axis=1), train[\"MEDV\"])"
      ],
      "execution_count": null,
      "outputs": []
    },
    {
      "cell_type": "code",
      "metadata": {
        "id": "Td6B0AG98tlU"
      },
      "source": [
        "lm.score(train.drop(['MEDV', 'TAX','NOX','AGE','RAD'],axis=1), train[\"MEDV\"])"
      ],
      "execution_count": null,
      "outputs": []
    },
    {
      "cell_type": "code",
      "metadata": {
        "id": "Py3lMPXa8tlU"
      },
      "source": [
        "fitted = lm.predict(train.drop(['MEDV', 'TAX','NOX','AGE','RAD'],axis=1))\n",
        "#resid = lm.predict(X)"
      ],
      "execution_count": null,
      "outputs": []
    },
    {
      "cell_type": "code",
      "metadata": {
        "scrolled": true,
        "id": "bG5dp4Zp8tlU"
      },
      "source": [
        "### Training Data\n",
        "## 1. MSE\n",
        "print(\"MSE  - \",mse(y_true = train.MEDV, y_pred = fitted, squared = True).round(1))\n",
        "## 2. RMSE\n",
        "print(\"RSME - \" ,mse(y_true = train.MEDV, y_pred = fitted, squared = False).round(1))"
      ],
      "execution_count": null,
      "outputs": []
    },
    {
      "cell_type": "code",
      "metadata": {
        "id": "r8iulQPD8tlV"
      },
      "source": [
        "plt.figure(figsize=(8, 6), dpi=120, facecolor='w', edgecolor='b')\n",
        "x = train.drop(['MEDV', 'TAX','NOX','AGE','RAD'],axis=1).columns\n",
        "y = lm.coef_\n",
        "plt.bar( x, y )\n",
        "plt.xlabel( \"Variables\")\n",
        "plt.ylabel('Coefficients')\n",
        "plt.title('Normalized Coefficient plot');"
      ],
      "execution_count": null,
      "outputs": []
    }
  ]
}