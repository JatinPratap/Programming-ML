{
 "cells": [
  {
   "cell_type": "code",
   "execution_count": 1,
   "metadata": {
    "ExecuteTime": {
     "end_time": "2021-08-14T11:37:00.696395Z",
     "start_time": "2021-08-14T11:36:54.239469Z"
    },
    "id": "TBw9OCYcYQ_n"
   },
   "outputs": [],
   "source": [
    "from gensim.models import Word2Vec\n",
    "\n",
    "import warnings\n",
    "warnings.filterwarnings('ignore')"
   ]
  },
  {
   "cell_type": "code",
   "execution_count": 2,
   "metadata": {
    "ExecuteTime": {
     "end_time": "2021-08-14T11:37:00.711561Z",
     "start_time": "2021-08-14T11:37:00.696395Z"
    },
    "code_folding": [],
    "id": "5qWptd54ZcfV"
   },
   "outputs": [],
   "source": [
    "# define training data\n",
    "#Genism word2vec requires that a format of ‘list of lists’ be provided for training where every document contained in a list.\n",
    "#Every list contains lists of tokens of that document.\n",
    "\n",
    "corpus = [['dog','bites','man'], [\"man\", \"bites\" ,\"dog\"],[\"dog\",\"eats\",\"meat\"],[\"man\", \"eats\",\"food\"]]\n",
    "\n",
    "\n",
    "# corpus = [ ['Welcome','to','Institute'],\n",
    "#              ['Institute','offers','NLP', 'ML', 'DL', 'and' , 'other', 'courses'],\n",
    "#              ['Institute','is','best'],\n",
    "#              ['Become','Data','Scientist'],\n",
    "#              ['Data','Engineer'],['Become','Data','Scientist']\n",
    "# ]"
   ]
  },
  {
   "cell_type": "code",
   "execution_count": 3,
   "metadata": {
    "ExecuteTime": {
     "end_time": "2021-08-14T11:37:00.752582Z",
     "start_time": "2021-08-14T11:37:00.712435Z"
    },
    "id": "5qWptd54ZcfV"
   },
   "outputs": [],
   "source": [
    "#Training the model\n",
    "\n",
    "model_cbow = Word2Vec(corpus, min_count = 1 , window = 5 , sg = 0) #using CBOW Architecture for trainnig\n",
    "model_skipgram = Word2Vec(corpus, min_count = 1 , window = 5 , sg = 1) #using skipGram Architecture for training "
   ]
  },
  {
   "cell_type": "markdown",
   "metadata": {
    "id": "0QjSxefPl4mh"
   },
   "source": [
    "## Continuous Bag of Words (CBOW) \n",
    "In CBOW, the primary task is to build a language model that correctly predicts the center word given the context words in which the center word appears."
   ]
  },
  {
   "cell_type": "code",
   "execution_count": 5,
   "metadata": {
    "ExecuteTime": {
     "end_time": "2021-08-14T11:39:08.670055Z",
     "start_time": "2021-08-14T11:39:08.651631Z"
    },
    "colab": {
     "base_uri": "https://localhost:8080/",
     "height": 486
    },
    "id": "nyZY8ME4lUjd",
    "outputId": "bd00e825-c11a-4b36-dbf5-80f32c659956",
    "run_control": {
     "marked": false
    }
   },
   "outputs": [
    {
     "name": "stdout",
     "output_type": "stream",
     "text": [
      "Word2Vec(vocab=6, size=100, alpha=0.025)\n",
      "['dog', 'bites', 'man', 'eats', 'meat', 'food']\n",
      "[-1.8140409e-03 -1.1546359e-03  2.0322914e-03  3.6108634e-03\n",
      "  4.1437033e-03  1.5523999e-03  2.0660039e-03  2.2283453e-03\n",
      "  3.9095380e-03 -2.7714267e-03 -9.1337046e-04 -2.2733877e-03\n",
      " -4.7801342e-03 -3.7386764e-03  2.8709029e-03  3.1070537e-03\n",
      "  1.8857633e-03  3.9376193e-03  1.5002830e-03  1.3047457e-03\n",
      "  3.8127911e-03  4.5310152e-03  3.4683398e-03  2.4420738e-03\n",
      "  2.2986128e-03  2.5955685e-03  1.0069581e-03  3.0558193e-03\n",
      "  2.7589421e-03  2.5718526e-03  3.8469320e-03 -2.4398172e-03\n",
      "  4.6796147e-03  3.0315136e-05  2.2213701e-03  2.4019706e-03\n",
      "  2.4296385e-03 -1.0083942e-03 -3.2379993e-03  2.0617321e-03\n",
      "  2.1031422e-04  3.7714436e-03 -5.8251602e-04  6.7748385e-04\n",
      " -3.0885398e-04 -2.2630543e-03  3.2968216e-03  4.2547677e-03\n",
      "  4.0373872e-03 -2.7711359e-03  4.2369673e-03  3.7075207e-03\n",
      "  3.6331946e-03  1.9568903e-03  3.5395531e-04  4.0076878e-03\n",
      "  4.1077654e-03 -3.5696574e-03  4.0074284e-03 -1.5351803e-04\n",
      " -3.9155078e-03  2.7229411e-03 -3.4646827e-03 -1.1777459e-03\n",
      "  2.8566611e-03  1.4820286e-03  2.5075758e-03  1.3390512e-04\n",
      "  2.2004889e-03  3.4847257e-03  2.3335458e-03  4.3996340e-03\n",
      "  1.3612080e-03  4.4937688e-03  3.3973784e-03  3.0697526e-03\n",
      " -2.0015673e-03 -3.8119729e-03 -2.1913589e-03  2.5746804e-03\n",
      "  1.7609248e-03  1.1444623e-03 -1.0404758e-03 -9.6407108e-04\n",
      "  2.5354102e-03 -2.6215629e-03 -2.4714114e-03 -3.6141186e-04\n",
      " -3.0085088e-03  1.8172553e-03 -9.5155195e-04  8.1373309e-04\n",
      "  4.6417690e-03  1.4828115e-03 -4.8877411e-03 -2.4123266e-03\n",
      "  1.4230153e-03  4.0877773e-03 -1.8928233e-03  5.3490483e-04]\n"
     ]
    }
   ],
   "source": [
    "#Summarize the loaded model\n",
    "print(model_cbow)\n",
    "\n",
    "# words = list(model_cbow.wv.key_to_index) # for latest version\n",
    "words = list(model_cbow.wv.vocab) # for 3.8.3\n",
    "\n",
    "print(words)\n",
    "\n",
    "#Acess vector for one word\n",
    "print(model_cbow.wv['dog'])"
   ]
  },
  {
   "cell_type": "code",
   "execution_count": 6,
   "metadata": {
    "ExecuteTime": {
     "end_time": "2021-08-14T11:39:13.289055Z",
     "start_time": "2021-08-14T11:39:13.266666Z"
    },
    "colab": {
     "base_uri": "https://localhost:8080/",
     "height": 52
    },
    "id": "gMuHv52GeuoR",
    "outputId": "b498032d-6f9d-485b-a3cc-5a21300bfb06"
   },
   "outputs": [
    {
     "name": "stdout",
     "output_type": "stream",
     "text": [
      "Similarity between eats and bites: -0.044878237\n",
      "Similarity between eats and man: -0.2203236\n"
     ]
    }
   ],
   "source": [
    "#Compute similarity \n",
    "print(\"Similarity between eats and bites:\",model_cbow.wv.similarity('eats', 'bites'))\n",
    "print(\"Similarity between eats and man:\",model_cbow.wv.similarity('eats', 'man'))"
   ]
  },
  {
   "cell_type": "code",
   "execution_count": 7,
   "metadata": {
    "ExecuteTime": {
     "end_time": "2021-08-14T11:39:13.951124Z",
     "start_time": "2021-08-14T11:39:13.927755Z"
    }
   },
   "outputs": [
    {
     "data": {
      "text/plain": [
       "[('eats', -0.07127087563276291)]"
      ]
     },
     "execution_count": 7,
     "metadata": {},
     "output_type": "execute_result"
    }
   ],
   "source": [
    "# model.most_similar(positive=['woman', 'king'], negative=['man'], topn=1)\n",
    "# [('queen', 0.50882536)]\n",
    "\n",
    "model_cbow.wv.most_similar(positive = ['man', 'dog'], negative = ['bites'], topn = 1)"
   ]
  },
  {
   "cell_type": "code",
   "execution_count": 8,
   "metadata": {
    "ExecuteTime": {
     "end_time": "2021-08-14T11:39:14.642150Z",
     "start_time": "2021-08-14T11:39:14.634154Z"
    }
   },
   "outputs": [
    {
     "data": {
      "text/plain": [
       "[('man', 0.1134822890162468),\n",
       " ('food', 0.05453203618526459),\n",
       " ('meat', 0.051341038197278976),\n",
       " ('dog', -0.007848349399864674),\n",
       " ('eats', -0.04487825185060501)]"
      ]
     },
     "execution_count": 8,
     "metadata": {},
     "output_type": "execute_result"
    }
   ],
   "source": [
    "# look up top 5 words similar to 'bites'\n",
    "model_cbow.wv.most_similar('bites', topn = 5)"
   ]
  },
  {
   "cell_type": "markdown",
   "metadata": {
    "id": "twhTZfPOezTU"
   },
   "source": [
    "From the above similarity scores we can conclude that eats is more similar to bites than man."
   ]
  },
  {
   "cell_type": "code",
   "execution_count": 9,
   "metadata": {
    "ExecuteTime": {
     "end_time": "2021-08-14T11:39:16.310028Z",
     "start_time": "2021-08-14T11:39:16.302032Z"
    },
    "colab": {
     "base_uri": "https://localhost:8080/",
     "height": 34
    },
    "id": "WA783nrSalgs",
    "outputId": "80d6e23f-2bed-47d7-f925-4aaa87ec5f9e"
   },
   "outputs": [],
   "source": [
    "# # save model\n",
    "# model_cbow.save('model_cbow.bin')\n",
    "\n",
    "# # load model\n",
    "# new_model_cbow = Word2Vec.load('model_cbow.bin')\n",
    "# print(new_model_cbow)"
   ]
  },
  {
   "cell_type": "markdown",
   "metadata": {
    "id": "deReLSI7mQyr"
   },
   "source": [
    "## SkipGram\n",
    "In skipgram, the task is to predict the context words from the center word."
   ]
  },
  {
   "cell_type": "code",
   "execution_count": 10,
   "metadata": {
    "ExecuteTime": {
     "end_time": "2021-08-14T11:40:00.603998Z",
     "start_time": "2021-08-14T11:40:00.591097Z"
    },
    "colab": {
     "base_uri": "https://localhost:8080/",
     "height": 486
    },
    "id": "9QtUtsLglvY0",
    "outputId": "6d19902b-66aa-4b0f-9f12-be18f37d40d1"
   },
   "outputs": [
    {
     "name": "stdout",
     "output_type": "stream",
     "text": [
      "Word2Vec(vocab=6, size=100, alpha=0.025)\n",
      "['dog', 'bites', 'man', 'eats', 'meat', 'food']\n",
      "[-1.8140409e-03 -1.1546359e-03  2.0322914e-03  3.6108634e-03\n",
      "  4.1437033e-03  1.5523999e-03  2.0660039e-03  2.2283453e-03\n",
      "  3.9095380e-03 -2.7714267e-03 -9.1337046e-04 -2.2733877e-03\n",
      " -4.7801342e-03 -3.7386764e-03  2.8709029e-03  3.1070537e-03\n",
      "  1.8857633e-03  3.9376193e-03  1.5002830e-03  1.3047457e-03\n",
      "  3.8127911e-03  4.5310152e-03  3.4683398e-03  2.4420738e-03\n",
      "  2.2986128e-03  2.5955685e-03  1.0069581e-03  3.0558193e-03\n",
      "  2.7589421e-03  2.5718526e-03  3.8469320e-03 -2.4398172e-03\n",
      "  4.6796147e-03  3.0315136e-05  2.2213701e-03  2.4019706e-03\n",
      "  2.4296385e-03 -1.0083942e-03 -3.2379993e-03  2.0617321e-03\n",
      "  2.1031422e-04  3.7714436e-03 -5.8251602e-04  6.7748385e-04\n",
      " -3.0885398e-04 -2.2630543e-03  3.2968216e-03  4.2547677e-03\n",
      "  4.0373872e-03 -2.7711359e-03  4.2369673e-03  3.7075207e-03\n",
      "  3.6331946e-03  1.9568903e-03  3.5395531e-04  4.0076878e-03\n",
      "  4.1077654e-03 -3.5696574e-03  4.0074284e-03 -1.5351803e-04\n",
      " -3.9155078e-03  2.7229411e-03 -3.4646827e-03 -1.1777459e-03\n",
      "  2.8566611e-03  1.4820286e-03  2.5075758e-03  1.3390512e-04\n",
      "  2.2004889e-03  3.4847257e-03  2.3335458e-03  4.3996340e-03\n",
      "  1.3612080e-03  4.4937688e-03  3.3973784e-03  3.0697526e-03\n",
      " -2.0015673e-03 -3.8119729e-03 -2.1913589e-03  2.5746804e-03\n",
      "  1.7609248e-03  1.1444623e-03 -1.0404758e-03 -9.6407108e-04\n",
      "  2.5354102e-03 -2.6215629e-03 -2.4714114e-03 -3.6141186e-04\n",
      " -3.0085088e-03  1.8172553e-03 -9.5155195e-04  8.1373309e-04\n",
      "  4.6417690e-03  1.4828115e-03 -4.8877411e-03 -2.4123266e-03\n",
      "  1.4230153e-03  4.0877773e-03 -1.8928233e-03  5.3490483e-04]\n"
     ]
    }
   ],
   "source": [
    "#Summarize the loaded model\n",
    "print(model_skipgram)\n",
    "\n",
    "#Summarize vocabulary\n",
    "# words = list(model_skipgram.wv.key_to_index) # for latest version\n",
    "words = list(model_skipgram.wv.vocab) # for 3.8.3\n",
    "print(words)\n",
    "\n",
    "#Acess vector for one word\n",
    "print(model_skipgram.wv['dog'])"
   ]
  },
  {
   "cell_type": "code",
   "execution_count": 11,
   "metadata": {
    "ExecuteTime": {
     "end_time": "2021-08-14T11:40:01.390199Z",
     "start_time": "2021-08-14T11:40:01.375300Z"
    },
    "colab": {
     "base_uri": "https://localhost:8080/",
     "height": 52
    },
    "id": "8YUsblEOfFWf",
    "outputId": "14cd759c-d5fc-465f-ed20-8fd1a1949168"
   },
   "outputs": [
    {
     "name": "stdout",
     "output_type": "stream",
     "text": [
      "Similarity between eats and bites: -0.044882134\n",
      "Similarity between eats and man: -0.22032067\n"
     ]
    }
   ],
   "source": [
    "#Compute similarity \n",
    "print(\"Similarity between eats and bites:\",model_skipgram.wv.similarity('eats', 'bites'))\n",
    "print(\"Similarity between eats and man:\",model_skipgram.wv.similarity('eats', 'man'))"
   ]
  },
  {
   "cell_type": "markdown",
   "metadata": {
    "id": "gdXVDePKnBpv"
   },
   "source": [
    "From the above similarity scores we can conclude that eats is more similar to bites than man."
   ]
  },
  {
   "cell_type": "code",
   "execution_count": 12,
   "metadata": {
    "ExecuteTime": {
     "end_time": "2021-08-14T11:40:02.830329Z",
     "start_time": "2021-08-14T11:40:02.822330Z"
    },
    "colab": {
     "base_uri": "https://localhost:8080/",
     "height": 104
    },
    "id": "lpF4qtwpmuM3",
    "outputId": "f3bc68f6-3768-4a4d-e5bc-bb3dff6f654f"
   },
   "outputs": [
    {
     "data": {
      "text/plain": [
       "[('food', 0.0570247583091259),\n",
       " ('bites', 0.05134103074669838),\n",
       " ('eats', -0.02154838666319847),\n",
       " ('man', -0.0333634577691555),\n",
       " ('dog', -0.17783543467521667)]"
      ]
     },
     "execution_count": 12,
     "metadata": {},
     "output_type": "execute_result"
    }
   ],
   "source": [
    "#Most similarity\n",
    "model_skipgram.wv.most_similar('meat')"
   ]
  },
  {
   "cell_type": "code",
   "execution_count": 13,
   "metadata": {
    "ExecuteTime": {
     "end_time": "2021-08-14T11:40:03.359652Z",
     "start_time": "2021-08-14T11:40:03.355675Z"
    },
    "colab": {
     "base_uri": "https://localhost:8080/",
     "height": 34
    },
    "id": "aNDCEXRTnAnj",
    "outputId": "402f77b6-0625-4b37-e135-3650df626007"
   },
   "outputs": [],
   "source": [
    "# # save model\n",
    "# model_skipgram.save('model_skipgram.bin')\n",
    "\n",
    "# # load model\n",
    "# new_model_skipgram = Word2Vec.load('model_skipgram.bin')\n",
    "# print(model_skipgram)"
   ]
  },
  {
   "cell_type": "code",
   "execution_count": 16,
   "metadata": {
    "ExecuteTime": {
     "end_time": "2021-08-14T11:40:35.492730Z",
     "start_time": "2021-08-14T11:40:34.576108Z"
    }
   },
   "outputs": [
    {
     "data": {
      "image/png": "[encoded data removed]",
      "text/plain": [
       "<Figure size 864x504 with 1 Axes>"
      ]
     },
     "metadata": {
      "needs_background": "light"
     },
     "output_type": "display_data"
    }
   ],
   "source": [
    "import matplotlib.pyplot as plt\n",
    "%matplotlib inline\n",
    "\n",
    "from sklearn.decomposition import PCA\n",
    "pca = PCA(n_components = 2)\n",
    "\n",
    "\n",
    "X = model_skipgram.wv.vectors\n",
    "result = pca.fit_transform(X)\n",
    "# words = list(model_skipgram.wv.key_to_index) # for latest version\n",
    "words = list(model_skipgram.wv.vocab) # for 3.8.3\n",
    "\n",
    "\n",
    "fif = plt.figure(figsize = (12,7))\n",
    "plt.scatter(result[:,0], result[:,1])\n",
    "\n",
    "for i,w in enumerate(words):\n",
    "    plt.annotate(w, xy = (result[i,0], result[i,1]) ,)\n",
    "    \n",
    "plt.show()"
   ]
  },
  {
   "cell_type": "markdown",
   "metadata": {},
   "source": [
    "# Existing Model"
   ]
  },
  {
   "cell_type": "code",
   "execution_count": 17,
   "metadata": {
    "ExecuteTime": {
     "end_time": "2021-08-14T12:39:33.796004Z",
     "start_time": "2021-08-14T12:39:33.067076Z"
    }
   },
   "outputs": [
    {
     "name": "stdout",
     "output_type": "stream",
     "text": [
      "fasttext-wiki-news-subwords-300\n",
      "conceptnet-numberbatch-17-06-300\n",
      "word2vec-ruscorpora-300\n",
      "word2vec-google-news-300\n",
      "glove-wiki-gigaword-50\n",
      "glove-wiki-gigaword-100\n",
      "glove-wiki-gigaword-200\n",
      "glove-wiki-gigaword-300\n",
      "glove-twitter-25\n",
      "glove-twitter-50\n",
      "glove-twitter-100\n",
      "glove-twitter-200\n",
      "__testing_word2vec-matrix-synopsis\n"
     ]
    }
   ],
   "source": [
    "import gensim.downloader\n",
    "\n",
    "# Show all available models in gensim-data\n",
    "for i in list(gensim.downloader.info()['models'].keys()):\n",
    "    print(i)"
   ]
  },
  {
   "cell_type": "code",
   "execution_count": null,
   "metadata": {},
   "outputs": [],
   "source": [
    "# # Download the \"glove-twitter-25\" embeddings\n",
    "# glove_vectors = gensim.downloader.load('glove-twitter-25')\n",
    "\n",
    "# # Use the downloaded vectors as usual:\n",
    "# glove_vectors.most_similar('twitter')"
   ]
  },
  {
   "cell_type": "code",
   "execution_count": null,
   "metadata": {},
   "outputs": [],
   "source": [
    "# google news model\n",
    "\n",
    "# https://drive.google.com/file/d/0B7XkCwpI5KDYNlNUTTlSS21pQmM"
   ]
  }
 ],
 "metadata": {
  "colab": {
   "collapsed_sections": [],
   "machine_shape": "hm",
   "name": "Training_embeddings_using_gensim.ipynb",
   "provenance": []
  },
  "kernelspec": {
   "display_name": "Python 3",
   "language": "python",
   "name": "python3"
  },
  "language_info": {
   "codemirror_mode": {
    "name": "ipython",
    "version": 3
   },
   "file_extension": ".py",
   "mimetype": "text/x-python",
   "name": "python",
   "nbconvert_exporter": "python",
   "pygments_lexer": "ipython3",
   "version": "3.8.3"
  },
  "varInspector": {
   "cols": {
    "lenName": 16,
    "lenType": 16,
    "lenVar": 40
   },
   "kernels_config": {
    "python": {
     "delete_cmd_postfix": "",
     "delete_cmd_prefix": "del ",
     "library": "var_list.py",
     "varRefreshCmd": "print(var_dic_list())"
    },
    "r": {
     "delete_cmd_postfix": ") ",
     "delete_cmd_prefix": "rm(",
     "library": "var_list.r",
     "varRefreshCmd": "cat(var_dic_list()) "
    }
   },
   "types_to_exclude": [
    "module",
    "function",
    "builtin_function_or_method",
    "instance",
    "_Feature"
   ],
   "window_display": false
  }
 },
 "nbformat": 4,
 "nbformat_minor": 1
}
